{
 "cells": [
  {
   "cell_type": "markdown",
   "id": "9359933b",
   "metadata": {},
   "source": [
    "To download the `opendatasets` library used for data acquisition, run the following cell:\n",
    "\n",
    "```shell\n",
    "pip install opendatasets --upgrade\n",
    "```"
   ]
  },
  {
   "cell_type": "code",
   "execution_count": 1,
   "id": "aa2760d7",
   "metadata": {
    "ExecuteTime": {
     "end_time": "2022-02-15T00:59:40.551153Z",
     "start_time": "2022-02-15T00:59:16.608335Z"
    }
   },
   "outputs": [
    {
     "name": "stdout",
     "output_type": "stream",
     "text": [
      "Please provide your Kaggle credentials to download this dataset. Learn more: http://bit.ly/kaggle-creds\n",
      "Your Kaggle username: prannayagupta\n",
      "Your Kaggle Key: ········\n",
      "Downloading comprehensiondatas.zip to .\\comprehensiondatas\n"
     ]
    },
    {
     "name": "stderr",
     "output_type": "stream",
     "text": [
      "100%|█████████████████████████████████| 9.78k/9.78k [00:00<00:00, 5.03MB/s]"
     ]
    },
    {
     "name": "stdout",
     "output_type": "stream",
     "text": [
      "\n"
     ]
    },
    {
     "name": "stderr",
     "output_type": "stream",
     "text": [
      "\n"
     ]
    },
    {
     "name": "stdout",
     "output_type": "stream",
     "text": [
      "comprehensiondatas\n",
      "HuggingFaceTransformers.ipynb\n",
      "Preprocessing.ipynb\n"
     ]
    }
   ],
   "source": [
    "import opendatasets as od\n",
    "od.download('https://www.kaggle.com/gbemikeolowe/comprehensiondatas')\n",
    "!ls"
   ]
  },
  {
   "cell_type": "code",
   "execution_count": 36,
   "id": "b3332c68",
   "metadata": {
    "ExecuteTime": {
     "end_time": "2022-02-15T01:29:34.157263Z",
     "start_time": "2022-02-15T01:27:45.655226Z"
    }
   },
   "outputs": [
    {
     "name": "stdout",
     "output_type": "stream",
     "text": [
      "Please provide your Kaggle credentials to download this dataset. Learn more: http://bit.ly/kaggle-creds\n",
      "Your Kaggle username: prannayagupta\n",
      "Your Kaggle Key: ········\n",
      "Downloading asap-aes.zip to .\\asap-aes\n"
     ]
    },
    {
     "name": "stderr",
     "output_type": "stream",
     "text": [
      "100%|██████████████████████████████████| 78.8M/78.8M [01:30<00:00, 908kB/s]\n"
     ]
    },
    {
     "name": "stdout",
     "output_type": "stream",
     "text": [
      "\n",
      "Extracting archive .\\asap-aes/asap-aes.zip to .\\asap-aes\n"
     ]
    }
   ],
   "source": [
    "od.download(\"https://www.kaggle.com/c/asap-aes\")"
   ]
  },
  {
   "cell_type": "code",
   "execution_count": 37,
   "id": "71edbb62",
   "metadata": {
    "ExecuteTime": {
     "end_time": "2022-02-15T01:30:14.110644Z",
     "start_time": "2022-02-15T01:29:34.210877Z"
    }
   },
   "outputs": [
    {
     "name": "stdout",
     "output_type": "stream",
     "text": [
      "Please provide your Kaggle credentials to download this dataset. Learn more: http://bit.ly/kaggle-creds\n",
      "Your Kaggle username: prannayagupta\n",
      "Your Kaggle Key: ········\n",
      "Downloading feedback-prize-2021.zip to .\\feedback-prize-2021\n"
     ]
    },
    {
     "name": "stderr",
     "output_type": "stream",
     "text": [
      "100%|█████████████████████████████████| 32.4M/32.4M [00:15<00:00, 2.23MB/s]\n"
     ]
    },
    {
     "name": "stdout",
     "output_type": "stream",
     "text": [
      "\n",
      "Extracting archive .\\feedback-prize-2021/feedback-prize-2021.zip to .\\feedback-prize-2021\n"
     ]
    }
   ],
   "source": [
    "od.download(\"https://www.kaggle.com/c/feedback-prize-2021\")"
   ]
  },
  {
   "cell_type": "code",
   "execution_count": 51,
   "id": "503c95cd",
   "metadata": {
    "ExecuteTime": {
     "end_time": "2022-02-15T01:33:33.390961Z",
     "start_time": "2022-02-15T01:33:33.022281Z"
    }
   },
   "outputs": [
    {
     "name": "stdout",
     "output_type": "stream",
     "text": [
      "+---asap-aes\n",
      "¦       Essay_Set_Descriptions.zip\n",
      "¦       test_set.tsv\n",
      "¦       Training_Materials.zip\n",
      "¦       training_set_rel3.tsv\n",
      "¦       training_set_rel3.xls\n",
      "¦       training_set_rel3.xlsx\n",
      "¦       valid_sample_submission_1_column.csv\n",
      "¦       valid_sample_submission_1_column_no_header.csv\n",
      "¦       valid_sample_submission_2_column.csv\n",
      "¦       valid_sample_submission_5_column.csv\n",
      "¦       valid_set.tsv\n",
      "¦       valid_set.xls\n",
      "¦       valid_set.xlsx\n",
      "¦       \n",
      "+---comprehensiondatas\n",
      "¦       ProjectData2.csv\n",
      "¦       \n",
      "+---feedback-prize-2021\n",
      "    ¦   sample_submission.csv\n",
      "    ¦   train.csv\n",
      "    ¦   \n",
      "    +---test\n",
      "    ¦       0FB0700DAF44.txt\n",
      "    ¦       18409261F5C2.txt\n",
      "    ¦       D46BCB48440A.txt\n",
      "    ¦       D72CB1C11673.txt\n",
      "    ¦       DF920E0A7337.txt\n",
      "    ¦       \n",
      "    +---train\n",
      "            0000D23A521A.txt\n",
      "            00066EA9880D.txt\n",
      "            000E6DE9E817.txt\n",
      "            001552828BD0.txt\n"
     ]
    },
    {
     "name": "stderr",
     "output_type": "stream",
     "text": [
      "cat: write error: No space left on device\n"
     ]
    }
   ],
   "source": [
    "!tree /f > dataset.txt\n",
    "!cat dataset.txt | head -n 45 | tail -n 34"
   ]
  },
  {
   "cell_type": "code",
   "execution_count": null,
   "id": "ac0ce992",
   "metadata": {},
   "outputs": [],
   "source": []
  },
  {
   "cell_type": "code",
   "execution_count": 3,
   "id": "a6668410",
   "metadata": {
    "ExecuteTime": {
     "end_time": "2022-02-15T01:00:43.448545Z",
     "start_time": "2022-02-15T01:00:42.513988Z"
    }
   },
   "outputs": [],
   "source": [
    "import pandas as pd"
   ]
  },
  {
   "cell_type": "code",
   "execution_count": 10,
   "id": "f3a991cd",
   "metadata": {
    "ExecuteTime": {
     "end_time": "2022-02-15T01:07:07.812271Z",
     "start_time": "2022-02-15T01:07:07.793292Z"
    }
   },
   "outputs": [
    {
     "data": {
      "text/html": [
       "<div>\n",
       "<style scoped>\n",
       "    .dataframe tbody tr th:only-of-type {\n",
       "        vertical-align: middle;\n",
       "    }\n",
       "\n",
       "    .dataframe tbody tr th {\n",
       "        vertical-align: top;\n",
       "    }\n",
       "\n",
       "    .dataframe thead th {\n",
       "        text-align: right;\n",
       "    }\n",
       "</style>\n",
       "<table border=\"1\" class=\"dataframe\">\n",
       "  <thead>\n",
       "    <tr style=\"text-align: right;\">\n",
       "      <th></th>\n",
       "      <th>Comprehension</th>\n",
       "      <th>Questions</th>\n",
       "      <th>Marking Scheme</th>\n",
       "      <th>Student Response</th>\n",
       "      <th>Answer Rating</th>\n",
       "    </tr>\n",
       "  </thead>\n",
       "  <tbody>\n",
       "    <tr>\n",
       "      <th>0</th>\n",
       "      <td>The inner shell is used as an abrasive to clea...</td>\n",
       "      <td>As used in the passage, the underlined word ab...</td>\n",
       "      <td>Something that is abrasive is rough or coarse,...</td>\n",
       "      <td>rough</td>\n",
       "      <td>1</td>\n",
       "    </tr>\n",
       "    <tr>\n",
       "      <th>1</th>\n",
       "      <td>The inner shell is used as an abrasive to clea...</td>\n",
       "      <td>As used in the passage, the underlined word ab...</td>\n",
       "      <td>Something that is abrasive is rough or coarse,...</td>\n",
       "      <td>soft</td>\n",
       "      <td>0</td>\n",
       "    </tr>\n",
       "    <tr>\n",
       "      <th>2</th>\n",
       "      <td>Walnut trees exude a chemical into the soil ne...</td>\n",
       "      <td>As used in the passage, the underlined word ex...</td>\n",
       "      <td>To exude is to exhale or to give off, the way ...</td>\n",
       "      <td>leave the area</td>\n",
       "      <td>0</td>\n",
       "    </tr>\n",
       "    <tr>\n",
       "      <th>3</th>\n",
       "      <td>Walnut trees exude a chemical into the soil ne...</td>\n",
       "      <td>As used in the passage, the underlined word ex...</td>\n",
       "      <td>To exude is to exhale or to give off, the way ...</td>\n",
       "      <td>exhale</td>\n",
       "      <td>1</td>\n",
       "    </tr>\n",
       "    <tr>\n",
       "      <th>4</th>\n",
       "      <td>Ten years later, James Starley, an English inv...</td>\n",
       "      <td>The first person to use a gear system on bicyc...</td>\n",
       "      <td>James Starley added a gear to the pedals.</td>\n",
       "      <td>Kirkpatrick Macmillan</td>\n",
       "      <td>1</td>\n",
       "    </tr>\n",
       "    <tr>\n",
       "      <th>...</th>\n",
       "      <td>...</td>\n",
       "      <td>...</td>\n",
       "      <td>...</td>\n",
       "      <td>...</td>\n",
       "      <td>...</td>\n",
       "    </tr>\n",
       "    <tr>\n",
       "      <th>113</th>\n",
       "      <td>The fact is that Abraham Lincoln educated hims...</td>\n",
       "      <td>A voracious reader is</td>\n",
       "      <td>A Frequent reader of books</td>\n",
       "      <td>likely to become President.</td>\n",
       "      <td>1</td>\n",
       "    </tr>\n",
       "    <tr>\n",
       "      <th>114</th>\n",
       "      <td>The fact is that Abraham Lincoln educated hims...</td>\n",
       "      <td>According to the passage, what lesson can be l...</td>\n",
       "      <td>Good reading habits can help a person do great...</td>\n",
       "      <td>Good reading habits can help a person do great...</td>\n",
       "      <td>1</td>\n",
       "    </tr>\n",
       "    <tr>\n",
       "      <th>115</th>\n",
       "      <td>The fact is that Abraham Lincoln educated hims...</td>\n",
       "      <td>According to the passage, what lesson can be l...</td>\n",
       "      <td>Good reading habits can help a person do great...</td>\n",
       "      <td>Politicians are always good role models.</td>\n",
       "      <td>0</td>\n",
       "    </tr>\n",
       "    <tr>\n",
       "      <th>116</th>\n",
       "      <td>Lincolns determination to educate himself thr...</td>\n",
       "      <td>How does Lincoln still affect students today?</td>\n",
       "      <td>Lincolns determination to educate himself thr...</td>\n",
       "      <td>His speeches are still quoted and studied today.</td>\n",
       "      <td>1</td>\n",
       "    </tr>\n",
       "    <tr>\n",
       "      <th>117</th>\n",
       "      <td>Lincolns determination to educate himself thr...</td>\n",
       "      <td>How does Lincoln still affect students today?</td>\n",
       "      <td>Lincolns determination to educate himself thr...</td>\n",
       "      <td>Students quit school in hopes of becoming pres...</td>\n",
       "      <td>0</td>\n",
       "    </tr>\n",
       "  </tbody>\n",
       "</table>\n",
       "<p>118 rows × 5 columns</p>\n",
       "</div>"
      ],
      "text/plain": [
       "                                         Comprehension  \\\n",
       "0    The inner shell is used as an abrasive to clea...   \n",
       "1    The inner shell is used as an abrasive to clea...   \n",
       "2    Walnut trees exude a chemical into the soil ne...   \n",
       "3    Walnut trees exude a chemical into the soil ne...   \n",
       "4    Ten years later, James Starley, an English inv...   \n",
       "..                                                 ...   \n",
       "113  The fact is that Abraham Lincoln educated hims...   \n",
       "114  The fact is that Abraham Lincoln educated hims...   \n",
       "115  The fact is that Abraham Lincoln educated hims...   \n",
       "116  Lincolns determination to educate himself thr...   \n",
       "117  Lincolns determination to educate himself thr...   \n",
       "\n",
       "                                             Questions  \\\n",
       "0    As used in the passage, the underlined word ab...   \n",
       "1    As used in the passage, the underlined word ab...   \n",
       "2    As used in the passage, the underlined word ex...   \n",
       "3    As used in the passage, the underlined word ex...   \n",
       "4    The first person to use a gear system on bicyc...   \n",
       "..                                                 ...   \n",
       "113                              A voracious reader is   \n",
       "114  According to the passage, what lesson can be l...   \n",
       "115  According to the passage, what lesson can be l...   \n",
       "116      How does Lincoln still affect students today?   \n",
       "117      How does Lincoln still affect students today?   \n",
       "\n",
       "                                        Marking Scheme  \\\n",
       "0    Something that is abrasive is rough or coarse,...   \n",
       "1    Something that is abrasive is rough or coarse,...   \n",
       "2    To exude is to exhale or to give off, the way ...   \n",
       "3    To exude is to exhale or to give off, the way ...   \n",
       "4            James Starley added a gear to the pedals.   \n",
       "..                                                 ...   \n",
       "113                         A Frequent reader of books   \n",
       "114  Good reading habits can help a person do great...   \n",
       "115  Good reading habits can help a person do great...   \n",
       "116  Lincolns determination to educate himself thr...   \n",
       "117  Lincolns determination to educate himself thr...   \n",
       "\n",
       "                                      Student Response  Answer Rating  \n",
       "0                                                rough              1  \n",
       "1                                                 soft              0  \n",
       "2                                       leave the area              0  \n",
       "3                                               exhale              1  \n",
       "4                                Kirkpatrick Macmillan              1  \n",
       "..                                                 ...            ...  \n",
       "113                        likely to become President.              1  \n",
       "114  Good reading habits can help a person do great...              1  \n",
       "115           Politicians are always good role models.              0  \n",
       "116   His speeches are still quoted and studied today.              1  \n",
       "117  Students quit school in hopes of becoming pres...              0  \n",
       "\n",
       "[118 rows x 5 columns]"
      ]
     },
     "execution_count": 10,
     "metadata": {},
     "output_type": "execute_result"
    }
   ],
   "source": [
    "df = pd.read_csv(\"comprehensiondatas/ProjectData2.csv\", encoding= 'unicode_escape')\n",
    "df"
   ]
  },
  {
   "cell_type": "code",
   "execution_count": 20,
   "id": "716ed8db",
   "metadata": {
    "ExecuteTime": {
     "end_time": "2022-02-15T01:16:12.861897Z",
     "start_time": "2022-02-15T01:16:12.836429Z"
    }
   },
   "outputs": [
    {
     "name": "stdout",
     "output_type": "stream",
     "text": [
      "<class 'pandas.core.frame.DataFrame'>\n",
      "RangeIndex: 118 entries, 0 to 117\n",
      "Data columns (total 5 columns):\n",
      " #   Column            Non-Null Count  Dtype \n",
      "---  ------            --------------  ----- \n",
      " 0   Comprehension     118 non-null    object\n",
      " 1   Questions         118 non-null    object\n",
      " 2   Marking Scheme    118 non-null    object\n",
      " 3   Student Response  118 non-null    object\n",
      " 4   Answer Rating     118 non-null    int64 \n",
      "dtypes: int64(1), object(4)\n",
      "memory usage: 4.7+ KB\n"
     ]
    }
   ],
   "source": [
    "df.info()"
   ]
  },
  {
   "cell_type": "code",
   "execution_count": 19,
   "id": "d620324e",
   "metadata": {
    "ExecuteTime": {
     "end_time": "2022-02-15T01:15:45.251091Z",
     "start_time": "2022-02-15T01:15:45.224091Z"
    }
   },
   "outputs": [
    {
     "data": {
      "text/html": [
       "<div>\n",
       "<style scoped>\n",
       "    .dataframe tbody tr th:only-of-type {\n",
       "        vertical-align: middle;\n",
       "    }\n",
       "\n",
       "    .dataframe tbody tr th {\n",
       "        vertical-align: top;\n",
       "    }\n",
       "\n",
       "    .dataframe thead th {\n",
       "        text-align: right;\n",
       "    }\n",
       "</style>\n",
       "<table border=\"1\" class=\"dataframe\">\n",
       "  <thead>\n",
       "    <tr style=\"text-align: right;\">\n",
       "      <th></th>\n",
       "      <th>Comprehension</th>\n",
       "      <th>Questions</th>\n",
       "      <th>Marking Scheme</th>\n",
       "      <th>Student Response</th>\n",
       "      <th>Answer Rating</th>\n",
       "    </tr>\n",
       "  </thead>\n",
       "  <tbody>\n",
       "    <tr>\n",
       "      <th>0</th>\n",
       "      <td>The inner shell is used as an abrasive to clea...</td>\n",
       "      <td>As used in the passage, the underlined word ab...</td>\n",
       "      <td>Something that is abrasive is rough or coarse,...</td>\n",
       "      <td>rough</td>\n",
       "      <td>1</td>\n",
       "    </tr>\n",
       "    <tr>\n",
       "      <th>1</th>\n",
       "      <td>The inner shell is used as an abrasive to clea...</td>\n",
       "      <td>As used in the passage, the underlined word ab...</td>\n",
       "      <td>Something that is abrasive is rough or coarse,...</td>\n",
       "      <td>soft</td>\n",
       "      <td>0</td>\n",
       "    </tr>\n",
       "    <tr>\n",
       "      <th>2</th>\n",
       "      <td>Walnut trees exude a chemical into the soil ne...</td>\n",
       "      <td>As used in the passage, the underlined word ex...</td>\n",
       "      <td>To exude is to exhale or to give off, the way ...</td>\n",
       "      <td>leave the area</td>\n",
       "      <td>0</td>\n",
       "    </tr>\n",
       "    <tr>\n",
       "      <th>3</th>\n",
       "      <td>Walnut trees exude a chemical into the soil ne...</td>\n",
       "      <td>As used in the passage, the underlined word ex...</td>\n",
       "      <td>To exude is to exhale or to give off, the way ...</td>\n",
       "      <td>exhale</td>\n",
       "      <td>1</td>\n",
       "    </tr>\n",
       "    <tr>\n",
       "      <th>4</th>\n",
       "      <td>Ten years later, James Starley, an English inv...</td>\n",
       "      <td>The first person to use a gear system on bicyc...</td>\n",
       "      <td>James Starley added a gear to the pedals.</td>\n",
       "      <td>Kirkpatrick Macmillan</td>\n",
       "      <td>1</td>\n",
       "    </tr>\n",
       "    <tr>\n",
       "      <th>...</th>\n",
       "      <td>...</td>\n",
       "      <td>...</td>\n",
       "      <td>...</td>\n",
       "      <td>...</td>\n",
       "      <td>...</td>\n",
       "    </tr>\n",
       "    <tr>\n",
       "      <th>113</th>\n",
       "      <td>The fact is that Abraham Lincoln educated hims...</td>\n",
       "      <td>A voracious reader is</td>\n",
       "      <td>A Frequent reader of books</td>\n",
       "      <td>likely to become President.</td>\n",
       "      <td>1</td>\n",
       "    </tr>\n",
       "    <tr>\n",
       "      <th>114</th>\n",
       "      <td>The fact is that Abraham Lincoln educated hims...</td>\n",
       "      <td>According to the passage, what lesson can be l...</td>\n",
       "      <td>Good reading habits can help a person do great...</td>\n",
       "      <td>Good reading habits can help a person do great...</td>\n",
       "      <td>1</td>\n",
       "    </tr>\n",
       "    <tr>\n",
       "      <th>115</th>\n",
       "      <td>The fact is that Abraham Lincoln educated hims...</td>\n",
       "      <td>According to the passage, what lesson can be l...</td>\n",
       "      <td>Good reading habits can help a person do great...</td>\n",
       "      <td>Politicians are always good role models.</td>\n",
       "      <td>0</td>\n",
       "    </tr>\n",
       "    <tr>\n",
       "      <th>116</th>\n",
       "      <td>Lincoln''s determination to educate himself th...</td>\n",
       "      <td>How does Lincoln still affect students today?</td>\n",
       "      <td>Lincoln''s determination to educate himself th...</td>\n",
       "      <td>His speeches are still quoted and studied today.</td>\n",
       "      <td>1</td>\n",
       "    </tr>\n",
       "    <tr>\n",
       "      <th>117</th>\n",
       "      <td>Lincoln''s determination to educate himself th...</td>\n",
       "      <td>How does Lincoln still affect students today?</td>\n",
       "      <td>Lincoln''s determination to educate himself th...</td>\n",
       "      <td>Students quit school in hopes of becoming pres...</td>\n",
       "      <td>0</td>\n",
       "    </tr>\n",
       "  </tbody>\n",
       "</table>\n",
       "<p>118 rows × 5 columns</p>\n",
       "</div>"
      ],
      "text/plain": [
       "                                         Comprehension  \\\n",
       "0    The inner shell is used as an abrasive to clea...   \n",
       "1    The inner shell is used as an abrasive to clea...   \n",
       "2    Walnut trees exude a chemical into the soil ne...   \n",
       "3    Walnut trees exude a chemical into the soil ne...   \n",
       "4    Ten years later, James Starley, an English inv...   \n",
       "..                                                 ...   \n",
       "113  The fact is that Abraham Lincoln educated hims...   \n",
       "114  The fact is that Abraham Lincoln educated hims...   \n",
       "115  The fact is that Abraham Lincoln educated hims...   \n",
       "116  Lincoln''s determination to educate himself th...   \n",
       "117  Lincoln''s determination to educate himself th...   \n",
       "\n",
       "                                             Questions  \\\n",
       "0    As used in the passage, the underlined word ab...   \n",
       "1    As used in the passage, the underlined word ab...   \n",
       "2    As used in the passage, the underlined word ex...   \n",
       "3    As used in the passage, the underlined word ex...   \n",
       "4    The first person to use a gear system on bicyc...   \n",
       "..                                                 ...   \n",
       "113                              A voracious reader is   \n",
       "114  According to the passage, what lesson can be l...   \n",
       "115  According to the passage, what lesson can be l...   \n",
       "116      How does Lincoln still affect students today?   \n",
       "117      How does Lincoln still affect students today?   \n",
       "\n",
       "                                        Marking Scheme  \\\n",
       "0    Something that is abrasive is rough or coarse,...   \n",
       "1    Something that is abrasive is rough or coarse,...   \n",
       "2    To exude is to exhale or to give off, the way ...   \n",
       "3    To exude is to exhale or to give off, the way ...   \n",
       "4            James Starley added a gear to the pedals.   \n",
       "..                                                 ...   \n",
       "113                         A Frequent reader of books   \n",
       "114  Good reading habits can help a person do great...   \n",
       "115  Good reading habits can help a person do great...   \n",
       "116  Lincoln''s determination to educate himself th...   \n",
       "117  Lincoln''s determination to educate himself th...   \n",
       "\n",
       "                                      Student Response  Answer Rating  \n",
       "0                                                rough              1  \n",
       "1                                                 soft              0  \n",
       "2                                       leave the area              0  \n",
       "3                                               exhale              1  \n",
       "4                                Kirkpatrick Macmillan              1  \n",
       "..                                                 ...            ...  \n",
       "113                        likely to become President.              1  \n",
       "114  Good reading habits can help a person do great...              1  \n",
       "115           Politicians are always good role models.              0  \n",
       "116   His speeches are still quoted and studied today.              1  \n",
       "117  Students quit school in hopes of becoming pres...              0  \n",
       "\n",
       "[118 rows x 5 columns]"
      ]
     },
     "execution_count": 19,
     "metadata": {},
     "output_type": "execute_result"
    }
   ],
   "source": [
    "df.applymap(lambda x: x.replace(\"\\x92\", \"''\") if type(x) == str else x)"
   ]
  },
  {
   "cell_type": "code",
   "execution_count": 29,
   "id": "c177aab4",
   "metadata": {
    "ExecuteTime": {
     "end_time": "2022-02-15T01:18:27.228620Z",
     "start_time": "2022-02-15T01:18:27.205277Z"
    }
   },
   "outputs": [
    {
     "data": {
      "text/plain": [
       "0      The inner shell is used as an abrasive to clea...\n",
       "1      As used in the passage, the underlined word ab...\n",
       "2      Something that is abrasive is rough or coarse,...\n",
       "3                                                  rough\n",
       "4      The inner shell is used as an abrasive to clea...\n",
       "                             ...                        \n",
       "467     His speeches are still quoted and studied today.\n",
       "468    Lincolns determination to educate himself thr...\n",
       "469        How does Lincoln still affect students today?\n",
       "470    Lincolns determination to educate himself thr...\n",
       "471    Students quit school in hopes of becoming pres...\n",
       "Length: 472, dtype: object"
      ]
     },
     "execution_count": 29,
     "metadata": {},
     "output_type": "execute_result"
    }
   ],
   "source": [
    "allsentences = pd.Series(df.loc[:, :\"Student Response\"].stack().values)\n",
    "allsentences"
   ]
  },
  {
   "cell_type": "code",
   "execution_count": 35,
   "id": "3702d2b5",
   "metadata": {
    "ExecuteTime": {
     "end_time": "2022-02-15T01:20:47.003801Z",
     "start_time": "2022-02-15T01:20:46.757426Z"
    }
   },
   "outputs": [
    {
     "ename": "error",
     "evalue": "incomplete escape \\x at position 0",
     "output_type": "error",
     "traceback": [
      "\u001b[1;31m---------------------------------------------------------------------------\u001b[0m",
      "\u001b[1;31merror\u001b[0m                                     Traceback (most recent call last)",
      "Input \u001b[1;32mIn [35]\u001b[0m, in \u001b[0;36m<module>\u001b[1;34m\u001b[0m\n\u001b[1;32m----> 1\u001b[0m \u001b[43mallsentences\u001b[49m\u001b[38;5;241;43m.\u001b[39;49m\u001b[43mstr\u001b[49m\u001b[38;5;241;43m.\u001b[39;49m\u001b[43mcontains\u001b[49m\u001b[43m(\u001b[49m\u001b[38;5;124;43m\"\u001b[39;49m\u001b[38;5;130;43;01m\\\\\u001b[39;49;00m\u001b[38;5;124;43mx\u001b[39;49m\u001b[38;5;124;43m\"\u001b[39;49m\u001b[43m)\u001b[49m\n",
      "File \u001b[1;32m~\\.conda\\envs\\analytics\\lib\\site-packages\\pandas\\core\\strings\\accessor.py:116\u001b[0m, in \u001b[0;36mforbid_nonstring_types.<locals>._forbid_nonstring_types.<locals>.wrapper\u001b[1;34m(self, *args, **kwargs)\u001b[0m\n\u001b[0;32m    111\u001b[0m     msg \u001b[38;5;241m=\u001b[39m (\n\u001b[0;32m    112\u001b[0m         \u001b[38;5;124mf\u001b[39m\u001b[38;5;124m\"\u001b[39m\u001b[38;5;124mCannot use .str.\u001b[39m\u001b[38;5;132;01m{\u001b[39;00mfunc_name\u001b[38;5;132;01m}\u001b[39;00m\u001b[38;5;124m with values of \u001b[39m\u001b[38;5;124m\"\u001b[39m\n\u001b[0;32m    113\u001b[0m         \u001b[38;5;124mf\u001b[39m\u001b[38;5;124m\"\u001b[39m\u001b[38;5;124minferred dtype \u001b[39m\u001b[38;5;124m'\u001b[39m\u001b[38;5;132;01m{\u001b[39;00m\u001b[38;5;28mself\u001b[39m\u001b[38;5;241m.\u001b[39m_inferred_dtype\u001b[38;5;132;01m}\u001b[39;00m\u001b[38;5;124m'\u001b[39m\u001b[38;5;124m.\u001b[39m\u001b[38;5;124m\"\u001b[39m\n\u001b[0;32m    114\u001b[0m     )\n\u001b[0;32m    115\u001b[0m     \u001b[38;5;28;01mraise\u001b[39;00m \u001b[38;5;167;01mTypeError\u001b[39;00m(msg)\n\u001b[1;32m--> 116\u001b[0m \u001b[38;5;28;01mreturn\u001b[39;00m func(\u001b[38;5;28mself\u001b[39m, \u001b[38;5;241m*\u001b[39margs, \u001b[38;5;241m*\u001b[39m\u001b[38;5;241m*\u001b[39mkwargs)\n",
      "File \u001b[1;32m~\\.conda\\envs\\analytics\\lib\\site-packages\\pandas\\core\\strings\\accessor.py:1153\u001b[0m, in \u001b[0;36mStringMethods.contains\u001b[1;34m(self, pat, case, flags, na, regex)\u001b[0m\n\u001b[0;32m   1028\u001b[0m \u001b[38;5;129m@forbid_nonstring_types\u001b[39m([\u001b[38;5;124m\"\u001b[39m\u001b[38;5;124mbytes\u001b[39m\u001b[38;5;124m\"\u001b[39m])\n\u001b[0;32m   1029\u001b[0m \u001b[38;5;28;01mdef\u001b[39;00m \u001b[38;5;21mcontains\u001b[39m(\u001b[38;5;28mself\u001b[39m, pat, case\u001b[38;5;241m=\u001b[39m\u001b[38;5;28;01mTrue\u001b[39;00m, flags\u001b[38;5;241m=\u001b[39m\u001b[38;5;241m0\u001b[39m, na\u001b[38;5;241m=\u001b[39m\u001b[38;5;28;01mNone\u001b[39;00m, regex\u001b[38;5;241m=\u001b[39m\u001b[38;5;28;01mTrue\u001b[39;00m):\n\u001b[0;32m   1030\u001b[0m     \u001b[38;5;124mr\u001b[39m\u001b[38;5;124;03m\"\"\"\u001b[39;00m\n\u001b[0;32m   1031\u001b[0m \u001b[38;5;124;03m    Test if pattern or regex is contained within a string of a Series or Index.\u001b[39;00m\n\u001b[0;32m   1032\u001b[0m \n\u001b[1;32m   (...)\u001b[0m\n\u001b[0;32m   1151\u001b[0m \u001b[38;5;124;03m    dtype: bool\u001b[39;00m\n\u001b[0;32m   1152\u001b[0m \u001b[38;5;124;03m    \"\"\"\u001b[39;00m\n\u001b[1;32m-> 1153\u001b[0m     \u001b[38;5;28;01mif\u001b[39;00m regex \u001b[38;5;129;01mand\u001b[39;00m \u001b[43mre\u001b[49m\u001b[38;5;241;43m.\u001b[39;49m\u001b[43mcompile\u001b[49m\u001b[43m(\u001b[49m\u001b[43mpat\u001b[49m\u001b[43m)\u001b[49m\u001b[38;5;241m.\u001b[39mgroups:\n\u001b[0;32m   1154\u001b[0m         warnings\u001b[38;5;241m.\u001b[39mwarn(\n\u001b[0;32m   1155\u001b[0m             \u001b[38;5;124m\"\u001b[39m\u001b[38;5;124mThis pattern has match groups. To actually get the \u001b[39m\u001b[38;5;124m\"\u001b[39m\n\u001b[0;32m   1156\u001b[0m             \u001b[38;5;124m\"\u001b[39m\u001b[38;5;124mgroups, use str.extract.\u001b[39m\u001b[38;5;124m\"\u001b[39m,\n\u001b[0;32m   1157\u001b[0m             \u001b[38;5;167;01mUserWarning\u001b[39;00m,\n\u001b[0;32m   1158\u001b[0m             stacklevel\u001b[38;5;241m=\u001b[39m\u001b[38;5;241m3\u001b[39m,\n\u001b[0;32m   1159\u001b[0m         )\n\u001b[0;32m   1161\u001b[0m     result \u001b[38;5;241m=\u001b[39m \u001b[38;5;28mself\u001b[39m\u001b[38;5;241m.\u001b[39m_data\u001b[38;5;241m.\u001b[39marray\u001b[38;5;241m.\u001b[39m_str_contains(pat, case, flags, na, regex)\n",
      "File \u001b[1;32m~\\.conda\\envs\\analytics\\lib\\re.py:252\u001b[0m, in \u001b[0;36mcompile\u001b[1;34m(pattern, flags)\u001b[0m\n\u001b[0;32m    250\u001b[0m \u001b[38;5;28;01mdef\u001b[39;00m \u001b[38;5;21mcompile\u001b[39m(pattern, flags\u001b[38;5;241m=\u001b[39m\u001b[38;5;241m0\u001b[39m):\n\u001b[0;32m    251\u001b[0m     \u001b[38;5;124m\"\u001b[39m\u001b[38;5;124mCompile a regular expression pattern, returning a Pattern object.\u001b[39m\u001b[38;5;124m\"\u001b[39m\n\u001b[1;32m--> 252\u001b[0m     \u001b[38;5;28;01mreturn\u001b[39;00m \u001b[43m_compile\u001b[49m\u001b[43m(\u001b[49m\u001b[43mpattern\u001b[49m\u001b[43m,\u001b[49m\u001b[43m \u001b[49m\u001b[43mflags\u001b[49m\u001b[43m)\u001b[49m\n",
      "File \u001b[1;32m~\\.conda\\envs\\analytics\\lib\\re.py:304\u001b[0m, in \u001b[0;36m_compile\u001b[1;34m(pattern, flags)\u001b[0m\n\u001b[0;32m    302\u001b[0m \u001b[38;5;28;01mif\u001b[39;00m \u001b[38;5;129;01mnot\u001b[39;00m sre_compile\u001b[38;5;241m.\u001b[39misstring(pattern):\n\u001b[0;32m    303\u001b[0m     \u001b[38;5;28;01mraise\u001b[39;00m \u001b[38;5;167;01mTypeError\u001b[39;00m(\u001b[38;5;124m\"\u001b[39m\u001b[38;5;124mfirst argument must be string or compiled pattern\u001b[39m\u001b[38;5;124m\"\u001b[39m)\n\u001b[1;32m--> 304\u001b[0m p \u001b[38;5;241m=\u001b[39m \u001b[43msre_compile\u001b[49m\u001b[38;5;241;43m.\u001b[39;49m\u001b[43mcompile\u001b[49m\u001b[43m(\u001b[49m\u001b[43mpattern\u001b[49m\u001b[43m,\u001b[49m\u001b[43m \u001b[49m\u001b[43mflags\u001b[49m\u001b[43m)\u001b[49m\n\u001b[0;32m    305\u001b[0m \u001b[38;5;28;01mif\u001b[39;00m \u001b[38;5;129;01mnot\u001b[39;00m (flags \u001b[38;5;241m&\u001b[39m DEBUG):\n\u001b[0;32m    306\u001b[0m     \u001b[38;5;28;01mif\u001b[39;00m \u001b[38;5;28mlen\u001b[39m(_cache) \u001b[38;5;241m>\u001b[39m\u001b[38;5;241m=\u001b[39m _MAXCACHE:\n\u001b[0;32m    307\u001b[0m         \u001b[38;5;66;03m# Drop the oldest item\u001b[39;00m\n",
      "File \u001b[1;32m~\\.conda\\envs\\analytics\\lib\\sre_compile.py:764\u001b[0m, in \u001b[0;36mcompile\u001b[1;34m(p, flags)\u001b[0m\n\u001b[0;32m    762\u001b[0m \u001b[38;5;28;01mif\u001b[39;00m isstring(p):\n\u001b[0;32m    763\u001b[0m     pattern \u001b[38;5;241m=\u001b[39m p\n\u001b[1;32m--> 764\u001b[0m     p \u001b[38;5;241m=\u001b[39m \u001b[43msre_parse\u001b[49m\u001b[38;5;241;43m.\u001b[39;49m\u001b[43mparse\u001b[49m\u001b[43m(\u001b[49m\u001b[43mp\u001b[49m\u001b[43m,\u001b[49m\u001b[43m \u001b[49m\u001b[43mflags\u001b[49m\u001b[43m)\u001b[49m\n\u001b[0;32m    765\u001b[0m \u001b[38;5;28;01melse\u001b[39;00m:\n\u001b[0;32m    766\u001b[0m     pattern \u001b[38;5;241m=\u001b[39m \u001b[38;5;28;01mNone\u001b[39;00m\n",
      "File \u001b[1;32m~\\.conda\\envs\\analytics\\lib\\sre_parse.py:948\u001b[0m, in \u001b[0;36mparse\u001b[1;34m(str, flags, state)\u001b[0m\n\u001b[0;32m    945\u001b[0m state\u001b[38;5;241m.\u001b[39mstr \u001b[38;5;241m=\u001b[39m \u001b[38;5;28mstr\u001b[39m\n\u001b[0;32m    947\u001b[0m \u001b[38;5;28;01mtry\u001b[39;00m:\n\u001b[1;32m--> 948\u001b[0m     p \u001b[38;5;241m=\u001b[39m \u001b[43m_parse_sub\u001b[49m\u001b[43m(\u001b[49m\u001b[43msource\u001b[49m\u001b[43m,\u001b[49m\u001b[43m \u001b[49m\u001b[43mstate\u001b[49m\u001b[43m,\u001b[49m\u001b[43m \u001b[49m\u001b[43mflags\u001b[49m\u001b[43m \u001b[49m\u001b[38;5;241;43m&\u001b[39;49m\u001b[43m \u001b[49m\u001b[43mSRE_FLAG_VERBOSE\u001b[49m\u001b[43m,\u001b[49m\u001b[43m \u001b[49m\u001b[38;5;241;43m0\u001b[39;49m\u001b[43m)\u001b[49m\n\u001b[0;32m    949\u001b[0m \u001b[38;5;28;01mexcept\u001b[39;00m Verbose:\n\u001b[0;32m    950\u001b[0m     \u001b[38;5;66;03m# the VERBOSE flag was switched on inside the pattern.  to be\u001b[39;00m\n\u001b[0;32m    951\u001b[0m     \u001b[38;5;66;03m# on the safe side, we'll parse the whole thing again...\u001b[39;00m\n\u001b[0;32m    952\u001b[0m     state \u001b[38;5;241m=\u001b[39m State()\n",
      "File \u001b[1;32m~\\.conda\\envs\\analytics\\lib\\sre_parse.py:443\u001b[0m, in \u001b[0;36m_parse_sub\u001b[1;34m(source, state, verbose, nested)\u001b[0m\n\u001b[0;32m    441\u001b[0m start \u001b[38;5;241m=\u001b[39m source\u001b[38;5;241m.\u001b[39mtell()\n\u001b[0;32m    442\u001b[0m \u001b[38;5;28;01mwhile\u001b[39;00m \u001b[38;5;28;01mTrue\u001b[39;00m:\n\u001b[1;32m--> 443\u001b[0m     itemsappend(\u001b[43m_parse\u001b[49m\u001b[43m(\u001b[49m\u001b[43msource\u001b[49m\u001b[43m,\u001b[49m\u001b[43m \u001b[49m\u001b[43mstate\u001b[49m\u001b[43m,\u001b[49m\u001b[43m \u001b[49m\u001b[43mverbose\u001b[49m\u001b[43m,\u001b[49m\u001b[43m \u001b[49m\u001b[43mnested\u001b[49m\u001b[43m \u001b[49m\u001b[38;5;241;43m+\u001b[39;49m\u001b[43m \u001b[49m\u001b[38;5;241;43m1\u001b[39;49m\u001b[43m,\u001b[49m\n\u001b[0;32m    444\u001b[0m \u001b[43m                       \u001b[49m\u001b[38;5;129;43;01mnot\u001b[39;49;00m\u001b[43m \u001b[49m\u001b[43mnested\u001b[49m\u001b[43m \u001b[49m\u001b[38;5;129;43;01mand\u001b[39;49;00m\u001b[43m \u001b[49m\u001b[38;5;129;43;01mnot\u001b[39;49;00m\u001b[43m \u001b[49m\u001b[43mitems\u001b[49m\u001b[43m)\u001b[49m)\n\u001b[0;32m    445\u001b[0m     \u001b[38;5;28;01mif\u001b[39;00m \u001b[38;5;129;01mnot\u001b[39;00m sourcematch(\u001b[38;5;124m\"\u001b[39m\u001b[38;5;124m|\u001b[39m\u001b[38;5;124m\"\u001b[39m):\n\u001b[0;32m    446\u001b[0m         \u001b[38;5;28;01mbreak\u001b[39;00m\n",
      "File \u001b[1;32m~\\.conda\\envs\\analytics\\lib\\sre_parse.py:525\u001b[0m, in \u001b[0;36m_parse\u001b[1;34m(source, state, verbose, nested, first)\u001b[0m\n\u001b[0;32m    522\u001b[0m         \u001b[38;5;28;01mcontinue\u001b[39;00m\n\u001b[0;32m    524\u001b[0m \u001b[38;5;28;01mif\u001b[39;00m this[\u001b[38;5;241m0\u001b[39m] \u001b[38;5;241m==\u001b[39m \u001b[38;5;124m\"\u001b[39m\u001b[38;5;130;01m\\\\\u001b[39;00m\u001b[38;5;124m\"\u001b[39m:\n\u001b[1;32m--> 525\u001b[0m     code \u001b[38;5;241m=\u001b[39m \u001b[43m_escape\u001b[49m\u001b[43m(\u001b[49m\u001b[43msource\u001b[49m\u001b[43m,\u001b[49m\u001b[43m \u001b[49m\u001b[43mthis\u001b[49m\u001b[43m,\u001b[49m\u001b[43m \u001b[49m\u001b[43mstate\u001b[49m\u001b[43m)\u001b[49m\n\u001b[0;32m    526\u001b[0m     subpatternappend(code)\n\u001b[0;32m    528\u001b[0m \u001b[38;5;28;01melif\u001b[39;00m this \u001b[38;5;129;01mnot\u001b[39;00m \u001b[38;5;129;01min\u001b[39;00m SPECIAL_CHARS:\n",
      "File \u001b[1;32m~\\.conda\\envs\\analytics\\lib\\sre_parse.py:369\u001b[0m, in \u001b[0;36m_escape\u001b[1;34m(source, escape, state)\u001b[0m\n\u001b[0;32m    367\u001b[0m     escape \u001b[38;5;241m+\u001b[39m\u001b[38;5;241m=\u001b[39m source\u001b[38;5;241m.\u001b[39mgetwhile(\u001b[38;5;241m2\u001b[39m, HEXDIGITS)\n\u001b[0;32m    368\u001b[0m     \u001b[38;5;28;01mif\u001b[39;00m \u001b[38;5;28mlen\u001b[39m(escape) \u001b[38;5;241m!=\u001b[39m \u001b[38;5;241m4\u001b[39m:\n\u001b[1;32m--> 369\u001b[0m         \u001b[38;5;28;01mraise\u001b[39;00m source\u001b[38;5;241m.\u001b[39merror(\u001b[38;5;124m\"\u001b[39m\u001b[38;5;124mincomplete escape \u001b[39m\u001b[38;5;132;01m%s\u001b[39;00m\u001b[38;5;124m\"\u001b[39m \u001b[38;5;241m%\u001b[39m escape, \u001b[38;5;28mlen\u001b[39m(escape))\n\u001b[0;32m    370\u001b[0m     \u001b[38;5;28;01mreturn\u001b[39;00m LITERAL, \u001b[38;5;28mint\u001b[39m(escape[\u001b[38;5;241m2\u001b[39m:], \u001b[38;5;241m16\u001b[39m)\n\u001b[0;32m    371\u001b[0m \u001b[38;5;28;01melif\u001b[39;00m c \u001b[38;5;241m==\u001b[39m \u001b[38;5;124m\"\u001b[39m\u001b[38;5;124mu\u001b[39m\u001b[38;5;124m\"\u001b[39m \u001b[38;5;129;01mand\u001b[39;00m source\u001b[38;5;241m.\u001b[39mistext:\n\u001b[0;32m    372\u001b[0m     \u001b[38;5;66;03m# unicode escape (exactly four digits)\u001b[39;00m\n",
      "\u001b[1;31merror\u001b[0m: incomplete escape \\x at position 0"
     ]
    }
   ],
   "source": [
    "allsentences.str.contains(\"\\\\x\")"
   ]
  },
  {
   "cell_type": "code",
   "execution_count": null,
   "id": "cf1a4e99",
   "metadata": {},
   "outputs": [],
   "source": []
  }
 ],
 "metadata": {
  "kernelspec": {
   "display_name": "Python 3 (ipykernel)",
   "language": "python",
   "name": "python3"
  },
  "language_info": {
   "codemirror_mode": {
    "name": "ipython",
    "version": 3
   },
   "file_extension": ".py",
   "mimetype": "text/x-python",
   "name": "python",
   "nbconvert_exporter": "python",
   "pygments_lexer": "ipython3",
   "version": "3.9.7"
  },
  "toc": {
   "base_numbering": 1,
   "nav_menu": {},
   "number_sections": true,
   "sideBar": true,
   "skip_h1_title": false,
   "title_cell": "Table of Contents",
   "title_sidebar": "Contents",
   "toc_cell": false,
   "toc_position": {},
   "toc_section_display": true,
   "toc_window_display": false
  },
  "varInspector": {
   "cols": {
    "lenName": 16,
    "lenType": 16,
    "lenVar": 40
   },
   "kernels_config": {
    "python": {
     "delete_cmd_postfix": "",
     "delete_cmd_prefix": "del ",
     "library": "var_list.py",
     "varRefreshCmd": "print(var_dic_list())"
    },
    "r": {
     "delete_cmd_postfix": ") ",
     "delete_cmd_prefix": "rm(",
     "library": "var_list.r",
     "varRefreshCmd": "cat(var_dic_list()) "
    }
   },
   "types_to_exclude": [
    "module",
    "function",
    "builtin_function_or_method",
    "instance",
    "_Feature"
   ],
   "window_display": false
  }
 },
 "nbformat": 4,
 "nbformat_minor": 5
}
