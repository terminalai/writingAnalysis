{
 "cells": [
  {
   "cell_type": "code",
   "execution_count": 1,
   "id": "e425b38c-a834-47e2-97b9-019cb098e1c2",
   "metadata": {},
   "outputs": [],
   "source": [
    "from transformers import pipeline\n",
    "from transformers import AutoTokenizer\n",
    "from transformers import DataCollatorWithPadding\n",
    "from transformers import AutoModelForSequenceClassification, TrainingArguments\n",
    "from transformers import PreTrainedModel\n",
    "from transformers.pipelines.pt_utils import KeyDataset\n",
    "\n",
    "from tqdm.auto import tqdm\n",
    "\n",
    "from sklearn.model_selection import train_test_split\n",
    "from sklearn.metrics import cohen_kappa_score\n",
    "\n",
    "import pandas as pd\n",
    "import numpy as np\n",
    "import logging\n",
    "from glob import glob\n",
    "from os import path\n",
    "\n",
    "from IPython.display import HTML, display\n",
    "\n",
    "import torch"
   ]
  },
  {
   "cell_type": "code",
   "execution_count": 2,
   "id": "215311da-1f9a-4974-8ba0-0b1750e1b056",
   "metadata": {},
   "outputs": [
    {
     "data": {
      "text/plain": [
       "device(type='cpu')"
      ]
     },
     "execution_count": 2,
     "metadata": {},
     "output_type": "execute_result"
    }
   ],
   "source": [
    "device = \"cuda:0\" if torch.cuda.is_available() else \"cpu\"\n",
    "device = torch.device(device)\n",
    "device"
   ]
  },
  {
   "cell_type": "code",
   "execution_count": 44,
   "id": "535a8941-2466-4933-8a4e-9538dab4bc98",
   "metadata": {
    "tags": []
   },
   "outputs": [
    {
     "data": {
      "text/plain": [
       "('Claim',\n",
       " 'Concluding Statement',\n",
       " 'Counterclaim',\n",
       " 'Evidence',\n",
       " 'Lead',\n",
       " 'Position',\n",
       " 'Rebuttal')"
      ]
     },
     "execution_count": 44,
     "metadata": {},
     "output_type": "execute_result"
    }
   ],
   "source": [
    "category_codes = {0: 'Claim',\n",
    " 1: 'Concluding Statement',\n",
    " 2: 'Counterclaim',\n",
    " 3: 'Evidence',\n",
    " 4: 'Lead',\n",
    " 5: 'Position',\n",
    " 6: 'Rebuttal'}\n",
    "labels = list(zip(*category_codes.items()))[1]\n",
    "labels"
   ]
  },
  {
   "cell_type": "code",
   "execution_count": 4,
   "id": "ac46e4d8-561b-455c-94e8-56897bc5ec79",
   "metadata": {},
   "outputs": [],
   "source": [
    "model_checkpoint = \"distilbert-base-uncased\"\n",
    "tokenizer = AutoTokenizer.from_pretrained(model_checkpoint, use_fast=True)"
   ]
  },
  {
   "cell_type": "code",
   "execution_count": 5,
   "id": "2be76359-c5bb-443e-873b-ec55c733adec",
   "metadata": {},
   "outputs": [],
   "source": [
    "model_path = r\"models_gitignored/distilbert-base-uncased-finetuned-sentence-classification/checkpoint-12626\"\n",
    "model = AutoModelForSequenceClassification.from_pretrained(model_path, id2label=category_codes)"
   ]
  },
  {
   "cell_type": "code",
   "execution_count": 45,
   "id": "c5016069-6465-4f52-b438-13cf636c8a1b",
   "metadata": {},
   "outputs": [],
   "source": [
    "input_text = \"What the dog doing?\""
   ]
  },
  {
   "cell_type": "code",
   "execution_count": 46,
   "id": "a57e9a1d-b4eb-4f9e-83b3-b12ec9fc9dbe",
   "metadata": {},
   "outputs": [
    {
     "data": {
      "text/plain": [
       "SequenceClassifierOutput(loss=None, logits=tensor([[ 2.6127, -1.7622, -1.3208,  0.4333,  1.0773, -1.0897, -1.2661]],\n",
       "       grad_fn=<AddmmBackward0>), hidden_states=None, attentions=None)"
      ]
     },
     "execution_count": 46,
     "metadata": {},
     "output_type": "execute_result"
    }
   ],
   "source": [
    "encodings = tokenizer(input_text, return_tensors=\"pt\")\n",
    "outputs = model(**encodings)\n",
    "outputs"
   ]
  },
  {
   "cell_type": "code",
   "execution_count": 57,
   "id": "b910db1a-8e6e-476b-9866-2279679c8190",
   "metadata": {},
   "outputs": [
    {
     "data": {
      "text/plain": [
       "tensor([[ 2.6127, -1.7622, -1.3208,  0.4333,  1.0773, -1.0897, -1.2661]],\n",
       "       grad_fn=<AddmmBackward0>)"
      ]
     },
     "execution_count": 57,
     "metadata": {},
     "output_type": "execute_result"
    }
   ],
   "source": [
    "outputs.logits"
   ]
  },
  {
   "cell_type": "markdown",
   "id": "e67d7def-336b-4a80-b831-fc39b2ed5ed0",
   "metadata": {},
   "source": [
    "The following syntax may be confusing, but the logits output has a gradient associated with it, if we just want the logits itself, we have to `.detach()` from the gradient, and then `[0]` because batch size of 1, and then get the highest confidence index"
   ]
  },
  {
   "cell_type": "code",
   "execution_count": 56,
   "id": "04752687-a263-4951-9853-92d22ced1650",
   "metadata": {},
   "outputs": [
    {
     "name": "stdout",
     "output_type": "stream",
     "text": [
      "predicted Claim with confidence of 2.6126956939697266\n"
     ]
    }
   ],
   "source": [
    "highest_conf = torch.argmax(outputs.logits)\n",
    "print(f\"predicted {labels[highest_conf]} with confidence of {outputs.logits.detach()[0][highest_conf]}\")"
   ]
  }
 ],
 "metadata": {
  "kernelspec": {
   "display_name": "Python 3 (ipykernel)",
   "language": "python",
   "name": "python3"
  },
  "language_info": {
   "codemirror_mode": {
    "name": "ipython",
    "version": 3
   },
   "file_extension": ".py",
   "mimetype": "text/x-python",
   "name": "python",
   "nbconvert_exporter": "python",
   "pygments_lexer": "ipython3",
   "version": "3.8.12"
  }
 },
 "nbformat": 4,
 "nbformat_minor": 5
}
