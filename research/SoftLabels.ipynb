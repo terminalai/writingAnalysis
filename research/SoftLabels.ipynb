{
 "cells": [
  {
   "cell_type": "code",
   "execution_count": 3,
   "id": "e425b38c-a834-47e2-97b9-019cb098e1c2",
   "metadata": {
    "ExecuteTime": {
     "end_time": "2022-03-27T17:28:39.830477Z",
     "start_time": "2022-03-27T17:28:39.816475Z"
    }
   },
   "outputs": [],
   "source": [
    "from transformers import pipeline\n",
    "from transformers import AutoTokenizer\n",
    "from transformers import DataCollatorWithPadding\n",
    "from transformers import AutoModelForSequenceClassification, TrainingArguments\n",
    "from transformers import PreTrainedModel\n",
    "from transformers.pipelines.pt_utils import KeyDataset\n",
    "\n",
    "from tqdm.auto import tqdm\n",
    "\n",
    "from sklearn.model_selection import train_test_split\n",
    "from sklearn.metrics import cohen_kappa_score\n",
    "\n",
    "import pandas as pd\n",
    "import numpy as np\n",
    "import logging\n",
    "from glob import glob\n",
    "from os import path\n",
    "\n",
    "from IPython.display import HTML, display\n",
    "\n",
    "import torch"
   ]
  },
  {
   "cell_type": "code",
   "execution_count": 4,
   "id": "535a8941-2466-4933-8a4e-9538dab4bc98",
   "metadata": {
    "ExecuteTime": {
     "end_time": "2022-03-27T17:28:41.934197Z",
     "start_time": "2022-03-27T17:28:41.902200Z"
    },
    "tags": []
   },
   "outputs": [
    {
     "data": {
      "text/plain": [
       "('Claim',\n",
       " 'Concluding Statement',\n",
       " 'Counterclaim',\n",
       " 'Evidence',\n",
       " 'Lead',\n",
       " 'Position',\n",
       " 'Rebuttal')"
      ]
     },
     "execution_count": 4,
     "metadata": {},
     "output_type": "execute_result"
    }
   ],
   "source": [
    "category_codes = {0: 'Claim',\n",
    " 1: 'Concluding Statement',\n",
    " 2: 'Counterclaim',\n",
    " 3: 'Evidence',\n",
    " 4: 'Lead',\n",
    " 5: 'Position',\n",
    " 6: 'Rebuttal'}\n",
    "labels = list(zip(*category_codes.items()))[1]\n",
    "labels"
   ]
  },
  {
   "cell_type": "code",
   "execution_count": 5,
   "id": "ac46e4d8-561b-455c-94e8-56897bc5ec79",
   "metadata": {
    "ExecuteTime": {
     "end_time": "2022-03-27T17:29:07.360787Z",
     "start_time": "2022-03-27T17:28:43.690097Z"
    }
   },
   "outputs": [
    {
     "data": {
      "application/vnd.jupyter.widget-view+json": {
       "model_id": "9019813cb2dc4b70af46e74665e331e0",
       "version_major": 2,
       "version_minor": 0
      },
      "text/plain": [
       "Downloading:   0%|          | 0.00/481 [00:00<?, ?B/s]"
      ]
     },
     "metadata": {},
     "output_type": "display_data"
    },
    {
     "data": {
      "application/vnd.jupyter.widget-view+json": {
       "model_id": "3f1b7a34009b4cbf8f2df250100a9760",
       "version_major": 2,
       "version_minor": 0
      },
      "text/plain": [
       "Downloading:   0%|          | 0.00/878k [00:00<?, ?B/s]"
      ]
     },
     "metadata": {},
     "output_type": "display_data"
    },
    {
     "data": {
      "application/vnd.jupyter.widget-view+json": {
       "model_id": "9c80e18f9aae4ad897053f464bfa23c6",
       "version_major": 2,
       "version_minor": 0
      },
      "text/plain": [
       "Downloading:   0%|          | 0.00/446k [00:00<?, ?B/s]"
      ]
     },
     "metadata": {},
     "output_type": "display_data"
    },
    {
     "data": {
      "application/vnd.jupyter.widget-view+json": {
       "model_id": "b8ab741bb4384bfd911124763b1a723b",
       "version_major": 2,
       "version_minor": 0
      },
      "text/plain": [
       "Downloading:   0%|          | 0.00/1.29M [00:00<?, ?B/s]"
      ]
     },
     "metadata": {},
     "output_type": "display_data"
    }
   ],
   "source": [
    "model_checkpoint = \"roberta-base\"\n",
    "tokenizer = AutoTokenizer.from_pretrained(model_checkpoint, use_fast=True)"
   ]
  },
  {
   "cell_type": "code",
   "execution_count": 6,
   "id": "2be76359-c5bb-443e-873b-ec55c733adec",
   "metadata": {
    "ExecuteTime": {
     "end_time": "2022-03-27T17:29:11.169534Z",
     "start_time": "2022-03-27T17:29:08.912843Z"
    }
   },
   "outputs": [],
   "source": [
    "model_path = r\"models_gitignored/roberta_base/checkpoint-75756\"\n",
    "model = AutoModelForSequenceClassification.from_pretrained(model_path, id2label=category_codes)"
   ]
  },
  {
   "cell_type": "code",
   "execution_count": 7,
   "id": "c5016069-6465-4f52-b438-13cf636c8a1b",
   "metadata": {
    "ExecuteTime": {
     "end_time": "2022-03-27T17:29:12.806377Z",
     "start_time": "2022-03-27T17:29:12.796378Z"
    }
   },
   "outputs": [],
   "source": [
    "input_text = \"What the dog doing?\""
   ]
  },
  {
   "cell_type": "code",
   "execution_count": 8,
   "id": "a57e9a1d-b4eb-4f9e-83b3-b12ec9fc9dbe",
   "metadata": {
    "ExecuteTime": {
     "end_time": "2022-03-27T17:29:14.874864Z",
     "start_time": "2022-03-27T17:29:14.623979Z"
    }
   },
   "outputs": [
    {
     "data": {
      "text/plain": [
       "SequenceClassifierOutput(loss=None, logits=tensor([[ 5.6986, -2.5383, -1.3422,  0.7742,  0.5792, -0.9855, -1.9841]],\n",
       "       grad_fn=<AddmmBackward0>), hidden_states=None, attentions=None)"
      ]
     },
     "execution_count": 8,
     "metadata": {},
     "output_type": "execute_result"
    }
   ],
   "source": [
    "encodings = tokenizer(input_text, return_tensors=\"pt\")\n",
    "outputs = model(**encodings)\n",
    "outputs"
   ]
  },
  {
   "cell_type": "code",
   "execution_count": 9,
   "id": "b910db1a-8e6e-476b-9866-2279679c8190",
   "metadata": {
    "ExecuteTime": {
     "end_time": "2022-03-27T17:29:17.085688Z",
     "start_time": "2022-03-27T17:29:17.060684Z"
    }
   },
   "outputs": [
    {
     "data": {
      "text/plain": [
       "tensor([[ 5.6986, -2.5383, -1.3422,  0.7742,  0.5792, -0.9855, -1.9841]],\n",
       "       grad_fn=<AddmmBackward0>)"
      ]
     },
     "execution_count": 9,
     "metadata": {},
     "output_type": "execute_result"
    }
   ],
   "source": [
    "outputs.logits"
   ]
  },
  {
   "cell_type": "markdown",
   "id": "e67d7def-336b-4a80-b831-fc39b2ed5ed0",
   "metadata": {},
   "source": [
    "The following syntax may be confusing, but the logits output has a gradient associated with it, if we just want the logits itself, we have to `.detach()` from the gradient, and then `[0]` because batch size of 1, and then get the highest confidence index"
   ]
  },
  {
   "cell_type": "code",
   "execution_count": 10,
   "id": "04752687-a263-4951-9853-92d22ced1650",
   "metadata": {
    "ExecuteTime": {
     "end_time": "2022-03-27T17:29:19.317451Z",
     "start_time": "2022-03-27T17:29:19.300451Z"
    }
   },
   "outputs": [
    {
     "name": "stdout",
     "output_type": "stream",
     "text": [
      "predicted Claim with confidence of 5.698571681976318\n"
     ]
    }
   ],
   "source": [
    "highest_conf = torch.argmax(outputs.logits)\n",
    "print(f\"predicted {labels[highest_conf]} with confidence of {outputs.logits.detach()[0][highest_conf]}\")"
   ]
  },
  {
   "cell_type": "code",
   "execution_count": 11,
   "id": "4bed9658",
   "metadata": {
    "ExecuteTime": {
     "end_time": "2022-03-27T17:29:23.945681Z",
     "start_time": "2022-03-27T17:29:23.930683Z"
    }
   },
   "outputs": [
    {
     "data": {
      "text/plain": [
       "[5.698571681976318,\n",
       " -2.5382676124572754,\n",
       " -1.3422482013702393,\n",
       " 0.7742164134979248,\n",
       " 0.5792469382286072,\n",
       " -0.985458493232727,\n",
       " -1.984054446220398]"
      ]
     },
     "execution_count": 11,
     "metadata": {},
     "output_type": "execute_result"
    }
   ],
   "source": [
    "outputs.logits[0].tolist()"
   ]
  },
  {
   "cell_type": "code",
   "execution_count": 12,
   "id": "33abbdbd",
   "metadata": {
    "ExecuteTime": {
     "end_time": "2022-03-27T17:29:32.418881Z",
     "start_time": "2022-03-27T17:29:26.325827Z"
    }
   },
   "outputs": [],
   "source": [
    "import nltk\n",
    "\n",
    "sentence_tokenizer = nltk.data.load('tokenizers/punkt/english.pickle')\n",
    "\n",
    "def predict(text):\n",
    "    return {t:dict(zip(labels, model(**tokenizer(t, return_tensors=\"pt\")).logits[0].tolist())) for t in sentence_tokenizer.tokenize(text)}\n"
   ]
  },
  {
   "cell_type": "code",
   "execution_count": 13,
   "id": "c69d5bda",
   "metadata": {
    "ExecuteTime": {
     "end_time": "2022-03-27T17:30:00.298383Z",
     "start_time": "2022-03-27T17:30:00.134376Z"
    }
   },
   "outputs": [
    {
     "data": {
      "text/plain": [
       "{'I am Prannaya Gupta.': {'Claim': -0.05495935678482056,\n",
       "  'Concluding Statement': -1.2194091081619263,\n",
       "  'Counterclaim': -1.0489801168441772,\n",
       "  'Evidence': -0.5730050206184387,\n",
       "  'Lead': 7.462467193603516,\n",
       "  'Position': -0.15923750400543213,\n",
       "  'Rebuttal': -3.358013868331909},\n",
       " 'My teammate is Liew Wei Pyn.': {'Claim': 4.576728343963623,\n",
       "  'Concluding Statement': -3.076887845993042,\n",
       "  'Counterclaim': -0.07713758945465088,\n",
       "  'Evidence': 1.287278413772583,\n",
       "  'Lead': 0.04913000017404556,\n",
       "  'Position': -0.7670019865036011,\n",
       "  'Rebuttal': -1.6367422342300415}}"
      ]
     },
     "execution_count": 13,
     "metadata": {},
     "output_type": "execute_result"
    }
   ],
   "source": [
    "predict(\"I am Prannaya Gupta. My teammate is Liew Wei Pyn.\")"
   ]
  },
  {
   "cell_type": "code",
   "execution_count": 14,
   "id": "7adb1d74",
   "metadata": {
    "ExecuteTime": {
     "end_time": "2022-03-27T17:30:03.097202Z",
     "start_time": "2022-03-27T17:30:03.084148Z"
    }
   },
   "outputs": [],
   "source": [
    "def predictLogits(text, tokenizer, model):\n",
    "    return {t:dict(zip(labels, model(**tokenizer(t, return_tensors=\"pt\")).logits[0].tolist())) for t in sentence_tokenizer.tokenize(text)}\n",
    "\n",
    "def predictLabel(logits):\n",
    "    return sorted(logits, key=lambda x:logits[x])[-1]\n",
    "\n"
   ]
  },
  {
   "cell_type": "code",
   "execution_count": 15,
   "id": "09827049",
   "metadata": {
    "ExecuteTime": {
     "end_time": "2022-03-27T17:30:04.713581Z",
     "start_time": "2022-03-27T17:30:04.622675Z"
    }
   },
   "outputs": [
    {
     "data": {
      "text/plain": [
       "'Position'"
      ]
     },
     "execution_count": 15,
     "metadata": {},
     "output_type": "execute_result"
    }
   ],
   "source": [
    "predictLabel(next(iter(predict(\"I agree with Porin as he highlighted in the passage above.\").values())))"
   ]
  },
  {
   "cell_type": "code",
   "execution_count": 19,
   "id": "7d0345a7",
   "metadata": {
    "ExecuteTime": {
     "end_time": "2022-03-27T17:30:40.018116Z",
     "start_time": "2022-03-27T17:30:39.877299Z"
    }
   },
   "outputs": [
    {
     "data": {
      "text/html": [
       "<div>\n",
       "<style scoped>\n",
       "    .dataframe tbody tr th:only-of-type {\n",
       "        vertical-align: middle;\n",
       "    }\n",
       "\n",
       "    .dataframe tbody tr th {\n",
       "        vertical-align: top;\n",
       "    }\n",
       "\n",
       "    .dataframe thead th {\n",
       "        text-align: right;\n",
       "    }\n",
       "</style>\n",
       "<table border=\"1\" class=\"dataframe\">\n",
       "  <thead>\n",
       "    <tr style=\"text-align: right;\">\n",
       "      <th></th>\n",
       "      <th>Claim</th>\n",
       "      <th>Concluding Statement</th>\n",
       "      <th>Counterclaim</th>\n",
       "      <th>Evidence</th>\n",
       "      <th>Lead</th>\n",
       "      <th>Position</th>\n",
       "      <th>Rebuttal</th>\n",
       "    </tr>\n",
       "  </thead>\n",
       "  <tbody>\n",
       "    <tr>\n",
       "      <th>I am Prannaya Gupta.</th>\n",
       "      <td>-0.054959</td>\n",
       "      <td>-1.219409</td>\n",
       "      <td>-1.048980</td>\n",
       "      <td>-0.573005</td>\n",
       "      <td>7.462467</td>\n",
       "      <td>-0.159238</td>\n",
       "      <td>-3.358014</td>\n",
       "    </tr>\n",
       "    <tr>\n",
       "      <th>My teammate is Liew Wei Pyn.</th>\n",
       "      <td>4.576728</td>\n",
       "      <td>-3.076888</td>\n",
       "      <td>-0.077138</td>\n",
       "      <td>1.287278</td>\n",
       "      <td>0.049130</td>\n",
       "      <td>-0.767002</td>\n",
       "      <td>-1.636742</td>\n",
       "    </tr>\n",
       "  </tbody>\n",
       "</table>\n",
       "</div>"
      ],
      "text/plain": [
       "                                 Claim  Concluding Statement  Counterclaim  \\\n",
       "I am Prannaya Gupta.         -0.054959             -1.219409     -1.048980   \n",
       "My teammate is Liew Wei Pyn.  4.576728             -3.076888     -0.077138   \n",
       "\n",
       "                              Evidence      Lead  Position  Rebuttal  \n",
       "I am Prannaya Gupta.         -0.573005  7.462467 -0.159238 -3.358014  \n",
       "My teammate is Liew Wei Pyn.  1.287278  0.049130 -0.767002 -1.636742  "
      ]
     },
     "execution_count": 19,
     "metadata": {},
     "output_type": "execute_result"
    }
   ],
   "source": [
    "pd.DataFrame(predictLogits(\"I am Prannaya Gupta. My teammate is Liew Wei Pyn.\", tokenizer, model)).T"
   ]
  },
  {
   "cell_type": "code",
   "execution_count": 42,
   "id": "20e92bce",
   "metadata": {
    "ExecuteTime": {
     "end_time": "2022-03-27T17:48:21.575210Z",
     "start_time": "2022-03-27T17:48:21.570210Z"
    }
   },
   "outputs": [],
   "source": [
    "def predict(text):\n",
    "    return pd.DataFrame({t:{**dict(zip(labels, model(**tokenizer(t, return_tensors=\"pt\")).logits[0].tolist())), \"text\":text} for t in sentence_tokenizer.tokenize(text)}).T\n"
   ]
  },
  {
   "cell_type": "code",
   "execution_count": 43,
   "id": "631f7b7a",
   "metadata": {
    "ExecuteTime": {
     "end_time": "2022-03-27T17:48:23.424212Z",
     "start_time": "2022-03-27T17:48:23.277109Z"
    }
   },
   "outputs": [
    {
     "data": {
      "text/html": [
       "<div>\n",
       "<style scoped>\n",
       "    .dataframe tbody tr th:only-of-type {\n",
       "        vertical-align: middle;\n",
       "    }\n",
       "\n",
       "    .dataframe tbody tr th {\n",
       "        vertical-align: top;\n",
       "    }\n",
       "\n",
       "    .dataframe thead th {\n",
       "        text-align: right;\n",
       "    }\n",
       "</style>\n",
       "<table border=\"1\" class=\"dataframe\">\n",
       "  <thead>\n",
       "    <tr style=\"text-align: right;\">\n",
       "      <th></th>\n",
       "      <th>Claim</th>\n",
       "      <th>Concluding Statement</th>\n",
       "      <th>Counterclaim</th>\n",
       "      <th>Evidence</th>\n",
       "      <th>Lead</th>\n",
       "      <th>Position</th>\n",
       "      <th>Rebuttal</th>\n",
       "      <th>text</th>\n",
       "    </tr>\n",
       "  </thead>\n",
       "  <tbody>\n",
       "    <tr>\n",
       "      <th>I am Prannaya Gupta.</th>\n",
       "      <td>-0.054959</td>\n",
       "      <td>-1.219409</td>\n",
       "      <td>-1.04898</td>\n",
       "      <td>-0.573005</td>\n",
       "      <td>7.462467</td>\n",
       "      <td>-0.159238</td>\n",
       "      <td>-3.358014</td>\n",
       "      <td>I am Prannaya Gupta. My teammate is Liew Wei Pyn.</td>\n",
       "    </tr>\n",
       "    <tr>\n",
       "      <th>My teammate is Liew Wei Pyn.</th>\n",
       "      <td>4.576728</td>\n",
       "      <td>-3.076888</td>\n",
       "      <td>-0.077138</td>\n",
       "      <td>1.287278</td>\n",
       "      <td>0.04913</td>\n",
       "      <td>-0.767002</td>\n",
       "      <td>-1.636742</td>\n",
       "      <td>I am Prannaya Gupta. My teammate is Liew Wei Pyn.</td>\n",
       "    </tr>\n",
       "  </tbody>\n",
       "</table>\n",
       "</div>"
      ],
      "text/plain": [
       "                                 Claim Concluding Statement Counterclaim  \\\n",
       "I am Prannaya Gupta.         -0.054959            -1.219409     -1.04898   \n",
       "My teammate is Liew Wei Pyn.  4.576728            -3.076888    -0.077138   \n",
       "\n",
       "                              Evidence      Lead  Position  Rebuttal  \\\n",
       "I am Prannaya Gupta.         -0.573005  7.462467 -0.159238 -3.358014   \n",
       "My teammate is Liew Wei Pyn.  1.287278   0.04913 -0.767002 -1.636742   \n",
       "\n",
       "                                                                           text  \n",
       "I am Prannaya Gupta.          I am Prannaya Gupta. My teammate is Liew Wei Pyn.  \n",
       "My teammate is Liew Wei Pyn.  I am Prannaya Gupta. My teammate is Liew Wei Pyn.  "
      ]
     },
     "execution_count": 43,
     "metadata": {},
     "output_type": "execute_result"
    }
   ],
   "source": [
    "predict(\"I am Prannaya Gupta. My teammate is Liew Wei Pyn.\")"
   ]
  },
  {
   "cell_type": "code",
   "execution_count": 44,
   "id": "78dbee37",
   "metadata": {
    "ExecuteTime": {
     "end_time": "2022-03-27T17:48:25.258144Z",
     "start_time": "2022-03-27T17:48:25.242519Z"
    }
   },
   "outputs": [],
   "source": [
    "text = pd.Series([\"I am Prannaya Gupta. My teammate is Liew Wei Pyn.\", \"I have an inflamed larynx. We are out of herbal tea. Do you want any?\"])"
   ]
  },
  {
   "cell_type": "code",
   "execution_count": 45,
   "id": "fa4ca12e",
   "metadata": {
    "ExecuteTime": {
     "end_time": "2022-03-27T17:48:27.177026Z",
     "start_time": "2022-03-27T17:48:26.900073Z"
    }
   },
   "outputs": [
    {
     "data": {
      "text/plain": [
       "0                                     Claim Conclud...\n",
       "1                                   Claim Concludin...\n",
       "dtype: object"
      ]
     },
     "execution_count": 45,
     "metadata": {},
     "output_type": "execute_result"
    }
   ],
   "source": [
    "text.apply(predict)"
   ]
  },
  {
   "cell_type": "code",
   "execution_count": 48,
   "id": "f389e7f6",
   "metadata": {
    "ExecuteTime": {
     "end_time": "2022-03-27T17:48:50.008827Z",
     "start_time": "2022-03-27T17:48:49.735957Z"
    }
   },
   "outputs": [
    {
     "data": {
      "text/html": [
       "<div>\n",
       "<style scoped>\n",
       "    .dataframe tbody tr th:only-of-type {\n",
       "        vertical-align: middle;\n",
       "    }\n",
       "\n",
       "    .dataframe tbody tr th {\n",
       "        vertical-align: top;\n",
       "    }\n",
       "\n",
       "    .dataframe thead th {\n",
       "        text-align: right;\n",
       "    }\n",
       "</style>\n",
       "<table border=\"1\" class=\"dataframe\">\n",
       "  <thead>\n",
       "    <tr style=\"text-align: right;\">\n",
       "      <th></th>\n",
       "      <th>sentence</th>\n",
       "      <th>Claim</th>\n",
       "      <th>Concluding Statement</th>\n",
       "      <th>Counterclaim</th>\n",
       "      <th>Evidence</th>\n",
       "      <th>Lead</th>\n",
       "      <th>Position</th>\n",
       "      <th>Rebuttal</th>\n",
       "      <th>text</th>\n",
       "    </tr>\n",
       "  </thead>\n",
       "  <tbody>\n",
       "    <tr>\n",
       "      <th>0</th>\n",
       "      <td>I am Prannaya Gupta.</td>\n",
       "      <td>-0.054959</td>\n",
       "      <td>-1.219409</td>\n",
       "      <td>-1.04898</td>\n",
       "      <td>-0.573005</td>\n",
       "      <td>7.462467</td>\n",
       "      <td>-0.159238</td>\n",
       "      <td>-3.358014</td>\n",
       "      <td>I am Prannaya Gupta. My teammate is Liew Wei Pyn.</td>\n",
       "    </tr>\n",
       "    <tr>\n",
       "      <th>1</th>\n",
       "      <td>My teammate is Liew Wei Pyn.</td>\n",
       "      <td>4.576728</td>\n",
       "      <td>-3.076888</td>\n",
       "      <td>-0.077138</td>\n",
       "      <td>1.287278</td>\n",
       "      <td>0.04913</td>\n",
       "      <td>-0.767002</td>\n",
       "      <td>-1.636742</td>\n",
       "      <td>I am Prannaya Gupta. My teammate is Liew Wei Pyn.</td>\n",
       "    </tr>\n",
       "    <tr>\n",
       "      <th>0</th>\n",
       "      <td>I have an inflamed larynx.</td>\n",
       "      <td>6.714224</td>\n",
       "      <td>-2.542686</td>\n",
       "      <td>-1.284292</td>\n",
       "      <td>1.195773</td>\n",
       "      <td>-0.788462</td>\n",
       "      <td>-1.276066</td>\n",
       "      <td>-1.976083</td>\n",
       "      <td>I have an inflamed larynx. We are out of herba...</td>\n",
       "    </tr>\n",
       "    <tr>\n",
       "      <th>1</th>\n",
       "      <td>We are out of herbal tea.</td>\n",
       "      <td>4.061336</td>\n",
       "      <td>-2.019389</td>\n",
       "      <td>-2.027314</td>\n",
       "      <td>2.581639</td>\n",
       "      <td>-0.58224</td>\n",
       "      <td>-1.491735</td>\n",
       "      <td>-0.986001</td>\n",
       "      <td>I have an inflamed larynx. We are out of herba...</td>\n",
       "    </tr>\n",
       "    <tr>\n",
       "      <th>2</th>\n",
       "      <td>Do you want any?</td>\n",
       "      <td>-0.009475</td>\n",
       "      <td>-0.878833</td>\n",
       "      <td>-1.584011</td>\n",
       "      <td>-0.448498</td>\n",
       "      <td>7.578365</td>\n",
       "      <td>-0.599353</td>\n",
       "      <td>-3.289468</td>\n",
       "      <td>I have an inflamed larynx. We are out of herba...</td>\n",
       "    </tr>\n",
       "  </tbody>\n",
       "</table>\n",
       "</div>"
      ],
      "text/plain": [
       "                       sentence     Claim Concluding Statement Counterclaim  \\\n",
       "0          I am Prannaya Gupta. -0.054959            -1.219409     -1.04898   \n",
       "1  My teammate is Liew Wei Pyn.  4.576728            -3.076888    -0.077138   \n",
       "0    I have an inflamed larynx.  6.714224            -2.542686    -1.284292   \n",
       "1     We are out of herbal tea.  4.061336            -2.019389    -2.027314   \n",
       "2              Do you want any? -0.009475            -0.878833    -1.584011   \n",
       "\n",
       "   Evidence      Lead  Position  Rebuttal  \\\n",
       "0 -0.573005  7.462467 -0.159238 -3.358014   \n",
       "1  1.287278   0.04913 -0.767002 -1.636742   \n",
       "0  1.195773 -0.788462 -1.276066 -1.976083   \n",
       "1  2.581639  -0.58224 -1.491735 -0.986001   \n",
       "2 -0.448498  7.578365 -0.599353 -3.289468   \n",
       "\n",
       "                                                text  \n",
       "0  I am Prannaya Gupta. My teammate is Liew Wei Pyn.  \n",
       "1  I am Prannaya Gupta. My teammate is Liew Wei Pyn.  \n",
       "0  I have an inflamed larynx. We are out of herba...  \n",
       "1  I have an inflamed larynx. We are out of herba...  \n",
       "2  I have an inflamed larynx. We are out of herba...  "
      ]
     },
     "execution_count": 48,
     "metadata": {},
     "output_type": "execute_result"
    }
   ],
   "source": [
    "pd.concat(text.apply(predict).apply(lambda df:df).tolist())"
   ]
  },
  {
   "cell_type": "code",
   "execution_count": 52,
   "id": "ffb10190",
   "metadata": {
    "ExecuteTime": {
     "end_time": "2022-03-27T17:50:46.337243Z",
     "start_time": "2022-03-27T17:50:46.315243Z"
    }
   },
   "outputs": [
    {
     "data": {
      "text/html": [
       "<div>\n",
       "<style scoped>\n",
       "    .dataframe tbody tr th:only-of-type {\n",
       "        vertical-align: middle;\n",
       "    }\n",
       "\n",
       "    .dataframe tbody tr th {\n",
       "        vertical-align: top;\n",
       "    }\n",
       "\n",
       "    .dataframe thead th {\n",
       "        text-align: right;\n",
       "    }\n",
       "</style>\n",
       "<table border=\"1\" class=\"dataframe\">\n",
       "  <thead>\n",
       "    <tr style=\"text-align: right;\">\n",
       "      <th></th>\n",
       "      <th>text</th>\n",
       "      <th>url</th>\n",
       "    </tr>\n",
       "  </thead>\n",
       "  <tbody>\n",
       "    <tr>\n",
       "      <th>0</th>\n",
       "      <td>I am Prannaya Gupta. My teammate is Liew Wei Pyn.</td>\n",
       "      <td>https://nytimes.com</td>\n",
       "    </tr>\n",
       "    <tr>\n",
       "      <th>1</th>\n",
       "      <td>I have an inflamed larynx. We are out of herba...</td>\n",
       "      <td>https://straitstimes.com</td>\n",
       "    </tr>\n",
       "  </tbody>\n",
       "</table>\n",
       "</div>"
      ],
      "text/plain": [
       "                                                text                       url\n",
       "0  I am Prannaya Gupta. My teammate is Liew Wei Pyn.       https://nytimes.com\n",
       "1  I have an inflamed larynx. We are out of herba...  https://straitstimes.com"
      ]
     },
     "execution_count": 52,
     "metadata": {},
     "output_type": "execute_result"
    }
   ],
   "source": [
    "ogdf = pd.DataFrame({\"text\":[\"I am Prannaya Gupta. My teammate is Liew Wei Pyn.\", \"I have an inflamed larynx. We are out of herbal tea. Do you want any?\"], \"url\":[\"https://nytimes.com\", \"https://straitstimes.com\"]})\n",
    "ogdf"
   ]
  },
  {
   "cell_type": "code",
   "execution_count": 53,
   "id": "d9bd472a",
   "metadata": {
    "ExecuteTime": {
     "end_time": "2022-03-27T17:50:54.293654Z",
     "start_time": "2022-03-27T17:50:53.980745Z"
    }
   },
   "outputs": [
    {
     "data": {
      "text/html": [
       "<div>\n",
       "<style scoped>\n",
       "    .dataframe tbody tr th:only-of-type {\n",
       "        vertical-align: middle;\n",
       "    }\n",
       "\n",
       "    .dataframe tbody tr th {\n",
       "        vertical-align: top;\n",
       "    }\n",
       "\n",
       "    .dataframe thead th {\n",
       "        text-align: right;\n",
       "    }\n",
       "</style>\n",
       "<table border=\"1\" class=\"dataframe\">\n",
       "  <thead>\n",
       "    <tr style=\"text-align: right;\">\n",
       "      <th></th>\n",
       "      <th>sentence</th>\n",
       "      <th>Claim</th>\n",
       "      <th>Concluding Statement</th>\n",
       "      <th>Counterclaim</th>\n",
       "      <th>Evidence</th>\n",
       "      <th>Lead</th>\n",
       "      <th>Position</th>\n",
       "      <th>Rebuttal</th>\n",
       "      <th>text</th>\n",
       "      <th>url</th>\n",
       "    </tr>\n",
       "  </thead>\n",
       "  <tbody>\n",
       "    <tr>\n",
       "      <th>0</th>\n",
       "      <td>I am Prannaya Gupta.</td>\n",
       "      <td>-0.054959</td>\n",
       "      <td>-1.219409</td>\n",
       "      <td>-1.04898</td>\n",
       "      <td>-0.573005</td>\n",
       "      <td>7.462467</td>\n",
       "      <td>-0.159238</td>\n",
       "      <td>-3.358014</td>\n",
       "      <td>I am Prannaya Gupta. My teammate is Liew Wei Pyn.</td>\n",
       "      <td>https://nytimes.com</td>\n",
       "    </tr>\n",
       "    <tr>\n",
       "      <th>1</th>\n",
       "      <td>My teammate is Liew Wei Pyn.</td>\n",
       "      <td>4.576728</td>\n",
       "      <td>-3.076888</td>\n",
       "      <td>-0.077138</td>\n",
       "      <td>1.287278</td>\n",
       "      <td>0.04913</td>\n",
       "      <td>-0.767002</td>\n",
       "      <td>-1.636742</td>\n",
       "      <td>I am Prannaya Gupta. My teammate is Liew Wei Pyn.</td>\n",
       "      <td>https://nytimes.com</td>\n",
       "    </tr>\n",
       "    <tr>\n",
       "      <th>2</th>\n",
       "      <td>I have an inflamed larynx.</td>\n",
       "      <td>6.714224</td>\n",
       "      <td>-2.542686</td>\n",
       "      <td>-1.284292</td>\n",
       "      <td>1.195773</td>\n",
       "      <td>-0.788462</td>\n",
       "      <td>-1.276066</td>\n",
       "      <td>-1.976083</td>\n",
       "      <td>I have an inflamed larynx. We are out of herba...</td>\n",
       "      <td>https://straitstimes.com</td>\n",
       "    </tr>\n",
       "    <tr>\n",
       "      <th>3</th>\n",
       "      <td>We are out of herbal tea.</td>\n",
       "      <td>4.061336</td>\n",
       "      <td>-2.019389</td>\n",
       "      <td>-2.027314</td>\n",
       "      <td>2.581639</td>\n",
       "      <td>-0.58224</td>\n",
       "      <td>-1.491735</td>\n",
       "      <td>-0.986001</td>\n",
       "      <td>I have an inflamed larynx. We are out of herba...</td>\n",
       "      <td>https://straitstimes.com</td>\n",
       "    </tr>\n",
       "    <tr>\n",
       "      <th>4</th>\n",
       "      <td>Do you want any?</td>\n",
       "      <td>-0.009475</td>\n",
       "      <td>-0.878833</td>\n",
       "      <td>-1.584011</td>\n",
       "      <td>-0.448498</td>\n",
       "      <td>7.578365</td>\n",
       "      <td>-0.599353</td>\n",
       "      <td>-3.289468</td>\n",
       "      <td>I have an inflamed larynx. We are out of herba...</td>\n",
       "      <td>https://straitstimes.com</td>\n",
       "    </tr>\n",
       "  </tbody>\n",
       "</table>\n",
       "</div>"
      ],
      "text/plain": [
       "                       sentence     Claim Concluding Statement Counterclaim  \\\n",
       "0          I am Prannaya Gupta. -0.054959            -1.219409     -1.04898   \n",
       "1  My teammate is Liew Wei Pyn.  4.576728            -3.076888    -0.077138   \n",
       "2    I have an inflamed larynx.  6.714224            -2.542686    -1.284292   \n",
       "3     We are out of herbal tea.  4.061336            -2.019389    -2.027314   \n",
       "4              Do you want any? -0.009475            -0.878833    -1.584011   \n",
       "\n",
       "   Evidence      Lead  Position  Rebuttal  \\\n",
       "0 -0.573005  7.462467 -0.159238 -3.358014   \n",
       "1  1.287278   0.04913 -0.767002 -1.636742   \n",
       "2  1.195773 -0.788462 -1.276066 -1.976083   \n",
       "3  2.581639  -0.58224 -1.491735 -0.986001   \n",
       "4 -0.448498  7.578365 -0.599353 -3.289468   \n",
       "\n",
       "                                                text                       url  \n",
       "0  I am Prannaya Gupta. My teammate is Liew Wei Pyn.       https://nytimes.com  \n",
       "1  I am Prannaya Gupta. My teammate is Liew Wei Pyn.       https://nytimes.com  \n",
       "2  I have an inflamed larynx. We are out of herba...  https://straitstimes.com  \n",
       "3  I have an inflamed larynx. We are out of herba...  https://straitstimes.com  \n",
       "4  I have an inflamed larynx. We are out of herba...  https://straitstimes.com  "
      ]
     },
     "execution_count": 53,
     "metadata": {},
     "output_type": "execute_result"
    }
   ],
   "source": [
    "pd.concat(text.apply(predict).apply(lambda df:df.reset_index().rename(columns={\"index\":\"sentence\"})).tolist()).merge(ogdf)"
   ]
  },
  {
   "cell_type": "code",
   "execution_count": null,
   "id": "41f70109",
   "metadata": {},
   "outputs": [],
   "source": []
  }
 ],
 "metadata": {
  "kernelspec": {
   "display_name": "Python 3 (ipykernel)",
   "language": "python",
   "name": "python3"
  },
  "language_info": {
   "codemirror_mode": {
    "name": "ipython",
    "version": 3
   },
   "file_extension": ".py",
   "mimetype": "text/x-python",
   "name": "python",
   "nbconvert_exporter": "python",
   "pygments_lexer": "ipython3",
   "version": "3.9.7"
  },
  "toc": {
   "base_numbering": 1,
   "nav_menu": {},
   "number_sections": true,
   "sideBar": true,
   "skip_h1_title": false,
   "title_cell": "Table of Contents",
   "title_sidebar": "Contents",
   "toc_cell": false,
   "toc_position": {},
   "toc_section_display": true,
   "toc_window_display": false
  },
  "varInspector": {
   "cols": {
    "lenName": 16,
    "lenType": 16,
    "lenVar": 40
   },
   "kernels_config": {
    "python": {
     "delete_cmd_postfix": "",
     "delete_cmd_prefix": "del ",
     "library": "var_list.py",
     "varRefreshCmd": "print(var_dic_list())"
    },
    "r": {
     "delete_cmd_postfix": ") ",
     "delete_cmd_prefix": "rm(",
     "library": "var_list.r",
     "varRefreshCmd": "cat(var_dic_list()) "
    }
   },
   "types_to_exclude": [
    "module",
    "function",
    "builtin_function_or_method",
    "instance",
    "_Feature"
   ],
   "window_display": false
  }
 },
 "nbformat": 4,
 "nbformat_minor": 5
}
