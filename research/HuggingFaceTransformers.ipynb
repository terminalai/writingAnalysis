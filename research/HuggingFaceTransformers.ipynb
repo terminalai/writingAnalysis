{
 "cells": [
  {
   "cell_type": "markdown",
   "metadata": {
    "id": "ObJKkwrOdjPM"
   },
   "source": [
    "# PIP INSTALLATION (if needed)"
   ]
  },
  {
   "cell_type": "code",
   "execution_count": null,
   "metadata": {
    "colab": {
     "base_uri": "https://localhost:8080/"
    },
    "executionInfo": {
     "elapsed": 31419,
     "status": "ok",
     "timestamp": 1644382339294,
     "user": {
      "displayName": "Clyde",
      "photoUrl": "https://lh3.googleusercontent.com/a-/AOh14GjoLYXAGsV_YRhlDcFT578Eid_TYHtCYj4giy6Svw=s64",
      "userId": "17715859681118314357"
     },
     "user_tz": -480
    },
    "id": "O1-OsNxpdfUw",
    "outputId": "6046992d-d095-4d22-8ddd-b384091ed32c",
    "tags": []
   },
   "outputs": [],
   "source": [
    "!pip install transformers\n",
    "!pip install datasets"
   ]
  },
  {
   "cell_type": "code",
   "execution_count": null,
   "metadata": {
    "colab": {
     "base_uri": "https://localhost:8080/"
    },
    "executionInfo": {
     "elapsed": 781,
     "status": "ok",
     "timestamp": 1644386302790,
     "user": {
      "displayName": "Clyde",
      "photoUrl": "https://lh3.googleusercontent.com/a-/AOh14GjoLYXAGsV_YRhlDcFT578Eid_TYHtCYj4giy6Svw=s64",
      "userId": "17715859681118314357"
     },
     "user_tz": -480
    },
    "id": "l5AEwpJPc-pK",
    "outputId": "1d982071-ccda-4601-d5c7-fdaa8eb98255"
   },
   "outputs": [],
   "source": [
    "!nvidia-smi"
   ]
  },
  {
   "cell_type": "code",
   "execution_count": null,
   "metadata": {
    "colab": {
     "base_uri": "https://localhost:8080/"
    },
    "executionInfo": {
     "elapsed": 490,
     "status": "ok",
     "timestamp": 1644386080266,
     "user": {
      "displayName": "Clyde",
      "photoUrl": "https://lh3.googleusercontent.com/a-/AOh14GjoLYXAGsV_YRhlDcFT578Eid_TYHtCYj4giy6Svw=s64",
      "userId": "17715859681118314357"
     },
     "user_tz": -480
    },
    "id": "a6aZ_xM_BOJS",
    "outputId": "ad5d9a66-d1d9-4838-e514-d26be9c7fb5a"
   },
   "outputs": [],
   "source": [
    "!export CUDA_VISIBLE_DEVICES=0\n",
    "!echo $CUDA_VISIBLE_DEVICES"
   ]
  },
  {
   "cell_type": "markdown",
   "metadata": {
    "id": "ErVKZvFRBWLe"
   },
   "source": [
    "Remember to restart the runtime after pip install to ensure that the packages will correctly import"
   ]
  },
  {
   "cell_type": "markdown",
   "metadata": {
    "id": "btfyCH1wFq_X"
   },
   "source": [
    "# Imports"
   ]
  },
  {
   "cell_type": "code",
   "execution_count": 1,
   "metadata": {
    "executionInfo": {
     "elapsed": 9235,
     "status": "ok",
     "timestamp": 1644385958726,
     "user": {
      "displayName": "Clyde",
      "photoUrl": "https://lh3.googleusercontent.com/a-/AOh14GjoLYXAGsV_YRhlDcFT578Eid_TYHtCYj4giy6Svw=s64",
      "userId": "17715859681118314357"
     },
     "user_tz": -480
    },
    "id": "2o329k268xlN"
   },
   "outputs": [],
   "source": [
    "from transformers import pipeline\n",
    "from transformers import AutoTokenizer\n",
    "from transformers import DataCollatorWithPadding\n",
    "from transformers import AutoModelForSequenceClassification, TrainingArguments, Trainer\n",
    "\n",
    "from datasets import Dataset, DatasetDict\n",
    "\n",
    "from sklearn.model_selection import train_test_split\n",
    "\n",
    "import pandas as pd\n",
    "import logging\n",
    "from glob import glob\n",
    "from os import path\n",
    "\n",
    "import torch"
   ]
  },
  {
   "cell_type": "code",
   "execution_count": 19,
   "metadata": {
    "colab": {
     "base_uri": "https://localhost:8080/"
    },
    "executionInfo": {
     "elapsed": 872,
     "status": "ok",
     "timestamp": 1644386513111,
     "user": {
      "displayName": "Clyde",
      "photoUrl": "https://lh3.googleusercontent.com/a-/AOh14GjoLYXAGsV_YRhlDcFT578Eid_TYHtCYj4giy6Svw=s64",
      "userId": "17715859681118314357"
     },
     "user_tz": -480
    },
    "id": "UtGdQi_h_hBq",
    "outputId": "21f25b69-7ff5-4ac2-ba93-9825c06cc643"
   },
   "outputs": [
    {
     "data": {
      "text/plain": [
       "True"
      ]
     },
     "execution_count": 19,
     "metadata": {},
     "output_type": "execute_result"
    }
   ],
   "source": [
    "device = \"cuda:0\" if torch.cuda.is_available() else \"cpu\"\n",
    "device = torch.device(device)\n",
    "torch.cuda.is_available()"
   ]
  },
  {
   "cell_type": "markdown",
   "metadata": {
    "id": "XPEh7OCJLpq8",
    "tags": []
   },
   "source": [
    "# Preprocessing Dataset"
   ]
  },
  {
   "cell_type": "code",
   "execution_count": 2,
   "metadata": {
    "colab": {
     "base_uri": "https://localhost:8080/",
     "height": 832
    },
    "executionInfo": {
     "elapsed": 1289,
     "status": "ok",
     "timestamp": 1644386092655,
     "user": {
      "displayName": "Clyde",
      "photoUrl": "https://lh3.googleusercontent.com/a-/AOh14GjoLYXAGsV_YRhlDcFT578Eid_TYHtCYj4giy6Svw=s64",
      "userId": "17715859681118314357"
     },
     "user_tz": -480
    },
    "id": "rM-Q5mDC5GuX",
    "outputId": "68b3ca52-9466-4e2b-f9b1-f04da4fbbf56"
   },
   "outputs": [
    {
     "data": {
      "text/html": [
       "<div>\n",
       "<style scoped>\n",
       "    .dataframe tbody tr th:only-of-type {\n",
       "        vertical-align: middle;\n",
       "    }\n",
       "\n",
       "    .dataframe tbody tr th {\n",
       "        vertical-align: top;\n",
       "    }\n",
       "\n",
       "    .dataframe thead th {\n",
       "        text-align: right;\n",
       "    }\n",
       "</style>\n",
       "<table border=\"1\" class=\"dataframe\">\n",
       "  <thead>\n",
       "    <tr style=\"text-align: right;\">\n",
       "      <th></th>\n",
       "      <th>id</th>\n",
       "      <th>discourse_id</th>\n",
       "      <th>discourse_start</th>\n",
       "      <th>discourse_end</th>\n",
       "      <th>discourse_text</th>\n",
       "      <th>discourse_type</th>\n",
       "      <th>discourse_type_num</th>\n",
       "      <th>predictionstring</th>\n",
       "    </tr>\n",
       "  </thead>\n",
       "  <tbody>\n",
       "    <tr>\n",
       "      <th>0</th>\n",
       "      <td>423A1CA112E2</td>\n",
       "      <td>1.622628e+12</td>\n",
       "      <td>8.0</td>\n",
       "      <td>229.0</td>\n",
       "      <td>Modern humans today are always on their phone....</td>\n",
       "      <td>Lead</td>\n",
       "      <td>Lead 1</td>\n",
       "      <td>1 2 3 4 5 6 7 8 9 10 11 12 13 14 15 16 17 18 1...</td>\n",
       "    </tr>\n",
       "    <tr>\n",
       "      <th>1</th>\n",
       "      <td>423A1CA112E2</td>\n",
       "      <td>1.622628e+12</td>\n",
       "      <td>230.0</td>\n",
       "      <td>312.0</td>\n",
       "      <td>They are some really bad consequences when stu...</td>\n",
       "      <td>Position</td>\n",
       "      <td>Position 1</td>\n",
       "      <td>45 46 47 48 49 50 51 52 53 54 55 56 57 58 59</td>\n",
       "    </tr>\n",
       "    <tr>\n",
       "      <th>2</th>\n",
       "      <td>423A1CA112E2</td>\n",
       "      <td>1.622628e+12</td>\n",
       "      <td>313.0</td>\n",
       "      <td>401.0</td>\n",
       "      <td>Some certain areas in the United States ban ph...</td>\n",
       "      <td>Evidence</td>\n",
       "      <td>Evidence 1</td>\n",
       "      <td>60 61 62 63 64 65 66 67 68 69 70 71 72 73 74 75</td>\n",
       "    </tr>\n",
       "    <tr>\n",
       "      <th>3</th>\n",
       "      <td>423A1CA112E2</td>\n",
       "      <td>1.622628e+12</td>\n",
       "      <td>402.0</td>\n",
       "      <td>758.0</td>\n",
       "      <td>When people have phones, they know about certa...</td>\n",
       "      <td>Evidence</td>\n",
       "      <td>Evidence 2</td>\n",
       "      <td>76 77 78 79 80 81 82 83 84 85 86 87 88 89 90 9...</td>\n",
       "    </tr>\n",
       "    <tr>\n",
       "      <th>4</th>\n",
       "      <td>423A1CA112E2</td>\n",
       "      <td>1.622628e+12</td>\n",
       "      <td>759.0</td>\n",
       "      <td>886.0</td>\n",
       "      <td>Driving is one of the way how to get around. P...</td>\n",
       "      <td>Claim</td>\n",
       "      <td>Claim 1</td>\n",
       "      <td>139 140 141 142 143 144 145 146 147 148 149 15...</td>\n",
       "    </tr>\n",
       "    <tr>\n",
       "      <th>...</th>\n",
       "      <td>...</td>\n",
       "      <td>...</td>\n",
       "      <td>...</td>\n",
       "      <td>...</td>\n",
       "      <td>...</td>\n",
       "      <td>...</td>\n",
       "      <td>...</td>\n",
       "      <td>...</td>\n",
       "    </tr>\n",
       "    <tr>\n",
       "      <th>144288</th>\n",
       "      <td>4C471936CD75</td>\n",
       "      <td>1.618153e+12</td>\n",
       "      <td>2234.0</td>\n",
       "      <td>3203.0</td>\n",
       "      <td>if I'm not sure what college I want to attend...</td>\n",
       "      <td>Evidence</td>\n",
       "      <td>Evidence 2</td>\n",
       "      <td>386 387 388 389 390 391 392 393 394 395 396 39...</td>\n",
       "    </tr>\n",
       "    <tr>\n",
       "      <th>144289</th>\n",
       "      <td>4C471936CD75</td>\n",
       "      <td>1.618153e+12</td>\n",
       "      <td>3221.0</td>\n",
       "      <td>4509.0</td>\n",
       "      <td>seeking multiple opinions before making a har...</td>\n",
       "      <td>Evidence</td>\n",
       "      <td>Evidence 3</td>\n",
       "      <td>576 577 578 579 580 581 582 583 584 585 586 58...</td>\n",
       "    </tr>\n",
       "    <tr>\n",
       "      <th>144290</th>\n",
       "      <td>4C471936CD75</td>\n",
       "      <td>1.618025e+12</td>\n",
       "      <td>4510.0</td>\n",
       "      <td>4570.0</td>\n",
       "      <td>it is better to seekÂ multiple opinions instea...</td>\n",
       "      <td>Position</td>\n",
       "      <td>Position 1</td>\n",
       "      <td>828 829 830 831 832 833 834 835 836 837 838</td>\n",
       "    </tr>\n",
       "    <tr>\n",
       "      <th>144291</th>\n",
       "      <td>4C471936CD75</td>\n",
       "      <td>1.618025e+12</td>\n",
       "      <td>4570.0</td>\n",
       "      <td>4922.0</td>\n",
       "      <td>The impact of asking people to helpÂ you make ...</td>\n",
       "      <td>Evidence</td>\n",
       "      <td>Evidence 4</td>\n",
       "      <td>839 840 841 842 843 844 845 846 847 848 849 85...</td>\n",
       "    </tr>\n",
       "    <tr>\n",
       "      <th>144292</th>\n",
       "      <td>4C471936CD75</td>\n",
       "      <td>1.618025e+12</td>\n",
       "      <td>4935.0</td>\n",
       "      <td>5825.0</td>\n",
       "      <td>there are many other reasons one might want to...</td>\n",
       "      <td>Concluding Statement</td>\n",
       "      <td>Concluding Statement 1</td>\n",
       "      <td>905 906 907 908 909 910 911 912 913 914 915 91...</td>\n",
       "    </tr>\n",
       "  </tbody>\n",
       "</table>\n",
       "<p>144293 rows × 8 columns</p>\n",
       "</div>"
      ],
      "text/plain": [
       "                  id  discourse_id  discourse_start  discourse_end  \\\n",
       "0       423A1CA112E2  1.622628e+12              8.0          229.0   \n",
       "1       423A1CA112E2  1.622628e+12            230.0          312.0   \n",
       "2       423A1CA112E2  1.622628e+12            313.0          401.0   \n",
       "3       423A1CA112E2  1.622628e+12            402.0          758.0   \n",
       "4       423A1CA112E2  1.622628e+12            759.0          886.0   \n",
       "...              ...           ...              ...            ...   \n",
       "144288  4C471936CD75  1.618153e+12           2234.0         3203.0   \n",
       "144289  4C471936CD75  1.618153e+12           3221.0         4509.0   \n",
       "144290  4C471936CD75  1.618025e+12           4510.0         4570.0   \n",
       "144291  4C471936CD75  1.618025e+12           4570.0         4922.0   \n",
       "144292  4C471936CD75  1.618025e+12           4935.0         5825.0   \n",
       "\n",
       "                                           discourse_text  \\\n",
       "0       Modern humans today are always on their phone....   \n",
       "1       They are some really bad consequences when stu...   \n",
       "2       Some certain areas in the United States ban ph...   \n",
       "3       When people have phones, they know about certa...   \n",
       "4       Driving is one of the way how to get around. P...   \n",
       "...                                                   ...   \n",
       "144288   if I'm not sure what college I want to attend...   \n",
       "144289   seeking multiple opinions before making a har...   \n",
       "144290  it is better to seekÂ multiple opinions instea...   \n",
       "144291  The impact of asking people to helpÂ you make ...   \n",
       "144292  there are many other reasons one might want to...   \n",
       "\n",
       "              discourse_type      discourse_type_num  \\\n",
       "0                       Lead                  Lead 1   \n",
       "1                   Position              Position 1   \n",
       "2                   Evidence              Evidence 1   \n",
       "3                   Evidence              Evidence 2   \n",
       "4                      Claim                 Claim 1   \n",
       "...                      ...                     ...   \n",
       "144288              Evidence              Evidence 2   \n",
       "144289              Evidence              Evidence 3   \n",
       "144290              Position              Position 1   \n",
       "144291              Evidence              Evidence 4   \n",
       "144292  Concluding Statement  Concluding Statement 1   \n",
       "\n",
       "                                         predictionstring  \n",
       "0       1 2 3 4 5 6 7 8 9 10 11 12 13 14 15 16 17 18 1...  \n",
       "1            45 46 47 48 49 50 51 52 53 54 55 56 57 58 59  \n",
       "2         60 61 62 63 64 65 66 67 68 69 70 71 72 73 74 75  \n",
       "3       76 77 78 79 80 81 82 83 84 85 86 87 88 89 90 9...  \n",
       "4       139 140 141 142 143 144 145 146 147 148 149 15...  \n",
       "...                                                   ...  \n",
       "144288  386 387 388 389 390 391 392 393 394 395 396 39...  \n",
       "144289  576 577 578 579 580 581 582 583 584 585 586 58...  \n",
       "144290        828 829 830 831 832 833 834 835 836 837 838  \n",
       "144291  839 840 841 842 843 844 845 846 847 848 849 85...  \n",
       "144292  905 906 907 908 909 910 911 912 913 914 915 91...  \n",
       "\n",
       "[144293 rows x 8 columns]"
      ]
     },
     "execution_count": 2,
     "metadata": {},
     "output_type": "execute_result"
    }
   ],
   "source": [
    "dataset_path = r\"../dataset/train.csv\"\n",
    "df = pd.read_csv(dataset_path, header=0, encoding= 'unicode_escape')\n",
    "df"
   ]
  },
  {
   "cell_type": "code",
   "execution_count": 3,
   "metadata": {
    "colab": {
     "base_uri": "https://localhost:8080/",
     "height": 812
    },
    "executionInfo": {
     "elapsed": 508,
     "status": "ok",
     "timestamp": 1644386093161,
     "user": {
      "displayName": "Clyde",
      "photoUrl": "https://lh3.googleusercontent.com/a-/AOh14GjoLYXAGsV_YRhlDcFT578Eid_TYHtCYj4giy6Svw=s64",
      "userId": "17715859681118314357"
     },
     "user_tz": -480
    },
    "id": "lhoDiXsw4Mfz",
    "outputId": "2eacb722-5e0b-4d7a-f08d-2220f02ca301"
   },
   "outputs": [
    {
     "data": {
      "text/html": [
       "<div>\n",
       "<style scoped>\n",
       "    .dataframe tbody tr th:only-of-type {\n",
       "        vertical-align: middle;\n",
       "    }\n",
       "\n",
       "    .dataframe tbody tr th {\n",
       "        vertical-align: top;\n",
       "    }\n",
       "\n",
       "    .dataframe thead th {\n",
       "        text-align: right;\n",
       "    }\n",
       "</style>\n",
       "<table border=\"1\" class=\"dataframe\">\n",
       "  <thead>\n",
       "    <tr style=\"text-align: right;\">\n",
       "      <th></th>\n",
       "      <th>discourse_id</th>\n",
       "      <th>discourse_start</th>\n",
       "      <th>discourse_end</th>\n",
       "      <th>discourse_text</th>\n",
       "      <th>discourse_type</th>\n",
       "      <th>discourse_type_num</th>\n",
       "      <th>predictionstring</th>\n",
       "    </tr>\n",
       "    <tr>\n",
       "      <th>id</th>\n",
       "      <th></th>\n",
       "      <th></th>\n",
       "      <th></th>\n",
       "      <th></th>\n",
       "      <th></th>\n",
       "      <th></th>\n",
       "      <th></th>\n",
       "    </tr>\n",
       "  </thead>\n",
       "  <tbody>\n",
       "    <tr>\n",
       "      <th>423A1CA112E2</th>\n",
       "      <td>1.622628e+12</td>\n",
       "      <td>8.0</td>\n",
       "      <td>229.0</td>\n",
       "      <td>Modern humans today are always on their phone....</td>\n",
       "      <td>Lead</td>\n",
       "      <td>Lead 1</td>\n",
       "      <td>1 2 3 4 5 6 7 8 9 10 11 12 13 14 15 16 17 18 1...</td>\n",
       "    </tr>\n",
       "    <tr>\n",
       "      <th>423A1CA112E2</th>\n",
       "      <td>1.622628e+12</td>\n",
       "      <td>230.0</td>\n",
       "      <td>312.0</td>\n",
       "      <td>They are some really bad consequences when stu...</td>\n",
       "      <td>Position</td>\n",
       "      <td>Position 1</td>\n",
       "      <td>45 46 47 48 49 50 51 52 53 54 55 56 57 58 59</td>\n",
       "    </tr>\n",
       "    <tr>\n",
       "      <th>423A1CA112E2</th>\n",
       "      <td>1.622628e+12</td>\n",
       "      <td>313.0</td>\n",
       "      <td>401.0</td>\n",
       "      <td>Some certain areas in the United States ban ph...</td>\n",
       "      <td>Evidence</td>\n",
       "      <td>Evidence 1</td>\n",
       "      <td>60 61 62 63 64 65 66 67 68 69 70 71 72 73 74 75</td>\n",
       "    </tr>\n",
       "    <tr>\n",
       "      <th>423A1CA112E2</th>\n",
       "      <td>1.622628e+12</td>\n",
       "      <td>402.0</td>\n",
       "      <td>758.0</td>\n",
       "      <td>When people have phones, they know about certa...</td>\n",
       "      <td>Evidence</td>\n",
       "      <td>Evidence 2</td>\n",
       "      <td>76 77 78 79 80 81 82 83 84 85 86 87 88 89 90 9...</td>\n",
       "    </tr>\n",
       "    <tr>\n",
       "      <th>423A1CA112E2</th>\n",
       "      <td>1.622628e+12</td>\n",
       "      <td>759.0</td>\n",
       "      <td>886.0</td>\n",
       "      <td>Driving is one of the way how to get around. P...</td>\n",
       "      <td>Claim</td>\n",
       "      <td>Claim 1</td>\n",
       "      <td>139 140 141 142 143 144 145 146 147 148 149 15...</td>\n",
       "    </tr>\n",
       "    <tr>\n",
       "      <th>...</th>\n",
       "      <td>...</td>\n",
       "      <td>...</td>\n",
       "      <td>...</td>\n",
       "      <td>...</td>\n",
       "      <td>...</td>\n",
       "      <td>...</td>\n",
       "      <td>...</td>\n",
       "    </tr>\n",
       "    <tr>\n",
       "      <th>4C471936CD75</th>\n",
       "      <td>1.618153e+12</td>\n",
       "      <td>2234.0</td>\n",
       "      <td>3203.0</td>\n",
       "      <td>if I'm not sure what college I want to attend...</td>\n",
       "      <td>Evidence</td>\n",
       "      <td>Evidence 2</td>\n",
       "      <td>386 387 388 389 390 391 392 393 394 395 396 39...</td>\n",
       "    </tr>\n",
       "    <tr>\n",
       "      <th>4C471936CD75</th>\n",
       "      <td>1.618153e+12</td>\n",
       "      <td>3221.0</td>\n",
       "      <td>4509.0</td>\n",
       "      <td>seeking multiple opinions before making a har...</td>\n",
       "      <td>Evidence</td>\n",
       "      <td>Evidence 3</td>\n",
       "      <td>576 577 578 579 580 581 582 583 584 585 586 58...</td>\n",
       "    </tr>\n",
       "    <tr>\n",
       "      <th>4C471936CD75</th>\n",
       "      <td>1.618025e+12</td>\n",
       "      <td>4510.0</td>\n",
       "      <td>4570.0</td>\n",
       "      <td>it is better to seekÂ multiple opinions instea...</td>\n",
       "      <td>Position</td>\n",
       "      <td>Position 1</td>\n",
       "      <td>828 829 830 831 832 833 834 835 836 837 838</td>\n",
       "    </tr>\n",
       "    <tr>\n",
       "      <th>4C471936CD75</th>\n",
       "      <td>1.618025e+12</td>\n",
       "      <td>4570.0</td>\n",
       "      <td>4922.0</td>\n",
       "      <td>The impact of asking people to helpÂ you make ...</td>\n",
       "      <td>Evidence</td>\n",
       "      <td>Evidence 4</td>\n",
       "      <td>839 840 841 842 843 844 845 846 847 848 849 85...</td>\n",
       "    </tr>\n",
       "    <tr>\n",
       "      <th>4C471936CD75</th>\n",
       "      <td>1.618025e+12</td>\n",
       "      <td>4935.0</td>\n",
       "      <td>5825.0</td>\n",
       "      <td>there are many other reasons one might want to...</td>\n",
       "      <td>Concluding Statement</td>\n",
       "      <td>Concluding Statement 1</td>\n",
       "      <td>905 906 907 908 909 910 911 912 913 914 915 91...</td>\n",
       "    </tr>\n",
       "  </tbody>\n",
       "</table>\n",
       "<p>144293 rows × 7 columns</p>\n",
       "</div>"
      ],
      "text/plain": [
       "              discourse_id  discourse_start  discourse_end  \\\n",
       "id                                                           \n",
       "423A1CA112E2  1.622628e+12              8.0          229.0   \n",
       "423A1CA112E2  1.622628e+12            230.0          312.0   \n",
       "423A1CA112E2  1.622628e+12            313.0          401.0   \n",
       "423A1CA112E2  1.622628e+12            402.0          758.0   \n",
       "423A1CA112E2  1.622628e+12            759.0          886.0   \n",
       "...                    ...              ...            ...   \n",
       "4C471936CD75  1.618153e+12           2234.0         3203.0   \n",
       "4C471936CD75  1.618153e+12           3221.0         4509.0   \n",
       "4C471936CD75  1.618025e+12           4510.0         4570.0   \n",
       "4C471936CD75  1.618025e+12           4570.0         4922.0   \n",
       "4C471936CD75  1.618025e+12           4935.0         5825.0   \n",
       "\n",
       "                                                 discourse_text  \\\n",
       "id                                                                \n",
       "423A1CA112E2  Modern humans today are always on their phone....   \n",
       "423A1CA112E2  They are some really bad consequences when stu...   \n",
       "423A1CA112E2  Some certain areas in the United States ban ph...   \n",
       "423A1CA112E2  When people have phones, they know about certa...   \n",
       "423A1CA112E2  Driving is one of the way how to get around. P...   \n",
       "...                                                         ...   \n",
       "4C471936CD75   if I'm not sure what college I want to attend...   \n",
       "4C471936CD75   seeking multiple opinions before making a har...   \n",
       "4C471936CD75  it is better to seekÂ multiple opinions instea...   \n",
       "4C471936CD75  The impact of asking people to helpÂ you make ...   \n",
       "4C471936CD75  there are many other reasons one might want to...   \n",
       "\n",
       "                    discourse_type      discourse_type_num  \\\n",
       "id                                                           \n",
       "423A1CA112E2                  Lead                  Lead 1   \n",
       "423A1CA112E2              Position              Position 1   \n",
       "423A1CA112E2              Evidence              Evidence 1   \n",
       "423A1CA112E2              Evidence              Evidence 2   \n",
       "423A1CA112E2                 Claim                 Claim 1   \n",
       "...                            ...                     ...   \n",
       "4C471936CD75              Evidence              Evidence 2   \n",
       "4C471936CD75              Evidence              Evidence 3   \n",
       "4C471936CD75              Position              Position 1   \n",
       "4C471936CD75              Evidence              Evidence 4   \n",
       "4C471936CD75  Concluding Statement  Concluding Statement 1   \n",
       "\n",
       "                                               predictionstring  \n",
       "id                                                               \n",
       "423A1CA112E2  1 2 3 4 5 6 7 8 9 10 11 12 13 14 15 16 17 18 1...  \n",
       "423A1CA112E2       45 46 47 48 49 50 51 52 53 54 55 56 57 58 59  \n",
       "423A1CA112E2    60 61 62 63 64 65 66 67 68 69 70 71 72 73 74 75  \n",
       "423A1CA112E2  76 77 78 79 80 81 82 83 84 85 86 87 88 89 90 9...  \n",
       "423A1CA112E2  139 140 141 142 143 144 145 146 147 148 149 15...  \n",
       "...                                                         ...  \n",
       "4C471936CD75  386 387 388 389 390 391 392 393 394 395 396 39...  \n",
       "4C471936CD75  576 577 578 579 580 581 582 583 584 585 586 58...  \n",
       "4C471936CD75        828 829 830 831 832 833 834 835 836 837 838  \n",
       "4C471936CD75  839 840 841 842 843 844 845 846 847 848 849 85...  \n",
       "4C471936CD75  905 906 907 908 909 910 911 912 913 914 915 91...  \n",
       "\n",
       "[144293 rows x 7 columns]"
      ]
     },
     "execution_count": 3,
     "metadata": {},
     "output_type": "execute_result"
    }
   ],
   "source": [
    "df = df.set_index(\"id\")\n",
    "df"
   ]
  },
  {
   "cell_type": "code",
   "execution_count": 4,
   "metadata": {
    "colab": {
     "base_uri": "https://localhost:8080/",
     "height": 846
    },
    "executionInfo": {
     "elapsed": 5,
     "status": "ok",
     "timestamp": 1644386093162,
     "user": {
      "displayName": "Clyde",
      "photoUrl": "https://lh3.googleusercontent.com/a-/AOh14GjoLYXAGsV_YRhlDcFT578Eid_TYHtCYj4giy6Svw=s64",
      "userId": "17715859681118314357"
     },
     "user_tz": -480
    },
    "id": "iSBNgoWuyBUH",
    "outputId": "a8a26054-ec98-406f-a3cf-a6d440aa042b"
   },
   "outputs": [
    {
     "data": {
      "text/html": [
       "<div>\n",
       "<style scoped>\n",
       "    .dataframe tbody tr th:only-of-type {\n",
       "        vertical-align: middle;\n",
       "    }\n",
       "\n",
       "    .dataframe tbody tr th {\n",
       "        vertical-align: top;\n",
       "    }\n",
       "\n",
       "    .dataframe thead th {\n",
       "        text-align: right;\n",
       "    }\n",
       "</style>\n",
       "<table border=\"1\" class=\"dataframe\">\n",
       "  <thead>\n",
       "    <tr style=\"text-align: right;\">\n",
       "      <th></th>\n",
       "      <th>discourse_id</th>\n",
       "      <th>discourse_start</th>\n",
       "      <th>discourse_end</th>\n",
       "      <th>text</th>\n",
       "      <th>discourse_type</th>\n",
       "      <th>discourse_type_num</th>\n",
       "      <th>predictionstring</th>\n",
       "    </tr>\n",
       "    <tr>\n",
       "      <th>id</th>\n",
       "      <th></th>\n",
       "      <th></th>\n",
       "      <th></th>\n",
       "      <th></th>\n",
       "      <th></th>\n",
       "      <th></th>\n",
       "      <th></th>\n",
       "    </tr>\n",
       "  </thead>\n",
       "  <tbody>\n",
       "    <tr>\n",
       "      <th>423A1CA112E2</th>\n",
       "      <td>1.622628e+12</td>\n",
       "      <td>8.0</td>\n",
       "      <td>229.0</td>\n",
       "      <td>Modern humans today are always on their phone....</td>\n",
       "      <td>Lead</td>\n",
       "      <td>Lead 1</td>\n",
       "      <td>1 2 3 4 5 6 7 8 9 10 11 12 13 14 15 16 17 18 1...</td>\n",
       "    </tr>\n",
       "    <tr>\n",
       "      <th>423A1CA112E2</th>\n",
       "      <td>1.622628e+12</td>\n",
       "      <td>230.0</td>\n",
       "      <td>312.0</td>\n",
       "      <td>They are some really bad consequences when stu...</td>\n",
       "      <td>Position</td>\n",
       "      <td>Position 1</td>\n",
       "      <td>45 46 47 48 49 50 51 52 53 54 55 56 57 58 59</td>\n",
       "    </tr>\n",
       "    <tr>\n",
       "      <th>423A1CA112E2</th>\n",
       "      <td>1.622628e+12</td>\n",
       "      <td>313.0</td>\n",
       "      <td>401.0</td>\n",
       "      <td>Some certain areas in the United States ban ph...</td>\n",
       "      <td>Evidence</td>\n",
       "      <td>Evidence 1</td>\n",
       "      <td>60 61 62 63 64 65 66 67 68 69 70 71 72 73 74 75</td>\n",
       "    </tr>\n",
       "    <tr>\n",
       "      <th>423A1CA112E2</th>\n",
       "      <td>1.622628e+12</td>\n",
       "      <td>402.0</td>\n",
       "      <td>758.0</td>\n",
       "      <td>When people have phones, they know about certa...</td>\n",
       "      <td>Evidence</td>\n",
       "      <td>Evidence 2</td>\n",
       "      <td>76 77 78 79 80 81 82 83 84 85 86 87 88 89 90 9...</td>\n",
       "    </tr>\n",
       "    <tr>\n",
       "      <th>423A1CA112E2</th>\n",
       "      <td>1.622628e+12</td>\n",
       "      <td>759.0</td>\n",
       "      <td>886.0</td>\n",
       "      <td>Driving is one of the way how to get around. P...</td>\n",
       "      <td>Claim</td>\n",
       "      <td>Claim 1</td>\n",
       "      <td>139 140 141 142 143 144 145 146 147 148 149 15...</td>\n",
       "    </tr>\n",
       "    <tr>\n",
       "      <th>...</th>\n",
       "      <td>...</td>\n",
       "      <td>...</td>\n",
       "      <td>...</td>\n",
       "      <td>...</td>\n",
       "      <td>...</td>\n",
       "      <td>...</td>\n",
       "      <td>...</td>\n",
       "    </tr>\n",
       "    <tr>\n",
       "      <th>4C471936CD75</th>\n",
       "      <td>1.618153e+12</td>\n",
       "      <td>2234.0</td>\n",
       "      <td>3203.0</td>\n",
       "      <td>if I'm not sure what college I want to attend...</td>\n",
       "      <td>Evidence</td>\n",
       "      <td>Evidence 2</td>\n",
       "      <td>386 387 388 389 390 391 392 393 394 395 396 39...</td>\n",
       "    </tr>\n",
       "    <tr>\n",
       "      <th>4C471936CD75</th>\n",
       "      <td>1.618153e+12</td>\n",
       "      <td>3221.0</td>\n",
       "      <td>4509.0</td>\n",
       "      <td>seeking multiple opinions before making a har...</td>\n",
       "      <td>Evidence</td>\n",
       "      <td>Evidence 3</td>\n",
       "      <td>576 577 578 579 580 581 582 583 584 585 586 58...</td>\n",
       "    </tr>\n",
       "    <tr>\n",
       "      <th>4C471936CD75</th>\n",
       "      <td>1.618025e+12</td>\n",
       "      <td>4510.0</td>\n",
       "      <td>4570.0</td>\n",
       "      <td>it is better to seekÂ multiple opinions instea...</td>\n",
       "      <td>Position</td>\n",
       "      <td>Position 1</td>\n",
       "      <td>828 829 830 831 832 833 834 835 836 837 838</td>\n",
       "    </tr>\n",
       "    <tr>\n",
       "      <th>4C471936CD75</th>\n",
       "      <td>1.618025e+12</td>\n",
       "      <td>4570.0</td>\n",
       "      <td>4922.0</td>\n",
       "      <td>The impact of asking people to helpÂ you make ...</td>\n",
       "      <td>Evidence</td>\n",
       "      <td>Evidence 4</td>\n",
       "      <td>839 840 841 842 843 844 845 846 847 848 849 85...</td>\n",
       "    </tr>\n",
       "    <tr>\n",
       "      <th>4C471936CD75</th>\n",
       "      <td>1.618025e+12</td>\n",
       "      <td>4935.0</td>\n",
       "      <td>5825.0</td>\n",
       "      <td>there are many other reasons one might want to...</td>\n",
       "      <td>Concluding Statement</td>\n",
       "      <td>Concluding Statement 1</td>\n",
       "      <td>905 906 907 908 909 910 911 912 913 914 915 91...</td>\n",
       "    </tr>\n",
       "  </tbody>\n",
       "</table>\n",
       "<p>144293 rows × 7 columns</p>\n",
       "</div>"
      ],
      "text/plain": [
       "              discourse_id  discourse_start  discourse_end  \\\n",
       "id                                                           \n",
       "423A1CA112E2  1.622628e+12              8.0          229.0   \n",
       "423A1CA112E2  1.622628e+12            230.0          312.0   \n",
       "423A1CA112E2  1.622628e+12            313.0          401.0   \n",
       "423A1CA112E2  1.622628e+12            402.0          758.0   \n",
       "423A1CA112E2  1.622628e+12            759.0          886.0   \n",
       "...                    ...              ...            ...   \n",
       "4C471936CD75  1.618153e+12           2234.0         3203.0   \n",
       "4C471936CD75  1.618153e+12           3221.0         4509.0   \n",
       "4C471936CD75  1.618025e+12           4510.0         4570.0   \n",
       "4C471936CD75  1.618025e+12           4570.0         4922.0   \n",
       "4C471936CD75  1.618025e+12           4935.0         5825.0   \n",
       "\n",
       "                                                           text  \\\n",
       "id                                                                \n",
       "423A1CA112E2  Modern humans today are always on their phone....   \n",
       "423A1CA112E2  They are some really bad consequences when stu...   \n",
       "423A1CA112E2  Some certain areas in the United States ban ph...   \n",
       "423A1CA112E2  When people have phones, they know about certa...   \n",
       "423A1CA112E2  Driving is one of the way how to get around. P...   \n",
       "...                                                         ...   \n",
       "4C471936CD75   if I'm not sure what college I want to attend...   \n",
       "4C471936CD75   seeking multiple opinions before making a har...   \n",
       "4C471936CD75  it is better to seekÂ multiple opinions instea...   \n",
       "4C471936CD75  The impact of asking people to helpÂ you make ...   \n",
       "4C471936CD75  there are many other reasons one might want to...   \n",
       "\n",
       "                    discourse_type      discourse_type_num  \\\n",
       "id                                                           \n",
       "423A1CA112E2                  Lead                  Lead 1   \n",
       "423A1CA112E2              Position              Position 1   \n",
       "423A1CA112E2              Evidence              Evidence 1   \n",
       "423A1CA112E2              Evidence              Evidence 2   \n",
       "423A1CA112E2                 Claim                 Claim 1   \n",
       "...                            ...                     ...   \n",
       "4C471936CD75              Evidence              Evidence 2   \n",
       "4C471936CD75              Evidence              Evidence 3   \n",
       "4C471936CD75              Position              Position 1   \n",
       "4C471936CD75              Evidence              Evidence 4   \n",
       "4C471936CD75  Concluding Statement  Concluding Statement 1   \n",
       "\n",
       "                                               predictionstring  \n",
       "id                                                               \n",
       "423A1CA112E2  1 2 3 4 5 6 7 8 9 10 11 12 13 14 15 16 17 18 1...  \n",
       "423A1CA112E2       45 46 47 48 49 50 51 52 53 54 55 56 57 58 59  \n",
       "423A1CA112E2    60 61 62 63 64 65 66 67 68 69 70 71 72 73 74 75  \n",
       "423A1CA112E2  76 77 78 79 80 81 82 83 84 85 86 87 88 89 90 9...  \n",
       "423A1CA112E2  139 140 141 142 143 144 145 146 147 148 149 15...  \n",
       "...                                                         ...  \n",
       "4C471936CD75  386 387 388 389 390 391 392 393 394 395 396 39...  \n",
       "4C471936CD75  576 577 578 579 580 581 582 583 584 585 586 58...  \n",
       "4C471936CD75        828 829 830 831 832 833 834 835 836 837 838  \n",
       "4C471936CD75  839 840 841 842 843 844 845 846 847 848 849 85...  \n",
       "4C471936CD75  905 906 907 908 909 910 911 912 913 914 915 91...  \n",
       "\n",
       "[144293 rows x 7 columns]"
      ]
     },
     "execution_count": 4,
     "metadata": {},
     "output_type": "execute_result"
    }
   ],
   "source": [
    "df = df.rename(columns={\"discourse_text\": \"text\"})\n",
    "df"
   ]
  },
  {
   "cell_type": "code",
   "execution_count": 5,
   "metadata": {
    "executionInfo": {
     "elapsed": 5,
     "status": "ok",
     "timestamp": 1644386093163,
     "user": {
      "displayName": "Clyde",
      "photoUrl": "https://lh3.googleusercontent.com/a-/AOh14GjoLYXAGsV_YRhlDcFT578Eid_TYHtCYj4giy6Svw=s64",
      "userId": "17715859681118314357"
     },
     "user_tz": -480
    },
    "id": "20eHogAOIRap"
   },
   "outputs": [],
   "source": [
    "train_path = r\"drive/MyDrive/Colab Notebooks/datasets/feedback-prize-2021/train/\"\n",
    "def get_essay(id):\n",
    "  filepath = path.join(train_path, id + \".txt\")\n",
    "  f = open(filepath, 'r')\n",
    "  content = f.read()\n",
    "  f.close()\n",
    "  return content\n",
    "\n",
    "# get_essay('423A1CA112E2')"
   ]
  },
  {
   "cell_type": "code",
   "execution_count": 6,
   "metadata": {
    "colab": {
     "base_uri": "https://localhost:8080/",
     "height": 846
    },
    "executionInfo": {
     "elapsed": 6,
     "status": "ok",
     "timestamp": 1644386215503,
     "user": {
      "displayName": "Clyde",
      "photoUrl": "https://lh3.googleusercontent.com/a-/AOh14GjoLYXAGsV_YRhlDcFT578Eid_TYHtCYj4giy6Svw=s64",
      "userId": "17715859681118314357"
     },
     "user_tz": -480
    },
    "id": "4SlEGM3tZrWZ",
    "outputId": "42ea9c28-6659-41e4-8520-5dc124463266"
   },
   "outputs": [
    {
     "data": {
      "text/html": [
       "<div>\n",
       "<style scoped>\n",
       "    .dataframe tbody tr th:only-of-type {\n",
       "        vertical-align: middle;\n",
       "    }\n",
       "\n",
       "    .dataframe tbody tr th {\n",
       "        vertical-align: top;\n",
       "    }\n",
       "\n",
       "    .dataframe thead th {\n",
       "        text-align: right;\n",
       "    }\n",
       "</style>\n",
       "<table border=\"1\" class=\"dataframe\">\n",
       "  <thead>\n",
       "    <tr style=\"text-align: right;\">\n",
       "      <th></th>\n",
       "      <th>discourse_id</th>\n",
       "      <th>discourse_start</th>\n",
       "      <th>discourse_end</th>\n",
       "      <th>text</th>\n",
       "      <th>discourse_type</th>\n",
       "      <th>discourse_type_num</th>\n",
       "      <th>predictionstring</th>\n",
       "    </tr>\n",
       "    <tr>\n",
       "      <th>id</th>\n",
       "      <th></th>\n",
       "      <th></th>\n",
       "      <th></th>\n",
       "      <th></th>\n",
       "      <th></th>\n",
       "      <th></th>\n",
       "      <th></th>\n",
       "    </tr>\n",
       "  </thead>\n",
       "  <tbody>\n",
       "    <tr>\n",
       "      <th>423A1CA112E2</th>\n",
       "      <td>1.622628e+12</td>\n",
       "      <td>8.0</td>\n",
       "      <td>229.0</td>\n",
       "      <td>Modern humans today are always on their phone....</td>\n",
       "      <td>Lead</td>\n",
       "      <td>Lead 1</td>\n",
       "      <td>1 2 3 4 5 6 7 8 9 10 11 12 13 14 15 16 17 18 1...</td>\n",
       "    </tr>\n",
       "    <tr>\n",
       "      <th>423A1CA112E2</th>\n",
       "      <td>1.622628e+12</td>\n",
       "      <td>230.0</td>\n",
       "      <td>312.0</td>\n",
       "      <td>They are some really bad consequences when stu...</td>\n",
       "      <td>Position</td>\n",
       "      <td>Position 1</td>\n",
       "      <td>45 46 47 48 49 50 51 52 53 54 55 56 57 58 59</td>\n",
       "    </tr>\n",
       "    <tr>\n",
       "      <th>423A1CA112E2</th>\n",
       "      <td>1.622628e+12</td>\n",
       "      <td>313.0</td>\n",
       "      <td>401.0</td>\n",
       "      <td>Some certain areas in the United States ban ph...</td>\n",
       "      <td>Evidence</td>\n",
       "      <td>Evidence 1</td>\n",
       "      <td>60 61 62 63 64 65 66 67 68 69 70 71 72 73 74 75</td>\n",
       "    </tr>\n",
       "    <tr>\n",
       "      <th>423A1CA112E2</th>\n",
       "      <td>1.622628e+12</td>\n",
       "      <td>402.0</td>\n",
       "      <td>758.0</td>\n",
       "      <td>When people have phones, they know about certa...</td>\n",
       "      <td>Evidence</td>\n",
       "      <td>Evidence 2</td>\n",
       "      <td>76 77 78 79 80 81 82 83 84 85 86 87 88 89 90 9...</td>\n",
       "    </tr>\n",
       "    <tr>\n",
       "      <th>423A1CA112E2</th>\n",
       "      <td>1.622628e+12</td>\n",
       "      <td>759.0</td>\n",
       "      <td>886.0</td>\n",
       "      <td>Driving is one of the way how to get around. P...</td>\n",
       "      <td>Claim</td>\n",
       "      <td>Claim 1</td>\n",
       "      <td>139 140 141 142 143 144 145 146 147 148 149 15...</td>\n",
       "    </tr>\n",
       "    <tr>\n",
       "      <th>...</th>\n",
       "      <td>...</td>\n",
       "      <td>...</td>\n",
       "      <td>...</td>\n",
       "      <td>...</td>\n",
       "      <td>...</td>\n",
       "      <td>...</td>\n",
       "      <td>...</td>\n",
       "    </tr>\n",
       "    <tr>\n",
       "      <th>4C471936CD75</th>\n",
       "      <td>1.618153e+12</td>\n",
       "      <td>2234.0</td>\n",
       "      <td>3203.0</td>\n",
       "      <td>if I'm not sure what college I want to attend...</td>\n",
       "      <td>Evidence</td>\n",
       "      <td>Evidence 2</td>\n",
       "      <td>386 387 388 389 390 391 392 393 394 395 396 39...</td>\n",
       "    </tr>\n",
       "    <tr>\n",
       "      <th>4C471936CD75</th>\n",
       "      <td>1.618153e+12</td>\n",
       "      <td>3221.0</td>\n",
       "      <td>4509.0</td>\n",
       "      <td>seeking multiple opinions before making a har...</td>\n",
       "      <td>Evidence</td>\n",
       "      <td>Evidence 3</td>\n",
       "      <td>576 577 578 579 580 581 582 583 584 585 586 58...</td>\n",
       "    </tr>\n",
       "    <tr>\n",
       "      <th>4C471936CD75</th>\n",
       "      <td>1.618025e+12</td>\n",
       "      <td>4510.0</td>\n",
       "      <td>4570.0</td>\n",
       "      <td>it is better to seekÂ multiple opinions instea...</td>\n",
       "      <td>Position</td>\n",
       "      <td>Position 1</td>\n",
       "      <td>828 829 830 831 832 833 834 835 836 837 838</td>\n",
       "    </tr>\n",
       "    <tr>\n",
       "      <th>4C471936CD75</th>\n",
       "      <td>1.618025e+12</td>\n",
       "      <td>4570.0</td>\n",
       "      <td>4922.0</td>\n",
       "      <td>The impact of asking people to helpÂ you make ...</td>\n",
       "      <td>Evidence</td>\n",
       "      <td>Evidence 4</td>\n",
       "      <td>839 840 841 842 843 844 845 846 847 848 849 85...</td>\n",
       "    </tr>\n",
       "    <tr>\n",
       "      <th>4C471936CD75</th>\n",
       "      <td>1.618025e+12</td>\n",
       "      <td>4935.0</td>\n",
       "      <td>5825.0</td>\n",
       "      <td>there are many other reasons one might want to...</td>\n",
       "      <td>Concluding Statement</td>\n",
       "      <td>Concluding Statement 1</td>\n",
       "      <td>905 906 907 908 909 910 911 912 913 914 915 91...</td>\n",
       "    </tr>\n",
       "  </tbody>\n",
       "</table>\n",
       "<p>144293 rows × 7 columns</p>\n",
       "</div>"
      ],
      "text/plain": [
       "              discourse_id  discourse_start  discourse_end  \\\n",
       "id                                                           \n",
       "423A1CA112E2  1.622628e+12              8.0          229.0   \n",
       "423A1CA112E2  1.622628e+12            230.0          312.0   \n",
       "423A1CA112E2  1.622628e+12            313.0          401.0   \n",
       "423A1CA112E2  1.622628e+12            402.0          758.0   \n",
       "423A1CA112E2  1.622628e+12            759.0          886.0   \n",
       "...                    ...              ...            ...   \n",
       "4C471936CD75  1.618153e+12           2234.0         3203.0   \n",
       "4C471936CD75  1.618153e+12           3221.0         4509.0   \n",
       "4C471936CD75  1.618025e+12           4510.0         4570.0   \n",
       "4C471936CD75  1.618025e+12           4570.0         4922.0   \n",
       "4C471936CD75  1.618025e+12           4935.0         5825.0   \n",
       "\n",
       "                                                           text  \\\n",
       "id                                                                \n",
       "423A1CA112E2  Modern humans today are always on their phone....   \n",
       "423A1CA112E2  They are some really bad consequences when stu...   \n",
       "423A1CA112E2  Some certain areas in the United States ban ph...   \n",
       "423A1CA112E2  When people have phones, they know about certa...   \n",
       "423A1CA112E2  Driving is one of the way how to get around. P...   \n",
       "...                                                         ...   \n",
       "4C471936CD75   if I'm not sure what college I want to attend...   \n",
       "4C471936CD75   seeking multiple opinions before making a har...   \n",
       "4C471936CD75  it is better to seekÂ multiple opinions instea...   \n",
       "4C471936CD75  The impact of asking people to helpÂ you make ...   \n",
       "4C471936CD75  there are many other reasons one might want to...   \n",
       "\n",
       "                    discourse_type      discourse_type_num  \\\n",
       "id                                                           \n",
       "423A1CA112E2                  Lead                  Lead 1   \n",
       "423A1CA112E2              Position              Position 1   \n",
       "423A1CA112E2              Evidence              Evidence 1   \n",
       "423A1CA112E2              Evidence              Evidence 2   \n",
       "423A1CA112E2                 Claim                 Claim 1   \n",
       "...                            ...                     ...   \n",
       "4C471936CD75              Evidence              Evidence 2   \n",
       "4C471936CD75              Evidence              Evidence 3   \n",
       "4C471936CD75              Position              Position 1   \n",
       "4C471936CD75              Evidence              Evidence 4   \n",
       "4C471936CD75  Concluding Statement  Concluding Statement 1   \n",
       "\n",
       "                                               predictionstring  \n",
       "id                                                               \n",
       "423A1CA112E2  1 2 3 4 5 6 7 8 9 10 11 12 13 14 15 16 17 18 1...  \n",
       "423A1CA112E2       45 46 47 48 49 50 51 52 53 54 55 56 57 58 59  \n",
       "423A1CA112E2    60 61 62 63 64 65 66 67 68 69 70 71 72 73 74 75  \n",
       "423A1CA112E2  76 77 78 79 80 81 82 83 84 85 86 87 88 89 90 9...  \n",
       "423A1CA112E2  139 140 141 142 143 144 145 146 147 148 149 15...  \n",
       "...                                                         ...  \n",
       "4C471936CD75  386 387 388 389 390 391 392 393 394 395 396 39...  \n",
       "4C471936CD75  576 577 578 579 580 581 582 583 584 585 586 58...  \n",
       "4C471936CD75        828 829 830 831 832 833 834 835 836 837 838  \n",
       "4C471936CD75  839 840 841 842 843 844 845 846 847 848 849 85...  \n",
       "4C471936CD75  905 906 907 908 909 910 911 912 913 914 915 91...  \n",
       "\n",
       "[144293 rows x 7 columns]"
      ]
     },
     "execution_count": 6,
     "metadata": {},
     "output_type": "execute_result"
    }
   ],
   "source": [
    "df[\"discourse_type\"] = pd.Categorical(df[\"discourse_type\"])\n",
    "df"
   ]
  },
  {
   "cell_type": "code",
   "execution_count": 7,
   "metadata": {
    "colab": {
     "base_uri": "https://localhost:8080/",
     "height": 864
    },
    "executionInfo": {
     "elapsed": 508,
     "status": "ok",
     "timestamp": 1644386218821,
     "user": {
      "displayName": "Clyde",
      "photoUrl": "https://lh3.googleusercontent.com/a-/AOh14GjoLYXAGsV_YRhlDcFT578Eid_TYHtCYj4giy6Svw=s64",
      "userId": "17715859681118314357"
     },
     "user_tz": -480
    },
    "id": "Em1K6_Nha9db",
    "outputId": "71b64690-b846-4040-948a-563f0b1e130f"
   },
   "outputs": [
    {
     "data": {
      "text/html": [
       "<div>\n",
       "<style scoped>\n",
       "    .dataframe tbody tr th:only-of-type {\n",
       "        vertical-align: middle;\n",
       "    }\n",
       "\n",
       "    .dataframe tbody tr th {\n",
       "        vertical-align: top;\n",
       "    }\n",
       "\n",
       "    .dataframe thead th {\n",
       "        text-align: right;\n",
       "    }\n",
       "</style>\n",
       "<table border=\"1\" class=\"dataframe\">\n",
       "  <thead>\n",
       "    <tr style=\"text-align: right;\">\n",
       "      <th></th>\n",
       "      <th>discourse_id</th>\n",
       "      <th>discourse_start</th>\n",
       "      <th>discourse_end</th>\n",
       "      <th>text</th>\n",
       "      <th>discourse_type</th>\n",
       "      <th>discourse_type_num</th>\n",
       "      <th>predictionstring</th>\n",
       "      <th>label</th>\n",
       "    </tr>\n",
       "    <tr>\n",
       "      <th>id</th>\n",
       "      <th></th>\n",
       "      <th></th>\n",
       "      <th></th>\n",
       "      <th></th>\n",
       "      <th></th>\n",
       "      <th></th>\n",
       "      <th></th>\n",
       "      <th></th>\n",
       "    </tr>\n",
       "  </thead>\n",
       "  <tbody>\n",
       "    <tr>\n",
       "      <th>423A1CA112E2</th>\n",
       "      <td>1.622628e+12</td>\n",
       "      <td>8.0</td>\n",
       "      <td>229.0</td>\n",
       "      <td>Modern humans today are always on their phone....</td>\n",
       "      <td>Lead</td>\n",
       "      <td>Lead 1</td>\n",
       "      <td>1 2 3 4 5 6 7 8 9 10 11 12 13 14 15 16 17 18 1...</td>\n",
       "      <td>4</td>\n",
       "    </tr>\n",
       "    <tr>\n",
       "      <th>423A1CA112E2</th>\n",
       "      <td>1.622628e+12</td>\n",
       "      <td>230.0</td>\n",
       "      <td>312.0</td>\n",
       "      <td>They are some really bad consequences when stu...</td>\n",
       "      <td>Position</td>\n",
       "      <td>Position 1</td>\n",
       "      <td>45 46 47 48 49 50 51 52 53 54 55 56 57 58 59</td>\n",
       "      <td>5</td>\n",
       "    </tr>\n",
       "    <tr>\n",
       "      <th>423A1CA112E2</th>\n",
       "      <td>1.622628e+12</td>\n",
       "      <td>313.0</td>\n",
       "      <td>401.0</td>\n",
       "      <td>Some certain areas in the United States ban ph...</td>\n",
       "      <td>Evidence</td>\n",
       "      <td>Evidence 1</td>\n",
       "      <td>60 61 62 63 64 65 66 67 68 69 70 71 72 73 74 75</td>\n",
       "      <td>3</td>\n",
       "    </tr>\n",
       "    <tr>\n",
       "      <th>423A1CA112E2</th>\n",
       "      <td>1.622628e+12</td>\n",
       "      <td>402.0</td>\n",
       "      <td>758.0</td>\n",
       "      <td>When people have phones, they know about certa...</td>\n",
       "      <td>Evidence</td>\n",
       "      <td>Evidence 2</td>\n",
       "      <td>76 77 78 79 80 81 82 83 84 85 86 87 88 89 90 9...</td>\n",
       "      <td>3</td>\n",
       "    </tr>\n",
       "    <tr>\n",
       "      <th>423A1CA112E2</th>\n",
       "      <td>1.622628e+12</td>\n",
       "      <td>759.0</td>\n",
       "      <td>886.0</td>\n",
       "      <td>Driving is one of the way how to get around. P...</td>\n",
       "      <td>Claim</td>\n",
       "      <td>Claim 1</td>\n",
       "      <td>139 140 141 142 143 144 145 146 147 148 149 15...</td>\n",
       "      <td>0</td>\n",
       "    </tr>\n",
       "    <tr>\n",
       "      <th>...</th>\n",
       "      <td>...</td>\n",
       "      <td>...</td>\n",
       "      <td>...</td>\n",
       "      <td>...</td>\n",
       "      <td>...</td>\n",
       "      <td>...</td>\n",
       "      <td>...</td>\n",
       "      <td>...</td>\n",
       "    </tr>\n",
       "    <tr>\n",
       "      <th>4C471936CD75</th>\n",
       "      <td>1.618153e+12</td>\n",
       "      <td>2234.0</td>\n",
       "      <td>3203.0</td>\n",
       "      <td>if I'm not sure what college I want to attend...</td>\n",
       "      <td>Evidence</td>\n",
       "      <td>Evidence 2</td>\n",
       "      <td>386 387 388 389 390 391 392 393 394 395 396 39...</td>\n",
       "      <td>3</td>\n",
       "    </tr>\n",
       "    <tr>\n",
       "      <th>4C471936CD75</th>\n",
       "      <td>1.618153e+12</td>\n",
       "      <td>3221.0</td>\n",
       "      <td>4509.0</td>\n",
       "      <td>seeking multiple opinions before making a har...</td>\n",
       "      <td>Evidence</td>\n",
       "      <td>Evidence 3</td>\n",
       "      <td>576 577 578 579 580 581 582 583 584 585 586 58...</td>\n",
       "      <td>3</td>\n",
       "    </tr>\n",
       "    <tr>\n",
       "      <th>4C471936CD75</th>\n",
       "      <td>1.618025e+12</td>\n",
       "      <td>4510.0</td>\n",
       "      <td>4570.0</td>\n",
       "      <td>it is better to seekÂ multiple opinions instea...</td>\n",
       "      <td>Position</td>\n",
       "      <td>Position 1</td>\n",
       "      <td>828 829 830 831 832 833 834 835 836 837 838</td>\n",
       "      <td>5</td>\n",
       "    </tr>\n",
       "    <tr>\n",
       "      <th>4C471936CD75</th>\n",
       "      <td>1.618025e+12</td>\n",
       "      <td>4570.0</td>\n",
       "      <td>4922.0</td>\n",
       "      <td>The impact of asking people to helpÂ you make ...</td>\n",
       "      <td>Evidence</td>\n",
       "      <td>Evidence 4</td>\n",
       "      <td>839 840 841 842 843 844 845 846 847 848 849 85...</td>\n",
       "      <td>3</td>\n",
       "    </tr>\n",
       "    <tr>\n",
       "      <th>4C471936CD75</th>\n",
       "      <td>1.618025e+12</td>\n",
       "      <td>4935.0</td>\n",
       "      <td>5825.0</td>\n",
       "      <td>there are many other reasons one might want to...</td>\n",
       "      <td>Concluding Statement</td>\n",
       "      <td>Concluding Statement 1</td>\n",
       "      <td>905 906 907 908 909 910 911 912 913 914 915 91...</td>\n",
       "      <td>1</td>\n",
       "    </tr>\n",
       "  </tbody>\n",
       "</table>\n",
       "<p>144293 rows × 8 columns</p>\n",
       "</div>"
      ],
      "text/plain": [
       "              discourse_id  discourse_start  discourse_end  \\\n",
       "id                                                           \n",
       "423A1CA112E2  1.622628e+12              8.0          229.0   \n",
       "423A1CA112E2  1.622628e+12            230.0          312.0   \n",
       "423A1CA112E2  1.622628e+12            313.0          401.0   \n",
       "423A1CA112E2  1.622628e+12            402.0          758.0   \n",
       "423A1CA112E2  1.622628e+12            759.0          886.0   \n",
       "...                    ...              ...            ...   \n",
       "4C471936CD75  1.618153e+12           2234.0         3203.0   \n",
       "4C471936CD75  1.618153e+12           3221.0         4509.0   \n",
       "4C471936CD75  1.618025e+12           4510.0         4570.0   \n",
       "4C471936CD75  1.618025e+12           4570.0         4922.0   \n",
       "4C471936CD75  1.618025e+12           4935.0         5825.0   \n",
       "\n",
       "                                                           text  \\\n",
       "id                                                                \n",
       "423A1CA112E2  Modern humans today are always on their phone....   \n",
       "423A1CA112E2  They are some really bad consequences when stu...   \n",
       "423A1CA112E2  Some certain areas in the United States ban ph...   \n",
       "423A1CA112E2  When people have phones, they know about certa...   \n",
       "423A1CA112E2  Driving is one of the way how to get around. P...   \n",
       "...                                                         ...   \n",
       "4C471936CD75   if I'm not sure what college I want to attend...   \n",
       "4C471936CD75   seeking multiple opinions before making a har...   \n",
       "4C471936CD75  it is better to seekÂ multiple opinions instea...   \n",
       "4C471936CD75  The impact of asking people to helpÂ you make ...   \n",
       "4C471936CD75  there are many other reasons one might want to...   \n",
       "\n",
       "                    discourse_type      discourse_type_num  \\\n",
       "id                                                           \n",
       "423A1CA112E2                  Lead                  Lead 1   \n",
       "423A1CA112E2              Position              Position 1   \n",
       "423A1CA112E2              Evidence              Evidence 1   \n",
       "423A1CA112E2              Evidence              Evidence 2   \n",
       "423A1CA112E2                 Claim                 Claim 1   \n",
       "...                            ...                     ...   \n",
       "4C471936CD75              Evidence              Evidence 2   \n",
       "4C471936CD75              Evidence              Evidence 3   \n",
       "4C471936CD75              Position              Position 1   \n",
       "4C471936CD75              Evidence              Evidence 4   \n",
       "4C471936CD75  Concluding Statement  Concluding Statement 1   \n",
       "\n",
       "                                               predictionstring  label  \n",
       "id                                                                      \n",
       "423A1CA112E2  1 2 3 4 5 6 7 8 9 10 11 12 13 14 15 16 17 18 1...      4  \n",
       "423A1CA112E2       45 46 47 48 49 50 51 52 53 54 55 56 57 58 59      5  \n",
       "423A1CA112E2    60 61 62 63 64 65 66 67 68 69 70 71 72 73 74 75      3  \n",
       "423A1CA112E2  76 77 78 79 80 81 82 83 84 85 86 87 88 89 90 9...      3  \n",
       "423A1CA112E2  139 140 141 142 143 144 145 146 147 148 149 15...      0  \n",
       "...                                                         ...    ...  \n",
       "4C471936CD75  386 387 388 389 390 391 392 393 394 395 396 39...      3  \n",
       "4C471936CD75  576 577 578 579 580 581 582 583 584 585 586 58...      3  \n",
       "4C471936CD75        828 829 830 831 832 833 834 835 836 837 838      5  \n",
       "4C471936CD75  839 840 841 842 843 844 845 846 847 848 849 85...      3  \n",
       "4C471936CD75  905 906 907 908 909 910 911 912 913 914 915 91...      1  \n",
       "\n",
       "[144293 rows x 8 columns]"
      ]
     },
     "execution_count": 7,
     "metadata": {},
     "output_type": "execute_result"
    }
   ],
   "source": [
    "df[\"label\"] = df[\"discourse_type\"].cat.codes\n",
    "df"
   ]
  },
  {
   "cell_type": "code",
   "execution_count": 8,
   "metadata": {
    "colab": {
     "base_uri": "https://localhost:8080/"
    },
    "executionInfo": {
     "elapsed": 2,
     "status": "ok",
     "timestamp": 1644386219647,
     "user": {
      "displayName": "Clyde",
      "photoUrl": "https://lh3.googleusercontent.com/a-/AOh14GjoLYXAGsV_YRhlDcFT578Eid_TYHtCYj4giy6Svw=s64",
      "userId": "17715859681118314357"
     },
     "user_tz": -480
    },
    "id": "4zoztNnkbcNc",
    "outputId": "754cb288-0808-424f-8d61-9f87b08169a6"
   },
   "outputs": [
    {
     "data": {
      "text/plain": [
       "{0: 'Claim',\n",
       " 1: 'Concluding Statement',\n",
       " 2: 'Counterclaim',\n",
       " 3: 'Evidence',\n",
       " 4: 'Lead',\n",
       " 5: 'Position',\n",
       " 6: 'Rebuttal'}"
      ]
     },
     "execution_count": 8,
     "metadata": {},
     "output_type": "execute_result"
    }
   ],
   "source": [
    "category_codes = dict(zip(range(df[\"discourse_type\"].cat.categories.size),df[\"discourse_type\"].cat.categories))\n",
    "category_codes"
   ]
  },
  {
   "cell_type": "markdown",
   "metadata": {
    "id": "Np0jTc8Hk8Qj"
   },
   "source": [
    "Load features and labels into Dataset object, and perform a 3 way train test validation split, with respective 0.7, 0.2, 0.1 split size."
   ]
  },
  {
   "cell_type": "code",
   "execution_count": 9,
   "metadata": {
    "executionInfo": {
     "elapsed": 509,
     "status": "ok",
     "timestamp": 1644386222903,
     "user": {
      "displayName": "Clyde",
      "photoUrl": "https://lh3.googleusercontent.com/a-/AOh14GjoLYXAGsV_YRhlDcFT578Eid_TYHtCYj4giy6Svw=s64",
      "userId": "17715859681118314357"
     },
     "user_tz": -480
    },
    "id": "X8pRbha6dQjG"
   },
   "outputs": [],
   "source": [
    "dataset = Dataset.from_pandas(df[[\"text\", \"label\"]])"
   ]
  },
  {
   "cell_type": "code",
   "execution_count": 10,
   "metadata": {
    "colab": {
     "base_uri": "https://localhost:8080/"
    },
    "executionInfo": {
     "elapsed": 2,
     "status": "ok",
     "timestamp": 1644386223630,
     "user": {
      "displayName": "Clyde",
      "photoUrl": "https://lh3.googleusercontent.com/a-/AOh14GjoLYXAGsV_YRhlDcFT578Eid_TYHtCYj4giy6Svw=s64",
      "userId": "17715859681118314357"
     },
     "user_tz": -480
    },
    "id": "rzk3cl1IdYQ4",
    "outputId": "a9f0e5ae-05f0-412a-b695-010169565f37"
   },
   "outputs": [
    {
     "data": {
      "text/plain": [
       "DatasetDict({\n",
       "    train: Dataset({\n",
       "        features: ['text', 'label', 'id'],\n",
       "        num_rows: 101005\n",
       "    })\n",
       "    test: Dataset({\n",
       "        features: ['text', 'label', 'id'],\n",
       "        num_rows: 28873\n",
       "    })\n",
       "    valid: Dataset({\n",
       "        features: ['text', 'label', 'id'],\n",
       "        num_rows: 14415\n",
       "    })\n",
       "})"
      ]
     },
     "execution_count": 10,
     "metadata": {},
     "output_type": "execute_result"
    }
   ],
   "source": [
    "train_test_dataset = dataset.train_test_split(test_size=0.3)\n",
    "test_validation_dataset = train_test_dataset[\"test\"].train_test_split(test_size=0.333)\n",
    "\n",
    "train_test_valid_dataset = DatasetDict({\n",
    "    'train': train_test_dataset['train'],\n",
    "    'test': test_validation_dataset['train'],\n",
    "    'valid': test_validation_dataset['test']})\n",
    "\n",
    "train_test_valid_dataset"
   ]
  },
  {
   "cell_type": "code",
   "execution_count": 11,
   "metadata": {
    "colab": {
     "base_uri": "https://localhost:8080/"
    },
    "executionInfo": {
     "elapsed": 6,
     "status": "ok",
     "timestamp": 1644386224741,
     "user": {
      "displayName": "Clyde",
      "photoUrl": "https://lh3.googleusercontent.com/a-/AOh14GjoLYXAGsV_YRhlDcFT578Eid_TYHtCYj4giy6Svw=s64",
      "userId": "17715859681118314357"
     },
     "user_tz": -480
    },
    "id": "Vq4vwghtdn7T",
    "outputId": "864f1b74-1ac0-4d38-b00b-d25b3c2ea4a8"
   },
   "outputs": [
    {
     "data": {
      "text/plain": [
       "{'text': 'A friend will be able to talk to you and help you get through a class. Students today have a problem being able to express themselfs, when going through something in your life it could help you get through things, students dont always know how to get through the rough things that are going on in life. kids will release built up emotions if someone knows what they are going through because they will know thatyou need a friend to talk to. Sometimes a kids dosent always know how they are feeling so if a computer is helpful to tell them how they feel they will be able to communicate with other people. to keep kids from bring upset or depressed it will help because an older adult will be able to talk to the kid and get them through all the things that they are going through.',\n",
       " 'label': 3,\n",
       " 'id': '218B73B47223'}"
      ]
     },
     "execution_count": 11,
     "metadata": {},
     "output_type": "execute_result"
    }
   ],
   "source": [
    "train_test_valid_dataset[\"train\"][7]"
   ]
  },
  {
   "cell_type": "markdown",
   "metadata": {
    "id": "4nJbQLT0rsJb"
   },
   "source": [
    "# DOWNSTREAM TRAINING FOR SENTENCE CLASSIFICATION"
   ]
  },
  {
   "cell_type": "code",
   "execution_count": 12,
   "metadata": {
    "executionInfo": {
     "elapsed": 525,
     "status": "ok",
     "timestamp": 1644386227439,
     "user": {
      "displayName": "Clyde",
      "photoUrl": "https://lh3.googleusercontent.com/a-/AOh14GjoLYXAGsV_YRhlDcFT578Eid_TYHtCYj4giy6Svw=s64",
      "userId": "17715859681118314357"
     },
     "user_tz": -480
    },
    "id": "u0Rb5CpGfdUE"
   },
   "outputs": [],
   "source": [
    "model_checkpoint = \"distilbert-base-uncased\"\n",
    "batch_size = 4\n",
    "num_labels = len(category_codes)"
   ]
  },
  {
   "cell_type": "markdown",
   "metadata": {
    "id": "3nsUqEv0tM8X"
   },
   "source": [
    "Technically this should be data preprocessing, but considering its tokenisation and tokeneisation is part of the training process, why not"
   ]
  },
  {
   "cell_type": "code",
   "execution_count": 13,
   "metadata": {
    "executionInfo": {
     "elapsed": 7292,
     "status": "ok",
     "timestamp": 1644386235329,
     "user": {
      "displayName": "Clyde",
      "photoUrl": "https://lh3.googleusercontent.com/a-/AOh14GjoLYXAGsV_YRhlDcFT578Eid_TYHtCYj4giy6Svw=s64",
      "userId": "17715859681118314357"
     },
     "user_tz": -480
    },
    "id": "eqMcPY6yrvBf"
   },
   "outputs": [],
   "source": [
    "tokenizer = AutoTokenizer.from_pretrained(model_checkpoint, use_fast=True)\n",
    "def preprocess_function(examples):\n",
    "    return tokenizer(examples[\"text\"], truncation=True, padding=True)"
   ]
  },
  {
   "cell_type": "code",
   "execution_count": 14,
   "metadata": {
    "colab": {
     "base_uri": "https://localhost:8080/",
     "height": 356,
     "referenced_widgets": [
      "eb8f0c66b2f941449c00ddf0dd1971e1",
      "bfca8adef88a447994d2fbb42c6876b0",
      "f2d4326c27494738802ff67201a9da83",
      "354d938ecc1544248f8d74305c19f806",
      "40904e8827594b58a479abb13e2568f3",
      "aad007f4fe404db1a7b7413d183fc829",
      "790eabe193a04a1b870c5b4a2f3d914d",
      "9d27594faceb4e3bbcc5f7e2c79511ed",
      "241c78283aca4e7bb125be78b03b7e1e",
      "89b57630247244628d6990da434b4aa5",
      "c54e19273e0e49e099e0f5651bb210bb",
      "09335e7f16ed4ca79227a832a1ca3b4a",
      "d56f2d84486b479296b949e17be5ed81",
      "88d8830e26b24acc9ce1edaa77c9a887",
      "d2dade9ee99b48148185a021707c3db5",
      "fec733c5e82c478e92296517acda6127",
      "e9c3eec2ec894aabb11bd0ee9d29fd6d",
      "202316d230b949e28176006ebae523da",
      "07ce1385b1f74ad385c96b092a8101cc",
      "b4a9d3fb04fe4240948f03b46d539d4c",
      "b52a2f5bdec14762adfad655af88b8c8",
      "7dd4b038901c4fddb9738babe585b0fe",
      "4ec5c83007a04fbebd7976714e9d8985",
      "4810279074fc42b9943db4ce136cc630",
      "1a21a49a080f41759229719753f409e1",
      "00ba40156bf24502a3013ee617392fb4",
      "77b5a2ac714447b1a2a865d3845a4f8e",
      "360a64a1a7874563abddf863e651d116",
      "10348be32e1a491b86e4cd76f9ce118c",
      "d095669f1b2442578d0d1f8d8aebc233",
      "3a028690f4784f13bd679de43762c879",
      "922565087fe74fb3b83c804677732d55",
      "b1493322c4b141dea15cbc1308c4fd41"
     ]
    },
    "executionInfo": {
     "elapsed": 44614,
     "status": "ok",
     "timestamp": 1644386279931,
     "user": {
      "displayName": "Clyde",
      "photoUrl": "https://lh3.googleusercontent.com/a-/AOh14GjoLYXAGsV_YRhlDcFT578Eid_TYHtCYj4giy6Svw=s64",
      "userId": "17715859681118314357"
     },
     "user_tz": -480
    },
    "id": "aM38LBWWrpMm",
    "outputId": "313f58c9-65c9-42e3-9e46-278b028c45e8"
   },
   "outputs": [
    {
     "data": {
      "application/vnd.jupyter.widget-view+json": {
       "model_id": "0d183096a7f9427fac7fd36a1365cd37",
       "version_major": 2,
       "version_minor": 0
      },
      "text/plain": [
       "  0%|          | 0/102 [00:00<?, ?ba/s]"
      ]
     },
     "metadata": {},
     "output_type": "display_data"
    },
    {
     "data": {
      "application/vnd.jupyter.widget-view+json": {
       "model_id": "78f432c9b7304443aaa34f419dad0e29",
       "version_major": 2,
       "version_minor": 0
      },
      "text/plain": [
       "  0%|          | 0/29 [00:00<?, ?ba/s]"
      ]
     },
     "metadata": {},
     "output_type": "display_data"
    },
    {
     "data": {
      "application/vnd.jupyter.widget-view+json": {
       "model_id": "375094041aa440a8b3c74eb3b0e1d56e",
       "version_major": 2,
       "version_minor": 0
      },
      "text/plain": [
       "  0%|          | 0/15 [00:00<?, ?ba/s]"
      ]
     },
     "metadata": {},
     "output_type": "display_data"
    },
    {
     "data": {
      "text/plain": [
       "DatasetDict({\n",
       "    train: Dataset({\n",
       "        features: ['text', 'label', 'id', 'input_ids', 'attention_mask'],\n",
       "        num_rows: 101005\n",
       "    })\n",
       "    test: Dataset({\n",
       "        features: ['text', 'label', 'id', 'input_ids', 'attention_mask'],\n",
       "        num_rows: 28873\n",
       "    })\n",
       "    valid: Dataset({\n",
       "        features: ['text', 'label', 'id', 'input_ids', 'attention_mask'],\n",
       "        num_rows: 14415\n",
       "    })\n",
       "})"
      ]
     },
     "execution_count": 14,
     "metadata": {},
     "output_type": "execute_result"
    }
   ],
   "source": [
    "encoded_dataset = train_test_valid_dataset.map(preprocess_function, batched=True)\n",
    "columns_to_return = ['input_ids', 'label', 'attention_mask']\n",
    "encoded_dataset.set_format(type='torch', columns=columns_to_return)\n",
    "encoded_dataset"
   ]
  },
  {
   "cell_type": "code",
   "execution_count": 20,
   "metadata": {
    "colab": {
     "base_uri": "https://localhost:8080/"
    },
    "collapsed": true,
    "executionInfo": {
     "elapsed": 2746,
     "status": "ok",
     "timestamp": 1644386532366,
     "user": {
      "displayName": "Clyde",
      "photoUrl": "https://lh3.googleusercontent.com/a-/AOh14GjoLYXAGsV_YRhlDcFT578Eid_TYHtCYj4giy6Svw=s64",
      "userId": "17715859681118314357"
     },
     "user_tz": -480
    },
    "id": "P9Bg7ewItU35",
    "jupyter": {
     "outputs_hidden": true
    },
    "outputId": "0ffeb1c7-1087-4965-fc27-0607c0b0c26b",
    "tags": []
   },
   "outputs": [
    {
     "name": "stderr",
     "output_type": "stream",
     "text": [
      "loading configuration file https://huggingface.co/distilbert-base-uncased/resolve/main/config.json from cache at /home/weipyn/.cache/huggingface/transformers/23454919702d26495337f3da04d1655c7ee010d5ec9d77bdb9e399e00302c0a1.91b885ab15d631bf9cee9dc9d25ece0afd932f2f5130eba28f2055b2220c0333\n",
      "Model config DistilBertConfig {\n",
      "  \"_name_or_path\": \"distilbert-base-uncased\",\n",
      "  \"activation\": \"gelu\",\n",
      "  \"architectures\": [\n",
      "    \"DistilBertForMaskedLM\"\n",
      "  ],\n",
      "  \"attention_dropout\": 0.1,\n",
      "  \"dim\": 768,\n",
      "  \"dropout\": 0.1,\n",
      "  \"hidden_dim\": 3072,\n",
      "  \"id2label\": {\n",
      "    \"0\": \"LABEL_0\",\n",
      "    \"1\": \"LABEL_1\",\n",
      "    \"2\": \"LABEL_2\",\n",
      "    \"3\": \"LABEL_3\",\n",
      "    \"4\": \"LABEL_4\",\n",
      "    \"5\": \"LABEL_5\",\n",
      "    \"6\": \"LABEL_6\"\n",
      "  },\n",
      "  \"initializer_range\": 0.02,\n",
      "  \"label2id\": {\n",
      "    \"LABEL_0\": 0,\n",
      "    \"LABEL_1\": 1,\n",
      "    \"LABEL_2\": 2,\n",
      "    \"LABEL_3\": 3,\n",
      "    \"LABEL_4\": 4,\n",
      "    \"LABEL_5\": 5,\n",
      "    \"LABEL_6\": 6\n",
      "  },\n",
      "  \"max_position_embeddings\": 512,\n",
      "  \"model_type\": \"distilbert\",\n",
      "  \"n_heads\": 12,\n",
      "  \"n_layers\": 6,\n",
      "  \"pad_token_id\": 0,\n",
      "  \"qa_dropout\": 0.1,\n",
      "  \"seq_classif_dropout\": 0.2,\n",
      "  \"sinusoidal_pos_embds\": false,\n",
      "  \"tie_weights_\": true,\n",
      "  \"transformers_version\": \"4.16.2\",\n",
      "  \"vocab_size\": 30522\n",
      "}\n",
      "\n",
      "loading weights file https://huggingface.co/distilbert-base-uncased/resolve/main/pytorch_model.bin from cache at /home/weipyn/.cache/huggingface/transformers/9c169103d7e5a73936dd2b627e42851bec0831212b677c637033ee4bce9ab5ee.126183e36667471617ae2f0835fab707baa54b731f991507ebbb55ea85adb12a\n",
      "Some weights of the model checkpoint at distilbert-base-uncased were not used when initializing DistilBertForSequenceClassification: ['vocab_layer_norm.weight', 'vocab_projector.bias', 'vocab_transform.weight', 'vocab_projector.weight', 'vocab_transform.bias', 'vocab_layer_norm.bias']\n",
      "- This IS expected if you are initializing DistilBertForSequenceClassification from the checkpoint of a model trained on another task or with another architecture (e.g. initializing a BertForSequenceClassification model from a BertForPreTraining model).\n",
      "- This IS NOT expected if you are initializing DistilBertForSequenceClassification from the checkpoint of a model that you expect to be exactly identical (initializing a BertForSequenceClassification model from a BertForSequenceClassification model).\n",
      "Some weights of DistilBertForSequenceClassification were not initialized from the model checkpoint at distilbert-base-uncased and are newly initialized: ['classifier.weight', 'classifier.bias', 'pre_classifier.bias', 'pre_classifier.weight']\n",
      "You should probably TRAIN this model on a down-stream task to be able to use it for predictions and inference.\n"
     ]
    },
    {
     "data": {
      "text/plain": [
       "DistilBertForSequenceClassification(\n",
       "  (distilbert): DistilBertModel(\n",
       "    (embeddings): Embeddings(\n",
       "      (word_embeddings): Embedding(30522, 768, padding_idx=0)\n",
       "      (position_embeddings): Embedding(512, 768)\n",
       "      (LayerNorm): LayerNorm((768,), eps=1e-12, elementwise_affine=True)\n",
       "      (dropout): Dropout(p=0.1, inplace=False)\n",
       "    )\n",
       "    (transformer): Transformer(\n",
       "      (layer): ModuleList(\n",
       "        (0): TransformerBlock(\n",
       "          (attention): MultiHeadSelfAttention(\n",
       "            (dropout): Dropout(p=0.1, inplace=False)\n",
       "            (q_lin): Linear(in_features=768, out_features=768, bias=True)\n",
       "            (k_lin): Linear(in_features=768, out_features=768, bias=True)\n",
       "            (v_lin): Linear(in_features=768, out_features=768, bias=True)\n",
       "            (out_lin): Linear(in_features=768, out_features=768, bias=True)\n",
       "          )\n",
       "          (sa_layer_norm): LayerNorm((768,), eps=1e-12, elementwise_affine=True)\n",
       "          (ffn): FFN(\n",
       "            (dropout): Dropout(p=0.1, inplace=False)\n",
       "            (lin1): Linear(in_features=768, out_features=3072, bias=True)\n",
       "            (lin2): Linear(in_features=3072, out_features=768, bias=True)\n",
       "          )\n",
       "          (output_layer_norm): LayerNorm((768,), eps=1e-12, elementwise_affine=True)\n",
       "        )\n",
       "        (1): TransformerBlock(\n",
       "          (attention): MultiHeadSelfAttention(\n",
       "            (dropout): Dropout(p=0.1, inplace=False)\n",
       "            (q_lin): Linear(in_features=768, out_features=768, bias=True)\n",
       "            (k_lin): Linear(in_features=768, out_features=768, bias=True)\n",
       "            (v_lin): Linear(in_features=768, out_features=768, bias=True)\n",
       "            (out_lin): Linear(in_features=768, out_features=768, bias=True)\n",
       "          )\n",
       "          (sa_layer_norm): LayerNorm((768,), eps=1e-12, elementwise_affine=True)\n",
       "          (ffn): FFN(\n",
       "            (dropout): Dropout(p=0.1, inplace=False)\n",
       "            (lin1): Linear(in_features=768, out_features=3072, bias=True)\n",
       "            (lin2): Linear(in_features=3072, out_features=768, bias=True)\n",
       "          )\n",
       "          (output_layer_norm): LayerNorm((768,), eps=1e-12, elementwise_affine=True)\n",
       "        )\n",
       "        (2): TransformerBlock(\n",
       "          (attention): MultiHeadSelfAttention(\n",
       "            (dropout): Dropout(p=0.1, inplace=False)\n",
       "            (q_lin): Linear(in_features=768, out_features=768, bias=True)\n",
       "            (k_lin): Linear(in_features=768, out_features=768, bias=True)\n",
       "            (v_lin): Linear(in_features=768, out_features=768, bias=True)\n",
       "            (out_lin): Linear(in_features=768, out_features=768, bias=True)\n",
       "          )\n",
       "          (sa_layer_norm): LayerNorm((768,), eps=1e-12, elementwise_affine=True)\n",
       "          (ffn): FFN(\n",
       "            (dropout): Dropout(p=0.1, inplace=False)\n",
       "            (lin1): Linear(in_features=768, out_features=3072, bias=True)\n",
       "            (lin2): Linear(in_features=3072, out_features=768, bias=True)\n",
       "          )\n",
       "          (output_layer_norm): LayerNorm((768,), eps=1e-12, elementwise_affine=True)\n",
       "        )\n",
       "        (3): TransformerBlock(\n",
       "          (attention): MultiHeadSelfAttention(\n",
       "            (dropout): Dropout(p=0.1, inplace=False)\n",
       "            (q_lin): Linear(in_features=768, out_features=768, bias=True)\n",
       "            (k_lin): Linear(in_features=768, out_features=768, bias=True)\n",
       "            (v_lin): Linear(in_features=768, out_features=768, bias=True)\n",
       "            (out_lin): Linear(in_features=768, out_features=768, bias=True)\n",
       "          )\n",
       "          (sa_layer_norm): LayerNorm((768,), eps=1e-12, elementwise_affine=True)\n",
       "          (ffn): FFN(\n",
       "            (dropout): Dropout(p=0.1, inplace=False)\n",
       "            (lin1): Linear(in_features=768, out_features=3072, bias=True)\n",
       "            (lin2): Linear(in_features=3072, out_features=768, bias=True)\n",
       "          )\n",
       "          (output_layer_norm): LayerNorm((768,), eps=1e-12, elementwise_affine=True)\n",
       "        )\n",
       "        (4): TransformerBlock(\n",
       "          (attention): MultiHeadSelfAttention(\n",
       "            (dropout): Dropout(p=0.1, inplace=False)\n",
       "            (q_lin): Linear(in_features=768, out_features=768, bias=True)\n",
       "            (k_lin): Linear(in_features=768, out_features=768, bias=True)\n",
       "            (v_lin): Linear(in_features=768, out_features=768, bias=True)\n",
       "            (out_lin): Linear(in_features=768, out_features=768, bias=True)\n",
       "          )\n",
       "          (sa_layer_norm): LayerNorm((768,), eps=1e-12, elementwise_affine=True)\n",
       "          (ffn): FFN(\n",
       "            (dropout): Dropout(p=0.1, inplace=False)\n",
       "            (lin1): Linear(in_features=768, out_features=3072, bias=True)\n",
       "            (lin2): Linear(in_features=3072, out_features=768, bias=True)\n",
       "          )\n",
       "          (output_layer_norm): LayerNorm((768,), eps=1e-12, elementwise_affine=True)\n",
       "        )\n",
       "        (5): TransformerBlock(\n",
       "          (attention): MultiHeadSelfAttention(\n",
       "            (dropout): Dropout(p=0.1, inplace=False)\n",
       "            (q_lin): Linear(in_features=768, out_features=768, bias=True)\n",
       "            (k_lin): Linear(in_features=768, out_features=768, bias=True)\n",
       "            (v_lin): Linear(in_features=768, out_features=768, bias=True)\n",
       "            (out_lin): Linear(in_features=768, out_features=768, bias=True)\n",
       "          )\n",
       "          (sa_layer_norm): LayerNorm((768,), eps=1e-12, elementwise_affine=True)\n",
       "          (ffn): FFN(\n",
       "            (dropout): Dropout(p=0.1, inplace=False)\n",
       "            (lin1): Linear(in_features=768, out_features=3072, bias=True)\n",
       "            (lin2): Linear(in_features=3072, out_features=768, bias=True)\n",
       "          )\n",
       "          (output_layer_norm): LayerNorm((768,), eps=1e-12, elementwise_affine=True)\n",
       "        )\n",
       "      )\n",
       "    )\n",
       "  )\n",
       "  (pre_classifier): Linear(in_features=768, out_features=768, bias=True)\n",
       "  (classifier): Linear(in_features=768, out_features=7, bias=True)\n",
       "  (dropout): Dropout(p=0.2, inplace=False)\n",
       ")"
      ]
     },
     "execution_count": 20,
     "metadata": {},
     "output_type": "execute_result"
    }
   ],
   "source": [
    "model = AutoModelForSequenceClassification.from_pretrained(model_checkpoint, num_labels=num_labels)\n",
    "model = model.to(device)\n",
    "model"
   ]
  },
  {
   "cell_type": "code",
   "execution_count": 21,
   "metadata": {
    "executionInfo": {
     "elapsed": 3493,
     "status": "ok",
     "timestamp": 1644386286929,
     "user": {
      "displayName": "Clyde",
      "photoUrl": "https://lh3.googleusercontent.com/a-/AOh14GjoLYXAGsV_YRhlDcFT578Eid_TYHtCYj4giy6Svw=s64",
      "userId": "17715859681118314357"
     },
     "user_tz": -480
    },
    "id": "TJtCWSWst-Eb",
    "tags": []
   },
   "outputs": [
    {
     "name": "stderr",
     "output_type": "stream",
     "text": [
      "PyTorch: setting up devices\n",
      "The default value for the training argument `--report_to` will change in v5 (from all installed integrations to none). In v5, you will need to use `--report_to all` to get the same behavior as now. You should start updating your code and make this info disappear :-).\n"
     ]
    }
   ],
   "source": [
    "metric_name = \"accuracy\"\n",
    "model_name = model_checkpoint.split(\"/\")[-1]\n",
    "\n",
    "args = TrainingArguments(\n",
    "    f\"{model_name}-finetuned-sentence-classification\",\n",
    "    evaluation_strategy = \"epoch\",\n",
    "    save_strategy = \"epoch\",\n",
    "    learning_rate=2e-5,\n",
    "    per_device_train_batch_size=batch_size,\n",
    "    per_device_eval_batch_size=batch_size,\n",
    "    num_train_epochs=5,\n",
    "    weight_decay=0.01,\n",
    "    load_best_model_at_end=True,\n",
    "    metric_for_best_model=metric_name,\n",
    ")\n",
    "\n",
    "trainer = Trainer(\n",
    "    model=model,\n",
    "    args=args,\n",
    "    train_dataset=encoded_dataset[\"train\"],\n",
    "    eval_dataset=encoded_dataset[\"test\"],\n",
    "    tokenizer=tokenizer\n",
    ")"
   ]
  },
  {
   "cell_type": "code",
   "execution_count": 22,
   "metadata": {},
   "outputs": [],
   "source": [
    "torch.cuda.empty_cache()"
   ]
  },
  {
   "cell_type": "code",
   "execution_count": 23,
   "metadata": {
    "colab": {
     "base_uri": "https://localhost:8080/",
     "height": 234
    },
    "id": "CHDMQNZi8hTX",
    "outputId": "222d04f5-8218-4384-c08f-d955f2cdfb2f"
   },
   "outputs": [
    {
     "name": "stderr",
     "output_type": "stream",
     "text": [
      "The following columns in the training set  don't have a corresponding argument in `DistilBertForSequenceClassification.forward` and have been ignored: id, text.\n",
      "***** Running training *****\n",
      "  Num examples = 101005\n",
      "  Num Epochs = 5\n",
      "  Instantaneous batch size per device = 4\n",
      "  Total train batch size (w. parallel, distributed & accumulation) = 4\n",
      "  Gradient Accumulation steps = 1\n",
      "  Total optimization steps = 126260\n"
     ]
    },
    {
     "data": {
      "text/html": [
       "\n",
       "    <div>\n",
       "      \n",
       "      <progress value='25253' max='126260' style='width:300px; height:20px; vertical-align: middle;'></progress>\n",
       "      [ 25253/126260 36:43 < 2:26:53, 11.46 it/s, Epoch 1/5]\n",
       "    </div>\n",
       "    <table border=\"1\" class=\"dataframe\">\n",
       "  <thead>\n",
       " <tr style=\"text-align: left;\">\n",
       "      <th>Epoch</th>\n",
       "      <th>Training Loss</th>\n",
       "      <th>Validation Loss</th>\n",
       "    </tr>\n",
       "  </thead>\n",
       "  <tbody>\n",
       "    <tr>\n",
       "      <td>1</td>\n",
       "      <td>0.748400</td>\n",
       "      <td>0.733832</td>\n",
       "    </tr>\n",
       "  </tbody>\n",
       "</table><p>"
      ],
      "text/plain": [
       "<IPython.core.display.HTML object>"
      ]
     },
     "metadata": {},
     "output_type": "display_data"
    },
    {
     "name": "stderr",
     "output_type": "stream",
     "text": [
      "The following columns in the evaluation set  don't have a corresponding argument in `DistilBertForSequenceClassification.forward` and have been ignored: id, text.\n",
      "***** Running Evaluation *****\n",
      "  Num examples = 28873\n",
      "  Batch size = 4\n",
      "Saving model checkpoint to distilbert-base-uncased-finetuned-sentence-classification/checkpoint-25252\n",
      "Configuration saved in distilbert-base-uncased-finetuned-sentence-classification/checkpoint-25252/config.json\n",
      "Model weights saved in distilbert-base-uncased-finetuned-sentence-classification/checkpoint-25252/pytorch_model.bin\n",
      "tokenizer config file saved in distilbert-base-uncased-finetuned-sentence-classification/checkpoint-25252/tokenizer_config.json\n",
      "Special tokens file saved in distilbert-base-uncased-finetuned-sentence-classification/checkpoint-25252/special_tokens_map.json\n"
     ]
    },
    {
     "ename": "KeyError",
     "evalue": "'eval_accuracy'",
     "output_type": "error",
     "traceback": [
      "\u001b[0;31m---------------------------------------------------------------------------\u001b[0m",
      "\u001b[0;31mKeyError\u001b[0m                                  Traceback (most recent call last)",
      "\u001b[0;32m/tmp/ipykernel_234809/4032920361.py\u001b[0m in \u001b[0;36m<module>\u001b[0;34m\u001b[0m\n\u001b[0;32m----> 1\u001b[0;31m \u001b[0mtrainer\u001b[0m\u001b[0;34m.\u001b[0m\u001b[0mtrain\u001b[0m\u001b[0;34m(\u001b[0m\u001b[0;34m)\u001b[0m\u001b[0;34m\u001b[0m\u001b[0;34m\u001b[0m\u001b[0m\n\u001b[0m",
      "\u001b[0;32m~/.local/lib/python3.9/site-packages/transformers/trainer.py\u001b[0m in \u001b[0;36mtrain\u001b[0;34m(self, resume_from_checkpoint, trial, ignore_keys_for_eval, **kwargs)\u001b[0m\n\u001b[1;32m   1453\u001b[0m \u001b[0;34m\u001b[0m\u001b[0m\n\u001b[1;32m   1454\u001b[0m             \u001b[0mself\u001b[0m\u001b[0;34m.\u001b[0m\u001b[0mcontrol\u001b[0m \u001b[0;34m=\u001b[0m \u001b[0mself\u001b[0m\u001b[0;34m.\u001b[0m\u001b[0mcallback_handler\u001b[0m\u001b[0;34m.\u001b[0m\u001b[0mon_epoch_end\u001b[0m\u001b[0;34m(\u001b[0m\u001b[0margs\u001b[0m\u001b[0;34m,\u001b[0m \u001b[0mself\u001b[0m\u001b[0;34m.\u001b[0m\u001b[0mstate\u001b[0m\u001b[0;34m,\u001b[0m \u001b[0mself\u001b[0m\u001b[0;34m.\u001b[0m\u001b[0mcontrol\u001b[0m\u001b[0;34m)\u001b[0m\u001b[0;34m\u001b[0m\u001b[0;34m\u001b[0m\u001b[0m\n\u001b[0;32m-> 1455\u001b[0;31m             \u001b[0mself\u001b[0m\u001b[0;34m.\u001b[0m\u001b[0m_maybe_log_save_evaluate\u001b[0m\u001b[0;34m(\u001b[0m\u001b[0mtr_loss\u001b[0m\u001b[0;34m,\u001b[0m \u001b[0mmodel\u001b[0m\u001b[0;34m,\u001b[0m \u001b[0mtrial\u001b[0m\u001b[0;34m,\u001b[0m \u001b[0mepoch\u001b[0m\u001b[0;34m,\u001b[0m \u001b[0mignore_keys_for_eval\u001b[0m\u001b[0;34m)\u001b[0m\u001b[0;34m\u001b[0m\u001b[0;34m\u001b[0m\u001b[0m\n\u001b[0m\u001b[1;32m   1456\u001b[0m \u001b[0;34m\u001b[0m\u001b[0m\n\u001b[1;32m   1457\u001b[0m             \u001b[0;32mif\u001b[0m \u001b[0mDebugOption\u001b[0m\u001b[0;34m.\u001b[0m\u001b[0mTPU_METRICS_DEBUG\u001b[0m \u001b[0;32min\u001b[0m \u001b[0mself\u001b[0m\u001b[0;34m.\u001b[0m\u001b[0margs\u001b[0m\u001b[0;34m.\u001b[0m\u001b[0mdebug\u001b[0m\u001b[0;34m:\u001b[0m\u001b[0;34m\u001b[0m\u001b[0;34m\u001b[0m\u001b[0m\n",
      "\u001b[0;32m~/.local/lib/python3.9/site-packages/transformers/trainer.py\u001b[0m in \u001b[0;36m_maybe_log_save_evaluate\u001b[0;34m(self, tr_loss, model, trial, epoch, ignore_keys_for_eval)\u001b[0m\n\u001b[1;32m   1567\u001b[0m \u001b[0;34m\u001b[0m\u001b[0m\n\u001b[1;32m   1568\u001b[0m         \u001b[0;32mif\u001b[0m \u001b[0mself\u001b[0m\u001b[0;34m.\u001b[0m\u001b[0mcontrol\u001b[0m\u001b[0;34m.\u001b[0m\u001b[0mshould_save\u001b[0m\u001b[0;34m:\u001b[0m\u001b[0;34m\u001b[0m\u001b[0;34m\u001b[0m\u001b[0m\n\u001b[0;32m-> 1569\u001b[0;31m             \u001b[0mself\u001b[0m\u001b[0;34m.\u001b[0m\u001b[0m_save_checkpoint\u001b[0m\u001b[0;34m(\u001b[0m\u001b[0mmodel\u001b[0m\u001b[0;34m,\u001b[0m \u001b[0mtrial\u001b[0m\u001b[0;34m,\u001b[0m \u001b[0mmetrics\u001b[0m\u001b[0;34m=\u001b[0m\u001b[0mmetrics\u001b[0m\u001b[0;34m)\u001b[0m\u001b[0;34m\u001b[0m\u001b[0;34m\u001b[0m\u001b[0m\n\u001b[0m\u001b[1;32m   1570\u001b[0m             \u001b[0mself\u001b[0m\u001b[0;34m.\u001b[0m\u001b[0mcontrol\u001b[0m \u001b[0;34m=\u001b[0m \u001b[0mself\u001b[0m\u001b[0;34m.\u001b[0m\u001b[0mcallback_handler\u001b[0m\u001b[0;34m.\u001b[0m\u001b[0mon_save\u001b[0m\u001b[0;34m(\u001b[0m\u001b[0mself\u001b[0m\u001b[0;34m.\u001b[0m\u001b[0margs\u001b[0m\u001b[0;34m,\u001b[0m \u001b[0mself\u001b[0m\u001b[0;34m.\u001b[0m\u001b[0mstate\u001b[0m\u001b[0;34m,\u001b[0m \u001b[0mself\u001b[0m\u001b[0;34m.\u001b[0m\u001b[0mcontrol\u001b[0m\u001b[0;34m)\u001b[0m\u001b[0;34m\u001b[0m\u001b[0;34m\u001b[0m\u001b[0m\n\u001b[1;32m   1571\u001b[0m \u001b[0;34m\u001b[0m\u001b[0m\n",
      "\u001b[0;32m~/.local/lib/python3.9/site-packages/transformers/trainer.py\u001b[0m in \u001b[0;36m_save_checkpoint\u001b[0;34m(self, model, trial, metrics)\u001b[0m\n\u001b[1;32m   1677\u001b[0m             \u001b[0;32mif\u001b[0m \u001b[0;32mnot\u001b[0m \u001b[0mmetric_to_check\u001b[0m\u001b[0;34m.\u001b[0m\u001b[0mstartswith\u001b[0m\u001b[0;34m(\u001b[0m\u001b[0;34m\"eval_\"\u001b[0m\u001b[0;34m)\u001b[0m\u001b[0;34m:\u001b[0m\u001b[0;34m\u001b[0m\u001b[0;34m\u001b[0m\u001b[0m\n\u001b[1;32m   1678\u001b[0m                 \u001b[0mmetric_to_check\u001b[0m \u001b[0;34m=\u001b[0m \u001b[0;34mf\"eval_{metric_to_check}\"\u001b[0m\u001b[0;34m\u001b[0m\u001b[0;34m\u001b[0m\u001b[0m\n\u001b[0;32m-> 1679\u001b[0;31m             \u001b[0mmetric_value\u001b[0m \u001b[0;34m=\u001b[0m \u001b[0mmetrics\u001b[0m\u001b[0;34m[\u001b[0m\u001b[0mmetric_to_check\u001b[0m\u001b[0;34m]\u001b[0m\u001b[0;34m\u001b[0m\u001b[0;34m\u001b[0m\u001b[0m\n\u001b[0m\u001b[1;32m   1680\u001b[0m \u001b[0;34m\u001b[0m\u001b[0m\n\u001b[1;32m   1681\u001b[0m             \u001b[0moperator\u001b[0m \u001b[0;34m=\u001b[0m \u001b[0mnp\u001b[0m\u001b[0;34m.\u001b[0m\u001b[0mgreater\u001b[0m \u001b[0;32mif\u001b[0m \u001b[0mself\u001b[0m\u001b[0;34m.\u001b[0m\u001b[0margs\u001b[0m\u001b[0;34m.\u001b[0m\u001b[0mgreater_is_better\u001b[0m \u001b[0;32melse\u001b[0m \u001b[0mnp\u001b[0m\u001b[0;34m.\u001b[0m\u001b[0mless\u001b[0m\u001b[0;34m\u001b[0m\u001b[0;34m\u001b[0m\u001b[0m\n",
      "\u001b[0;31mKeyError\u001b[0m: 'eval_accuracy'"
     ]
    }
   ],
   "source": [
    "trainer.train()"
   ]
  },
  {
   "cell_type": "code",
   "execution_count": null,
   "metadata": {
    "executionInfo": {
     "elapsed": 5441,
     "status": "ok",
     "timestamp": 1644363914467,
     "user": {
      "displayName": "Clyde",
      "photoUrl": "https://lh3.googleusercontent.com/a-/AOh14GjoLYXAGsV_YRhlDcFT578Eid_TYHtCYj4giy6Svw=s64",
      "userId": "17715859681118314357"
     },
     "user_tz": -480
    },
    "id": "XFKDQUYn8hLo"
   },
   "outputs": [],
   "source": [
    "import tensorflow as tf\n",
    "from tensorflow.keras.layers import Flatten, Dense, Dropout, Input\n",
    "\n",
    "import numpy as np\n",
    "from sklearn.model_selection import train_test_split"
   ]
  },
  {
   "cell_type": "code",
   "execution_count": null,
   "metadata": {
    "colab": {
     "base_uri": "https://localhost:8080/"
    },
    "executionInfo": {
     "elapsed": 5,
     "status": "ok",
     "timestamp": 1644363918424,
     "user": {
      "displayName": "Clyde",
      "photoUrl": "https://lh3.googleusercontent.com/a-/AOh14GjoLYXAGsV_YRhlDcFT578Eid_TYHtCYj4giy6Svw=s64",
      "userId": "17715859681118314357"
     },
     "user_tz": -480
    },
    "id": "r1j7BKxf9ke8",
    "outputId": "3d57fbdf-bb94-487d-d0af-635aeedcde86"
   },
   "outputs": [],
   "source": [
    "X = np.random.rand(1584, 4)\n",
    "X"
   ]
  },
  {
   "cell_type": "code",
   "execution_count": null,
   "metadata": {
    "colab": {
     "base_uri": "https://localhost:8080/"
    },
    "executionInfo": {
     "elapsed": 495,
     "status": "ok",
     "timestamp": 1644363928693,
     "user": {
      "displayName": "Clyde",
      "photoUrl": "https://lh3.googleusercontent.com/a-/AOh14GjoLYXAGsV_YRhlDcFT578Eid_TYHtCYj4giy6Svw=s64",
      "userId": "17715859681118314357"
     },
     "user_tz": -480
    },
    "id": "0oLzdrlh9kba",
    "outputId": "10708323-4bb7-43a2-b3b6-9f705368e0b7"
   },
   "outputs": [],
   "source": [
    "y = np.random.choice(4, size=1584)\n",
    "y"
   ]
  },
  {
   "cell_type": "code",
   "execution_count": null,
   "metadata": {
    "executionInfo": {
     "elapsed": 642,
     "status": "ok",
     "timestamp": 1644363933602,
     "user": {
      "displayName": "Clyde",
      "photoUrl": "https://lh3.googleusercontent.com/a-/AOh14GjoLYXAGsV_YRhlDcFT578Eid_TYHtCYj4giy6Svw=s64",
      "userId": "17715859681118314357"
     },
     "user_tz": -480
    },
    "id": "qAblUHMt-feu"
   },
   "outputs": [],
   "source": [
    "X_train, X_test, y_train, y_test = train_test_split(X, y, test_size=0.2, random_state=1337)"
   ]
  },
  {
   "cell_type": "code",
   "execution_count": null,
   "metadata": {
    "executionInfo": {
     "elapsed": 618,
     "status": "ok",
     "timestamp": 1644364282868,
     "user": {
      "displayName": "Clyde",
      "photoUrl": "https://lh3.googleusercontent.com/a-/AOh14GjoLYXAGsV_YRhlDcFT578Eid_TYHtCYj4giy6Svw=s64",
      "userId": "17715859681118314357"
     },
     "user_tz": -480
    },
    "id": "O5HTXu1CvhPc"
   },
   "outputs": [],
   "source": [
    "X_train = tf.convert_to_tensor(X_train)\n",
    "X_test = tf.convert_to_tensor(X_test)\n",
    "y_train = tf.convert_to_tensor(y_train)\n",
    "y_test = tf.convert_to_tensor(y_test)"
   ]
  },
  {
   "cell_type": "code",
   "execution_count": null,
   "metadata": {
    "colab": {
     "base_uri": "https://localhost:8080/"
    },
    "executionInfo": {
     "elapsed": 4,
     "status": "ok",
     "timestamp": 1644364493328,
     "user": {
      "displayName": "Clyde",
      "photoUrl": "https://lh3.googleusercontent.com/a-/AOh14GjoLYXAGsV_YRhlDcFT578Eid_TYHtCYj4giy6Svw=s64",
      "userId": "17715859681118314357"
     },
     "user_tz": -480
    },
    "id": "QKwqkDquwtnd",
    "outputId": "353183d7-d8a7-49e9-cb67-1d9c1237cc48"
   },
   "outputs": [],
   "source": [
    "X_train.shape"
   ]
  },
  {
   "cell_type": "code",
   "execution_count": null,
   "metadata": {
    "executionInfo": {
     "elapsed": 4,
     "status": "ok",
     "timestamp": 1644364697802,
     "user": {
      "displayName": "Clyde",
      "photoUrl": "https://lh3.googleusercontent.com/a-/AOh14GjoLYXAGsV_YRhlDcFT578Eid_TYHtCYj4giy6Svw=s64",
      "userId": "17715859681118314357"
     },
     "user_tz": -480
    },
    "id": "eh0kF4_a8ipz"
   },
   "outputs": [],
   "source": [
    "model = tf.keras.Sequential([\n",
    "        Flatten(input_shape=(4,)),\n",
    "        Dense(128, activation=\"relu\"),\n",
    "        Dropout(.2),\n",
    "        Dense(4, activation=\"softmax\")\n",
    "])\n",
    "\n",
    "model.compile(optimizer='adam', loss='sparse_categorical_crossentropy', metrics=[\"accuracy\"])"
   ]
  },
  {
   "cell_type": "code",
   "execution_count": null,
   "metadata": {
    "colab": {
     "base_uri": "https://localhost:8080/"
    },
    "executionInfo": {
     "elapsed": 4,
     "status": "ok",
     "timestamp": 1644364699328,
     "user": {
      "displayName": "Clyde",
      "photoUrl": "https://lh3.googleusercontent.com/a-/AOh14GjoLYXAGsV_YRhlDcFT578Eid_TYHtCYj4giy6Svw=s64",
      "userId": "17715859681118314357"
     },
     "user_tz": -480
    },
    "id": "gAhqqBIPCkWA",
    "outputId": "992fd2b8-e30f-40c2-bcd9-0de53cc303c8"
   },
   "outputs": [],
   "source": [
    "model.input_shape"
   ]
  },
  {
   "cell_type": "code",
   "execution_count": null,
   "metadata": {
    "colab": {
     "base_uri": "https://localhost:8080/"
    },
    "executionInfo": {
     "elapsed": 640,
     "status": "ok",
     "timestamp": 1644364700653,
     "user": {
      "displayName": "Clyde",
      "photoUrl": "https://lh3.googleusercontent.com/a-/AOh14GjoLYXAGsV_YRhlDcFT578Eid_TYHtCYj4giy6Svw=s64",
      "userId": "17715859681118314357"
     },
     "user_tz": -480
    },
    "id": "2CjNBpRX9DNG",
    "outputId": "10cb540f-4fe8-4914-a329-73545fbafcd5"
   },
   "outputs": [],
   "source": [
    "model.summary()"
   ]
  },
  {
   "cell_type": "code",
   "execution_count": null,
   "metadata": {
    "colab": {
     "base_uri": "https://localhost:8080/"
    },
    "executionInfo": {
     "elapsed": 1142,
     "status": "ok",
     "timestamp": 1644364308173,
     "user": {
      "displayName": "Clyde",
      "photoUrl": "https://lh3.googleusercontent.com/a-/AOh14GjoLYXAGsV_YRhlDcFT578Eid_TYHtCYj4giy6Svw=s64",
      "userId": "17715859681118314357"
     },
     "user_tz": -480
    },
    "id": "DQdluls7-eB4",
    "outputId": "dcd24302-ebc5-4c52-eac4-e136d30744fd"
   },
   "outputs": [],
   "source": [
    "model.fit(X_train, y_train, epochs=3)"
   ]
  }
 ],
 "metadata": {
  "accelerator": "GPU",
  "colab": {
   "authorship_tag": "ABX9TyOaEXgW4TIhD+XvWAMh4JvT",
   "collapsed_sections": [],
   "mount_file_id": "1AmKG-OioyPsvI0g7pUUfXDb_4N6klq67",
   "name": "HuggingFaceTransformers.ipynb",
   "provenance": []
  },
  "kernelspec": {
   "display_name": "Python 3 (ipykernel)",
   "language": "python",
   "name": "python3"
  },
  "language_info": {
   "codemirror_mode": {
    "name": "ipython",
    "version": 3
   },
   "file_extension": ".py",
   "mimetype": "text/x-python",
   "name": "python",
   "nbconvert_exporter": "python",
   "pygments_lexer": "ipython3",
   "version": "3.9.5"
  },
  "widgets": {
   "application/vnd.jupyter.widget-state+json": {
    "00ba40156bf24502a3013ee617392fb4": {
     "model_module": "@jupyter-widgets/controls",
     "model_module_version": "1.5.0",
     "model_name": "FloatProgressModel",
     "state": {
      "_dom_classes": [],
      "_model_module": "@jupyter-widgets/controls",
      "_model_module_version": "1.5.0",
      "_model_name": "FloatProgressModel",
      "_view_count": null,
      "_view_module": "@jupyter-widgets/controls",
      "_view_module_version": "1.5.0",
      "_view_name": "ProgressView",
      "bar_style": "success",
      "description": "",
      "description_tooltip": null,
      "layout": "IPY_MODEL_3a028690f4784f13bd679de43762c879",
      "max": 15,
      "min": 0,
      "orientation": "horizontal",
      "style": "IPY_MODEL_d095669f1b2442578d0d1f8d8aebc233",
      "value": 15
     }
    },
    "07ce1385b1f74ad385c96b092a8101cc": {
     "model_module": "@jupyter-widgets/controls",
     "model_module_version": "1.5.0",
     "model_name": "ProgressStyleModel",
     "state": {
      "_model_module": "@jupyter-widgets/controls",
      "_model_module_version": "1.5.0",
      "_model_name": "ProgressStyleModel",
      "_view_count": null,
      "_view_module": "@jupyter-widgets/base",
      "_view_module_version": "1.2.0",
      "_view_name": "StyleView",
      "bar_color": null,
      "description_width": ""
     }
    },
    "09335e7f16ed4ca79227a832a1ca3b4a": {
     "model_module": "@jupyter-widgets/controls",
     "model_module_version": "1.5.0",
     "model_name": "HBoxModel",
     "state": {
      "_dom_classes": [],
      "_model_module": "@jupyter-widgets/controls",
      "_model_module_version": "1.5.0",
      "_model_name": "HBoxModel",
      "_view_count": null,
      "_view_module": "@jupyter-widgets/controls",
      "_view_module_version": "1.5.0",
      "_view_name": "HBoxView",
      "box_style": "",
      "children": [
       "IPY_MODEL_88d8830e26b24acc9ce1edaa77c9a887",
       "IPY_MODEL_d2dade9ee99b48148185a021707c3db5",
       "IPY_MODEL_fec733c5e82c478e92296517acda6127"
      ],
      "layout": "IPY_MODEL_d56f2d84486b479296b949e17be5ed81"
     }
    },
    "10348be32e1a491b86e4cd76f9ce118c": {
     "model_module": "@jupyter-widgets/base",
     "model_module_version": "1.2.0",
     "model_name": "LayoutModel",
     "state": {
      "_model_module": "@jupyter-widgets/base",
      "_model_module_version": "1.2.0",
      "_model_name": "LayoutModel",
      "_view_count": null,
      "_view_module": "@jupyter-widgets/base",
      "_view_module_version": "1.2.0",
      "_view_name": "LayoutView",
      "align_content": null,
      "align_items": null,
      "align_self": null,
      "border": null,
      "bottom": null,
      "display": null,
      "flex": null,
      "flex_flow": null,
      "grid_area": null,
      "grid_auto_columns": null,
      "grid_auto_flow": null,
      "grid_auto_rows": null,
      "grid_column": null,
      "grid_gap": null,
      "grid_row": null,
      "grid_template_areas": null,
      "grid_template_columns": null,
      "grid_template_rows": null,
      "height": null,
      "justify_content": null,
      "justify_items": null,
      "left": null,
      "margin": null,
      "max_height": null,
      "max_width": null,
      "min_height": null,
      "min_width": null,
      "object_fit": null,
      "object_position": null,
      "order": null,
      "overflow": null,
      "overflow_x": null,
      "overflow_y": null,
      "padding": null,
      "right": null,
      "top": null,
      "visibility": null,
      "width": null
     }
    },
    "1a21a49a080f41759229719753f409e1": {
     "model_module": "@jupyter-widgets/controls",
     "model_module_version": "1.5.0",
     "model_name": "HTMLModel",
     "state": {
      "_dom_classes": [],
      "_model_module": "@jupyter-widgets/controls",
      "_model_module_version": "1.5.0",
      "_model_name": "HTMLModel",
      "_view_count": null,
      "_view_module": "@jupyter-widgets/controls",
      "_view_module_version": "1.5.0",
      "_view_name": "HTMLView",
      "description": "",
      "description_tooltip": null,
      "layout": "IPY_MODEL_10348be32e1a491b86e4cd76f9ce118c",
      "placeholder": "​",
      "style": "IPY_MODEL_360a64a1a7874563abddf863e651d116",
      "value": "100%"
     }
    },
    "202316d230b949e28176006ebae523da": {
     "model_module": "@jupyter-widgets/base",
     "model_module_version": "1.2.0",
     "model_name": "LayoutModel",
     "state": {
      "_model_module": "@jupyter-widgets/base",
      "_model_module_version": "1.2.0",
      "_model_name": "LayoutModel",
      "_view_count": null,
      "_view_module": "@jupyter-widgets/base",
      "_view_module_version": "1.2.0",
      "_view_name": "LayoutView",
      "align_content": null,
      "align_items": null,
      "align_self": null,
      "border": null,
      "bottom": null,
      "display": null,
      "flex": null,
      "flex_flow": null,
      "grid_area": null,
      "grid_auto_columns": null,
      "grid_auto_flow": null,
      "grid_auto_rows": null,
      "grid_column": null,
      "grid_gap": null,
      "grid_row": null,
      "grid_template_areas": null,
      "grid_template_columns": null,
      "grid_template_rows": null,
      "height": null,
      "justify_content": null,
      "justify_items": null,
      "left": null,
      "margin": null,
      "max_height": null,
      "max_width": null,
      "min_height": null,
      "min_width": null,
      "object_fit": null,
      "object_position": null,
      "order": null,
      "overflow": null,
      "overflow_x": null,
      "overflow_y": null,
      "padding": null,
      "right": null,
      "top": null,
      "visibility": null,
      "width": null
     }
    },
    "241c78283aca4e7bb125be78b03b7e1e": {
     "model_module": "@jupyter-widgets/base",
     "model_module_version": "1.2.0",
     "model_name": "LayoutModel",
     "state": {
      "_model_module": "@jupyter-widgets/base",
      "_model_module_version": "1.2.0",
      "_model_name": "LayoutModel",
      "_view_count": null,
      "_view_module": "@jupyter-widgets/base",
      "_view_module_version": "1.2.0",
      "_view_name": "LayoutView",
      "align_content": null,
      "align_items": null,
      "align_self": null,
      "border": null,
      "bottom": null,
      "display": null,
      "flex": null,
      "flex_flow": null,
      "grid_area": null,
      "grid_auto_columns": null,
      "grid_auto_flow": null,
      "grid_auto_rows": null,
      "grid_column": null,
      "grid_gap": null,
      "grid_row": null,
      "grid_template_areas": null,
      "grid_template_columns": null,
      "grid_template_rows": null,
      "height": null,
      "justify_content": null,
      "justify_items": null,
      "left": null,
      "margin": null,
      "max_height": null,
      "max_width": null,
      "min_height": null,
      "min_width": null,
      "object_fit": null,
      "object_position": null,
      "order": null,
      "overflow": null,
      "overflow_x": null,
      "overflow_y": null,
      "padding": null,
      "right": null,
      "top": null,
      "visibility": null,
      "width": null
     }
    },
    "354d938ecc1544248f8d74305c19f806": {
     "model_module": "@jupyter-widgets/controls",
     "model_module_version": "1.5.0",
     "model_name": "FloatProgressModel",
     "state": {
      "_dom_classes": [],
      "_model_module": "@jupyter-widgets/controls",
      "_model_module_version": "1.5.0",
      "_model_name": "FloatProgressModel",
      "_view_count": null,
      "_view_module": "@jupyter-widgets/controls",
      "_view_module_version": "1.5.0",
      "_view_name": "ProgressView",
      "bar_style": "success",
      "description": "",
      "description_tooltip": null,
      "layout": "IPY_MODEL_241c78283aca4e7bb125be78b03b7e1e",
      "max": 102,
      "min": 0,
      "orientation": "horizontal",
      "style": "IPY_MODEL_9d27594faceb4e3bbcc5f7e2c79511ed",
      "value": 102
     }
    },
    "360a64a1a7874563abddf863e651d116": {
     "model_module": "@jupyter-widgets/controls",
     "model_module_version": "1.5.0",
     "model_name": "DescriptionStyleModel",
     "state": {
      "_model_module": "@jupyter-widgets/controls",
      "_model_module_version": "1.5.0",
      "_model_name": "DescriptionStyleModel",
      "_view_count": null,
      "_view_module": "@jupyter-widgets/base",
      "_view_module_version": "1.2.0",
      "_view_name": "StyleView",
      "description_width": ""
     }
    },
    "3a028690f4784f13bd679de43762c879": {
     "model_module": "@jupyter-widgets/base",
     "model_module_version": "1.2.0",
     "model_name": "LayoutModel",
     "state": {
      "_model_module": "@jupyter-widgets/base",
      "_model_module_version": "1.2.0",
      "_model_name": "LayoutModel",
      "_view_count": null,
      "_view_module": "@jupyter-widgets/base",
      "_view_module_version": "1.2.0",
      "_view_name": "LayoutView",
      "align_content": null,
      "align_items": null,
      "align_self": null,
      "border": null,
      "bottom": null,
      "display": null,
      "flex": null,
      "flex_flow": null,
      "grid_area": null,
      "grid_auto_columns": null,
      "grid_auto_flow": null,
      "grid_auto_rows": null,
      "grid_column": null,
      "grid_gap": null,
      "grid_row": null,
      "grid_template_areas": null,
      "grid_template_columns": null,
      "grid_template_rows": null,
      "height": null,
      "justify_content": null,
      "justify_items": null,
      "left": null,
      "margin": null,
      "max_height": null,
      "max_width": null,
      "min_height": null,
      "min_width": null,
      "object_fit": null,
      "object_position": null,
      "order": null,
      "overflow": null,
      "overflow_x": null,
      "overflow_y": null,
      "padding": null,
      "right": null,
      "top": null,
      "visibility": null,
      "width": null
     }
    },
    "40904e8827594b58a479abb13e2568f3": {
     "model_module": "@jupyter-widgets/controls",
     "model_module_version": "1.5.0",
     "model_name": "HTMLModel",
     "state": {
      "_dom_classes": [],
      "_model_module": "@jupyter-widgets/controls",
      "_model_module_version": "1.5.0",
      "_model_name": "HTMLModel",
      "_view_count": null,
      "_view_module": "@jupyter-widgets/controls",
      "_view_module_version": "1.5.0",
      "_view_name": "HTMLView",
      "description": "",
      "description_tooltip": null,
      "layout": "IPY_MODEL_c54e19273e0e49e099e0f5651bb210bb",
      "placeholder": "​",
      "style": "IPY_MODEL_89b57630247244628d6990da434b4aa5",
      "value": " 102/102 [00:31&lt;00:00,  3.75ba/s]"
     }
    },
    "4810279074fc42b9943db4ce136cc630": {
     "model_module": "@jupyter-widgets/base",
     "model_module_version": "1.2.0",
     "model_name": "LayoutModel",
     "state": {
      "_model_module": "@jupyter-widgets/base",
      "_model_module_version": "1.2.0",
      "_model_name": "LayoutModel",
      "_view_count": null,
      "_view_module": "@jupyter-widgets/base",
      "_view_module_version": "1.2.0",
      "_view_name": "LayoutView",
      "align_content": null,
      "align_items": null,
      "align_self": null,
      "border": null,
      "bottom": null,
      "display": null,
      "flex": null,
      "flex_flow": null,
      "grid_area": null,
      "grid_auto_columns": null,
      "grid_auto_flow": null,
      "grid_auto_rows": null,
      "grid_column": null,
      "grid_gap": null,
      "grid_row": null,
      "grid_template_areas": null,
      "grid_template_columns": null,
      "grid_template_rows": null,
      "height": null,
      "justify_content": null,
      "justify_items": null,
      "left": null,
      "margin": null,
      "max_height": null,
      "max_width": null,
      "min_height": null,
      "min_width": null,
      "object_fit": null,
      "object_position": null,
      "order": null,
      "overflow": null,
      "overflow_x": null,
      "overflow_y": null,
      "padding": null,
      "right": null,
      "top": null,
      "visibility": null,
      "width": null
     }
    },
    "4ec5c83007a04fbebd7976714e9d8985": {
     "model_module": "@jupyter-widgets/controls",
     "model_module_version": "1.5.0",
     "model_name": "HBoxModel",
     "state": {
      "_dom_classes": [],
      "_model_module": "@jupyter-widgets/controls",
      "_model_module_version": "1.5.0",
      "_model_name": "HBoxModel",
      "_view_count": null,
      "_view_module": "@jupyter-widgets/controls",
      "_view_module_version": "1.5.0",
      "_view_name": "HBoxView",
      "box_style": "",
      "children": [
       "IPY_MODEL_1a21a49a080f41759229719753f409e1",
       "IPY_MODEL_00ba40156bf24502a3013ee617392fb4",
       "IPY_MODEL_77b5a2ac714447b1a2a865d3845a4f8e"
      ],
      "layout": "IPY_MODEL_4810279074fc42b9943db4ce136cc630"
     }
    },
    "77b5a2ac714447b1a2a865d3845a4f8e": {
     "model_module": "@jupyter-widgets/controls",
     "model_module_version": "1.5.0",
     "model_name": "HTMLModel",
     "state": {
      "_dom_classes": [],
      "_model_module": "@jupyter-widgets/controls",
      "_model_module_version": "1.5.0",
      "_model_name": "HTMLModel",
      "_view_count": null,
      "_view_module": "@jupyter-widgets/controls",
      "_view_module_version": "1.5.0",
      "_view_name": "HTMLView",
      "description": "",
      "description_tooltip": null,
      "layout": "IPY_MODEL_b1493322c4b141dea15cbc1308c4fd41",
      "placeholder": "​",
      "style": "IPY_MODEL_922565087fe74fb3b83c804677732d55",
      "value": " 15/15 [00:05&lt;00:00,  2.44ba/s]"
     }
    },
    "790eabe193a04a1b870c5b4a2f3d914d": {
     "model_module": "@jupyter-widgets/base",
     "model_module_version": "1.2.0",
     "model_name": "LayoutModel",
     "state": {
      "_model_module": "@jupyter-widgets/base",
      "_model_module_version": "1.2.0",
      "_model_name": "LayoutModel",
      "_view_count": null,
      "_view_module": "@jupyter-widgets/base",
      "_view_module_version": "1.2.0",
      "_view_name": "LayoutView",
      "align_content": null,
      "align_items": null,
      "align_self": null,
      "border": null,
      "bottom": null,
      "display": null,
      "flex": null,
      "flex_flow": null,
      "grid_area": null,
      "grid_auto_columns": null,
      "grid_auto_flow": null,
      "grid_auto_rows": null,
      "grid_column": null,
      "grid_gap": null,
      "grid_row": null,
      "grid_template_areas": null,
      "grid_template_columns": null,
      "grid_template_rows": null,
      "height": null,
      "justify_content": null,
      "justify_items": null,
      "left": null,
      "margin": null,
      "max_height": null,
      "max_width": null,
      "min_height": null,
      "min_width": null,
      "object_fit": null,
      "object_position": null,
      "order": null,
      "overflow": null,
      "overflow_x": null,
      "overflow_y": null,
      "padding": null,
      "right": null,
      "top": null,
      "visibility": null,
      "width": null
     }
    },
    "7dd4b038901c4fddb9738babe585b0fe": {
     "model_module": "@jupyter-widgets/base",
     "model_module_version": "1.2.0",
     "model_name": "LayoutModel",
     "state": {
      "_model_module": "@jupyter-widgets/base",
      "_model_module_version": "1.2.0",
      "_model_name": "LayoutModel",
      "_view_count": null,
      "_view_module": "@jupyter-widgets/base",
      "_view_module_version": "1.2.0",
      "_view_name": "LayoutView",
      "align_content": null,
      "align_items": null,
      "align_self": null,
      "border": null,
      "bottom": null,
      "display": null,
      "flex": null,
      "flex_flow": null,
      "grid_area": null,
      "grid_auto_columns": null,
      "grid_auto_flow": null,
      "grid_auto_rows": null,
      "grid_column": null,
      "grid_gap": null,
      "grid_row": null,
      "grid_template_areas": null,
      "grid_template_columns": null,
      "grid_template_rows": null,
      "height": null,
      "justify_content": null,
      "justify_items": null,
      "left": null,
      "margin": null,
      "max_height": null,
      "max_width": null,
      "min_height": null,
      "min_width": null,
      "object_fit": null,
      "object_position": null,
      "order": null,
      "overflow": null,
      "overflow_x": null,
      "overflow_y": null,
      "padding": null,
      "right": null,
      "top": null,
      "visibility": null,
      "width": null
     }
    },
    "88d8830e26b24acc9ce1edaa77c9a887": {
     "model_module": "@jupyter-widgets/controls",
     "model_module_version": "1.5.0",
     "model_name": "HTMLModel",
     "state": {
      "_dom_classes": [],
      "_model_module": "@jupyter-widgets/controls",
      "_model_module_version": "1.5.0",
      "_model_name": "HTMLModel",
      "_view_count": null,
      "_view_module": "@jupyter-widgets/controls",
      "_view_module_version": "1.5.0",
      "_view_name": "HTMLView",
      "description": "",
      "description_tooltip": null,
      "layout": "IPY_MODEL_202316d230b949e28176006ebae523da",
      "placeholder": "​",
      "style": "IPY_MODEL_e9c3eec2ec894aabb11bd0ee9d29fd6d",
      "value": "100%"
     }
    },
    "89b57630247244628d6990da434b4aa5": {
     "model_module": "@jupyter-widgets/controls",
     "model_module_version": "1.5.0",
     "model_name": "DescriptionStyleModel",
     "state": {
      "_model_module": "@jupyter-widgets/controls",
      "_model_module_version": "1.5.0",
      "_model_name": "DescriptionStyleModel",
      "_view_count": null,
      "_view_module": "@jupyter-widgets/base",
      "_view_module_version": "1.2.0",
      "_view_name": "StyleView",
      "description_width": ""
     }
    },
    "922565087fe74fb3b83c804677732d55": {
     "model_module": "@jupyter-widgets/controls",
     "model_module_version": "1.5.0",
     "model_name": "DescriptionStyleModel",
     "state": {
      "_model_module": "@jupyter-widgets/controls",
      "_model_module_version": "1.5.0",
      "_model_name": "DescriptionStyleModel",
      "_view_count": null,
      "_view_module": "@jupyter-widgets/base",
      "_view_module_version": "1.2.0",
      "_view_name": "StyleView",
      "description_width": ""
     }
    },
    "9d27594faceb4e3bbcc5f7e2c79511ed": {
     "model_module": "@jupyter-widgets/controls",
     "model_module_version": "1.5.0",
     "model_name": "ProgressStyleModel",
     "state": {
      "_model_module": "@jupyter-widgets/controls",
      "_model_module_version": "1.5.0",
      "_model_name": "ProgressStyleModel",
      "_view_count": null,
      "_view_module": "@jupyter-widgets/base",
      "_view_module_version": "1.2.0",
      "_view_name": "StyleView",
      "bar_color": null,
      "description_width": ""
     }
    },
    "aad007f4fe404db1a7b7413d183fc829": {
     "model_module": "@jupyter-widgets/controls",
     "model_module_version": "1.5.0",
     "model_name": "DescriptionStyleModel",
     "state": {
      "_model_module": "@jupyter-widgets/controls",
      "_model_module_version": "1.5.0",
      "_model_name": "DescriptionStyleModel",
      "_view_count": null,
      "_view_module": "@jupyter-widgets/base",
      "_view_module_version": "1.2.0",
      "_view_name": "StyleView",
      "description_width": ""
     }
    },
    "b1493322c4b141dea15cbc1308c4fd41": {
     "model_module": "@jupyter-widgets/base",
     "model_module_version": "1.2.0",
     "model_name": "LayoutModel",
     "state": {
      "_model_module": "@jupyter-widgets/base",
      "_model_module_version": "1.2.0",
      "_model_name": "LayoutModel",
      "_view_count": null,
      "_view_module": "@jupyter-widgets/base",
      "_view_module_version": "1.2.0",
      "_view_name": "LayoutView",
      "align_content": null,
      "align_items": null,
      "align_self": null,
      "border": null,
      "bottom": null,
      "display": null,
      "flex": null,
      "flex_flow": null,
      "grid_area": null,
      "grid_auto_columns": null,
      "grid_auto_flow": null,
      "grid_auto_rows": null,
      "grid_column": null,
      "grid_gap": null,
      "grid_row": null,
      "grid_template_areas": null,
      "grid_template_columns": null,
      "grid_template_rows": null,
      "height": null,
      "justify_content": null,
      "justify_items": null,
      "left": null,
      "margin": null,
      "max_height": null,
      "max_width": null,
      "min_height": null,
      "min_width": null,
      "object_fit": null,
      "object_position": null,
      "order": null,
      "overflow": null,
      "overflow_x": null,
      "overflow_y": null,
      "padding": null,
      "right": null,
      "top": null,
      "visibility": null,
      "width": null
     }
    },
    "b4a9d3fb04fe4240948f03b46d539d4c": {
     "model_module": "@jupyter-widgets/base",
     "model_module_version": "1.2.0",
     "model_name": "LayoutModel",
     "state": {
      "_model_module": "@jupyter-widgets/base",
      "_model_module_version": "1.2.0",
      "_model_name": "LayoutModel",
      "_view_count": null,
      "_view_module": "@jupyter-widgets/base",
      "_view_module_version": "1.2.0",
      "_view_name": "LayoutView",
      "align_content": null,
      "align_items": null,
      "align_self": null,
      "border": null,
      "bottom": null,
      "display": null,
      "flex": null,
      "flex_flow": null,
      "grid_area": null,
      "grid_auto_columns": null,
      "grid_auto_flow": null,
      "grid_auto_rows": null,
      "grid_column": null,
      "grid_gap": null,
      "grid_row": null,
      "grid_template_areas": null,
      "grid_template_columns": null,
      "grid_template_rows": null,
      "height": null,
      "justify_content": null,
      "justify_items": null,
      "left": null,
      "margin": null,
      "max_height": null,
      "max_width": null,
      "min_height": null,
      "min_width": null,
      "object_fit": null,
      "object_position": null,
      "order": null,
      "overflow": null,
      "overflow_x": null,
      "overflow_y": null,
      "padding": null,
      "right": null,
      "top": null,
      "visibility": null,
      "width": null
     }
    },
    "b52a2f5bdec14762adfad655af88b8c8": {
     "model_module": "@jupyter-widgets/controls",
     "model_module_version": "1.5.0",
     "model_name": "DescriptionStyleModel",
     "state": {
      "_model_module": "@jupyter-widgets/controls",
      "_model_module_version": "1.5.0",
      "_model_name": "DescriptionStyleModel",
      "_view_count": null,
      "_view_module": "@jupyter-widgets/base",
      "_view_module_version": "1.2.0",
      "_view_name": "StyleView",
      "description_width": ""
     }
    },
    "bfca8adef88a447994d2fbb42c6876b0": {
     "model_module": "@jupyter-widgets/base",
     "model_module_version": "1.2.0",
     "model_name": "LayoutModel",
     "state": {
      "_model_module": "@jupyter-widgets/base",
      "_model_module_version": "1.2.0",
      "_model_name": "LayoutModel",
      "_view_count": null,
      "_view_module": "@jupyter-widgets/base",
      "_view_module_version": "1.2.0",
      "_view_name": "LayoutView",
      "align_content": null,
      "align_items": null,
      "align_self": null,
      "border": null,
      "bottom": null,
      "display": null,
      "flex": null,
      "flex_flow": null,
      "grid_area": null,
      "grid_auto_columns": null,
      "grid_auto_flow": null,
      "grid_auto_rows": null,
      "grid_column": null,
      "grid_gap": null,
      "grid_row": null,
      "grid_template_areas": null,
      "grid_template_columns": null,
      "grid_template_rows": null,
      "height": null,
      "justify_content": null,
      "justify_items": null,
      "left": null,
      "margin": null,
      "max_height": null,
      "max_width": null,
      "min_height": null,
      "min_width": null,
      "object_fit": null,
      "object_position": null,
      "order": null,
      "overflow": null,
      "overflow_x": null,
      "overflow_y": null,
      "padding": null,
      "right": null,
      "top": null,
      "visibility": null,
      "width": null
     }
    },
    "c54e19273e0e49e099e0f5651bb210bb": {
     "model_module": "@jupyter-widgets/base",
     "model_module_version": "1.2.0",
     "model_name": "LayoutModel",
     "state": {
      "_model_module": "@jupyter-widgets/base",
      "_model_module_version": "1.2.0",
      "_model_name": "LayoutModel",
      "_view_count": null,
      "_view_module": "@jupyter-widgets/base",
      "_view_module_version": "1.2.0",
      "_view_name": "LayoutView",
      "align_content": null,
      "align_items": null,
      "align_self": null,
      "border": null,
      "bottom": null,
      "display": null,
      "flex": null,
      "flex_flow": null,
      "grid_area": null,
      "grid_auto_columns": null,
      "grid_auto_flow": null,
      "grid_auto_rows": null,
      "grid_column": null,
      "grid_gap": null,
      "grid_row": null,
      "grid_template_areas": null,
      "grid_template_columns": null,
      "grid_template_rows": null,
      "height": null,
      "justify_content": null,
      "justify_items": null,
      "left": null,
      "margin": null,
      "max_height": null,
      "max_width": null,
      "min_height": null,
      "min_width": null,
      "object_fit": null,
      "object_position": null,
      "order": null,
      "overflow": null,
      "overflow_x": null,
      "overflow_y": null,
      "padding": null,
      "right": null,
      "top": null,
      "visibility": null,
      "width": null
     }
    },
    "d095669f1b2442578d0d1f8d8aebc233": {
     "model_module": "@jupyter-widgets/controls",
     "model_module_version": "1.5.0",
     "model_name": "ProgressStyleModel",
     "state": {
      "_model_module": "@jupyter-widgets/controls",
      "_model_module_version": "1.5.0",
      "_model_name": "ProgressStyleModel",
      "_view_count": null,
      "_view_module": "@jupyter-widgets/base",
      "_view_module_version": "1.2.0",
      "_view_name": "StyleView",
      "bar_color": null,
      "description_width": ""
     }
    },
    "d2dade9ee99b48148185a021707c3db5": {
     "model_module": "@jupyter-widgets/controls",
     "model_module_version": "1.5.0",
     "model_name": "FloatProgressModel",
     "state": {
      "_dom_classes": [],
      "_model_module": "@jupyter-widgets/controls",
      "_model_module_version": "1.5.0",
      "_model_name": "FloatProgressModel",
      "_view_count": null,
      "_view_module": "@jupyter-widgets/controls",
      "_view_module_version": "1.5.0",
      "_view_name": "ProgressView",
      "bar_style": "success",
      "description": "",
      "description_tooltip": null,
      "layout": "IPY_MODEL_b4a9d3fb04fe4240948f03b46d539d4c",
      "max": 29,
      "min": 0,
      "orientation": "horizontal",
      "style": "IPY_MODEL_07ce1385b1f74ad385c96b092a8101cc",
      "value": 29
     }
    },
    "d56f2d84486b479296b949e17be5ed81": {
     "model_module": "@jupyter-widgets/base",
     "model_module_version": "1.2.0",
     "model_name": "LayoutModel",
     "state": {
      "_model_module": "@jupyter-widgets/base",
      "_model_module_version": "1.2.0",
      "_model_name": "LayoutModel",
      "_view_count": null,
      "_view_module": "@jupyter-widgets/base",
      "_view_module_version": "1.2.0",
      "_view_name": "LayoutView",
      "align_content": null,
      "align_items": null,
      "align_self": null,
      "border": null,
      "bottom": null,
      "display": null,
      "flex": null,
      "flex_flow": null,
      "grid_area": null,
      "grid_auto_columns": null,
      "grid_auto_flow": null,
      "grid_auto_rows": null,
      "grid_column": null,
      "grid_gap": null,
      "grid_row": null,
      "grid_template_areas": null,
      "grid_template_columns": null,
      "grid_template_rows": null,
      "height": null,
      "justify_content": null,
      "justify_items": null,
      "left": null,
      "margin": null,
      "max_height": null,
      "max_width": null,
      "min_height": null,
      "min_width": null,
      "object_fit": null,
      "object_position": null,
      "order": null,
      "overflow": null,
      "overflow_x": null,
      "overflow_y": null,
      "padding": null,
      "right": null,
      "top": null,
      "visibility": null,
      "width": null
     }
    },
    "e9c3eec2ec894aabb11bd0ee9d29fd6d": {
     "model_module": "@jupyter-widgets/controls",
     "model_module_version": "1.5.0",
     "model_name": "DescriptionStyleModel",
     "state": {
      "_model_module": "@jupyter-widgets/controls",
      "_model_module_version": "1.5.0",
      "_model_name": "DescriptionStyleModel",
      "_view_count": null,
      "_view_module": "@jupyter-widgets/base",
      "_view_module_version": "1.2.0",
      "_view_name": "StyleView",
      "description_width": ""
     }
    },
    "eb8f0c66b2f941449c00ddf0dd1971e1": {
     "model_module": "@jupyter-widgets/controls",
     "model_module_version": "1.5.0",
     "model_name": "HBoxModel",
     "state": {
      "_dom_classes": [],
      "_model_module": "@jupyter-widgets/controls",
      "_model_module_version": "1.5.0",
      "_model_name": "HBoxModel",
      "_view_count": null,
      "_view_module": "@jupyter-widgets/controls",
      "_view_module_version": "1.5.0",
      "_view_name": "HBoxView",
      "box_style": "",
      "children": [
       "IPY_MODEL_f2d4326c27494738802ff67201a9da83",
       "IPY_MODEL_354d938ecc1544248f8d74305c19f806",
       "IPY_MODEL_40904e8827594b58a479abb13e2568f3"
      ],
      "layout": "IPY_MODEL_bfca8adef88a447994d2fbb42c6876b0"
     }
    },
    "f2d4326c27494738802ff67201a9da83": {
     "model_module": "@jupyter-widgets/controls",
     "model_module_version": "1.5.0",
     "model_name": "HTMLModel",
     "state": {
      "_dom_classes": [],
      "_model_module": "@jupyter-widgets/controls",
      "_model_module_version": "1.5.0",
      "_model_name": "HTMLModel",
      "_view_count": null,
      "_view_module": "@jupyter-widgets/controls",
      "_view_module_version": "1.5.0",
      "_view_name": "HTMLView",
      "description": "",
      "description_tooltip": null,
      "layout": "IPY_MODEL_790eabe193a04a1b870c5b4a2f3d914d",
      "placeholder": "​",
      "style": "IPY_MODEL_aad007f4fe404db1a7b7413d183fc829",
      "value": "100%"
     }
    },
    "fec733c5e82c478e92296517acda6127": {
     "model_module": "@jupyter-widgets/controls",
     "model_module_version": "1.5.0",
     "model_name": "HTMLModel",
     "state": {
      "_dom_classes": [],
      "_model_module": "@jupyter-widgets/controls",
      "_model_module_version": "1.5.0",
      "_model_name": "HTMLModel",
      "_view_count": null,
      "_view_module": "@jupyter-widgets/controls",
      "_view_module_version": "1.5.0",
      "_view_name": "HTMLView",
      "description": "",
      "description_tooltip": null,
      "layout": "IPY_MODEL_7dd4b038901c4fddb9738babe585b0fe",
      "placeholder": "​",
      "style": "IPY_MODEL_b52a2f5bdec14762adfad655af88b8c8",
      "value": " 29/29 [00:08&lt;00:00,  3.74ba/s]"
     }
    }
   }
  }
 },
 "nbformat": 4,
 "nbformat_minor": 4
}
