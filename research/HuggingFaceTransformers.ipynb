{
 "cells": [
  {
   "cell_type": "markdown",
   "metadata": {
    "id": "ObJKkwrOdjPM"
   },
   "source": [
    "# PIP INSTALLATION (if needed)"
   ]
  },
  {
   "cell_type": "code",
   "execution_count": null,
   "metadata": {
    "colab": {
     "base_uri": "https://localhost:8080/"
    },
    "executionInfo": {
     "elapsed": 31419,
     "status": "ok",
     "timestamp": 1644382339294,
     "user": {
      "displayName": "Clyde",
      "photoUrl": "https://lh3.googleusercontent.com/a-/AOh14GjoLYXAGsV_YRhlDcFT578Eid_TYHtCYj4giy6Svw=s64",
      "userId": "17715859681118314357"
     },
     "user_tz": -480
    },
    "id": "O1-OsNxpdfUw",
    "outputId": "6046992d-d095-4d22-8ddd-b384091ed32c",
    "tags": []
   },
   "outputs": [],
   "source": [
    "!pip install transformers\n",
    "!pip install datasets"
   ]
  },
  {
   "cell_type": "code",
   "execution_count": 1,
   "metadata": {
    "colab": {
     "base_uri": "https://localhost:8080/"
    },
    "executionInfo": {
     "elapsed": 781,
     "status": "ok",
     "timestamp": 1644386302790,
     "user": {
      "displayName": "Clyde",
      "photoUrl": "https://lh3.googleusercontent.com/a-/AOh14GjoLYXAGsV_YRhlDcFT578Eid_TYHtCYj4giy6Svw=s64",
      "userId": "17715859681118314357"
     },
     "user_tz": -480
    },
    "id": "l5AEwpJPc-pK",
    "outputId": "1d982071-ccda-4601-d5c7-fdaa8eb98255"
   },
   "outputs": [
    {
     "name": "stdout",
     "output_type": "stream",
     "text": [
      "Fri Feb 18 20:04:36 2022       \n",
      "+-----------------------------------------------------------------------------+\n",
      "| NVIDIA-SMI 470.86       Driver Version: 470.86       CUDA Version: 11.4     |\n",
      "|-------------------------------+----------------------+----------------------+\n",
      "| GPU  Name        Persistence-M| Bus-Id        Disp.A | Volatile Uncorr. ECC |\n",
      "| Fan  Temp  Perf  Pwr:Usage/Cap|         Memory-Usage | GPU-Util  Compute M. |\n",
      "|                               |                      |               MIG M. |\n",
      "|===============================+======================+======================|\n",
      "|   0  NVIDIA GeForce ...  Off  | 00000000:01:00.0 Off |                  N/A |\n",
      "|  0%   48C    P8    19W / 200W |      5MiB /  7982MiB |      0%      Default |\n",
      "|                               |                      |                  N/A |\n",
      "+-------------------------------+----------------------+----------------------+\n",
      "                                                                               \n",
      "+-----------------------------------------------------------------------------+\n",
      "| Processes:                                                                  |\n",
      "|  GPU   GI   CI        PID   Type   Process name                  GPU Memory |\n",
      "|        ID   ID                                                   Usage      |\n",
      "|=============================================================================|\n",
      "|    0   N/A  N/A      1714      G   /usr/lib/xorg/Xorg                  4MiB |\n",
      "+-----------------------------------------------------------------------------+\n"
     ]
    }
   ],
   "source": [
    "!nvidia-smi"
   ]
  },
  {
   "cell_type": "code",
   "execution_count": null,
   "metadata": {
    "colab": {
     "base_uri": "https://localhost:8080/"
    },
    "executionInfo": {
     "elapsed": 490,
     "status": "ok",
     "timestamp": 1644386080266,
     "user": {
      "displayName": "Clyde",
      "photoUrl": "https://lh3.googleusercontent.com/a-/AOh14GjoLYXAGsV_YRhlDcFT578Eid_TYHtCYj4giy6Svw=s64",
      "userId": "17715859681118314357"
     },
     "user_tz": -480
    },
    "id": "a6aZ_xM_BOJS",
    "outputId": "ad5d9a66-d1d9-4838-e514-d26be9c7fb5a"
   },
   "outputs": [],
   "source": [
    "!export CUDA_VISIBLE_DEVICES=0\n",
    "!echo $CUDA_VISIBLE_DEVICES"
   ]
  },
  {
   "cell_type": "markdown",
   "metadata": {
    "id": "ErVKZvFRBWLe"
   },
   "source": [
    "Remember to restart the runtime after pip install to ensure that the packages will correctly import"
   ]
  },
  {
   "cell_type": "markdown",
   "metadata": {
    "id": "btfyCH1wFq_X"
   },
   "source": [
    "# Imports"
   ]
  },
  {
   "cell_type": "code",
   "execution_count": 26,
   "metadata": {
    "executionInfo": {
     "elapsed": 9235,
     "status": "ok",
     "timestamp": 1644385958726,
     "user": {
      "displayName": "Clyde",
      "photoUrl": "https://lh3.googleusercontent.com/a-/AOh14GjoLYXAGsV_YRhlDcFT578Eid_TYHtCYj4giy6Svw=s64",
      "userId": "17715859681118314357"
     },
     "user_tz": -480
    },
    "id": "2o329k268xlN"
   },
   "outputs": [],
   "source": [
    "from transformers import pipeline\n",
    "from transformers import AutoTokenizer\n",
    "from transformers import DataCollatorWithPadding\n",
    "from transformers import AutoModelForSequenceClassification, TrainingArguments, Trainer\n",
    "from transformers import PreTrainedModel\n",
    "from transformers.pipelines.pt_utils import KeyDataset\n",
    "\n",
    "from tqdm.auto import tqdm\n",
    "\n",
    "from datasets import Dataset, DatasetDict, load_dataset\n",
    "from datasets import load_metric\n",
    "\n",
    "from sklearn.model_selection import train_test_split\n",
    "from sklearn.metrics import cohen_kappa_score\n",
    "\n",
    "import pandas as pd\n",
    "import numpy as np\n",
    "import logging\n",
    "from glob import glob\n",
    "from os import path\n",
    "\n",
    "from IPython.display import HTML, display\n",
    "\n",
    "import torch"
   ]
  },
  {
   "cell_type": "code",
   "execution_count": 4,
   "metadata": {
    "colab": {
     "base_uri": "https://localhost:8080/"
    },
    "executionInfo": {
     "elapsed": 872,
     "status": "ok",
     "timestamp": 1644386513111,
     "user": {
      "displayName": "Clyde",
      "photoUrl": "https://lh3.googleusercontent.com/a-/AOh14GjoLYXAGsV_YRhlDcFT578Eid_TYHtCYj4giy6Svw=s64",
      "userId": "17715859681118314357"
     },
     "user_tz": -480
    },
    "id": "UtGdQi_h_hBq",
    "outputId": "21f25b69-7ff5-4ac2-ba93-9825c06cc643"
   },
   "outputs": [
    {
     "data": {
      "text/plain": [
       "device(type='cuda', index=0)"
      ]
     },
     "execution_count": 4,
     "metadata": {},
     "output_type": "execute_result"
    }
   ],
   "source": [
    "device = \"cuda:0\" if torch.cuda.is_available() else \"cpu\"\n",
    "device = torch.device(device)\n",
    "device"
   ]
  },
  {
   "cell_type": "markdown",
   "metadata": {
    "id": "XPEh7OCJLpq8",
    "tags": []
   },
   "source": [
    "# Preprocessing Dataset"
   ]
  },
  {
   "cell_type": "code",
   "execution_count": 10,
   "metadata": {
    "colab": {
     "base_uri": "https://localhost:8080/",
     "height": 832
    },
    "executionInfo": {
     "elapsed": 1289,
     "status": "ok",
     "timestamp": 1644386092655,
     "user": {
      "displayName": "Clyde",
      "photoUrl": "https://lh3.googleusercontent.com/a-/AOh14GjoLYXAGsV_YRhlDcFT578Eid_TYHtCYj4giy6Svw=s64",
      "userId": "17715859681118314357"
     },
     "user_tz": -480
    },
    "id": "rM-Q5mDC5GuX",
    "outputId": "68b3ca52-9466-4e2b-f9b1-f04da4fbbf56"
   },
   "outputs": [
    {
     "data": {
      "text/html": [
       "<div>\n",
       "<style scoped>\n",
       "    .dataframe tbody tr th:only-of-type {\n",
       "        vertical-align: middle;\n",
       "    }\n",
       "\n",
       "    .dataframe tbody tr th {\n",
       "        vertical-align: top;\n",
       "    }\n",
       "\n",
       "    .dataframe thead th {\n",
       "        text-align: right;\n",
       "    }\n",
       "</style>\n",
       "<table border=\"1\" class=\"dataframe\">\n",
       "  <thead>\n",
       "    <tr style=\"text-align: right;\">\n",
       "      <th></th>\n",
       "      <th>id</th>\n",
       "      <th>discourse_id</th>\n",
       "      <th>discourse_start</th>\n",
       "      <th>discourse_end</th>\n",
       "      <th>discourse_text</th>\n",
       "      <th>discourse_type</th>\n",
       "      <th>discourse_type_num</th>\n",
       "      <th>predictionstring</th>\n",
       "    </tr>\n",
       "  </thead>\n",
       "  <tbody>\n",
       "    <tr>\n",
       "      <th>0</th>\n",
       "      <td>423A1CA112E2</td>\n",
       "      <td>1.622628e+12</td>\n",
       "      <td>8.0</td>\n",
       "      <td>229.0</td>\n",
       "      <td>Modern humans today are always on their phone....</td>\n",
       "      <td>Lead</td>\n",
       "      <td>Lead 1</td>\n",
       "      <td>1 2 3 4 5 6 7 8 9 10 11 12 13 14 15 16 17 18 1...</td>\n",
       "    </tr>\n",
       "    <tr>\n",
       "      <th>1</th>\n",
       "      <td>423A1CA112E2</td>\n",
       "      <td>1.622628e+12</td>\n",
       "      <td>230.0</td>\n",
       "      <td>312.0</td>\n",
       "      <td>They are some really bad consequences when stu...</td>\n",
       "      <td>Position</td>\n",
       "      <td>Position 1</td>\n",
       "      <td>45 46 47 48 49 50 51 52 53 54 55 56 57 58 59</td>\n",
       "    </tr>\n",
       "    <tr>\n",
       "      <th>2</th>\n",
       "      <td>423A1CA112E2</td>\n",
       "      <td>1.622628e+12</td>\n",
       "      <td>313.0</td>\n",
       "      <td>401.0</td>\n",
       "      <td>Some certain areas in the United States ban ph...</td>\n",
       "      <td>Evidence</td>\n",
       "      <td>Evidence 1</td>\n",
       "      <td>60 61 62 63 64 65 66 67 68 69 70 71 72 73 74 75</td>\n",
       "    </tr>\n",
       "    <tr>\n",
       "      <th>3</th>\n",
       "      <td>423A1CA112E2</td>\n",
       "      <td>1.622628e+12</td>\n",
       "      <td>402.0</td>\n",
       "      <td>758.0</td>\n",
       "      <td>When people have phones, they know about certa...</td>\n",
       "      <td>Evidence</td>\n",
       "      <td>Evidence 2</td>\n",
       "      <td>76 77 78 79 80 81 82 83 84 85 86 87 88 89 90 9...</td>\n",
       "    </tr>\n",
       "    <tr>\n",
       "      <th>4</th>\n",
       "      <td>423A1CA112E2</td>\n",
       "      <td>1.622628e+12</td>\n",
       "      <td>759.0</td>\n",
       "      <td>886.0</td>\n",
       "      <td>Driving is one of the way how to get around. P...</td>\n",
       "      <td>Claim</td>\n",
       "      <td>Claim 1</td>\n",
       "      <td>139 140 141 142 143 144 145 146 147 148 149 15...</td>\n",
       "    </tr>\n",
       "    <tr>\n",
       "      <th>...</th>\n",
       "      <td>...</td>\n",
       "      <td>...</td>\n",
       "      <td>...</td>\n",
       "      <td>...</td>\n",
       "      <td>...</td>\n",
       "      <td>...</td>\n",
       "      <td>...</td>\n",
       "      <td>...</td>\n",
       "    </tr>\n",
       "    <tr>\n",
       "      <th>144288</th>\n",
       "      <td>4C471936CD75</td>\n",
       "      <td>1.618153e+12</td>\n",
       "      <td>2234.0</td>\n",
       "      <td>3203.0</td>\n",
       "      <td>if I'm not sure what college I want to attend...</td>\n",
       "      <td>Evidence</td>\n",
       "      <td>Evidence 2</td>\n",
       "      <td>386 387 388 389 390 391 392 393 394 395 396 39...</td>\n",
       "    </tr>\n",
       "    <tr>\n",
       "      <th>144289</th>\n",
       "      <td>4C471936CD75</td>\n",
       "      <td>1.618153e+12</td>\n",
       "      <td>3221.0</td>\n",
       "      <td>4509.0</td>\n",
       "      <td>seeking multiple opinions before making a har...</td>\n",
       "      <td>Evidence</td>\n",
       "      <td>Evidence 3</td>\n",
       "      <td>576 577 578 579 580 581 582 583 584 585 586 58...</td>\n",
       "    </tr>\n",
       "    <tr>\n",
       "      <th>144290</th>\n",
       "      <td>4C471936CD75</td>\n",
       "      <td>1.618025e+12</td>\n",
       "      <td>4510.0</td>\n",
       "      <td>4570.0</td>\n",
       "      <td>it is better to seekÂ multiple opinions instea...</td>\n",
       "      <td>Position</td>\n",
       "      <td>Position 1</td>\n",
       "      <td>828 829 830 831 832 833 834 835 836 837 838</td>\n",
       "    </tr>\n",
       "    <tr>\n",
       "      <th>144291</th>\n",
       "      <td>4C471936CD75</td>\n",
       "      <td>1.618025e+12</td>\n",
       "      <td>4570.0</td>\n",
       "      <td>4922.0</td>\n",
       "      <td>The impact of asking people to helpÂ you make ...</td>\n",
       "      <td>Evidence</td>\n",
       "      <td>Evidence 4</td>\n",
       "      <td>839 840 841 842 843 844 845 846 847 848 849 85...</td>\n",
       "    </tr>\n",
       "    <tr>\n",
       "      <th>144292</th>\n",
       "      <td>4C471936CD75</td>\n",
       "      <td>1.618025e+12</td>\n",
       "      <td>4935.0</td>\n",
       "      <td>5825.0</td>\n",
       "      <td>there are many other reasons one might want to...</td>\n",
       "      <td>Concluding Statement</td>\n",
       "      <td>Concluding Statement 1</td>\n",
       "      <td>905 906 907 908 909 910 911 912 913 914 915 91...</td>\n",
       "    </tr>\n",
       "  </tbody>\n",
       "</table>\n",
       "<p>144293 rows × 8 columns</p>\n",
       "</div>"
      ],
      "text/plain": [
       "                  id  discourse_id  discourse_start  discourse_end  \\\n",
       "0       423A1CA112E2  1.622628e+12              8.0          229.0   \n",
       "1       423A1CA112E2  1.622628e+12            230.0          312.0   \n",
       "2       423A1CA112E2  1.622628e+12            313.0          401.0   \n",
       "3       423A1CA112E2  1.622628e+12            402.0          758.0   \n",
       "4       423A1CA112E2  1.622628e+12            759.0          886.0   \n",
       "...              ...           ...              ...            ...   \n",
       "144288  4C471936CD75  1.618153e+12           2234.0         3203.0   \n",
       "144289  4C471936CD75  1.618153e+12           3221.0         4509.0   \n",
       "144290  4C471936CD75  1.618025e+12           4510.0         4570.0   \n",
       "144291  4C471936CD75  1.618025e+12           4570.0         4922.0   \n",
       "144292  4C471936CD75  1.618025e+12           4935.0         5825.0   \n",
       "\n",
       "                                           discourse_text  \\\n",
       "0       Modern humans today are always on their phone....   \n",
       "1       They are some really bad consequences when stu...   \n",
       "2       Some certain areas in the United States ban ph...   \n",
       "3       When people have phones, they know about certa...   \n",
       "4       Driving is one of the way how to get around. P...   \n",
       "...                                                   ...   \n",
       "144288   if I'm not sure what college I want to attend...   \n",
       "144289   seeking multiple opinions before making a har...   \n",
       "144290  it is better to seekÂ multiple opinions instea...   \n",
       "144291  The impact of asking people to helpÂ you make ...   \n",
       "144292  there are many other reasons one might want to...   \n",
       "\n",
       "              discourse_type      discourse_type_num  \\\n",
       "0                       Lead                  Lead 1   \n",
       "1                   Position              Position 1   \n",
       "2                   Evidence              Evidence 1   \n",
       "3                   Evidence              Evidence 2   \n",
       "4                      Claim                 Claim 1   \n",
       "...                      ...                     ...   \n",
       "144288              Evidence              Evidence 2   \n",
       "144289              Evidence              Evidence 3   \n",
       "144290              Position              Position 1   \n",
       "144291              Evidence              Evidence 4   \n",
       "144292  Concluding Statement  Concluding Statement 1   \n",
       "\n",
       "                                         predictionstring  \n",
       "0       1 2 3 4 5 6 7 8 9 10 11 12 13 14 15 16 17 18 1...  \n",
       "1            45 46 47 48 49 50 51 52 53 54 55 56 57 58 59  \n",
       "2         60 61 62 63 64 65 66 67 68 69 70 71 72 73 74 75  \n",
       "3       76 77 78 79 80 81 82 83 84 85 86 87 88 89 90 9...  \n",
       "4       139 140 141 142 143 144 145 146 147 148 149 15...  \n",
       "...                                                   ...  \n",
       "144288  386 387 388 389 390 391 392 393 394 395 396 39...  \n",
       "144289  576 577 578 579 580 581 582 583 584 585 586 58...  \n",
       "144290        828 829 830 831 832 833 834 835 836 837 838  \n",
       "144291  839 840 841 842 843 844 845 846 847 848 849 85...  \n",
       "144292  905 906 907 908 909 910 911 912 913 914 915 91...  \n",
       "\n",
       "[144293 rows x 8 columns]"
      ]
     },
     "execution_count": 10,
     "metadata": {},
     "output_type": "execute_result"
    }
   ],
   "source": [
    "dataset_path = r\"data/feedback_prize/train.csv\"\n",
    "df = pd.read_csv(dataset_path, header=0, encoding= 'unicode_escape')\n",
    "df"
   ]
  },
  {
   "cell_type": "code",
   "execution_count": 11,
   "metadata": {
    "colab": {
     "base_uri": "https://localhost:8080/",
     "height": 812
    },
    "executionInfo": {
     "elapsed": 508,
     "status": "ok",
     "timestamp": 1644386093161,
     "user": {
      "displayName": "Clyde",
      "photoUrl": "https://lh3.googleusercontent.com/a-/AOh14GjoLYXAGsV_YRhlDcFT578Eid_TYHtCYj4giy6Svw=s64",
      "userId": "17715859681118314357"
     },
     "user_tz": -480
    },
    "id": "lhoDiXsw4Mfz",
    "outputId": "2eacb722-5e0b-4d7a-f08d-2220f02ca301"
   },
   "outputs": [
    {
     "data": {
      "text/html": [
       "<div>\n",
       "<style scoped>\n",
       "    .dataframe tbody tr th:only-of-type {\n",
       "        vertical-align: middle;\n",
       "    }\n",
       "\n",
       "    .dataframe tbody tr th {\n",
       "        vertical-align: top;\n",
       "    }\n",
       "\n",
       "    .dataframe thead th {\n",
       "        text-align: right;\n",
       "    }\n",
       "</style>\n",
       "<table border=\"1\" class=\"dataframe\">\n",
       "  <thead>\n",
       "    <tr style=\"text-align: right;\">\n",
       "      <th></th>\n",
       "      <th>discourse_id</th>\n",
       "      <th>discourse_start</th>\n",
       "      <th>discourse_end</th>\n",
       "      <th>text</th>\n",
       "      <th>discourse_type</th>\n",
       "      <th>discourse_type_num</th>\n",
       "      <th>predictionstring</th>\n",
       "    </tr>\n",
       "    <tr>\n",
       "      <th>id</th>\n",
       "      <th></th>\n",
       "      <th></th>\n",
       "      <th></th>\n",
       "      <th></th>\n",
       "      <th></th>\n",
       "      <th></th>\n",
       "      <th></th>\n",
       "    </tr>\n",
       "  </thead>\n",
       "  <tbody>\n",
       "    <tr>\n",
       "      <th>423A1CA112E2</th>\n",
       "      <td>1.622628e+12</td>\n",
       "      <td>8.0</td>\n",
       "      <td>229.0</td>\n",
       "      <td>Modern humans today are always on their phone....</td>\n",
       "      <td>Lead</td>\n",
       "      <td>Lead 1</td>\n",
       "      <td>1 2 3 4 5 6 7 8 9 10 11 12 13 14 15 16 17 18 1...</td>\n",
       "    </tr>\n",
       "    <tr>\n",
       "      <th>423A1CA112E2</th>\n",
       "      <td>1.622628e+12</td>\n",
       "      <td>230.0</td>\n",
       "      <td>312.0</td>\n",
       "      <td>They are some really bad consequences when stu...</td>\n",
       "      <td>Position</td>\n",
       "      <td>Position 1</td>\n",
       "      <td>45 46 47 48 49 50 51 52 53 54 55 56 57 58 59</td>\n",
       "    </tr>\n",
       "    <tr>\n",
       "      <th>423A1CA112E2</th>\n",
       "      <td>1.622628e+12</td>\n",
       "      <td>313.0</td>\n",
       "      <td>401.0</td>\n",
       "      <td>Some certain areas in the United States ban ph...</td>\n",
       "      <td>Evidence</td>\n",
       "      <td>Evidence 1</td>\n",
       "      <td>60 61 62 63 64 65 66 67 68 69 70 71 72 73 74 75</td>\n",
       "    </tr>\n",
       "    <tr>\n",
       "      <th>423A1CA112E2</th>\n",
       "      <td>1.622628e+12</td>\n",
       "      <td>402.0</td>\n",
       "      <td>758.0</td>\n",
       "      <td>When people have phones, they know about certa...</td>\n",
       "      <td>Evidence</td>\n",
       "      <td>Evidence 2</td>\n",
       "      <td>76 77 78 79 80 81 82 83 84 85 86 87 88 89 90 9...</td>\n",
       "    </tr>\n",
       "    <tr>\n",
       "      <th>423A1CA112E2</th>\n",
       "      <td>1.622628e+12</td>\n",
       "      <td>759.0</td>\n",
       "      <td>886.0</td>\n",
       "      <td>Driving is one of the way how to get around. P...</td>\n",
       "      <td>Claim</td>\n",
       "      <td>Claim 1</td>\n",
       "      <td>139 140 141 142 143 144 145 146 147 148 149 15...</td>\n",
       "    </tr>\n",
       "    <tr>\n",
       "      <th>...</th>\n",
       "      <td>...</td>\n",
       "      <td>...</td>\n",
       "      <td>...</td>\n",
       "      <td>...</td>\n",
       "      <td>...</td>\n",
       "      <td>...</td>\n",
       "      <td>...</td>\n",
       "    </tr>\n",
       "    <tr>\n",
       "      <th>4C471936CD75</th>\n",
       "      <td>1.618153e+12</td>\n",
       "      <td>2234.0</td>\n",
       "      <td>3203.0</td>\n",
       "      <td>if I'm not sure what college I want to attend...</td>\n",
       "      <td>Evidence</td>\n",
       "      <td>Evidence 2</td>\n",
       "      <td>386 387 388 389 390 391 392 393 394 395 396 39...</td>\n",
       "    </tr>\n",
       "    <tr>\n",
       "      <th>4C471936CD75</th>\n",
       "      <td>1.618153e+12</td>\n",
       "      <td>3221.0</td>\n",
       "      <td>4509.0</td>\n",
       "      <td>seeking multiple opinions before making a har...</td>\n",
       "      <td>Evidence</td>\n",
       "      <td>Evidence 3</td>\n",
       "      <td>576 577 578 579 580 581 582 583 584 585 586 58...</td>\n",
       "    </tr>\n",
       "    <tr>\n",
       "      <th>4C471936CD75</th>\n",
       "      <td>1.618025e+12</td>\n",
       "      <td>4510.0</td>\n",
       "      <td>4570.0</td>\n",
       "      <td>it is better to seekÂ multiple opinions instea...</td>\n",
       "      <td>Position</td>\n",
       "      <td>Position 1</td>\n",
       "      <td>828 829 830 831 832 833 834 835 836 837 838</td>\n",
       "    </tr>\n",
       "    <tr>\n",
       "      <th>4C471936CD75</th>\n",
       "      <td>1.618025e+12</td>\n",
       "      <td>4570.0</td>\n",
       "      <td>4922.0</td>\n",
       "      <td>The impact of asking people to helpÂ you make ...</td>\n",
       "      <td>Evidence</td>\n",
       "      <td>Evidence 4</td>\n",
       "      <td>839 840 841 842 843 844 845 846 847 848 849 85...</td>\n",
       "    </tr>\n",
       "    <tr>\n",
       "      <th>4C471936CD75</th>\n",
       "      <td>1.618025e+12</td>\n",
       "      <td>4935.0</td>\n",
       "      <td>5825.0</td>\n",
       "      <td>there are many other reasons one might want to...</td>\n",
       "      <td>Concluding Statement</td>\n",
       "      <td>Concluding Statement 1</td>\n",
       "      <td>905 906 907 908 909 910 911 912 913 914 915 91...</td>\n",
       "    </tr>\n",
       "  </tbody>\n",
       "</table>\n",
       "<p>144293 rows × 7 columns</p>\n",
       "</div>"
      ],
      "text/plain": [
       "              discourse_id  discourse_start  discourse_end  \\\n",
       "id                                                           \n",
       "423A1CA112E2  1.622628e+12              8.0          229.0   \n",
       "423A1CA112E2  1.622628e+12            230.0          312.0   \n",
       "423A1CA112E2  1.622628e+12            313.0          401.0   \n",
       "423A1CA112E2  1.622628e+12            402.0          758.0   \n",
       "423A1CA112E2  1.622628e+12            759.0          886.0   \n",
       "...                    ...              ...            ...   \n",
       "4C471936CD75  1.618153e+12           2234.0         3203.0   \n",
       "4C471936CD75  1.618153e+12           3221.0         4509.0   \n",
       "4C471936CD75  1.618025e+12           4510.0         4570.0   \n",
       "4C471936CD75  1.618025e+12           4570.0         4922.0   \n",
       "4C471936CD75  1.618025e+12           4935.0         5825.0   \n",
       "\n",
       "                                                           text  \\\n",
       "id                                                                \n",
       "423A1CA112E2  Modern humans today are always on their phone....   \n",
       "423A1CA112E2  They are some really bad consequences when stu...   \n",
       "423A1CA112E2  Some certain areas in the United States ban ph...   \n",
       "423A1CA112E2  When people have phones, they know about certa...   \n",
       "423A1CA112E2  Driving is one of the way how to get around. P...   \n",
       "...                                                         ...   \n",
       "4C471936CD75   if I'm not sure what college I want to attend...   \n",
       "4C471936CD75   seeking multiple opinions before making a har...   \n",
       "4C471936CD75  it is better to seekÂ multiple opinions instea...   \n",
       "4C471936CD75  The impact of asking people to helpÂ you make ...   \n",
       "4C471936CD75  there are many other reasons one might want to...   \n",
       "\n",
       "                    discourse_type      discourse_type_num  \\\n",
       "id                                                           \n",
       "423A1CA112E2                  Lead                  Lead 1   \n",
       "423A1CA112E2              Position              Position 1   \n",
       "423A1CA112E2              Evidence              Evidence 1   \n",
       "423A1CA112E2              Evidence              Evidence 2   \n",
       "423A1CA112E2                 Claim                 Claim 1   \n",
       "...                            ...                     ...   \n",
       "4C471936CD75              Evidence              Evidence 2   \n",
       "4C471936CD75              Evidence              Evidence 3   \n",
       "4C471936CD75              Position              Position 1   \n",
       "4C471936CD75              Evidence              Evidence 4   \n",
       "4C471936CD75  Concluding Statement  Concluding Statement 1   \n",
       "\n",
       "                                               predictionstring  \n",
       "id                                                               \n",
       "423A1CA112E2  1 2 3 4 5 6 7 8 9 10 11 12 13 14 15 16 17 18 1...  \n",
       "423A1CA112E2       45 46 47 48 49 50 51 52 53 54 55 56 57 58 59  \n",
       "423A1CA112E2    60 61 62 63 64 65 66 67 68 69 70 71 72 73 74 75  \n",
       "423A1CA112E2  76 77 78 79 80 81 82 83 84 85 86 87 88 89 90 9...  \n",
       "423A1CA112E2  139 140 141 142 143 144 145 146 147 148 149 15...  \n",
       "...                                                         ...  \n",
       "4C471936CD75  386 387 388 389 390 391 392 393 394 395 396 39...  \n",
       "4C471936CD75  576 577 578 579 580 581 582 583 584 585 586 58...  \n",
       "4C471936CD75        828 829 830 831 832 833 834 835 836 837 838  \n",
       "4C471936CD75  839 840 841 842 843 844 845 846 847 848 849 85...  \n",
       "4C471936CD75  905 906 907 908 909 910 911 912 913 914 915 91...  \n",
       "\n",
       "[144293 rows x 7 columns]"
      ]
     },
     "execution_count": 11,
     "metadata": {},
     "output_type": "execute_result"
    }
   ],
   "source": [
    "df = df.set_index(\"id\")\n",
    "df = df.rename(columns={\"discourse_text\": \"text\"})\n",
    "df"
   ]
  },
  {
   "cell_type": "code",
   "execution_count": 12,
   "metadata": {},
   "outputs": [
    {
     "data": {
      "text/html": [
       "<div>\n",
       "<style scoped>\n",
       "    .dataframe tbody tr th:only-of-type {\n",
       "        vertical-align: middle;\n",
       "    }\n",
       "\n",
       "    .dataframe tbody tr th {\n",
       "        vertical-align: top;\n",
       "    }\n",
       "\n",
       "    .dataframe thead th {\n",
       "        text-align: right;\n",
       "    }\n",
       "</style>\n",
       "<table border=\"1\" class=\"dataframe\">\n",
       "  <thead>\n",
       "    <tr style=\"text-align: right;\">\n",
       "      <th></th>\n",
       "      <th>discourse_id</th>\n",
       "      <th>discourse_start</th>\n",
       "      <th>discourse_end</th>\n",
       "      <th>text</th>\n",
       "      <th>discourse_type</th>\n",
       "      <th>discourse_type_num</th>\n",
       "      <th>predictionstring</th>\n",
       "      <th>label</th>\n",
       "    </tr>\n",
       "    <tr>\n",
       "      <th>id</th>\n",
       "      <th></th>\n",
       "      <th></th>\n",
       "      <th></th>\n",
       "      <th></th>\n",
       "      <th></th>\n",
       "      <th></th>\n",
       "      <th></th>\n",
       "      <th></th>\n",
       "    </tr>\n",
       "  </thead>\n",
       "  <tbody>\n",
       "    <tr>\n",
       "      <th>423A1CA112E2</th>\n",
       "      <td>1.622628e+12</td>\n",
       "      <td>8.0</td>\n",
       "      <td>229.0</td>\n",
       "      <td>Modern humans today are always on their phone....</td>\n",
       "      <td>Lead</td>\n",
       "      <td>Lead 1</td>\n",
       "      <td>1 2 3 4 5 6 7 8 9 10 11 12 13 14 15 16 17 18 1...</td>\n",
       "      <td>4</td>\n",
       "    </tr>\n",
       "    <tr>\n",
       "      <th>423A1CA112E2</th>\n",
       "      <td>1.622628e+12</td>\n",
       "      <td>230.0</td>\n",
       "      <td>312.0</td>\n",
       "      <td>They are some really bad consequences when stu...</td>\n",
       "      <td>Position</td>\n",
       "      <td>Position 1</td>\n",
       "      <td>45 46 47 48 49 50 51 52 53 54 55 56 57 58 59</td>\n",
       "      <td>5</td>\n",
       "    </tr>\n",
       "    <tr>\n",
       "      <th>423A1CA112E2</th>\n",
       "      <td>1.622628e+12</td>\n",
       "      <td>313.0</td>\n",
       "      <td>401.0</td>\n",
       "      <td>Some certain areas in the United States ban ph...</td>\n",
       "      <td>Evidence</td>\n",
       "      <td>Evidence 1</td>\n",
       "      <td>60 61 62 63 64 65 66 67 68 69 70 71 72 73 74 75</td>\n",
       "      <td>3</td>\n",
       "    </tr>\n",
       "    <tr>\n",
       "      <th>423A1CA112E2</th>\n",
       "      <td>1.622628e+12</td>\n",
       "      <td>402.0</td>\n",
       "      <td>758.0</td>\n",
       "      <td>When people have phones, they know about certa...</td>\n",
       "      <td>Evidence</td>\n",
       "      <td>Evidence 2</td>\n",
       "      <td>76 77 78 79 80 81 82 83 84 85 86 87 88 89 90 9...</td>\n",
       "      <td>3</td>\n",
       "    </tr>\n",
       "    <tr>\n",
       "      <th>423A1CA112E2</th>\n",
       "      <td>1.622628e+12</td>\n",
       "      <td>759.0</td>\n",
       "      <td>886.0</td>\n",
       "      <td>Driving is one of the way how to get around. P...</td>\n",
       "      <td>Claim</td>\n",
       "      <td>Claim 1</td>\n",
       "      <td>139 140 141 142 143 144 145 146 147 148 149 15...</td>\n",
       "      <td>0</td>\n",
       "    </tr>\n",
       "    <tr>\n",
       "      <th>...</th>\n",
       "      <td>...</td>\n",
       "      <td>...</td>\n",
       "      <td>...</td>\n",
       "      <td>...</td>\n",
       "      <td>...</td>\n",
       "      <td>...</td>\n",
       "      <td>...</td>\n",
       "      <td>...</td>\n",
       "    </tr>\n",
       "    <tr>\n",
       "      <th>4C471936CD75</th>\n",
       "      <td>1.618153e+12</td>\n",
       "      <td>2234.0</td>\n",
       "      <td>3203.0</td>\n",
       "      <td>if I'm not sure what college I want to attend...</td>\n",
       "      <td>Evidence</td>\n",
       "      <td>Evidence 2</td>\n",
       "      <td>386 387 388 389 390 391 392 393 394 395 396 39...</td>\n",
       "      <td>3</td>\n",
       "    </tr>\n",
       "    <tr>\n",
       "      <th>4C471936CD75</th>\n",
       "      <td>1.618153e+12</td>\n",
       "      <td>3221.0</td>\n",
       "      <td>4509.0</td>\n",
       "      <td>seeking multiple opinions before making a har...</td>\n",
       "      <td>Evidence</td>\n",
       "      <td>Evidence 3</td>\n",
       "      <td>576 577 578 579 580 581 582 583 584 585 586 58...</td>\n",
       "      <td>3</td>\n",
       "    </tr>\n",
       "    <tr>\n",
       "      <th>4C471936CD75</th>\n",
       "      <td>1.618025e+12</td>\n",
       "      <td>4510.0</td>\n",
       "      <td>4570.0</td>\n",
       "      <td>it is better to seekÂ multiple opinions instea...</td>\n",
       "      <td>Position</td>\n",
       "      <td>Position 1</td>\n",
       "      <td>828 829 830 831 832 833 834 835 836 837 838</td>\n",
       "      <td>5</td>\n",
       "    </tr>\n",
       "    <tr>\n",
       "      <th>4C471936CD75</th>\n",
       "      <td>1.618025e+12</td>\n",
       "      <td>4570.0</td>\n",
       "      <td>4922.0</td>\n",
       "      <td>The impact of asking people to helpÂ you make ...</td>\n",
       "      <td>Evidence</td>\n",
       "      <td>Evidence 4</td>\n",
       "      <td>839 840 841 842 843 844 845 846 847 848 849 85...</td>\n",
       "      <td>3</td>\n",
       "    </tr>\n",
       "    <tr>\n",
       "      <th>4C471936CD75</th>\n",
       "      <td>1.618025e+12</td>\n",
       "      <td>4935.0</td>\n",
       "      <td>5825.0</td>\n",
       "      <td>there are many other reasons one might want to...</td>\n",
       "      <td>Concluding Statement</td>\n",
       "      <td>Concluding Statement 1</td>\n",
       "      <td>905 906 907 908 909 910 911 912 913 914 915 91...</td>\n",
       "      <td>1</td>\n",
       "    </tr>\n",
       "  </tbody>\n",
       "</table>\n",
       "<p>144293 rows × 8 columns</p>\n",
       "</div>"
      ],
      "text/plain": [
       "              discourse_id  discourse_start  discourse_end  \\\n",
       "id                                                           \n",
       "423A1CA112E2  1.622628e+12              8.0          229.0   \n",
       "423A1CA112E2  1.622628e+12            230.0          312.0   \n",
       "423A1CA112E2  1.622628e+12            313.0          401.0   \n",
       "423A1CA112E2  1.622628e+12            402.0          758.0   \n",
       "423A1CA112E2  1.622628e+12            759.0          886.0   \n",
       "...                    ...              ...            ...   \n",
       "4C471936CD75  1.618153e+12           2234.0         3203.0   \n",
       "4C471936CD75  1.618153e+12           3221.0         4509.0   \n",
       "4C471936CD75  1.618025e+12           4510.0         4570.0   \n",
       "4C471936CD75  1.618025e+12           4570.0         4922.0   \n",
       "4C471936CD75  1.618025e+12           4935.0         5825.0   \n",
       "\n",
       "                                                           text  \\\n",
       "id                                                                \n",
       "423A1CA112E2  Modern humans today are always on their phone....   \n",
       "423A1CA112E2  They are some really bad consequences when stu...   \n",
       "423A1CA112E2  Some certain areas in the United States ban ph...   \n",
       "423A1CA112E2  When people have phones, they know about certa...   \n",
       "423A1CA112E2  Driving is one of the way how to get around. P...   \n",
       "...                                                         ...   \n",
       "4C471936CD75   if I'm not sure what college I want to attend...   \n",
       "4C471936CD75   seeking multiple opinions before making a har...   \n",
       "4C471936CD75  it is better to seekÂ multiple opinions instea...   \n",
       "4C471936CD75  The impact of asking people to helpÂ you make ...   \n",
       "4C471936CD75  there are many other reasons one might want to...   \n",
       "\n",
       "                    discourse_type      discourse_type_num  \\\n",
       "id                                                           \n",
       "423A1CA112E2                  Lead                  Lead 1   \n",
       "423A1CA112E2              Position              Position 1   \n",
       "423A1CA112E2              Evidence              Evidence 1   \n",
       "423A1CA112E2              Evidence              Evidence 2   \n",
       "423A1CA112E2                 Claim                 Claim 1   \n",
       "...                            ...                     ...   \n",
       "4C471936CD75              Evidence              Evidence 2   \n",
       "4C471936CD75              Evidence              Evidence 3   \n",
       "4C471936CD75              Position              Position 1   \n",
       "4C471936CD75              Evidence              Evidence 4   \n",
       "4C471936CD75  Concluding Statement  Concluding Statement 1   \n",
       "\n",
       "                                               predictionstring  label  \n",
       "id                                                                      \n",
       "423A1CA112E2  1 2 3 4 5 6 7 8 9 10 11 12 13 14 15 16 17 18 1...      4  \n",
       "423A1CA112E2       45 46 47 48 49 50 51 52 53 54 55 56 57 58 59      5  \n",
       "423A1CA112E2    60 61 62 63 64 65 66 67 68 69 70 71 72 73 74 75      3  \n",
       "423A1CA112E2  76 77 78 79 80 81 82 83 84 85 86 87 88 89 90 9...      3  \n",
       "423A1CA112E2  139 140 141 142 143 144 145 146 147 148 149 15...      0  \n",
       "...                                                         ...    ...  \n",
       "4C471936CD75  386 387 388 389 390 391 392 393 394 395 396 39...      3  \n",
       "4C471936CD75  576 577 578 579 580 581 582 583 584 585 586 58...      3  \n",
       "4C471936CD75        828 829 830 831 832 833 834 835 836 837 838      5  \n",
       "4C471936CD75  839 840 841 842 843 844 845 846 847 848 849 85...      3  \n",
       "4C471936CD75  905 906 907 908 909 910 911 912 913 914 915 91...      1  \n",
       "\n",
       "[144293 rows x 8 columns]"
      ]
     },
     "execution_count": 12,
     "metadata": {},
     "output_type": "execute_result"
    }
   ],
   "source": [
    "df[\"discourse_type\"] = pd.Categorical(df[\"discourse_type\"])\n",
    "df[\"label\"] = df[\"discourse_type\"].cat.codes\n",
    "df"
   ]
  },
  {
   "cell_type": "code",
   "execution_count": 13,
   "metadata": {},
   "outputs": [
    {
     "data": {
      "text/plain": [
       "{0: 'Claim',\n",
       " 1: 'Concluding Statement',\n",
       " 2: 'Counterclaim',\n",
       " 3: 'Evidence',\n",
       " 4: 'Lead',\n",
       " 5: 'Position',\n",
       " 6: 'Rebuttal'}"
      ]
     },
     "execution_count": 13,
     "metadata": {},
     "output_type": "execute_result"
    }
   ],
   "source": [
    "category_codes = dict(zip(range(df[\"discourse_type\"].cat.categories.size),df[\"discourse_type\"].cat.categories))\n",
    "category_codes"
   ]
  },
  {
   "cell_type": "code",
   "execution_count": 64,
   "metadata": {},
   "outputs": [
    {
     "data": {
      "text/plain": [
       "DatasetDict({\n",
       "    train: Dataset({\n",
       "        features: ['text', 'label', 'id'],\n",
       "        num_rows: 101005\n",
       "    })\n",
       "    test: Dataset({\n",
       "        features: ['text', 'label', 'id'],\n",
       "        num_rows: 28873\n",
       "    })\n",
       "    valid: Dataset({\n",
       "        features: ['text', 'label', 'id'],\n",
       "        num_rows: 14415\n",
       "    })\n",
       "})"
      ]
     },
     "execution_count": 64,
     "metadata": {},
     "output_type": "execute_result"
    }
   ],
   "source": [
    "dataset = Dataset.from_pandas(df[[\"text\", \"label\"]])\n",
    "\n",
    "train_test_dataset = dataset.train_test_split(test_size=0.3)\n",
    "test_validation_dataset = train_test_dataset[\"test\"].train_test_split(test_size=0.333)\n",
    "\n",
    "train_test_valid_dataset = DatasetDict({\n",
    "    'train': train_test_dataset['train'],\n",
    "    'test': test_validation_dataset['train'],\n",
    "    'valid': test_validation_dataset['test']})\n",
    "\n",
    "train_test_valid_dataset"
   ]
  },
  {
   "cell_type": "markdown",
   "metadata": {},
   "source": [
    "# DOWNSTREAM TRAINING FOR SENTENCE CLASSIFICATION"
   ]
  },
  {
   "cell_type": "code",
   "execution_count": 14,
   "metadata": {},
   "outputs": [],
   "source": [
    "model_checkpoint = \"distilbert-base-uncased\"\n",
    "batch_size = 8\n",
    "num_labels = len(category_codes)"
   ]
  },
  {
   "cell_type": "code",
   "execution_count": 21,
   "metadata": {
    "executionInfo": {
     "elapsed": 7292,
     "status": "ok",
     "timestamp": 1644386235329,
     "user": {
      "displayName": "Clyde",
      "photoUrl": "https://lh3.googleusercontent.com/a-/AOh14GjoLYXAGsV_YRhlDcFT578Eid_TYHtCYj4giy6Svw=s64",
      "userId": "17715859681118314357"
     },
     "user_tz": -480
    },
    "id": "eqMcPY6yrvBf",
    "tags": []
   },
   "outputs": [
    {
     "data": {
      "application/vnd.jupyter.widget-view+json": {
       "model_id": "4306086d7fd545fe9094f99b03bd8a89",
       "version_major": 2,
       "version_minor": 0
      },
      "text/plain": [
       "Downloading:   0%|          | 0.00/28.0 [00:00<?, ?B/s]"
      ]
     },
     "metadata": {},
     "output_type": "display_data"
    },
    {
     "data": {
      "application/vnd.jupyter.widget-view+json": {
       "model_id": "1aba338558494a83b8b88c8c696e071e",
       "version_major": 2,
       "version_minor": 0
      },
      "text/plain": [
       "Downloading:   0%|          | 0.00/483 [00:00<?, ?B/s]"
      ]
     },
     "metadata": {},
     "output_type": "display_data"
    },
    {
     "data": {
      "application/vnd.jupyter.widget-view+json": {
       "model_id": "71474fb607c14ed7886863ef57e75574",
       "version_major": 2,
       "version_minor": 0
      },
      "text/plain": [
       "Downloading:   0%|          | 0.00/226k [00:00<?, ?B/s]"
      ]
     },
     "metadata": {},
     "output_type": "display_data"
    },
    {
     "data": {
      "application/vnd.jupyter.widget-view+json": {
       "model_id": "d52fa91c15c24ea6b1b946133773432c",
       "version_major": 2,
       "version_minor": 0
      },
      "text/plain": [
       "Downloading:   0%|          | 0.00/455k [00:00<?, ?B/s]"
      ]
     },
     "metadata": {},
     "output_type": "display_data"
    }
   ],
   "source": [
    "tokenizer = AutoTokenizer.from_pretrained(model_checkpoint, use_fast=True)\n",
    "def preprocess_function(examples):\n",
    "    return tokenizer(examples[\"text\"], truncation=True, padding=True)"
   ]
  },
  {
   "cell_type": "code",
   "execution_count": 67,
   "metadata": {
    "colab": {
     "base_uri": "https://localhost:8080/",
     "height": 356,
     "referenced_widgets": [
      "eb8f0c66b2f941449c00ddf0dd1971e1",
      "bfca8adef88a447994d2fbb42c6876b0",
      "f2d4326c27494738802ff67201a9da83",
      "354d938ecc1544248f8d74305c19f806",
      "40904e8827594b58a479abb13e2568f3",
      "aad007f4fe404db1a7b7413d183fc829",
      "790eabe193a04a1b870c5b4a2f3d914d",
      "9d27594faceb4e3bbcc5f7e2c79511ed",
      "241c78283aca4e7bb125be78b03b7e1e",
      "89b57630247244628d6990da434b4aa5",
      "c54e19273e0e49e099e0f5651bb210bb",
      "09335e7f16ed4ca79227a832a1ca3b4a",
      "d56f2d84486b479296b949e17be5ed81",
      "88d8830e26b24acc9ce1edaa77c9a887",
      "d2dade9ee99b48148185a021707c3db5",
      "fec733c5e82c478e92296517acda6127",
      "e9c3eec2ec894aabb11bd0ee9d29fd6d",
      "202316d230b949e28176006ebae523da",
      "07ce1385b1f74ad385c96b092a8101cc",
      "b4a9d3fb04fe4240948f03b46d539d4c",
      "b52a2f5bdec14762adfad655af88b8c8",
      "7dd4b038901c4fddb9738babe585b0fe",
      "4ec5c83007a04fbebd7976714e9d8985",
      "4810279074fc42b9943db4ce136cc630",
      "1a21a49a080f41759229719753f409e1",
      "00ba40156bf24502a3013ee617392fb4",
      "77b5a2ac714447b1a2a865d3845a4f8e",
      "360a64a1a7874563abddf863e651d116",
      "10348be32e1a491b86e4cd76f9ce118c",
      "d095669f1b2442578d0d1f8d8aebc233",
      "3a028690f4784f13bd679de43762c879",
      "922565087fe74fb3b83c804677732d55",
      "b1493322c4b141dea15cbc1308c4fd41"
     ]
    },
    "executionInfo": {
     "elapsed": 44614,
     "status": "ok",
     "timestamp": 1644386279931,
     "user": {
      "displayName": "Clyde",
      "photoUrl": "https://lh3.googleusercontent.com/a-/AOh14GjoLYXAGsV_YRhlDcFT578Eid_TYHtCYj4giy6Svw=s64",
      "userId": "17715859681118314357"
     },
     "user_tz": -480
    },
    "id": "aM38LBWWrpMm",
    "outputId": "313f58c9-65c9-42e3-9e46-278b028c45e8",
    "tags": []
   },
   "outputs": [
    {
     "data": {
      "application/vnd.jupyter.widget-view+json": {
       "model_id": "727449956d534e238d28a0814f82a14c",
       "version_major": 2,
       "version_minor": 0
      },
      "text/plain": [
       "  0%|          | 0/102 [00:00<?, ?ba/s]"
      ]
     },
     "metadata": {},
     "output_type": "display_data"
    },
    {
     "data": {
      "application/vnd.jupyter.widget-view+json": {
       "model_id": "0f9734d48b8646089dcb5604ce067e7a",
       "version_major": 2,
       "version_minor": 0
      },
      "text/plain": [
       "  0%|          | 0/29 [00:00<?, ?ba/s]"
      ]
     },
     "metadata": {},
     "output_type": "display_data"
    },
    {
     "data": {
      "application/vnd.jupyter.widget-view+json": {
       "model_id": "0a09cf501219457f92b2f5ec5426c90e",
       "version_major": 2,
       "version_minor": 0
      },
      "text/plain": [
       "  0%|          | 0/15 [00:00<?, ?ba/s]"
      ]
     },
     "metadata": {},
     "output_type": "display_data"
    },
    {
     "data": {
      "text/plain": [
       "DatasetDict({\n",
       "    train: Dataset({\n",
       "        features: ['text', 'label', 'id', 'input_ids', 'attention_mask'],\n",
       "        num_rows: 101005\n",
       "    })\n",
       "    test: Dataset({\n",
       "        features: ['text', 'label', 'id', 'input_ids', 'attention_mask'],\n",
       "        num_rows: 28873\n",
       "    })\n",
       "    valid: Dataset({\n",
       "        features: ['text', 'label', 'id', 'input_ids', 'attention_mask'],\n",
       "        num_rows: 14415\n",
       "    })\n",
       "})"
      ]
     },
     "execution_count": 67,
     "metadata": {},
     "output_type": "execute_result"
    }
   ],
   "source": [
    "encoded_dataset = train_test_valid_dataset.map(preprocess_function, batched=True)\n",
    "columns_to_return = ['input_ids', 'label', 'attention_mask']\n",
    "encoded_dataset.set_format(type='torch', columns=columns_to_return)\n",
    "encoded_dataset"
   ]
  },
  {
   "cell_type": "markdown",
   "metadata": {
    "id": "cF6PJPNcSXIK"
   },
   "source": [
    "reference: https://huggingface.co/course/chapter3/3?fw=pt \\\n",
    "Also [kappa score](https://scikit-learn.org/stable/modules/generated/sklearn.metrics.cohen_kappa_score.html).\n",
    "<img src=https://i.kym-cdn.com/photos/images/newsfeed/000/925/494/218.png_large width=50>"
   ]
  },
  {
   "cell_type": "code",
   "execution_count": 58,
   "metadata": {
    "executionInfo": {
     "elapsed": 410,
     "status": "ok",
     "timestamp": 1644896798563,
     "user": {
      "displayName": "Clyde",
      "photoUrl": "https://lh3.googleusercontent.com/a-/AOh14GjoLYXAGsV_YRhlDcFT578Eid_TYHtCYj4giy6Svw=s64",
      "userId": "17715859681118314357"
     },
     "user_tz": -480
    },
    "id": "p70E9RIFSXIK"
   },
   "outputs": [],
   "source": [
    "def compute_metrics(eval_preds):\n",
    "    metric_acc = load_metric(\"accuracy\")\n",
    "    metric_prec = load_metric(\"precision\")\n",
    "    metric_recall = load_metric(\"recall\")\n",
    "    metric_f1 = load_metric(\"f1\")\n",
    "    \n",
    "    logits, labels = eval_preds\n",
    "    predictions = np.argmax(logits, axis=-1)\n",
    "    \n",
    "    acc = metric_acc.compute(predictions=predictions, references=labels)\n",
    "    prec = metric_prec.compute(predictions=predictions, references=labels, average=\"weighted\")\n",
    "    recall = metric_recall.compute(predictions=predictions, references=labels, average=\"weighted\")\n",
    "    f1 = metric_f1.compute(predictions=predictions, references=labels, average=\"weighted\")\n",
    "    kappa = cohen_kappa_score(predictions, labels)\n",
    "\n",
    "    return {\"accuracy\": acc['accuracy'], \"precision\": prec['precision'],\n",
    "            \"recall\": recall['recall'], \"f1\": f1['f1'], \"kappa\": kappa}"
   ]
  },
  {
   "cell_type": "code",
   "execution_count": 59,
   "metadata": {
    "colab": {
     "base_uri": "https://localhost:8080/",
     "height": 1000,
     "referenced_widgets": [
      "4edd920cfccf430e98a18a3b1ac983f0",
      "76a3511531b74c6f8a32fb1df40f6a38",
      "6998cb70fe2c446782518f7963fe132a",
      "0bfdbafd10db4fc38e184ed001d9b838",
      "e8239223e9634aaa8286afb99bf332f9",
      "cca81fc2fad745ccad008a3f86a8a17b",
      "38751a287f4d438e83eab5cb39083586",
      "43a9e8c62e1849a0a97a9c36e55e4487",
      "531075fd2b1543b9a9a422ad69928d86",
      "2993a9b4669844af857c0f4c9af4ff0d",
      "97cf1410f10f4e9e9353035ef648dba7"
     ]
    },
    "collapsed": true,
    "executionInfo": {
     "elapsed": 20518,
     "status": "ok",
     "timestamp": 1644894464074,
     "user": {
      "displayName": "Clyde",
      "photoUrl": "https://lh3.googleusercontent.com/a-/AOh14GjoLYXAGsV_YRhlDcFT578Eid_TYHtCYj4giy6Svw=s64",
      "userId": "17715859681118314357"
     },
     "user_tz": -480
    },
    "id": "P9Bg7ewItU35",
    "jupyter": {
     "outputs_hidden": true
    },
    "outputId": "77b39874-f5d4-4f06-b5cd-198f01e884d5",
    "tags": []
   },
   "outputs": [
    {
     "name": "stderr",
     "output_type": "stream",
     "text": [
      "loading configuration file https://huggingface.co/distilbert-base-uncased/resolve/main/config.json from cache at /home/weipyn/.cache/huggingface/transformers/23454919702d26495337f3da04d1655c7ee010d5ec9d77bdb9e399e00302c0a1.91b885ab15d631bf9cee9dc9d25ece0afd932f2f5130eba28f2055b2220c0333\n",
      "Model config DistilBertConfig {\n",
      "  \"_name_or_path\": \"distilbert-base-uncased\",\n",
      "  \"activation\": \"gelu\",\n",
      "  \"architectures\": [\n",
      "    \"DistilBertForMaskedLM\"\n",
      "  ],\n",
      "  \"attention_dropout\": 0.1,\n",
      "  \"dim\": 768,\n",
      "  \"dropout\": 0.1,\n",
      "  \"hidden_dim\": 3072,\n",
      "  \"id2label\": {\n",
      "    \"0\": \"LABEL_0\",\n",
      "    \"1\": \"LABEL_1\",\n",
      "    \"2\": \"LABEL_2\",\n",
      "    \"3\": \"LABEL_3\",\n",
      "    \"4\": \"LABEL_4\",\n",
      "    \"5\": \"LABEL_5\",\n",
      "    \"6\": \"LABEL_6\"\n",
      "  },\n",
      "  \"initializer_range\": 0.02,\n",
      "  \"label2id\": {\n",
      "    \"LABEL_0\": 0,\n",
      "    \"LABEL_1\": 1,\n",
      "    \"LABEL_2\": 2,\n",
      "    \"LABEL_3\": 3,\n",
      "    \"LABEL_4\": 4,\n",
      "    \"LABEL_5\": 5,\n",
      "    \"LABEL_6\": 6\n",
      "  },\n",
      "  \"max_position_embeddings\": 512,\n",
      "  \"model_type\": \"distilbert\",\n",
      "  \"n_heads\": 12,\n",
      "  \"n_layers\": 6,\n",
      "  \"pad_token_id\": 0,\n",
      "  \"qa_dropout\": 0.1,\n",
      "  \"seq_classif_dropout\": 0.2,\n",
      "  \"sinusoidal_pos_embds\": false,\n",
      "  \"tie_weights_\": true,\n",
      "  \"transformers_version\": \"4.16.2\",\n",
      "  \"vocab_size\": 30522\n",
      "}\n",
      "\n",
      "loading weights file https://huggingface.co/distilbert-base-uncased/resolve/main/pytorch_model.bin from cache at /home/weipyn/.cache/huggingface/transformers/9c169103d7e5a73936dd2b627e42851bec0831212b677c637033ee4bce9ab5ee.126183e36667471617ae2f0835fab707baa54b731f991507ebbb55ea85adb12a\n",
      "Some weights of the model checkpoint at distilbert-base-uncased were not used when initializing DistilBertForSequenceClassification: ['vocab_projector.weight', 'vocab_transform.weight', 'vocab_transform.bias', 'vocab_layer_norm.weight', 'vocab_layer_norm.bias', 'vocab_projector.bias']\n",
      "- This IS expected if you are initializing DistilBertForSequenceClassification from the checkpoint of a model trained on another task or with another architecture (e.g. initializing a BertForSequenceClassification model from a BertForPreTraining model).\n",
      "- This IS NOT expected if you are initializing DistilBertForSequenceClassification from the checkpoint of a model that you expect to be exactly identical (initializing a BertForSequenceClassification model from a BertForSequenceClassification model).\n",
      "Some weights of DistilBertForSequenceClassification were not initialized from the model checkpoint at distilbert-base-uncased and are newly initialized: ['classifier.bias', 'pre_classifier.weight', 'pre_classifier.bias', 'classifier.weight']\n",
      "You should probably TRAIN this model on a down-stream task to be able to use it for predictions and inference.\n"
     ]
    },
    {
     "data": {
      "text/plain": [
       "DistilBertForSequenceClassification(\n",
       "  (distilbert): DistilBertModel(\n",
       "    (embeddings): Embeddings(\n",
       "      (word_embeddings): Embedding(30522, 768, padding_idx=0)\n",
       "      (position_embeddings): Embedding(512, 768)\n",
       "      (LayerNorm): LayerNorm((768,), eps=1e-12, elementwise_affine=True)\n",
       "      (dropout): Dropout(p=0.1, inplace=False)\n",
       "    )\n",
       "    (transformer): Transformer(\n",
       "      (layer): ModuleList(\n",
       "        (0): TransformerBlock(\n",
       "          (attention): MultiHeadSelfAttention(\n",
       "            (dropout): Dropout(p=0.1, inplace=False)\n",
       "            (q_lin): Linear(in_features=768, out_features=768, bias=True)\n",
       "            (k_lin): Linear(in_features=768, out_features=768, bias=True)\n",
       "            (v_lin): Linear(in_features=768, out_features=768, bias=True)\n",
       "            (out_lin): Linear(in_features=768, out_features=768, bias=True)\n",
       "          )\n",
       "          (sa_layer_norm): LayerNorm((768,), eps=1e-12, elementwise_affine=True)\n",
       "          (ffn): FFN(\n",
       "            (dropout): Dropout(p=0.1, inplace=False)\n",
       "            (lin1): Linear(in_features=768, out_features=3072, bias=True)\n",
       "            (lin2): Linear(in_features=3072, out_features=768, bias=True)\n",
       "          )\n",
       "          (output_layer_norm): LayerNorm((768,), eps=1e-12, elementwise_affine=True)\n",
       "        )\n",
       "        (1): TransformerBlock(\n",
       "          (attention): MultiHeadSelfAttention(\n",
       "            (dropout): Dropout(p=0.1, inplace=False)\n",
       "            (q_lin): Linear(in_features=768, out_features=768, bias=True)\n",
       "            (k_lin): Linear(in_features=768, out_features=768, bias=True)\n",
       "            (v_lin): Linear(in_features=768, out_features=768, bias=True)\n",
       "            (out_lin): Linear(in_features=768, out_features=768, bias=True)\n",
       "          )\n",
       "          (sa_layer_norm): LayerNorm((768,), eps=1e-12, elementwise_affine=True)\n",
       "          (ffn): FFN(\n",
       "            (dropout): Dropout(p=0.1, inplace=False)\n",
       "            (lin1): Linear(in_features=768, out_features=3072, bias=True)\n",
       "            (lin2): Linear(in_features=3072, out_features=768, bias=True)\n",
       "          )\n",
       "          (output_layer_norm): LayerNorm((768,), eps=1e-12, elementwise_affine=True)\n",
       "        )\n",
       "        (2): TransformerBlock(\n",
       "          (attention): MultiHeadSelfAttention(\n",
       "            (dropout): Dropout(p=0.1, inplace=False)\n",
       "            (q_lin): Linear(in_features=768, out_features=768, bias=True)\n",
       "            (k_lin): Linear(in_features=768, out_features=768, bias=True)\n",
       "            (v_lin): Linear(in_features=768, out_features=768, bias=True)\n",
       "            (out_lin): Linear(in_features=768, out_features=768, bias=True)\n",
       "          )\n",
       "          (sa_layer_norm): LayerNorm((768,), eps=1e-12, elementwise_affine=True)\n",
       "          (ffn): FFN(\n",
       "            (dropout): Dropout(p=0.1, inplace=False)\n",
       "            (lin1): Linear(in_features=768, out_features=3072, bias=True)\n",
       "            (lin2): Linear(in_features=3072, out_features=768, bias=True)\n",
       "          )\n",
       "          (output_layer_norm): LayerNorm((768,), eps=1e-12, elementwise_affine=True)\n",
       "        )\n",
       "        (3): TransformerBlock(\n",
       "          (attention): MultiHeadSelfAttention(\n",
       "            (dropout): Dropout(p=0.1, inplace=False)\n",
       "            (q_lin): Linear(in_features=768, out_features=768, bias=True)\n",
       "            (k_lin): Linear(in_features=768, out_features=768, bias=True)\n",
       "            (v_lin): Linear(in_features=768, out_features=768, bias=True)\n",
       "            (out_lin): Linear(in_features=768, out_features=768, bias=True)\n",
       "          )\n",
       "          (sa_layer_norm): LayerNorm((768,), eps=1e-12, elementwise_affine=True)\n",
       "          (ffn): FFN(\n",
       "            (dropout): Dropout(p=0.1, inplace=False)\n",
       "            (lin1): Linear(in_features=768, out_features=3072, bias=True)\n",
       "            (lin2): Linear(in_features=3072, out_features=768, bias=True)\n",
       "          )\n",
       "          (output_layer_norm): LayerNorm((768,), eps=1e-12, elementwise_affine=True)\n",
       "        )\n",
       "        (4): TransformerBlock(\n",
       "          (attention): MultiHeadSelfAttention(\n",
       "            (dropout): Dropout(p=0.1, inplace=False)\n",
       "            (q_lin): Linear(in_features=768, out_features=768, bias=True)\n",
       "            (k_lin): Linear(in_features=768, out_features=768, bias=True)\n",
       "            (v_lin): Linear(in_features=768, out_features=768, bias=True)\n",
       "            (out_lin): Linear(in_features=768, out_features=768, bias=True)\n",
       "          )\n",
       "          (sa_layer_norm): LayerNorm((768,), eps=1e-12, elementwise_affine=True)\n",
       "          (ffn): FFN(\n",
       "            (dropout): Dropout(p=0.1, inplace=False)\n",
       "            (lin1): Linear(in_features=768, out_features=3072, bias=True)\n",
       "            (lin2): Linear(in_features=3072, out_features=768, bias=True)\n",
       "          )\n",
       "          (output_layer_norm): LayerNorm((768,), eps=1e-12, elementwise_affine=True)\n",
       "        )\n",
       "        (5): TransformerBlock(\n",
       "          (attention): MultiHeadSelfAttention(\n",
       "            (dropout): Dropout(p=0.1, inplace=False)\n",
       "            (q_lin): Linear(in_features=768, out_features=768, bias=True)\n",
       "            (k_lin): Linear(in_features=768, out_features=768, bias=True)\n",
       "            (v_lin): Linear(in_features=768, out_features=768, bias=True)\n",
       "            (out_lin): Linear(in_features=768, out_features=768, bias=True)\n",
       "          )\n",
       "          (sa_layer_norm): LayerNorm((768,), eps=1e-12, elementwise_affine=True)\n",
       "          (ffn): FFN(\n",
       "            (dropout): Dropout(p=0.1, inplace=False)\n",
       "            (lin1): Linear(in_features=768, out_features=3072, bias=True)\n",
       "            (lin2): Linear(in_features=3072, out_features=768, bias=True)\n",
       "          )\n",
       "          (output_layer_norm): LayerNorm((768,), eps=1e-12, elementwise_affine=True)\n",
       "        )\n",
       "      )\n",
       "    )\n",
       "  )\n",
       "  (pre_classifier): Linear(in_features=768, out_features=768, bias=True)\n",
       "  (classifier): Linear(in_features=768, out_features=7, bias=True)\n",
       "  (dropout): Dropout(p=0.2, inplace=False)\n",
       ")"
      ]
     },
     "execution_count": 59,
     "metadata": {},
     "output_type": "execute_result"
    }
   ],
   "source": [
    "model = AutoModelForSequenceClassification.from_pretrained(model_checkpoint, num_labels=num_labels)\n",
    "model = model.to(device)\n",
    "model"
   ]
  },
  {
   "cell_type": "code",
   "execution_count": 68,
   "metadata": {
    "colab": {
     "base_uri": "https://localhost:8080/"
    },
    "executionInfo": {
     "elapsed": 495,
     "status": "ok",
     "timestamp": 1644896738115,
     "user": {
      "displayName": "Clyde",
      "photoUrl": "https://lh3.googleusercontent.com/a-/AOh14GjoLYXAGsV_YRhlDcFT578Eid_TYHtCYj4giy6Svw=s64",
      "userId": "17715859681118314357"
     },
     "user_tz": -480
    },
    "id": "TJtCWSWst-Eb",
    "outputId": "b3cd110b-8502-47bb-dee0-b86aaf20c0d1",
    "tags": []
   },
   "outputs": [
    {
     "name": "stderr",
     "output_type": "stream",
     "text": [
      "PyTorch: setting up devices\n",
      "The default value for the training argument `--report_to` will change in v5 (from all installed integrations to none). In v5, you will need to use `--report_to all` to get the same behavior as now. You should start updating your code and make this info disappear :-).\n"
     ]
    }
   ],
   "source": [
    "model_name = model_checkpoint.split(\"/\")[-1]\n",
    "\n",
    "args = TrainingArguments(\n",
    "    f\"models_gitignored/{model_name}-finetuned-sentence-classification\",\n",
    "    evaluation_strategy = \"epoch\",\n",
    "    save_strategy = \"epoch\",\n",
    "    learning_rate=2e-5,\n",
    "    per_device_train_batch_size=batch_size,\n",
    "    per_device_eval_batch_size=batch_size,\n",
    "    num_train_epochs=2,\n",
    "    weight_decay=0.01,\n",
    "    load_best_model_at_end=True,\n",
    ")\n",
    "\n",
    "trainer = Trainer(\n",
    "    model=model,\n",
    "    args=args,\n",
    "    train_dataset=encoded_dataset[\"train\"],\n",
    "    eval_dataset=encoded_dataset[\"test\"],\n",
    "    tokenizer=tokenizer,\n",
    "    compute_metrics=compute_metrics\n",
    ")"
   ]
  },
  {
   "cell_type": "markdown",
   "metadata": {
    "id": "A8lxx-NySXIL"
   },
   "source": [
    "We can manually calculate initial unretrained metrics by calling the `compute_metrics` function here and passing in the trainer's predicted values."
   ]
  },
  {
   "cell_type": "code",
   "execution_count": 69,
   "metadata": {
    "colab": {
     "base_uri": "https://localhost:8080/",
     "height": 417
    },
    "executionInfo": {
     "elapsed": 1632,
     "status": "error",
     "timestamp": 1644896741991,
     "user": {
      "displayName": "Clyde",
      "photoUrl": "https://lh3.googleusercontent.com/a-/AOh14GjoLYXAGsV_YRhlDcFT578Eid_TYHtCYj4giy6Svw=s64",
      "userId": "17715859681118314357"
     },
     "user_tz": -480
    },
    "id": "KmhbFD4ASXIL",
    "outputId": "27da64dc-8a34-4472-f3f7-1a63ee0d6088"
   },
   "outputs": [
    {
     "name": "stderr",
     "output_type": "stream",
     "text": [
      "The following columns in the test set  don't have a corresponding argument in `DistilBertForSequenceClassification.forward` and have been ignored: id, text.\n",
      "***** Running Prediction *****\n",
      "  Num examples = 14415\n",
      "  Batch size = 8\n"
     ]
    },
    {
     "data": {
      "text/html": [
       "\n",
       "    <div>\n",
       "      \n",
       "      <progress value='5412' max='1802' style='width:300px; height:20px; vertical-align: middle;'></progress>\n",
       "      [1802/1802 36:53]\n",
       "    </div>\n",
       "    "
      ],
      "text/plain": [
       "<IPython.core.display.HTML object>"
      ]
     },
     "metadata": {},
     "output_type": "display_data"
    },
    {
     "name": "stdout",
     "output_type": "stream",
     "text": [
      "(14415, 7) (14415,)\n"
     ]
    },
    {
     "name": "stderr",
     "output_type": "stream",
     "text": [
      "/home/weipyn/.local/lib/python3.9/site-packages/sklearn/metrics/_classification.py:1318: UndefinedMetricWarning: Precision is ill-defined and being set to 0.0 in labels with no predicted samples. Use `zero_division` parameter to control this behavior.\n",
      "  _warn_prf(average, modifier, msg_start, len(result))\n"
     ]
    }
   ],
   "source": [
    "predictions = trainer.predict(encoded_dataset[\"valid\"])\n",
    "print(predictions.predictions.shape, predictions.label_ids.shape)"
   ]
  },
  {
   "cell_type": "code",
   "execution_count": 70,
   "metadata": {
    "colab": {
     "base_uri": "https://localhost:8080/"
    },
    "executionInfo": {
     "elapsed": 3731,
     "status": "ok",
     "timestamp": 1644896806755,
     "user": {
      "displayName": "Clyde",
      "photoUrl": "https://lh3.googleusercontent.com/a-/AOh14GjoLYXAGsV_YRhlDcFT578Eid_TYHtCYj4giy6Svw=s64",
      "userId": "17715859681118314357"
     },
     "user_tz": -480
    },
    "id": "JyJYdWAnSXIL",
    "outputId": "16c2e010-0291-459d-8fc2-222e2a936d35"
   },
   "outputs": [
    {
     "name": "stderr",
     "output_type": "stream",
     "text": [
      "/home/weipyn/.local/lib/python3.9/site-packages/sklearn/metrics/_classification.py:1318: UndefinedMetricWarning: Precision is ill-defined and being set to 0.0 in labels with no predicted samples. Use `zero_division` parameter to control this behavior.\n",
      "  _warn_prf(average, modifier, msg_start, len(result))\n"
     ]
    },
    {
     "data": {
      "text/plain": [
       "{'accuracy': 0.1593479014915019,\n",
       " 'precision': 0.18363621978611755,\n",
       " 'recall': 0.1593479014915019,\n",
       " 'f1': 0.12390552827433275,\n",
       " 'kappa': 0.04815549055498458}"
      ]
     },
     "execution_count": 70,
     "metadata": {},
     "output_type": "execute_result"
    }
   ],
   "source": [
    "compute_metrics([predictions.predictions, predictions.label_ids])"
   ]
  },
  {
   "cell_type": "markdown",
   "metadata": {},
   "source": [
    "We now begin model retraining."
   ]
  },
  {
   "cell_type": "code",
   "execution_count": 71,
   "metadata": {},
   "outputs": [],
   "source": [
    "torch.cuda.empty_cache()"
   ]
  },
  {
   "cell_type": "code",
   "execution_count": 72,
   "metadata": {
    "colab": {
     "base_uri": "https://localhost:8080/",
     "height": 234
    },
    "id": "CHDMQNZi8hTX",
    "outputId": "222d04f5-8218-4384-c08f-d955f2cdfb2f"
   },
   "outputs": [
    {
     "name": "stderr",
     "output_type": "stream",
     "text": [
      "The following columns in the training set  don't have a corresponding argument in `DistilBertForSequenceClassification.forward` and have been ignored: id, text.\n",
      "/home/weipyn/.local/lib/python3.9/site-packages/transformers/optimization.py:306: FutureWarning: This implementation of AdamW is deprecated and will be removed in a future version. Use thePyTorch implementation torch.optim.AdamW instead, or set `no_deprecation_warning=True` to disable this warning\n",
      "  warnings.warn(\n",
      "***** Running training *****\n",
      "  Num examples = 101005\n",
      "  Num Epochs = 2\n",
      "  Instantaneous batch size per device = 8\n",
      "  Total train batch size (w. parallel, distributed & accumulation) = 8\n",
      "  Gradient Accumulation steps = 1\n",
      "  Total optimization steps = 25252\n"
     ]
    },
    {
     "data": {
      "text/html": [
       "\n",
       "    <div>\n",
       "      \n",
       "      <progress value='25252' max='25252' style='width:300px; height:20px; vertical-align: middle;'></progress>\n",
       "      [25252/25252 1:11:04, Epoch 2/2]\n",
       "    </div>\n",
       "    <table border=\"1\" class=\"dataframe\">\n",
       "  <thead>\n",
       " <tr style=\"text-align: left;\">\n",
       "      <th>Epoch</th>\n",
       "      <th>Training Loss</th>\n",
       "      <th>Validation Loss</th>\n",
       "      <th>Accuracy</th>\n",
       "      <th>Precision</th>\n",
       "      <th>Recall</th>\n",
       "      <th>F1</th>\n",
       "      <th>Kappa</th>\n",
       "    </tr>\n",
       "  </thead>\n",
       "  <tbody>\n",
       "    <tr>\n",
       "      <td>1</td>\n",
       "      <td>0.641300</td>\n",
       "      <td>0.647028</td>\n",
       "      <td>0.782046</td>\n",
       "      <td>0.782754</td>\n",
       "      <td>0.782046</td>\n",
       "      <td>0.779864</td>\n",
       "      <td>0.708201</td>\n",
       "    </tr>\n",
       "    <tr>\n",
       "      <td>2</td>\n",
       "      <td>0.519000</td>\n",
       "      <td>0.663820</td>\n",
       "      <td>0.786340</td>\n",
       "      <td>0.785192</td>\n",
       "      <td>0.786340</td>\n",
       "      <td>0.784895</td>\n",
       "      <td>0.714995</td>\n",
       "    </tr>\n",
       "  </tbody>\n",
       "</table><p>"
      ],
      "text/plain": [
       "<IPython.core.display.HTML object>"
      ]
     },
     "metadata": {},
     "output_type": "display_data"
    },
    {
     "name": "stderr",
     "output_type": "stream",
     "text": [
      "The following columns in the evaluation set  don't have a corresponding argument in `DistilBertForSequenceClassification.forward` and have been ignored: id, text.\n",
      "***** Running Evaluation *****\n",
      "  Num examples = 28873\n",
      "  Batch size = 8\n",
      "Saving model checkpoint to models_gitignored/distilbert-base-uncased-finetuned-sentence-classification/checkpoint-12626\n",
      "Configuration saved in models_gitignored/distilbert-base-uncased-finetuned-sentence-classification/checkpoint-12626/config.json\n",
      "Model weights saved in models_gitignored/distilbert-base-uncased-finetuned-sentence-classification/checkpoint-12626/pytorch_model.bin\n",
      "tokenizer config file saved in models_gitignored/distilbert-base-uncased-finetuned-sentence-classification/checkpoint-12626/tokenizer_config.json\n",
      "Special tokens file saved in models_gitignored/distilbert-base-uncased-finetuned-sentence-classification/checkpoint-12626/special_tokens_map.json\n",
      "The following columns in the evaluation set  don't have a corresponding argument in `DistilBertForSequenceClassification.forward` and have been ignored: id, text.\n",
      "***** Running Evaluation *****\n",
      "  Num examples = 28873\n",
      "  Batch size = 8\n",
      "Saving model checkpoint to models_gitignored/distilbert-base-uncased-finetuned-sentence-classification/checkpoint-25252\n",
      "Configuration saved in models_gitignored/distilbert-base-uncased-finetuned-sentence-classification/checkpoint-25252/config.json\n",
      "Model weights saved in models_gitignored/distilbert-base-uncased-finetuned-sentence-classification/checkpoint-25252/pytorch_model.bin\n",
      "tokenizer config file saved in models_gitignored/distilbert-base-uncased-finetuned-sentence-classification/checkpoint-25252/tokenizer_config.json\n",
      "Special tokens file saved in models_gitignored/distilbert-base-uncased-finetuned-sentence-classification/checkpoint-25252/special_tokens_map.json\n",
      "\n",
      "\n",
      "Training completed. Do not forget to share your model on huggingface.co/models =)\n",
      "\n",
      "\n",
      "Loading best model from models_gitignored/distilbert-base-uncased-finetuned-sentence-classification/checkpoint-12626 (score: 0.6470284461975098).\n"
     ]
    },
    {
     "data": {
      "text/plain": [
       "TrainOutput(global_step=25252, training_loss=0.6392160841955278, metrics={'train_runtime': 4264.5967, 'train_samples_per_second': 47.369, 'train_steps_per_second': 5.921, 'total_flos': 2.658741421348003e+16, 'train_loss': 0.6392160841955278, 'epoch': 2.0})"
      ]
     },
     "execution_count": 72,
     "metadata": {},
     "output_type": "execute_result"
    }
   ],
   "source": [
    "trainer.train()"
   ]
  },
  {
   "cell_type": "markdown",
   "metadata": {},
   "source": [
    "Nice, the model is trained now. How does it perform on our validation dataset?"
   ]
  },
  {
   "cell_type": "code",
   "execution_count": 75,
   "metadata": {
    "colab": {
     "base_uri": "https://localhost:8080/",
     "height": 417
    },
    "collapsed": true,
    "executionInfo": {
     "elapsed": 1632,
     "status": "error",
     "timestamp": 1644896741991,
     "user": {
      "displayName": "Clyde",
      "photoUrl": "https://lh3.googleusercontent.com/a-/AOh14GjoLYXAGsV_YRhlDcFT578Eid_TYHtCYj4giy6Svw=s64",
      "userId": "17715859681118314357"
     },
     "user_tz": -480
    },
    "id": "KmhbFD4ASXIL",
    "jupyter": {
     "outputs_hidden": true
    },
    "outputId": "27da64dc-8a34-4472-f3f7-1a63ee0d6088",
    "tags": []
   },
   "outputs": [
    {
     "name": "stderr",
     "output_type": "stream",
     "text": [
      "The following columns in the test set  don't have a corresponding argument in `DistilBertForSequenceClassification.forward` and have been ignored: id, text.\n",
      "***** Running Prediction *****\n",
      "  Num examples = 14415\n",
      "  Batch size = 8\n"
     ]
    },
    {
     "ename": "KeyboardInterrupt",
     "evalue": "",
     "output_type": "error",
     "traceback": [
      "\u001b[0;31m---------------------------------------------------------------------------\u001b[0m",
      "\u001b[0;31mKeyboardInterrupt\u001b[0m                         Traceback (most recent call last)",
      "\u001b[0;32m/tmp/ipykernel_23394/4293877779.py\u001b[0m in \u001b[0;36m<module>\u001b[0;34m\u001b[0m\n\u001b[0;32m----> 1\u001b[0;31m \u001b[0mpredictions\u001b[0m \u001b[0;34m=\u001b[0m \u001b[0mtrainer\u001b[0m\u001b[0;34m.\u001b[0m\u001b[0mpredict\u001b[0m\u001b[0;34m(\u001b[0m\u001b[0mencoded_dataset\u001b[0m\u001b[0;34m[\u001b[0m\u001b[0;34m\"valid\"\u001b[0m\u001b[0;34m]\u001b[0m\u001b[0;34m)\u001b[0m\u001b[0;34m\u001b[0m\u001b[0;34m\u001b[0m\u001b[0m\n\u001b[0m\u001b[1;32m      2\u001b[0m \u001b[0mprint\u001b[0m\u001b[0;34m(\u001b[0m\u001b[0mpredictions\u001b[0m\u001b[0;34m.\u001b[0m\u001b[0mpredictions\u001b[0m\u001b[0;34m.\u001b[0m\u001b[0mshape\u001b[0m\u001b[0;34m,\u001b[0m \u001b[0mpredictions\u001b[0m\u001b[0;34m.\u001b[0m\u001b[0mlabel_ids\u001b[0m\u001b[0;34m.\u001b[0m\u001b[0mshape\u001b[0m\u001b[0;34m)\u001b[0m\u001b[0;34m\u001b[0m\u001b[0;34m\u001b[0m\u001b[0m\n",
      "\u001b[0;32m~/.local/lib/python3.9/site-packages/transformers/trainer.py\u001b[0m in \u001b[0;36mpredict\u001b[0;34m(self, test_dataset, ignore_keys, metric_key_prefix)\u001b[0m\n\u001b[1;32m   2280\u001b[0m \u001b[0;34m\u001b[0m\u001b[0m\n\u001b[1;32m   2281\u001b[0m         \u001b[0meval_loop\u001b[0m \u001b[0;34m=\u001b[0m \u001b[0mself\u001b[0m\u001b[0;34m.\u001b[0m\u001b[0mprediction_loop\u001b[0m \u001b[0;32mif\u001b[0m \u001b[0mself\u001b[0m\u001b[0;34m.\u001b[0m\u001b[0margs\u001b[0m\u001b[0;34m.\u001b[0m\u001b[0muse_legacy_prediction_loop\u001b[0m \u001b[0;32melse\u001b[0m \u001b[0mself\u001b[0m\u001b[0;34m.\u001b[0m\u001b[0mevaluation_loop\u001b[0m\u001b[0;34m\u001b[0m\u001b[0;34m\u001b[0m\u001b[0m\n\u001b[0;32m-> 2282\u001b[0;31m         output = eval_loop(\n\u001b[0m\u001b[1;32m   2283\u001b[0m             \u001b[0mtest_dataloader\u001b[0m\u001b[0;34m,\u001b[0m \u001b[0mdescription\u001b[0m\u001b[0;34m=\u001b[0m\u001b[0;34m\"Prediction\"\u001b[0m\u001b[0;34m,\u001b[0m \u001b[0mignore_keys\u001b[0m\u001b[0;34m=\u001b[0m\u001b[0mignore_keys\u001b[0m\u001b[0;34m,\u001b[0m \u001b[0mmetric_key_prefix\u001b[0m\u001b[0;34m=\u001b[0m\u001b[0mmetric_key_prefix\u001b[0m\u001b[0;34m\u001b[0m\u001b[0;34m\u001b[0m\u001b[0m\n\u001b[1;32m   2284\u001b[0m         )\n",
      "\u001b[0;32m~/.local/lib/python3.9/site-packages/transformers/trainer.py\u001b[0m in \u001b[0;36mevaluation_loop\u001b[0;34m(self, dataloader, description, prediction_loss_only, ignore_keys, metric_key_prefix)\u001b[0m\n\u001b[1;32m   2390\u001b[0m                 \u001b[0mlosses_host\u001b[0m \u001b[0;34m=\u001b[0m \u001b[0mlosses\u001b[0m \u001b[0;32mif\u001b[0m \u001b[0mlosses_host\u001b[0m \u001b[0;32mis\u001b[0m \u001b[0;32mNone\u001b[0m \u001b[0;32melse\u001b[0m \u001b[0mtorch\u001b[0m\u001b[0;34m.\u001b[0m\u001b[0mcat\u001b[0m\u001b[0;34m(\u001b[0m\u001b[0;34m(\u001b[0m\u001b[0mlosses_host\u001b[0m\u001b[0;34m,\u001b[0m \u001b[0mlosses\u001b[0m\u001b[0;34m)\u001b[0m\u001b[0;34m,\u001b[0m \u001b[0mdim\u001b[0m\u001b[0;34m=\u001b[0m\u001b[0;36m0\u001b[0m\u001b[0;34m)\u001b[0m\u001b[0;34m\u001b[0m\u001b[0;34m\u001b[0m\u001b[0m\n\u001b[1;32m   2391\u001b[0m             \u001b[0;32mif\u001b[0m \u001b[0mlogits\u001b[0m \u001b[0;32mis\u001b[0m \u001b[0;32mnot\u001b[0m \u001b[0;32mNone\u001b[0m\u001b[0;34m:\u001b[0m\u001b[0;34m\u001b[0m\u001b[0;34m\u001b[0m\u001b[0m\n\u001b[0;32m-> 2392\u001b[0;31m                 \u001b[0mlogits\u001b[0m \u001b[0;34m=\u001b[0m \u001b[0mself\u001b[0m\u001b[0;34m.\u001b[0m\u001b[0m_pad_across_processes\u001b[0m\u001b[0;34m(\u001b[0m\u001b[0mlogits\u001b[0m\u001b[0;34m)\u001b[0m\u001b[0;34m\u001b[0m\u001b[0;34m\u001b[0m\u001b[0m\n\u001b[0m\u001b[1;32m   2393\u001b[0m                 \u001b[0mlogits\u001b[0m \u001b[0;34m=\u001b[0m \u001b[0mself\u001b[0m\u001b[0;34m.\u001b[0m\u001b[0m_nested_gather\u001b[0m\u001b[0;34m(\u001b[0m\u001b[0mlogits\u001b[0m\u001b[0;34m)\u001b[0m\u001b[0;34m\u001b[0m\u001b[0;34m\u001b[0m\u001b[0m\n\u001b[1;32m   2394\u001b[0m                 \u001b[0mpreds_host\u001b[0m \u001b[0;34m=\u001b[0m \u001b[0mlogits\u001b[0m \u001b[0;32mif\u001b[0m \u001b[0mpreds_host\u001b[0m \u001b[0;32mis\u001b[0m \u001b[0;32mNone\u001b[0m \u001b[0;32melse\u001b[0m \u001b[0mnested_concat\u001b[0m\u001b[0;34m(\u001b[0m\u001b[0mpreds_host\u001b[0m\u001b[0;34m,\u001b[0m \u001b[0mlogits\u001b[0m\u001b[0;34m,\u001b[0m \u001b[0mpadding_index\u001b[0m\u001b[0;34m=\u001b[0m\u001b[0;34m-\u001b[0m\u001b[0;36m100\u001b[0m\u001b[0;34m)\u001b[0m\u001b[0;34m\u001b[0m\u001b[0;34m\u001b[0m\u001b[0m\n",
      "\u001b[0;32m~/.local/lib/python3.9/site-packages/transformers/trainer.py\u001b[0m in \u001b[0;36m_pad_across_processes\u001b[0;34m(self, tensor, pad_index)\u001b[0m\n\u001b[1;32m   2504\u001b[0m             \u001b[0;32mreturn\u001b[0m \u001b[0mtensor\u001b[0m\u001b[0;34m\u001b[0m\u001b[0;34m\u001b[0m\u001b[0m\n\u001b[1;32m   2505\u001b[0m         \u001b[0;31m# Gather all sizes\u001b[0m\u001b[0;34m\u001b[0m\u001b[0;34m\u001b[0m\u001b[0;34m\u001b[0m\u001b[0m\n\u001b[0;32m-> 2506\u001b[0;31m         \u001b[0msize\u001b[0m \u001b[0;34m=\u001b[0m \u001b[0mtorch\u001b[0m\u001b[0;34m.\u001b[0m\u001b[0mtensor\u001b[0m\u001b[0;34m(\u001b[0m\u001b[0mtensor\u001b[0m\u001b[0;34m.\u001b[0m\u001b[0mshape\u001b[0m\u001b[0;34m,\u001b[0m \u001b[0mdevice\u001b[0m\u001b[0;34m=\u001b[0m\u001b[0mtensor\u001b[0m\u001b[0;34m.\u001b[0m\u001b[0mdevice\u001b[0m\u001b[0;34m)\u001b[0m\u001b[0;34m[\u001b[0m\u001b[0;32mNone\u001b[0m\u001b[0;34m]\u001b[0m\u001b[0;34m\u001b[0m\u001b[0;34m\u001b[0m\u001b[0m\n\u001b[0m\u001b[1;32m   2507\u001b[0m         \u001b[0msizes\u001b[0m \u001b[0;34m=\u001b[0m \u001b[0mself\u001b[0m\u001b[0;34m.\u001b[0m\u001b[0m_nested_gather\u001b[0m\u001b[0;34m(\u001b[0m\u001b[0msize\u001b[0m\u001b[0;34m)\u001b[0m\u001b[0;34m.\u001b[0m\u001b[0mcpu\u001b[0m\u001b[0;34m(\u001b[0m\u001b[0;34m)\u001b[0m\u001b[0;34m\u001b[0m\u001b[0;34m\u001b[0m\u001b[0m\n\u001b[1;32m   2508\u001b[0m \u001b[0;34m\u001b[0m\u001b[0m\n",
      "\u001b[0;31mKeyboardInterrupt\u001b[0m: "
     ]
    }
   ],
   "source": [
    "predictions = trainer.predict(encoded_dataset[\"valid\"])\n",
    "print(predictions.predictions.shape, predictions.label_ids.shape)"
   ]
  },
  {
   "cell_type": "code",
   "execution_count": null,
   "metadata": {
    "colab": {
     "base_uri": "https://localhost:8080/"
    },
    "executionInfo": {
     "elapsed": 3731,
     "status": "ok",
     "timestamp": 1644896806755,
     "user": {
      "displayName": "Clyde",
      "photoUrl": "https://lh3.googleusercontent.com/a-/AOh14GjoLYXAGsV_YRhlDcFT578Eid_TYHtCYj4giy6Svw=s64",
      "userId": "17715859681118314357"
     },
     "user_tz": -480
    },
    "id": "JyJYdWAnSXIL",
    "outputId": "16c2e010-0291-459d-8fc2-222e2a936d35"
   },
   "outputs": [],
   "source": [
    "compute_metrics([predictions.predictions, predictions.label_ids])"
   ]
  },
  {
   "cell_type": "markdown",
   "metadata": {},
   "source": [
    "# Loading a Saved Model\n",
    "Ok let's select a model to load in from our saved checkpoints."
   ]
  },
  {
   "cell_type": "code",
   "execution_count": 17,
   "metadata": {
    "tags": []
   },
   "outputs": [
    {
     "data": {
      "text/plain": [
       "DistilBertForSequenceClassification(\n",
       "  (distilbert): DistilBertModel(\n",
       "    (embeddings): Embeddings(\n",
       "      (word_embeddings): Embedding(30522, 768, padding_idx=0)\n",
       "      (position_embeddings): Embedding(512, 768)\n",
       "      (LayerNorm): LayerNorm((768,), eps=1e-12, elementwise_affine=True)\n",
       "      (dropout): Dropout(p=0.1, inplace=False)\n",
       "    )\n",
       "    (transformer): Transformer(\n",
       "      (layer): ModuleList(\n",
       "        (0): TransformerBlock(\n",
       "          (attention): MultiHeadSelfAttention(\n",
       "            (dropout): Dropout(p=0.1, inplace=False)\n",
       "            (q_lin): Linear(in_features=768, out_features=768, bias=True)\n",
       "            (k_lin): Linear(in_features=768, out_features=768, bias=True)\n",
       "            (v_lin): Linear(in_features=768, out_features=768, bias=True)\n",
       "            (out_lin): Linear(in_features=768, out_features=768, bias=True)\n",
       "          )\n",
       "          (sa_layer_norm): LayerNorm((768,), eps=1e-12, elementwise_affine=True)\n",
       "          (ffn): FFN(\n",
       "            (dropout): Dropout(p=0.1, inplace=False)\n",
       "            (lin1): Linear(in_features=768, out_features=3072, bias=True)\n",
       "            (lin2): Linear(in_features=3072, out_features=768, bias=True)\n",
       "          )\n",
       "          (output_layer_norm): LayerNorm((768,), eps=1e-12, elementwise_affine=True)\n",
       "        )\n",
       "        (1): TransformerBlock(\n",
       "          (attention): MultiHeadSelfAttention(\n",
       "            (dropout): Dropout(p=0.1, inplace=False)\n",
       "            (q_lin): Linear(in_features=768, out_features=768, bias=True)\n",
       "            (k_lin): Linear(in_features=768, out_features=768, bias=True)\n",
       "            (v_lin): Linear(in_features=768, out_features=768, bias=True)\n",
       "            (out_lin): Linear(in_features=768, out_features=768, bias=True)\n",
       "          )\n",
       "          (sa_layer_norm): LayerNorm((768,), eps=1e-12, elementwise_affine=True)\n",
       "          (ffn): FFN(\n",
       "            (dropout): Dropout(p=0.1, inplace=False)\n",
       "            (lin1): Linear(in_features=768, out_features=3072, bias=True)\n",
       "            (lin2): Linear(in_features=3072, out_features=768, bias=True)\n",
       "          )\n",
       "          (output_layer_norm): LayerNorm((768,), eps=1e-12, elementwise_affine=True)\n",
       "        )\n",
       "        (2): TransformerBlock(\n",
       "          (attention): MultiHeadSelfAttention(\n",
       "            (dropout): Dropout(p=0.1, inplace=False)\n",
       "            (q_lin): Linear(in_features=768, out_features=768, bias=True)\n",
       "            (k_lin): Linear(in_features=768, out_features=768, bias=True)\n",
       "            (v_lin): Linear(in_features=768, out_features=768, bias=True)\n",
       "            (out_lin): Linear(in_features=768, out_features=768, bias=True)\n",
       "          )\n",
       "          (sa_layer_norm): LayerNorm((768,), eps=1e-12, elementwise_affine=True)\n",
       "          (ffn): FFN(\n",
       "            (dropout): Dropout(p=0.1, inplace=False)\n",
       "            (lin1): Linear(in_features=768, out_features=3072, bias=True)\n",
       "            (lin2): Linear(in_features=3072, out_features=768, bias=True)\n",
       "          )\n",
       "          (output_layer_norm): LayerNorm((768,), eps=1e-12, elementwise_affine=True)\n",
       "        )\n",
       "        (3): TransformerBlock(\n",
       "          (attention): MultiHeadSelfAttention(\n",
       "            (dropout): Dropout(p=0.1, inplace=False)\n",
       "            (q_lin): Linear(in_features=768, out_features=768, bias=True)\n",
       "            (k_lin): Linear(in_features=768, out_features=768, bias=True)\n",
       "            (v_lin): Linear(in_features=768, out_features=768, bias=True)\n",
       "            (out_lin): Linear(in_features=768, out_features=768, bias=True)\n",
       "          )\n",
       "          (sa_layer_norm): LayerNorm((768,), eps=1e-12, elementwise_affine=True)\n",
       "          (ffn): FFN(\n",
       "            (dropout): Dropout(p=0.1, inplace=False)\n",
       "            (lin1): Linear(in_features=768, out_features=3072, bias=True)\n",
       "            (lin2): Linear(in_features=3072, out_features=768, bias=True)\n",
       "          )\n",
       "          (output_layer_norm): LayerNorm((768,), eps=1e-12, elementwise_affine=True)\n",
       "        )\n",
       "        (4): TransformerBlock(\n",
       "          (attention): MultiHeadSelfAttention(\n",
       "            (dropout): Dropout(p=0.1, inplace=False)\n",
       "            (q_lin): Linear(in_features=768, out_features=768, bias=True)\n",
       "            (k_lin): Linear(in_features=768, out_features=768, bias=True)\n",
       "            (v_lin): Linear(in_features=768, out_features=768, bias=True)\n",
       "            (out_lin): Linear(in_features=768, out_features=768, bias=True)\n",
       "          )\n",
       "          (sa_layer_norm): LayerNorm((768,), eps=1e-12, elementwise_affine=True)\n",
       "          (ffn): FFN(\n",
       "            (dropout): Dropout(p=0.1, inplace=False)\n",
       "            (lin1): Linear(in_features=768, out_features=3072, bias=True)\n",
       "            (lin2): Linear(in_features=3072, out_features=768, bias=True)\n",
       "          )\n",
       "          (output_layer_norm): LayerNorm((768,), eps=1e-12, elementwise_affine=True)\n",
       "        )\n",
       "        (5): TransformerBlock(\n",
       "          (attention): MultiHeadSelfAttention(\n",
       "            (dropout): Dropout(p=0.1, inplace=False)\n",
       "            (q_lin): Linear(in_features=768, out_features=768, bias=True)\n",
       "            (k_lin): Linear(in_features=768, out_features=768, bias=True)\n",
       "            (v_lin): Linear(in_features=768, out_features=768, bias=True)\n",
       "            (out_lin): Linear(in_features=768, out_features=768, bias=True)\n",
       "          )\n",
       "          (sa_layer_norm): LayerNorm((768,), eps=1e-12, elementwise_affine=True)\n",
       "          (ffn): FFN(\n",
       "            (dropout): Dropout(p=0.1, inplace=False)\n",
       "            (lin1): Linear(in_features=768, out_features=3072, bias=True)\n",
       "            (lin2): Linear(in_features=3072, out_features=768, bias=True)\n",
       "          )\n",
       "          (output_layer_norm): LayerNorm((768,), eps=1e-12, elementwise_affine=True)\n",
       "        )\n",
       "      )\n",
       "    )\n",
       "  )\n",
       "  (pre_classifier): Linear(in_features=768, out_features=768, bias=True)\n",
       "  (classifier): Linear(in_features=768, out_features=7, bias=True)\n",
       "  (dropout): Dropout(p=0.2, inplace=False)\n",
       ")"
      ]
     },
     "execution_count": 17,
     "metadata": {},
     "output_type": "execute_result"
    }
   ],
   "source": [
    "model_path = r\"models_gitignored/distilbert-base-uncased-finetuned-sentence-classification/checkpoint-12626\"\n",
    "loaded_model = AutoModelForSequenceClassification.from_pretrained(model_path, id2label=category_codes)\n",
    "loaded_model"
   ]
  },
  {
   "cell_type": "markdown",
   "metadata": {},
   "source": [
    "Remember to run the code in [Data Retrieval and Generation](./Data%20Retrieval%20and%20Generation.ipynb) if the dataset is not already there."
   ]
  },
  {
   "cell_type": "code",
   "execution_count": 18,
   "metadata": {},
   "outputs": [
    {
     "name": "stderr",
     "output_type": "stream",
     "text": [
      "Using custom data configuration default-b1b589714371b9df\n",
      "Reusing dataset text (C:\\Users\\weipy\\.cache\\huggingface\\datasets\\text\\default-b1b589714371b9df\\0.0.0\\d86c40dad297bdddf277b406c6a59f0250b5318c400bf23d420a31aff88c84c4)\n"
     ]
    },
    {
     "data": {
      "application/vnd.jupyter.widget-view+json": {
       "model_id": "f3df51bd9d814b6fa83ffb7bfa2ed8d6",
       "version_major": 2,
       "version_minor": 0
      },
      "text/plain": [
       "  0%|          | 0/1 [00:00<?, ?it/s]"
      ]
     },
     "metadata": {},
     "output_type": "display_data"
    },
    {
     "name": "stderr",
     "output_type": "stream",
     "text": [
      "Loading cached processed dataset at C:\\Users\\weipy\\.cache\\huggingface\\datasets\\text\\default-b1b589714371b9df\\0.0.0\\d86c40dad297bdddf277b406c6a59f0250b5318c400bf23d420a31aff88c84c4\\cache-3d529bd4e71ccc1f.arrow\n"
     ]
    },
    {
     "data": {
      "text/plain": [
       "{'text': 'But can having Covid itself increase the risk of developing mental health problems? A large new study suggests it can.'}"
      ]
     },
     "execution_count": 18,
     "metadata": {},
     "output_type": "execute_result"
    }
   ],
   "source": [
    "articles_dataset = load_dataset(\"text\", data_files={\"valid\":[r\"datagen/nytimes/covid-depression-anxiety.txt\"]})['valid']\n",
    "\n",
    "# filter out empty strings\n",
    "articles_dataset = articles_dataset.filter(lambda example: example['text'])\n",
    "\n",
    "articles_dataset[1]"
   ]
  },
  {
   "cell_type": "markdown",
   "metadata": {},
   "source": [
    "Define the pipeline using the loaded model."
   ]
  },
  {
   "cell_type": "code",
   "execution_count": 22,
   "metadata": {},
   "outputs": [
    {
     "data": {
      "text/plain": [
       "<transformers.pipelines.text_classification.TextClassificationPipeline at 0x1a8ab1417c0>"
      ]
     },
     "execution_count": 22,
     "metadata": {},
     "output_type": "execute_result"
    }
   ],
   "source": [
    "pipe = pipeline(\"text-classification\", model=loaded_model, tokenizer=tokenizer)\n",
    "pipe"
   ]
  },
  {
   "cell_type": "code",
   "execution_count": 23,
   "metadata": {
    "tags": []
   },
   "outputs": [
    {
     "data": {
      "application/vnd.jupyter.widget-view+json": {
       "model_id": "faec3c5523bd4344b8f9481d3779839a",
       "version_major": 2,
       "version_minor": 0
      },
      "text/plain": [
       "  0%|          | 0/27 [00:00<?, ?it/s]"
      ]
     },
     "metadata": {},
     "output_type": "display_data"
    },
    {
     "name": "stdout",
     "output_type": "stream",
     "text": [
      "Social isolation, economic stress, loss of loved ones and other struggles during the pandemic have contributed to rising mental health issues like anxiety and depression. {'label': 'Claim', 'score': 0.5566884279251099}\n",
      "But can having Covid itself increase the risk of developing mental health problems? A large new study suggests it can. {'label': 'Rebuttal', 'score': 0.8751872181892395}\n",
      "The study, published Wednesday in the journal The BMJ, analyzed records of nearly 154,000 Covid patients in the Veterans Health Administration system and compared their experience in the year after they recovered from their initial infection with that of a similar group of people who did not contract the virus. {'label': 'Evidence', 'score': 0.7757354974746704}\n",
      "The study included only patients who had no mental health diagnoses or treatment for at least two years before becoming infected with the coronavirus, allowing researchers to focus on psychiatric diagnoses and treatment that occurred after coronavirus infection. {'label': 'Evidence', 'score': 0.46088334918022156}\n",
      "People who had Covid were 39 percent more likely to be diagnosed with depression and 35 percent more likely to be diagnosed with anxiety over the months following infection than people without Covid during the same period, the study found. Covid patients were 38 percent more likely to be diagnosed with stress and adjustment disorders and 41 percent more likely to be diagnosed with sleep disorders than uninfected people. {'label': 'Evidence', 'score': 0.9850339293479919}\n",
      "“There appears to be a clear excess of mental health diagnoses in the months after Covid,” said Dr. Paul Harrison, a professor of psychiatry at the University of Oxford, who was not involved in the study. He said the results echoed the emerging picture from other research, including a 2021 study on which he was an author, and “it strengthens the case that there is something about Covid that is leaving people at greater risk of common mental health conditions.” {'label': 'Evidence', 'score': 0.9399288892745972}\n",
      "The data does not suggest that most Covid patients will develop mental health symptoms. Only between 4.4 percent and 5.6 percent of those in the study received diagnoses of depression, anxiety or stress and adjustment disorders. {'label': 'Evidence', 'score': 0.6379218101501465}\n",
      "“It’s not an epidemic of anxiety and depression, fortunately,” Dr. Harrison said. “But it’s not trivial.” {'label': 'Evidence', 'score': 0.31222933530807495}\n",
      "Researchers also found that Covid patients were 80 percent more likely to develop cognitive problems like brain fog, confusion and forgetfulness than those who didn’t have Covid. They were 34 percent more likely to develop opioid use disorders, possibly from drugs prescribed for pain, and 20 percent more likely to develop non-opioid substance use disorders including alcoholism, the study reported. {'label': 'Evidence', 'score': 0.9768944382667542}\n",
      "After having Covid, people were 55 percent more likely to be taking prescribed antidepressants and 65 percent more likely to be taking prescribed anti-anxiety medications than contemporaries without Covid, the study found. {'label': 'Evidence', 'score': 0.6104845404624939}\n",
      "Overall, more than 18 percent of the Covid patients received a diagnosis of or prescription for a neuropsychiatric issue in the following year, compared with less than 12 percent of the non-Covid group. Covid patients were 60 percent more likely to fall into those categories than people who didn’t have Covid, the study found. {'label': 'Evidence', 'score': 0.9274622201919556}\n",
      "The study found that patients hospitalized for Covid were more likely to be diagnosed with mental health issues than those with less serious coronavirus infections. But people with mild initial infections were still at greater risk than people without Covid. {'label': 'Evidence', 'score': 0.7578178644180298}\n",
      "“Some people always argue that ‘Oh, well, maybe people are depressed because they needed to go to the hospital and they spent like a week in the I.C.U.,’” said the senior author of the study, Dr. Ziyad Al-Aly, chief of research and development at the V.A. St. Louis Health Care System and a clinical epidemiologist at Washington University in St. Louis. “In people who weren’t hospitalized for Covid-19, the risk was lower but certainly significant. And most people don’t need to be hospitalized, so that is really the group that’s representative of most people with Covid-19.” {'label': 'Counterclaim', 'score': 0.5442946553230286}\n",
      "The team also compared mental health diagnoses for people hospitalized for Covid with those hospitalized for any other reason. “Whether people were hospitalized for heart attacks or chemotherapy or whatever other conditions, the Covid-19 group exhibited a higher risk,” Dr. Al-Aly said. {'label': 'Evidence', 'score': 0.9376354217529297}\n",
      "The study involved electronic medical records of 153,848 adults who tested positive for the coronavirus between March 1, 2020, and Jan. 15, 2021, and survived for at least 30 days. Because it was early in the pandemic, very few were vaccinated before infection. The patients were followed until Nov. 30, 2021. Dr. Al-Aly said his team was planning to analyze whether subsequent vaccination modified people’s mental health symptoms, as well as other post-Covid medical issues the group has studied. {'label': 'Evidence', 'score': 0.9923413991928101}\n",
      "The Covid patients were compared with more than 5.6 million patients in the Veterans system who did not test positive for the coronavirus and more than 5.8 million patients from before the pandemic, in the period spanning March 2018 through January 2019. To try to gauge the mental health impact of Covid-19 against that of another virus, the patients were also compared with about 72,000 patients who had the flu during the two and a half years before the pandemic. (Dr. Al-Aly said there were too few flu cases during the pandemic to provide a contemporaneous comparison.) {'label': 'Evidence', 'score': 0.9939991235733032}\n",
      "The researchers tried to minimize differences between groups by adjusting for many demographic characteristics, pre-Covid health conditions, residence in nursing homes and other variables. {'label': 'Claim', 'score': 0.6047168374061584}\n",
      "In the year after their infection, the Covid patients had higher rates of mental health diagnoses than the other groups. {'label': 'Claim', 'score': 0.789717972278595}\n",
      "“It’s not really surprising to me because we’ve been seeing this,” said Dr. Maura Boldrini, an associate professor of psychiatry at NewYork-Presbyterian Columbia University Medical Center. “It’s striking to me how many times we’ve seen people with these new symptoms with no previous psychiatric history.” {'label': 'Evidence', 'score': 0.7930557727813721}\n",
      "Most veterans in the study were men, three-quarters were white and their average age was 63, so the findings may not apply to all Americans. Still, the study included over 1.3 million women and 2.1 million Black patients, and Dr. Al-Aly said “we found evidence of increased risk regardless of age, race or gender.” {'label': 'Evidence', 'score': 0.9583374857902527}\n",
      "There are several possible reasons for the increase in mental health diagnoses, Dr. Al-Aly and outside experts said. Dr. Boldrini said she believed the symptoms were most likely influenced by both biological factors and the psychological stresses associated with having an illness. {'label': 'Evidence', 'score': 0.6691733002662659}\n",
      "“In psychiatry, it almost always is an interplay,” she said. {'label': 'Claim', 'score': 0.7392911314964294}\n",
      "Research, including brain autopsies of patients who died of Covid-19, has found evidence that Covid infection can generate inflammation or tiny blood clots in the brain, and can cause small and large strokes, said Dr. Boldrini, who has conducted some of these studies. In some people, the immune response that is activated to fight against a coronavirus infection may not shut down effectively once the infection is gone, which can fuel inflammation, she said. {'label': 'Evidence', 'score': 0.987250030040741}\n",
      "“Inflammatory markers can disrupt the ability of the brain to function in many ways, including the ability of the brain to make serotonin, which is fundamental for mood and sleep,” Dr. Boldrini said. {'label': 'Evidence', 'score': 0.6677616238594055}\n",
      "By themselves, such brain changes may or may not cause psychological problems. But, if someone is experiencing stress from having felt physically ill or because having Covid disrupted their lives and routines, she said, “you may be more prone to not being able to cope because your brain is not functioning 100 percent.” {'label': 'Evidence', 'score': 0.8959760665893555}\n",
      "Dr. Harrison, who has conducted other studies with large electronic medical databases, noted that such analyses can miss more granular information about patients. He also said that some people in the comparison groups might have had Covid and not been tested to confirm it, and that some Covid patients might have been more likely to receive diagnoses because they were more worried about their health after Covid or because doctors were quicker to identify psychological symptoms. {'label': 'Evidence', 'score': 0.9693528413772583}\n",
      "“There’s no one analysis that tells you the whole story,” Dr. Al-Aly said. “Maybe all of us or most of us experienced some sort of an emotional distress or mental health stress or some sleep problem,” he added. “But people with Covid did worse.” {'label': 'Evidence', 'score': 0.806209921836853}\n"
     ]
    }
   ],
   "source": [
    "i = 0\n",
    "for out in tqdm(pipe(KeyDataset(articles_dataset, \"text\"))):\n",
    "    print(articles_dataset[i]['text'], out)\n",
    "    i+=1"
   ]
  },
  {
   "cell_type": "code",
   "execution_count": 27,
   "metadata": {},
   "outputs": [
    {
     "data": {
      "application/vnd.jupyter.widget-view+json": {
       "model_id": "b6f5487f5ee640379f1181454a4d8ae7",
       "version_major": 2,
       "version_minor": 0
      },
      "text/plain": [
       "  0%|          | 0/27 [00:00<?, ?it/s]"
      ]
     },
     "metadata": {},
     "output_type": "display_data"
    },
    {
     "data": {
      "text/html": [
       "<font style=\"background-color: #FEF8DD;\">Social isolation, economic stress, loss of loved ones and other struggles during the pandemic have contributed to rising mental health issues like anxiety and depression. </font><font style=\"background-color: #D6CDEA;\">But can having Covid itself increase the risk of developing mental health problems? A large new study suggests it can. </font><font style=\"background-color: #E1F8DC;\">The study, published Wednesday in the journal The BMJ, analyzed records of nearly 154,000 Covid patients in the Veterans Health Administration system and compared their experience in the year after they recovered from their initial infection with that of a similar group of people who did not contract the virus. </font><font style=\"background-color: #E1F8DC;\">The study included only patients who had no mental health diagnoses or treatment for at least two years before becoming infected with the coronavirus, allowing researchers to focus on psychiatric diagnoses and treatment that occurred after coronavirus infection. </font><font style=\"background-color: #E1F8DC;\">People who had Covid were 39 percent more likely to be diagnosed with depression and 35 percent more likely to be diagnosed with anxiety over the months following infection than people without Covid during the same period, the study found. Covid patients were 38 percent more likely to be diagnosed with stress and adjustment disorders and 41 percent more likely to be diagnosed with sleep disorders than uninfected people. </font><font style=\"background-color: #E1F8DC;\">“There appears to be a clear excess of mental health diagnoses in the months after Covid,” said Dr. Paul Harrison, a professor of psychiatry at the University of Oxford, who was not involved in the study. He said the results echoed the emerging picture from other research, including a 2021 study on which he was an author, and “it strengthens the case that there is something about Covid that is leaving people at greater risk of common mental health conditions.” </font><font style=\"background-color: #E1F8DC;\">The data does not suggest that most Covid patients will develop mental health symptoms. Only between 4.4 percent and 5.6 percent of those in the study received diagnoses of depression, anxiety or stress and adjustment disorders. </font><font style=\"background-color: #E1F8DC;\">“It’s not an epidemic of anxiety and depression, fortunately,” Dr. Harrison said. “But it’s not trivial.” </font><font style=\"background-color: #E1F8DC;\">Researchers also found that Covid patients were 80 percent more likely to develop cognitive problems like brain fog, confusion and forgetfulness than those who didn’t have Covid. They were 34 percent more likely to develop opioid use disorders, possibly from drugs prescribed for pain, and 20 percent more likely to develop non-opioid substance use disorders including alcoholism, the study reported. </font><font style=\"background-color: #E1F8DC;\">After having Covid, people were 55 percent more likely to be taking prescribed antidepressants and 65 percent more likely to be taking prescribed anti-anxiety medications than contemporaries without Covid, the study found. </font><font style=\"background-color: #E1F8DC;\">Overall, more than 18 percent of the Covid patients received a diagnosis of or prescription for a neuropsychiatric issue in the following year, compared with less than 12 percent of the non-Covid group. Covid patients were 60 percent more likely to fall into those categories than people who didn’t have Covid, the study found. </font><font style=\"background-color: #E1F8DC;\">The study found that patients hospitalized for Covid were more likely to be diagnosed with mental health issues than those with less serious coronavirus infections. But people with mild initial infections were still at greater risk than people without Covid. </font><font style=\"background-color: #F7D8BA;\">“Some people always argue that ‘Oh, well, maybe people are depressed because they needed to go to the hospital and they spent like a week in the I.C.U.,’” said the senior author of the study, Dr. Ziyad Al-Aly, chief of research and development at the V.A. St. Louis Health Care System and a clinical epidemiologist at Washington University in St. Louis. “In people who weren’t hospitalized for Covid-19, the risk was lower but certainly significant. And most people don’t need to be hospitalized, so that is really the group that’s representative of most people with Covid-19.” </font><font style=\"background-color: #E1F8DC;\">The team also compared mental health diagnoses for people hospitalized for Covid with those hospitalized for any other reason. “Whether people were hospitalized for heart attacks or chemotherapy or whatever other conditions, the Covid-19 group exhibited a higher risk,” Dr. Al-Aly said. </font><font style=\"background-color: #E1F8DC;\">The study involved electronic medical records of 153,848 adults who tested positive for the coronavirus between March 1, 2020, and Jan. 15, 2021, and survived for at least 30 days. Because it was early in the pandemic, very few were vaccinated before infection. The patients were followed until Nov. 30, 2021. Dr. Al-Aly said his team was planning to analyze whether subsequent vaccination modified people’s mental health symptoms, as well as other post-Covid medical issues the group has studied. </font><font style=\"background-color: #E1F8DC;\">The Covid patients were compared with more than 5.6 million patients in the Veterans system who did not test positive for the coronavirus and more than 5.8 million patients from before the pandemic, in the period spanning March 2018 through January 2019. To try to gauge the mental health impact of Covid-19 against that of another virus, the patients were also compared with about 72,000 patients who had the flu during the two and a half years before the pandemic. (Dr. Al-Aly said there were too few flu cases during the pandemic to provide a contemporaneous comparison.) </font><font style=\"background-color: #FEF8DD;\">The researchers tried to minimize differences between groups by adjusting for many demographic characteristics, pre-Covid health conditions, residence in nursing homes and other variables. </font><font style=\"background-color: #FEF8DD;\">In the year after their infection, the Covid patients had higher rates of mental health diagnoses than the other groups. </font><font style=\"background-color: #E1F8DC;\">“It’s not really surprising to me because we’ve been seeing this,” said Dr. Maura Boldrini, an associate professor of psychiatry at NewYork-Presbyterian Columbia University Medical Center. “It’s striking to me how many times we’ve seen people with these new symptoms with no previous psychiatric history.” </font><font style=\"background-color: #E1F8DC;\">Most veterans in the study were men, three-quarters were white and their average age was 63, so the findings may not apply to all Americans. Still, the study included over 1.3 million women and 2.1 million Black patients, and Dr. Al-Aly said “we found evidence of increased risk regardless of age, race or gender.” </font><font style=\"background-color: #E1F8DC;\">There are several possible reasons for the increase in mental health diagnoses, Dr. Al-Aly and outside experts said. Dr. Boldrini said she believed the symptoms were most likely influenced by both biological factors and the psychological stresses associated with having an illness. </font><font style=\"background-color: #FEF8DD;\">“In psychiatry, it almost always is an interplay,” she said. </font><font style=\"background-color: #E1F8DC;\">Research, including brain autopsies of patients who died of Covid-19, has found evidence that Covid infection can generate inflammation or tiny blood clots in the brain, and can cause small and large strokes, said Dr. Boldrini, who has conducted some of these studies. In some people, the immune response that is activated to fight against a coronavirus infection may not shut down effectively once the infection is gone, which can fuel inflammation, she said. </font><font style=\"background-color: #E1F8DC;\">“Inflammatory markers can disrupt the ability of the brain to function in many ways, including the ability of the brain to make serotonin, which is fundamental for mood and sleep,” Dr. Boldrini said. </font><font style=\"background-color: #E1F8DC;\">By themselves, such brain changes may or may not cause psychological problems. But, if someone is experiencing stress from having felt physically ill or because having Covid disrupted their lives and routines, she said, “you may be more prone to not being able to cope because your brain is not functioning 100 percent.” </font><font style=\"background-color: #E1F8DC;\">Dr. Harrison, who has conducted other studies with large electronic medical databases, noted that such analyses can miss more granular information about patients. He also said that some people in the comparison groups might have had Covid and not been tested to confirm it, and that some Covid patients might have been more likely to receive diagnoses because they were more worried about their health after Covid or because doctors were quicker to identify psychological symptoms. </font><font style=\"background-color: #E1F8DC;\">“There’s no one analysis that tells you the whole story,” Dr. Al-Aly said. “Maybe all of us or most of us experienced some sort of an emotional distress or mental health stress or some sleep problem,” he added. “But people with Covid did worse.” </font><br/><br/><br/>"
      ],
      "text/plain": [
       "<IPython.core.display.HTML object>"
      ]
     },
     "metadata": {},
     "output_type": "display_data"
    }
   ],
   "source": [
    "lst = []\n",
    "for i, out in enumerate(tqdm(pipe(KeyDataset(articles_dataset, \"text\")))):\n",
    "    #print(articles_dataset[i]['text'], out)\n",
    "    lst.append((articles_dataset[i]['text'], out))\n",
    "\n",
    "def showLegend():\n",
    "    s = \"<h2>Legend</h2><br>\"\n",
    "    for label, color in zip(labels, colors):\n",
    "        s += \"<font style=\\\"background-color: %s;\\\">%s</font><br>\" % (color, label)\n",
    "    display(HTML(s+\"<br/><br/><br/>\"))\n",
    "\n",
    "showLegend()\n",
    "    \n",
    "df = pd.DataFrame([{\"text\":i, **j} for i, j in lst])\n",
    "\n",
    "labels = ['Lead', 'Position', 'Evidence', 'Claim', 'Concluding Statement', 'Counterclaim', 'Rebuttal']\n",
    "colors = [\"#ACDDDE\", \"#CAF1DE\", \"#E1F8DC\", \"#FEF8DD\", \"#FFE7C7\", \"#F7D8BA\", \"#D6CDEA\"]\n",
    "\n",
    "s = \"\"\n",
    "for txt,lbl in zip(df.text.tolist(),df.label.tolist()):\n",
    "    \n",
    "    s += \"<font style=\\\"background-color: %s;\\\">%s </font>\" % (colors[labels.index(lbl)], txt)\n",
    "display(HTML(s+\"<br/><br/><br/>\"))"
   ]
  },
  {
   "cell_type": "code",
   "execution_count": 28,
   "metadata": {},
   "outputs": [
    {
     "data": {
      "text/html": [
       "<h2>Legend</h2><br><font style=\"background-color: #ACDDDE;\">Lead</font><br><font style=\"background-color: #CAF1DE;\">Position</font><br><font style=\"background-color: #E1F8DC;\">Evidence</font><br><font style=\"background-color: #FEF8DD;\">Claim</font><br><font style=\"background-color: #FFE7C7;\">Concluding Statement</font><br><font style=\"background-color: #F7D8BA;\">Counterclaim</font><br><font style=\"background-color: #D6CDEA;\">Rebuttal</font><br><br/><br/><br/>"
      ],
      "text/plain": [
       "<IPython.core.display.HTML object>"
      ]
     },
     "metadata": {},
     "output_type": "display_data"
    }
   ],
   "source": []
  }
 ],
 "metadata": {
  "accelerator": "GPU",
  "colab": {
   "authorship_tag": "ABX9TyOaEXgW4TIhD+XvWAMh4JvT",
   "collapsed_sections": [],
   "mount_file_id": "1AmKG-OioyPsvI0g7pUUfXDb_4N6klq67",
   "name": "HuggingFaceTransformers.ipynb",
   "provenance": []
  },
  "kernelspec": {
   "display_name": "Python 3 (ipykernel)",
   "language": "python",
   "name": "python3"
  },
  "language_info": {
   "codemirror_mode": {
    "name": "ipython",
    "version": 3
   },
   "file_extension": ".py",
   "mimetype": "text/x-python",
   "name": "python",
   "nbconvert_exporter": "python",
   "pygments_lexer": "ipython3",
   "version": "3.9.7"
  },
  "toc": {
   "base_numbering": 1,
   "nav_menu": {},
   "number_sections": true,
   "sideBar": true,
   "skip_h1_title": false,
   "title_cell": "Table of Contents",
   "title_sidebar": "Contents",
   "toc_cell": false,
   "toc_position": {},
   "toc_section_display": true,
   "toc_window_display": false
  },
  "varInspector": {
   "cols": {
    "lenName": 16,
    "lenType": 16,
    "lenVar": 40
   },
   "kernels_config": {
    "python": {
     "delete_cmd_postfix": "",
     "delete_cmd_prefix": "del ",
     "library": "var_list.py",
     "varRefreshCmd": "print(var_dic_list())"
    },
    "r": {
     "delete_cmd_postfix": ") ",
     "delete_cmd_prefix": "rm(",
     "library": "var_list.r",
     "varRefreshCmd": "cat(var_dic_list()) "
    }
   },
   "types_to_exclude": [
    "module",
    "function",
    "builtin_function_or_method",
    "instance",
    "_Feature"
   ],
   "window_display": false
  },
  "widgets": {
   "application/vnd.jupyter.widget-state+json": {
    "00ba40156bf24502a3013ee617392fb4": {
     "model_module": "@jupyter-widgets/controls",
     "model_module_version": "1.5.0",
     "model_name": "FloatProgressModel",
     "state": {
      "_dom_classes": [],
      "_model_module": "@jupyter-widgets/controls",
      "_model_module_version": "1.5.0",
      "_model_name": "FloatProgressModel",
      "_view_count": null,
      "_view_module": "@jupyter-widgets/controls",
      "_view_module_version": "1.5.0",
      "_view_name": "ProgressView",
      "bar_style": "success",
      "description": "",
      "description_tooltip": null,
      "layout": "IPY_MODEL_3a028690f4784f13bd679de43762c879",
      "max": 15,
      "min": 0,
      "orientation": "horizontal",
      "style": "IPY_MODEL_d095669f1b2442578d0d1f8d8aebc233",
      "value": 15
     }
    },
    "07ce1385b1f74ad385c96b092a8101cc": {
     "model_module": "@jupyter-widgets/controls",
     "model_module_version": "1.5.0",
     "model_name": "ProgressStyleModel",
     "state": {
      "_model_module": "@jupyter-widgets/controls",
      "_model_module_version": "1.5.0",
      "_model_name": "ProgressStyleModel",
      "_view_count": null,
      "_view_module": "@jupyter-widgets/base",
      "_view_module_version": "1.2.0",
      "_view_name": "StyleView",
      "bar_color": null,
      "description_width": ""
     }
    },
    "09335e7f16ed4ca79227a832a1ca3b4a": {
     "model_module": "@jupyter-widgets/controls",
     "model_module_version": "1.5.0",
     "model_name": "HBoxModel",
     "state": {
      "_dom_classes": [],
      "_model_module": "@jupyter-widgets/controls",
      "_model_module_version": "1.5.0",
      "_model_name": "HBoxModel",
      "_view_count": null,
      "_view_module": "@jupyter-widgets/controls",
      "_view_module_version": "1.5.0",
      "_view_name": "HBoxView",
      "box_style": "",
      "children": [
       "IPY_MODEL_88d8830e26b24acc9ce1edaa77c9a887",
       "IPY_MODEL_d2dade9ee99b48148185a021707c3db5",
       "IPY_MODEL_fec733c5e82c478e92296517acda6127"
      ],
      "layout": "IPY_MODEL_d56f2d84486b479296b949e17be5ed81"
     }
    },
    "10348be32e1a491b86e4cd76f9ce118c": {
     "model_module": "@jupyter-widgets/base",
     "model_module_version": "1.2.0",
     "model_name": "LayoutModel",
     "state": {
      "_model_module": "@jupyter-widgets/base",
      "_model_module_version": "1.2.0",
      "_model_name": "LayoutModel",
      "_view_count": null,
      "_view_module": "@jupyter-widgets/base",
      "_view_module_version": "1.2.0",
      "_view_name": "LayoutView",
      "align_content": null,
      "align_items": null,
      "align_self": null,
      "border": null,
      "bottom": null,
      "display": null,
      "flex": null,
      "flex_flow": null,
      "grid_area": null,
      "grid_auto_columns": null,
      "grid_auto_flow": null,
      "grid_auto_rows": null,
      "grid_column": null,
      "grid_gap": null,
      "grid_row": null,
      "grid_template_areas": null,
      "grid_template_columns": null,
      "grid_template_rows": null,
      "height": null,
      "justify_content": null,
      "justify_items": null,
      "left": null,
      "margin": null,
      "max_height": null,
      "max_width": null,
      "min_height": null,
      "min_width": null,
      "object_fit": null,
      "object_position": null,
      "order": null,
      "overflow": null,
      "overflow_x": null,
      "overflow_y": null,
      "padding": null,
      "right": null,
      "top": null,
      "visibility": null,
      "width": null
     }
    },
    "1a21a49a080f41759229719753f409e1": {
     "model_module": "@jupyter-widgets/controls",
     "model_module_version": "1.5.0",
     "model_name": "HTMLModel",
     "state": {
      "_dom_classes": [],
      "_model_module": "@jupyter-widgets/controls",
      "_model_module_version": "1.5.0",
      "_model_name": "HTMLModel",
      "_view_count": null,
      "_view_module": "@jupyter-widgets/controls",
      "_view_module_version": "1.5.0",
      "_view_name": "HTMLView",
      "description": "",
      "description_tooltip": null,
      "layout": "IPY_MODEL_10348be32e1a491b86e4cd76f9ce118c",
      "placeholder": "​",
      "style": "IPY_MODEL_360a64a1a7874563abddf863e651d116",
      "value": "100%"
     }
    },
    "202316d230b949e28176006ebae523da": {
     "model_module": "@jupyter-widgets/base",
     "model_module_version": "1.2.0",
     "model_name": "LayoutModel",
     "state": {
      "_model_module": "@jupyter-widgets/base",
      "_model_module_version": "1.2.0",
      "_model_name": "LayoutModel",
      "_view_count": null,
      "_view_module": "@jupyter-widgets/base",
      "_view_module_version": "1.2.0",
      "_view_name": "LayoutView",
      "align_content": null,
      "align_items": null,
      "align_self": null,
      "border": null,
      "bottom": null,
      "display": null,
      "flex": null,
      "flex_flow": null,
      "grid_area": null,
      "grid_auto_columns": null,
      "grid_auto_flow": null,
      "grid_auto_rows": null,
      "grid_column": null,
      "grid_gap": null,
      "grid_row": null,
      "grid_template_areas": null,
      "grid_template_columns": null,
      "grid_template_rows": null,
      "height": null,
      "justify_content": null,
      "justify_items": null,
      "left": null,
      "margin": null,
      "max_height": null,
      "max_width": null,
      "min_height": null,
      "min_width": null,
      "object_fit": null,
      "object_position": null,
      "order": null,
      "overflow": null,
      "overflow_x": null,
      "overflow_y": null,
      "padding": null,
      "right": null,
      "top": null,
      "visibility": null,
      "width": null
     }
    },
    "241c78283aca4e7bb125be78b03b7e1e": {
     "model_module": "@jupyter-widgets/base",
     "model_module_version": "1.2.0",
     "model_name": "LayoutModel",
     "state": {
      "_model_module": "@jupyter-widgets/base",
      "_model_module_version": "1.2.0",
      "_model_name": "LayoutModel",
      "_view_count": null,
      "_view_module": "@jupyter-widgets/base",
      "_view_module_version": "1.2.0",
      "_view_name": "LayoutView",
      "align_content": null,
      "align_items": null,
      "align_self": null,
      "border": null,
      "bottom": null,
      "display": null,
      "flex": null,
      "flex_flow": null,
      "grid_area": null,
      "grid_auto_columns": null,
      "grid_auto_flow": null,
      "grid_auto_rows": null,
      "grid_column": null,
      "grid_gap": null,
      "grid_row": null,
      "grid_template_areas": null,
      "grid_template_columns": null,
      "grid_template_rows": null,
      "height": null,
      "justify_content": null,
      "justify_items": null,
      "left": null,
      "margin": null,
      "max_height": null,
      "max_width": null,
      "min_height": null,
      "min_width": null,
      "object_fit": null,
      "object_position": null,
      "order": null,
      "overflow": null,
      "overflow_x": null,
      "overflow_y": null,
      "padding": null,
      "right": null,
      "top": null,
      "visibility": null,
      "width": null
     }
    },
    "354d938ecc1544248f8d74305c19f806": {
     "model_module": "@jupyter-widgets/controls",
     "model_module_version": "1.5.0",
     "model_name": "FloatProgressModel",
     "state": {
      "_dom_classes": [],
      "_model_module": "@jupyter-widgets/controls",
      "_model_module_version": "1.5.0",
      "_model_name": "FloatProgressModel",
      "_view_count": null,
      "_view_module": "@jupyter-widgets/controls",
      "_view_module_version": "1.5.0",
      "_view_name": "ProgressView",
      "bar_style": "success",
      "description": "",
      "description_tooltip": null,
      "layout": "IPY_MODEL_241c78283aca4e7bb125be78b03b7e1e",
      "max": 102,
      "min": 0,
      "orientation": "horizontal",
      "style": "IPY_MODEL_9d27594faceb4e3bbcc5f7e2c79511ed",
      "value": 102
     }
    },
    "360a64a1a7874563abddf863e651d116": {
     "model_module": "@jupyter-widgets/controls",
     "model_module_version": "1.5.0",
     "model_name": "DescriptionStyleModel",
     "state": {
      "_model_module": "@jupyter-widgets/controls",
      "_model_module_version": "1.5.0",
      "_model_name": "DescriptionStyleModel",
      "_view_count": null,
      "_view_module": "@jupyter-widgets/base",
      "_view_module_version": "1.2.0",
      "_view_name": "StyleView",
      "description_width": ""
     }
    },
    "3a028690f4784f13bd679de43762c879": {
     "model_module": "@jupyter-widgets/base",
     "model_module_version": "1.2.0",
     "model_name": "LayoutModel",
     "state": {
      "_model_module": "@jupyter-widgets/base",
      "_model_module_version": "1.2.0",
      "_model_name": "LayoutModel",
      "_view_count": null,
      "_view_module": "@jupyter-widgets/base",
      "_view_module_version": "1.2.0",
      "_view_name": "LayoutView",
      "align_content": null,
      "align_items": null,
      "align_self": null,
      "border": null,
      "bottom": null,
      "display": null,
      "flex": null,
      "flex_flow": null,
      "grid_area": null,
      "grid_auto_columns": null,
      "grid_auto_flow": null,
      "grid_auto_rows": null,
      "grid_column": null,
      "grid_gap": null,
      "grid_row": null,
      "grid_template_areas": null,
      "grid_template_columns": null,
      "grid_template_rows": null,
      "height": null,
      "justify_content": null,
      "justify_items": null,
      "left": null,
      "margin": null,
      "max_height": null,
      "max_width": null,
      "min_height": null,
      "min_width": null,
      "object_fit": null,
      "object_position": null,
      "order": null,
      "overflow": null,
      "overflow_x": null,
      "overflow_y": null,
      "padding": null,
      "right": null,
      "top": null,
      "visibility": null,
      "width": null
     }
    },
    "40904e8827594b58a479abb13e2568f3": {
     "model_module": "@jupyter-widgets/controls",
     "model_module_version": "1.5.0",
     "model_name": "HTMLModel",
     "state": {
      "_dom_classes": [],
      "_model_module": "@jupyter-widgets/controls",
      "_model_module_version": "1.5.0",
      "_model_name": "HTMLModel",
      "_view_count": null,
      "_view_module": "@jupyter-widgets/controls",
      "_view_module_version": "1.5.0",
      "_view_name": "HTMLView",
      "description": "",
      "description_tooltip": null,
      "layout": "IPY_MODEL_c54e19273e0e49e099e0f5651bb210bb",
      "placeholder": "​",
      "style": "IPY_MODEL_89b57630247244628d6990da434b4aa5",
      "value": " 102/102 [00:31&lt;00:00,  3.75ba/s]"
     }
    },
    "4810279074fc42b9943db4ce136cc630": {
     "model_module": "@jupyter-widgets/base",
     "model_module_version": "1.2.0",
     "model_name": "LayoutModel",
     "state": {
      "_model_module": "@jupyter-widgets/base",
      "_model_module_version": "1.2.0",
      "_model_name": "LayoutModel",
      "_view_count": null,
      "_view_module": "@jupyter-widgets/base",
      "_view_module_version": "1.2.0",
      "_view_name": "LayoutView",
      "align_content": null,
      "align_items": null,
      "align_self": null,
      "border": null,
      "bottom": null,
      "display": null,
      "flex": null,
      "flex_flow": null,
      "grid_area": null,
      "grid_auto_columns": null,
      "grid_auto_flow": null,
      "grid_auto_rows": null,
      "grid_column": null,
      "grid_gap": null,
      "grid_row": null,
      "grid_template_areas": null,
      "grid_template_columns": null,
      "grid_template_rows": null,
      "height": null,
      "justify_content": null,
      "justify_items": null,
      "left": null,
      "margin": null,
      "max_height": null,
      "max_width": null,
      "min_height": null,
      "min_width": null,
      "object_fit": null,
      "object_position": null,
      "order": null,
      "overflow": null,
      "overflow_x": null,
      "overflow_y": null,
      "padding": null,
      "right": null,
      "top": null,
      "visibility": null,
      "width": null
     }
    },
    "4ec5c83007a04fbebd7976714e9d8985": {
     "model_module": "@jupyter-widgets/controls",
     "model_module_version": "1.5.0",
     "model_name": "HBoxModel",
     "state": {
      "_dom_classes": [],
      "_model_module": "@jupyter-widgets/controls",
      "_model_module_version": "1.5.0",
      "_model_name": "HBoxModel",
      "_view_count": null,
      "_view_module": "@jupyter-widgets/controls",
      "_view_module_version": "1.5.0",
      "_view_name": "HBoxView",
      "box_style": "",
      "children": [
       "IPY_MODEL_1a21a49a080f41759229719753f409e1",
       "IPY_MODEL_00ba40156bf24502a3013ee617392fb4",
       "IPY_MODEL_77b5a2ac714447b1a2a865d3845a4f8e"
      ],
      "layout": "IPY_MODEL_4810279074fc42b9943db4ce136cc630"
     }
    },
    "77b5a2ac714447b1a2a865d3845a4f8e": {
     "model_module": "@jupyter-widgets/controls",
     "model_module_version": "1.5.0",
     "model_name": "HTMLModel",
     "state": {
      "_dom_classes": [],
      "_model_module": "@jupyter-widgets/controls",
      "_model_module_version": "1.5.0",
      "_model_name": "HTMLModel",
      "_view_count": null,
      "_view_module": "@jupyter-widgets/controls",
      "_view_module_version": "1.5.0",
      "_view_name": "HTMLView",
      "description": "",
      "description_tooltip": null,
      "layout": "IPY_MODEL_b1493322c4b141dea15cbc1308c4fd41",
      "placeholder": "​",
      "style": "IPY_MODEL_922565087fe74fb3b83c804677732d55",
      "value": " 15/15 [00:05&lt;00:00,  2.44ba/s]"
     }
    },
    "790eabe193a04a1b870c5b4a2f3d914d": {
     "model_module": "@jupyter-widgets/base",
     "model_module_version": "1.2.0",
     "model_name": "LayoutModel",
     "state": {
      "_model_module": "@jupyter-widgets/base",
      "_model_module_version": "1.2.0",
      "_model_name": "LayoutModel",
      "_view_count": null,
      "_view_module": "@jupyter-widgets/base",
      "_view_module_version": "1.2.0",
      "_view_name": "LayoutView",
      "align_content": null,
      "align_items": null,
      "align_self": null,
      "border": null,
      "bottom": null,
      "display": null,
      "flex": null,
      "flex_flow": null,
      "grid_area": null,
      "grid_auto_columns": null,
      "grid_auto_flow": null,
      "grid_auto_rows": null,
      "grid_column": null,
      "grid_gap": null,
      "grid_row": null,
      "grid_template_areas": null,
      "grid_template_columns": null,
      "grid_template_rows": null,
      "height": null,
      "justify_content": null,
      "justify_items": null,
      "left": null,
      "margin": null,
      "max_height": null,
      "max_width": null,
      "min_height": null,
      "min_width": null,
      "object_fit": null,
      "object_position": null,
      "order": null,
      "overflow": null,
      "overflow_x": null,
      "overflow_y": null,
      "padding": null,
      "right": null,
      "top": null,
      "visibility": null,
      "width": null
     }
    },
    "7dd4b038901c4fddb9738babe585b0fe": {
     "model_module": "@jupyter-widgets/base",
     "model_module_version": "1.2.0",
     "model_name": "LayoutModel",
     "state": {
      "_model_module": "@jupyter-widgets/base",
      "_model_module_version": "1.2.0",
      "_model_name": "LayoutModel",
      "_view_count": null,
      "_view_module": "@jupyter-widgets/base",
      "_view_module_version": "1.2.0",
      "_view_name": "LayoutView",
      "align_content": null,
      "align_items": null,
      "align_self": null,
      "border": null,
      "bottom": null,
      "display": null,
      "flex": null,
      "flex_flow": null,
      "grid_area": null,
      "grid_auto_columns": null,
      "grid_auto_flow": null,
      "grid_auto_rows": null,
      "grid_column": null,
      "grid_gap": null,
      "grid_row": null,
      "grid_template_areas": null,
      "grid_template_columns": null,
      "grid_template_rows": null,
      "height": null,
      "justify_content": null,
      "justify_items": null,
      "left": null,
      "margin": null,
      "max_height": null,
      "max_width": null,
      "min_height": null,
      "min_width": null,
      "object_fit": null,
      "object_position": null,
      "order": null,
      "overflow": null,
      "overflow_x": null,
      "overflow_y": null,
      "padding": null,
      "right": null,
      "top": null,
      "visibility": null,
      "width": null
     }
    },
    "88d8830e26b24acc9ce1edaa77c9a887": {
     "model_module": "@jupyter-widgets/controls",
     "model_module_version": "1.5.0",
     "model_name": "HTMLModel",
     "state": {
      "_dom_classes": [],
      "_model_module": "@jupyter-widgets/controls",
      "_model_module_version": "1.5.0",
      "_model_name": "HTMLModel",
      "_view_count": null,
      "_view_module": "@jupyter-widgets/controls",
      "_view_module_version": "1.5.0",
      "_view_name": "HTMLView",
      "description": "",
      "description_tooltip": null,
      "layout": "IPY_MODEL_202316d230b949e28176006ebae523da",
      "placeholder": "​",
      "style": "IPY_MODEL_e9c3eec2ec894aabb11bd0ee9d29fd6d",
      "value": "100%"
     }
    },
    "89b57630247244628d6990da434b4aa5": {
     "model_module": "@jupyter-widgets/controls",
     "model_module_version": "1.5.0",
     "model_name": "DescriptionStyleModel",
     "state": {
      "_model_module": "@jupyter-widgets/controls",
      "_model_module_version": "1.5.0",
      "_model_name": "DescriptionStyleModel",
      "_view_count": null,
      "_view_module": "@jupyter-widgets/base",
      "_view_module_version": "1.2.0",
      "_view_name": "StyleView",
      "description_width": ""
     }
    },
    "922565087fe74fb3b83c804677732d55": {
     "model_module": "@jupyter-widgets/controls",
     "model_module_version": "1.5.0",
     "model_name": "DescriptionStyleModel",
     "state": {
      "_model_module": "@jupyter-widgets/controls",
      "_model_module_version": "1.5.0",
      "_model_name": "DescriptionStyleModel",
      "_view_count": null,
      "_view_module": "@jupyter-widgets/base",
      "_view_module_version": "1.2.0",
      "_view_name": "StyleView",
      "description_width": ""
     }
    },
    "9d27594faceb4e3bbcc5f7e2c79511ed": {
     "model_module": "@jupyter-widgets/controls",
     "model_module_version": "1.5.0",
     "model_name": "ProgressStyleModel",
     "state": {
      "_model_module": "@jupyter-widgets/controls",
      "_model_module_version": "1.5.0",
      "_model_name": "ProgressStyleModel",
      "_view_count": null,
      "_view_module": "@jupyter-widgets/base",
      "_view_module_version": "1.2.0",
      "_view_name": "StyleView",
      "bar_color": null,
      "description_width": ""
     }
    },
    "aad007f4fe404db1a7b7413d183fc829": {
     "model_module": "@jupyter-widgets/controls",
     "model_module_version": "1.5.0",
     "model_name": "DescriptionStyleModel",
     "state": {
      "_model_module": "@jupyter-widgets/controls",
      "_model_module_version": "1.5.0",
      "_model_name": "DescriptionStyleModel",
      "_view_count": null,
      "_view_module": "@jupyter-widgets/base",
      "_view_module_version": "1.2.0",
      "_view_name": "StyleView",
      "description_width": ""
     }
    },
    "b1493322c4b141dea15cbc1308c4fd41": {
     "model_module": "@jupyter-widgets/base",
     "model_module_version": "1.2.0",
     "model_name": "LayoutModel",
     "state": {
      "_model_module": "@jupyter-widgets/base",
      "_model_module_version": "1.2.0",
      "_model_name": "LayoutModel",
      "_view_count": null,
      "_view_module": "@jupyter-widgets/base",
      "_view_module_version": "1.2.0",
      "_view_name": "LayoutView",
      "align_content": null,
      "align_items": null,
      "align_self": null,
      "border": null,
      "bottom": null,
      "display": null,
      "flex": null,
      "flex_flow": null,
      "grid_area": null,
      "grid_auto_columns": null,
      "grid_auto_flow": null,
      "grid_auto_rows": null,
      "grid_column": null,
      "grid_gap": null,
      "grid_row": null,
      "grid_template_areas": null,
      "grid_template_columns": null,
      "grid_template_rows": null,
      "height": null,
      "justify_content": null,
      "justify_items": null,
      "left": null,
      "margin": null,
      "max_height": null,
      "max_width": null,
      "min_height": null,
      "min_width": null,
      "object_fit": null,
      "object_position": null,
      "order": null,
      "overflow": null,
      "overflow_x": null,
      "overflow_y": null,
      "padding": null,
      "right": null,
      "top": null,
      "visibility": null,
      "width": null
     }
    },
    "b4a9d3fb04fe4240948f03b46d539d4c": {
     "model_module": "@jupyter-widgets/base",
     "model_module_version": "1.2.0",
     "model_name": "LayoutModel",
     "state": {
      "_model_module": "@jupyter-widgets/base",
      "_model_module_version": "1.2.0",
      "_model_name": "LayoutModel",
      "_view_count": null,
      "_view_module": "@jupyter-widgets/base",
      "_view_module_version": "1.2.0",
      "_view_name": "LayoutView",
      "align_content": null,
      "align_items": null,
      "align_self": null,
      "border": null,
      "bottom": null,
      "display": null,
      "flex": null,
      "flex_flow": null,
      "grid_area": null,
      "grid_auto_columns": null,
      "grid_auto_flow": null,
      "grid_auto_rows": null,
      "grid_column": null,
      "grid_gap": null,
      "grid_row": null,
      "grid_template_areas": null,
      "grid_template_columns": null,
      "grid_template_rows": null,
      "height": null,
      "justify_content": null,
      "justify_items": null,
      "left": null,
      "margin": null,
      "max_height": null,
      "max_width": null,
      "min_height": null,
      "min_width": null,
      "object_fit": null,
      "object_position": null,
      "order": null,
      "overflow": null,
      "overflow_x": null,
      "overflow_y": null,
      "padding": null,
      "right": null,
      "top": null,
      "visibility": null,
      "width": null
     }
    },
    "b52a2f5bdec14762adfad655af88b8c8": {
     "model_module": "@jupyter-widgets/controls",
     "model_module_version": "1.5.0",
     "model_name": "DescriptionStyleModel",
     "state": {
      "_model_module": "@jupyter-widgets/controls",
      "_model_module_version": "1.5.0",
      "_model_name": "DescriptionStyleModel",
      "_view_count": null,
      "_view_module": "@jupyter-widgets/base",
      "_view_module_version": "1.2.0",
      "_view_name": "StyleView",
      "description_width": ""
     }
    },
    "bfca8adef88a447994d2fbb42c6876b0": {
     "model_module": "@jupyter-widgets/base",
     "model_module_version": "1.2.0",
     "model_name": "LayoutModel",
     "state": {
      "_model_module": "@jupyter-widgets/base",
      "_model_module_version": "1.2.0",
      "_model_name": "LayoutModel",
      "_view_count": null,
      "_view_module": "@jupyter-widgets/base",
      "_view_module_version": "1.2.0",
      "_view_name": "LayoutView",
      "align_content": null,
      "align_items": null,
      "align_self": null,
      "border": null,
      "bottom": null,
      "display": null,
      "flex": null,
      "flex_flow": null,
      "grid_area": null,
      "grid_auto_columns": null,
      "grid_auto_flow": null,
      "grid_auto_rows": null,
      "grid_column": null,
      "grid_gap": null,
      "grid_row": null,
      "grid_template_areas": null,
      "grid_template_columns": null,
      "grid_template_rows": null,
      "height": null,
      "justify_content": null,
      "justify_items": null,
      "left": null,
      "margin": null,
      "max_height": null,
      "max_width": null,
      "min_height": null,
      "min_width": null,
      "object_fit": null,
      "object_position": null,
      "order": null,
      "overflow": null,
      "overflow_x": null,
      "overflow_y": null,
      "padding": null,
      "right": null,
      "top": null,
      "visibility": null,
      "width": null
     }
    },
    "c54e19273e0e49e099e0f5651bb210bb": {
     "model_module": "@jupyter-widgets/base",
     "model_module_version": "1.2.0",
     "model_name": "LayoutModel",
     "state": {
      "_model_module": "@jupyter-widgets/base",
      "_model_module_version": "1.2.0",
      "_model_name": "LayoutModel",
      "_view_count": null,
      "_view_module": "@jupyter-widgets/base",
      "_view_module_version": "1.2.0",
      "_view_name": "LayoutView",
      "align_content": null,
      "align_items": null,
      "align_self": null,
      "border": null,
      "bottom": null,
      "display": null,
      "flex": null,
      "flex_flow": null,
      "grid_area": null,
      "grid_auto_columns": null,
      "grid_auto_flow": null,
      "grid_auto_rows": null,
      "grid_column": null,
      "grid_gap": null,
      "grid_row": null,
      "grid_template_areas": null,
      "grid_template_columns": null,
      "grid_template_rows": null,
      "height": null,
      "justify_content": null,
      "justify_items": null,
      "left": null,
      "margin": null,
      "max_height": null,
      "max_width": null,
      "min_height": null,
      "min_width": null,
      "object_fit": null,
      "object_position": null,
      "order": null,
      "overflow": null,
      "overflow_x": null,
      "overflow_y": null,
      "padding": null,
      "right": null,
      "top": null,
      "visibility": null,
      "width": null
     }
    },
    "d095669f1b2442578d0d1f8d8aebc233": {
     "model_module": "@jupyter-widgets/controls",
     "model_module_version": "1.5.0",
     "model_name": "ProgressStyleModel",
     "state": {
      "_model_module": "@jupyter-widgets/controls",
      "_model_module_version": "1.5.0",
      "_model_name": "ProgressStyleModel",
      "_view_count": null,
      "_view_module": "@jupyter-widgets/base",
      "_view_module_version": "1.2.0",
      "_view_name": "StyleView",
      "bar_color": null,
      "description_width": ""
     }
    },
    "d2dade9ee99b48148185a021707c3db5": {
     "model_module": "@jupyter-widgets/controls",
     "model_module_version": "1.5.0",
     "model_name": "FloatProgressModel",
     "state": {
      "_dom_classes": [],
      "_model_module": "@jupyter-widgets/controls",
      "_model_module_version": "1.5.0",
      "_model_name": "FloatProgressModel",
      "_view_count": null,
      "_view_module": "@jupyter-widgets/controls",
      "_view_module_version": "1.5.0",
      "_view_name": "ProgressView",
      "bar_style": "success",
      "description": "",
      "description_tooltip": null,
      "layout": "IPY_MODEL_b4a9d3fb04fe4240948f03b46d539d4c",
      "max": 29,
      "min": 0,
      "orientation": "horizontal",
      "style": "IPY_MODEL_07ce1385b1f74ad385c96b092a8101cc",
      "value": 29
     }
    },
    "d56f2d84486b479296b949e17be5ed81": {
     "model_module": "@jupyter-widgets/base",
     "model_module_version": "1.2.0",
     "model_name": "LayoutModel",
     "state": {
      "_model_module": "@jupyter-widgets/base",
      "_model_module_version": "1.2.0",
      "_model_name": "LayoutModel",
      "_view_count": null,
      "_view_module": "@jupyter-widgets/base",
      "_view_module_version": "1.2.0",
      "_view_name": "LayoutView",
      "align_content": null,
      "align_items": null,
      "align_self": null,
      "border": null,
      "bottom": null,
      "display": null,
      "flex": null,
      "flex_flow": null,
      "grid_area": null,
      "grid_auto_columns": null,
      "grid_auto_flow": null,
      "grid_auto_rows": null,
      "grid_column": null,
      "grid_gap": null,
      "grid_row": null,
      "grid_template_areas": null,
      "grid_template_columns": null,
      "grid_template_rows": null,
      "height": null,
      "justify_content": null,
      "justify_items": null,
      "left": null,
      "margin": null,
      "max_height": null,
      "max_width": null,
      "min_height": null,
      "min_width": null,
      "object_fit": null,
      "object_position": null,
      "order": null,
      "overflow": null,
      "overflow_x": null,
      "overflow_y": null,
      "padding": null,
      "right": null,
      "top": null,
      "visibility": null,
      "width": null
     }
    },
    "e9c3eec2ec894aabb11bd0ee9d29fd6d": {
     "model_module": "@jupyter-widgets/controls",
     "model_module_version": "1.5.0",
     "model_name": "DescriptionStyleModel",
     "state": {
      "_model_module": "@jupyter-widgets/controls",
      "_model_module_version": "1.5.0",
      "_model_name": "DescriptionStyleModel",
      "_view_count": null,
      "_view_module": "@jupyter-widgets/base",
      "_view_module_version": "1.2.0",
      "_view_name": "StyleView",
      "description_width": ""
     }
    },
    "eb8f0c66b2f941449c00ddf0dd1971e1": {
     "model_module": "@jupyter-widgets/controls",
     "model_module_version": "1.5.0",
     "model_name": "HBoxModel",
     "state": {
      "_dom_classes": [],
      "_model_module": "@jupyter-widgets/controls",
      "_model_module_version": "1.5.0",
      "_model_name": "HBoxModel",
      "_view_count": null,
      "_view_module": "@jupyter-widgets/controls",
      "_view_module_version": "1.5.0",
      "_view_name": "HBoxView",
      "box_style": "",
      "children": [
       "IPY_MODEL_f2d4326c27494738802ff67201a9da83",
       "IPY_MODEL_354d938ecc1544248f8d74305c19f806",
       "IPY_MODEL_40904e8827594b58a479abb13e2568f3"
      ],
      "layout": "IPY_MODEL_bfca8adef88a447994d2fbb42c6876b0"
     }
    },
    "f2d4326c27494738802ff67201a9da83": {
     "model_module": "@jupyter-widgets/controls",
     "model_module_version": "1.5.0",
     "model_name": "HTMLModel",
     "state": {
      "_dom_classes": [],
      "_model_module": "@jupyter-widgets/controls",
      "_model_module_version": "1.5.0",
      "_model_name": "HTMLModel",
      "_view_count": null,
      "_view_module": "@jupyter-widgets/controls",
      "_view_module_version": "1.5.0",
      "_view_name": "HTMLView",
      "description": "",
      "description_tooltip": null,
      "layout": "IPY_MODEL_790eabe193a04a1b870c5b4a2f3d914d",
      "placeholder": "​",
      "style": "IPY_MODEL_aad007f4fe404db1a7b7413d183fc829",
      "value": "100%"
     }
    },
    "fec733c5e82c478e92296517acda6127": {
     "model_module": "@jupyter-widgets/controls",
     "model_module_version": "1.5.0",
     "model_name": "HTMLModel",
     "state": {
      "_dom_classes": [],
      "_model_module": "@jupyter-widgets/controls",
      "_model_module_version": "1.5.0",
      "_model_name": "HTMLModel",
      "_view_count": null,
      "_view_module": "@jupyter-widgets/controls",
      "_view_module_version": "1.5.0",
      "_view_name": "HTMLView",
      "description": "",
      "description_tooltip": null,
      "layout": "IPY_MODEL_7dd4b038901c4fddb9738babe585b0fe",
      "placeholder": "​",
      "style": "IPY_MODEL_b52a2f5bdec14762adfad655af88b8c8",
      "value": " 29/29 [00:08&lt;00:00,  3.74ba/s]"
     }
    }
   }
  }
 },
 "nbformat": 4,
 "nbformat_minor": 4
}
