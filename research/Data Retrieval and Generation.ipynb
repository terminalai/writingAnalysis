{
 "cells": [
  {
   "cell_type": "code",
   "execution_count": 1,
   "id": "62d2265e",
   "metadata": {
    "ExecuteTime": {
     "end_time": "2022-02-18T03:36:28.096616Z",
     "start_time": "2022-02-18T03:36:17.884626Z"
    }
   },
   "outputs": [],
   "source": [
    "from lib.datagen import *\n",
    "from bs4 import BeautifulSoup as souper\n",
    "import requests, re\n",
    "import np, pandas as pd, matplotlib.pyplot as plt"
   ]
  },
  {
   "cell_type": "code",
   "execution_count": 2,
   "id": "73bbfc47",
   "metadata": {
    "ExecuteTime": {
     "end_time": "2022-02-18T03:36:31.357611Z",
     "start_time": "2022-02-18T03:36:28.131623Z"
    }
   },
   "outputs": [],
   "source": [
    "with open(\"datagen/nytimes.txt\", \"a\") as file:\n",
    "    print(*[tag[\"href\"] for tag in souper(requests.get(\"https://www.nytimes.com/\").content).findAll(\"a\") if re.match(r\"https://www\\.nytimes\\.com/\\d{4}/\\d{2}/\\d{2}.*\", tag[\"href\"])], sep=\"\\n\", file=file)"
   ]
  },
  {
   "cell_type": "code",
   "execution_count": 3,
   "id": "467895d1",
   "metadata": {
    "ExecuteTime": {
     "end_time": "2022-02-18T03:37:49.064199Z",
     "start_time": "2022-02-18T03:37:49.050238Z"
    }
   },
   "outputs": [
    {
     "data": {
      "text/plain": [
       "[<function lib.datagen.nytimes(url)>,\n",
       " <function lib.datagen.nature(url)>,\n",
       " <function lib.datagen.forbes(url)>]"
      ]
     },
     "execution_count": 3,
     "metadata": {},
     "output_type": "execute_result"
    }
   ],
   "source": [
    "functions"
   ]
  },
  {
   "cell_type": "code",
   "execution_count": 5,
   "id": "cc00d6ab",
   "metadata": {
    "ExecuteTime": {
     "end_time": "2022-02-18T03:42:51.403217Z",
     "start_time": "2022-02-18T03:40:55.781471Z"
    },
    "scrolled": false
   },
   "outputs": [
    {
     "name": "stdout",
     "output_type": "stream",
     "text": [
      "datagen/nytimes/tech-predictions.txt\n",
      "datagen/nytimes/metaverse-politics-disinformation-society.txt\n",
      "datagen/nytimes/metamates-googlers.txt\n",
      "datagen/nytimes/babies-work-meeting.txt\n",
      "datagen/nytimes/jobs-hiring-fraud.txt\n",
      "datagen/nytimes/aids-pandemic-covid.txt\n",
      "datagen/nytimes/big-tech-stock-market.txt\n",
      "datagen/nytimes/parenting-adult-children.txt\n",
      "datagen/nytimes/energy-savings-nest.txt\n",
      "datagen/nytimes/covid-depression-anxiety.txt\n",
      "datagen/nytimes/ai-education-neural-networks.txt\n",
      "datagen/nytimes/women-stem-pandemic.txt\n",
      "datagen/nytimes/metaverse-gaming-definition.txt\n",
      "datagen/nytimes/facebook-experiments.txt\n",
      "datagen/nytimes/smartphones-iphone-android.txt\n",
      "datagen/nytimes/microsoft-activision-metaverse.txt\n",
      "datagen/nytimes/tech-won-now-what.txt\n",
      "datagen/nytimes/google-facebook-advertising.txt\n",
      "datagen/nytimes/how-excited-are-you-about-the-metaverse.txt\n",
      "datagen/nytimes/apple-face-computers.txt\n",
      "datagen/nytimes/hearing-aids-fda.txt\n",
      "datagen/nytimes/ukraine-conflict-russia-military.txt\n",
      "datagen/nytimes/ukraine-conflict-russia-military.txt\n",
      "datagen/nytimes/blinken-russia-ukraine-predictions.txt\n",
      "datagen/nytimes/stanytsia-lushankya-shelling.txt\n",
      "datagen/nytimes/trump-investigation-letitia-james.txt\n",
      "datagen/nytimes/letitia-james-ny-attorney-general.txt\n",
      "datagen/nytimes/kamila-valieva-falls-fourth-figure-skating.txt\n",
      "datagen/nytimes/spotify-joe-rogan-misinformation.txt\n",
      "datagen/nytimes/fact-check-joe-rogan-robert-malone.txt\n",
      "datagen/nytimes/fourth-dose-covid-vaccine.txt\n",
      "datagen/nytimes/san-francisco-school-board-parents.txt\n",
      "datagen/nytimes/comedy-jewish-identity.txt\n",
      "datagen/nytimes/kanye-west-jeen-yuhs-documentary.txt\n",
      "datagen/nytimes/stonehenge-british-museum.txt\n",
      "datagen/nytimes/ottawa-protest-convoy.txt\n",
      "datagen/nytimes/happiness-confidence-struggle.txt\n",
      "datagen/nytimes/liberalism-democracy-russia-ukraine.txt\n",
      "datagen/nytimes/biden-economy-inflation-growth.txt\n",
      "datagen/nytimes/abortion-florida-15-week-ban.txt\n",
      "datagen/nytimes/school-board-recall.txt\n",
      "datagen/nytimes/walter-dellinger-law-supreme-court.txt\n",
      "datagen/nytimes/covid-plague-work-labor.txt\n",
      "datagen/nytimes/what-would-it-mean-to-end-the-covid-state-of-emergency.txt\n",
      "datagen/nytimes/inflation-supply-chain.txt\n",
      "datagen/nytimes/afghanistan-immigration-visa-us.txt\n",
      "datagen/nytimes/sway-kara-swisher-keith-rabois.txt\n",
      "datagen/nytimes/sanctions-russia-ukraine.txt\n",
      "datagen/nytimes/olympics-china-american-athletes.txt\n",
      "datagen/nytimes/law-order-svu-organized-crime.txt\n",
      "datagen/nytimes/basquiat-painting-orlando-mumford-museum.txt\n",
      "datagen/nytimes/flight-attendants-covid.txt\n",
      "datagen/nytimes/merkel-cell-carcinoma.txt\n",
      "datagen/nytimes/ukraine-donald-trump-beijing-olympics.txt\n",
      "datagen/nytimes/modern-love-podcast-ham-sandwich.txt\n",
      "datagen/nytimes/ukraine-russia-us-troops.txt\n",
      "datagen/nytimes/tiktok-ava-majury.txt\n",
      "datagen/nytimes/kevin-mccarthy-harriet-hageman-liz-cheney.txt\n",
      "datagen/nytimes/felicity-ace-vessel-fire.txt\n",
      "datagen/nytimes/cuomo-melissa-derosa-sexual-harassment.txt\n",
      "datagen/nytimes/senate-spending-bill-shutdown.txt\n",
      "datagen/nytimes/justice-department-cybersecurity.txt\n",
      "datagen/nytimes/oscars-vaccine-mandate-coronavirus.txt\n",
      "datagen/nytimes/biden-immigration-public-charge-trump.txt\n",
      "datagen/nytimes/nyc-budget-composting-adams.txt\n",
      "datagen/nytimes/durham-right-wing-media-trump.txt\n",
      "datagen/nytimes/gregory-peck-mockingbird-sequel.txt\n",
      "datagen/nytimes/mall-fight-bridgewater-commons-nj.txt\n",
      "datagen/nytimes/burnout-work-stress.txt\n",
      "datagen/nytimes/what-to-do-when-you-dont-want-to-run.txt\n",
      "datagen/nytimes/death-certificate-cause.txt\n",
      "datagen/nytimes/oddity-ceramics-surrealism-art.txt\n",
      "datagen/nytimes/finland-bordertown-piece-of-my-heart.txt\n",
      "datagen/nytimes/watches-obscure-brands-switzerland.txt\n",
      "datagen/nytimes/cecil-taylor-return-concert.txt\n",
      "datagen/nytimes/basketball-celtics-ime-udoka.txt\n",
      "datagen/nature/d41586-022-00154-y.txt\n",
      "datagen/nature/d41586-022-00018-5.txt\n",
      "datagen/nature/d41586-022-00414-x.txt\n",
      "datagen/nature/d41586-021-01812-3.txt\n",
      "datagen/nature/d41586-021-01170-0.txt\n",
      "datagen/nature/d41586-021-00954-8.txt\n",
      "datagen/nature/d41586-022-00335-9.txt\n",
      "datagen/nature/d41586-022-00334-w.txt\n",
      "datagen/nature/d41586-022-00227-y.txt\n",
      "datagen/nature/d41586-022-00109-3.txt\n",
      "datagen/nature/d41586-022-00057-y.txt\n",
      "datagen/nature/d41586-021-03817-4.txt\n",
      "datagen/forbes/work-experience-resume-overqualified-job-forbes-woman-leadership-career.txt\n",
      "datagen/forbes/why-is-work-experience-so-undervalued.txt\n"
     ]
    }
   ],
   "source": [
    "for retrieve in functions:\n",
    "    urls = pd.Series(pd.Series(np.loadtxt(f\"datagen/{retrieve.__name__}.txt\", dtype=str)).unique())\n",
    "    articles = urls.apply(retrieve)\n",
    "    \n",
    "    filenames = urls.str.split(r\"(/\\?|\\?)\").str.get(0).str.split(\"/\").str.get(-1).str.split(r\"\\.|\\?\").str.get(0)\n",
    "    for text, filename in zip(articles, filenames):\n",
    "        file = \"datagen/\"+retrieve.__name__+\"/\"+filename+\".txt\"\n",
    "        print(file)\n",
    "        with open(file, \"w+\", encoding=\"utf-8\") as outfile:\n",
    "            outfile.write(text)"
   ]
  },
  {
   "cell_type": "code",
   "execution_count": 7,
   "id": "d1ca3856",
   "metadata": {
    "ExecuteTime": {
     "end_time": "2022-02-18T03:43:53.843593Z",
     "start_time": "2022-02-18T03:43:53.822651Z"
    }
   },
   "outputs": [
    {
     "name": "stdout",
     "output_type": "stream",
     "text": [
      "In our youth-obsessed society, we often find the media spotlight aimed at certain tech industry whiz kids who have catapulted from virtual obscurity to become overnight billionaires. You know the names: people like Garrett Camp (Uber), Jack Dorsey (Twitter and Square), Jan Koum (WhatsApp), Bobby Murphy and Evan Spiegel (Snapchat) and Mark Zuckerberg (Facebook), whose net worth Forbes just estimated at over $55 billion.\n",
      "\n",
      "I tip my hat to them all.\n",
      "\n",
      "But these and others like them, are the exceptions. For every successful tech start-up, there are many more failures, whose founders are (at least temporarily) mixing drinks, waiting tables and living with multiple roommates or parents. The tech-sector failure rate is variously estimated at two-thirds to 90%, depending on who’s doing the estimate.\n",
      "\n",
      "The lucky few who strike it rich enter the club, in effect, without paying their dues. But it’s important to remember that it’s the workplace veterans, the dues-payers, who build brands over many years and keep our companies and economies going. Without these men and women with mileage on their resumes, many of the titans of Silicon Valley would see their companies flounder, if not collapse.\n",
      "\n",
      "Which begs a question: If employees with significant work experience add value to a company, why aren’t they in higher demand? Why are they seemingly undervalued and unappreciated – and not just in the precincts of Silicon Valley?\n",
      "\n",
      "The truth is: Older workers who become unemployed have grim job prospects. Many employers don’t want to hire them. An analysis by the Federal Reserve Bank of St. Louis confirms this, showing that in January 2015, older workers – those 55 and older – were nearly 20% more likely to be unemployed long term than those in the 25-54 age group.\n",
      "\n",
      "We’ve all heard the chatter: If you’re over 40 in Silicon Valley, you’re considered over the hill. Just recently, in fact, one of Silicon Valley’s preeminent companies was hit with a class action lawsuit claiming that it engaged in “a systematic pattern of discrimination” against job applicants over 40.\n",
      "\n",
      "According to tech futurist Vivek Wadhwa, “What the tech industry often forgets is that with age comes wisdom. Older workers,” he writes, “are usually better at following direction, mentoring, and leading.”\n",
      "\n",
      "They’re usually better at other things as well. They’re not dreamers; they’re doers. They know how to get things done. (As an extreme example, think Robert De Niro in The Intern.)\n",
      "\n",
      "Yet some executives, caught up in the idea that young is better (or, perhaps, more accurately, that young is cheaper), seem to have forgotten the value of experience.\n",
      "\n",
      "This is interesting, since most large companies, even many in Silicon Valley, are headed by executives who are middle-aged or older. According to one recent analysis, the average age of Fortune 500 CEOs at the end of last year was 57. Globally, the story isn’t much different, statistical researcher Valentina Romei of the Financial Times found, placing the average age of some 10,000 CEOs of the world largest companies at 55.\n",
      "\n",
      "If Silicon Valley is an outlier, it’s not by much. Amazon’s Jeff Bezos is 52; Tim Cook of Apple is 55; eBay’s David Wenig is 50; the CEOs of Google, LinkedIn and Microsoft are all in their 40s; only Zuckerberg and Dorsey (32 and 39, respectively) would be considered strong job prospects at a company that screens out applicants over 40. And frankly, the lawsuit mentioned earlier notwithstanding, I doubt any such company exists.\n",
      "\n",
      "The evidence confirming the value of experience is frankly overwhelming. A 2009 research paper by John P. Walsh of Georgia Tech and Sadao Nagaoka of Japan’s Research Institute of Economy, Trade and Industry, found that “older inventors tend to produce higher value patents” than younger inventors. In the United States, they found, the average age of inventors was then 47. More than 20% of U.S. inventors were in their 50s; more than 10% were 60 or older.\n",
      "\n",
      "Any company that places a higher value on youth than on experience is doing itself a disservice.\n"
     ]
    }
   ],
   "source": [
    "print(text)"
   ]
  },
  {
   "cell_type": "code",
   "execution_count": null,
   "id": "e64b74a7",
   "metadata": {},
   "outputs": [],
   "source": []
  }
 ],
 "metadata": {
  "kernelspec": {
   "display_name": "Python 3 (ipykernel)",
   "language": "python",
   "name": "python3"
  },
  "language_info": {
   "codemirror_mode": {
    "name": "ipython",
    "version": 3
   },
   "file_extension": ".py",
   "mimetype": "text/x-python",
   "name": "python",
   "nbconvert_exporter": "python",
   "pygments_lexer": "ipython3",
   "version": "3.9.7"
  },
  "toc": {
   "base_numbering": 1,
   "nav_menu": {},
   "number_sections": true,
   "sideBar": true,
   "skip_h1_title": false,
   "title_cell": "Table of Contents",
   "title_sidebar": "Contents",
   "toc_cell": false,
   "toc_position": {},
   "toc_section_display": true,
   "toc_window_display": false
  },
  "varInspector": {
   "cols": {
    "lenName": 16,
    "lenType": 16,
    "lenVar": 40
   },
   "kernels_config": {
    "python": {
     "delete_cmd_postfix": "",
     "delete_cmd_prefix": "del ",
     "library": "var_list.py",
     "varRefreshCmd": "print(var_dic_list())"
    },
    "r": {
     "delete_cmd_postfix": ") ",
     "delete_cmd_prefix": "rm(",
     "library": "var_list.r",
     "varRefreshCmd": "cat(var_dic_list()) "
    }
   },
   "types_to_exclude": [
    "module",
    "function",
    "builtin_function_or_method",
    "instance",
    "_Feature"
   ],
   "window_display": false
  }
 },
 "nbformat": 4,
 "nbformat_minor": 5
}
