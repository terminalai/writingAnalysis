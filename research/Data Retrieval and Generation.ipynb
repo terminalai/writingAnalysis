{
 "cells": [
  {
   "cell_type": "code",
   "execution_count": 1,
   "id": "62d2265e",
   "metadata": {
    "ExecuteTime": {
     "end_time": "2022-02-17T14:46:12.107447Z",
     "start_time": "2022-02-17T14:46:09.023503Z"
    }
   },
   "outputs": [],
   "source": [
    "from lib.datagen import *\n",
    "import np, pandas as pd, matplotlib.pyplot as plt"
   ]
  },
  {
   "cell_type": "code",
   "execution_count": 2,
   "id": "467895d1",
   "metadata": {
    "ExecuteTime": {
     "end_time": "2022-02-17T14:46:13.291942Z",
     "start_time": "2022-02-17T14:46:13.269950Z"
    }
   },
   "outputs": [
    {
     "data": {
      "text/plain": [
       "[<function lib.datagen.nytimes(url)>,\n",
       " <function lib.datagen.nature(url)>,\n",
       " <function lib.datagen.forbes(url)>]"
      ]
     },
     "execution_count": 2,
     "metadata": {},
     "output_type": "execute_result"
    }
   ],
   "source": [
    "functions"
   ]
  },
  {
   "cell_type": "code",
   "execution_count": 3,
   "id": "cc00d6ab",
   "metadata": {
    "ExecuteTime": {
     "end_time": "2022-02-17T14:46:51.864414Z",
     "start_time": "2022-02-17T14:46:14.787404Z"
    },
    "scrolled": false
   },
   "outputs": [
    {
     "name": "stderr",
     "output_type": "stream",
     "text": [
      "C:\\Users\\Prannaya\\CS5131\\project\\research\\lib\\datagen.py:34: GuessedAtParserWarning: No parser was explicitly specified, so I'm using the best available HTML parser for this system (\"lxml\"). This usually isn't a problem, but if you run this code on another system, or in a different virtual environment, it may use a different parser and behave differently.\n",
      "\n",
      "The code that caused this warning is on line 34 of the file C:\\Users\\Prannaya\\CS5131\\project\\research\\lib\\datagen.py. To get rid of this warning, pass the additional argument 'features=\"lxml\"' to the BeautifulSoup constructor.\n",
      "\n",
      "  return \"\\n\\n\".join([tag.text for tag in souper(requests.get(url).content).findAll(\"p\", {\"class\":\"evys1bk0\"})])\n"
     ]
    },
    {
     "name": "stdout",
     "output_type": "stream",
     "text": [
      "datagen/nytimes/tech-predictions.txt\n",
      "datagen/nytimes/metaverse-politics-disinformation-society.txt\n",
      "datagen/nytimes/metamates-googlers.txt\n",
      "datagen/nytimes/babies-work-meeting.txt\n",
      "datagen/nytimes/jobs-hiring-fraud.txt\n",
      "datagen/nytimes/aids-pandemic-covid.txt\n",
      "datagen/nytimes/big-tech-stock-market.txt\n",
      "datagen/nytimes/parenting-adult-children.txt\n",
      "datagen/nytimes/energy-savings-nest.txt\n",
      "datagen/nytimes/covid-depression-anxiety.txt\n",
      "datagen/nytimes/ai-education-neural-networks.txt\n",
      "datagen/nytimes/women-stem-pandemic.txt\n",
      "datagen/nytimes/metaverse-gaming-definition.txt\n",
      "datagen/nytimes/facebook-experiments.txt\n",
      "datagen/nytimes/smartphones-iphone-android.txt\n",
      "datagen/nytimes/microsoft-activision-metaverse.txt\n",
      "datagen/nytimes/tech-won-now-what.txt\n",
      "datagen/nytimes/google-facebook-advertising.txt\n",
      "datagen/nytimes/how-excited-are-you-about-the-metaverse.txt\n",
      "datagen/nytimes/apple-face-computers.txt\n",
      "datagen/nytimes/hearing-aids-fda.txt\n",
      "datagen/nytimes/china-us-tech-policy.txt\n"
     ]
    },
    {
     "name": "stderr",
     "output_type": "stream",
     "text": [
      "C:\\Users\\Prannaya\\CS5131\\project\\research\\lib\\datagen.py:45: GuessedAtParserWarning: No parser was explicitly specified, so I'm using the best available HTML parser for this system (\"lxml\"). This usually isn't a problem, but if you run this code on another system, or in a different virtual environment, it may use a different parser and behave differently.\n",
      "\n",
      "The code that caused this warning is on line 45 of the file C:\\Users\\Prannaya\\CS5131\\project\\research\\lib\\datagen.py. To get rid of this warning, pass the additional argument 'features=\"lxml\"' to the BeautifulSoup constructor.\n",
      "\n",
      "  return \"\\n\\n\".join([(i.name==\"h2\")*\"##\" + i.text.strip() for i in souper(requests.get(url).content).findAll(\"div\", {\"class\":\"c-article-body\"})[0].findChildren(recursive=False) if \"recommended\" not in _findClass(i)])\n"
     ]
    },
    {
     "name": "stdout",
     "output_type": "stream",
     "text": [
      "datagen/nature/d41586-022-00154-y.txt\n",
      "datagen/nature/d41586-022-00018-5.txt\n",
      "datagen/nature/d41586-022-00414-x.txt\n",
      "datagen/nature/d41586-021-01812-3.txt\n",
      "datagen/nature/d41586-021-01170-0.txt\n",
      "datagen/nature/d41586-021-00954-8.txt\n",
      "datagen/nature/d41586-022-00335-9.txt\n",
      "datagen/nature/d41586-022-00334-w.txt\n",
      "datagen/nature/d41586-022-00227-y.txt\n",
      "datagen/nature/d41586-022-00109-3.txt\n",
      "datagen/nature/d41586-022-00057-y.txt\n",
      "datagen/nature/d41586-021-03817-4.txt\n"
     ]
    },
    {
     "name": "stderr",
     "output_type": "stream",
     "text": [
      "C:\\Users\\Prannaya\\CS5131\\project\\research\\lib\\datagen.py:55: GuessedAtParserWarning: No parser was explicitly specified, so I'm using the best available HTML parser for this system (\"lxml\"). This usually isn't a problem, but if you run this code on another system, or in a different virtual environment, it may use a different parser and behave differently.\n",
      "\n",
      "The code that caused this warning is on line 55 of the file C:\\Users\\Prannaya\\CS5131\\project\\research\\lib\\datagen.py. To get rid of this warning, pass the additional argument 'features=\"lxml\"' to the BeautifulSoup constructor.\n",
      "\n",
      "  return \"\\n\\n\".join([tag.text.strip() for tag in souper(requests.get(url).content).find(\"div\", {\"class\":\"article-body\"}).findAll(\"p\") if \"wp-caption-text\" not in _findClass(tag)])\n"
     ]
    },
    {
     "name": "stdout",
     "output_type": "stream",
     "text": [
      "datagen/forbes/work-experience-resume-overqualified-job-forbes-woman-leadership-career.txt\n",
      "datagen/forbes/why-is-work-experience-so-undervalued.txt\n"
     ]
    }
   ],
   "source": [
    "for retrieve in functions:\n",
    "    urls = pd.Series(np.loadtxt(f\"datagen/{retrieve.__name__}.txt\", dtype=str))\n",
    "    articles = urls.apply(retrieve)\n",
    "    \n",
    "    filenames = urls.str.split(r\"(/\\?|\\?)\").str.get(0).str.split(\"/\").str.get(-1).str.split(r\"\\.|\\?\").str.get(0)\n",
    "    for text, filename in zip(articles, filenames):\n",
    "        file = \"datagen/\"+retrieve.__name__+\"/\"+filename+\".txt\"\n",
    "        print(file)\n",
    "        with open(file, \"w+\") as outfile:\n",
    "            outfile.write(text)"
   ]
  },
  {
   "cell_type": "code",
   "execution_count": null,
   "id": "d1ca3856",
   "metadata": {},
   "outputs": [],
   "source": []
  }
 ],
 "metadata": {
  "kernelspec": {
   "display_name": "Python 3 (ipykernel)",
   "language": "python",
   "name": "python3"
  },
  "language_info": {
   "codemirror_mode": {
    "name": "ipython",
    "version": 3
   },
   "file_extension": ".py",
   "mimetype": "text/x-python",
   "name": "python",
   "nbconvert_exporter": "python",
   "pygments_lexer": "ipython3",
   "version": "3.9.7"
  },
  "toc": {
   "base_numbering": 1,
   "nav_menu": {},
   "number_sections": true,
   "sideBar": true,
   "skip_h1_title": false,
   "title_cell": "Table of Contents",
   "title_sidebar": "Contents",
   "toc_cell": false,
   "toc_position": {},
   "toc_section_display": true,
   "toc_window_display": false
  },
  "varInspector": {
   "cols": {
    "lenName": 16,
    "lenType": 16,
    "lenVar": 40
   },
   "kernels_config": {
    "python": {
     "delete_cmd_postfix": "",
     "delete_cmd_prefix": "del ",
     "library": "var_list.py",
     "varRefreshCmd": "print(var_dic_list())"
    },
    "r": {
     "delete_cmd_postfix": ") ",
     "delete_cmd_prefix": "rm(",
     "library": "var_list.r",
     "varRefreshCmd": "cat(var_dic_list()) "
    }
   },
   "types_to_exclude": [
    "module",
    "function",
    "builtin_function_or_method",
    "instance",
    "_Feature"
   ],
   "window_display": false
  }
 },
 "nbformat": 4,
 "nbformat_minor": 5
}
