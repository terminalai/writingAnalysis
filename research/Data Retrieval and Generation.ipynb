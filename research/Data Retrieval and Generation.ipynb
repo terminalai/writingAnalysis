{
 "cells": [
  {
   "cell_type": "markdown",
   "id": "1309caee",
   "metadata": {},
   "source": [
    "# Data Retrieval and Generation\n",
    "\n",
    "For an actually good dataset, we use this."
   ]
  },
  {
   "cell_type": "markdown",
   "id": "77bf1190",
   "metadata": {
    "toc": true
   },
   "source": [
    "<h1>Table of Contents<span class=\"tocSkip\"></span></h1>\n",
    "<div class=\"toc\"><ul class=\"toc-item\"><li><span><a href=\"#Set-Up-and-Imports\" data-toc-modified-id=\"Set-Up-and-Imports-1\"><span class=\"toc-item-num\">1&nbsp;&nbsp;</span>Set-Up and Imports</a></span><ul class=\"toc-item\"><li><span><a href=\"#Listing-out-all-functions\" data-toc-modified-id=\"Listing-out-all-functions-1.1\"><span class=\"toc-item-num\">1.1&nbsp;&nbsp;</span>Listing out all functions</a></span></li></ul></li><li><span><a href=\"#Last-Minute-Retrieval-of-more-Articles\" data-toc-modified-id=\"Last-Minute-Retrieval-of-more-Articles-2\"><span class=\"toc-item-num\">2&nbsp;&nbsp;</span>Last-Minute Retrieval of more Articles</a></span><ul class=\"toc-item\"><li><span><a href=\"#The-New-York-Times\" data-toc-modified-id=\"The-New-York-Times-2.1\"><span class=\"toc-item-num\">2.1&nbsp;&nbsp;</span>The New York Times</a></span></li></ul></li><li><span><a href=\"#Unique-URLs\" data-toc-modified-id=\"Unique-URLs-3\"><span class=\"toc-item-num\">3&nbsp;&nbsp;</span>Unique URLs</a></span></li><li><span><a href=\"#Retrieval\" data-toc-modified-id=\"Retrieval-4\"><span class=\"toc-item-num\">4&nbsp;&nbsp;</span>Retrieval</a></span></li></ul></div>"
   ]
  },
  {
   "cell_type": "markdown",
   "id": "4cec12af",
   "metadata": {},
   "source": [
    "## Set-Up and Imports\n",
    "\n",
    "We use BeautifulSoup and Requests for Data Acquisition, with `re` for Regex matching and `glob` for file-checking. Pandas, Numpy and Matplotlib are also utilised."
   ]
  },
  {
   "cell_type": "code",
   "execution_count": 1,
   "id": "62d2265e",
   "metadata": {
    "ExecuteTime": {
     "end_time": "2022-02-18T03:58:09.174279Z",
     "start_time": "2022-02-18T03:58:06.955285Z"
    }
   },
   "outputs": [],
   "source": [
    "from lib.datagen import *\n",
    "from bs4 import BeautifulSoup as souper\n",
    "import requests, re\n",
    "import np, pandas as pd, matplotlib.pyplot as plt\n",
    "from glob import glob"
   ]
  },
  {
   "cell_type": "markdown",
   "id": "ff48bb29",
   "metadata": {},
   "source": [
    "### Listing out all functions"
   ]
  },
  {
   "cell_type": "code",
   "execution_count": 2,
   "id": "467895d1",
   "metadata": {
    "ExecuteTime": {
     "end_time": "2022-02-18T03:58:09.204278Z",
     "start_time": "2022-02-18T03:58:09.178280Z"
    }
   },
   "outputs": [
    {
     "data": {
      "text/plain": [
       "[<function lib.datagen.nytimes(url)>,\n",
       " <function lib.datagen.nature(url)>,\n",
       " <function lib.datagen.forbes(url)>]"
      ]
     },
     "execution_count": 2,
     "metadata": {},
     "output_type": "execute_result"
    }
   ],
   "source": [
    "functions"
   ]
  },
  {
   "cell_type": "markdown",
   "id": "b562bdaf",
   "metadata": {},
   "source": [
    "## Last-Minute Retrieval of more Articles"
   ]
  },
  {
   "cell_type": "markdown",
   "id": "4c10cb91",
   "metadata": {},
   "source": [
    "### The New York Times"
   ]
  },
  {
   "cell_type": "code",
   "execution_count": 7,
   "id": "ba15bb17",
   "metadata": {
    "ExecuteTime": {
     "end_time": "2022-02-18T04:22:28.144449Z",
     "start_time": "2022-02-18T04:22:05.628527Z"
    }
   },
   "outputs": [],
   "source": [
    "with open(\"datagen/nytimes.txt\", \"a\") as file:\n",
    "    print(*[tag[\"href\"] for tag in souper(requests.get(\"https://www.nytimes.com/\").content).findAll(\"a\") if re.match(r\"https://www\\.nytimes\\.com/\\d{4}/\\d{2}/\\d{2}.*\", tag[\"href\"])], sep=\"\\n\", file=file)"
   ]
  },
  {
   "cell_type": "markdown",
   "id": "3abef8a4",
   "metadata": {},
   "source": [
    "## Unique URLs\n",
    "\n",
    "To avoid overlap of URLs in the text files."
   ]
  },
  {
   "cell_type": "code",
   "execution_count": 8,
   "id": "e3433d42",
   "metadata": {
    "ExecuteTime": {
     "end_time": "2022-02-18T04:22:28.240449Z",
     "start_time": "2022-02-18T04:22:28.210454Z"
    }
   },
   "outputs": [
    {
     "name": "stdout",
     "output_type": "stream",
     "text": [
      "nytimes\n",
      "nature\n",
      "forbes\n"
     ]
    }
   ],
   "source": [
    "for retrieve in functions:\n",
    "    print(retrieve.__name__)\n",
    "    filename = f\"datagen/{retrieve.__name__}.txt\"\n",
    "    np.savetxt(filename, np.unique(np.loadtxt(filename, dtype=str)), fmt=\"%s\")"
   ]
  },
  {
   "cell_type": "markdown",
   "id": "f9b1e4db",
   "metadata": {},
   "source": [
    "## Retrieval"
   ]
  },
  {
   "cell_type": "code",
   "execution_count": 5,
   "id": "cc00d6ab",
   "metadata": {
    "ExecuteTime": {
     "end_time": "2022-02-18T04:00:02.613608Z",
     "start_time": "2022-02-18T03:58:13.419446Z"
    },
    "scrolled": false
   },
   "outputs": [
    {
     "name": "stdout",
     "output_type": "stream",
     "text": [
      "datagen/nytimes/what-to-do-when-you-dont-want-to-run.txt\n",
      "datagen/nytimes/women-stem-pandemic.txt\n",
      "datagen/nytimes/ai-education-neural-networks.txt\n",
      "datagen/nytimes/smartphones-iphone-android.txt\n",
      "datagen/nytimes/hearing-aids-fda.txt\n",
      "datagen/nytimes/google-facebook-advertising.txt\n",
      "datagen/nytimes/metaverse-politics-disinformation-society.txt\n",
      "datagen/nytimes/apple-face-computers.txt\n",
      "datagen/nytimes/tech-won-now-what.txt\n",
      "datagen/nytimes/tech-predictions.txt\n",
      "datagen/nytimes/microsoft-activision-metaverse.txt\n",
      "datagen/nytimes/metaverse-gaming-definition.txt\n",
      "datagen/nytimes/how-excited-are-you-about-the-metaverse.txt\n",
      "datagen/nytimes/facebook-experiments.txt\n",
      "datagen/nytimes/fact-check-joe-rogan-robert-malone.txt\n",
      "datagen/nytimes/ukraine-conflict-russia-military.txt\n",
      "datagen/nytimes/cecil-taylor-return-concert.txt\n",
      "datagen/nytimes/death-certificate-cause.txt\n",
      "datagen/nytimes/burnout-work-stress.txt\n",
      "datagen/nytimes/basquiat-painting-orlando-mumford-museum.txt\n",
      "datagen/nytimes/finland-bordertown-piece-of-my-heart.txt\n",
      "datagen/nytimes/covid-depression-anxiety.txt\n",
      "datagen/nytimes/flight-attendants-covid.txt\n",
      "datagen/nytimes/law-order-svu-organized-crime.txt\n",
      "datagen/nytimes/merkel-cell-carcinoma.txt\n",
      "datagen/nytimes/big-tech-stock-market.txt\n",
      "datagen/nytimes/parenting-adult-children.txt\n",
      "datagen/nytimes/sanctions-russia-ukraine.txt\n",
      "datagen/nytimes/covid-plague-work-labor.txt\n",
      "datagen/nytimes/modern-love-podcast-ham-sandwich.txt\n",
      "datagen/nytimes/oddity-ceramics-surrealism-art.txt\n",
      "datagen/nytimes/metamates-googlers.txt\n",
      "datagen/nytimes/energy-savings-nest.txt\n",
      "datagen/nytimes/olympics-china-american-athletes.txt\n",
      "datagen/nytimes/stonehenge-british-museum.txt\n",
      "datagen/nytimes/gregory-peck-mockingbird-sequel.txt\n",
      "datagen/nytimes/kanye-west-jeen-yuhs-documentary.txt\n",
      "datagen/nytimes/spotify-joe-rogan-misinformation.txt\n",
      "datagen/nytimes/comedy-jewish-identity.txt\n",
      "datagen/nytimes/ukraine-donald-trump-beijing-olympics.txt\n",
      "datagen/nytimes/jobs-hiring-fraud.txt\n",
      "datagen/nytimes/oscars-vaccine-mandate-coronavirus.txt\n",
      "datagen/nytimes/watches-obscure-brands-switzerland.txt\n",
      "datagen/nytimes/babies-work-meeting.txt\n",
      "datagen/nytimes/cuomo-melissa-derosa-sexual-harassment.txt\n",
      "datagen/nytimes/letitia-james-ny-attorney-general.txt\n",
      "datagen/nytimes/mall-fight-bridgewater-commons-nj.txt\n",
      "datagen/nytimes/nyc-budget-composting-adams.txt\n",
      "datagen/nytimes/trump-investigation-letitia-james.txt\n",
      "datagen/nytimes/abortion-florida-15-week-ban.txt\n",
      "datagen/nytimes/afghanistan-immigration-visa-us.txt\n",
      "datagen/nytimes/aids-pandemic-covid.txt\n",
      "datagen/nytimes/biden-economy-inflation-growth.txt\n",
      "datagen/nytimes/happiness-confidence-struggle.txt\n",
      "datagen/nytimes/inflation-supply-chain.txt\n",
      "datagen/nytimes/liberalism-democracy-russia-ukraine.txt\n",
      "datagen/nytimes/ottawa-protest-convoy.txt\n",
      "datagen/nytimes/school-board-recall.txt\n",
      "datagen/nytimes/sway-kara-swisher-keith-rabois.txt\n",
      "datagen/nytimes/walter-dellinger-law-supreme-court.txt\n",
      "datagen/nytimes/what-would-it-mean-to-end-the-covid-state-of-emergency.txt\n",
      "datagen/nytimes/ukraine-russia-us-troops.txt\n",
      "datagen/nytimes/basketball-celtics-ime-udoka.txt\n",
      "datagen/nytimes/kamila-valieva-falls-fourth-figure-skating.txt\n",
      "datagen/nytimes/durham-right-wing-media-trump.txt\n",
      "datagen/nytimes/fourth-dose-covid-vaccine.txt\n",
      "datagen/nytimes/biden-immigration-public-charge-trump.txt\n",
      "datagen/nytimes/blinken-russia-ukraine-predictions.txt\n",
      "datagen/nytimes/justice-department-cybersecurity.txt\n",
      "datagen/nytimes/kevin-mccarthy-harriet-hageman-liz-cheney.txt\n",
      "datagen/nytimes/senate-spending-bill-shutdown.txt\n",
      "datagen/nytimes/tiktok-ava-majury.txt\n",
      "datagen/nytimes/san-francisco-school-board-parents.txt\n",
      "datagen/nytimes/felicity-ace-vessel-fire.txt\n",
      "datagen/nytimes/stanytsia-lushankya-shelling.txt\n",
      "datagen/nytimes/ukraine-conflict-russia-military.txt\n",
      "datagen/nature/d41586-021-00954-8.txt\n",
      "datagen/nature/d41586-021-01170-0.txt\n",
      "datagen/nature/d41586-021-01812-3.txt\n",
      "datagen/nature/d41586-021-03817-4.txt\n",
      "datagen/nature/d41586-022-00018-5.txt\n",
      "datagen/nature/d41586-022-00057-y.txt\n",
      "datagen/nature/d41586-022-00109-3.txt\n",
      "datagen/nature/d41586-022-00154-y.txt\n",
      "datagen/nature/d41586-022-00227-y.txt\n",
      "datagen/nature/d41586-022-00334-w.txt\n",
      "datagen/nature/d41586-022-00335-9.txt\n",
      "datagen/nature/d41586-022-00414-x.txt\n",
      "datagen/forbes/work-experience-resume-overqualified-job-forbes-woman-leadership-career.txt\n",
      "datagen/forbes/why-is-work-experience-so-undervalued.txt\n"
     ]
    }
   ],
   "source": [
    "for retrieve in functions:\n",
    "    urls = pd.Series(np.unique(np.loadtxt(f\"datagen/{retrieve.__name__}.txt\", dtype=str)))\n",
    "    articles = urls.apply(retrieve)\n",
    "    \n",
    "    filenames = urls.str.split(r\"(/\\?|\\?)\").str.get(0).str.split(\"/\").str.get(-1).str.split(r\"\\.|\\?\").str.get(0)\n",
    "    for text, filename in zip(articles, filenames):\n",
    "        file = \"datagen/\"+retrieve.__name__+\"/\"+filename+\".txt\"\n",
    "        print(file)\n",
    "        with open(file, \"w+\", encoding=\"utf-8\") as outfile:\n",
    "            outfile.write(text)"
   ]
  },
  {
   "cell_type": "code",
   "execution_count": null,
   "id": "112156d0",
   "metadata": {},
   "outputs": [],
   "source": []
  }
 ],
 "metadata": {
  "kernelspec": {
   "display_name": "Python 3 (ipykernel)",
   "language": "python",
   "name": "python3"
  },
  "language_info": {
   "codemirror_mode": {
    "name": "ipython",
    "version": 3
   },
   "file_extension": ".py",
   "mimetype": "text/x-python",
   "name": "python",
   "nbconvert_exporter": "python",
   "pygments_lexer": "ipython3",
   "version": "3.9.7"
  },
  "toc": {
   "base_numbering": 1,
   "nav_menu": {},
   "number_sections": true,
   "sideBar": true,
   "skip_h1_title": true,
   "title_cell": "Table of Contents",
   "title_sidebar": "Contents",
   "toc_cell": true,
   "toc_position": {},
   "toc_section_display": true,
   "toc_window_display": true
  },
  "varInspector": {
   "cols": {
    "lenName": 16,
    "lenType": 16,
    "lenVar": 40
   },
   "kernels_config": {
    "python": {
     "delete_cmd_postfix": "",
     "delete_cmd_prefix": "del ",
     "library": "var_list.py",
     "varRefreshCmd": "print(var_dic_list())"
    },
    "r": {
     "delete_cmd_postfix": ") ",
     "delete_cmd_prefix": "rm(",
     "library": "var_list.r",
     "varRefreshCmd": "cat(var_dic_list()) "
    }
   },
   "types_to_exclude": [
    "module",
    "function",
    "builtin_function_or_method",
    "instance",
    "_Feature"
   ],
   "window_display": false
  }
 },
 "nbformat": 4,
 "nbformat_minor": 5
}
