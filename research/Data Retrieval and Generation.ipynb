{
 "cells": [
  {
   "cell_type": "markdown",
   "id": "a49bdfe8",
   "metadata": {},
   "source": [
    "# Data Retrieval and Generation\n",
    "\n",
    "For an actually good dataset, we use this."
   ]
  },
  {
   "cell_type": "markdown",
   "id": "5773bdb2",
   "metadata": {
    "toc": true
   },
   "source": [
    "<h1>Table of Contents<span class=\"tocSkip\"></span></h1>\n",
    "<div class=\"toc\"><ul class=\"toc-item\"><li><span><a href=\"#Set-Up-and-Imports\" data-toc-modified-id=\"Set-Up-and-Imports-1\"><span class=\"toc-item-num\">1&nbsp;&nbsp;</span>Set-Up and Imports</a></span><ul class=\"toc-item\"><li><span><a href=\"#Listing-out-all-functions\" data-toc-modified-id=\"Listing-out-all-functions-1.1\"><span class=\"toc-item-num\">1.1&nbsp;&nbsp;</span>Listing out all functions</a></span></li></ul></li><li><span><a href=\"#Last-Minute-Retrieval-of-more-Articles\" data-toc-modified-id=\"Last-Minute-Retrieval-of-more-Articles-2\"><span class=\"toc-item-num\">2&nbsp;&nbsp;</span>Last-Minute Retrieval of more Articles</a></span><ul class=\"toc-item\"><li><span><a href=\"#The-New-York-Times\" data-toc-modified-id=\"The-New-York-Times-2.1\"><span class=\"toc-item-num\">2.1&nbsp;&nbsp;</span>The New York Times</a></span></li></ul></li><li><span><a href=\"#Unique-URLs\" data-toc-modified-id=\"Unique-URLs-3\"><span class=\"toc-item-num\">3&nbsp;&nbsp;</span>Unique URLs</a></span></li><li><span><a href=\"#Retrieval\" data-toc-modified-id=\"Retrieval-4\"><span class=\"toc-item-num\">4&nbsp;&nbsp;</span>Retrieval</a></span></li></ul></div>"
   ]
  },
  {
   "cell_type": "markdown",
   "id": "638e2bd9",
   "metadata": {},
   "source": [
    "## Set-Up and Imports\n",
    "\n",
    "We use BeautifulSoup and Requests for Data Acquisition, with `re` for Regex matching and `glob` for file-checking. Pandas, Numpy and Matplotlib are also utilised."
   ]
  },
  {
   "cell_type": "code",
   "execution_count": 1,
   "id": "62d2265e",
   "metadata": {
    "ExecuteTime": {
     "end_time": "2022-02-19T07:22:40.100008Z",
     "start_time": "2022-02-19T07:22:34.867555Z"
    }
   },
   "outputs": [],
   "source": [
    "from lib.datagen import *\n",
    "from bs4 import BeautifulSoup as souper\n",
    "import requests, re\n",
    "import np, pandas as pd, matplotlib.pyplot as plt\n",
    "from glob import glob"
   ]
  },
  {
   "cell_type": "markdown",
   "id": "d7ed0258",
   "metadata": {},
   "source": [
    "### Listing out all functions"
   ]
  },
  {
   "cell_type": "code",
   "execution_count": 2,
   "id": "467895d1",
   "metadata": {
    "ExecuteTime": {
     "end_time": "2022-02-19T07:22:40.131360Z",
     "start_time": "2022-02-19T07:22:40.106012Z"
    }
   },
   "outputs": [
    {
     "data": {
      "text/plain": [
       "[<function lib.datagen.nytimes(url)>,\n",
       " <function lib.datagen.nature(url)>,\n",
       " <function lib.datagen.forbes(url)>]"
      ]
     },
     "execution_count": 2,
     "metadata": {},
     "output_type": "execute_result"
    }
   ],
   "source": [
    "functions"
   ]
  },
  {
   "cell_type": "markdown",
   "id": "9db2306c",
   "metadata": {},
   "source": [
    "## Last-Minute Retrieval of more Articles"
   ]
  },
  {
   "cell_type": "markdown",
   "id": "0f3cf576",
   "metadata": {},
   "source": [
    "### The New York Times"
   ]
  },
  {
   "cell_type": "code",
   "execution_count": 3,
   "id": "cc6e85c1",
   "metadata": {
    "ExecuteTime": {
     "end_time": "2022-02-19T07:22:43.459281Z",
     "start_time": "2022-02-19T07:22:40.136360Z"
    }
   },
   "outputs": [],
   "source": [
    "with open(\"datagen/nytimes.txt\", \"a\") as file:\n",
    "    print(*[tag[\"href\"] for tag in souper(requests.get(\"https://www.nytimes.com/\").content).findAll(\"a\") if re.match(r\"https://www\\.nytimes\\.com/\\d{4}/\\d{2}/\\d{2}.*\", tag[\"href\"])], sep=\"\\n\", file=file)"
   ]
  },
  {
   "cell_type": "markdown",
   "id": "d3399017",
   "metadata": {},
   "source": [
    "## Unique URLs\n",
    "\n",
    "To avoid overlap of URLs in the text files."
   ]
  },
  {
   "cell_type": "code",
   "execution_count": 4,
   "id": "08625ece",
   "metadata": {
    "ExecuteTime": {
     "end_time": "2022-02-19T07:22:43.522282Z",
     "start_time": "2022-02-19T07:22:43.465282Z"
    }
   },
   "outputs": [
    {
     "name": "stdout",
     "output_type": "stream",
     "text": [
      "nytimes\n",
      "nature\n",
      "forbes\n"
     ]
    }
   ],
   "source": [
    "for retrieve in functions:\n",
    "    print(retrieve.__name__)\n",
    "    filename = f\"datagen/{retrieve.__name__}.txt\"\n",
    "    np.savetxt(filename, np.unique(np.loadtxt(filename, dtype=str)), fmt=\"%s\")"
   ]
  },
  {
   "cell_type": "markdown",
   "id": "b8635c98",
   "metadata": {},
   "source": [
    "## Retrieval"
   ]
  },
  {
   "cell_type": "code",
   "execution_count": 5,
   "id": "cc00d6ab",
   "metadata": {
    "ExecuteTime": {
     "end_time": "2022-02-19T07:23:58.450141Z",
     "start_time": "2022-02-19T07:22:43.527281Z"
    },
    "scrolled": false
   },
   "outputs": [
    {
     "name": "stdout",
     "output_type": "stream",
     "text": [
      "datagen/nytimes/at-yosemite-a-waterfall-turns-into-a-firefall.txt\n",
      "datagen/nytimes/what-to-do-when-you-dont-want-to-run.txt\n",
      "datagen/nytimes/seasonal-depression-covid.txt\n",
      "datagen/nytimes/women-stem-pandemic.txt\n",
      "datagen/nytimes/ai-education-neural-networks.txt\n",
      "datagen/nytimes/motivation-energy-advice.txt\n",
      "datagen/nytimes/smartphones-iphone-android.txt\n",
      "datagen/nytimes/depression-anxiety-physical-health.txt\n",
      "datagen/nytimes/hearing-aids-fda.txt\n",
      "datagen/nytimes/yosemite-falls.txt\n",
      "datagen/nytimes/google-facebook-advertising.txt\n",
      "datagen/nytimes/metaverse-politics-disinformation-society.txt\n",
      "datagen/nytimes/apple-face-computers.txt\n",
      "datagen/nytimes/tech-won-now-what.txt\n",
      "datagen/nytimes/tech-predictions.txt\n",
      "datagen/nytimes/microsoft-activision-metaverse.txt\n",
      "datagen/nytimes/metaverse-gaming-definition.txt\n",
      "datagen/nytimes/how-excited-are-you-about-the-metaverse.txt\n",
      "datagen/nytimes/facebook-experiments.txt\n",
      "datagen/nytimes/olympics-beijing-xi-putin.txt\n",
      "datagen/nytimes/fact-check-joe-rogan-robert-malone.txt\n",
      "datagen/nytimes/ukraine-conflict-russia-military.txt\n",
      "datagen/nytimes/cecil-taylor-return-concert.txt\n",
      "datagen/nytimes/food-english-foreign-languages.txt\n",
      "datagen/nytimes/death-certificate-cause.txt\n",
      "datagen/nytimes/natural-wines.txt\n",
      "datagen/nytimes/burnout-work-stress.txt\n",
      "datagen/nytimes/basquiat-painting-orlando-mumford-museum.txt\n",
      "datagen/nytimes/finland-bordertown-piece-of-my-heart.txt\n",
      "datagen/nytimes/uc-berkeley-admissions-court-ruling.txt\n",
      "datagen/nytimes/covid-depression-anxiety.txt\n",
      "datagen/nytimes/flight-attendants-covid.txt\n",
      "datagen/nytimes/law-order-svu-organized-crime.txt\n",
      "datagen/nytimes/merkel-cell-carcinoma.txt\n",
      "datagen/nytimes/big-tech-stock-market.txt\n",
      "datagen/nytimes/parenting-adult-children.txt\n",
      "datagen/nytimes/sanctions-russia-ukraine.txt\n",
      "datagen/nytimes/covid-plague-work-labor.txt\n",
      "datagen/nytimes/modern-love-podcast-ham-sandwich.txt\n",
      "datagen/nytimes/oddity-ceramics-surrealism-art.txt\n",
      "datagen/nytimes/metamates-googlers.txt\n",
      "datagen/nytimes/energy-savings-nest.txt\n",
      "datagen/nytimes/focus-johann-hari.txt\n",
      "datagen/nytimes/olympics-china-american-athletes.txt\n",
      "datagen/nytimes/andrew-prince-charles-charity.txt\n",
      "datagen/nytimes/teresa-reichlen-retiring-from-new-york-city-ballet.txt\n",
      "datagen/nytimes/faith-ringgold-new-museum.txt\n",
      "datagen/nytimes/stonehenge-british-museum.txt\n",
      "datagen/nytimes/gregory-peck-mockingbird-sequel.txt\n",
      "datagen/nytimes/kanye-west-jeen-yuhs-documentary.txt\n",
      "datagen/nytimes/rokia-kone-jacknife-lee-bamanan-review.txt\n",
      "datagen/nytimes/spotify-joe-rogan-misinformation.txt\n",
      "datagen/nytimes/comedy-jewish-identity.txt\n",
      "datagen/nytimes/sam-waterston-law-and-order.txt\n",
      "datagen/nytimes/severance-review.txt\n",
      "datagen/nytimes/state-of-the-union-painting-with-john.txt\n",
      "datagen/nytimes/things-to-do-this-weekend.txt\n",
      "datagen/nytimes/ukraine-donald-trump-beijing-olympics.txt\n",
      "datagen/nytimes/jeff-koons-bmw.txt\n",
      "datagen/nytimes/jobs-hiring-fraud.txt\n",
      "datagen/nytimes/oscars-vaccine-mandate-coronavirus.txt\n",
      "datagen/nytimes/watches-obscure-brands-switzerland.txt\n",
      "datagen/nytimes/babies-work-meeting.txt\n",
      "datagen/nytimes/berlin-film-festival-2022.txt\n",
      "datagen/nytimes/dog-review.txt\n",
      "datagen/nytimes/cuomo-melissa-derosa-sexual-harassment.txt\n",
      "datagen/nytimes/letitia-james-ny-attorney-general.txt\n",
      "datagen/nytimes/mall-fight-bridgewater-commons-nj.txt\n",
      "datagen/nytimes/nyc-budget-composting-adams.txt\n",
      "datagen/nytimes/trump-investigation-letitia-james.txt\n",
      "datagen/nytimes/abortion-florida-15-week-ban.txt\n",
      "datagen/nytimes/afghanistan-immigration-visa-us.txt\n",
      "datagen/nytimes/aids-pandemic-covid.txt\n",
      "datagen/nytimes/biden-economy-inflation-growth.txt\n",
      "datagen/nytimes/happiness-confidence-struggle.txt\n",
      "datagen/nytimes/inflation-supply-chain.txt\n",
      "datagen/nytimes/liberalism-democracy-russia-ukraine.txt\n",
      "datagen/nytimes/ottawa-protest-convoy.txt\n",
      "datagen/nytimes/school-board-recall.txt\n",
      "datagen/nytimes/sway-kara-swisher-keith-rabois.txt\n",
      "datagen/nytimes/walter-dellinger-law-supreme-court.txt\n",
      "datagen/nytimes/what-would-it-mean-to-end-the-covid-state-of-emergency.txt\n",
      "datagen/nytimes/ukraine-russia-us-troops.txt\n",
      "datagen/nytimes/basketball-celtics-ime-udoka.txt\n",
      "datagen/nytimes/kamila-valieva-falls-fourth-figure-skating.txt\n",
      "datagen/nytimes/family-birthday-reminders-social-qs.txt\n",
      "datagen/nytimes/wall-street-hotel.txt\n",
      "datagen/nytimes/ski-tricks-utah.txt\n",
      "datagen/nytimes/durham-right-wing-media-trump.txt\n",
      "datagen/nytimes/fourth-dose-covid-vaccine.txt\n",
      "datagen/nytimes/high-risk-covid-immunocompromised.txt\n",
      "datagen/nytimes/oakland-hills-country-club-fire.txt\n",
      "datagen/nytimes/biden-immigration-public-charge-trump.txt\n",
      "datagen/nytimes/blinken-russia-ukraine-predictions.txt\n",
      "datagen/nytimes/durham-right-wing-media-trump.txt\n",
      "datagen/nytimes/justice-department-cybersecurity.txt\n",
      "datagen/nytimes/kevin-mccarthy-harriet-hageman-liz-cheney.txt\n",
      "datagen/nytimes/senate-spending-bill-shutdown.txt\n",
      "datagen/nytimes/tiktok-ava-majury.txt\n",
      "datagen/nytimes/san-francisco-school-board-parents.txt\n",
      "datagen/nytimes/help-friend-support.txt\n",
      "datagen/nytimes/felicity-ace-vessel-fire.txt\n",
      "datagen/nytimes/stanytsia-lushankya-shelling.txt\n",
      "datagen/nytimes/ukraine-conflict-russia-military.txt\n",
      "datagen/nytimes/tyshawn-sorey-rothko-chapel.txt\n",
      "datagen/nytimes/trevor-noah-russia-ukraine.txt\n",
      "datagen/nytimes/red-covid-partisan-deaths-vaccines.txt\n",
      "datagen/nytimes/china-coronavirus-vaccines.txt\n",
      "datagen/nytimes/federal-reserve-trading-restrictions.txt\n",
      "datagen/nytimes/allison-gollust-cnn-cuomo.txt\n",
      "datagen/nytimes/what-to-cook-this-weekend.txt\n",
      "datagen/nytimes/girls-eating-disorders-pandemic.txt\n",
      "datagen/nytimes/sacklers-opioids-lawsuit.txt\n",
      "datagen/nytimes/eileen-gu-chinese-american.txt\n",
      "datagen/nytimes/hadley-palmer-greenwich.txt\n",
      "datagen/nytimes/homeless-people-subway-trains-mta.txt\n",
      "datagen/nytimes/christopher-buckley-pj-orourke.txt\n",
      "datagen/nytimes/congress-stock-trading-ban.txt\n",
      "datagen/nytimes/ezra-klein-podcast-alex-tabarrok.txt\n",
      "datagen/nytimes/inflation-us-consumer-surveys.txt\n",
      "datagen/nytimes/susan-collins-eca-reform.txt\n",
      "datagen/nytimes/space-china-billionaires.txt\n",
      "datagen/nytimes/child-tax-credit-poverty-benefits.txt\n",
      "datagen/nytimes/taxes-remote-work.txt\n",
      "datagen/nytimes/the-gilded-age.txt\n",
      "datagen/nytimes/us-history-censorship.txt\n",
      "datagen/nytimes/lab-grown-meat-sleep-airtags.txt\n",
      "datagen/nytimes/covid-nursing-shortages.txt\n",
      "datagen/nytimes/home-buyer-risks-bad-credit-savings.txt\n",
      "datagen/nytimes/phil-mickelson-saudi-golf-tour.txt\n",
      "datagen/nytimes/norway-medals-winter-olympics.txt\n",
      "datagen/nytimes/olympics-skating-valieva-age.txt\n",
      "datagen/nytimes/pairs-figure-skating-short-program.txt\n",
      "datagen/nytimes/pairs-figure-skating-short-program.txt\n",
      "datagen/nytimes/american-girl-cafe-harry-hill-serena-kerrigan.txt\n",
      "datagen/nytimes/modern-love-i-tried-so-hard-to-be-good.txt\n",
      "datagen/nytimes/china-olympics-propaganda.txt\n",
      "datagen/nytimes/australia-tourism-covid.txt\n",
      "datagen/nytimes/bucket-list-travel.txt\n",
      "datagen/nytimes/ahmaud-arbery-mcmichael-trial.txt\n",
      "datagen/nytimes/california-state-chancellor-resigns.txt\n",
      "datagen/nytimes/kim-potter-sentence-manslaughter.txt\n",
      "datagen/nytimes/nashville-gerrymandering-republican-democrat.txt\n",
      "datagen/nytimes/biden-ukraine-russia.txt\n",
      "datagen/nytimes/civil-suits-trump-jan-6.txt\n",
      "datagen/nytimes/congress-russia-sanctions.txt\n",
      "datagen/nytimes/jim-hagedorn-dead.txt\n",
      "datagen/nytimes/melania-trump-charity-donation.txt\n",
      "datagen/nytimes/prosecutors-midterms-crime.txt\n",
      "datagen/nytimes/putin-ukraine.txt\n",
      "datagen/nytimes/submarine-spy-guilty-plea.txt\n",
      "datagen/nytimes/supreme-court-remain-in-mexico-asylum.txt\n",
      "datagen/nytimes/texas-primary-voting-law.txt\n",
      "datagen/nytimes/trump-archives-white-house.txt\n",
      "datagen/nytimes/seattle-bicycle-helmet.txt\n",
      "datagen/nytimes/adhd-dating-relationships.txt\n",
      "datagen/nytimes/afghanistan-boy-dies-well.txt\n",
      "datagen/nytimes/canada-protest-arrests.txt\n",
      "datagen/nytimes/eunice-storm-damage.txt\n",
      "datagen/nytimes/london-highgate-cemetery-dispatch.txt\n",
      "datagen/nytimes/putin-russia-ukraine.txt\n",
      "datagen/nytimes/ukraine-russia-separatists-shelling.txt\n",
      "datagen/nature/d41586-021-00954-8.txt\n",
      "datagen/nature/d41586-021-01170-0.txt\n",
      "datagen/nature/d41586-021-01812-3.txt\n",
      "datagen/nature/d41586-021-03817-4.txt\n",
      "datagen/nature/d41586-022-00018-5.txt\n",
      "datagen/nature/d41586-022-00057-y.txt\n",
      "datagen/nature/d41586-022-00109-3.txt\n",
      "datagen/nature/d41586-022-00154-y.txt\n",
      "datagen/nature/d41586-022-00227-y.txt\n",
      "datagen/nature/d41586-022-00334-w.txt\n",
      "datagen/nature/d41586-022-00335-9.txt\n",
      "datagen/nature/d41586-022-00414-x.txt\n"
     ]
    },
    {
     "name": "stdout",
     "output_type": "stream",
     "text": [
      "datagen/forbes/work-experience-resume-overqualified-job-forbes-woman-leadership-career.txt\n",
      "datagen/forbes/why-is-work-experience-so-undervalued.txt\n"
     ]
    }
   ],
   "source": [
    "for retrieve in functions:\n",
    "    urls = pd.Series(np.unique(np.loadtxt(f\"datagen/{retrieve.__name__}.txt\", dtype=str)))\n",
    "    articles = urls.apply(retrieve)\n",
    "    \n",
    "    filenames = urls.str.split(r\"(/\\?|\\?)\").str.get(0).str.split(\"/\").str.get(-1).str.split(r\"\\.|\\?\").str.get(0)\n",
    "    for text, filename in zip(articles, filenames):\n",
    "        file = \"datagen/\"+retrieve.__name__+\"/\"+filename+\".txt\"\n",
    "        print(file)\n",
    "        with open(file, \"w+\", encoding=\"utf-8\") as outfile:\n",
    "            outfile.write(text)"
   ]
  },
  {
   "cell_type": "code",
   "execution_count": null,
   "id": "616b2108",
   "metadata": {},
   "outputs": [],
   "source": []
  }
 ],
 "metadata": {
  "kernelspec": {
   "display_name": "Python 3 (ipykernel)",
   "language": "python",
   "name": "python3"
  },
  "language_info": {
   "codemirror_mode": {
    "name": "ipython",
    "version": 3
   },
   "file_extension": ".py",
   "mimetype": "text/x-python",
   "name": "python",
   "nbconvert_exporter": "python",
   "pygments_lexer": "ipython3",
   "version": "3.9.7"
  },
  "toc": {
   "base_numbering": 1,
   "nav_menu": {},
   "number_sections": true,
   "sideBar": true,
   "skip_h1_title": true,
   "title_cell": "Table of Contents",
   "title_sidebar": "Contents",
   "toc_cell": true,
   "toc_position": {},
   "toc_section_display": true,
   "toc_window_display": true
  },
  "varInspector": {
   "cols": {
    "lenName": 16,
    "lenType": 16,
    "lenVar": 40
   },
   "kernels_config": {
    "python": {
     "delete_cmd_postfix": "",
     "delete_cmd_prefix": "del ",
     "library": "var_list.py",
     "varRefreshCmd": "print(var_dic_list())"
    },
    "r": {
     "delete_cmd_postfix": ") ",
     "delete_cmd_prefix": "rm(",
     "library": "var_list.r",
     "varRefreshCmd": "cat(var_dic_list()) "
    }
   },
   "types_to_exclude": [
    "module",
    "function",
    "builtin_function_or_method",
    "instance",
    "_Feature"
   ],
   "window_display": false
  }
 },
 "nbformat": 4,
 "nbformat_minor": 5
}
