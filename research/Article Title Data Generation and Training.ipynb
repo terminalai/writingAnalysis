{
 "cells": [
  {
   "cell_type": "code",
   "execution_count": 1,
   "id": "c839968c",
   "metadata": {
    "ExecuteTime": {
     "end_time": "2022-03-22T06:44:35.648052Z",
     "start_time": "2022-03-22T06:44:32.813940Z"
    }
   },
   "outputs": [],
   "source": [
    "from bs4 import BeautifulSoup as souper\n",
    "import requests, re\n",
    "import pandas as pd"
   ]
  },
  {
   "cell_type": "code",
   "execution_count": 40,
   "id": "5e080aeb",
   "metadata": {
    "ExecuteTime": {
     "end_time": "2022-03-21T14:52:37.551044Z",
     "start_time": "2022-03-21T14:52:37.386257Z"
    }
   },
   "outputs": [
    {
     "data": {
      "text/plain": [
       "{'text': 'The metaverse is coming. It was once a science-fiction fantasy, most notably in Neal Stephenson’s novel “Snow Crash,” of an all-encompassing virtual universe that would exist alongside the physical one. But technological advances have brought this transformation of human society close enough to reality to demand that we consider its consequences.\\n\\nIn the metaverse, a user might curate a digital avatar, like a character in a video game. Through the eyes of their avatar, they would experience a digital reality as active and engaging as the physical one. Some futurists believe that soon we might attend doctor’s appointments or class there.\\n\\nBut while the metaverse could revolutionize work and play, it is essential to remain wary of the dangers that will emerge if it subsumes daily life.\\n\\nVirtual environments will supercharge disinformation campaigns, espionage and surveillance. Struggles for control of the metaverse’s physical infrastructure could very well aggravate global conflicts. And the supranational nature of the metaverse — where real-world borders become far less relevant — could revolutionize the way that individuals perceive and interact with nation-states.\\n\\nA failure to anticipate these possibilities may put the global world order at risk of being replaced by a virtual, and perhaps less virtuous, one.\\n\\nToday, glimpses of the metaverse are everywhere. Virtual concerts attract record audiences; high-end designers sell virtual fashion; and gaming has become a livelihood for people around the world. Many of the closest corollaries to a full-fledged metaverse are immersive games like Fortnite, Minecraft and Roblox, where players can socialize, shop and attend events in a virtual world.\\n\\nThere’s already evidence that online multiplayer games can enable the spread of disinformation and conspiracy theories. Players can use in-game communication tools to disseminate rumors or “fake news,” targeting others in difficult-to-track ways.\\n\\nThe metaverse could allow motivated regimes or extremist groups to go a step farther. Immersive layers of text, voice and visuals in virtual environments would provide new, convincing ways to broadcast misleading or extremist content.\\n\\nIn environments where individuals can be represented by pseudonymous avatars, knowing whom to trust with sensitive information will become even more difficult. This could pave the way for a new era of espionage.\\n\\nDigital espionage has already been used by dozens of countries to gain access to commercial intellectual property, proprietary military technology and personal and financial information. A metaverse that contains nearly all aspects of life — work, relationships, assets, identity — could be susceptible to breaches or manipulation from across the globe.\\n\\nCountries and corporations alike will likely also be able to use the metaverse to engage in surveillance with greater sophistication.\\n\\nStates have already used facial recognition technology to monitor individuals’ behavior. Companies have used it for device-unlocking or real-time animation. Integration with the metaverse could make it — and the privacy issues it presents — even more ubiquitous. If exploited, that technology could easily be used to surveil any participant around the world.\\n\\nEven the metaverse’s physical infrastructure will likely present new vulnerabilities.\\n\\nA constellation of technologies, including hardware, computer networks and payment tools, will support the metaverse’s functionality. The countries that maintain control over those technologies will have significant international leverage, just as countries that command things like transport routes or oil supplies do today.\\n\\nChina could effectively control the metaverse’s backbone in many corners of the world, thanks to its Digital Silk Road initiative, which finances some countries’ telecommunications systems. Taiwan, which dominates the semiconductor industry that supports computing needs, will likely become even more of a linchpin on the global stage.\\n\\nThis kind of physical infrastructure will, in turn, be vulnerable to hacking and supply chain interruptions. If people own property, earn a living, and maintain communities in the metaverse, then hardware shortages or service outages could jeopardize livelihoods or undermine social stability.\\n\\nDespite these threats, the metaverse also has the potential to change global affairs for the better. International diplomacy may just as easily be conducted in virtual embassies. Smaller, less powerful nations may find themselves on a more level playing field, better able to stay in the mix in global affairs or perhaps, to forge unlikely alliances.\\n\\nVirtual environments have also shown promise for activists resisting digital authoritarianism. On Minecraft, Reporters Without Borders has sponsored an Uncensored Library where users could see content by dissident writers that had been censored in countries like Saudi Arabia, Russia and Vietnam. It’s possible that the metaverse may bring new promise for freedom and transparency across borders.\\n\\nBut the metaverse’s consequences may be even more radical.\\n\\nIf it becomes as all-encompassing as some predict, the metaverse may foster virtual communities, networks and economies that transcend borders and national identities. Individuals might one day identify primarily with metaverse-based decentralized autonomous organizations with their own quasi-foreign policies. Such a transition could mandate the reconceptualization of geopolitical affairs from the ground up.\\n\\nThe metaverse may have been born in science fiction, but it’s up to us to write a future grounded in cleareyed reality.',\n",
       " 'title': 'The Metaverse Is Coming, and the World Is Not Ready for It'}"
      ]
     },
     "execution_count": 40,
     "metadata": {},
     "output_type": "execute_result"
    }
   ],
   "source": [
    "def nytimes(url):\n",
    "    soup = souper(requests.get(url).content, features=\"lxml\")\n",
    "    title = soup.find(\"h1\")\n",
    "    title = title.text if title else \"\"\n",
    "    text = \"\\n\\n\".join([tag.text for tag in soup.findAll(\"p\", {\"class\":\"evys1bk0\"})])\n",
    "    return dict(text=text, title=title)\n",
    "\n",
    "nytimes(\"https://www.nytimes.com/2021/12/02/opinion/metaverse-politics-disinformation-society.html\")"
   ]
  },
  {
   "cell_type": "code",
   "execution_count": 36,
   "id": "af4105da",
   "metadata": {
    "ExecuteTime": {
     "end_time": "2022-03-21T14:48:42.912683Z",
     "start_time": "2022-03-21T14:48:42.647806Z"
    }
   },
   "outputs": [],
   "source": [
    "urls = [\"https://www.nytimes.com\"+tag[\"href\"] if tag[\"href\"].startswith(\"/\") else tag[\"href\"] for tag in souper(requests.get(\"https://www.nytimes.com/\").content).findAll(\"a\") if re.match(r\"(https://www\\.nytimes\\.com)?/([a-zA-Z0-9_]+/)*\\d{4}/\\d{2}/\\d{2}.*\", tag.get(\"href\", \"\"))]"
   ]
  },
  {
   "cell_type": "code",
   "execution_count": 37,
   "id": "7f6c8b2d",
   "metadata": {
    "ExecuteTime": {
     "end_time": "2022-03-21T14:48:45.241595Z",
     "start_time": "2022-03-21T14:48:44.856359Z"
    }
   },
   "outputs": [
    {
     "data": {
      "text/plain": [
       "['https://www.nytimes.com/section/todayspaper',\n",
       " 'https://www.nytimes.com/section/world',\n",
       " 'https://www.nytimes.com/section/us',\n",
       " 'https://www.nytimes.com/section/politics',\n",
       " 'https://www.nytimes.com/section/nyregion',\n",
       " 'https://www.nytimes.com/section/business',\n",
       " 'https://www.nytimes.com/section/opinion',\n",
       " 'https://www.nytimes.com/section/technology',\n",
       " 'https://www.nytimes.com/section/science',\n",
       " 'https://www.nytimes.com/section/health',\n",
       " 'https://www.nytimes.com/section/sports',\n",
       " 'https://www.nytimes.com/section/arts',\n",
       " 'https://www.nytimes.com/section/books',\n",
       " 'https://www.nytimes.com/section/style',\n",
       " 'https://www.nytimes.com/section/food',\n",
       " 'https://www.nytimes.com/section/travel',\n",
       " 'https://www.nytimes.com/section/magazine',\n",
       " 'https://www.nytimes.com/section/t-magazine',\n",
       " 'https://www.nytimes.com/section/realestate',\n",
       " 'https://www.nytimes.com/section/world',\n",
       " 'https://www.nytimes.com/section/us',\n",
       " 'https://www.nytimes.com/section/politics',\n",
       " 'https://www.nytimes.com/section/nyregion',\n",
       " 'https://www.nytimes.com/section/business',\n",
       " 'https://www.nytimes.com/section/opinion',\n",
       " 'https://www.nytimes.com/section/technology',\n",
       " 'https://www.nytimes.com/section/science',\n",
       " 'https://www.nytimes.com/section/health',\n",
       " 'https://www.nytimes.com/section/sports',\n",
       " 'https://www.nytimes.com/section/arts',\n",
       " 'https://www.nytimes.com/section/books',\n",
       " 'https://www.nytimes.com/section/style',\n",
       " 'https://www.nytimes.com/section/food',\n",
       " 'https://www.nytimes.com/section/travel',\n",
       " 'https://www.nytimes.com/section/magazine',\n",
       " 'https://www.nytimes.com/section/t-magazine',\n",
       " 'https://www.nytimes.com/section/realestate',\n",
       " 'https://www.nytimes.com/section/opinion']"
      ]
     },
     "execution_count": 37,
     "metadata": {},
     "output_type": "execute_result"
    }
   ],
   "source": [
    "sections = [\"https://www.nytimes.com\"+tag[\"href\"] if tag[\"href\"].startswith(\"/\") else tag[\"href\"] for tag in souper(requests.get(\"https://www.nytimes.com/\").content).findAll(\"a\") if re.match(r\"(https://www\\.nytimes\\.com)?/section/.*\", tag.get(\"href\", \"\"))]\n",
    "sections"
   ]
  },
  {
   "cell_type": "code",
   "execution_count": 38,
   "id": "16c448d1",
   "metadata": {
    "ExecuteTime": {
     "end_time": "2022-03-21T14:48:55.335746Z",
     "start_time": "2022-03-21T14:48:47.828595Z"
    }
   },
   "outputs": [
    {
     "data": {
      "text/plain": [
       "1562"
      ]
     },
     "execution_count": 38,
     "metadata": {},
     "output_type": "execute_result"
    }
   ],
   "source": [
    "for url in sections:\n",
    "    section_urls = [\"https://www.nytimes.com\"+tag[\"href\"] if tag[\"href\"].startswith(\"/\") else tag[\"href\"] for tag in souper(requests.get(url).content).findAll(\"a\") if re.match(r\"(https://www\\.nytimes\\.com)?/([a-zA-Z0-9_]+/)*\\d{4}/\\d{2}/\\d{2}.*\", tag.get(\"href\", \"\"))]\n",
    "    urls.extend(section_urls)\n",
    "len(urls)"
   ]
  },
  {
   "cell_type": "code",
   "execution_count": 45,
   "id": "d34ab536",
   "metadata": {
    "ExecuteTime": {
     "end_time": "2022-03-21T15:13:28.752981Z",
     "start_time": "2022-03-21T15:08:47.291624Z"
    }
   },
   "outputs": [],
   "source": [
    "df = pd.DataFrame([nytimes(url) for url in urls])"
   ]
  },
  {
   "cell_type": "code",
   "execution_count": 46,
   "id": "fdfe681f",
   "metadata": {
    "ExecuteTime": {
     "end_time": "2022-03-21T15:21:43.587754Z",
     "start_time": "2022-03-21T15:21:43.553753Z"
    }
   },
   "outputs": [
    {
     "data": {
      "text/html": [
       "<div>\n",
       "<style scoped>\n",
       "    .dataframe tbody tr th:only-of-type {\n",
       "        vertical-align: middle;\n",
       "    }\n",
       "\n",
       "    .dataframe tbody tr th {\n",
       "        vertical-align: top;\n",
       "    }\n",
       "\n",
       "    .dataframe thead th {\n",
       "        text-align: right;\n",
       "    }\n",
       "</style>\n",
       "<table border=\"1\" class=\"dataframe\">\n",
       "  <thead>\n",
       "    <tr style=\"text-align: right;\">\n",
       "      <th></th>\n",
       "      <th>text</th>\n",
       "      <th>title</th>\n",
       "    </tr>\n",
       "  </thead>\n",
       "  <tbody>\n",
       "    <tr>\n",
       "      <th>0</th>\n",
       "      <td>Carrie Lam, the chief executive, announced tha...</td>\n",
       "      <td>Hong Kong Set to Ease Some of the World’s Stri...</td>\n",
       "    </tr>\n",
       "    <tr>\n",
       "      <th>1</th>\n",
       "      <td>The airline expressed its condolences to the r...</td>\n",
       "      <td>Live Updates: China Eastern Plane Crashes With...</td>\n",
       "    </tr>\n",
       "    <tr>\n",
       "      <th>2</th>\n",
       "      <td>Russian forces had given a predawn deadline fo...</td>\n",
       "      <td>Ukraine Live Updates: Mariupol Refuses to Yiel...</td>\n",
       "    </tr>\n",
       "    <tr>\n",
       "      <th>3</th>\n",
       "      <td>President Biden’s nominee to the Supreme Court...</td>\n",
       "      <td>Supreme Court Live Updates: Confirmation Heari...</td>\n",
       "    </tr>\n",
       "    <tr>\n",
       "      <th>4</th>\n",
       "      <td>Russian forces had given a predawn deadline fo...</td>\n",
       "      <td>Ukraine Live Updates: Mariupol Refuses to Yiel...</td>\n",
       "    </tr>\n",
       "    <tr>\n",
       "      <th>...</th>\n",
       "      <td>...</td>\n",
       "      <td>...</td>\n",
       "    </tr>\n",
       "    <tr>\n",
       "      <th>1557</th>\n",
       "      <td>After a confusing month, it is now clear what ...</td>\n",
       "      <td>It’s Now Putin’s Plan B in Ukraine vs. Biden’s...</td>\n",
       "    </tr>\n",
       "    <tr>\n",
       "      <th>1558</th>\n",
       "      <td>To the Editor:\\n\\nRe “Pandemic Has Pulled Read...</td>\n",
       "      <td>‘The Children Can’t Wait’: A Better Path to Re...</td>\n",
       "    </tr>\n",
       "    <tr>\n",
       "      <th>1559</th>\n",
       "      <td>I was in college, just old enough to vote, whe...</td>\n",
       "      <td>How the ‘Whole Life’ Movement Challenges the P...</td>\n",
       "    </tr>\n",
       "    <tr>\n",
       "      <th>1560</th>\n",
       "      <td>When the first McDonald’s restaurant appeared ...</td>\n",
       "      <td>Russia Will Remake Itself. But It Has to Crumb...</td>\n",
       "    </tr>\n",
       "    <tr>\n",
       "      <th>1561</th>\n",
       "      <td>With Roe v. Wade on thin ice, state legislatur...</td>\n",
       "      <td>Anti-Abortion Groups Once Portrayed Women as V...</td>\n",
       "    </tr>\n",
       "  </tbody>\n",
       "</table>\n",
       "<p>1562 rows × 2 columns</p>\n",
       "</div>"
      ],
      "text/plain": [
       "                                                   text  \\\n",
       "0     Carrie Lam, the chief executive, announced tha...   \n",
       "1     The airline expressed its condolences to the r...   \n",
       "2     Russian forces had given a predawn deadline fo...   \n",
       "3     President Biden’s nominee to the Supreme Court...   \n",
       "4     Russian forces had given a predawn deadline fo...   \n",
       "...                                                 ...   \n",
       "1557  After a confusing month, it is now clear what ...   \n",
       "1558  To the Editor:\\n\\nRe “Pandemic Has Pulled Read...   \n",
       "1559  I was in college, just old enough to vote, whe...   \n",
       "1560  When the first McDonald’s restaurant appeared ...   \n",
       "1561  With Roe v. Wade on thin ice, state legislatur...   \n",
       "\n",
       "                                                  title  \n",
       "0     Hong Kong Set to Ease Some of the World’s Stri...  \n",
       "1     Live Updates: China Eastern Plane Crashes With...  \n",
       "2     Ukraine Live Updates: Mariupol Refuses to Yiel...  \n",
       "3     Supreme Court Live Updates: Confirmation Heari...  \n",
       "4     Ukraine Live Updates: Mariupol Refuses to Yiel...  \n",
       "...                                                 ...  \n",
       "1557  It’s Now Putin’s Plan B in Ukraine vs. Biden’s...  \n",
       "1558  ‘The Children Can’t Wait’: A Better Path to Re...  \n",
       "1559  How the ‘Whole Life’ Movement Challenges the P...  \n",
       "1560  Russia Will Remake Itself. But It Has to Crumb...  \n",
       "1561  Anti-Abortion Groups Once Portrayed Women as V...  \n",
       "\n",
       "[1562 rows x 2 columns]"
      ]
     },
     "execution_count": 46,
     "metadata": {},
     "output_type": "execute_result"
    }
   ],
   "source": [
    "df"
   ]
  },
  {
   "cell_type": "code",
   "execution_count": 48,
   "id": "b4eb8779",
   "metadata": {
    "ExecuteTime": {
     "end_time": "2022-03-21T15:22:14.023809Z",
     "start_time": "2022-03-21T15:22:13.988809Z"
    }
   },
   "outputs": [
    {
     "data": {
      "text/html": [
       "<div>\n",
       "<style scoped>\n",
       "    .dataframe tbody tr th:only-of-type {\n",
       "        vertical-align: middle;\n",
       "    }\n",
       "\n",
       "    .dataframe tbody tr th {\n",
       "        vertical-align: top;\n",
       "    }\n",
       "\n",
       "    .dataframe thead th {\n",
       "        text-align: right;\n",
       "    }\n",
       "</style>\n",
       "<table border=\"1\" class=\"dataframe\">\n",
       "  <thead>\n",
       "    <tr style=\"text-align: right;\">\n",
       "      <th></th>\n",
       "      <th>text</th>\n",
       "      <th>title</th>\n",
       "      <th>url</th>\n",
       "    </tr>\n",
       "  </thead>\n",
       "  <tbody>\n",
       "    <tr>\n",
       "      <th>0</th>\n",
       "      <td>Carrie Lam, the chief executive, announced tha...</td>\n",
       "      <td>Hong Kong Set to Ease Some of the World’s Stri...</td>\n",
       "      <td>https://www.nytimes.com/live/2022/03/21/world/...</td>\n",
       "    </tr>\n",
       "    <tr>\n",
       "      <th>1</th>\n",
       "      <td>The airline expressed its condolences to the r...</td>\n",
       "      <td>Live Updates: China Eastern Plane Crashes With...</td>\n",
       "      <td>https://www.nytimes.com/live/2022/03/21/world/...</td>\n",
       "    </tr>\n",
       "    <tr>\n",
       "      <th>2</th>\n",
       "      <td>Russian forces had given a predawn deadline fo...</td>\n",
       "      <td>Ukraine Live Updates: Mariupol Refuses to Yiel...</td>\n",
       "      <td>https://www.nytimes.com/live/2022/03/21/world/...</td>\n",
       "    </tr>\n",
       "    <tr>\n",
       "      <th>3</th>\n",
       "      <td>President Biden’s nominee to the Supreme Court...</td>\n",
       "      <td>Supreme Court Live Updates: Confirmation Heari...</td>\n",
       "      <td>https://www.nytimes.com/live/2022/03/21/us/ket...</td>\n",
       "    </tr>\n",
       "    <tr>\n",
       "      <th>4</th>\n",
       "      <td>Russian forces had given a predawn deadline fo...</td>\n",
       "      <td>Ukraine Live Updates: Mariupol Refuses to Yiel...</td>\n",
       "      <td>https://www.nytimes.com/live/2022/03/21/world/...</td>\n",
       "    </tr>\n",
       "    <tr>\n",
       "      <th>...</th>\n",
       "      <td>...</td>\n",
       "      <td>...</td>\n",
       "      <td>...</td>\n",
       "    </tr>\n",
       "    <tr>\n",
       "      <th>1557</th>\n",
       "      <td>After a confusing month, it is now clear what ...</td>\n",
       "      <td>It’s Now Putin’s Plan B in Ukraine vs. Biden’s...</td>\n",
       "      <td>https://www.nytimes.com/2022/03/20/opinion/put...</td>\n",
       "    </tr>\n",
       "    <tr>\n",
       "      <th>1558</th>\n",
       "      <td>To the Editor:\\n\\nRe “Pandemic Has Pulled Read...</td>\n",
       "      <td>‘The Children Can’t Wait’: A Better Path to Re...</td>\n",
       "      <td>https://www.nytimes.com/2022/03/20/opinion/let...</td>\n",
       "    </tr>\n",
       "    <tr>\n",
       "      <th>1559</th>\n",
       "      <td>I was in college, just old enough to vote, whe...</td>\n",
       "      <td>How the ‘Whole Life’ Movement Challenges the P...</td>\n",
       "      <td>https://www.nytimes.com/2022/03/20/opinion/who...</td>\n",
       "    </tr>\n",
       "    <tr>\n",
       "      <th>1560</th>\n",
       "      <td>When the first McDonald’s restaurant appeared ...</td>\n",
       "      <td>Russia Will Remake Itself. But It Has to Crumb...</td>\n",
       "      <td>https://www.nytimes.com/2022/03/20/opinion/rus...</td>\n",
       "    </tr>\n",
       "    <tr>\n",
       "      <th>1561</th>\n",
       "      <td>With Roe v. Wade on thin ice, state legislatur...</td>\n",
       "      <td>Anti-Abortion Groups Once Portrayed Women as V...</td>\n",
       "      <td>https://www.nytimes.com/2022/03/19/opinion/abo...</td>\n",
       "    </tr>\n",
       "  </tbody>\n",
       "</table>\n",
       "<p>1562 rows × 3 columns</p>\n",
       "</div>"
      ],
      "text/plain": [
       "                                                   text  \\\n",
       "0     Carrie Lam, the chief executive, announced tha...   \n",
       "1     The airline expressed its condolences to the r...   \n",
       "2     Russian forces had given a predawn deadline fo...   \n",
       "3     President Biden’s nominee to the Supreme Court...   \n",
       "4     Russian forces had given a predawn deadline fo...   \n",
       "...                                                 ...   \n",
       "1557  After a confusing month, it is now clear what ...   \n",
       "1558  To the Editor:\\n\\nRe “Pandemic Has Pulled Read...   \n",
       "1559  I was in college, just old enough to vote, whe...   \n",
       "1560  When the first McDonald’s restaurant appeared ...   \n",
       "1561  With Roe v. Wade on thin ice, state legislatur...   \n",
       "\n",
       "                                                  title  \\\n",
       "0     Hong Kong Set to Ease Some of the World’s Stri...   \n",
       "1     Live Updates: China Eastern Plane Crashes With...   \n",
       "2     Ukraine Live Updates: Mariupol Refuses to Yiel...   \n",
       "3     Supreme Court Live Updates: Confirmation Heari...   \n",
       "4     Ukraine Live Updates: Mariupol Refuses to Yiel...   \n",
       "...                                                 ...   \n",
       "1557  It’s Now Putin’s Plan B in Ukraine vs. Biden’s...   \n",
       "1558  ‘The Children Can’t Wait’: A Better Path to Re...   \n",
       "1559  How the ‘Whole Life’ Movement Challenges the P...   \n",
       "1560  Russia Will Remake Itself. But It Has to Crumb...   \n",
       "1561  Anti-Abortion Groups Once Portrayed Women as V...   \n",
       "\n",
       "                                                    url  \n",
       "0     https://www.nytimes.com/live/2022/03/21/world/...  \n",
       "1     https://www.nytimes.com/live/2022/03/21/world/...  \n",
       "2     https://www.nytimes.com/live/2022/03/21/world/...  \n",
       "3     https://www.nytimes.com/live/2022/03/21/us/ket...  \n",
       "4     https://www.nytimes.com/live/2022/03/21/world/...  \n",
       "...                                                 ...  \n",
       "1557  https://www.nytimes.com/2022/03/20/opinion/put...  \n",
       "1558  https://www.nytimes.com/2022/03/20/opinion/let...  \n",
       "1559  https://www.nytimes.com/2022/03/20/opinion/who...  \n",
       "1560  https://www.nytimes.com/2022/03/20/opinion/rus...  \n",
       "1561  https://www.nytimes.com/2022/03/19/opinion/abo...  \n",
       "\n",
       "[1562 rows x 3 columns]"
      ]
     },
     "execution_count": 48,
     "metadata": {},
     "output_type": "execute_result"
    }
   ],
   "source": [
    "df[\"url\"] = urls\n",
    "df"
   ]
  },
  {
   "cell_type": "code",
   "execution_count": 51,
   "id": "901d6651",
   "metadata": {
    "ExecuteTime": {
     "end_time": "2022-03-21T15:22:39.271418Z",
     "start_time": "2022-03-21T15:22:39.236414Z"
    }
   },
   "outputs": [
    {
     "data": {
      "text/html": [
       "<div>\n",
       "<style scoped>\n",
       "    .dataframe tbody tr th:only-of-type {\n",
       "        vertical-align: middle;\n",
       "    }\n",
       "\n",
       "    .dataframe tbody tr th {\n",
       "        vertical-align: top;\n",
       "    }\n",
       "\n",
       "    .dataframe thead th {\n",
       "        text-align: right;\n",
       "    }\n",
       "</style>\n",
       "<table border=\"1\" class=\"dataframe\">\n",
       "  <thead>\n",
       "    <tr style=\"text-align: right;\">\n",
       "      <th></th>\n",
       "      <th>text</th>\n",
       "      <th>title</th>\n",
       "      <th>url</th>\n",
       "    </tr>\n",
       "  </thead>\n",
       "  <tbody>\n",
       "    <tr>\n",
       "      <th>0</th>\n",
       "      <td>Carrie Lam, the chief executive, announced tha...</td>\n",
       "      <td>Hong Kong Set to Ease Some of the World’s Stri...</td>\n",
       "      <td>https://www.nytimes.com/live/2022/03/21/world/...</td>\n",
       "    </tr>\n",
       "    <tr>\n",
       "      <th>1</th>\n",
       "      <td>The airline expressed its condolences to the r...</td>\n",
       "      <td>Live Updates: China Eastern Plane Crashes With...</td>\n",
       "      <td>https://www.nytimes.com/live/2022/03/21/world/...</td>\n",
       "    </tr>\n",
       "    <tr>\n",
       "      <th>2</th>\n",
       "      <td>Russian forces had given a predawn deadline fo...</td>\n",
       "      <td>Ukraine Live Updates: Mariupol Refuses to Yiel...</td>\n",
       "      <td>https://www.nytimes.com/live/2022/03/21/world/...</td>\n",
       "    </tr>\n",
       "    <tr>\n",
       "      <th>3</th>\n",
       "      <td>President Biden’s nominee to the Supreme Court...</td>\n",
       "      <td>Supreme Court Live Updates: Confirmation Heari...</td>\n",
       "      <td>https://www.nytimes.com/live/2022/03/21/us/ket...</td>\n",
       "    </tr>\n",
       "    <tr>\n",
       "      <th>4</th>\n",
       "      <td>Russian forces had given a predawn deadline fo...</td>\n",
       "      <td>Ukraine Live Updates: Mariupol Refuses to Yiel...</td>\n",
       "      <td>https://www.nytimes.com/live/2022/03/21/world/...</td>\n",
       "    </tr>\n",
       "    <tr>\n",
       "      <th>...</th>\n",
       "      <td>...</td>\n",
       "      <td>...</td>\n",
       "      <td>...</td>\n",
       "    </tr>\n",
       "    <tr>\n",
       "      <th>1465</th>\n",
       "      <td>After a confusing month, it is now clear what ...</td>\n",
       "      <td>It’s Now Putin’s Plan B in Ukraine vs. Biden’s...</td>\n",
       "      <td>https://www.nytimes.com/2022/03/20/opinion/put...</td>\n",
       "    </tr>\n",
       "    <tr>\n",
       "      <th>1466</th>\n",
       "      <td>To the Editor:\\n\\nRe “Pandemic Has Pulled Read...</td>\n",
       "      <td>‘The Children Can’t Wait’: A Better Path to Re...</td>\n",
       "      <td>https://www.nytimes.com/2022/03/20/opinion/let...</td>\n",
       "    </tr>\n",
       "    <tr>\n",
       "      <th>1467</th>\n",
       "      <td>I was in college, just old enough to vote, whe...</td>\n",
       "      <td>How the ‘Whole Life’ Movement Challenges the P...</td>\n",
       "      <td>https://www.nytimes.com/2022/03/20/opinion/who...</td>\n",
       "    </tr>\n",
       "    <tr>\n",
       "      <th>1468</th>\n",
       "      <td>When the first McDonald’s restaurant appeared ...</td>\n",
       "      <td>Russia Will Remake Itself. But It Has to Crumb...</td>\n",
       "      <td>https://www.nytimes.com/2022/03/20/opinion/rus...</td>\n",
       "    </tr>\n",
       "    <tr>\n",
       "      <th>1469</th>\n",
       "      <td>With Roe v. Wade on thin ice, state legislatur...</td>\n",
       "      <td>Anti-Abortion Groups Once Portrayed Women as V...</td>\n",
       "      <td>https://www.nytimes.com/2022/03/19/opinion/abo...</td>\n",
       "    </tr>\n",
       "  </tbody>\n",
       "</table>\n",
       "<p>1470 rows × 3 columns</p>\n",
       "</div>"
      ],
      "text/plain": [
       "                                                   text  \\\n",
       "0     Carrie Lam, the chief executive, announced tha...   \n",
       "1     The airline expressed its condolences to the r...   \n",
       "2     Russian forces had given a predawn deadline fo...   \n",
       "3     President Biden’s nominee to the Supreme Court...   \n",
       "4     Russian forces had given a predawn deadline fo...   \n",
       "...                                                 ...   \n",
       "1465  After a confusing month, it is now clear what ...   \n",
       "1466  To the Editor:\\n\\nRe “Pandemic Has Pulled Read...   \n",
       "1467  I was in college, just old enough to vote, whe...   \n",
       "1468  When the first McDonald’s restaurant appeared ...   \n",
       "1469  With Roe v. Wade on thin ice, state legislatur...   \n",
       "\n",
       "                                                  title  \\\n",
       "0     Hong Kong Set to Ease Some of the World’s Stri...   \n",
       "1     Live Updates: China Eastern Plane Crashes With...   \n",
       "2     Ukraine Live Updates: Mariupol Refuses to Yiel...   \n",
       "3     Supreme Court Live Updates: Confirmation Heari...   \n",
       "4     Ukraine Live Updates: Mariupol Refuses to Yiel...   \n",
       "...                                                 ...   \n",
       "1465  It’s Now Putin’s Plan B in Ukraine vs. Biden’s...   \n",
       "1466  ‘The Children Can’t Wait’: A Better Path to Re...   \n",
       "1467  How the ‘Whole Life’ Movement Challenges the P...   \n",
       "1468  Russia Will Remake Itself. But It Has to Crumb...   \n",
       "1469  Anti-Abortion Groups Once Portrayed Women as V...   \n",
       "\n",
       "                                                    url  \n",
       "0     https://www.nytimes.com/live/2022/03/21/world/...  \n",
       "1     https://www.nytimes.com/live/2022/03/21/world/...  \n",
       "2     https://www.nytimes.com/live/2022/03/21/world/...  \n",
       "3     https://www.nytimes.com/live/2022/03/21/us/ket...  \n",
       "4     https://www.nytimes.com/live/2022/03/21/world/...  \n",
       "...                                                 ...  \n",
       "1465  https://www.nytimes.com/2022/03/20/opinion/put...  \n",
       "1466  https://www.nytimes.com/2022/03/20/opinion/let...  \n",
       "1467  https://www.nytimes.com/2022/03/20/opinion/who...  \n",
       "1468  https://www.nytimes.com/2022/03/20/opinion/rus...  \n",
       "1469  https://www.nytimes.com/2022/03/19/opinion/abo...  \n",
       "\n",
       "[1470 rows x 3 columns]"
      ]
     },
     "execution_count": 51,
     "metadata": {},
     "output_type": "execute_result"
    }
   ],
   "source": [
    "df_fil = df[(df.text.str.strip().str.len() != 0) & (df.title.str.strip().str.len() != 0)].reset_index().drop(columns=\"index\")\n",
    "df_fil"
   ]
  },
  {
   "cell_type": "code",
   "execution_count": 73,
   "id": "2e864a69",
   "metadata": {
    "ExecuteTime": {
     "end_time": "2022-03-21T15:33:20.942885Z",
     "start_time": "2022-03-21T15:33:19.353038Z"
    }
   },
   "outputs": [],
   "source": [
    "for i, row in df_fil.iterrows():\n",
    "    with open(\"title-data/texts/\"+re.sub(r\"[^A-Za-z0-9 _]\", \"\", row.title)+\".txt\", \"w+\", encoding=\"utf-8\") as file:\n",
    "        file.write(row.text)\n"
   ]
  },
  {
   "cell_type": "code",
   "execution_count": 76,
   "id": "fb076c4b",
   "metadata": {
    "ExecuteTime": {
     "end_time": "2022-03-21T15:34:56.652455Z",
     "start_time": "2022-03-21T15:34:56.124264Z"
    }
   },
   "outputs": [],
   "source": [
    "df_fil.text = df_fil.text.replace(\"\\n\", \" \")\n",
    "df_fil.to_csv(\"title-data/comprehensive_data.csv\", index=False)"
   ]
  },
  {
   "cell_type": "code",
   "execution_count": 3,
   "id": "7d8f0722",
   "metadata": {
    "ExecuteTime": {
     "end_time": "2022-03-22T06:45:09.060628Z",
     "start_time": "2022-03-22T06:45:08.788091Z"
    }
   },
   "outputs": [
    {
     "data": {
      "text/html": [
       "<div>\n",
       "<style scoped>\n",
       "    .dataframe tbody tr th:only-of-type {\n",
       "        vertical-align: middle;\n",
       "    }\n",
       "\n",
       "    .dataframe tbody tr th {\n",
       "        vertical-align: top;\n",
       "    }\n",
       "\n",
       "    .dataframe thead th {\n",
       "        text-align: right;\n",
       "    }\n",
       "</style>\n",
       "<table border=\"1\" class=\"dataframe\">\n",
       "  <thead>\n",
       "    <tr style=\"text-align: right;\">\n",
       "      <th></th>\n",
       "      <th>text</th>\n",
       "      <th>title</th>\n",
       "      <th>url</th>\n",
       "    </tr>\n",
       "  </thead>\n",
       "  <tbody>\n",
       "    <tr>\n",
       "      <th>0</th>\n",
       "      <td>Carrie Lam, the chief executive, announced tha...</td>\n",
       "      <td>Hong Kong Set to Ease Some of the World’s Stri...</td>\n",
       "      <td>https://www.nytimes.com/live/2022/03/21/world/...</td>\n",
       "    </tr>\n",
       "    <tr>\n",
       "      <th>1</th>\n",
       "      <td>The airline expressed its condolences to the r...</td>\n",
       "      <td>Live Updates: China Eastern Plane Crashes With...</td>\n",
       "      <td>https://www.nytimes.com/live/2022/03/21/world/...</td>\n",
       "    </tr>\n",
       "    <tr>\n",
       "      <th>2</th>\n",
       "      <td>Russian forces had given a predawn deadline fo...</td>\n",
       "      <td>Ukraine Live Updates: Mariupol Refuses to Yiel...</td>\n",
       "      <td>https://www.nytimes.com/live/2022/03/21/world/...</td>\n",
       "    </tr>\n",
       "    <tr>\n",
       "      <th>3</th>\n",
       "      <td>President Biden’s nominee to the Supreme Court...</td>\n",
       "      <td>Supreme Court Live Updates: Confirmation Heari...</td>\n",
       "      <td>https://www.nytimes.com/live/2022/03/21/us/ket...</td>\n",
       "    </tr>\n",
       "    <tr>\n",
       "      <th>4</th>\n",
       "      <td>Russian forces had given a predawn deadline fo...</td>\n",
       "      <td>Ukraine Live Updates: Mariupol Refuses to Yiel...</td>\n",
       "      <td>https://www.nytimes.com/live/2022/03/21/world/...</td>\n",
       "    </tr>\n",
       "    <tr>\n",
       "      <th>...</th>\n",
       "      <td>...</td>\n",
       "      <td>...</td>\n",
       "      <td>...</td>\n",
       "    </tr>\n",
       "    <tr>\n",
       "      <th>1465</th>\n",
       "      <td>After a confusing month, it is now clear what ...</td>\n",
       "      <td>It’s Now Putin’s Plan B in Ukraine vs. Biden’s...</td>\n",
       "      <td>https://www.nytimes.com/2022/03/20/opinion/put...</td>\n",
       "    </tr>\n",
       "    <tr>\n",
       "      <th>1466</th>\n",
       "      <td>To the Editor:\\n\\nRe “Pandemic Has Pulled Read...</td>\n",
       "      <td>‘The Children Can’t Wait’: A Better Path to Re...</td>\n",
       "      <td>https://www.nytimes.com/2022/03/20/opinion/let...</td>\n",
       "    </tr>\n",
       "    <tr>\n",
       "      <th>1467</th>\n",
       "      <td>I was in college, just old enough to vote, whe...</td>\n",
       "      <td>How the ‘Whole Life’ Movement Challenges the P...</td>\n",
       "      <td>https://www.nytimes.com/2022/03/20/opinion/who...</td>\n",
       "    </tr>\n",
       "    <tr>\n",
       "      <th>1468</th>\n",
       "      <td>When the first McDonald’s restaurant appeared ...</td>\n",
       "      <td>Russia Will Remake Itself. But It Has to Crumb...</td>\n",
       "      <td>https://www.nytimes.com/2022/03/20/opinion/rus...</td>\n",
       "    </tr>\n",
       "    <tr>\n",
       "      <th>1469</th>\n",
       "      <td>With Roe v. Wade on thin ice, state legislatur...</td>\n",
       "      <td>Anti-Abortion Groups Once Portrayed Women as V...</td>\n",
       "      <td>https://www.nytimes.com/2022/03/19/opinion/abo...</td>\n",
       "    </tr>\n",
       "  </tbody>\n",
       "</table>\n",
       "<p>1470 rows × 3 columns</p>\n",
       "</div>"
      ],
      "text/plain": [
       "                                                   text  \\\n",
       "0     Carrie Lam, the chief executive, announced tha...   \n",
       "1     The airline expressed its condolences to the r...   \n",
       "2     Russian forces had given a predawn deadline fo...   \n",
       "3     President Biden’s nominee to the Supreme Court...   \n",
       "4     Russian forces had given a predawn deadline fo...   \n",
       "...                                                 ...   \n",
       "1465  After a confusing month, it is now clear what ...   \n",
       "1466  To the Editor:\\n\\nRe “Pandemic Has Pulled Read...   \n",
       "1467  I was in college, just old enough to vote, whe...   \n",
       "1468  When the first McDonald’s restaurant appeared ...   \n",
       "1469  With Roe v. Wade on thin ice, state legislatur...   \n",
       "\n",
       "                                                  title  \\\n",
       "0     Hong Kong Set to Ease Some of the World’s Stri...   \n",
       "1     Live Updates: China Eastern Plane Crashes With...   \n",
       "2     Ukraine Live Updates: Mariupol Refuses to Yiel...   \n",
       "3     Supreme Court Live Updates: Confirmation Heari...   \n",
       "4     Ukraine Live Updates: Mariupol Refuses to Yiel...   \n",
       "...                                                 ...   \n",
       "1465  It’s Now Putin’s Plan B in Ukraine vs. Biden’s...   \n",
       "1466  ‘The Children Can’t Wait’: A Better Path to Re...   \n",
       "1467  How the ‘Whole Life’ Movement Challenges the P...   \n",
       "1468  Russia Will Remake Itself. But It Has to Crumb...   \n",
       "1469  Anti-Abortion Groups Once Portrayed Women as V...   \n",
       "\n",
       "                                                    url  \n",
       "0     https://www.nytimes.com/live/2022/03/21/world/...  \n",
       "1     https://www.nytimes.com/live/2022/03/21/world/...  \n",
       "2     https://www.nytimes.com/live/2022/03/21/world/...  \n",
       "3     https://www.nytimes.com/live/2022/03/21/us/ket...  \n",
       "4     https://www.nytimes.com/live/2022/03/21/world/...  \n",
       "...                                                 ...  \n",
       "1465  https://www.nytimes.com/2022/03/20/opinion/put...  \n",
       "1466  https://www.nytimes.com/2022/03/20/opinion/let...  \n",
       "1467  https://www.nytimes.com/2022/03/20/opinion/who...  \n",
       "1468  https://www.nytimes.com/2022/03/20/opinion/rus...  \n",
       "1469  https://www.nytimes.com/2022/03/19/opinion/abo...  \n",
       "\n",
       "[1470 rows x 3 columns]"
      ]
     },
     "execution_count": 3,
     "metadata": {},
     "output_type": "execute_result"
    }
   ],
   "source": [
    "df_fil = pd.read_csv(\"title-data/comprehensive_data.csv\")\n",
    "df_fil"
   ]
  },
  {
   "cell_type": "code",
   "execution_count": 4,
   "id": "65e9d115",
   "metadata": {
    "ExecuteTime": {
     "end_time": "2022-03-22T06:47:09.183939Z",
     "start_time": "2022-03-22T06:45:16.189940Z"
    }
   },
   "outputs": [
    {
     "data": {
      "application/vnd.jupyter.widget-view+json": {
       "model_id": "965ebfe001bb4281af1125264833d3ad",
       "version_major": 2,
       "version_minor": 0
      },
      "text/plain": [
       "Downloading:   0%|          | 0.00/87.0 [00:00<?, ?B/s]"
      ]
     },
     "metadata": {},
     "output_type": "display_data"
    },
    {
     "data": {
      "application/vnd.jupyter.widget-view+json": {
       "model_id": "c79322b1932545eba52dce72efe541ef",
       "version_major": 2,
       "version_minor": 0
      },
      "text/plain": [
       "Downloading:   0%|          | 0.00/1.82M [00:00<?, ?B/s]"
      ]
     },
     "metadata": {},
     "output_type": "display_data"
    },
    {
     "data": {
      "application/vnd.jupyter.widget-view+json": {
       "model_id": "61aa95daed0145e4bb47028881a40fab",
       "version_major": 2,
       "version_minor": 0
      },
      "text/plain": [
       "Downloading:   0%|          | 0.00/65.0 [00:00<?, ?B/s]"
      ]
     },
     "metadata": {},
     "output_type": "display_data"
    },
    {
     "data": {
      "application/vnd.jupyter.widget-view+json": {
       "model_id": "6e5993398f8f40e58a8ebd73d9651507",
       "version_major": 2,
       "version_minor": 0
      },
      "text/plain": [
       "Downloading:   0%|          | 0.00/3.36M [00:00<?, ?B/s]"
      ]
     },
     "metadata": {},
     "output_type": "display_data"
    },
    {
     "name": "stderr",
     "output_type": "stream",
     "text": [
      "Truncation was not explicitly activated but `max_length` is provided a specific value, please use `truncation=True` to explicitly truncate examples to max length. Defaulting to 'longest_first' truncation strategy. If you encode pairs of sequences (GLUE-style) with the tokenizer you can select this strategy more precisely by providing a specific strategy to `truncation`.\n"
     ]
    },
    {
     "data": {
      "text/plain": [
       "\"California's largest electricity provider has turned off power to hundreds of thousands of customers.\""
      ]
     },
     "execution_count": 4,
     "metadata": {},
     "output_type": "execute_result"
    }
   ],
   "source": [
    "from transformers import PegasusTokenizer, PegasusForConditionalGeneration\n",
    "\n",
    "model = PegasusForConditionalGeneration.from_pretrained(\"google/pegasus-xsum\")\n",
    "tokenizer = PegasusTokenizer.from_pretrained(\"google/pegasus-xsum\")\n",
    "\n",
    "ARTICLE_TO_SUMMARIZE = (\n",
    "    \"PG&E stated it scheduled the blackouts in response to forecasts for high winds \"\n",
    "    \"amid dry conditions. The aim is to reduce the risk of wildfires. Nearly 800 thousand customers were \"\n",
    "    \"scheduled to be affected by the shutoffs which were expected to last through at least midday tomorrow.\"\n",
    ")\n",
    "inputs = tokenizer(ARTICLE_TO_SUMMARIZE, max_length=1024, return_tensors=\"pt\")\n",
    "\n",
    "# Generate Summary\n",
    "summary_ids = model.generate(inputs[\"input_ids\"])\n",
    "tokenizer.batch_decode(summary_ids, skip_special_tokens=True, clean_up_tokenization_spaces=False)[0]\n",
    "#\"California's largest electricity provider has turned off power to hundreds of thousands of customers.\""
   ]
  },
  {
   "cell_type": "code",
   "execution_count": 7,
   "id": "41a6327e",
   "metadata": {
    "ExecuteTime": {
     "end_time": "2022-03-22T06:47:42.644084Z",
     "start_time": "2022-03-22T06:47:42.553061Z"
    }
   },
   "outputs": [
    {
     "name": "stdout",
     "output_type": "stream",
     "text": [
      "abortion-florida-15-week-ban.txt\n",
      "adhd-dating-relationships.txt\n",
      "afghanistan-boy-dies-well.txt\n",
      "afghanistan-immigration-visa-us.txt\n",
      "ahmaud-arbery-mcmichael-trial.txt\n",
      "aids-pandemic-covid.txt\n",
      "ai-education-neural-networks.txt\n",
      "allison-gollust-cnn-cuomo.txt\n",
      "american-girl-cafe-harry-hill-serena-kerrigan.txt\n",
      "andrew-prince-charles-charity.txt\n",
      "apple-face-computers.txt\n",
      "at-yosemite-a-waterfall-turns-into-a-firefall.txt\n",
      "australia-tourism-covid.txt\n",
      "babies-work-meeting.txt\n",
      "basketball-celtics-ime-udoka.txt\n",
      "basquiat-painting-orlando-mumford-museum.txt\n",
      "berlin-film-festival-2022.txt\n",
      "biden-economy-inflation-growth.txt\n",
      "biden-immigration-public-charge-trump.txt\n",
      "biden-ukraine-russia.txt\n",
      "big-tech-stock-market.txt\n",
      "blinken-russia-ukraine-predictions.txt\n",
      "bucket-list-travel.txt\n",
      "burnout-work-stress.txt\n",
      "california-state-chancellor-resigns.txt\n",
      "canada-protest-arrests.txt\n",
      "cecil-taylor-return-concert.txt\n",
      "child-tax-credit-poverty-benefits.txt\n",
      "china-coronavirus-vaccines.txt\n",
      "china-olympics-propaganda.txt\n",
      "china-us-tech-policy.txt\n",
      "christopher-buckley-pj-orourke.txt\n",
      "civil-suits-trump-jan-6.txt\n",
      "comedy-jewish-identity.txt\n",
      "congress-russia-sanctions.txt\n",
      "congress-stock-trading-ban.txt\n",
      "covid-depression-anxiety.txt\n",
      "covid-nursing-shortages.txt\n",
      "covid-plague-work-labor.txt\n",
      "cuomo-melissa-derosa-sexual-harassment.txt\n",
      "death-certificate-cause.txt\n",
      "depression-anxiety-physical-health.txt\n",
      "dog-review.txt\n",
      "durham-right-wing-media-trump.txt\n",
      "eileen-gu-chinese-american.txt\n",
      "energy-savings-nest.txt\n",
      "eunice-storm-damage.txt\n",
      "ezra-klein-podcast-alex-tabarrok.txt\n",
      "facebook-experiments.txt\n",
      "fact-check-joe-rogan-robert-malone.txt\n",
      "faith-ringgold-new-museum.txt\n",
      "family-birthday-reminders-social-qs.txt\n",
      "federal-reserve-trading-restrictions.txt\n",
      "felicity-ace-vessel-fire.txt\n",
      "finland-bordertown-piece-of-my-heart.txt\n",
      "flight-attendants-covid.txt\n",
      "focus-johann-hari.txt\n",
      "food-english-foreign-languages.txt\n",
      "fourth-dose-covid-vaccine.txt\n",
      "girls-eating-disorders-pandemic.txt\n",
      "google-facebook-advertising.txt\n",
      "gregory-peck-mockingbird-sequel.txt\n",
      "hadley-palmer-greenwich.txt\n",
      "happiness-confidence-struggle.txt\n",
      "hearing-aids-fda.txt\n",
      "help-friend-support.txt\n",
      "high-risk-covid-immunocompromised.txt\n",
      "home-buyer-risks-bad-credit-savings.txt\n",
      "homeless-people-subway-trains-mta.txt\n",
      "inflation-supply-chain.txt\n",
      "inflation-us-consumer-surveys.txt\n",
      "jeff-koons-bmw.txt\n",
      "jim-hagedorn-dead.txt\n",
      "jobs-hiring-fraud.txt\n",
      "justice-department-cybersecurity.txt\n",
      "kamila-valieva-falls-fourth-figure-skating.txt\n",
      "kanye-west-jeen-yuhs-documentary.txt\n",
      "kevin-mccarthy-harriet-hageman-liz-cheney.txt\n",
      "kim-potter-sentence-manslaughter.txt\n",
      "lab-grown-meat-sleep-airtags.txt\n",
      "law-order-svu-organized-crime.txt\n",
      "letitia-james-ny-attorney-general.txt\n",
      "liberalism-democracy-russia-ukraine.txt\n",
      "london-highgate-cemetery-dispatch.txt\n",
      "mall-fight-bridgewater-commons-nj.txt\n",
      "melania-trump-charity-donation.txt\n",
      "merkel-cell-carcinoma.txt\n",
      "metamates-googlers.txt\n",
      "metaverse-gaming-definition.txt\n",
      "metaverse-politics-disinformation-society.txt\n",
      "modern-love-i-tried-so-hard-to-be-good.txt\n",
      "modern-love-podcast-ham-sandwich.txt\n",
      "motivation-energy-advice.txt\n",
      "nashville-gerrymandering-republican-democrat.txt\n",
      "natural-wines.txt\n",
      "norway-medals-winter-olympics.txt\n",
      "nyc-budget-composting-adams.txt\n",
      "oakland-hills-country-club-fire.txt\n",
      "oddity-ceramics-surrealism-art.txt\n",
      "olympics-beijing-xi-putin.txt\n",
      "olympics-china-american-athletes.txt\n",
      "olympics-skating-valieva-age.txt\n",
      "oscars-vaccine-mandate-coronavirus.txt\n",
      "ottawa-protest-convoy.txt\n",
      "pairs-figure-skating-short-program.txt\n",
      "parenting-adult-children.txt\n",
      "phil-mickelson-saudi-golf-tour.txt\n",
      "prosecutors-midterms-crime.txt\n",
      "pseudo.csv\n",
      "putin-russia-ukraine.txt\n",
      "putin-ukraine.txt\n",
      "red-covid-partisan-deaths-vaccines.txt\n",
      "rokia-kone-jacknife-lee-bamanan-review.txt\n",
      "sacklers-opioids-lawsuit.txt\n",
      "sam-waterston-law-and-order.txt\n",
      "sanctions-russia-ukraine.txt\n",
      "san-francisco-school-board-parents.txt\n",
      "school-board-recall.txt\n",
      "seasonal-depression-covid.txt\n",
      "seattle-bicycle-helmet.txt\n",
      "senate-spending-bill-shutdown.txt\n",
      "severance-review.txt\n",
      "ski-tricks-utah.txt\n",
      "smartphones-iphone-android.txt\n",
      "space-china-billionaires.txt\n",
      "spotify-joe-rogan-misinformation.txt\n",
      "stanytsia-lushankya-shelling.txt\n",
      "state-of-the-union-painting-with-john.txt\n",
      "stonehenge-british-museum.txt\n",
      "submarine-spy-guilty-plea.txt\n",
      "supreme-court-remain-in-mexico-asylum.txt\n",
      "susan-collins-eca-reform.txt\n",
      "sway-kara-swisher-keith-rabois.txt\n",
      "taxes-remote-work.txt\n",
      "tech-predictions.txt\n",
      "tech-won-now-what.txt\n",
      "teresa-reichlen-retiring-from-new-york-city-ballet.txt\n",
      "texas-primary-voting-law.txt\n",
      "the-gilded-age.txt\n",
      "things-to-do-this-weekend.txt\n",
      "tiktok-ava-majury.txt\n",
      "trevor-noah-russia-ukraine.txt\n",
      "trump-archives-white-house.txt\n",
      "trump-investigation-letitia-james.txt\n",
      "tyshawn-sorey-rothko-chapel.txt\n",
      "uc-berkeley-admissions-court-ruling.txt\n",
      "ukraine-conflict-russia-military.txt\n",
      "ukraine-donald-trump-beijing-olympics.txt\n",
      "ukraine-russia-separatists-shelling.txt\n",
      "ukraine-russia-us-troops.txt\n",
      "us-history-censorship.txt\n",
      "wall-street-hotel.txt\n",
      "walter-dellinger-law-supreme-court.txt\n",
      "watches-obscure-brands-switzerland.txt\n",
      "what-to-cook-this-weekend.txt\n",
      "what-to-do-when-you-dont-want-to-run.txt\n",
      "what-would-it-mean-to-end-the-covid-state-of-emergency.txt\n",
      "women-stem-pandemic.txt\n",
      "yosemite-falls.txt\n"
     ]
    }
   ],
   "source": [
    "!ls datagen/nytimes | grep -v metaverse*.txt"
   ]
  },
  {
   "cell_type": "code",
   "execution_count": 15,
   "id": "656f404f",
   "metadata": {
    "ExecuteTime": {
     "end_time": "2022-03-22T06:50:24.645202Z",
     "start_time": "2022-03-22T06:50:24.627229Z"
    }
   },
   "outputs": [
    {
     "data": {
      "text/plain": [
       "281"
      ]
     },
     "execution_count": 15,
     "metadata": {},
     "output_type": "execute_result"
    }
   ],
   "source": [
    "len(ARTICLE_TO_SUMMARIZE)"
   ]
  },
  {
   "cell_type": "code",
   "execution_count": 10,
   "id": "3da70191",
   "metadata": {
    "ExecuteTime": {
     "end_time": "2022-03-22T06:48:57.459145Z",
     "start_time": "2022-03-22T06:48:57.436138Z"
    }
   },
   "outputs": [
    {
     "data": {
      "text/plain": [
       "'The metaverse is coming. It was once a science-fiction fantasy, most notably in Neal Stephenson’s novel “Snow Crash,” of an all-encompassing virtual universe that would exist alongside the physical one. But technological advances have brought this transformation of human society close enough to reality to demand that we consider its consequences.\\n\\nIn the metaverse, a user might curate a digital avatar, like a character in a video game. Through the eyes of their avatar, they would experience a digital reality as active and engaging as the physical one. Some futurists believe that soon we might attend doctor’s appointments or class there.\\n\\nBut while the metaverse could revolutionize work and play, it is essential to remain wary of the dangers that will emerge if it subsumes daily life.\\n\\nVirtual environments will supercharge disinformation campaigns, espionage and surveillance. Struggles for control of the metaverse’s physical infrastructure could very well aggravate global conflicts. And the supranational nature of the metaverse — where real-world borders become far less relevant — could revolutionize the way that individuals perceive and interact with nation-states.\\n\\nA failure to anticipate these possibilities may put the global world order at risk of being replaced by a virtual, and perhaps less virtuous, one.\\n\\nToday, glimpses of the metaverse are everywhere. Virtual concerts attract record audiences; high-end designers sell virtual fashion; and gaming has become a livelihood for people around the world. Many of the closest corollaries to a full-fledged metaverse are immersive games like Fortnite, Minecraft and Roblox, where players can socialize, shop and attend events in a virtual world.\\n\\nThere’s already evidence that online multiplayer games can enable the spread of disinformation and conspiracy theories. Players can use in-game communication tools to disseminate rumors or “fake news,” targeting others in difficult-to-track ways.\\n\\nThe metaverse could allow motivated regimes or extremist groups to go a step farther. Immersive layers of text, voice and visuals in virtual environments would provide new, convincing ways to broadcast misleading or extremist content.\\n\\nIn environments where individuals can be represented by pseudonymous avatars, knowing whom to trust with sensitive information will become even more difficult. This could pave the way for a new era of espionage.\\n\\nDigital espionage has already been used by dozens of countries to gain access to commercial intellectual property, proprietary military technology and personal and financial information. A metaverse that contains nearly all aspects of life — work, relationships, assets, identity — could be susceptible to breaches or manipulation from across the globe.\\n\\nCountries and corporations alike will likely also be able to use the metaverse to engage in surveillance with greater sophistication.\\n\\nStates have already used facial recognition technology to monitor individuals’ behavior. Companies have used it for device-unlocking or real-time animation. Integration with the metaverse could make it — and the privacy issues it presents — even more ubiquitous. If exploited, that technology could easily be used to surveil any participant around the world.\\n\\nEven the metaverse’s physical infrastructure will likely present new vulnerabilities.\\n\\nA constellation of technologies, including hardware, computer networks and payment tools, will support the metaverse’s functionality. The countries that maintain control over those technologies will have significant international leverage, just as countries that command things like transport routes or oil supplies do today.\\n\\nChina could effectively control the metaverse’s backbone in many corners of the world, thanks to its Digital Silk Road initiative, which finances some countries’ telecommunications systems. Taiwan, which dominates the semiconductor industry that supports computing needs, will likely become even more of a linchpin on the global stage.\\n\\nThis kind of physical infrastructure will, in turn, be vulnerable to hacking and supply chain interruptions. If people own property, earn a living, and maintain communities in the metaverse, then hardware shortages or service outages could jeopardize livelihoods or undermine social stability.\\n\\nDespite these threats, the metaverse also has the potential to change global affairs for the better. International diplomacy may just as easily be conducted in virtual embassies. Smaller, less powerful nations may find themselves on a more level playing field, better able to stay in the mix in global affairs or perhaps, to forge unlikely alliances.\\n\\nVirtual environments have also shown promise for activists resisting digital authoritarianism. On Minecraft, Reporters Without Borders has sponsored an Uncensored Library where users could see content by dissident writers that had been censored in countries like Saudi Arabia, Russia and Vietnam. It’s possible that the metaverse may bring new promise for freedom and transparency across borders.\\n\\nBut the metaverse’s consequences may be even more radical.\\n\\nIf it becomes as all-encompassing as some predict, the metaverse may foster virtual communities, networks and economies that transcend borders and national identities. Individuals might one day identify primarily with metaverse-based decentralized autonomous organizations with their own quasi-foreign policies. Such a transition could mandate the reconceptualization of geopolitical affairs from the ground up.\\n\\nThe metaverse may have been born in science fiction, but it’s up to us to write a future grounded in cleareyed reality.'"
      ]
     },
     "execution_count": 10,
     "metadata": {},
     "output_type": "execute_result"
    }
   ],
   "source": [
    "with open(\"datagen/nytimes/metaverse-politics-disinformation-society.txt\", encoding=\"utf-8\") as file:\n",
    "    text = file.read()\n",
    "text"
   ]
  },
  {
   "cell_type": "code",
   "execution_count": 20,
   "id": "3c11bb8d",
   "metadata": {
    "ExecuteTime": {
     "end_time": "2022-03-22T06:55:28.318711Z",
     "start_time": "2022-03-22T06:55:07.564853Z"
    }
   },
   "outputs": [
    {
     "data": {
      "text/plain": [
       "'.'"
      ]
     },
     "execution_count": 20,
     "metadata": {},
     "output_type": "execute_result"
    }
   ],
   "source": [
    "inputs = tokenizer(text.replace(\"\\n\", \"\")[:1024], max_length=1024, return_tensors=\"pt\")\n",
    "\n",
    "# Generate Summary\n",
    "summary_ids = model.generate(inputs[\"input_ids\"])\n",
    "tokenizer.batch_decode(summary_ids, skip_special_tokens=True, clean_up_tokenization_spaces=False)[0]\n",
    "#\"California's largest electricity provider has turned off power to hundreds of thousands of customers.\""
   ]
  },
  {
   "cell_type": "code",
   "execution_count": 21,
   "id": "d8be2448",
   "metadata": {
    "ExecuteTime": {
     "end_time": "2022-03-22T06:57:01.756818Z",
     "start_time": "2022-03-22T06:56:59.351657Z"
    }
   },
   "outputs": [
    {
     "data": {
      "text/plain": [
       "['The metaverse is coming.',\n",
       " 'It was once a science-fiction fantasy, most notably in Neal Stephenson’s novel “Snow Crash,” of an all-encompassing virtual universe that would exist alongside the physical one.',\n",
       " 'But technological advances have brought this transformation of human society close enough to reality to demand that we consider its consequences.',\n",
       " 'In the metaverse, a user might curate a digital avatar, like a character in a video game.',\n",
       " 'Through the eyes of their avatar, they would experience a digital reality as active and engaging as the physical one.',\n",
       " 'Some futurists believe that soon we might attend doctor’s appointments or class there.',\n",
       " 'But while the metaverse could revolutionize work and play, it is essential to remain wary of the dangers that will emerge if it subsumes daily life.',\n",
       " 'Virtual environments will supercharge disinformation campaigns, espionage and surveillance.',\n",
       " 'Struggles for control of the metaverse’s physical infrastructure could very well aggravate global conflicts.',\n",
       " 'And the supranational nature of the metaverse — where real-world borders become far less relevant — could revolutionize the way that individuals perceive and interact with nation-states.',\n",
       " 'A failure to anticipate these possibilities may put the global world order at risk of being replaced by a virtual, and perhaps less virtuous, one.',\n",
       " 'Today, glimpses of the metaverse are everywhere.',\n",
       " 'Virtual concerts attract record audiences; high-end designers sell virtual fashion; and gaming has become a livelihood for people around the world.',\n",
       " 'Many of the closest corollaries to a full-fledged metaverse are immersive games like Fortnite, Minecraft and Roblox, where players can socialize, shop and attend events in a virtual world.',\n",
       " 'There’s already evidence that online multiplayer games can enable the spread of disinformation and conspiracy theories.',\n",
       " 'Players can use in-game communication tools to disseminate rumors or “fake news,” targeting others in difficult-to-track ways.',\n",
       " 'The metaverse could allow motivated regimes or extremist groups to go a step farther.',\n",
       " 'Immersive layers of text, voice and visuals in virtual environments would provide new, convincing ways to broadcast misleading or extremist content.',\n",
       " 'In environments where individuals can be represented by pseudonymous avatars, knowing whom to trust with sensitive information will become even more difficult.',\n",
       " 'This could pave the way for a new era of espionage.',\n",
       " 'Digital espionage has already been used by dozens of countries to gain access to commercial intellectual property, proprietary military technology and personal and financial information.',\n",
       " 'A metaverse that contains nearly all aspects of life — work, relationships, assets, identity — could be susceptible to breaches or manipulation from across the globe.',\n",
       " 'Countries and corporations alike will likely also be able to use the metaverse to engage in surveillance with greater sophistication.',\n",
       " 'States have already used facial recognition technology to monitor individuals’ behavior.',\n",
       " 'Companies have used it for device-unlocking or real-time animation.',\n",
       " 'Integration with the metaverse could make it — and the privacy issues it presents — even more ubiquitous.',\n",
       " 'If exploited, that technology could easily be used to surveil any participant around the world.',\n",
       " 'Even the metaverse’s physical infrastructure will likely present new vulnerabilities.',\n",
       " 'A constellation of technologies, including hardware, computer networks and payment tools, will support the metaverse’s functionality.',\n",
       " 'The countries that maintain control over those technologies will have significant international leverage, just as countries that command things like transport routes or oil supplies do today.',\n",
       " 'China could effectively control the metaverse’s backbone in many corners of the world, thanks to its Digital Silk Road initiative, which finances some countries’ telecommunications systems.',\n",
       " 'Taiwan, which dominates the semiconductor industry that supports computing needs, will likely become even more of a linchpin on the global stage.',\n",
       " 'This kind of physical infrastructure will, in turn, be vulnerable to hacking and supply chain interruptions.',\n",
       " 'If people own property, earn a living, and maintain communities in the metaverse, then hardware shortages or service outages could jeopardize livelihoods or undermine social stability.',\n",
       " 'Despite these threats, the metaverse also has the potential to change global affairs for the better.',\n",
       " 'International diplomacy may just as easily be conducted in virtual embassies.',\n",
       " 'Smaller, less powerful nations may find themselves on a more level playing field, better able to stay in the mix in global affairs or perhaps, to forge unlikely alliances.',\n",
       " 'Virtual environments have also shown promise for activists resisting digital authoritarianism.',\n",
       " 'On Minecraft, Reporters Without Borders has sponsored an Uncensored Library where users could see content by dissident writers that had been censored in countries like Saudi Arabia, Russia and Vietnam.',\n",
       " 'It’s possible that the metaverse may bring new promise for freedom and transparency across borders.',\n",
       " 'But the metaverse’s consequences may be even more radical.',\n",
       " 'If it becomes as all-encompassing as some predict, the metaverse may foster virtual communities, networks and economies that transcend borders and national identities.',\n",
       " 'Individuals might one day identify primarily with metaverse-based decentralized autonomous organizations with their own quasi-foreign policies.',\n",
       " 'Such a transition could mandate the reconceptualization of geopolitical affairs from the ground up.',\n",
       " 'The metaverse may have been born in science fiction, but it’s up to us to write a future grounded in cleareyed reality.']"
      ]
     },
     "execution_count": 21,
     "metadata": {},
     "output_type": "execute_result"
    }
   ],
   "source": [
    "import nltk\n",
    "sentence_tokenizer = nltk.data.load('tokenizers/punkt/english.pickle')\n",
    "sentences = sentence_tokenizer.tokenize(text)\n",
    "sentences"
   ]
  },
  {
   "cell_type": "code",
   "execution_count": 24,
   "id": "751a2c86",
   "metadata": {
    "ExecuteTime": {
     "end_time": "2022-03-22T06:58:12.974796Z",
     "start_time": "2022-03-22T06:58:12.953795Z"
    }
   },
   "outputs": [
    {
     "data": {
      "text/plain": [
       "[24,\n",
       " 201,\n",
       " 346,\n",
       " 435,\n",
       " 552,\n",
       " 638,\n",
       " 786,\n",
       " 877,\n",
       " 985,\n",
       " 1171,\n",
       " 1317,\n",
       " 1365,\n",
       " 1512,\n",
       " 1700,\n",
       " 1819,\n",
       " 1945,\n",
       " 2030,\n",
       " 2178,\n",
       " 2337,\n",
       " 2388,\n",
       " 2574,\n",
       " 2740,\n",
       " 2873,\n",
       " 2961,\n",
       " 3028,\n",
       " 3133,\n",
       " 3228,\n",
       " 3313,\n",
       " 3446,\n",
       " 3637,\n",
       " 3826,\n",
       " 3971,\n",
       " 4079,\n",
       " 4263,\n",
       " 4363,\n",
       " 4440,\n",
       " 4611,\n",
       " 4705,\n",
       " 4906,\n",
       " 5005,\n",
       " 5063,\n",
       " 5230,\n",
       " 5373,\n",
       " 5472,\n",
       " 5591]"
      ]
     },
     "execution_count": 24,
     "metadata": {},
     "output_type": "execute_result"
    }
   ],
   "source": [
    "from itertools import accumulate\n",
    "list(accumulate(map(len, sentences)))"
   ]
  },
  {
   "cell_type": "code",
   "execution_count": null,
   "id": "82317a89",
   "metadata": {},
   "outputs": [],
   "source": []
  }
 ],
 "metadata": {
  "kernelspec": {
   "display_name": "Python 3 (ipykernel)",
   "language": "python",
   "name": "python3"
  },
  "language_info": {
   "codemirror_mode": {
    "name": "ipython",
    "version": 3
   },
   "file_extension": ".py",
   "mimetype": "text/x-python",
   "name": "python",
   "nbconvert_exporter": "python",
   "pygments_lexer": "ipython3",
   "version": "3.9.7"
  },
  "toc": {
   "base_numbering": 1,
   "nav_menu": {},
   "number_sections": true,
   "sideBar": true,
   "skip_h1_title": false,
   "title_cell": "Table of Contents",
   "title_sidebar": "Contents",
   "toc_cell": false,
   "toc_position": {},
   "toc_section_display": true,
   "toc_window_display": false
  },
  "varInspector": {
   "cols": {
    "lenName": 16,
    "lenType": 16,
    "lenVar": 40
   },
   "kernels_config": {
    "python": {
     "delete_cmd_postfix": "",
     "delete_cmd_prefix": "del ",
     "library": "var_list.py",
     "varRefreshCmd": "print(var_dic_list())"
    },
    "r": {
     "delete_cmd_postfix": ") ",
     "delete_cmd_prefix": "rm(",
     "library": "var_list.r",
     "varRefreshCmd": "cat(var_dic_list()) "
    }
   },
   "types_to_exclude": [
    "module",
    "function",
    "builtin_function_or_method",
    "instance",
    "_Feature"
   ],
   "window_display": false
  }
 },
 "nbformat": 4,
 "nbformat_minor": 5
}
