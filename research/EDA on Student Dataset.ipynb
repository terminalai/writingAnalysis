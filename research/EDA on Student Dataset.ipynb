{
 "cells": [
  {
   "cell_type": "code",
   "execution_count": 1,
   "id": "0aedb29d",
   "metadata": {
    "ExecuteTime": {
     "end_time": "2022-03-26T08:50:38.115099Z",
     "start_time": "2022-03-26T08:50:16.777385Z"
    }
   },
   "outputs": [],
   "source": [
    "import np\n",
    "import pandas as pd\n",
    "import matplotlib.pyplot as plt\n",
    "import seaborn as sns\n",
    "from spacy import displacy"
   ]
  },
  {
   "cell_type": "code",
   "execution_count": 2,
   "id": "0b793141",
   "metadata": {
    "ExecuteTime": {
     "end_time": "2022-03-26T08:50:38.177312Z",
     "start_time": "2022-03-26T08:50:38.115099Z"
    }
   },
   "outputs": [
    {
     "data": {
      "text/html": [
       "<div>\n",
       "<style scoped>\n",
       "    .dataframe tbody tr th:only-of-type {\n",
       "        vertical-align: middle;\n",
       "    }\n",
       "\n",
       "    .dataframe tbody tr th {\n",
       "        vertical-align: top;\n",
       "    }\n",
       "\n",
       "    .dataframe thead th {\n",
       "        text-align: right;\n",
       "    }\n",
       "</style>\n",
       "<table border=\"1\" class=\"dataframe\">\n",
       "  <thead>\n",
       "    <tr style=\"text-align: right;\">\n",
       "      <th></th>\n",
       "      <th>text</th>\n",
       "      <th>label</th>\n",
       "      <th>score</th>\n",
       "      <th>start</th>\n",
       "      <th>end</th>\n",
       "      <th>source</th>\n",
       "    </tr>\n",
       "  </thead>\n",
       "  <tbody>\n",
       "    <tr>\n",
       "      <th>0</th>\n",
       "      <td>In 2019 a wave of anti-abortion laws swept thi...</td>\n",
       "      <td>Evidence</td>\n",
       "      <td>0.983720</td>\n",
       "      <td>0</td>\n",
       "      <td>528</td>\n",
       "      <td>abortion-florida-15-week-ban</td>\n",
       "    </tr>\n",
       "    <tr>\n",
       "      <th>1</th>\n",
       "      <td>Though most of these laws were quickly blocked...</td>\n",
       "      <td>Evidence</td>\n",
       "      <td>0.934319</td>\n",
       "      <td>528</td>\n",
       "      <td>908</td>\n",
       "      <td>abortion-florida-15-week-ban</td>\n",
       "    </tr>\n",
       "    <tr>\n",
       "      <th>2</th>\n",
       "      <td>Three years later, American reproductive right...</td>\n",
       "      <td>Evidence</td>\n",
       "      <td>0.622358</td>\n",
       "      <td>908</td>\n",
       "      <td>1214</td>\n",
       "      <td>abortion-florida-15-week-ban</td>\n",
       "    </tr>\n",
       "    <tr>\n",
       "      <th>3</th>\n",
       "      <td>It might seem curious, then, that legislators ...</td>\n",
       "      <td>Evidence</td>\n",
       "      <td>0.946866</td>\n",
       "      <td>1214</td>\n",
       "      <td>1722</td>\n",
       "      <td>abortion-florida-15-week-ban</td>\n",
       "    </tr>\n",
       "    <tr>\n",
       "      <th>4</th>\n",
       "      <td>One of this year’s unmistakable trends in anti...</td>\n",
       "      <td>Evidence</td>\n",
       "      <td>0.991869</td>\n",
       "      <td>1722</td>\n",
       "      <td>2394</td>\n",
       "      <td>abortion-florida-15-week-ban</td>\n",
       "    </tr>\n",
       "    <tr>\n",
       "      <th>...</th>\n",
       "      <td>...</td>\n",
       "      <td>...</td>\n",
       "      <td>...</td>\n",
       "      <td>...</td>\n",
       "      <td>...</td>\n",
       "      <td>...</td>\n",
       "    </tr>\n",
       "    <tr>\n",
       "      <th>3893</th>\n",
       "      <td>And boy did it come</td>\n",
       "      <td>Claim</td>\n",
       "      <td>0.982928</td>\n",
       "      <td>2554</td>\n",
       "      <td>2573</td>\n",
       "      <td>yosemite-falls</td>\n",
       "    </tr>\n",
       "    <tr>\n",
       "      <th>3894</th>\n",
       "      <td>But the record rains will not end California’s...</td>\n",
       "      <td>Rebuttal</td>\n",
       "      <td>0.880377</td>\n",
       "      <td>2573</td>\n",
       "      <td>2636</td>\n",
       "      <td>yosemite-falls</td>\n",
       "    </tr>\n",
       "    <tr>\n",
       "      <th>3895</th>\n",
       "      <td>Last week, Gov. Gavin Newsom extended the stat...</td>\n",
       "      <td>Claim</td>\n",
       "      <td>0.541481</td>\n",
       "      <td>2636</td>\n",
       "      <td>2769</td>\n",
       "      <td>yosemite-falls</td>\n",
       "    </tr>\n",
       "    <tr>\n",
       "      <th>3896</th>\n",
       "      <td>This has been California’s second driest year ...</td>\n",
       "      <td>Evidence</td>\n",
       "      <td>0.479049</td>\n",
       "      <td>2769</td>\n",
       "      <td>2925</td>\n",
       "      <td>yosemite-falls</td>\n",
       "    </tr>\n",
       "    <tr>\n",
       "      <th>3897</th>\n",
       "      <td>Severe drought conditions, worsened by climate...</td>\n",
       "      <td>Claim</td>\n",
       "      <td>0.478424</td>\n",
       "      <td>2925</td>\n",
       "      <td>3080</td>\n",
       "      <td>yosemite-falls</td>\n",
       "    </tr>\n",
       "  </tbody>\n",
       "</table>\n",
       "<p>3898 rows × 6 columns</p>\n",
       "</div>"
      ],
      "text/plain": [
       "                                                   text     label     score  \\\n",
       "0     In 2019 a wave of anti-abortion laws swept thi...  Evidence  0.983720   \n",
       "1     Though most of these laws were quickly blocked...  Evidence  0.934319   \n",
       "2     Three years later, American reproductive right...  Evidence  0.622358   \n",
       "3     It might seem curious, then, that legislators ...  Evidence  0.946866   \n",
       "4     One of this year’s unmistakable trends in anti...  Evidence  0.991869   \n",
       "...                                                 ...       ...       ...   \n",
       "3893                                And boy did it come     Claim  0.982928   \n",
       "3894  But the record rains will not end California’s...  Rebuttal  0.880377   \n",
       "3895  Last week, Gov. Gavin Newsom extended the stat...     Claim  0.541481   \n",
       "3896  This has been California’s second driest year ...  Evidence  0.479049   \n",
       "3897  Severe drought conditions, worsened by climate...     Claim  0.478424   \n",
       "\n",
       "      start   end                        source  \n",
       "0         0   528  abortion-florida-15-week-ban  \n",
       "1       528   908  abortion-florida-15-week-ban  \n",
       "2       908  1214  abortion-florida-15-week-ban  \n",
       "3      1214  1722  abortion-florida-15-week-ban  \n",
       "4      1722  2394  abortion-florida-15-week-ban  \n",
       "...     ...   ...                           ...  \n",
       "3893   2554  2573                yosemite-falls  \n",
       "3894   2573  2636                yosemite-falls  \n",
       "3895   2636  2769                yosemite-falls  \n",
       "3896   2769  2925                yosemite-falls  \n",
       "3897   2925  3080                yosemite-falls  \n",
       "\n",
       "[3898 rows x 6 columns]"
      ]
     },
     "execution_count": 2,
     "metadata": {},
     "output_type": "execute_result"
    }
   ],
   "source": [
    "df = pd.read_csv(\"datagen/nytimes/pseudo.csv\")\n",
    "df"
   ]
  },
  {
   "cell_type": "code",
   "execution_count": 3,
   "id": "47915201",
   "metadata": {
    "ExecuteTime": {
     "end_time": "2022-03-26T08:50:38.192899Z",
     "start_time": "2022-03-26T08:50:38.177312Z"
    }
   },
   "outputs": [
    {
     "data": {
      "text/plain": [
       "'In 2019 a wave of anti-abortion laws swept this country — a common enough event in the United States, where hundreds of such laws have passed during the last decade. But these grabbed the public’s attention in a way many others hadn’t. Georgia banned abortion after about six weeks of pregnancy, or about two weeks after a missed menstrual period. Ohio, Mississippi, Louisiana and Kentucky did the same, while Missouri banned the procedure at eight weeks. Alabama went the furthest, banning virtually all abortions in the state.'"
      ]
     },
     "execution_count": 3,
     "metadata": {},
     "output_type": "execute_result"
    }
   ],
   "source": [
    "df.text[0]"
   ]
  },
  {
   "cell_type": "code",
   "execution_count": 4,
   "id": "f846729f",
   "metadata": {
    "ExecuteTime": {
     "end_time": "2022-03-26T08:50:38.208560Z",
     "start_time": "2022-03-26T08:50:38.192899Z"
    }
   },
   "outputs": [
    {
     "data": {
      "text/plain": [
       "source\n",
       "ukraine-russia-us-troops                  0.531266\n",
       "uc-berkeley-admissions-court-ruling       0.585473\n",
       "apple-face-computers                      0.597108\n",
       "smartphones-iphone-android                0.612055\n",
       "ezra-klein-podcast-alex-tabarrok          0.622424\n",
       "                                            ...   \n",
       "babies-work-meeting                       0.931796\n",
       "oddity-ceramics-surrealism-art            0.939738\n",
       "flight-attendants-covid                   0.944585\n",
       "rokia-kone-jacknife-lee-bamanan-review    0.944797\n",
       "wall-street-hotel                         0.966689\n",
       "Name: score, Length: 159, dtype: float64"
      ]
     },
     "execution_count": 4,
     "metadata": {},
     "output_type": "execute_result"
    }
   ],
   "source": [
    "df.groupby(\"source\").score.mean().sort_values()"
   ]
  },
  {
   "cell_type": "code",
   "execution_count": 5,
   "id": "e3fbc351",
   "metadata": {
    "ExecuteTime": {
     "end_time": "2022-03-26T08:50:38.229349Z",
     "start_time": "2022-03-26T08:50:38.209840Z"
    }
   },
   "outputs": [
    {
     "data": {
      "text/html": [
       "<span class=\"tex2jax_ignore\"><div class=\"entities\" style=\"line-height: 2.5; direction: ltr\">\n",
       "<mark class=\"entity\" style=\"background: #E1F8DC; padding: 0.45em 0.6em; margin: 0 0.25em; line-height: 1; border-radius: 0.35em;\">\n",
       "    In the last 48 hours, President Vladimir V. Putin of Russia and his officials say they have ordered back a good number of troops who were engaged in military exercises on the border with Ukraine. But there hasn’t been a lot of change on the ground.\n",
       "    <span style=\"font-size: 0.8em; font-weight: bold; line-height: 1; border-radius: 0.35em; vertical-align: middle; margin-left: 0.5rem\">Evidence</span>\n",
       "</mark>\n",
       "\n",
       "<mark class=\"entity\" style=\"background: #FEF8DD; padding: 0.45em 0.6em; margin: 0 0.25em; line-height: 1; border-radius: 0.35em;\">\n",
       "    Since the beginning of the standoff, President Biden has been clear that he will not allow American troops to come into direct combat with Russians.\n",
       "    <span style=\"font-size: 0.8em; font-weight: bold; line-height: 1; border-radius: 0.35em; vertical-align: middle; margin-left: 0.5rem\">Claim</span>\n",
       "</mark>\n",
       "\n",
       "<mark class=\"entity\" style=\"background: #FEF8DD; padding: 0.45em 0.6em; margin: 0 0.25em; line-height: 1; border-radius: 0.35em;\">\n",
       "    Why has the U.S., a country that has intervened all over the world in various contexts, taken that powerful option off the table?\n",
       "    <span style=\"font-size: 0.8em; font-weight: bold; line-height: 1; border-radius: 0.35em; vertical-align: middle; margin-left: 0.5rem\">Claim</span>\n",
       "</mark>\n",
       "\n",
       "<mark class=\"entity\" style=\"background: #FEF8DD; padding: 0.45em 0.6em; margin: 0 0.25em; line-height: 1; border-radius: 0.35em;\">\n",
       "    David E. Sanger, a White House and national security correspondent for The New York Times.\n",
       "    <span style=\"font-size: 0.8em; font-weight: bold; line-height: 1; border-radius: 0.35em; vertical-align: middle; margin-left: 0.5rem\">Claim</span>\n",
       "</mark>\n",
       "\n",
       "<mark class=\"entity\" style=\"background: #FEF8DD; padding: 0.45em 0.6em; margin: 0 0.25em; line-height: 1; border-radius: 0.35em;\">\n",
       "    While recent Russian rhetoric has stoked hopes of a diplomatic solution, U.S. and NATO officials have accused Moscow of further building up troops.\n",
       "    <span style=\"font-size: 0.8em; font-weight: bold; line-height: 1; border-radius: 0.35em; vertical-align: middle; margin-left: 0.5rem\">Claim</span>\n",
       "</mark>\n",
       "\n",
       "<mark class=\"entity\" style=\"background: #FEF8DD; padding: 0.45em 0.6em; margin: 0 0.25em; line-height: 1; border-radius: 0.35em;\">\n",
       "    President Biden’s opposition to sending U.S. forces into Ukraine reflects the mood of a war-wary Washington, as well as concerns about Russia’s nuclear arsenal.\n",
       "    <span style=\"font-size: 0.8em; font-weight: bold; line-height: 1; border-radius: 0.35em; vertical-align: middle; margin-left: 0.5rem\">Claim</span>\n",
       "</mark>\n",
       "\n",
       "<mark class=\"entity\" style=\"background: #FEF8DD; padding: 0.45em 0.6em; margin: 0 0.25em; line-height: 1; border-radius: 0.35em;\">\n",
       "    Here’s a guide to the causes behind the Ukraine crisis and where it might be headed.\n",
       "    <span style=\"font-size: 0.8em; font-weight: bold; line-height: 1; border-radius: 0.35em; vertical-align: middle; margin-left: 0.5rem\">Claim</span>\n",
       "</mark>\n",
       "</div></span>"
      ],
      "text/plain": [
       "<IPython.core.display.HTML object>"
      ]
     },
     "metadata": {},
     "output_type": "display_data"
    },
    {
     "name": "stdout",
     "output_type": "stream",
     "text": [
      "\n",
      "\n",
      "\n"
     ]
    }
   ],
   "source": [
    "test = df[df.source=='ukraine-russia-us-troops']\n",
    "doc = {\n",
    "    \"text\": test.text.sum(),\n",
    "    \"ents\": [dict(start=int(row[\"start\"]), end=int(row[\"end\"]), label=row[\"label\"]) for i, row in test.iterrows()],\n",
    "}\n",
    "\n",
    "labels = ['Lead', 'Position', 'Evidence', 'Claim', 'Concluding Statement', 'Counterclaim', 'Rebuttal']\n",
    "colors = [\"#ACDDDE\", \"#CAF1DE\", \"#E1F8DC\", \"#FEF8DD\", \"#FFE7C7\", \"#F7D8BA\", \"#D6CDEA\"]\n",
    "options = {\"ents\": labels, \"colors\": dict(zip(labels, colors))}\n",
    "displacy.render(doc, style=\"ent\", options=options, manual=True, jupyter=True)\n",
    "print('\\n\\n')"
   ]
  },
  {
   "cell_type": "code",
   "execution_count": 6,
   "id": "da9f3e65",
   "metadata": {
    "ExecuteTime": {
     "end_time": "2022-03-26T08:50:38.243818Z",
     "start_time": "2022-03-26T08:50:38.230312Z"
    }
   },
   "outputs": [
    {
     "data": {
      "text/plain": [
       "0.7670386684061288"
      ]
     },
     "execution_count": 6,
     "metadata": {},
     "output_type": "execute_result"
    }
   ],
   "source": [
    "df.groupby(\"source\").score.mean().mean()"
   ]
  },
  {
   "cell_type": "code",
   "execution_count": 7,
   "id": "66c2d4a4",
   "metadata": {
    "ExecuteTime": {
     "end_time": "2022-03-26T08:50:38.258362Z",
     "start_time": "2022-03-26T08:50:38.243818Z"
    }
   },
   "outputs": [
    {
     "data": {
      "text/plain": [
       "count    3898.000000\n",
       "mean        0.760480\n",
       "std         0.197714\n",
       "min         0.217844\n",
       "25%         0.594941\n",
       "50%         0.807805\n",
       "75%         0.945076\n",
       "max         0.995302\n",
       "Name: score, dtype: float64"
      ]
     },
     "execution_count": 7,
     "metadata": {},
     "output_type": "execute_result"
    }
   ],
   "source": [
    "df.score.describe()"
   ]
  },
  {
   "cell_type": "code",
   "execution_count": 8,
   "id": "74c9e3cb",
   "metadata": {
    "ExecuteTime": {
     "end_time": "2022-03-26T08:50:39.323289Z",
     "start_time": "2022-03-26T08:50:38.258362Z"
    }
   },
   "outputs": [
    {
     "data": {
      "image/png": "[encoded data removed]",
      "text/plain": [
       "<Figure size 720x1080 with 10 Axes>"
      ]
     },
     "metadata": {
      "needs_background": "light"
     },
     "output_type": "display_data"
    }
   ],
   "source": [
    "f, axes = plt.subplots(5,2, figsize=(10,15), sharex=True)\n",
    "\n",
    "for i,f in enumerate([sns.stripplot, sns.histplot, sns.kdeplot, sns.boxplot, sns.violinplot]):\n",
    "    for j,d in enumerate([df.score, df.rename(columns=dict(score=\"textualScore\")).groupby(\"source\").textualScore.mean()]):\n",
    "        f(x=d, ax=axes[i, j])"
   ]
  },
  {
   "cell_type": "code",
   "execution_count": 9,
   "id": "dc15c5a7",
   "metadata": {
    "ExecuteTime": {
     "end_time": "2022-03-26T08:50:39.338949Z",
     "start_time": "2022-03-26T08:50:39.323289Z"
    }
   },
   "outputs": [
    {
     "data": {
      "text/html": [
       "<div>\n",
       "<style scoped>\n",
       "    .dataframe tbody tr th:only-of-type {\n",
       "        vertical-align: middle;\n",
       "    }\n",
       "\n",
       "    .dataframe tbody tr th {\n",
       "        vertical-align: top;\n",
       "    }\n",
       "\n",
       "    .dataframe thead th {\n",
       "        text-align: right;\n",
       "    }\n",
       "</style>\n",
       "<table border=\"1\" class=\"dataframe\">\n",
       "  <thead>\n",
       "    <tr style=\"text-align: right;\">\n",
       "      <th></th>\n",
       "      <th>textualScore</th>\n",
       "    </tr>\n",
       "  </thead>\n",
       "  <tbody>\n",
       "    <tr>\n",
       "      <th>0</th>\n",
       "      <td>0.813205</td>\n",
       "    </tr>\n",
       "    <tr>\n",
       "      <th>1</th>\n",
       "      <td>0.685687</td>\n",
       "    </tr>\n",
       "    <tr>\n",
       "      <th>2</th>\n",
       "      <td>0.809620</td>\n",
       "    </tr>\n",
       "    <tr>\n",
       "      <th>3</th>\n",
       "      <td>0.800835</td>\n",
       "    </tr>\n",
       "    <tr>\n",
       "      <th>4</th>\n",
       "      <td>0.731424</td>\n",
       "    </tr>\n",
       "    <tr>\n",
       "      <th>...</th>\n",
       "      <td>...</td>\n",
       "    </tr>\n",
       "    <tr>\n",
       "      <th>154</th>\n",
       "      <td>0.772159</td>\n",
       "    </tr>\n",
       "    <tr>\n",
       "      <th>155</th>\n",
       "      <td>0.844647</td>\n",
       "    </tr>\n",
       "    <tr>\n",
       "      <th>156</th>\n",
       "      <td>0.714356</td>\n",
       "    </tr>\n",
       "    <tr>\n",
       "      <th>157</th>\n",
       "      <td>0.670670</td>\n",
       "    </tr>\n",
       "    <tr>\n",
       "      <th>158</th>\n",
       "      <td>0.797801</td>\n",
       "    </tr>\n",
       "  </tbody>\n",
       "</table>\n",
       "<p>159 rows × 1 columns</p>\n",
       "</div>"
      ],
      "text/plain": [
       "     textualScore\n",
       "0        0.813205\n",
       "1        0.685687\n",
       "2        0.809620\n",
       "3        0.800835\n",
       "4        0.731424\n",
       "..            ...\n",
       "154      0.772159\n",
       "155      0.844647\n",
       "156      0.714356\n",
       "157      0.670670\n",
       "158      0.797801\n",
       "\n",
       "[159 rows x 1 columns]"
      ]
     },
     "execution_count": 9,
     "metadata": {},
     "output_type": "execute_result"
    }
   ],
   "source": [
    "df.groupby(\"source\").score.mean().reset_index()[[\"score\"]].rename(columns={\"score\":\"textualScore\"})"
   ]
  },
  {
   "cell_type": "code",
   "execution_count": 10,
   "id": "e8b171a2",
   "metadata": {
    "ExecuteTime": {
     "end_time": "2022-03-26T13:03:06.994627Z",
     "start_time": "2022-03-26T13:03:06.642623Z"
    }
   },
   "outputs": [
    {
     "data": {
      "text/html": [
       "<div>\n",
       "<style scoped>\n",
       "    .dataframe tbody tr th:only-of-type {\n",
       "        vertical-align: middle;\n",
       "    }\n",
       "\n",
       "    .dataframe tbody tr th {\n",
       "        vertical-align: top;\n",
       "    }\n",
       "\n",
       "    .dataframe thead th {\n",
       "        text-align: right;\n",
       "    }\n",
       "</style>\n",
       "<table border=\"1\" class=\"dataframe\">\n",
       "  <thead>\n",
       "    <tr style=\"text-align: right;\">\n",
       "      <th></th>\n",
       "      <th>text</th>\n",
       "      <th>label</th>\n",
       "      <th>score</th>\n",
       "      <th>start</th>\n",
       "      <th>end</th>\n",
       "      <th>source</th>\n",
       "    </tr>\n",
       "  </thead>\n",
       "  <tbody>\n",
       "    <tr>\n",
       "      <th>0</th>\n",
       "      <td>In 2019 a wave of anti-abortion laws swept thi...</td>\n",
       "      <td>Evidence</td>\n",
       "      <td>0.983720</td>\n",
       "      <td>0</td>\n",
       "      <td>528</td>\n",
       "      <td>abortion-florida-15-week-ban</td>\n",
       "    </tr>\n",
       "    <tr>\n",
       "      <th>1</th>\n",
       "      <td>Though most of these laws were quickly blocked...</td>\n",
       "      <td>Evidence</td>\n",
       "      <td>0.934319</td>\n",
       "      <td>528</td>\n",
       "      <td>908</td>\n",
       "      <td>abortion-florida-15-week-ban</td>\n",
       "    </tr>\n",
       "    <tr>\n",
       "      <th>2</th>\n",
       "      <td>Three years later, American reproductive right...</td>\n",
       "      <td>Evidence</td>\n",
       "      <td>0.622358</td>\n",
       "      <td>908</td>\n",
       "      <td>1214</td>\n",
       "      <td>abortion-florida-15-week-ban</td>\n",
       "    </tr>\n",
       "    <tr>\n",
       "      <th>3</th>\n",
       "      <td>It might seem curious, then, that legislators ...</td>\n",
       "      <td>Evidence</td>\n",
       "      <td>0.946866</td>\n",
       "      <td>1214</td>\n",
       "      <td>1722</td>\n",
       "      <td>abortion-florida-15-week-ban</td>\n",
       "    </tr>\n",
       "    <tr>\n",
       "      <th>4</th>\n",
       "      <td>One of this year’s unmistakable trends in anti...</td>\n",
       "      <td>Evidence</td>\n",
       "      <td>0.991869</td>\n",
       "      <td>1722</td>\n",
       "      <td>2394</td>\n",
       "      <td>abortion-florida-15-week-ban</td>\n",
       "    </tr>\n",
       "    <tr>\n",
       "      <th>...</th>\n",
       "      <td>...</td>\n",
       "      <td>...</td>\n",
       "      <td>...</td>\n",
       "      <td>...</td>\n",
       "      <td>...</td>\n",
       "      <td>...</td>\n",
       "    </tr>\n",
       "    <tr>\n",
       "      <th>3893</th>\n",
       "      <td>And boy did it come</td>\n",
       "      <td>Claim</td>\n",
       "      <td>0.982928</td>\n",
       "      <td>2554</td>\n",
       "      <td>2573</td>\n",
       "      <td>yosemite-falls</td>\n",
       "    </tr>\n",
       "    <tr>\n",
       "      <th>3894</th>\n",
       "      <td>But the record rains will not end California’s...</td>\n",
       "      <td>Rebuttal</td>\n",
       "      <td>0.880377</td>\n",
       "      <td>2573</td>\n",
       "      <td>2636</td>\n",
       "      <td>yosemite-falls</td>\n",
       "    </tr>\n",
       "    <tr>\n",
       "      <th>3895</th>\n",
       "      <td>Last week, Gov. Gavin Newsom extended the stat...</td>\n",
       "      <td>Claim</td>\n",
       "      <td>0.541481</td>\n",
       "      <td>2636</td>\n",
       "      <td>2769</td>\n",
       "      <td>yosemite-falls</td>\n",
       "    </tr>\n",
       "    <tr>\n",
       "      <th>3896</th>\n",
       "      <td>This has been California’s second driest year ...</td>\n",
       "      <td>Evidence</td>\n",
       "      <td>0.479049</td>\n",
       "      <td>2769</td>\n",
       "      <td>2925</td>\n",
       "      <td>yosemite-falls</td>\n",
       "    </tr>\n",
       "    <tr>\n",
       "      <th>3897</th>\n",
       "      <td>Severe drought conditions, worsened by climate...</td>\n",
       "      <td>Claim</td>\n",
       "      <td>0.478424</td>\n",
       "      <td>2925</td>\n",
       "      <td>3080</td>\n",
       "      <td>yosemite-falls</td>\n",
       "    </tr>\n",
       "  </tbody>\n",
       "</table>\n",
       "<p>3898 rows × 6 columns</p>\n",
       "</div>"
      ],
      "text/plain": [
       "                                                   text     label     score  \\\n",
       "0     In 2019 a wave of anti-abortion laws swept thi...  Evidence  0.983720   \n",
       "1     Though most of these laws were quickly blocked...  Evidence  0.934319   \n",
       "2     Three years later, American reproductive right...  Evidence  0.622358   \n",
       "3     It might seem curious, then, that legislators ...  Evidence  0.946866   \n",
       "4     One of this year’s unmistakable trends in anti...  Evidence  0.991869   \n",
       "...                                                 ...       ...       ...   \n",
       "3893                                And boy did it come     Claim  0.982928   \n",
       "3894  But the record rains will not end California’s...  Rebuttal  0.880377   \n",
       "3895  Last week, Gov. Gavin Newsom extended the stat...     Claim  0.541481   \n",
       "3896  This has been California’s second driest year ...  Evidence  0.479049   \n",
       "3897  Severe drought conditions, worsened by climate...     Claim  0.478424   \n",
       "\n",
       "      start   end                        source  \n",
       "0         0   528  abortion-florida-15-week-ban  \n",
       "1       528   908  abortion-florida-15-week-ban  \n",
       "2       908  1214  abortion-florida-15-week-ban  \n",
       "3      1214  1722  abortion-florida-15-week-ban  \n",
       "4      1722  2394  abortion-florida-15-week-ban  \n",
       "...     ...   ...                           ...  \n",
       "3893   2554  2573                yosemite-falls  \n",
       "3894   2573  2636                yosemite-falls  \n",
       "3895   2636  2769                yosemite-falls  \n",
       "3896   2769  2925                yosemite-falls  \n",
       "3897   2925  3080                yosemite-falls  \n",
       "\n",
       "[3898 rows x 6 columns]"
      ]
     },
     "execution_count": 10,
     "metadata": {},
     "output_type": "execute_result"
    }
   ],
   "source": [
    "df"
   ]
  },
  {
   "cell_type": "code",
   "execution_count": null,
   "id": "1d303cf6",
   "metadata": {},
   "outputs": [],
   "source": []
  }
 ],
 "metadata": {
  "kernelspec": {
   "display_name": "Python 3 (ipykernel)",
   "language": "python",
   "name": "python3"
  },
  "language_info": {
   "codemirror_mode": {
    "name": "ipython",
    "version": 3
   },
   "file_extension": ".py",
   "mimetype": "text/x-python",
   "name": "python",
   "nbconvert_exporter": "python",
   "pygments_lexer": "ipython3",
   "version": "3.9.7"
  },
  "toc": {
   "base_numbering": 1,
   "nav_menu": {},
   "number_sections": true,
   "sideBar": true,
   "skip_h1_title": false,
   "title_cell": "Table of Contents",
   "title_sidebar": "Contents",
   "toc_cell": false,
   "toc_position": {},
   "toc_section_display": true,
   "toc_window_display": false
  },
  "varInspector": {
   "cols": {
    "lenName": 16,
    "lenType": 16,
    "lenVar": 40
   },
   "kernels_config": {
    "python": {
     "delete_cmd_postfix": "",
     "delete_cmd_prefix": "del ",
     "library": "var_list.py",
     "varRefreshCmd": "print(var_dic_list())"
    },
    "r": {
     "delete_cmd_postfix": ") ",
     "delete_cmd_prefix": "rm(",
     "library": "var_list.r",
     "varRefreshCmd": "cat(var_dic_list()) "
    }
   },
   "types_to_exclude": [
    "module",
    "function",
    "builtin_function_or_method",
    "instance",
    "_Feature"
   ],
   "window_display": false
  }
 },
 "nbformat": 4,
 "nbformat_minor": 5
}
