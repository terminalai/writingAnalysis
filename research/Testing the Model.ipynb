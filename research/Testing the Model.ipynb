{
 "cells": [
  {
   "cell_type": "code",
   "execution_count": 10,
   "id": "2dad550f",
   "metadata": {
    "ExecuteTime": {
     "end_time": "2022-02-19T21:42:45.135021Z",
     "start_time": "2022-02-19T21:42:45.114021Z"
    }
   },
   "outputs": [],
   "source": [
    "from transformers import pipeline\n",
    "from transformers import AutoTokenizer\n",
    "from transformers import DataCollatorWithPadding\n",
    "from transformers import AutoModelForSequenceClassification, TrainingArguments, Trainer\n",
    "from transformers import PreTrainedModel\n",
    "from transformers.pipelines.pt_utils import KeyDataset\n",
    "\n",
    "from tqdm.auto import tqdm\n",
    "\n",
    "from datasets import Dataset, DatasetDict, load_dataset\n",
    "from datasets import load_metric\n",
    "\n",
    "from sklearn.model_selection import train_test_split\n",
    "from sklearn.metrics import cohen_kappa_score\n",
    "\n",
    "import pandas as pd\n",
    "import numpy as np\n",
    "import logging\n",
    "from glob import glob\n",
    "from os import path\n",
    "\n",
    "from IPython.display import HTML, display\n",
    "\n",
    "import torch"
   ]
  },
  {
   "cell_type": "code",
   "execution_count": 11,
   "id": "53884a04",
   "metadata": {
    "ExecuteTime": {
     "end_time": "2022-02-19T21:42:49.708929Z",
     "start_time": "2022-02-19T21:42:49.689145Z"
    }
   },
   "outputs": [
    {
     "data": {
      "text/plain": [
       "device(type='cpu')"
      ]
     },
     "execution_count": 11,
     "metadata": {},
     "output_type": "execute_result"
    }
   ],
   "source": [
    "device = \"cuda:0\" if torch.cuda.is_available() else \"cpu\"\n",
    "device = torch.device(device)\n",
    "device"
   ]
  },
  {
   "cell_type": "code",
   "execution_count": 12,
   "id": "12017828",
   "metadata": {
    "ExecuteTime": {
     "end_time": "2022-02-19T21:43:21.476733Z",
     "start_time": "2022-02-19T21:43:20.537384Z"
    }
   },
   "outputs": [
    {
     "data": {
      "text/html": [
       "<div>\n",
       "<style scoped>\n",
       "    .dataframe tbody tr th:only-of-type {\n",
       "        vertical-align: middle;\n",
       "    }\n",
       "\n",
       "    .dataframe tbody tr th {\n",
       "        vertical-align: top;\n",
       "    }\n",
       "\n",
       "    .dataframe thead th {\n",
       "        text-align: right;\n",
       "    }\n",
       "</style>\n",
       "<table border=\"1\" class=\"dataframe\">\n",
       "  <thead>\n",
       "    <tr style=\"text-align: right;\">\n",
       "      <th></th>\n",
       "      <th>discourse_id</th>\n",
       "      <th>discourse_start</th>\n",
       "      <th>discourse_end</th>\n",
       "      <th>text</th>\n",
       "      <th>discourse_type</th>\n",
       "      <th>discourse_type_num</th>\n",
       "      <th>predictionstring</th>\n",
       "      <th>label</th>\n",
       "    </tr>\n",
       "    <tr>\n",
       "      <th>id</th>\n",
       "      <th></th>\n",
       "      <th></th>\n",
       "      <th></th>\n",
       "      <th></th>\n",
       "      <th></th>\n",
       "      <th></th>\n",
       "      <th></th>\n",
       "      <th></th>\n",
       "    </tr>\n",
       "  </thead>\n",
       "  <tbody>\n",
       "    <tr>\n",
       "      <th>423A1CA112E2</th>\n",
       "      <td>1.622628e+12</td>\n",
       "      <td>8.0</td>\n",
       "      <td>229.0</td>\n",
       "      <td>Modern humans today are always on their phone....</td>\n",
       "      <td>Lead</td>\n",
       "      <td>Lead 1</td>\n",
       "      <td>1 2 3 4 5 6 7 8 9 10 11 12 13 14 15 16 17 18 1...</td>\n",
       "      <td>4</td>\n",
       "    </tr>\n",
       "    <tr>\n",
       "      <th>423A1CA112E2</th>\n",
       "      <td>1.622628e+12</td>\n",
       "      <td>230.0</td>\n",
       "      <td>312.0</td>\n",
       "      <td>They are some really bad consequences when stu...</td>\n",
       "      <td>Position</td>\n",
       "      <td>Position 1</td>\n",
       "      <td>45 46 47 48 49 50 51 52 53 54 55 56 57 58 59</td>\n",
       "      <td>5</td>\n",
       "    </tr>\n",
       "    <tr>\n",
       "      <th>423A1CA112E2</th>\n",
       "      <td>1.622628e+12</td>\n",
       "      <td>313.0</td>\n",
       "      <td>401.0</td>\n",
       "      <td>Some certain areas in the United States ban ph...</td>\n",
       "      <td>Evidence</td>\n",
       "      <td>Evidence 1</td>\n",
       "      <td>60 61 62 63 64 65 66 67 68 69 70 71 72 73 74 75</td>\n",
       "      <td>3</td>\n",
       "    </tr>\n",
       "    <tr>\n",
       "      <th>423A1CA112E2</th>\n",
       "      <td>1.622628e+12</td>\n",
       "      <td>402.0</td>\n",
       "      <td>758.0</td>\n",
       "      <td>When people have phones, they know about certa...</td>\n",
       "      <td>Evidence</td>\n",
       "      <td>Evidence 2</td>\n",
       "      <td>76 77 78 79 80 81 82 83 84 85 86 87 88 89 90 9...</td>\n",
       "      <td>3</td>\n",
       "    </tr>\n",
       "    <tr>\n",
       "      <th>423A1CA112E2</th>\n",
       "      <td>1.622628e+12</td>\n",
       "      <td>759.0</td>\n",
       "      <td>886.0</td>\n",
       "      <td>Driving is one of the way how to get around. P...</td>\n",
       "      <td>Claim</td>\n",
       "      <td>Claim 1</td>\n",
       "      <td>139 140 141 142 143 144 145 146 147 148 149 15...</td>\n",
       "      <td>0</td>\n",
       "    </tr>\n",
       "    <tr>\n",
       "      <th>...</th>\n",
       "      <td>...</td>\n",
       "      <td>...</td>\n",
       "      <td>...</td>\n",
       "      <td>...</td>\n",
       "      <td>...</td>\n",
       "      <td>...</td>\n",
       "      <td>...</td>\n",
       "      <td>...</td>\n",
       "    </tr>\n",
       "    <tr>\n",
       "      <th>4C471936CD75</th>\n",
       "      <td>1.618153e+12</td>\n",
       "      <td>2234.0</td>\n",
       "      <td>3203.0</td>\n",
       "      <td>if I'm not sure what college I want to attend...</td>\n",
       "      <td>Evidence</td>\n",
       "      <td>Evidence 2</td>\n",
       "      <td>386 387 388 389 390 391 392 393 394 395 396 39...</td>\n",
       "      <td>3</td>\n",
       "    </tr>\n",
       "    <tr>\n",
       "      <th>4C471936CD75</th>\n",
       "      <td>1.618153e+12</td>\n",
       "      <td>3221.0</td>\n",
       "      <td>4509.0</td>\n",
       "      <td>seeking multiple opinions before making a har...</td>\n",
       "      <td>Evidence</td>\n",
       "      <td>Evidence 3</td>\n",
       "      <td>576 577 578 579 580 581 582 583 584 585 586 58...</td>\n",
       "      <td>3</td>\n",
       "    </tr>\n",
       "    <tr>\n",
       "      <th>4C471936CD75</th>\n",
       "      <td>1.618025e+12</td>\n",
       "      <td>4510.0</td>\n",
       "      <td>4570.0</td>\n",
       "      <td>it is better to seekÂ multiple opinions instea...</td>\n",
       "      <td>Position</td>\n",
       "      <td>Position 1</td>\n",
       "      <td>828 829 830 831 832 833 834 835 836 837 838</td>\n",
       "      <td>5</td>\n",
       "    </tr>\n",
       "    <tr>\n",
       "      <th>4C471936CD75</th>\n",
       "      <td>1.618025e+12</td>\n",
       "      <td>4570.0</td>\n",
       "      <td>4922.0</td>\n",
       "      <td>The impact of asking people to helpÂ you make ...</td>\n",
       "      <td>Evidence</td>\n",
       "      <td>Evidence 4</td>\n",
       "      <td>839 840 841 842 843 844 845 846 847 848 849 85...</td>\n",
       "      <td>3</td>\n",
       "    </tr>\n",
       "    <tr>\n",
       "      <th>4C471936CD75</th>\n",
       "      <td>1.618025e+12</td>\n",
       "      <td>4935.0</td>\n",
       "      <td>5825.0</td>\n",
       "      <td>there are many other reasons one might want to...</td>\n",
       "      <td>Concluding Statement</td>\n",
       "      <td>Concluding Statement 1</td>\n",
       "      <td>905 906 907 908 909 910 911 912 913 914 915 91...</td>\n",
       "      <td>1</td>\n",
       "    </tr>\n",
       "  </tbody>\n",
       "</table>\n",
       "<p>144293 rows × 8 columns</p>\n",
       "</div>"
      ],
      "text/plain": [
       "              discourse_id  discourse_start  discourse_end  \\\n",
       "id                                                           \n",
       "423A1CA112E2  1.622628e+12              8.0          229.0   \n",
       "423A1CA112E2  1.622628e+12            230.0          312.0   \n",
       "423A1CA112E2  1.622628e+12            313.0          401.0   \n",
       "423A1CA112E2  1.622628e+12            402.0          758.0   \n",
       "423A1CA112E2  1.622628e+12            759.0          886.0   \n",
       "...                    ...              ...            ...   \n",
       "4C471936CD75  1.618153e+12           2234.0         3203.0   \n",
       "4C471936CD75  1.618153e+12           3221.0         4509.0   \n",
       "4C471936CD75  1.618025e+12           4510.0         4570.0   \n",
       "4C471936CD75  1.618025e+12           4570.0         4922.0   \n",
       "4C471936CD75  1.618025e+12           4935.0         5825.0   \n",
       "\n",
       "                                                           text  \\\n",
       "id                                                                \n",
       "423A1CA112E2  Modern humans today are always on their phone....   \n",
       "423A1CA112E2  They are some really bad consequences when stu...   \n",
       "423A1CA112E2  Some certain areas in the United States ban ph...   \n",
       "423A1CA112E2  When people have phones, they know about certa...   \n",
       "423A1CA112E2  Driving is one of the way how to get around. P...   \n",
       "...                                                         ...   \n",
       "4C471936CD75   if I'm not sure what college I want to attend...   \n",
       "4C471936CD75   seeking multiple opinions before making a har...   \n",
       "4C471936CD75  it is better to seekÂ multiple opinions instea...   \n",
       "4C471936CD75  The impact of asking people to helpÂ you make ...   \n",
       "4C471936CD75  there are many other reasons one might want to...   \n",
       "\n",
       "                    discourse_type      discourse_type_num  \\\n",
       "id                                                           \n",
       "423A1CA112E2                  Lead                  Lead 1   \n",
       "423A1CA112E2              Position              Position 1   \n",
       "423A1CA112E2              Evidence              Evidence 1   \n",
       "423A1CA112E2              Evidence              Evidence 2   \n",
       "423A1CA112E2                 Claim                 Claim 1   \n",
       "...                            ...                     ...   \n",
       "4C471936CD75              Evidence              Evidence 2   \n",
       "4C471936CD75              Evidence              Evidence 3   \n",
       "4C471936CD75              Position              Position 1   \n",
       "4C471936CD75              Evidence              Evidence 4   \n",
       "4C471936CD75  Concluding Statement  Concluding Statement 1   \n",
       "\n",
       "                                               predictionstring  label  \n",
       "id                                                                      \n",
       "423A1CA112E2  1 2 3 4 5 6 7 8 9 10 11 12 13 14 15 16 17 18 1...      4  \n",
       "423A1CA112E2       45 46 47 48 49 50 51 52 53 54 55 56 57 58 59      5  \n",
       "423A1CA112E2    60 61 62 63 64 65 66 67 68 69 70 71 72 73 74 75      3  \n",
       "423A1CA112E2  76 77 78 79 80 81 82 83 84 85 86 87 88 89 90 9...      3  \n",
       "423A1CA112E2  139 140 141 142 143 144 145 146 147 148 149 15...      0  \n",
       "...                                                         ...    ...  \n",
       "4C471936CD75  386 387 388 389 390 391 392 393 394 395 396 39...      3  \n",
       "4C471936CD75  576 577 578 579 580 581 582 583 584 585 586 58...      3  \n",
       "4C471936CD75        828 829 830 831 832 833 834 835 836 837 838      5  \n",
       "4C471936CD75  839 840 841 842 843 844 845 846 847 848 849 85...      3  \n",
       "4C471936CD75  905 906 907 908 909 910 911 912 913 914 915 91...      1  \n",
       "\n",
       "[144293 rows x 8 columns]"
      ]
     },
     "execution_count": 12,
     "metadata": {},
     "output_type": "execute_result"
    }
   ],
   "source": [
    "dataset_path = r\"feedback-prize-2021/train.csv\"\n",
    "df = pd.read_csv(dataset_path, header=0, encoding= 'unicode_escape')\n",
    "df = df.set_index(\"id\")\n",
    "df = df.rename(columns={\"discourse_text\": \"text\"})\n",
    "df[\"discourse_type\"] = pd.Categorical(df[\"discourse_type\"])\n",
    "df[\"label\"] = df[\"discourse_type\"].cat.codes\n",
    "df"
   ]
  },
  {
   "cell_type": "code",
   "execution_count": 13,
   "id": "86d63b97",
   "metadata": {
    "ExecuteTime": {
     "end_time": "2022-02-19T21:43:28.792387Z",
     "start_time": "2022-02-19T21:43:28.779394Z"
    }
   },
   "outputs": [
    {
     "data": {
      "text/plain": [
       "{0: 'Claim',\n",
       " 1: 'Concluding Statement',\n",
       " 2: 'Counterclaim',\n",
       " 3: 'Evidence',\n",
       " 4: 'Lead',\n",
       " 5: 'Position',\n",
       " 6: 'Rebuttal'}"
      ]
     },
     "execution_count": 13,
     "metadata": {},
     "output_type": "execute_result"
    }
   ],
   "source": [
    "category_codes = dict(zip(range(df[\"discourse_type\"].cat.categories.size),df[\"discourse_type\"].cat.categories))\n",
    "category_codes"
   ]
  },
  {
   "cell_type": "code",
   "execution_count": 14,
   "id": "3b6154f8",
   "metadata": {
    "ExecuteTime": {
     "end_time": "2022-02-19T21:43:40.621196Z",
     "start_time": "2022-02-19T21:43:40.352997Z"
    }
   },
   "outputs": [
    {
     "data": {
      "text/plain": [
       "DatasetDict({\n",
       "    train: Dataset({\n",
       "        features: ['text', 'label', 'id'],\n",
       "        num_rows: 101005\n",
       "    })\n",
       "    test: Dataset({\n",
       "        features: ['text', 'label', 'id'],\n",
       "        num_rows: 28873\n",
       "    })\n",
       "    valid: Dataset({\n",
       "        features: ['text', 'label', 'id'],\n",
       "        num_rows: 14415\n",
       "    })\n",
       "})"
      ]
     },
     "execution_count": 14,
     "metadata": {},
     "output_type": "execute_result"
    }
   ],
   "source": [
    "dataset = Dataset.from_pandas(df[[\"text\", \"label\"]])\n",
    "\n",
    "train_test_dataset = dataset.train_test_split(test_size=0.3)\n",
    "test_validation_dataset = train_test_dataset[\"test\"].train_test_split(test_size=0.333)\n",
    "\n",
    "train_test_valid_dataset = DatasetDict({\n",
    "    'train': train_test_dataset['train'],\n",
    "    'test': test_validation_dataset['train'],\n",
    "    'valid': test_validation_dataset['test']})\n",
    "\n",
    "train_test_valid_dataset"
   ]
  },
  {
   "cell_type": "code",
   "execution_count": 18,
   "id": "0151ee97",
   "metadata": {
    "ExecuteTime": {
     "end_time": "2022-02-19T21:46:10.664906Z",
     "start_time": "2022-02-19T21:45:49.296430Z"
    }
   },
   "outputs": [
    {
     "data": {
      "application/vnd.jupyter.widget-view+json": {
       "model_id": "2b6f2f4398cd46a483f1a842866bf1be",
       "version_major": 2,
       "version_minor": 0
      },
      "text/plain": [
       "Downloading:   0%|          | 0.00/28.0 [00:00<?, ?B/s]"
      ]
     },
     "metadata": {},
     "output_type": "display_data"
    },
    {
     "data": {
      "application/vnd.jupyter.widget-view+json": {
       "model_id": "a358a35d9d64446b99f584a41192775a",
       "version_major": 2,
       "version_minor": 0
      },
      "text/plain": [
       "Downloading:   0%|          | 0.00/483 [00:00<?, ?B/s]"
      ]
     },
     "metadata": {},
     "output_type": "display_data"
    },
    {
     "data": {
      "application/vnd.jupyter.widget-view+json": {
       "model_id": "62b0faf05bbb400ca652f593b560996e",
       "version_major": 2,
       "version_minor": 0
      },
      "text/plain": [
       "Downloading:   0%|          | 0.00/226k [00:00<?, ?B/s]"
      ]
     },
     "metadata": {},
     "output_type": "display_data"
    },
    {
     "data": {
      "application/vnd.jupyter.widget-view+json": {
       "model_id": "07d695d396e740069f71d95ae8d0faeb",
       "version_major": 2,
       "version_minor": 0
      },
      "text/plain": [
       "Downloading:   0%|          | 0.00/455k [00:00<?, ?B/s]"
      ]
     },
     "metadata": {},
     "output_type": "display_data"
    }
   ],
   "source": [
    "model_checkpoint = \"distilbert-base-uncased\"\n",
    "batch_size = 8\n",
    "num_labels = len(category_codes)\n",
    "tokenizer = AutoTokenizer.from_pretrained(model_checkpoint, use_fast=True)"
   ]
  },
  {
   "cell_type": "code",
   "execution_count": 15,
   "id": "11c51c09",
   "metadata": {
    "ExecuteTime": {
     "end_time": "2022-02-19T21:43:56.907756Z",
     "start_time": "2022-02-19T21:43:55.697096Z"
    }
   },
   "outputs": [
    {
     "data": {
      "text/plain": [
       "DistilBertForSequenceClassification(\n",
       "  (distilbert): DistilBertModel(\n",
       "    (embeddings): Embeddings(\n",
       "      (word_embeddings): Embedding(30522, 768, padding_idx=0)\n",
       "      (position_embeddings): Embedding(512, 768)\n",
       "      (LayerNorm): LayerNorm((768,), eps=1e-12, elementwise_affine=True)\n",
       "      (dropout): Dropout(p=0.1, inplace=False)\n",
       "    )\n",
       "    (transformer): Transformer(\n",
       "      (layer): ModuleList(\n",
       "        (0): TransformerBlock(\n",
       "          (attention): MultiHeadSelfAttention(\n",
       "            (dropout): Dropout(p=0.1, inplace=False)\n",
       "            (q_lin): Linear(in_features=768, out_features=768, bias=True)\n",
       "            (k_lin): Linear(in_features=768, out_features=768, bias=True)\n",
       "            (v_lin): Linear(in_features=768, out_features=768, bias=True)\n",
       "            (out_lin): Linear(in_features=768, out_features=768, bias=True)\n",
       "          )\n",
       "          (sa_layer_norm): LayerNorm((768,), eps=1e-12, elementwise_affine=True)\n",
       "          (ffn): FFN(\n",
       "            (dropout): Dropout(p=0.1, inplace=False)\n",
       "            (lin1): Linear(in_features=768, out_features=3072, bias=True)\n",
       "            (lin2): Linear(in_features=3072, out_features=768, bias=True)\n",
       "          )\n",
       "          (output_layer_norm): LayerNorm((768,), eps=1e-12, elementwise_affine=True)\n",
       "        )\n",
       "        (1): TransformerBlock(\n",
       "          (attention): MultiHeadSelfAttention(\n",
       "            (dropout): Dropout(p=0.1, inplace=False)\n",
       "            (q_lin): Linear(in_features=768, out_features=768, bias=True)\n",
       "            (k_lin): Linear(in_features=768, out_features=768, bias=True)\n",
       "            (v_lin): Linear(in_features=768, out_features=768, bias=True)\n",
       "            (out_lin): Linear(in_features=768, out_features=768, bias=True)\n",
       "          )\n",
       "          (sa_layer_norm): LayerNorm((768,), eps=1e-12, elementwise_affine=True)\n",
       "          (ffn): FFN(\n",
       "            (dropout): Dropout(p=0.1, inplace=False)\n",
       "            (lin1): Linear(in_features=768, out_features=3072, bias=True)\n",
       "            (lin2): Linear(in_features=3072, out_features=768, bias=True)\n",
       "          )\n",
       "          (output_layer_norm): LayerNorm((768,), eps=1e-12, elementwise_affine=True)\n",
       "        )\n",
       "        (2): TransformerBlock(\n",
       "          (attention): MultiHeadSelfAttention(\n",
       "            (dropout): Dropout(p=0.1, inplace=False)\n",
       "            (q_lin): Linear(in_features=768, out_features=768, bias=True)\n",
       "            (k_lin): Linear(in_features=768, out_features=768, bias=True)\n",
       "            (v_lin): Linear(in_features=768, out_features=768, bias=True)\n",
       "            (out_lin): Linear(in_features=768, out_features=768, bias=True)\n",
       "          )\n",
       "          (sa_layer_norm): LayerNorm((768,), eps=1e-12, elementwise_affine=True)\n",
       "          (ffn): FFN(\n",
       "            (dropout): Dropout(p=0.1, inplace=False)\n",
       "            (lin1): Linear(in_features=768, out_features=3072, bias=True)\n",
       "            (lin2): Linear(in_features=3072, out_features=768, bias=True)\n",
       "          )\n",
       "          (output_layer_norm): LayerNorm((768,), eps=1e-12, elementwise_affine=True)\n",
       "        )\n",
       "        (3): TransformerBlock(\n",
       "          (attention): MultiHeadSelfAttention(\n",
       "            (dropout): Dropout(p=0.1, inplace=False)\n",
       "            (q_lin): Linear(in_features=768, out_features=768, bias=True)\n",
       "            (k_lin): Linear(in_features=768, out_features=768, bias=True)\n",
       "            (v_lin): Linear(in_features=768, out_features=768, bias=True)\n",
       "            (out_lin): Linear(in_features=768, out_features=768, bias=True)\n",
       "          )\n",
       "          (sa_layer_norm): LayerNorm((768,), eps=1e-12, elementwise_affine=True)\n",
       "          (ffn): FFN(\n",
       "            (dropout): Dropout(p=0.1, inplace=False)\n",
       "            (lin1): Linear(in_features=768, out_features=3072, bias=True)\n",
       "            (lin2): Linear(in_features=3072, out_features=768, bias=True)\n",
       "          )\n",
       "          (output_layer_norm): LayerNorm((768,), eps=1e-12, elementwise_affine=True)\n",
       "        )\n",
       "        (4): TransformerBlock(\n",
       "          (attention): MultiHeadSelfAttention(\n",
       "            (dropout): Dropout(p=0.1, inplace=False)\n",
       "            (q_lin): Linear(in_features=768, out_features=768, bias=True)\n",
       "            (k_lin): Linear(in_features=768, out_features=768, bias=True)\n",
       "            (v_lin): Linear(in_features=768, out_features=768, bias=True)\n",
       "            (out_lin): Linear(in_features=768, out_features=768, bias=True)\n",
       "          )\n",
       "          (sa_layer_norm): LayerNorm((768,), eps=1e-12, elementwise_affine=True)\n",
       "          (ffn): FFN(\n",
       "            (dropout): Dropout(p=0.1, inplace=False)\n",
       "            (lin1): Linear(in_features=768, out_features=3072, bias=True)\n",
       "            (lin2): Linear(in_features=3072, out_features=768, bias=True)\n",
       "          )\n",
       "          (output_layer_norm): LayerNorm((768,), eps=1e-12, elementwise_affine=True)\n",
       "        )\n",
       "        (5): TransformerBlock(\n",
       "          (attention): MultiHeadSelfAttention(\n",
       "            (dropout): Dropout(p=0.1, inplace=False)\n",
       "            (q_lin): Linear(in_features=768, out_features=768, bias=True)\n",
       "            (k_lin): Linear(in_features=768, out_features=768, bias=True)\n",
       "            (v_lin): Linear(in_features=768, out_features=768, bias=True)\n",
       "            (out_lin): Linear(in_features=768, out_features=768, bias=True)\n",
       "          )\n",
       "          (sa_layer_norm): LayerNorm((768,), eps=1e-12, elementwise_affine=True)\n",
       "          (ffn): FFN(\n",
       "            (dropout): Dropout(p=0.1, inplace=False)\n",
       "            (lin1): Linear(in_features=768, out_features=3072, bias=True)\n",
       "            (lin2): Linear(in_features=3072, out_features=768, bias=True)\n",
       "          )\n",
       "          (output_layer_norm): LayerNorm((768,), eps=1e-12, elementwise_affine=True)\n",
       "        )\n",
       "      )\n",
       "    )\n",
       "  )\n",
       "  (pre_classifier): Linear(in_features=768, out_features=768, bias=True)\n",
       "  (classifier): Linear(in_features=768, out_features=7, bias=True)\n",
       "  (dropout): Dropout(p=0.2, inplace=False)\n",
       ")"
      ]
     },
     "execution_count": 15,
     "metadata": {},
     "output_type": "execute_result"
    }
   ],
   "source": [
    "model_path = r\"models_gitignored/distilbert-base-uncased-finetuned-sentence-classification/checkpoint-12626\"\n",
    "loaded_model = AutoModelForSequenceClassification.from_pretrained(model_path, id2label=category_codes)\n",
    "loaded_model"
   ]
  },
  {
   "cell_type": "code",
   "execution_count": 16,
   "id": "fc89647b",
   "metadata": {
    "ExecuteTime": {
     "end_time": "2022-02-19T21:44:40.259714Z",
     "start_time": "2022-02-19T21:44:38.708661Z"
    }
   },
   "outputs": [
    {
     "name": "stderr",
     "output_type": "stream",
     "text": [
      "Using custom data configuration default-af442e383791019f\n"
     ]
    },
    {
     "name": "stdout",
     "output_type": "stream",
     "text": [
      "Downloading and preparing dataset text/default to C:\\Users\\Prannaya\\.cache\\huggingface\\datasets\\text\\default-af442e383791019f\\0.0.0\\08f6fb1dd2dab0a18ea441c359e1d63794ea8cb53e7863e6edf8fc5655e47ec4...\n"
     ]
    },
    {
     "data": {
      "application/vnd.jupyter.widget-view+json": {
       "model_id": "318519b5151c4e458d82ef31e1d12ca0",
       "version_major": 2,
       "version_minor": 0
      },
      "text/plain": [
       "  0%|          | 0/1 [00:00<?, ?it/s]"
      ]
     },
     "metadata": {},
     "output_type": "display_data"
    },
    {
     "data": {
      "application/vnd.jupyter.widget-view+json": {
       "model_id": "92ef9a9079754fd6bea0d9e692c5a8ad",
       "version_major": 2,
       "version_minor": 0
      },
      "text/plain": [
       "  0%|          | 0/1 [00:00<?, ?it/s]"
      ]
     },
     "metadata": {},
     "output_type": "display_data"
    },
    {
     "name": "stdout",
     "output_type": "stream",
     "text": [
      "Dataset text downloaded and prepared to C:\\Users\\Prannaya\\.cache\\huggingface\\datasets\\text\\default-af442e383791019f\\0.0.0\\08f6fb1dd2dab0a18ea441c359e1d63794ea8cb53e7863e6edf8fc5655e47ec4. Subsequent calls will reuse this data.\n"
     ]
    },
    {
     "data": {
      "application/vnd.jupyter.widget-view+json": {
       "model_id": "8da50e37ce714f8d8231d713b4da438e",
       "version_major": 2,
       "version_minor": 0
      },
      "text/plain": [
       "  0%|          | 0/1 [00:00<?, ?it/s]"
      ]
     },
     "metadata": {},
     "output_type": "display_data"
    },
    {
     "data": {
      "application/vnd.jupyter.widget-view+json": {
       "model_id": "ae61b619790b43a29cea011de8f31ab1",
       "version_major": 2,
       "version_minor": 0
      },
      "text/plain": [
       "  0%|          | 0/1 [00:00<?, ?ba/s]"
      ]
     },
     "metadata": {},
     "output_type": "display_data"
    },
    {
     "data": {
      "text/plain": [
       "{'text': 'In the metaverse, a user might curate a digital avatar, like a character in a video game. Through the eyes of their avatar, they would experience a digital reality as active and engaging as the physical one. Some futurists believe that soon we might attend doctor’s appointments or class there.'}"
      ]
     },
     "execution_count": 16,
     "metadata": {},
     "output_type": "execute_result"
    }
   ],
   "source": [
    "articles_dataset = load_dataset(\"text\", data_files={\"valid\":[r\"datagen/nytimes/metaverse-politics-disinformation-society.txt\"]})['valid']\n",
    "\n",
    "# filter out empty strings\n",
    "articles_dataset = articles_dataset.filter(lambda example: example['text'])\n",
    "\n",
    "articles_dataset[1]"
   ]
  },
  {
   "cell_type": "code",
   "execution_count": 19,
   "id": "60762782",
   "metadata": {
    "ExecuteTime": {
     "end_time": "2022-02-19T21:46:14.417562Z",
     "start_time": "2022-02-19T21:46:14.133543Z"
    }
   },
   "outputs": [
    {
     "data": {
      "text/plain": [
       "<transformers.pipelines.text_classification.TextClassificationPipeline at 0x19bc5b51f10>"
      ]
     },
     "execution_count": 19,
     "metadata": {},
     "output_type": "execute_result"
    }
   ],
   "source": [
    "pipe = pipeline(\"text-classification\", model=loaded_model, tokenizer=tokenizer)\n",
    "pipe"
   ]
  },
  {
   "cell_type": "code",
   "execution_count": 26,
   "id": "95c97202",
   "metadata": {
    "ExecuteTime": {
     "end_time": "2022-02-19T21:48:36.076180Z",
     "start_time": "2022-02-19T21:48:34.267190Z"
    },
    "scrolled": false
   },
   "outputs": [
    {
     "data": {
      "application/vnd.jupyter.widget-view+json": {
       "model_id": "9d283964520542f9bfa59d2c5cb39bf7",
       "version_major": 2,
       "version_minor": 0
      },
      "text/plain": [
       "  0%|          | 0/21 [00:00<?, ?it/s]"
      ]
     },
     "metadata": {},
     "output_type": "display_data"
    },
    {
     "name": "stdout",
     "output_type": "stream",
     "text": [
      "The metaverse is coming. It was once a science-fiction fantasy, most notably in Neal Stephenson’s novel “Snow Crash,” of an all-encompassing virtual universe that would exist alongside the physical one. But technological advances have brought this transformation of human society close enough to reality to demand that we consider its consequences. {'label': 'Lead', 'score': 0.9138175845146179}\n",
      "In the metaverse, a user might curate a digital avatar, like a character in a video game. Through the eyes of their avatar, they would experience a digital reality as active and engaging as the physical one. Some futurists believe that soon we might attend doctor’s appointments or class there. {'label': 'Evidence', 'score': 0.4578322768211365}\n",
      "But while the metaverse could revolutionize work and play, it is essential to remain wary of the dangers that will emerge if it subsumes daily life. {'label': 'Rebuttal', 'score': 0.8579508066177368}\n",
      "Virtual environments will supercharge disinformation campaigns, espionage and surveillance. Struggles for control of the metaverse’s physical infrastructure could very well aggravate global conflicts. And the supranational nature of the metaverse — where real-world borders become far less relevant — could revolutionize the way that individuals perceive and interact with nation-states. {'label': 'Evidence', 'score': 0.7309265732765198}\n",
      "A failure to anticipate these possibilities may put the global world order at risk of being replaced by a virtual, and perhaps less virtuous, one. {'label': 'Claim', 'score': 0.48474985361099243}\n",
      "Today, glimpses of the metaverse are everywhere. Virtual concerts attract record audiences; high-end designers sell virtual fashion; and gaming has become a livelihood for people around the world. Many of the closest corollaries to a full-fledged metaverse are immersive games like Fortnite, Minecraft and Roblox, where players can socialize, shop and attend events in a virtual world. {'label': 'Lead', 'score': 0.6995190382003784}\n",
      "There’s already evidence that online multiplayer games can enable the spread of disinformation and conspiracy theories. Players can use in-game communication tools to disseminate rumors or “fake news,” targeting others in difficult-to-track ways. {'label': 'Evidence', 'score': 0.6133278608322144}\n",
      "The metaverse could allow motivated regimes or extremist groups to go a step farther. Immersive layers of text, voice and visuals in virtual environments would provide new, convincing ways to broadcast misleading or extremist content. {'label': 'Evidence', 'score': 0.6839314699172974}\n",
      "In environments where individuals can be represented by pseudonymous avatars, knowing whom to trust with sensitive information will become even more difficult. This could pave the way for a new era of espionage. {'label': 'Claim', 'score': 0.5496785640716553}\n",
      "Digital espionage has already been used by dozens of countries to gain access to commercial intellectual property, proprietary military technology and personal and financial information. A metaverse that contains nearly all aspects of life — work, relationships, assets, identity — could be susceptible to breaches or manipulation from across the globe. {'label': 'Evidence', 'score': 0.6862616539001465}\n",
      "Countries and corporations alike will likely also be able to use the metaverse to engage in surveillance with greater sophistication. {'label': 'Claim', 'score': 0.8166552186012268}\n",
      "States have already used facial recognition technology to monitor individuals’ behavior. Companies have used it for device-unlocking or real-time animation. Integration with the metaverse could make it — and the privacy issues it presents — even more ubiquitous. If exploited, that technology could easily be used to surveil any participant around the world. {'label': 'Evidence', 'score': 0.9590646028518677}\n",
      "Even the metaverse’s physical infrastructure will likely present new vulnerabilities. {'label': 'Claim', 'score': 0.9636619687080383}\n",
      "A constellation of technologies, including hardware, computer networks and payment tools, will support the metaverse’s functionality. The countries that maintain control over those technologies will have significant international leverage, just as countries that command things like transport routes or oil supplies do today. {'label': 'Evidence', 'score': 0.8707076907157898}\n",
      "China could effectively control the metaverse’s backbone in many corners of the world, thanks to its Digital Silk Road initiative, which finances some countries’ telecommunications systems. Taiwan, which dominates the semiconductor industry that supports computing needs, will likely become even more of a linchpin on the global stage. {'label': 'Evidence', 'score': 0.8933605551719666}\n",
      "This kind of physical infrastructure will, in turn, be vulnerable to hacking and supply chain interruptions. If people own property, earn a living, and maintain communities in the metaverse, then hardware shortages or service outages could jeopardize livelihoods or undermine social stability. {'label': 'Evidence', 'score': 0.863372266292572}\n",
      "Despite these threats, the metaverse also has the potential to change global affairs for the better. International diplomacy may just as easily be conducted in virtual embassies. Smaller, less powerful nations may find themselves on a more level playing field, better able to stay in the mix in global affairs or perhaps, to forge unlikely alliances. {'label': 'Rebuttal', 'score': 0.626261830329895}\n",
      "Virtual environments have also shown promise for activists resisting digital authoritarianism. On Minecraft, Reporters Without Borders has sponsored an Uncensored Library where users could see content by dissident writers that had been censored in countries like Saudi Arabia, Russia and Vietnam. It’s possible that the metaverse may bring new promise for freedom and transparency across borders. {'label': 'Evidence', 'score': 0.9809460043907166}\n",
      "But the metaverse’s consequences may be even more radical. {'label': 'Rebuttal', 'score': 0.8597285747528076}\n",
      "If it becomes as all-encompassing as some predict, the metaverse may foster virtual communities, networks and economies that transcend borders and national identities. Individuals might one day identify primarily with metaverse-based decentralized autonomous organizations with their own quasi-foreign policies. Such a transition could mandate the reconceptualization of geopolitical affairs from the ground up. {'label': 'Evidence', 'score': 0.8217823505401611}\n",
      "The metaverse may have been born in science fiction, but it’s up to us to write a future grounded in cleareyed reality. {'label': 'Position', 'score': 0.4609670341014862}\n"
     ]
    }
   ],
   "source": [
    "lst = []\n",
    "for i, out in enumerate(tqdm(pipe(KeyDataset(articles_dataset, \"text\")))):\n",
    "    print(articles_dataset[i]['text'], out)\n",
    "    lst.append((articles_dataset[i]['text'], out))"
   ]
  },
  {
   "cell_type": "code",
   "execution_count": 30,
   "id": "7788eb9e",
   "metadata": {
    "ExecuteTime": {
     "end_time": "2022-02-19T21:49:23.256338Z",
     "start_time": "2022-02-19T21:49:23.216338Z"
    }
   },
   "outputs": [
    {
     "data": {
      "text/html": [
       "<h2>Legend</h2><br><font style=\"background-color: #ACDDDE;\">Lead</font><br><font style=\"background-color: #CAF1DE;\">Position</font><br><font style=\"background-color: #E1F8DC;\">Evidence</font><br><font style=\"background-color: #FEF8DD;\">Claim</font><br><font style=\"background-color: #FFE7C7;\">Concluding Statement</font><br><font style=\"background-color: #F7D8BA;\">Counterclaim</font><br><font style=\"background-color: #D6CDEA;\">Rebuttal</font><br><br/><br/><br/><h2>Text</h2><br><font style=\"background-color: #ACDDDE;\">The metaverse is coming. It was once a science-fiction fantasy, most notably in Neal Stephenson’s novel “Snow Crash,” of an all-encompassing virtual universe that would exist alongside the physical one. But technological advances have brought this transformation of human society close enough to reality to demand that we consider its consequences. </font><font style=\"background-color: #E1F8DC;\">In the metaverse, a user might curate a digital avatar, like a character in a video game. Through the eyes of their avatar, they would experience a digital reality as active and engaging as the physical one. Some futurists believe that soon we might attend doctor’s appointments or class there. </font><font style=\"background-color: #D6CDEA;\">But while the metaverse could revolutionize work and play, it is essential to remain wary of the dangers that will emerge if it subsumes daily life. </font><font style=\"background-color: #E1F8DC;\">Virtual environments will supercharge disinformation campaigns, espionage and surveillance. Struggles for control of the metaverse’s physical infrastructure could very well aggravate global conflicts. And the supranational nature of the metaverse — where real-world borders become far less relevant — could revolutionize the way that individuals perceive and interact with nation-states. </font><font style=\"background-color: #FEF8DD;\">A failure to anticipate these possibilities may put the global world order at risk of being replaced by a virtual, and perhaps less virtuous, one. </font><font style=\"background-color: #ACDDDE;\">Today, glimpses of the metaverse are everywhere. Virtual concerts attract record audiences; high-end designers sell virtual fashion; and gaming has become a livelihood for people around the world. Many of the closest corollaries to a full-fledged metaverse are immersive games like Fortnite, Minecraft and Roblox, where players can socialize, shop and attend events in a virtual world. </font><font style=\"background-color: #E1F8DC;\">There’s already evidence that online multiplayer games can enable the spread of disinformation and conspiracy theories. Players can use in-game communication tools to disseminate rumors or “fake news,” targeting others in difficult-to-track ways. </font><font style=\"background-color: #E1F8DC;\">The metaverse could allow motivated regimes or extremist groups to go a step farther. Immersive layers of text, voice and visuals in virtual environments would provide new, convincing ways to broadcast misleading or extremist content. </font><font style=\"background-color: #FEF8DD;\">In environments where individuals can be represented by pseudonymous avatars, knowing whom to trust with sensitive information will become even more difficult. This could pave the way for a new era of espionage. </font><font style=\"background-color: #E1F8DC;\">Digital espionage has already been used by dozens of countries to gain access to commercial intellectual property, proprietary military technology and personal and financial information. A metaverse that contains nearly all aspects of life — work, relationships, assets, identity — could be susceptible to breaches or manipulation from across the globe. </font><font style=\"background-color: #FEF8DD;\">Countries and corporations alike will likely also be able to use the metaverse to engage in surveillance with greater sophistication. </font><font style=\"background-color: #E1F8DC;\">States have already used facial recognition technology to monitor individuals’ behavior. Companies have used it for device-unlocking or real-time animation. Integration with the metaverse could make it — and the privacy issues it presents — even more ubiquitous. If exploited, that technology could easily be used to surveil any participant around the world. </font><font style=\"background-color: #FEF8DD;\">Even the metaverse’s physical infrastructure will likely present new vulnerabilities. </font><font style=\"background-color: #E1F8DC;\">A constellation of technologies, including hardware, computer networks and payment tools, will support the metaverse’s functionality. The countries that maintain control over those technologies will have significant international leverage, just as countries that command things like transport routes or oil supplies do today. </font><font style=\"background-color: #E1F8DC;\">China could effectively control the metaverse’s backbone in many corners of the world, thanks to its Digital Silk Road initiative, which finances some countries’ telecommunications systems. Taiwan, which dominates the semiconductor industry that supports computing needs, will likely become even more of a linchpin on the global stage. </font><font style=\"background-color: #E1F8DC;\">This kind of physical infrastructure will, in turn, be vulnerable to hacking and supply chain interruptions. If people own property, earn a living, and maintain communities in the metaverse, then hardware shortages or service outages could jeopardize livelihoods or undermine social stability. </font><font style=\"background-color: #D6CDEA;\">Despite these threats, the metaverse also has the potential to change global affairs for the better. International diplomacy may just as easily be conducted in virtual embassies. Smaller, less powerful nations may find themselves on a more level playing field, better able to stay in the mix in global affairs or perhaps, to forge unlikely alliances. </font><font style=\"background-color: #E1F8DC;\">Virtual environments have also shown promise for activists resisting digital authoritarianism. On Minecraft, Reporters Without Borders has sponsored an Uncensored Library where users could see content by dissident writers that had been censored in countries like Saudi Arabia, Russia and Vietnam. It’s possible that the metaverse may bring new promise for freedom and transparency across borders. </font><font style=\"background-color: #D6CDEA;\">But the metaverse’s consequences may be even more radical. </font><font style=\"background-color: #E1F8DC;\">If it becomes as all-encompassing as some predict, the metaverse may foster virtual communities, networks and economies that transcend borders and national identities. Individuals might one day identify primarily with metaverse-based decentralized autonomous organizations with their own quasi-foreign policies. Such a transition could mandate the reconceptualization of geopolitical affairs from the ground up. </font><font style=\"background-color: #CAF1DE;\">The metaverse may have been born in science fiction, but it’s up to us to write a future grounded in cleareyed reality. </font><br/><br/><br/>"
      ],
      "text/plain": [
       "<IPython.core.display.HTML object>"
      ]
     },
     "execution_count": 30,
     "metadata": {},
     "output_type": "execute_result"
    }
   ],
   "source": [
    "df = pd.DataFrame([{\"text\":i, **j} for i, j in lst])\n",
    "\n",
    "labels = ['Lead', 'Position', 'Evidence', 'Claim', 'Concluding Statement', 'Counterclaim', 'Rebuttal']\n",
    "colors = [\"#ACDDDE\", \"#CAF1DE\", \"#E1F8DC\", \"#FEF8DD\", \"#FFE7C7\", \"#F7D8BA\", \"#D6CDEA\"]\n",
    "\n",
    "\n",
    "s = \"<h2>Legend</h2><br>\"\n",
    "for label, color in zip(labels, colors):\n",
    "    s += \"<font style=\\\"background-color: %s;\\\">%s</font><br>\" % (color, label)\n",
    "s += \"<br/><br/><br/><h2>Text</h2><br>\"\n",
    "\n",
    "for txt,lbl in zip(df.text.tolist(),df.label.tolist()):\n",
    "    \n",
    "    s += \"<font style=\\\"background-color: %s;\\\">%s </font>\" % (colors[labels.index(lbl)], txt)\n",
    "HTML(s+\"<br/><br/><br/>\")"
   ]
  },
  {
   "cell_type": "code",
   "execution_count": 33,
   "id": "5a9d6b4a",
   "metadata": {
    "ExecuteTime": {
     "end_time": "2022-02-19T22:01:49.205372Z",
     "start_time": "2022-02-19T22:01:49.185382Z"
    }
   },
   "outputs": [
    {
     "data": {
      "text/plain": [
       "['datagen/nytimes\\\\abortion-florida-15-week-ban.txt',\n",
       " 'datagen/nytimes\\\\adhd-dating-relationships.txt',\n",
       " 'datagen/nytimes\\\\afghanistan-boy-dies-well.txt',\n",
       " 'datagen/nytimes\\\\afghanistan-immigration-visa-us.txt',\n",
       " 'datagen/nytimes\\\\ahmaud-arbery-mcmichael-trial.txt',\n",
       " 'datagen/nytimes\\\\ai-education-neural-networks.txt',\n",
       " 'datagen/nytimes\\\\aids-pandemic-covid.txt',\n",
       " 'datagen/nytimes\\\\allison-gollust-cnn-cuomo.txt',\n",
       " 'datagen/nytimes\\\\american-girl-cafe-harry-hill-serena-kerrigan.txt',\n",
       " 'datagen/nytimes\\\\andrew-prince-charles-charity.txt',\n",
       " 'datagen/nytimes\\\\apple-face-computers.txt',\n",
       " 'datagen/nytimes\\\\at-yosemite-a-waterfall-turns-into-a-firefall.txt',\n",
       " 'datagen/nytimes\\\\australia-tourism-covid.txt',\n",
       " 'datagen/nytimes\\\\babies-work-meeting.txt',\n",
       " 'datagen/nytimes\\\\basketball-celtics-ime-udoka.txt',\n",
       " 'datagen/nytimes\\\\basquiat-painting-orlando-mumford-museum.txt',\n",
       " 'datagen/nytimes\\\\berlin-film-festival-2022.txt',\n",
       " 'datagen/nytimes\\\\biden-economy-inflation-growth.txt',\n",
       " 'datagen/nytimes\\\\biden-immigration-public-charge-trump.txt',\n",
       " 'datagen/nytimes\\\\biden-ukraine-russia.txt',\n",
       " 'datagen/nytimes\\\\big-tech-stock-market.txt',\n",
       " 'datagen/nytimes\\\\blinken-russia-ukraine-predictions.txt',\n",
       " 'datagen/nytimes\\\\bucket-list-travel.txt',\n",
       " 'datagen/nytimes\\\\burnout-work-stress.txt',\n",
       " 'datagen/nytimes\\\\california-state-chancellor-resigns.txt',\n",
       " 'datagen/nytimes\\\\canada-protest-arrests.txt',\n",
       " 'datagen/nytimes\\\\cecil-taylor-return-concert.txt',\n",
       " 'datagen/nytimes\\\\child-tax-credit-poverty-benefits.txt',\n",
       " 'datagen/nytimes\\\\china-coronavirus-vaccines.txt',\n",
       " 'datagen/nytimes\\\\china-olympics-propaganda.txt',\n",
       " 'datagen/nytimes\\\\china-us-tech-policy.txt',\n",
       " 'datagen/nytimes\\\\christopher-buckley-pj-orourke.txt',\n",
       " 'datagen/nytimes\\\\civil-suits-trump-jan-6.txt',\n",
       " 'datagen/nytimes\\\\comedy-jewish-identity.txt',\n",
       " 'datagen/nytimes\\\\congress-russia-sanctions.txt',\n",
       " 'datagen/nytimes\\\\congress-stock-trading-ban.txt',\n",
       " 'datagen/nytimes\\\\covid-depression-anxiety.txt',\n",
       " 'datagen/nytimes\\\\covid-nursing-shortages.txt',\n",
       " 'datagen/nytimes\\\\covid-plague-work-labor.txt',\n",
       " 'datagen/nytimes\\\\cuomo-melissa-derosa-sexual-harassment.txt',\n",
       " 'datagen/nytimes\\\\death-certificate-cause.txt',\n",
       " 'datagen/nytimes\\\\depression-anxiety-physical-health.txt',\n",
       " 'datagen/nytimes\\\\dog-review.txt',\n",
       " 'datagen/nytimes\\\\durham-right-wing-media-trump.txt',\n",
       " 'datagen/nytimes\\\\eileen-gu-chinese-american.txt',\n",
       " 'datagen/nytimes\\\\energy-savings-nest.txt',\n",
       " 'datagen/nytimes\\\\eunice-storm-damage.txt',\n",
       " 'datagen/nytimes\\\\ezra-klein-podcast-alex-tabarrok.txt',\n",
       " 'datagen/nytimes\\\\facebook-experiments.txt',\n",
       " 'datagen/nytimes\\\\fact-check-joe-rogan-robert-malone.txt',\n",
       " 'datagen/nytimes\\\\faith-ringgold-new-museum.txt',\n",
       " 'datagen/nytimes\\\\family-birthday-reminders-social-qs.txt',\n",
       " 'datagen/nytimes\\\\federal-reserve-trading-restrictions.txt',\n",
       " 'datagen/nytimes\\\\felicity-ace-vessel-fire.txt',\n",
       " 'datagen/nytimes\\\\finland-bordertown-piece-of-my-heart.txt',\n",
       " 'datagen/nytimes\\\\flight-attendants-covid.txt',\n",
       " 'datagen/nytimes\\\\focus-johann-hari.txt',\n",
       " 'datagen/nytimes\\\\food-english-foreign-languages.txt',\n",
       " 'datagen/nytimes\\\\fourth-dose-covid-vaccine.txt',\n",
       " 'datagen/nytimes\\\\girls-eating-disorders-pandemic.txt',\n",
       " 'datagen/nytimes\\\\google-facebook-advertising.txt',\n",
       " 'datagen/nytimes\\\\gregory-peck-mockingbird-sequel.txt',\n",
       " 'datagen/nytimes\\\\hadley-palmer-greenwich.txt',\n",
       " 'datagen/nytimes\\\\happiness-confidence-struggle.txt',\n",
       " 'datagen/nytimes\\\\hearing-aids-fda.txt',\n",
       " 'datagen/nytimes\\\\help-friend-support.txt',\n",
       " 'datagen/nytimes\\\\high-risk-covid-immunocompromised.txt',\n",
       " 'datagen/nytimes\\\\home-buyer-risks-bad-credit-savings.txt',\n",
       " 'datagen/nytimes\\\\homeless-people-subway-trains-mta.txt',\n",
       " 'datagen/nytimes\\\\how-excited-are-you-about-the-metaverse.txt',\n",
       " 'datagen/nytimes\\\\inflation-supply-chain.txt',\n",
       " 'datagen/nytimes\\\\inflation-us-consumer-surveys.txt',\n",
       " 'datagen/nytimes\\\\jeff-koons-bmw.txt',\n",
       " 'datagen/nytimes\\\\jim-hagedorn-dead.txt',\n",
       " 'datagen/nytimes\\\\jobs-hiring-fraud.txt',\n",
       " 'datagen/nytimes\\\\justice-department-cybersecurity.txt',\n",
       " 'datagen/nytimes\\\\kamila-valieva-falls-fourth-figure-skating.txt',\n",
       " 'datagen/nytimes\\\\kanye-west-jeen-yuhs-documentary.txt',\n",
       " 'datagen/nytimes\\\\kevin-mccarthy-harriet-hageman-liz-cheney.txt',\n",
       " 'datagen/nytimes\\\\kim-potter-sentence-manslaughter.txt',\n",
       " 'datagen/nytimes\\\\lab-grown-meat-sleep-airtags.txt',\n",
       " 'datagen/nytimes\\\\law-order-svu-organized-crime.txt',\n",
       " 'datagen/nytimes\\\\letitia-james-ny-attorney-general.txt',\n",
       " 'datagen/nytimes\\\\liberalism-democracy-russia-ukraine.txt',\n",
       " 'datagen/nytimes\\\\london-highgate-cemetery-dispatch.txt',\n",
       " 'datagen/nytimes\\\\mall-fight-bridgewater-commons-nj.txt',\n",
       " 'datagen/nytimes\\\\melania-trump-charity-donation.txt',\n",
       " 'datagen/nytimes\\\\merkel-cell-carcinoma.txt',\n",
       " 'datagen/nytimes\\\\metamates-googlers.txt',\n",
       " 'datagen/nytimes\\\\metaverse-gaming-definition.txt',\n",
       " 'datagen/nytimes\\\\metaverse-politics-disinformation-society.txt',\n",
       " 'datagen/nytimes\\\\microsoft-activision-metaverse.txt',\n",
       " 'datagen/nytimes\\\\modern-love-i-tried-so-hard-to-be-good.txt',\n",
       " 'datagen/nytimes\\\\modern-love-podcast-ham-sandwich.txt',\n",
       " 'datagen/nytimes\\\\motivation-energy-advice.txt',\n",
       " 'datagen/nytimes\\\\nashville-gerrymandering-republican-democrat.txt',\n",
       " 'datagen/nytimes\\\\natural-wines.txt',\n",
       " 'datagen/nytimes\\\\norway-medals-winter-olympics.txt',\n",
       " 'datagen/nytimes\\\\nyc-budget-composting-adams.txt',\n",
       " 'datagen/nytimes\\\\oakland-hills-country-club-fire.txt',\n",
       " 'datagen/nytimes\\\\oddity-ceramics-surrealism-art.txt',\n",
       " 'datagen/nytimes\\\\olympics-beijing-xi-putin.txt',\n",
       " 'datagen/nytimes\\\\olympics-china-american-athletes.txt',\n",
       " 'datagen/nytimes\\\\olympics-skating-valieva-age.txt',\n",
       " 'datagen/nytimes\\\\oscars-vaccine-mandate-coronavirus.txt',\n",
       " 'datagen/nytimes\\\\ottawa-protest-convoy.txt',\n",
       " 'datagen/nytimes\\\\pairs-figure-skating-short-program.txt',\n",
       " 'datagen/nytimes\\\\parenting-adult-children.txt',\n",
       " 'datagen/nytimes\\\\phil-mickelson-saudi-golf-tour.txt',\n",
       " 'datagen/nytimes\\\\prosecutors-midterms-crime.txt',\n",
       " 'datagen/nytimes\\\\putin-russia-ukraine.txt',\n",
       " 'datagen/nytimes\\\\putin-ukraine.txt',\n",
       " 'datagen/nytimes\\\\red-covid-partisan-deaths-vaccines.txt',\n",
       " 'datagen/nytimes\\\\rokia-kone-jacknife-lee-bamanan-review.txt',\n",
       " 'datagen/nytimes\\\\sacklers-opioids-lawsuit.txt',\n",
       " 'datagen/nytimes\\\\sam-waterston-law-and-order.txt',\n",
       " 'datagen/nytimes\\\\san-francisco-school-board-parents.txt',\n",
       " 'datagen/nytimes\\\\sanctions-russia-ukraine.txt',\n",
       " 'datagen/nytimes\\\\school-board-recall.txt',\n",
       " 'datagen/nytimes\\\\seasonal-depression-covid.txt',\n",
       " 'datagen/nytimes\\\\seattle-bicycle-helmet.txt',\n",
       " 'datagen/nytimes\\\\senate-spending-bill-shutdown.txt',\n",
       " 'datagen/nytimes\\\\severance-review.txt',\n",
       " 'datagen/nytimes\\\\ski-tricks-utah.txt',\n",
       " 'datagen/nytimes\\\\smartphones-iphone-android.txt',\n",
       " 'datagen/nytimes\\\\space-china-billionaires.txt',\n",
       " 'datagen/nytimes\\\\spotify-joe-rogan-misinformation.txt',\n",
       " 'datagen/nytimes\\\\stanytsia-lushankya-shelling.txt',\n",
       " 'datagen/nytimes\\\\state-of-the-union-painting-with-john.txt',\n",
       " 'datagen/nytimes\\\\stonehenge-british-museum.txt',\n",
       " 'datagen/nytimes\\\\submarine-spy-guilty-plea.txt',\n",
       " 'datagen/nytimes\\\\supreme-court-remain-in-mexico-asylum.txt',\n",
       " 'datagen/nytimes\\\\susan-collins-eca-reform.txt',\n",
       " 'datagen/nytimes\\\\sway-kara-swisher-keith-rabois.txt',\n",
       " 'datagen/nytimes\\\\taxes-remote-work.txt',\n",
       " 'datagen/nytimes\\\\tech-predictions.txt',\n",
       " 'datagen/nytimes\\\\tech-won-now-what.txt',\n",
       " 'datagen/nytimes\\\\teresa-reichlen-retiring-from-new-york-city-ballet.txt',\n",
       " 'datagen/nytimes\\\\texas-primary-voting-law.txt',\n",
       " 'datagen/nytimes\\\\the-gilded-age.txt',\n",
       " 'datagen/nytimes\\\\things-to-do-this-weekend.txt',\n",
       " 'datagen/nytimes\\\\tiktok-ava-majury.txt',\n",
       " 'datagen/nytimes\\\\trevor-noah-russia-ukraine.txt',\n",
       " 'datagen/nytimes\\\\trump-archives-white-house.txt',\n",
       " 'datagen/nytimes\\\\trump-investigation-letitia-james.txt',\n",
       " 'datagen/nytimes\\\\tyshawn-sorey-rothko-chapel.txt',\n",
       " 'datagen/nytimes\\\\uc-berkeley-admissions-court-ruling.txt',\n",
       " 'datagen/nytimes\\\\ukraine-conflict-russia-military.txt',\n",
       " 'datagen/nytimes\\\\ukraine-donald-trump-beijing-olympics.txt',\n",
       " 'datagen/nytimes\\\\ukraine-russia-separatists-shelling.txt',\n",
       " 'datagen/nytimes\\\\ukraine-russia-us-troops.txt',\n",
       " 'datagen/nytimes\\\\us-history-censorship.txt',\n",
       " 'datagen/nytimes\\\\wall-street-hotel.txt',\n",
       " 'datagen/nytimes\\\\walter-dellinger-law-supreme-court.txt',\n",
       " 'datagen/nytimes\\\\watches-obscure-brands-switzerland.txt',\n",
       " 'datagen/nytimes\\\\what-to-cook-this-weekend.txt',\n",
       " 'datagen/nytimes\\\\what-to-do-when-you-dont-want-to-run.txt',\n",
       " 'datagen/nytimes\\\\what-would-it-mean-to-end-the-covid-state-of-emergency.txt',\n",
       " 'datagen/nytimes\\\\women-stem-pandemic.txt',\n",
       " 'datagen/nytimes\\\\yosemite-falls.txt']"
      ]
     },
     "execution_count": 33,
     "metadata": {},
     "output_type": "execute_result"
    }
   ],
   "source": [
    "glob(\"datagen/nytimes/*.txt\")"
   ]
  },
  {
   "cell_type": "code",
   "execution_count": 35,
   "id": "bc0c6b9c",
   "metadata": {
    "ExecuteTime": {
     "end_time": "2022-02-19T22:05:58.315419Z",
     "start_time": "2022-02-19T22:03:56.215521Z"
    }
   },
   "outputs": [
    {
     "name": "stderr",
     "output_type": "stream",
     "text": [
      "Using custom data configuration default-c7f59a738d9c36bc\n"
     ]
    },
    {
     "name": "stdout",
     "output_type": "stream",
     "text": [
      "Downloading and preparing dataset text/default to C:\\Users\\Prannaya\\.cache\\huggingface\\datasets\\text\\default-c7f59a738d9c36bc\\0.0.0\\08f6fb1dd2dab0a18ea441c359e1d63794ea8cb53e7863e6edf8fc5655e47ec4...\n"
     ]
    },
    {
     "data": {
      "application/vnd.jupyter.widget-view+json": {
       "model_id": "d4eb89e8a38344469f1d7c809dfcdad6",
       "version_major": 2,
       "version_minor": 0
      },
      "text/plain": [
       "  0%|          | 0/1 [00:00<?, ?it/s]"
      ]
     },
     "metadata": {},
     "output_type": "display_data"
    },
    {
     "data": {
      "application/vnd.jupyter.widget-view+json": {
       "model_id": "7dcfcc012d494753be31172b5d519159",
       "version_major": 2,
       "version_minor": 0
      },
      "text/plain": [
       "  0%|          | 0/1 [00:00<?, ?it/s]"
      ]
     },
     "metadata": {},
     "output_type": "display_data"
    },
    {
     "name": "stdout",
     "output_type": "stream",
     "text": [
      "Dataset text downloaded and prepared to C:\\Users\\Prannaya\\.cache\\huggingface\\datasets\\text\\default-c7f59a738d9c36bc\\0.0.0\\08f6fb1dd2dab0a18ea441c359e1d63794ea8cb53e7863e6edf8fc5655e47ec4. Subsequent calls will reuse this data.\n"
     ]
    },
    {
     "data": {
      "application/vnd.jupyter.widget-view+json": {
       "model_id": "4b951cb9d7ed4dcd930328ae500853f5",
       "version_major": 2,
       "version_minor": 0
      },
      "text/plain": [
       "  0%|          | 0/1 [00:00<?, ?it/s]"
      ]
     },
     "metadata": {},
     "output_type": "display_data"
    },
    {
     "data": {
      "application/vnd.jupyter.widget-view+json": {
       "model_id": "4cb215f925cd42d3ac20bf19ebb2bc46",
       "version_major": 2,
       "version_minor": 0
      },
      "text/plain": [
       "  0%|          | 0/1 [00:00<?, ?ba/s]"
      ]
     },
     "metadata": {},
     "output_type": "display_data"
    },
    {
     "data": {
      "application/vnd.jupyter.widget-view+json": {
       "model_id": "9515a44c8734416096fb9c6981678944",
       "version_major": 2,
       "version_minor": 0
      },
      "text/plain": [
       "  0%|          | 0/11 [00:00<?, ?it/s]"
      ]
     },
     "metadata": {},
     "output_type": "display_data"
    },
    {
     "name": "stdout",
     "output_type": "stream",
     "text": [
      "In 2019 a wave of anti-abortion laws swept this country — a common enough event in the United States, where hundreds of such laws have passed during the last decade. But these grabbed the public’s attention in a way many others hadn’t. Georgia banned abortion after about six weeks of pregnancy, or about two weeks after a missed menstrual period. Ohio, Mississippi, Louisiana and Kentucky did the same, while Missouri banned the procedure at eight weeks. Alabama went the furthest, banning virtually all abortions in the state. {'label': 'Evidence', 'score': 0.9837203025817871}\n",
      "Though most of these laws were quickly blocked by the courts — they were obviously unconstitutional under Roe v. Wade — the backlash to their passing was intense, especially in Georgia, a major hub of film and television production. Boycotts were threatened. Netflix and Disney spoke out. The actress Alyssa Milano even tried to get a “Lysistrata”-style sex strike off the ground. {'label': 'Evidence', 'score': 0.9343194961547852}\n",
      "Three years later, American reproductive rights are on an even bleaker trajectory. A Supreme Court decision that’s expected to come down this summer is likely to strike down Roe v. Wade, either in deed or in word, making it possible for states with anti-abortion leadership to ban the procedure altogether. {'label': 'Evidence', 'score': 0.6223578453063965}\n",
      "It might seem curious, then, that legislators in some conservative-leaning states are spending these months before the likely downfall of Roe working to pass less extreme abortion measures than they did in 2019. Now seems like the time for anti-abortion legislators to go for broke. The fact that some of them are pursuing a different strategy offers clues about what a post-Roe America could look like, and how that landscape could be more complex — and less predetermined — than some Americans had assumed. {'label': 'Evidence', 'score': 0.9468661546707153}\n",
      "One of this year’s unmistakable trends in anti-abortion legislation is the 15-week ban. Legislators in Arizona, Florida and West Virginia are now considering bills — which, as the name suggests, would ban abortion after 15 weeks of pregnancy, in violation of Roe. At first blush, it might seem these states are simply copying the Mississippi law that the Supreme Court seems likely to uphold this summer, in Dobbs v. Jackson Women’s Health Organization. But why would they hold back now, rather than try to get more draconian legislation through their legislatures? Florida even considered a six-week ban in recent months but did not end up acting on it. What is going on? {'label': 'Evidence', 'score': 0.9918694496154785}\n",
      "The answer is that 15-week bans are a way for Republicans to test public reaction in states that are still somewhat politically contested. Arizona has two Democratic senators and went for Joe Biden in 2020. Elections in Florida have been decided by a handful of votes. Their Republican governors might worry that if they go too far, they might trigger a backlash that could threaten their hold on power. Among the political realities at play: Some battleground states have constitutions that have been interpreted to protect abortion, while in others a majority of people likely oppose criminalizing the procedure. {'label': 'Evidence', 'score': 0.941124439239502}\n",
      "Fifteen-week bans are a trial balloon to see what voters will tolerate — and they may end up being a step toward more bans on abortion from the moment of fertilization. You can bet these lawmakers will be watching the public reaction to the Dobbs decision this summer. If the reaction is relatively muted — as it has been, in much of the country, to Texas’s six-week abortion ban, which has now been in effect for nearly six months — they likely will keep pushing more sweeping laws, until, perhaps, they reach an absolute ban. Conversely, if enough people revolt at the destruction of abortion rights, lawmakers in states like Florida may not feel as comfortable pushing further. {'label': 'Evidence', 'score': 0.9866886734962463}\n",
      "This raises the possibility that, at least for a time after Roe is decimated, there could be not two Americas when it comes to abortion, but three: one in which almost any abortion is a crime, one in which abortion is broadly available and one in which abortion is heavily restricted but not altogether unavailable. {'label': 'Evidence', 'score': 0.7294458150863647}\n",
      "At some point that third America, if it comes to be, also will be threatened. Because after Roe is gone, leaders in the national anti-abortion movement will push for abortion to be banned from the moment of fertilization. The movement’s ultimate goal has always been the legal recognition of fetal personhood, which would functionally ban abortion across the nation. That would never be possible through the democratic process, but the anti-abortion movement is now betting that it might be through the Supreme Court, with its new conservative supermajority. For decades, anti-abortion leaders have downplayed the fetal personhood goal because doing so made it easier to win public support for their cause, help Republicans get elected and reassure Supreme Court justices anxious about public backlash. But with the makeup of this court — which will not shift once President Biden replaces the retiring Justice Stephen Breyer — they could well get their wish. {'label': 'Evidence', 'score': 0.9697002172470093}\n",
      "In the meantime, the anti-abortion movement will want to score as many wins as possible in red and purple states, hoping that 15-week bans will eventually lead to outlawing virtually all abortions. {'label': 'Claim', 'score': 0.5033977627754211}\n",
      "The recent rash of anti-abortion laws reflects the uncertainty of America’s future. The writing may be on the wall for Roe v. Wade, but when it comes to what happens next, the public might still have a say. {'label': 'Evidence', 'score': 0.33576706051826477}\n"
     ]
    },
    {
     "name": "stderr",
     "output_type": "stream",
     "text": [
      "Using custom data configuration default-cb56c9191ae0b312\n"
     ]
    },
    {
     "name": "stdout",
     "output_type": "stream",
     "text": [
      "Downloading and preparing dataset text/default to C:\\Users\\Prannaya\\.cache\\huggingface\\datasets\\text\\default-cb56c9191ae0b312\\0.0.0\\08f6fb1dd2dab0a18ea441c359e1d63794ea8cb53e7863e6edf8fc5655e47ec4...\n"
     ]
    },
    {
     "data": {
      "application/vnd.jupyter.widget-view+json": {
       "model_id": "15c63b07f1c54264a4ffad0bd34fcf07",
       "version_major": 2,
       "version_minor": 0
      },
      "text/plain": [
       "  0%|          | 0/1 [00:00<?, ?it/s]"
      ]
     },
     "metadata": {},
     "output_type": "display_data"
    },
    {
     "data": {
      "application/vnd.jupyter.widget-view+json": {
       "model_id": "1853da6631134853a2fcd348d9dc3a5a",
       "version_major": 2,
       "version_minor": 0
      },
      "text/plain": [
       "  0%|          | 0/1 [00:00<?, ?it/s]"
      ]
     },
     "metadata": {},
     "output_type": "display_data"
    },
    {
     "name": "stdout",
     "output_type": "stream",
     "text": [
      "Dataset text downloaded and prepared to C:\\Users\\Prannaya\\.cache\\huggingface\\datasets\\text\\default-cb56c9191ae0b312\\0.0.0\\08f6fb1dd2dab0a18ea441c359e1d63794ea8cb53e7863e6edf8fc5655e47ec4. Subsequent calls will reuse this data.\n"
     ]
    },
    {
     "data": {
      "application/vnd.jupyter.widget-view+json": {
       "model_id": "5cc25e7a622c4036b207a6af6dd7a3bf",
       "version_major": 2,
       "version_minor": 0
      },
      "text/plain": [
       "  0%|          | 0/1 [00:00<?, ?it/s]"
      ]
     },
     "metadata": {},
     "output_type": "display_data"
    },
    {
     "data": {
      "application/vnd.jupyter.widget-view+json": {
       "model_id": "89796eba9bb946ce99fc6ee593891e1d",
       "version_major": 2,
       "version_minor": 0
      },
      "text/plain": [
       "  0%|          | 0/1 [00:00<?, ?ba/s]"
      ]
     },
     "metadata": {},
     "output_type": "display_data"
    },
    {
     "data": {
      "application/vnd.jupyter.widget-view+json": {
       "model_id": "33614bddd39840099ab3147daf2206c4",
       "version_major": 2,
       "version_minor": 0
      },
      "text/plain": [
       "  0%|          | 0/44 [00:00<?, ?it/s]"
      ]
     },
     "metadata": {},
     "output_type": "display_data"
    },
    {
     "name": "stdout",
     "output_type": "stream",
     "text": [
      "When Chris Lawson began dating Alexandra Salamis, the woman who would eventually become his partner, he was “Mr. Super Attentive Dude,” he said, the type of guy who enjoyed buying cards and flowers for no reason other than to show how much he loved her. {'label': 'Evidence', 'score': 0.7563069462776184}\n",
      "But after they moved in together in 2015, things changed. {'label': 'Rebuttal', 'score': 0.8570256233215332}\n",
      "He became more distracted and forgetful. Whether it was chores, planning social events or anything deadline-driven — like renewing a driver’s license — Ms. Salamis, 60, had to continually prod Mr. Lawson to get things done. Invariably, she just ended up doing them herself. {'label': 'Evidence', 'score': 0.9713975191116333}\n",
      "“I was responsible for nothing,” Mr. Lawson, 55, admitted. {'label': 'Claim', 'score': 0.36051705479621887}\n",
      "Ms. Salamis, who is not one to mince words, described that period of their relationship as “like living with a child,” later adding, “I hated him, frankly.” {'label': 'Evidence', 'score': 0.6811468601226807}\n",
      "But when she brought up her frustrations, Mr. Lawson would become defensive. And as she continued to nag, she started to feel more like a parent than a partner, something they both resented. {'label': 'Rebuttal', 'score': 0.8274434208869934}\n",
      "Then in 2019, at a friend’s suggestion, the pair read an article about how attention deficit hyperactivity disorder, or A.D.H.D., can affect romantic relationships. {'label': 'Evidence', 'score': 0.5225843787193298}\n",
      "“We both kind of looked at each other and our jaws dropped,” Ms. Salamis said. {'label': 'Evidence', 'score': 0.5948819518089294}\n",
      "The couple, who live in Ottawa, had discovered something millions of others have realized, often after years of conflict: One of them — in this case, Mr. Lawson — most likely had A.D.H.D., a neurodevelopmental disorder often characterized by inattention, disorganization, hyperactivity and impulsivity. {'label': 'Evidence', 'score': 0.7539401650428772}\n",
      "When one or both members of a couple have A.D.H.D., the relationship typically has unique challenges, which are usually exacerbated when the disorder goes undiagnosed, experts say. Studies suggest that people with A.D.H.D. have higher levels of interpersonal problems than their peers do, and marriages that include adults with A.D.H.D. are more likely to be unsatisfying. {'label': 'Evidence', 'score': 0.8901106119155884}\n",
      "Forums like the one found on the popular website A.D.H.D. and Marriage are often filled with stories of frazzled, emotionally spent spouses stuck in unhealthy, yearslong patterns. But if a couple makes a strong effort to learn more about the disorder, manage its symptoms and find more effective ways to communicate, they can revitalize their relationship. {'label': 'Evidence', 'score': 0.9456061124801636}\n",
      "People with A.D.H.D. may lack self-awareness, which can make it difficult to recognize how they are coming across to other people or how their behavior contributes to the problems they’re experiencing in their relationships, according to Russell A. Barkley, a psychologist and the author of “Taking Charge of Adult A.D.H.D.” {'label': 'Evidence', 'score': 0.7236612439155579}\n",
      "Those who struggle with impulsivity might take unnecessary risks, or they might opt for immediate rewards, such as the pleasure of playing a video game, instead of focusing on mundane tasks that need to get done. People with A.D.H.D. are also often forgetful about what they’re supposed to be doing and tend to have big, emotional reactions that are stronger than what a situation might warrant — which can lead to explosive conflict. {'label': 'Evidence', 'score': 0.9453351497650146}\n",
      "Contrary to the assumption that people with A.D.H.D. are always unfocused, many can focus intently on the things that interest them. But if they are especially attentive to a loved one during a relationship’s honeymoon phase and that intense interest eventually fades, a pattern can emerge where the non-A.D.H.D. partner feels unloved. {'label': 'Rebuttal', 'score': 0.5643227696418762}\n",
      "“If your partner is chronically distracted, that means they are also distracted from you,” said Melissa Orlov, a marriage consultant who leads seminars for couples who are struggling with relationship difficulties, in part because of A.D.H.D. “That becomes very confusing and then it angers the partner because they feel like they’re not really being paid attention to. You’re like, ‘What, don’t you love me anymore? This isn’t the way it used to be.’” {'label': 'Evidence', 'score': 0.977691650390625}\n",
      "While this can be incredibly frustrating to the partner who does not have A.D.H.D., understanding these symptoms is a step toward embracing feelings of compassion and empathy over continual resentment. {'label': 'Claim', 'score': 0.356620192527771}\n",
      "“Our loved ones with A.D.H.D. cannot help behaving the way they do,” Dr. Barkley said. It is a biological disorder, he added, “not a lifestyle choice. It is not simply something they could change in their mind over time if they wanted to.” {'label': 'Evidence', 'score': 0.8530932068824768}\n",
      "Dr. Alicia Hart, 34, a primary care doctor, met her husband when she was 18. They both said “I love you” within three days and “were in a committed serious relationship from then on,” she said. “People thought we were nuts. I mean, we met at a frat party.” {'label': 'Evidence', 'score': 0.8626720309257507}\n",
      "The couple, who live in Portland, Ore., with their three kids, both have A.D.H.D. {'label': 'Claim', 'score': 0.5417895913124084}\n",
      "Most of their conflict has revolved around scheduling mishaps, “threatening to record conversations to prove that they happened or me starting another overambitious project without thinking it through or thinking of the impact on him,” Dr. Hart said in an email. “I also hate being late and have developed one million strategies to avoid this, where he has literally no concept of time and cannot be on time to save his life.” {'label': 'Evidence', 'score': 0.9115223288536072}\n",
      "By playing to their individual strengths, they’re able to keep the household running. He pays the bills and manages all the finances. She keeps track of the daily routine, setting alarms on their smart speaker to help him remember things like lunchtime. They use a shared online calendar and a wall calendar, too. {'label': 'Evidence', 'score': 0.975865364074707}\n",
      "Robyn Aaron, a 36-year-old mother of two who was diagnosed with A.D.H.D. last year, said she and her husband now have a weekly meeting to stay organized, but they try to make it as fun as possible. {'label': 'Evidence', 'score': 0.7682572603225708}\n",
      "“We treat it like a date night — pour a glass of wine, maybe even light a candle,” said Ms. Aaron, who lives in Lisbon, Iowa. “He gives the check-in on finances; I give the skinny on the calendar.” {'label': 'Evidence', 'score': 0.9567814469337463}\n",
      "They also discuss their ongoing do-it-yourself projects, upcoming trips and any needs or wants. {'label': 'Claim', 'score': 0.7843818664550781}\n",
      "“It’s become even more important to us since the pandemic began to connect in this way, and it’s super helpful for my coping strategies with A.D.H.D., too,” she added. {'label': 'Evidence', 'score': 0.42012250423431396}\n",
      "In the book “A.D.H.D. After Dark: Better Sex Life, Better Relationship,” Ari Tuckman, the author, psychologist and sex therapist, surveyed more than 3,000 adults in couples where one partner had A.D.H.D. He found that the people who felt that their partners put in the most effort at either managing their own A.D.H.D. or supporting a partner with A.D.H.D. had almost twice as much sex as those who said their partners put in the least effort. {'label': 'Evidence', 'score': 0.9432650804519653}\n",
      "For some partners with A.D.H.D., it can be hard to accept the need for change and can also be difficult to be optimistic that new strategies will make a difference, especially if medications or past strategies haven’t worked. {'label': 'Evidence', 'score': 0.4553253948688507}\n",
      "But it’s worth continuing to educate yourself about the different options available to people with A.D.H.D., or perhaps even seeking out a different clinician from the one you’ve been seeing, he added. {'label': 'Rebuttal', 'score': 0.8457597494125366}\n",
      "Dr. Tuckman also advised both partners to choose their battles. {'label': 'Claim', 'score': 0.8409712910652161}\n",
      "“A.D.H.D. doesn’t invent new problems, it just exacerbates the universal ones,” he said. “It’s the stuff that every other couple argues about, just more often.” {'label': 'Evidence', 'score': 0.3971693515777588}\n"
     ]
    },
    {
     "name": "stdout",
     "output_type": "stream",
     "text": [
      "It is within your right to insist that your partner get the kids to school on time, for example, and ideally you will find a way to make that happen. But, Dr. Tuckman cautioned, “you only get a small number of deal breakers.” {'label': 'Evidence', 'score': 0.6487324237823486}\n",
      "Experts agree that medication alone is not the best way to manage A.D.H.D., but it can complement other strategies like cognitive behavioral therapy, coaching, mindfulness and exercise. {'label': 'Claim', 'score': 0.2920837700366974}\n",
      "It wasn’t until he had been married for 16 years that Taylor Weeks, 36, finally realized that A.D.H.D. had been at the root of so much of the discord between him and his wife. {'label': 'Evidence', 'score': 0.4984033703804016}\n",
      "As far back as he can remember, he struggled with time blindness and forgetfulness, continually dropping the ball and then chastising himself for it. {'label': 'Claim', 'score': 0.4741550087928772}\n",
      "“It has always been kind of a huge stressor for my wife,” said Mr. Weeks, who lives in Rio Rancho, N.M. “She’s constantly been frustrated with me.” {'label': 'Evidence', 'score': 0.7237757444381714}\n",
      "He is now seeing a psychologist, taking medication for the A.D.H.D. symptoms and practicing mindfulness to help ease his anxiety. {'label': 'Evidence', 'score': 0.504638135433197}\n",
      "He still struggles with forgetfulness, but his mind feels more clear. {'label': 'Claim', 'score': 0.6290214657783508}\n",
      "“Before, I felt like I always had a bunch of thoughts going through my mind all the time,” he said. “But when it came down to try to articulate what I’m thinking, it was really difficult for me to get that out of my head and get my point across.” {'label': 'Evidence', 'score': 0.7120636105537415}\n",
      "His wife is noticing, he added, and told him he’s easier to communicate with and seems more engaged with their four children. {'label': 'Evidence', 'score': 0.6189450621604919}\n",
      "Mr. Lawson’s relationship also improved after he was eventually diagnosed with A.D.H.D. and prescribed a medication that improved his memory and ability to focus. {'label': 'Claim', 'score': 0.5649112462997437}\n",
      "“It’s literally like a blanket has been removed from my head,” he said. {'label': 'Evidence', 'score': 0.5057408213615417}\n",
      "Just as important, they also attended couples therapy and learned how to better relate to each other and develop strategies to get things done at home. {'label': 'Claim', 'score': 0.554645836353302}\n",
      "Ms. Salamis, for her part, worked to break old patterns of behavior where she would continually check up on her partner or try to manage every aspect of their household. There was no need to do so anymore, because he was actually doing the things that needed to get done. {'label': 'Evidence', 'score': 0.8503020405769348}\n",
      "It has been a long road to get to this point, Mr. Lawson continued, but now, he said, “I can be the guy she fell in love with.” {'label': 'Evidence', 'score': 0.3072226643562317}\n"
     ]
    },
    {
     "name": "stderr",
     "output_type": "stream",
     "text": [
      "Using custom data configuration default-2b3776106cac8ff7\n"
     ]
    },
    {
     "name": "stdout",
     "output_type": "stream",
     "text": [
      "Downloading and preparing dataset text/default to C:\\Users\\Prannaya\\.cache\\huggingface\\datasets\\text\\default-2b3776106cac8ff7\\0.0.0\\08f6fb1dd2dab0a18ea441c359e1d63794ea8cb53e7863e6edf8fc5655e47ec4...\n"
     ]
    },
    {
     "data": {
      "application/vnd.jupyter.widget-view+json": {
       "model_id": "4d9edd19523c4fca81d6d5ef7ec21cec",
       "version_major": 2,
       "version_minor": 0
      },
      "text/plain": [
       "  0%|          | 0/1 [00:00<?, ?it/s]"
      ]
     },
     "metadata": {},
     "output_type": "display_data"
    },
    {
     "data": {
      "application/vnd.jupyter.widget-view+json": {
       "model_id": "c1209d348ac7458983882f247d67787d",
       "version_major": 2,
       "version_minor": 0
      },
      "text/plain": [
       "  0%|          | 0/1 [00:00<?, ?it/s]"
      ]
     },
     "metadata": {},
     "output_type": "display_data"
    },
    {
     "name": "stdout",
     "output_type": "stream",
     "text": [
      "Dataset text downloaded and prepared to C:\\Users\\Prannaya\\.cache\\huggingface\\datasets\\text\\default-2b3776106cac8ff7\\0.0.0\\08f6fb1dd2dab0a18ea441c359e1d63794ea8cb53e7863e6edf8fc5655e47ec4. Subsequent calls will reuse this data.\n"
     ]
    },
    {
     "data": {
      "application/vnd.jupyter.widget-view+json": {
       "model_id": "ac8a6901534b4f0a971c9288b2e54c07",
       "version_major": 2,
       "version_minor": 0
      },
      "text/plain": [
       "  0%|          | 0/1 [00:00<?, ?it/s]"
      ]
     },
     "metadata": {},
     "output_type": "display_data"
    },
    {
     "data": {
      "application/vnd.jupyter.widget-view+json": {
       "model_id": "8c3d50fdf1c14ac89d7a50f769b86f55",
       "version_major": 2,
       "version_minor": 0
      },
      "text/plain": [
       "  0%|          | 0/1 [00:00<?, ?ba/s]"
      ]
     },
     "metadata": {},
     "output_type": "display_data"
    },
    {
     "data": {
      "application/vnd.jupyter.widget-view+json": {
       "model_id": "6779d594a965433298f0510fc6bc0263",
       "version_major": 2,
       "version_minor": 0
      },
      "text/plain": [
       "  0%|          | 0/13 [00:00<?, ?it/s]"
      ]
     },
     "metadata": {},
     "output_type": "display_data"
    },
    {
     "name": "stdout",
     "output_type": "stream",
     "text": [
      "KABUL, Afghanistan — A young boy died on Friday after being trapped in a well for several days in southern Afghanistan, Taliban officials said, heralding a tragic end to a round-the-clock rescue effort led by officials at the highest levels of the country’s new government. {'label': 'Evidence', 'score': 0.9430404305458069}\n",
      "The boy, Haidar Jan, who was thought to be 5, fell into a roughly 85-foot-deep well on Tuesday in a village near Qalat, the capital of Zabul Province. By Thursday, rescuers had sent cameras and ropes down the barely foot-wide borehole to no avail, in a scene reminiscent of an effort in Morocco this month. {'label': 'Evidence', 'score': 0.9705137014389038}\n",
      "Around the time they discovered that Haidar was not moving, officials said, they began digging into the earth around the scene. {'label': 'Evidence', 'score': 0.49000027775764465}\n",
      "“Zabul officials, in coordination with Kabul officials and the Zabul municipality, worked for about 70 hours and used various tools and equipment to rescue the child,” said Sharafat Wyar, the head of Zabul’s information and culture department. “When the child was rescued from the well, he was alive for a short time, but after awhile, he died.” {'label': 'Evidence', 'score': 0.9831274747848511}\n",
      "Anas Haqqani, the brother of Sirajuddin Haqqani, the Taliban’s acting interior minister, helped lead the rescue effort, which involved the police, public works and the Taliban’s fledgling air force. The acting defense minister, Muhammad Yaqoub, was also present to assist with commanding the operation. {'label': 'Evidence', 'score': 0.9772043824195862}\n",
      "Haidar’s death comes only weeks after the efforts to rescue a 5-year-old boy in Morocco, Rayan Oram, captivated people around the globe after he plunged into a well in his own small village. {'label': 'Evidence', 'score': 0.5770952701568604}\n",
      "The operation in Morocco to save Rayan, who also died, was accompanied by days of vigils and internet livestreams that followed the rescue effort with thousands of viewers. {'label': 'Evidence', 'score': 0.596437394618988}\n",
      "Wells are commonplace in Afghanistan, with more than 70 percent of the country’s 38 million people living in rural areas. As one of the worst droughts in decades drags on into another year, Afghan farmers are digging their wells increasingly deeper to reach a quickly diminishing water table. The well into which Haidar fell on Tuesday was completely dry, Mr. Wyar said. {'label': 'Evidence', 'score': 0.9909127950668335}\n",
      "Eventually, excavators dug a trench into the side of the well to retrieve the boy after initial attempts to pull him out failed. Videos taken from the scene during the rescuers’ early attempts showed a claustrophobic chamber already clogged with debris and ropes. {'label': 'Evidence', 'score': 0.9333077073097229}\n",
      "In Afghanistan, Haidar’s plight garnered far less attention than young Rayan’s, though the Taliban seized on the opportunity to publicize their ability to marshal an effective emergency response. {'label': 'Evidence', 'score': 0.6455936431884766}\n",
      "The rescue of a helpless young boy also provided an opportunity to present a nuanced and attentive side of the Taliban leadership, which is regularly subject to international admonition for its hard-line religious stance and fought a violent insurgency for decades before taking power last year. {'label': 'Evidence', 'score': 0.5551219582557678}\n",
      "“It is with regret that Haidar Jan left us forever,” Anas Haqqani said on Twitter shortly after the boy was removed from the well. The Taliban quickly circulated photographs purportedly showing Mr. Haqqani and Mr. Yaqoub, the oldest son of the Taliban’s leader, Mullah Omar, speaking with Haidar’s father. {'label': 'Evidence', 'score': 0.879705548286438}\n",
      "The public relations blitz followed weeks of headlines and international outcry accusing the Taliban of abducting several female activists who had protested after women’s rights were rolled back under the banner of strict Islamic law. The Taliban denied abducting the women even though they were eventually released. {'label': 'Evidence', 'score': 0.9830054640769958}\n"
     ]
    },
    {
     "name": "stderr",
     "output_type": "stream",
     "text": [
      "Using custom data configuration default-ccdc3eaf2e53c191\n"
     ]
    },
    {
     "name": "stdout",
     "output_type": "stream",
     "text": [
      "Downloading and preparing dataset text/default to C:\\Users\\Prannaya\\.cache\\huggingface\\datasets\\text\\default-ccdc3eaf2e53c191\\0.0.0\\08f6fb1dd2dab0a18ea441c359e1d63794ea8cb53e7863e6edf8fc5655e47ec4...\n"
     ]
    },
    {
     "data": {
      "application/vnd.jupyter.widget-view+json": {
       "model_id": "e3a174f12c9b4002a305f5921a1025be",
       "version_major": 2,
       "version_minor": 0
      },
      "text/plain": [
       "  0%|          | 0/1 [00:00<?, ?it/s]"
      ]
     },
     "metadata": {},
     "output_type": "display_data"
    },
    {
     "data": {
      "application/vnd.jupyter.widget-view+json": {
       "model_id": "90ca3764527d45ba9d55f6aa89638f0a",
       "version_major": 2,
       "version_minor": 0
      },
      "text/plain": [
       "  0%|          | 0/1 [00:00<?, ?it/s]"
      ]
     },
     "metadata": {},
     "output_type": "display_data"
    },
    {
     "name": "stdout",
     "output_type": "stream",
     "text": [
      "Dataset text downloaded and prepared to C:\\Users\\Prannaya\\.cache\\huggingface\\datasets\\text\\default-ccdc3eaf2e53c191\\0.0.0\\08f6fb1dd2dab0a18ea441c359e1d63794ea8cb53e7863e6edf8fc5655e47ec4. Subsequent calls will reuse this data.\n"
     ]
    },
    {
     "data": {
      "application/vnd.jupyter.widget-view+json": {
       "model_id": "2eafb7eba3d1496382642ccd941eead1",
       "version_major": 2,
       "version_minor": 0
      },
      "text/plain": [
       "  0%|          | 0/1 [00:00<?, ?it/s]"
      ]
     },
     "metadata": {},
     "output_type": "display_data"
    },
    {
     "data": {
      "application/vnd.jupyter.widget-view+json": {
       "model_id": "0a96aae9c13f48a889745acedce471ee",
       "version_major": 2,
       "version_minor": 0
      },
      "text/plain": [
       "  0%|          | 0/1 [00:00<?, ?ba/s]"
      ]
     },
     "metadata": {},
     "output_type": "display_data"
    },
    {
     "data": {
      "application/vnd.jupyter.widget-view+json": {
       "model_id": "b392df262c6744abaaab475a30eea769",
       "version_major": 2,
       "version_minor": 0
      },
      "text/plain": [
       "  0%|          | 0/17 [00:00<?, ?it/s]"
      ]
     },
     "metadata": {},
     "output_type": "display_data"
    },
    {
     "name": "stdout",
     "output_type": "stream",
     "text": [
      "On Aug. 10, 2021, days before the collapse of Afghanistan’s government, Fawad Khan Safi arrived in the United States to begin his new life. {'label': 'Claim', 'score': 0.3872610032558441}\n",
      "Mr. Safi, who previously worked as a contractor for the United States Agency for International Development in Afghanistan, had waited an agonizing 12 months to receive his Special Immigrant Visa, or S.I.V., and make it to Texas. His ordeal lasted several months longer than the maximum nine-month visa processing period mandated by law — and yet, Mr. Safi is one of the lucky ones. {'label': 'Evidence', 'score': 0.9845075607299805}\n",
      "Around 60,000 Afghans who have worked with American forces and applied for visas remain in Afghanistan — many probably starving and on the run from the Taliban. Few, if any visas have ever been approved within that nine-month timeline. The system is clearly broken. {'label': 'Evidence', 'score': 0.9513683915138245}\n",
      "Despite the disturbing images of last summer’s evacuation, the obstacles facing S.I.V. applicants have continued to persist. To remedy this, Congress should overhaul the current S.I.V. process and pass an improved, permanent immigration program that swiftly and efficiently resettles those who apply for it. {'label': 'Concluding Statement', 'score': 0.6522158980369568}\n",
      "If the S.I.V. process isn’t fixed, U.S. enemies like the Taliban will continue to persecute those who put their lives at risk to protect American troops. In the long run, partners around the world whom the United States often relies on will most likely rethink the value of a close relationship with the American government if they see that they can’t depend on its support. {'label': 'Evidence', 'score': 0.8502283692359924}\n",
      "Congress enacted the first S.I.V. program — for which both Iraqi and Afghan interpreters were eligible — in 2006, several years after both conflicts began. From inception, the program was unable to process applications in a timely manner, resulting in a backlog that was never resolved. As their applications languished, interpreters working for the U.S. government were targeted for retribution. After the United States withdrew most of its troops from Iraq in 2011, Iraqi interpreters faced brutal consequences, in large part because of severe delays in the processing of S.I.V. applications. {'label': 'Evidence', 'score': 0.9868857860565186}\n",
      "Without immediate changes to the S.I.V. program, a similar fate awaits our Afghan allies. {'label': 'Claim', 'score': 0.7046772241592407}\n",
      "Currently, Afghans may apply for S.I.V.s via two tracks: A permanent program for interpreters who worked directly with the U.S. military, limited to only 50 people annually, and a much larger but temporary program for others working for or on behalf of the U.S. government. Each program has different application requirements, deadlines and visa quotas. {'label': 'Evidence', 'score': 0.8434579968452454}\n",
      "Unfortunately, Congress’s well-intentioned attempts to improve the S.I.V. programs have only increased their complexity, while insufficiently addressing their greatest weaknesses. Sporadic, temporary extensions have made it difficult for the executive branch to properly budget, staff and provide resources for the programs over time. For example, the State Department Office of the Inspector General found that from 2016 to 2020, the programs’ staffing numbers remained constant as a backlog grew and as Congress approved 15,500 additional visas. {'label': 'Evidence', 'score': 0.7227985858917236}\n",
      "Moreover, the responsibilities of the Departments of State, Homeland Security, and Defense in the immigration process are poorly delineated. Basic background and security checks span multiple agencies, and the coordination between these agencies has been inadequate. {'label': 'Evidence', 'score': 0.7432599663734436}\n",
      "But immediate steps can be taken to rectify the programs. First, Ambassador Elizabeth Jones — the current coordinator for Afghan relocation efforts at the State Department — needs more authority to speed up the bureaucratic machinery. The White House should designate her as presidential coordinator with the authority to direct and oversee the workings of other agency personnel. {'label': 'Rebuttal', 'score': 0.7666891813278198}\n",
      "The Biden administration has increased resources and decreased the processing time for the S.I.V. program in the last few months, but those moves fall far short of the major legislative overhaul the Afghan and Iraqi S.I.V. programs need. Congress should consolidate the multiple tracks of the S.I.V. programs into a permanent, unified framework that simplifies processing and eligibility rules. This program should allow for a more holistic security vetting process that considers context while screening effectively. {'label': 'Evidence', 'score': 0.48977434635162354}\n",
      "Currently, neither S.I.V. track allows applicants’ former U.S. supervisors to offer helpful context when red flags come up during initial background checks. Hypothetically, consider the case of an interpreter who, at the behest of his U.S. military supervisors, contacted insurgent sympathizers to collect information or obtain cooperation during the height of the conflict. Under the existing system, such applicants are typically disapproved as security risks without being provided sufficient recourse to appeal. {'label': 'Evidence', 'score': 0.9612039923667908}\n",
      "By limiting S.I.V. eligibility to Iraqis and Afghans, the U.S. government also ignores a slew of other allies who have risked their lives on behalf of American troops and missions. Syrian and Yemeni interpreters, for example, accompanied U.S. forces in battle against ISIS and Al Qaeda. They have no chance at resettlement in the United States through an S.I.V. program. {'label': 'Evidence', 'score': 0.9843791127204895}\n",
      "Expanding a permanent S.I.V. program to apply to other conflict zones would also prevent the need to create new legislation for those countries. In the past, some country-specific programs have fallen through the legislative cracks altogether. Most recently, Congress failed to enact a Syrian S.I.V. program despite more than one attempt to introduce such a bill. Our allies deserve better, especially in light of looming future crises such as the current standoff between Russia and Ukraine. {'label': 'Evidence', 'score': 0.9417531490325928}\n",
      "In Texas, Mr. Safi now works at a resettlement agency, paying his fortune forward by helping other new arrivals find work and a sense of community in their new country. Tragically, though, most refugees who have applied to the S.I.V. programs will not make it to the United States. Thousands are still waiting — terrified of Taliban retribution, hiding in basements. {'label': 'Evidence', 'score': 0.968713641166687}\n",
      "It’s time to bring them to America. {'label': 'Claim', 'score': 0.6750279664993286}\n"
     ]
    },
    {
     "name": "stderr",
     "output_type": "stream",
     "text": [
      "Using custom data configuration default-778e2b27e9938a44\n"
     ]
    },
    {
     "name": "stdout",
     "output_type": "stream",
     "text": [
      "Downloading and preparing dataset text/default to C:\\Users\\Prannaya\\.cache\\huggingface\\datasets\\text\\default-778e2b27e9938a44\\0.0.0\\08f6fb1dd2dab0a18ea441c359e1d63794ea8cb53e7863e6edf8fc5655e47ec4...\n"
     ]
    },
    {
     "data": {
      "application/vnd.jupyter.widget-view+json": {
       "model_id": "19943eb14d8e4c6695aee6915fe27b57",
       "version_major": 2,
       "version_minor": 0
      },
      "text/plain": [
       "  0%|          | 0/1 [00:00<?, ?it/s]"
      ]
     },
     "metadata": {},
     "output_type": "display_data"
    },
    {
     "data": {
      "application/vnd.jupyter.widget-view+json": {
       "model_id": "dd0694ab60074188aa718849454c60b6",
       "version_major": 2,
       "version_minor": 0
      },
      "text/plain": [
       "  0%|          | 0/1 [00:00<?, ?it/s]"
      ]
     },
     "metadata": {},
     "output_type": "display_data"
    },
    {
     "name": "stdout",
     "output_type": "stream",
     "text": [
      "Dataset text downloaded and prepared to C:\\Users\\Prannaya\\.cache\\huggingface\\datasets\\text\\default-778e2b27e9938a44\\0.0.0\\08f6fb1dd2dab0a18ea441c359e1d63794ea8cb53e7863e6edf8fc5655e47ec4. Subsequent calls will reuse this data.\n"
     ]
    },
    {
     "data": {
      "application/vnd.jupyter.widget-view+json": {
       "model_id": "548a06fcfc8b4375825c507d7adba8ce",
       "version_major": 2,
       "version_minor": 0
      },
      "text/plain": [
       "  0%|          | 0/1 [00:00<?, ?it/s]"
      ]
     },
     "metadata": {},
     "output_type": "display_data"
    },
    {
     "data": {
      "application/vnd.jupyter.widget-view+json": {
       "model_id": "d36f434ab9cd476fa509dfcc095e7601",
       "version_major": 2,
       "version_minor": 0
      },
      "text/plain": [
       "  0%|          | 0/1 [00:00<?, ?ba/s]"
      ]
     },
     "metadata": {},
     "output_type": "display_data"
    },
    {
     "data": {
      "application/vnd.jupyter.widget-view+json": {
       "model_id": "19d874c235e24f479c10d2ba73313795",
       "version_major": 2,
       "version_minor": 0
      },
      "text/plain": [
       "  0%|          | 0/22 [00:00<?, ?it/s]"
      ]
     },
     "metadata": {},
     "output_type": "display_data"
    },
    {
     "name": "stdout",
     "output_type": "stream",
     "text": [
      "BRUNSWICK, Ga. — Defense lawyers in the hate crimes trial of the three white men convicted of murdering Ahmaud Arbery rested their case on Friday after calling just a single witness. {'label': 'Evidence', 'score': 0.7033983469009399}\n",
      "None of the defendants — Travis McMichael, his father, Gregory McMichael, and their neighbor William Bryan — took the stand in their own defense. {'label': 'Evidence', 'score': 0.420257031917572}\n",
      "The men were convicted in state court last year of chasing Mr. Arbery through their South Georgia neighborhood and murdering him. All three were sentenced to life in prison. In the federal trial, they stand accused of pursuing and killing Mr. Arbery specifically because he was Black. {'label': 'Evidence', 'score': 0.9846514463424683}\n",
      "On Friday, only the lawyer for Gregory McMichael presented evidence to the jury, in an attempt to buttress the defense’s central argument that the men chased Mr. Arbery because they suspected him of committing burglaries in the area, not because of his race. {'label': 'Evidence', 'score': 0.7622248530387878}\n",
      "The single defense witness, a woman who lived in the Satilla Shores neighborhood where the defendants lived and where Mr. Arbery died, testified that on one occasion in 2019 she saw a white man who appeared suspicious under a bridge near the entrance to the neighborhood. A.J. Balbo, Mr. McMichael’s lawyer, played a recording of a call Mr. McMichael made to authorities that summer after he, too, saw a white man under the bridge whom he thought was suspicious and perhaps responsible for burglaries. The defendants have argued in both trials that they were on alert because of a rash of break-ins. {'label': 'Evidence', 'score': 0.9872564077377319}\n",
      "An advocate for Mr. Arbery’s family expressed skepticism about that line of argument. {'label': 'Claim', 'score': 0.4384385943412781}\n",
      "“The defense tried to use this witness to show that their clients aren’t racist, that they called the police on a white man and were concerned about crime, but just because you called the police on a white person doesn’t mean you’re not racist,” said Lynn Whitfield, a senior attorney with the Transformative Justice Coalition who has been sitting with Mr. Arbery’s family during the court proceedings. “They didn’t chase the white man through the neighborhood with guns and kill him.” {'label': 'Evidence', 'score': 0.9724189639091492}\n",
      "The jury is tasked with determining whether the men deprived Mr. Arbery of his right to use a public street because he was Black, not whether they committed murder. The men are also charged with attempted kidnapping, and the McMichaels are charged with one count each of using a weapon during a violent crime. If convicted, they face up to life in prison. Guilty verdicts would have practical ramifications if the men’s state convictions were overturned on appeal. {'label': 'Evidence', 'score': 0.982763409614563}\n",
      "The defense witness on Friday came after prosecutors called 20 witnesses and introduced dozens of pieces of evidence over three and a half days, including text, WhatsApp and Facebook messages and comments containing racist language that the men posted and sent to others. {'label': 'Evidence', 'score': 0.9329603910446167}\n",
      "Among the prosecution’s witnesses was Kristie Ronquille, who testified on Friday morning. {'label': 'Claim', 'score': 0.6059383749961853}\n",
      "Ms. Ronquille said that in 2011, when she was in the Coast Guard in Pascagoula, Miss., Travis McMichael, then her supervisor, made disparaging comments about Black people after learning that she had previously dated a Black man. Crying on the stand, Ms. Ronquille said Mr. McMichael called her an “N-word lover” on more than one occasion after that. {'label': 'Evidence', 'score': 0.9884187579154968}\n",
      "Asked by Travis McMichael’s lawyer, Amy Lee Copeland, why she had not reported him, Ms. Ronquille said that she was new to the Coast Guard. {'label': 'Evidence', 'score': 0.5954750180244446}\n",
      "“This is my supervisor — it’d be like telling on your boss,” she said. “Who do you tell on your boss to?” {'label': 'Evidence', 'score': 0.41050732135772705}\n",
      "On Friday, the prosecution also called Kim Ballesteros, a neighbor of the McMichaels, who said she remembered standing at the end of a driveway, telling Gregory McMichael that she had a new rental property. Mr. McMichael told her about his own tenant, a Black woman who had rented a home from him. He said he had cut off the woman’s air-conditioning in the summer to goad her into paying her rent. {'label': 'Evidence', 'score': 0.9806168079376221}\n",
      "“You should have seen how fast her big fat Black ass came with the rent check,” Ms. Ballesteros recalled Mr. McMichael saying. Ms. Ballesteros said Mr. McMichael called the woman a “walrus” because she was “big and Black.” {'label': 'Evidence', 'score': 0.9449455738067627}\n",
      "“I was surprised,” Ms. Ballesteros said. “It was racist and uncomfortable, and I was frankly disappointed.” {'label': 'Lead', 'score': 0.40947866439819336}\n",
      "Mr. Balbo, Gregory McMichael’s lawyer, noted that Ms. Ballesteros continued to speak with Mr. McMichael after the incident and that his client rented to African Americans. {'label': 'Evidence', 'score': 0.7997766137123108}\n",
      "Another witness, Carole Sears, said she recalled hearing Gregory McMichael “rant” about Black people after finding out that Julian Bond, the civil rights leader, had died. At the time, Mr. McMichael was an investigator for the local district attorney’s office and she was riding in his car because of her involvement in a legal matter in Brunswick, Ga. Ms. Sears was upset about Mr. Bond’s death, while Mr. McMichael was pleased, she said. “I wish that guy had been in the ground years ago,” Ms. Sears recalled Mr. McMichael saying. “All those Blacks are nothing but trouble and I wish they’d all die.” {'label': 'Evidence', 'score': 0.9924221634864807}\n",
      "Ms. Sears said she did not speak for the remainder of the ride because she was afraid. {'label': 'Claim', 'score': 0.5495681166648865}\n",
      "In their opening statements this week, defense lawyers criticized the racist language their clients used, but they also insisted that use of such language is not evidence that the men killed Mr. Arbery because he was Black. {'label': 'Claim', 'score': 0.4220713973045349}\n",
      "The men chased Mr. Arbery “not because he was a Black man, but because he was the man,” Mr. Balbo said in his opening statements. {'label': 'Evidence', 'score': 0.6425994038581848}\n",
      "The jury will hear closing arguments from the government and the defendants on Monday. {'label': 'Claim', 'score': 0.5651424527168274}\n"
     ]
    },
    {
     "name": "stderr",
     "output_type": "stream",
     "text": [
      "Using custom data configuration default-1e3e75405d1657ae\n"
     ]
    },
    {
     "name": "stdout",
     "output_type": "stream",
     "text": [
      "Downloading and preparing dataset text/default to C:\\Users\\Prannaya\\.cache\\huggingface\\datasets\\text\\default-1e3e75405d1657ae\\0.0.0\\08f6fb1dd2dab0a18ea441c359e1d63794ea8cb53e7863e6edf8fc5655e47ec4...\n"
     ]
    },
    {
     "data": {
      "application/vnd.jupyter.widget-view+json": {
       "model_id": "4051ba5557b349e3840f66975dfb4a71",
       "version_major": 2,
       "version_minor": 0
      },
      "text/plain": [
       "  0%|          | 0/1 [00:00<?, ?it/s]"
      ]
     },
     "metadata": {},
     "output_type": "display_data"
    },
    {
     "data": {
      "application/vnd.jupyter.widget-view+json": {
       "model_id": "83b6c26f6e814406b450382188e13bd7",
       "version_major": 2,
       "version_minor": 0
      },
      "text/plain": [
       "  0%|          | 0/1 [00:00<?, ?it/s]"
      ]
     },
     "metadata": {},
     "output_type": "display_data"
    },
    {
     "name": "stdout",
     "output_type": "stream",
     "text": [
      "Dataset text downloaded and prepared to C:\\Users\\Prannaya\\.cache\\huggingface\\datasets\\text\\default-1e3e75405d1657ae\\0.0.0\\08f6fb1dd2dab0a18ea441c359e1d63794ea8cb53e7863e6edf8fc5655e47ec4. Subsequent calls will reuse this data.\n"
     ]
    },
    {
     "data": {
      "application/vnd.jupyter.widget-view+json": {
       "model_id": "12f4d8b6988e4620b75042f5824bd427",
       "version_major": 2,
       "version_minor": 0
      },
      "text/plain": [
       "  0%|          | 0/1 [00:00<?, ?it/s]"
      ]
     },
     "metadata": {},
     "output_type": "display_data"
    },
    {
     "data": {
      "application/vnd.jupyter.widget-view+json": {
       "model_id": "16ba719c5fa84bb884c1c1145c302b79",
       "version_major": 2,
       "version_minor": 0
      },
      "text/plain": [
       "  0%|          | 0/1 [00:00<?, ?ba/s]"
      ]
     },
     "metadata": {},
     "output_type": "display_data"
    },
    {
     "data": {
      "application/vnd.jupyter.widget-view+json": {
       "model_id": "9bf1d79fb37748cfabd5b20f40b57e3b",
       "version_major": 2,
       "version_minor": 0
      },
      "text/plain": [
       "  0%|          | 0/23 [00:00<?, ?it/s]"
      ]
     },
     "metadata": {},
     "output_type": "display_data"
    },
    {
     "name": "stdout",
     "output_type": "stream",
     "text": [
      "This spring, Philips Pham was among the more than 12,000 people in 148 countries who took an online class called Code in Place. Run by Stanford University, the course taught the fundamentals of computer programming. {'label': 'Evidence', 'score': 0.6869553923606873}\n",
      "Four weeks in, Mr. Pham, a 23-year-old student living at the southern tip of Sweden, typed his way through the first test, trying to write a program that could draw waves of tiny blue diamonds across a black-and-white grid. Several days later, he received a detailed critique of his code. {'label': 'Evidence', 'score': 0.8989871144294739}\n",
      "It applauded his work, but also pinpointed an error. “Seems like you have a small mistake,” the critique noted. “Perhaps you are running into the wall after drawing the third wave.” {'label': 'Evidence', 'score': 0.36042529344558716}\n",
      "The feedback was just what Mr. Pham needed. And it came from a machine. {'label': 'Claim', 'score': 0.7571551203727722}\n",
      "During this online class, a new kind of artificial intelligence offered feedback to Mr. Pham and thousands of other students who took the same test. Built by a team of Stanford researchers, this automated system points to a new future for online education, which can so easily reach thousands of people but does not always provide the guidance that many students need and crave. {'label': 'Evidence', 'score': 0.5935297608375549}\n",
      "“We’ve deployed this in the real world, and it works better than we expected,” said Chelsea Finn, a Stanford professor and A.I. researcher who helped build the new system. {'label': 'Evidence', 'score': 0.41908469796180725}\n",
      "Dr. Finn and her team designed this system solely for Stanford’s programming class. But they used techniques that could automate student feedback in other situations, including for classes beyond programming. {'label': 'Claim', 'score': 0.4336566925048828}\n",
      "Oren Etzioni, chief executive of the Allen Institute for Artificial Intelligence and a former professor of computer science at the University of Washington, cautioned that these techniques are a very long way from duplicating human instructors. Feedback and advice from professors, teaching assistants and tutors is always preferable to an automated critique. {'label': 'Evidence', 'score': 0.5115686655044556}\n",
      "Still, Dr. Etzioni called the Stanford project a “step in an important direction,” with automated feedback better than none at all. {'label': 'Counterclaim', 'score': 0.39679446816444397}\n",
      "The online course taken by Mr. Pham and thousands of others this spring is based on a class that Stanford has offered for more than a decade. Each semester, the university gives students a midterm test filled with programming exercises, and it keeps a digital record of the results, including the reams of code written by students as well as pointed critiques of each program from university instructors. {'label': 'Evidence', 'score': 0.848131537437439}\n",
      "This decade of data is what drove the university’s new experiment in artificial intelligence. {'label': 'Claim', 'score': 0.7872961759567261}\n",
      "Dr. Finn and her team built a neural network, a mathematical system that can learn skills from vast amounts of data. By pinpointing patterns in thousands of cat photos, a neural network can learn to identify a cat. By analyzing hundreds of old phone calls, it can learn to recognize spoken words. Or, by examining the way teaching assistants evaluate coding tests, it can learn to evaluate these tests on its own. {'label': 'Evidence', 'score': 0.9855961799621582}\n",
      "The Stanford system spent hours analyzing examples from old midterms, learning from a decade of possibilities. Then it was ready to learn more. When given just a handful of extra examples from the new exam offered this spring, it could quickly grasp the task at hand. {'label': 'Evidence', 'score': 0.8782269954681396}\n",
      "“It sees many kinds of problems,” said Mike Wu, another researcher who worked on the project. “Then it can adapt to problems it has never seen before.” {'label': 'Evidence', 'score': 0.5240266919136047}\n",
      "This spring, the system provided 16,000 pieces of feedback, and students agreed with the feedback 97.9 percent of the time, according to a study by the Stanford researchers. By comparison, students agreed with the feedback from human instructors 96.7 percent of the time. {'label': 'Evidence', 'score': 0.9362807273864746}\n",
      "Mr. Pham, an engineering student at Lund University in Sweden, was surprised the technology worked so well. Although the automated tool was unable to evaluate one of his programs (presumably because he had written a snippet of code unlike anything the A.I. had ever seen), it both identified specific bugs in his code, including what is known in computer programming and mathematics as a fence post error, and suggested ways of fixing them. “It is seldom you receive such well thought out feedback,” Mr. Pham said. {'label': 'Evidence', 'score': 0.9740356206893921}\n",
      "The technology was effective because its role was so sharply defined. In taking the test, Mr. Pham wrote code with very specific aims, and there were only so many ways that he and other students could go wrong. {'label': 'Claim', 'score': 0.602217435836792}\n",
      "But given the right data, neural networks can learn a range of tasks. This is the same fundamental technology that identifies faces in the photos you post to Facebook, recognizes the commands you bark into your iPhone and translates from one language to another on services like Skype and Google Translate. For the Stanford team and other researchers, the hope is that these techniques can automate education in many other ways. {'label': 'Rebuttal', 'score': 0.8025721907615662}\n",
      "Researchers have been building automated teaching tools since the 1970s, including robo-tutors and computerized essay graders. But progress has been slow. Building a system that can simply and clearly guide students often requires years of work, with designers struggling to define each tiny piece of behavior. {'label': 'Evidence', 'score': 0.8063941597938538}\n",
      "Using the methods that drove the Stanford project, researchers can significantly accelerate this work. “There is real power in data,” said Peter Foltz, a professor at the University of Colorado who has spent decades developing systems that can automatically grade prose essays. “As machines get more examples, they can generalize.” {'label': 'Evidence', 'score': 0.9277411103248596}\n",
      "Prose may seem very different from computer code. But in this case, it is not. In recent years, researchers have built technology that can analyze natural language in much the same way the Stanford system analyzes computer code. {'label': 'Rebuttal', 'score': 0.36829879879951477}\n",
      "Although the Stanford system provides sharp feedback, it is useless if students have any questions about where they went wrong. But for Chris Piech, the Stanford professor who helped oversee the class, replacing instructors is not the goal. {'label': 'Rebuttal', 'score': 0.3199341595172882}\n",
      "The new automated system is a way of reaching more students than instructors could otherwise reach on their own. And if it can clearly pinpoint problems in student code, showing the specific coding mistakes they are making and how frequently they are making them, it could help instructors better understand which students need help and how to help them. As Dr. Piech put it: “The future is symbiotic — teachers and A.I. working together.” {'label': 'Concluding Statement', 'score': 0.7887545228004456}\n"
     ]
    },
    {
     "name": "stderr",
     "output_type": "stream",
     "text": [
      "Using custom data configuration default-43c527e43a46eb96\n"
     ]
    },
    {
     "name": "stdout",
     "output_type": "stream",
     "text": [
      "Downloading and preparing dataset text/default to C:\\Users\\Prannaya\\.cache\\huggingface\\datasets\\text\\default-43c527e43a46eb96\\0.0.0\\08f6fb1dd2dab0a18ea441c359e1d63794ea8cb53e7863e6edf8fc5655e47ec4...\n"
     ]
    },
    {
     "data": {
      "application/vnd.jupyter.widget-view+json": {
       "model_id": "c51c1b46815b4243b85f8f8618d0051b",
       "version_major": 2,
       "version_minor": 0
      },
      "text/plain": [
       "  0%|          | 0/1 [00:00<?, ?it/s]"
      ]
     },
     "metadata": {},
     "output_type": "display_data"
    },
    {
     "data": {
      "application/vnd.jupyter.widget-view+json": {
       "model_id": "ac9358d4be5145d1a4a0f7681cb71ade",
       "version_major": 2,
       "version_minor": 0
      },
      "text/plain": [
       "  0%|          | 0/1 [00:00<?, ?it/s]"
      ]
     },
     "metadata": {},
     "output_type": "display_data"
    },
    {
     "name": "stdout",
     "output_type": "stream",
     "text": [
      "Dataset text downloaded and prepared to C:\\Users\\Prannaya\\.cache\\huggingface\\datasets\\text\\default-43c527e43a46eb96\\0.0.0\\08f6fb1dd2dab0a18ea441c359e1d63794ea8cb53e7863e6edf8fc5655e47ec4. Subsequent calls will reuse this data.\n"
     ]
    },
    {
     "data": {
      "application/vnd.jupyter.widget-view+json": {
       "model_id": "ef9b1eaa43f34bedafdf9e21acbc1745",
       "version_major": 2,
       "version_minor": 0
      },
      "text/plain": [
       "  0%|          | 0/1 [00:00<?, ?it/s]"
      ]
     },
     "metadata": {},
     "output_type": "display_data"
    },
    {
     "data": {
      "application/vnd.jupyter.widget-view+json": {
       "model_id": "59f7bf0014d94c919eef917890aebd35",
       "version_major": 2,
       "version_minor": 0
      },
      "text/plain": [
       "  0%|          | 0/1 [00:00<?, ?ba/s]"
      ]
     },
     "metadata": {},
     "output_type": "display_data"
    },
    {
     "data": {
      "application/vnd.jupyter.widget-view+json": {
       "model_id": "b8c4cc7525b447918e3ff377f2a91e5d",
       "version_major": 2,
       "version_minor": 0
      },
      "text/plain": [
       "  0%|          | 0/11 [00:00<?, ?it/s]"
      ]
     },
     "metadata": {},
     "output_type": "display_data"
    },
    {
     "name": "stdout",
     "output_type": "stream",
     "text": [
      "The early 1990s were in many ways the most terrible of those first years of the AIDS epidemic in America. Research on the disease was in high gear, but drug after drug failed to stop H.I.V. Funerals for friends and family in their 20s, 30s, 40s and 50s continued unabated, and many of us at risk for getting sick had given up hope of a normal life. My friends and I, most of us just a few years out of college, lived in the moment because we weren’t sure of how much time we had left. {'label': 'Evidence', 'score': 0.9077416062355042}\n",
      "My cousin Carl died from AIDS-related lymphoma in July 1995. That was also the year I found out that I, too, was H.I.V. positive. I wondered if Carl’s fate might be my own soon enough. {'label': 'Evidence', 'score': 0.9147146940231323}\n",
      "But then we got lucky. In 1996 a new generation of treatments called protease inhibitors emerged that were able to control H.I.V. Doctors talked about the Lazarus effect: watching their patients go from near death to health. I enrolled in a clinical trial and started taking the drugs that year. I am alive because of them. {'label': 'Rebuttal', 'score': 0.7329007983207703}\n",
      "In 1996 the writer Andrew Sullivan came to a meeting of an AIDS activist group I co-founded a few years earlier to push AIDS drug development and research forward. It was just after the data on these protease inhibitors had been unveiled at a major scientific conference. We were known as a crew of hard-core skeptics of claims by drug companies and scientists, but the data clearly showed these drugs were revolutionary. They would change the trajectory of the epidemic for many people, including me. Mr. Sullivan went on to write a piece for The New York Times Magazine titled “When Plagues End,” which was published in November of that year and rightly noted that AIDS was no longer a death sentence for all infected by the virus but a chronic manageable illness. {'label': 'Evidence', 'score': 0.8976370096206665}\n",
      "Of course, as Mr. Sullivan recognized, the AIDS pandemic didn’t fully end. In a way it did end for many white middle-class gay men like us; we had access to these drugs and to good medical care overall and could start to think about getting back to normal. But AIDS still lingered and flourished in America in places that were easy for people like us to ignore. {'label': 'Evidence', 'score': 0.5925618410110474}\n",
      "The virus took root in the African American and Latino communities, particularly among young gay men. It moved from New York City and San Francisco to the South and into rural areas, tracing the geography of health disparities in this country. H.I.V. also continued to ravage Africa, and the pills I was taking wouldn’t be available widely there for several years, until activists shamed the world into taking notice. Rather than acknowledge that high drug prices were keeping the pills out of the hands of others, one U.S. official said that Africans couldn’t tell time and thus the AIDS drugs would do no good there. {'label': 'Evidence', 'score': 0.9936611652374268}\n",
      "Nearly three decades later, we’re in the midst of a different pandemic. And we’ve gotten lucky again: We have vaccines for Covid-19, and they are also revolutionary. The pandemic has changed. {'label': 'Evidence', 'score': 0.5484721660614014}\n",
      "And once more, the desire to get back to normal and to declare the end of another pandemic, at least for some of us, is palpable after more than two years of death, suffering and hardship. Governors’ recent lifting of mask mandates reflects that. There’s a demobilization that many suggest is contingent on what might happen with new variants but could easily become permanent. Much, if not most, of the country has moved on or wants to move on from Covid-19. {'label': 'Evidence', 'score': 0.9198237657546997}\n",
      "It’s also clear that SARS-CoV-2 will be with us for the foreseeable future and that it, too, will follow the fault lines of social and economic inequality in America. It will persist in countries — likely many in Africa — where people have insufficient access to coronavirus vaccines. Some will blame low vaccination rates on the hesitancy of those nations’ residents rather than drug companies withholding their vaccine technology to allow for global scale-up. {'label': 'Evidence', 'score': 0.9255291819572449}\n",
      "There has to be a better way out of the rubble of the past two years. What would it mean to move into a future in which a common fate mattered as much as our own? It would mean no one was disposable. {'label': 'Concluding Statement', 'score': 0.3119671642780304}\n",
      "The lesson of the AIDS pandemic is that it’s easy to leave people behind, even if it is at the cost of our collective peril. Coronavirus variants can develop in people with weakened immune systems who struggle to clear infections on their own, like those with untreated H.I.V. Think of the home we’ve then made for viruses like SARS-CoV-2 by impeding access to vaccines and by allowing millions to go without AIDS treatment even now. Variants can emerge because of our desire to put it all behind us. No one is truly safe until we all are. Yet might we act to save millions of people not just in the interest of self-preservation but also simply because it’s the right thing to do? That would be a signal that this pandemic has changed us. For good. {'label': 'Evidence', 'score': 0.8755511045455933}\n"
     ]
    },
    {
     "name": "stderr",
     "output_type": "stream",
     "text": [
      "Using custom data configuration default-36b949763b8cdb73\n"
     ]
    },
    {
     "name": "stdout",
     "output_type": "stream",
     "text": [
      "Downloading and preparing dataset text/default to C:\\Users\\Prannaya\\.cache\\huggingface\\datasets\\text\\default-36b949763b8cdb73\\0.0.0\\08f6fb1dd2dab0a18ea441c359e1d63794ea8cb53e7863e6edf8fc5655e47ec4...\n"
     ]
    },
    {
     "data": {
      "application/vnd.jupyter.widget-view+json": {
       "model_id": "18a1bcab953942c28f5bd197410d7388",
       "version_major": 2,
       "version_minor": 0
      },
      "text/plain": [
       "  0%|          | 0/1 [00:00<?, ?it/s]"
      ]
     },
     "metadata": {},
     "output_type": "display_data"
    },
    {
     "data": {
      "application/vnd.jupyter.widget-view+json": {
       "model_id": "4ea0cce367a647bab655a754f356bd7c",
       "version_major": 2,
       "version_minor": 0
      },
      "text/plain": [
       "  0%|          | 0/1 [00:00<?, ?it/s]"
      ]
     },
     "metadata": {},
     "output_type": "display_data"
    },
    {
     "name": "stdout",
     "output_type": "stream",
     "text": [
      "Dataset text downloaded and prepared to C:\\Users\\Prannaya\\.cache\\huggingface\\datasets\\text\\default-36b949763b8cdb73\\0.0.0\\08f6fb1dd2dab0a18ea441c359e1d63794ea8cb53e7863e6edf8fc5655e47ec4. Subsequent calls will reuse this data.\n"
     ]
    },
    {
     "data": {
      "application/vnd.jupyter.widget-view+json": {
       "model_id": "6bfc199f33a84cd489fce79586929c37",
       "version_major": 2,
       "version_minor": 0
      },
      "text/plain": [
       "  0%|          | 0/1 [00:00<?, ?it/s]"
      ]
     },
     "metadata": {},
     "output_type": "display_data"
    },
    {
     "data": {
      "application/vnd.jupyter.widget-view+json": {
       "model_id": "30e8246cc06f4e59809fd4024948cf66",
       "version_major": 2,
       "version_minor": 0
      },
      "text/plain": [
       "  0%|          | 0/1 [00:00<?, ?ba/s]"
      ]
     },
     "metadata": {},
     "output_type": "display_data"
    },
    {
     "data": {
      "application/vnd.jupyter.widget-view+json": {
       "model_id": "9321691b760f4cc5a7df8f73a4ba0e36",
       "version_major": 2,
       "version_minor": 0
      },
      "text/plain": [
       "  0%|          | 0/37 [00:00<?, ?it/s]"
      ]
     },
     "metadata": {},
     "output_type": "display_data"
    },
    {
     "name": "stdout",
     "output_type": "stream",
     "text": [
      "On a Saturday in March 2020, as Covid-19 was invading the United States, Gov. Andrew M. Cuomo went on CNN for a live interview. Among other topics, he was asked about a possible government-enforced quarantine of New York that had been floated by President Donald J. Trump. {'label': 'Evidence', 'score': 0.6625468134880066}\n",
      "It was a newsworthy topic, but its path onto viewers’ screens would turn out to be controversial — and highly consequential for the future of one of the world’s most powerful news networks. {'label': 'Claim', 'score': 0.4195939302444458}\n",
      "Before the interview, Governor Cuomo had told a senior CNN executive, Allison Gollust, about subjects that he’d like to be asked about on air, according to several people familiar with the matter. Ms. Gollust, CNN’s longtime chief of communications and marketing and a former top aide of the governor, passed along the topics to CNN producers and then reported back to the governor. {'label': 'Evidence', 'score': 0.9698039293289185}\n",
      "“Done,” she wrote. {'label': 'Claim', 'score': 0.6661335229873657}\n",
      "On Tuesday, Ms. Gollust was forced to resign from CNN after an internal investigation found a trove of written communications between her and Governor Cuomo, including messages about the March 2020 appearance, the people said. Jeff Zucker, who at the time was CNN’s president, was aware of many of the communications between Ms. Gollust and the governor, the people said. {'label': 'Evidence', 'score': 0.9225661754608154}\n",
      "The episode is the latest example of how closely entwined CNN’s leadership was with one of the country’s most prominent Democratic politicians. {'label': 'Claim', 'score': 0.7243562936782837}\n",
      "Producers and bookers for television news shows routinely talk with guests before their scheduled appearances and discuss questions and topics that are likely to come up on air. It is unusual, though, for a senior executive to be involved in that pre-interview process — especially when that executive previously worked for the person who’s being interviewed. {'label': 'Evidence', 'score': 0.8450614213943481}\n",
      "Risa Heller, a spokeswoman for Ms. Gollust, said the communications with the governor were appropriate. Ms. Gollust “in no way suggested that inclusion of these topics was a condition of the interview, nor did she suggest the interview should be limited to these subjects,” Ms. Heller said. {'label': 'Evidence', 'score': 0.7667871713638306}\n",
      "She added: “WarnerMedia relying on this everyday practice as justification for dismissing Allison demonstrates how ignorant they are of journalistic practices, and further proves that her dismissal is nothing more than retaliation.” {'label': 'Evidence', 'score': 0.5841470956802368}\n",
      "CNN, whose slogan is “the most trusted name in news,” is facing mounting questions about how its senior executives and its top-rated anchor — Chris Cuomo, the governor’s younger brother — steered coverage of Governor Cuomo, who resigned last summer. {'label': 'Evidence', 'score': 0.5109984278678894}\n",
      "In a memo to employees this week, Jason Kilar, the chief executive of WarnerMedia, which is CNN’s parent company, wrote that Ms. Gollust was resigning after the internal investigation found unspecified “violations of company policies, including CNN’s news standards and practices,” by her, Mr. Zucker and Chris Cuomo. {'label': 'Evidence', 'score': 0.9016107320785522}\n",
      "Her resignation was the latest blow to CNN, which was already reeling in the wake of Mr. Zucker’s abrupt ouster two weeks earlier. Mr. Zucker said he was leaving because he had failed to disclose a romantic relationship with Ms. Gollust. {'label': 'Evidence', 'score': 0.7394388318061829}\n",
      "The internal review, conducted by the law firm of Cravath Swaine & Moore, began last fall with an examination of allegations of workplace misconduct against Chris Cuomo.  {'label': 'Claim', 'score': 0.5007926821708679}\n",
      "Mr. Zucker fired Mr. Cuomo in December, days after the network received a letter claiming that Mr. Cuomo had years earlier sexually assaulted a woman and that he later offered to air a flattering CNN segment about her employer. The woman perceived that as an effort to buy her silence. Mr. Cuomo has denied the allegations. {'label': 'Evidence', 'score': 0.9296104907989502}\n",
      "Mr. Cuomo also came under fire for having closely advised his brother on how to fend off a sexual misconduct scandal that ultimately forced the governor to resign. {'label': 'Claim', 'score': 0.4665948450565338}\n",
      "After Mr. Cuomo’s departure from CNN, the Cravath review took on a life of its own, and it quickly upended the news network. {'label': 'Claim', 'score': 0.5201113820075989}\n",
      "Investigators learned that Mr. Zucker and Ms. Gollust, who had worked closely together on and off for more than two decades, were having a romantic affair that had not been disclosed to human resources or other executives at WarnerMedia. {'label': 'Evidence', 'score': 0.5987403392791748}\n",
      "The Cravath investigators also uncovered extensive written communications between Governor Cuomo and Ms. Gollust, who had briefly worked for the governor in late 2012 and early 2013, the people said. {'label': 'Evidence', 'score': 0.683821439743042}\n",
      "It wasn’t clear what all of those communications were about. {'label': 'Claim', 'score': 0.7091872096061707}\n",
      "But investigators found messages during the pandemic in which Governor Cuomo informed Ms. Gollust about three specific subjects that he wanted to be covered during a March 28, 2020, appearance at CNN, the people said. {'label': 'Rebuttal', 'score': 0.8615080118179321}\n",
      "They said those topics included his recent phone conversation with Mr. Trump and the effect of New York’s being placed under lockdown. {'label': 'Evidence', 'score': 0.7332106828689575}\n",
      "Ms. Gollust then sent messages to CNN staff requesting that the governor be asked about those subjects. {'label': 'Evidence', 'score': 0.5921604633331299}\n",
      "The Cravath lawyers reviewed broadcast transcripts that showed that the anchor asked about the subjects that Ms. Gollust had put forward, the people said. {'label': 'Evidence', 'score': 0.5172919631004333}\n",
      "Ms. Heller, the spokeswoman for Ms. Gollust, said that Ms. Gollust “acted as the principal booker for Governor Cuomo during the early days of the pandemic” and that her role was “well known by the entire network.” {'label': 'Evidence', 'score': 0.855991780757904}\n",
      "It was unclear whether Mr. Zucker knew that Ms. Gollust passed on Governor Cuomo’s request about interview topics. {'label': 'Claim', 'score': 0.5066589117050171}\n",
      "A spokesman for WarnerMedia referred The New York Times to the memo that the company sent to employees on Tuesday night. {'label': 'Evidence', 'score': 0.6736355423927307}\n",
      "The back-to-back exits of Mr. Zucker and Ms. Gollust have raised questions about the future direction of CNN. {'label': 'Claim', 'score': 0.6271766424179077}\n",
      "WarnerMedia, which is owned by AT&T, is set to be spun off and merged with Discovery Inc. in the coming months. {'label': 'Claim', 'score': 0.5544350147247314}\n",
      "WarnerMedia has tried to keep a lid on the internal drama, initially remaining tight-lipped about the circumstances of Mr. Zucker’s departure and then issuing a short, vaguely worded memo on Tuesday night about Ms. Gollust’s departure and unspecified journalistic lapses. {'label': 'Evidence', 'score': 0.5042212605476379}\n",
      "Even in conversations with CNN staff, executives and newsroom leaders have been mostly mum, to the mounting frustration of the network’s journalists and other employees. {'label': 'Evidence', 'score': 0.5147730112075806}\n",
      "In a pair of Zoom meetings on Wednesday with CNN employees, Michael Bass and Ken Jautz, who stepped in as two of the network’s interim leaders after Mr. Zucker’s departure, said Ms. Gollust had committed serious violations of the network’s journalistic standards, four people who attended the virtual meetings said. {'label': 'Evidence', 'score': 0.9393091201782227}\n",
      "WarnerMedia’s top communications official, Christy Haubegger, also said in a staff meeting that Ms. Gollust’s transgressions had “to do with the Cuomos,” three people said. {'label': 'Evidence', 'score': 0.6619644165039062}\n",
      "When employees pressed for more details, Ms. Haubegger said she was barred from saying more. {'label': 'Claim', 'score': 0.7257044315338135}\n",
      "“Actions were taken to defend the institution and the brand,” she said on the call. {'label': 'Claim', 'score': 0.5120884776115417}\n"
     ]
    },
    {
     "name": "stdout",
     "output_type": "stream",
     "text": [
      "Ms. Haubegger urged CNN’s public relations team to try to focus public attention on the network’s journalism, including its foreign correspondents in Ukraine covering that country’s brewing conflict with Russia. {'label': 'Evidence', 'score': 0.7263243198394775}\n",
      "The internal investigation’s findings are especially notable because CNN journalists have repeatedly attacked Fox News personalities like Sean Hannity for having an overly close relationship with Republican leaders, in particular Mr. Trump. {'label': 'Evidence', 'score': 0.5319948196411133}\n",
      "Mr. Trump, in turn, repeatedly accused CNN of being a mouthpiece for Democrats. {'label': 'Claim', 'score': 0.559249222278595}\n"
     ]
    },
    {
     "name": "stderr",
     "output_type": "stream",
     "text": [
      "Using custom data configuration default-7eb9ee19cf97a818\n"
     ]
    },
    {
     "name": "stdout",
     "output_type": "stream",
     "text": [
      "Downloading and preparing dataset text/default to C:\\Users\\Prannaya\\.cache\\huggingface\\datasets\\text\\default-7eb9ee19cf97a818\\0.0.0\\08f6fb1dd2dab0a18ea441c359e1d63794ea8cb53e7863e6edf8fc5655e47ec4...\n"
     ]
    },
    {
     "data": {
      "application/vnd.jupyter.widget-view+json": {
       "model_id": "9045dd33dc6243be8ebb5944c65bb936",
       "version_major": 2,
       "version_minor": 0
      },
      "text/plain": [
       "  0%|          | 0/1 [00:00<?, ?it/s]"
      ]
     },
     "metadata": {},
     "output_type": "display_data"
    },
    {
     "data": {
      "application/vnd.jupyter.widget-view+json": {
       "model_id": "c58dd0bd9bd94ed096c02a269a867579",
       "version_major": 2,
       "version_minor": 0
      },
      "text/plain": [
       "  0%|          | 0/1 [00:00<?, ?it/s]"
      ]
     },
     "metadata": {},
     "output_type": "display_data"
    },
    {
     "name": "stdout",
     "output_type": "stream",
     "text": [
      "Dataset text downloaded and prepared to C:\\Users\\Prannaya\\.cache\\huggingface\\datasets\\text\\default-7eb9ee19cf97a818\\0.0.0\\08f6fb1dd2dab0a18ea441c359e1d63794ea8cb53e7863e6edf8fc5655e47ec4. Subsequent calls will reuse this data.\n"
     ]
    },
    {
     "data": {
      "application/vnd.jupyter.widget-view+json": {
       "model_id": "01aa14f7646f411887983d822d99bf80",
       "version_major": 2,
       "version_minor": 0
      },
      "text/plain": [
       "  0%|          | 0/1 [00:00<?, ?it/s]"
      ]
     },
     "metadata": {},
     "output_type": "display_data"
    },
    {
     "data": {
      "application/vnd.jupyter.widget-view+json": {
       "model_id": "76a96973864f481db5e87d7199ca35de",
       "version_major": 2,
       "version_minor": 0
      },
      "text/plain": [
       "  0%|          | 0/1 [00:00<?, ?ba/s]"
      ]
     },
     "metadata": {},
     "output_type": "display_data"
    },
    {
     "data": {
      "application/vnd.jupyter.widget-view+json": {
       "model_id": "a39d1dcdbd404177bbf15e3ddcfa0af6",
       "version_major": 2,
       "version_minor": 0
      },
      "text/plain": [
       "  0%|          | 0/35 [00:00<?, ?it/s]"
      ]
     },
     "metadata": {},
     "output_type": "display_data"
    },
    {
     "name": "stdout",
     "output_type": "stream",
     "text": [
      "On a Monday morning in February, Harry Hill, 27, showed up at the American Girl Cafe wearing a vintage Christian Dior sweater and carrying a Coach tote that held two of his beloved dolls. He was joined by Serena Kerrigan, 27, who brought her dolls in a pink mesh Victoria’s Secret bag. {'label': 'Evidence', 'score': 0.9235830307006836}\n",
      "Mr. Hill, an influencer, is well documented as a fan: He has posed at a 7-Eleven dressed identically to one of his dolls on Instagram. He dressed as the Samantha doll for Halloween and created a series of memes made with American Girl dolls. {'label': 'Evidence', 'score': 0.9538633227348328}\n",
      "Ms. Kerrigan, also an influencer, was dressed by her stylist in “head-to-toe Zara” — a Kelly green skirt suit with feather cuffs. “I am the green M&M,” she said of her outfit. Like the previous iteration of the green M&M character, Ms. Kerrigan’s personal brand can be ribald. {'label': 'Evidence', 'score': 0.9536901712417603}\n",
      "The last time she and Mr. Hill came to American Girl Place, she made a TikTok video in which she got her Samantha doll checked for S.T.I.s at the store’s doll hospital. {'label': 'Evidence', 'score': 0.6030452847480774}\n",
      "The two were far from the first adults to show up — with dolls — to hang out there. {'label': 'Claim', 'score': 0.6204659342765808}\n",
      "“Come with me to get absolutely obliterated at the American Girl Doll Cafe,” begins a TikTok video titled “American Girls grow into American Women,” uploaded by the comedian Sally Darr Griffin. {'label': 'Evidence', 'score': 0.4990297257900238}\n",
      "In the video, Ms. Griffin, 25, shouts out the labels she’s wearing — “Dress is Hill House, sunglasses are Coach” — then takes the first sip of what will be four mimosas, supplemented with a tiny nip of vodka that she smuggled into the American Girl Cafe at the Grove shopping mall in Los Angeles. {'label': 'Evidence', 'score': 0.9615163207054138}\n",
      "Ms. Griffin was joined by four other women in their 20s, each accompanied by a doll seated in a chair attached to the table. {'label': 'Evidence', 'score': 0.6734141111373901}\n",
      "“I was not obliterated,” Ms. Griffin clarified in a Zoom interview. “It’s just better to say that for the clicks.” {'label': 'Evidence', 'score': 0.4183952212333679}\n",
      "The clicks came. Ms. Griffin’s video amassed more than 600,000 views on TikTok, and a micro-trend of grown folks dining and drinking with dolls was born. {'label': 'Evidence', 'score': 0.8981978297233582}\n",
      "It’s not a wholly novel concept for adults to return to kid-centric locations for a dose of nostalgia and irony. Goths descended on Disneyland for an annual trip called “Bats Day in the Fun Park” for decades. Liana Aghajanian, a journalist in Detroit, wrote that she celebrated her birthdays at Chuck E. Cheese locations even in adulthood as a homage to happy childhood memories as a first-generation American. {'label': 'Evidence', 'score': 0.9581606388092041}\n",
      "Of the dozen American Girl Place locations, five feature full-service restaurants that serve items like cinnamon buns, macaroni and cheese, and smoothies, along with an extensive dessert menu. The original Chicago location, which opened in 1998, secured a full liquor license so it could host galas and benefits. New York is the only other location that serves liquor, but beer and wine are served at all of the cafes. {'label': 'Evidence', 'score': 0.9922877550125122}\n",
      "A representative for the company said that it doesn’t condone its dolls engaging in age-inappropriate behavior such as drinking alcohol, but the company welcomes American Girl fans of all ages. {'label': 'Evidence', 'score': 0.7289145588874817}\n",
      "Jamie Cygielman, the president of American Girl, wrote in a statement, “We know our devoted fans never forget the beloved American Girl characters and stories they grew up with, and we’re thrilled to have them reconnect and reminisce with us as adults.” {'label': 'Evidence', 'score': 0.8085130453109741}\n",
      "The New York cafe, where Ms. Kerrigan and Mr. Hill recorded their social media content, features cutesy touches like tiny bows tied to each cloth napkin. The banquettes are berry colored, and the photo-ready walls feature bright patterns set against crisp whites. {'label': 'Evidence', 'score': 0.9829056262969971}\n",
      "Even the cafe’s soundtrack, which mixes 1980s pop staples with campy original songs written about the American Girl characters, seems tuned to the whims of Gen Zers and millennials looking for immersive settings for their social media feeds. {'label': 'Evidence', 'score': 0.5262859463691711}\n",
      "American Girl Place retail stores in the United States sell a wide variety of toys and accessories centered on upscale dolls, whose prices start at around $100. Each doll has a back story that locates her in a specific era of American history. {'label': 'Evidence', 'score': 0.939879834651947}\n",
      "The first dolls, released in 1986, were Molly, a bookish girl from the 1940s; Kirsten, a pioneer from Sweden; and Samantha, an orphan adopted into a posh New York family during the Edwardian era. Each doll stars in historical novellas, which are sold separately. {'label': 'Evidence', 'score': 0.9727559089660645}\n",
      "Some American Girl fans identify with one doll’s personality, referring to themselves as “an Addy” or “a Felicity.” {'label': 'Evidence', 'score': 0.42754003405570984}\n",
      "When a staff member overheard me bemoaning the fact that Molly never gets her due among American Girl fans, she brought me a Molly doll and clipped her chair to the rim of my table. {'label': 'Evidence', 'score': 0.8339250683784485}\n",
      "Since 1986, many more characters have been added to the American Girl roster, expanding the eras and ethnicities represented by the dolls. American Girl also sells custom dolls, and introduced Logan, its first American Boy, in 2017. {'label': 'Evidence', 'score': 0.9467638731002808}\n",
      "For some adults, the American Girl Place retail locations loomed large in their childhood psyches. Ms. Kerrigan, who appeared in a New York Daily News story about American Girl Place’s opening, has been a fan of the brand since she was 4. {'label': 'Evidence', 'score': 0.8860629796981812}\n",
      "“It’s literally my dream come true,” Ms. Kerrigan said, of returning to the store as an adult. {'label': 'Evidence', 'score': 0.38436952233314514}\n",
      "Her dining companion was similarly effusive. “It’s Disneyland for literary girls and gays,” said Mr. Hill in a Zoom interview. {'label': 'Evidence', 'score': 0.7451676726341248}\n",
      "The company has taken notice of Mr. Hill’s enthusiasm. At an event for the luggage company Stoney Clover Lane in October, Ms. Cygielman recognized Mr. Hill and introduced herself. The company also hosted him as its guest at the Manhattan cafe a few weeks ago. {'label': 'Evidence', 'score': 0.97519850730896}\n",
      "On this occasion, the two influencers posed for selfies, recorded content and mugged for their phones as servers brought several courses that included cinnamon buns, crudités, buttered noodles and chicken fingers. {'label': 'Evidence', 'score': 0.8932410478591919}\n",
      "The vast cafe was mostly empty apart from five other parties, each made up of children and their chaperones. Mr. Hill and Ms. Kerrigan took their seats, got their dolls situated and toasted rose martinis served in glasses rimmed with pink sugar. {'label': 'Evidence', 'score': 0.9763884544372559}\n",
      "For some, 11:30 is early for a drink, but Mr. Hill had already spent the morning mixing water with cranberry juice to simulate cocktails for a sponsored Instagram post. This time the vodka was real. {'label': 'Evidence', 'score': 0.9457033276557922}\n",
      "Dessert was particularly well suited for Instagram, with a rainbow layer cake modeled from an American Girl toy set, a cup of chocolate mousse meant to look like a potted daisy, and heart-shaped sugar cookies with an accompanying D.I.Y. frosting kit, all served by a remarkably attentive and gracious staff. {'label': 'Evidence', 'score': 0.9769341349601746}\n",
      "The store comped their meal, as they sometimes do for influencers, but Ms. Kerrigan insisted on running her credit card so she could tip their server. As she and Mr. Hill began to pack up their dolls, a party of six adults and no children was seated nearby. {'label': 'Evidence', 'score': 0.985156774520874}\n",
      "They were visiting from Austin, Texas, to celebrate Timothy Flitton’s 33rd birthday. They were inspired to have their birthday party at the American Girl Cafe after seeing Ms. Griffin’s TikTok video. Like Ms. Griffin, they ordered mimosas. {'label': 'Evidence', 'score': 0.9815793037414551}\n"
     ]
    },
    {
     "name": "stdout",
     "output_type": "stream",
     "text": [
      "“We’re living our millennial fantasy,” said Mx. Flitton, who sported aquamarine hair and a rainbow sweater. Kaylan Howard, a friend, agreed. {'label': 'Evidence', 'score': 0.48563459515571594}\n",
      "“They were too expensive when I was a child,” Ms. Howard, 32, said of the dolls. “And now we can afford it, should we want it.” She didn’t want it, but said she appreciated the gratis loaners they were each given for the meal. {'label': 'Evidence', 'score': 0.9432560205459595}\n",
      "A server emerged from the kitchen carrying a birthday cake shaped like a giant petit four. Mx. Flitton and the rest of the party erupted in applause. {'label': 'Lead', 'score': 0.5359991192817688}\n",
      "The cheers died down as the waiter walked past the table. The cake was for someone seated behind them who was celebrating her ninth birthday. {'label': 'Evidence', 'score': 0.7414999604225159}\n"
     ]
    },
    {
     "name": "stderr",
     "output_type": "stream",
     "text": [
      "Using custom data configuration default-7bfce597a2e65be1\n"
     ]
    },
    {
     "name": "stdout",
     "output_type": "stream",
     "text": [
      "Downloading and preparing dataset text/default to C:\\Users\\Prannaya\\.cache\\huggingface\\datasets\\text\\default-7bfce597a2e65be1\\0.0.0\\08f6fb1dd2dab0a18ea441c359e1d63794ea8cb53e7863e6edf8fc5655e47ec4...\n"
     ]
    },
    {
     "data": {
      "application/vnd.jupyter.widget-view+json": {
       "model_id": "561903d2ec884d85b6ae9719a943161f",
       "version_major": 2,
       "version_minor": 0
      },
      "text/plain": [
       "  0%|          | 0/1 [00:00<?, ?it/s]"
      ]
     },
     "metadata": {},
     "output_type": "display_data"
    },
    {
     "data": {
      "application/vnd.jupyter.widget-view+json": {
       "model_id": "354ddfb8bff741b9a45e3b451014031d",
       "version_major": 2,
       "version_minor": 0
      },
      "text/plain": [
       "  0%|          | 0/1 [00:00<?, ?it/s]"
      ]
     },
     "metadata": {},
     "output_type": "display_data"
    },
    {
     "name": "stdout",
     "output_type": "stream",
     "text": [
      "Dataset text downloaded and prepared to C:\\Users\\Prannaya\\.cache\\huggingface\\datasets\\text\\default-7bfce597a2e65be1\\0.0.0\\08f6fb1dd2dab0a18ea441c359e1d63794ea8cb53e7863e6edf8fc5655e47ec4. Subsequent calls will reuse this data.\n"
     ]
    },
    {
     "data": {
      "application/vnd.jupyter.widget-view+json": {
       "model_id": "e27ee5dc7b224387a8e87103e87b6d57",
       "version_major": 2,
       "version_minor": 0
      },
      "text/plain": [
       "  0%|          | 0/1 [00:00<?, ?it/s]"
      ]
     },
     "metadata": {},
     "output_type": "display_data"
    },
    {
     "data": {
      "application/vnd.jupyter.widget-view+json": {
       "model_id": "62ecff01aa07418f900d5600ec331cbe",
       "version_major": 2,
       "version_minor": 0
      },
      "text/plain": [
       "  0%|          | 0/1 [00:00<?, ?ba/s]"
      ]
     },
     "metadata": {},
     "output_type": "display_data"
    },
    {
     "data": {
      "application/vnd.jupyter.widget-view+json": {
       "model_id": "30670b4bb13e4c918b3c5c2e1205dc98",
       "version_major": 2,
       "version_minor": 0
      },
      "text/plain": [
       "  0%|          | 0/23 [00:00<?, ?it/s]"
      ]
     },
     "metadata": {},
     "output_type": "display_data"
    },
    {
     "name": "stdout",
     "output_type": "stream",
     "text": [
      "LONDON — In a royal family where scandal seems to rotate among its members with nearly metronomic regularity, one might have predicted that Tuesday’s news that Prince Andrew had settled a sexual abuse lawsuit against him would soon be followed by a fresh, troubling disclosure about another royal. {'label': 'Evidence', 'score': 0.7766624093055725}\n",
      "Sure enough, not 24 hours later, London’s Metropolitan Police announced an investigation into allegations that a charity led by Prince Charles offered to help with a knighthood and British citizenship for a wealthy Saudi in return for a donation. A spokesman for Charles insisted that he had no knowledge of any deal. {'label': 'Evidence', 'score': 0.7256742119789124}\n",
      "For Queen Elizabeth II, it was a fraught start to a year that is supposed to celebrate her seven decades on the throne. And yet for all the questions surrounding the Prince’s Foundation — which have already led to the resignation of its chief executive — the downfall of Prince Andrew is likely to leave a more lasting stain on the House of Windsor. {'label': 'Evidence', 'score': 0.700318455696106}\n",
      "While Andrew, the queen’s second son, did not admit guilt in the settlement, he was forced to commend Virginia Giuffre, who accused him of raping her when she was a teenager, for her bravery in coming forward. He also agreed to pay her a sum that London newspapers reported to be more than $13 million. {'label': 'Evidence', 'score': 0.8396693468093872}\n",
      "“We are in new waters,” said Ed Owens, a historian who has written about the relationship between the media and the monarchy. “This kind of case has never been brought against a member of the royal family. That’s why we’re witnessing the family having so much trouble moving on from this.” {'label': 'Evidence', 'score': 0.7531160712242126}\n",
      "The prospect of days of unsavory testimony from Ms. Giuffre about her experiences with Andrew was evidently so sobering that it persuaded the prince and the royal family to put an end to the case, at very high cost in money and reputation, even after Andrew, 61, had vowed he would fight to clear his name. {'label': 'Evidence', 'score': 0.6289101839065552}\n",
      "For all the differences, the troubles of Andrew and Charles both raise murky questions about money and how it moves in the opaque world of royalty. Who will pay Andrew’s settlement remains a mystery: analysts who track the family’s wealth say it is unlikely that he could pay it without help from the queen or others. {'label': 'Concluding Statement', 'score': 0.8952858448028564}\n",
      "In the case of Charles, the question is whether his onetime closest adviser, Michael Fawcett, offered a Saudi billionaire, Mahfouz bin Mahfouz, help with his application for British citizenship, as well as a knighthood, while he was also soliciting him for a donation of 10 million pounds ($13.5 million). Mr. Mahfouz has denied any wrongdoing. {'label': 'Evidence', 'score': 0.9014642238616943}\n",
      "“It’s bringing to light the secrecy and silence that exists over the royal finances,” Mr. Owens said. “The fact that there is this lack of transparency is going to become increasingly difficult in this social media-driven world. People are more sensitive to the obfuscation.” {'label': 'Evidence', 'score': 0.8573813438415527}\n",
      "The Sunday Times and the Mail on Sunday reported the allegations about a “cash-for-honors” deal at the Prince’s Foundation last year, the charity commissioned an independent investigation, and Mr. Fawcett resigned as its chief executive.  {'label': 'Evidence', 'score': 0.8764297366142273}\n",
      "The police said on Wednesday that they had enough evidence to open a formal investigation of whether the foundation violated a 1925 law that prohibits the sale of peerages or other royal honors. It is using the same unit that is investigating whether social gatherings at Downing Street violated coronavirus lockdown restrictions. {'label': 'Evidence', 'score': 0.9686087369918823}\n",
      "If Scotland Yard uncovers evidence that Charles knew about a potential quid-pro-quo, royal experts said, that would pose a grave risk to the 73-year-old heir to the throne. Even without the involvement of Charles, it could cast a harsh spotlight on the aggressive methods of the prince’s lieutenants. {'label': 'Evidence', 'score': 0.7406442761421204}\n",
      "For the 95-year-old queen, the threat to Charles is, in some ways, an even bigger headache than Andrew’s disgrace. With her own recent health problems and her Platinum Jubilee celebrations looming, she has been moving to put the family’s affairs in order. She declared recently, for example, that when Charles ascends to the throne, his wife, Camilla, should be known as queen. {'label': 'Evidence', 'score': 0.9845671653747559}\n",
      "But this week has served as a reminder of her fragility. On Wednesday, when two visitors to Windsor Castle asked her how she was, the queen, smiling and clutching a walking stick, gestured to her legs, and said, “Well, as you see, I can’t move.” {'label': 'Rebuttal', 'score': 0.735876202583313}\n",
      "“The clock is ticking,” said Peter Hunt, a former royal correspondent for the BBC. “They’re desperately trying to clear the path for Charles. Now, on that path is suddenly strewn Michael Fawcett.” {'label': 'Lead', 'score': 0.4778062403202057}\n",
      "Cash-for-honors scandals are a familiar, if unseemly, fixture in British politics. Both the Conservative and Labour parties have been ensnared in them. The allegations against Andrew, by contrast, are of a wholly different nature — amplified by the #MeToo movement and darkened by the prince’s association with the financier and convicted sex offender, Jeffrey Epstein. {'label': 'Evidence', 'score': 0.8752453327178955}\n",
      "Having failed to persuade a judge to dismiss the case, Andrew faced the prospect of being interviewed under oath by Ms. Giuffre’s lawyers. In her suit, she claimed that the prince had abused her, including subjecting her to “involuntary sexual intercourse,” at Mr. Epstein’s houses in New York and in the Caribbean. {'label': 'Evidence', 'score': 0.7707527875900269}\n",
      "“The imperative for Andrew was to settle before the deposition was taken in late March,” said Daniel Taylor, a lawyer in London who has represented clients in privacy cases against the tabloids for phone hacking. {'label': 'Evidence', 'score': 0.6968757510185242}\n",
      "The fact that Andrew settled the case seems to have added to the sense of public scorn, even though out-of-court settlements are as common in Britain as they are in the United States. The headlines in London’s tabloids summed up the prevailing disgust. {'label': 'Evidence', 'score': 0.664092481136322}\n",
      "“His Final Disgrace,” thundered the Sun. “Andrew cuts sex case deal … But there’s no way back,” said the Daily Express. “Royal wrong’un pays out to sex victim he’s never met. As you do,” said the Daily Star, referring to Andrew’s assertion, in a misbegotten 2019 interview with the BBC, that he had “no recollection” of ever meeting Ms. Giuffre. {'label': 'Evidence', 'score': 0.928303599357605}\n",
      "The Star ran the headline over a now-familiar photo taken in a London townhouse, which appeared to show Andrew with his arm around the girl’s bare waist, as Mr. Epstein’s former girlfriend, Ghislaine Maxwell, smiled in the background. {'label': 'Evidence', 'score': 0.873932957649231}\n",
      "Buckingham Palace has banished Andrew to internal exile, stripping him of his honorary military titles and his official duties, and warned there would be no rehabilitation. But it left unclear whether the queen, who earns more than $30 million a year from vast private real estate holdings, would help pay the settlement. {'label': 'Evidence', 'score': 0.9469122886657715}\n",
      "“The short answer is, he doesn’t have enough,” said David McClure, the author of “Royal Legacy,” a book on the monarchy’s finances. “The queen does have enough. And paying 10 million pounds is a relatively small amount compared to the reputational damage that could be done to the family with a court case.” {'label': 'Evidence', 'score': 0.48833927512168884}\n"
     ]
    },
    {
     "name": "stderr",
     "output_type": "stream",
     "text": [
      "Using custom data configuration default-2dad5fdc01a92483\n"
     ]
    },
    {
     "name": "stdout",
     "output_type": "stream",
     "text": [
      "Downloading and preparing dataset text/default to C:\\Users\\Prannaya\\.cache\\huggingface\\datasets\\text\\default-2dad5fdc01a92483\\0.0.0\\08f6fb1dd2dab0a18ea441c359e1d63794ea8cb53e7863e6edf8fc5655e47ec4...\n"
     ]
    },
    {
     "data": {
      "application/vnd.jupyter.widget-view+json": {
       "model_id": "55a26abaf8974b90b833ab2bec8cb41f",
       "version_major": 2,
       "version_minor": 0
      },
      "text/plain": [
       "  0%|          | 0/1 [00:00<?, ?it/s]"
      ]
     },
     "metadata": {},
     "output_type": "display_data"
    },
    {
     "data": {
      "application/vnd.jupyter.widget-view+json": {
       "model_id": "f5682e370c9b411eae6d88303a055cf0",
       "version_major": 2,
       "version_minor": 0
      },
      "text/plain": [
       "  0%|          | 0/1 [00:00<?, ?it/s]"
      ]
     },
     "metadata": {},
     "output_type": "display_data"
    },
    {
     "name": "stdout",
     "output_type": "stream",
     "text": [
      "Dataset text downloaded and prepared to C:\\Users\\Prannaya\\.cache\\huggingface\\datasets\\text\\default-2dad5fdc01a92483\\0.0.0\\08f6fb1dd2dab0a18ea441c359e1d63794ea8cb53e7863e6edf8fc5655e47ec4. Subsequent calls will reuse this data.\n"
     ]
    },
    {
     "data": {
      "application/vnd.jupyter.widget-view+json": {
       "model_id": "ae7f800f0d1d44e6b20bf8b03fe5f7c1",
       "version_major": 2,
       "version_minor": 0
      },
      "text/plain": [
       "  0%|          | 0/1 [00:00<?, ?it/s]"
      ]
     },
     "metadata": {},
     "output_type": "display_data"
    },
    {
     "data": {
      "application/vnd.jupyter.widget-view+json": {
       "model_id": "16b9f671e78b4dbf9247cb7564fb25cd",
       "version_major": 2,
       "version_minor": 0
      },
      "text/plain": [
       "  0%|          | 0/1 [00:00<?, ?ba/s]"
      ]
     },
     "metadata": {},
     "output_type": "display_data"
    },
    {
     "data": {
      "application/vnd.jupyter.widget-view+json": {
       "model_id": "7c5c8a2685f84209b373ec204b07d709",
       "version_major": 2,
       "version_minor": 0
      },
      "text/plain": [
       "  0%|          | 0/23 [00:00<?, ?it/s]"
      ]
     },
     "metadata": {},
     "output_type": "display_data"
    },
    {
     "name": "stdout",
     "output_type": "stream",
     "text": [
      "This article is part of the On Tech newsletter. Here is a collection of past columns. {'label': 'Lead', 'score': 0.7628713846206665}\n",
      "If the tech predictions pan out, we’ll soon be wearing computers on our faces and plugging into immersive realms of virtual people and places, perhaps blended with the real world around us. {'label': 'Claim', 'score': 0.5435035824775696}\n",
      "(I don’t want to use the buzzword “metaverse” here, because ugh. This term from science fiction has been applied to anything and everything that we should just call the internet. But that’s partly what I’m talking about.) {'label': 'Position', 'score': 0.3765868544578552}\n",
      "I am both apprehensive and excited about the potential next generation of technologies that may further blur the lines between computers and us, and between online and real life. I can get into the idea of glasses that let me scroll restaurant menu items and feel as if the sizzling burger is in front of me, or into headgear that lets me exercise next to a virtual lake in Patagonia. {'label': 'Evidence', 'score': 0.6500239372253418}\n",
      "No one can predict how long it might take this imagined future of the internet to come true and go mainstream, if it ever does. But if computers on our faces and more lifelike digital realities are coming for us, let’s start thinking through the implications now. {'label': 'Concluding Statement', 'score': 0.4643705487251282}\n",
      "I don’t have a fleshed out good humans’ guidebook for the metaverse. (Ugh, that word again.) But I know that instead of letting Mark Zuckerberg or the Apple chief executive Tim Cook decide on the etiquette, ethics, norms, rewards and risks of our potential brave new world of technology, we need to do it. {'label': 'Concluding Statement', 'score': 0.41556909680366516}\n",
      "How we use technology shouldn’t be left to the companies that dream up electronics and software. It should be up to us, individually and collectively. That can happen by deliberate thought and careful design, or by the lack of it. {'label': 'Evidence', 'score': 0.3425034284591675}\n",
      "I’m writing this now because Apple reportedly plans to introduce its first computers for the face in the next year or so.  {'label': 'Claim', 'score': 0.43124496936798096}\n",
      "Apple appears to imagine that its face computers — similar to Microsoft’s HoloLens, Snap’s experimental Spectacles or the failed Google Glass — will blend virtual images with the world around us, sometimes called “augmented reality.” Imagine watching a fix-it video of a car engine while a guide overlays diagrams on the fan belt that you’re trying to repair.  {'label': 'Evidence', 'score': 0.9721943140029907}\n",
      "Apple has a reputation for making up-and-coming technology go mass market. We’ll see, but it’s clear that there will be a lot of activity and attention on face computers and immersive technologies in all forms. (Counterpoint: Some tech experts have predicted the rise of face computers for most of the past decade.) {'label': 'Lead', 'score': 0.5395137071609497}\n",
      "What I want all of us to do — whether we don’t get the fuss over virtual reality or love it — is to begin deliberating over where we want to focus the promise of this technology and limit the risks. {'label': 'Claim', 'score': 0.4017264246940613}\n",
      "I’m mindful of what has gone wrong when we allowed technology to wash over us and tried to figure out the details later. {'label': 'Claim', 'score': 0.5572004318237305}\n",
      "Partly through an unwillingness or inability to imagine what could go wrong with technology, we have websites and apps that track us everywhere we go, and that sell the information to the highest bidders. We have carmakers that sometimes protect us with clever tech that helps offset human frailties, and other times seem to exacerbate them. We have the best aspects of human interactions online, and the worst. {'label': 'Evidence', 'score': 0.9511705636978149}\n",
      "We should think about this stuff now, before we might all be wearing supercomputers on our faces.  {'label': 'Claim', 'score': 0.5326799750328064}\n",
      "What do we want from this technology? Can we imagine schools, offices or comedy clubs in virtual reality? What do we want from the next generation of immersive internet for our kids? Do we want to drive while our headgear flings tweets into our fields of vision? Do we even want to erase the gap between digital life and real life? {'label': 'Lead', 'score': 0.8846819400787354}\n",
      "It might be misguided to establish norms and laws around technologies that might take many years to become big. But tech companies and technologists aren’t waiting. They’re molding their imagined future of the internet now. If we don’t engage, that puts the companies in the driver’s seat. And we’ve seen the downside of that.  {'label': 'Evidence', 'score': 0.7208818197250366}\n",
      "With the holiday season upon us, we want to hear from our readers about the new ways that you’re using technology (apps, social media, websites, gadgets or more) to help you plan your travel, parties, shopping or family time. Tell us about an app or site you use during the holidays and what makes it helpful, or the tech you stopped using and why. We may publish a selection of the responses in an upcoming newsletter. Email ontech@nytimes.com. {'label': 'Evidence', 'score': 0.48155200481414795}\n",
      "Tracking the Chinese propaganda and censorship machine: After the Chinese tennis star Peng Shuai accused a former high-ranking government official of sexual assault, she vanished from public life. My colleagues and ProPublica analyzed how Chinese state media, amplified by a network of fake social media accounts, circulated messages that Shuai was safe and free.  {'label': 'Evidence', 'score': 0.9896761775016785}\n",
      "Reading this will make you hungry: One man has made it his mission to have Mexico City’s street food vendors listed in Google Maps, Rest of World reported. {'label': 'Evidence', 'score': 0.5388134717941284}\n",
      "A gazillion speedy delivery apps. With similar fonts: A brand expert writes for Bloomberg Opinion about the similar italics, avocado photos and “bed-headed, bucket-hatted ‘cheat day’ mood of indulgence” used by start-ups like Gopuff, Getir, Fridge No More and Jokr that deliver convenience and grocery items in 15 minutes or less. (A subscription may be required.) {'label': 'Evidence', 'score': 0.9914944171905518}\n",
      "“Behold the fearsome Tyrannosaurus rex — all swaddled in a cozy Christmas sweater.” {'label': 'Evidence', 'score': 0.3294486701488495}\n",
      "We want to hear from you. Tell us what you think of this newsletter and what else you’d like us to explore. You can reach us at ontech@nytimes.com. {'label': 'Evidence', 'score': 0.39380958676338196}\n",
      "If you don’t already get this newsletter in your inbox, please sign up here. You can also read past On Tech columns. {'label': 'Concluding Statement', 'score': 0.4619752764701843}\n"
     ]
    },
    {
     "name": "stderr",
     "output_type": "stream",
     "text": [
      "Using custom data configuration default-cbd25a2499844d44\n"
     ]
    },
    {
     "name": "stdout",
     "output_type": "stream",
     "text": [
      "Downloading and preparing dataset text/default to C:\\Users\\Prannaya\\.cache\\huggingface\\datasets\\text\\default-cbd25a2499844d44\\0.0.0\\08f6fb1dd2dab0a18ea441c359e1d63794ea8cb53e7863e6edf8fc5655e47ec4...\n"
     ]
    },
    {
     "data": {
      "application/vnd.jupyter.widget-view+json": {
       "model_id": "da8460be354342d49b162a5ec7ae04e3",
       "version_major": 2,
       "version_minor": 0
      },
      "text/plain": [
       "  0%|          | 0/1 [00:00<?, ?it/s]"
      ]
     },
     "metadata": {},
     "output_type": "display_data"
    },
    {
     "data": {
      "application/vnd.jupyter.widget-view+json": {
       "model_id": "d6115bf203fe4940a7cf11a34dd7dba1",
       "version_major": 2,
       "version_minor": 0
      },
      "text/plain": [
       "  0%|          | 0/1 [00:00<?, ?it/s]"
      ]
     },
     "metadata": {},
     "output_type": "display_data"
    },
    {
     "name": "stdout",
     "output_type": "stream",
     "text": [
      "Dataset text downloaded and prepared to C:\\Users\\Prannaya\\.cache\\huggingface\\datasets\\text\\default-cbd25a2499844d44\\0.0.0\\08f6fb1dd2dab0a18ea441c359e1d63794ea8cb53e7863e6edf8fc5655e47ec4. Subsequent calls will reuse this data.\n"
     ]
    },
    {
     "data": {
      "application/vnd.jupyter.widget-view+json": {
       "model_id": "21ff65b12e3f4abbbfc625be15c3124f",
       "version_major": 2,
       "version_minor": 0
      },
      "text/plain": [
       "  0%|          | 0/1 [00:00<?, ?it/s]"
      ]
     },
     "metadata": {},
     "output_type": "display_data"
    },
    {
     "data": {
      "application/vnd.jupyter.widget-view+json": {
       "model_id": "914bbdad26bd475aad43195eaa0ac580",
       "version_major": 2,
       "version_minor": 0
      },
      "text/plain": [
       "  0%|          | 0/1 [00:00<?, ?ba/s]"
      ]
     },
     "metadata": {},
     "output_type": "display_data"
    },
    {
     "data": {
      "application/vnd.jupyter.widget-view+json": {
       "model_id": "b3606327b7a647e4ba5be8b742238083",
       "version_major": 2,
       "version_minor": 0
      },
      "text/plain": [
       "  0%|          | 0/8 [00:00<?, ?it/s]"
      ]
     },
     "metadata": {},
     "output_type": "display_data"
    },
    {
     "name": "stdout",
     "output_type": "stream",
     "text": [
      "For a few weeks in February if the conditions are just right, for about 10 minutes around sunset, one waterfall in Yosemite National Park looks more like its opposite — a firefall. {'label': 'Evidence', 'score': 0.6506387591362}\n",
      "Visitors who flocked to the California park last week, many with cameras in tow, have not been disappointed by the glowing transformation of Horsetail Fall, which flows from El Capitan. {'label': 'Claim', 'score': 0.4911796748638153}\n",
      "“In the over 20 years I have been photographing the firefall and leading workshops there in Yosemite, I have never seen a more spectacular one,” said Michael Mariant, a photographer from Morro Bay, Calif., who leads teaching trips to Yosemite. {'label': 'Evidence', 'score': 0.8820597529411316}\n",
      "The phenomenon occurs if there has been enough snow and rain in the Sierra Mountains to fuel the waterfall, if the skies are clear and if the setting sun strikes the water at an angle that creates the illusion of lava. {'label': 'Evidence', 'score': 0.9039559364318848}\n",
      "Mike Gauthier, the park’s chief of staff, said that he was not sure if it was definitely the best firefall ever. But it certainly trumps the firefall the last few years, when drought turned Horsetail Fall mostly dry. {'label': 'Evidence', 'score': 0.7162582278251648}\n",
      "This cascade of glowing water is a natural alternative to another, discontinued Yosemite firefall tradition. {'label': 'Claim', 'score': 0.7649626135826111}\n",
      "In the 1870s, the owners of a hotel in the park started dumping embers from a cooling fire off a cliff. From Curry Village, a camping and lodging area below, this happened to look like a flowing fire, and spectators would gather to marvel at the sight. Mr. Gauthier said that it ended in 1968 because of changes in the way officials thought about national parks — as sites for enjoying the natural world, not places for artificial spectacle. {'label': 'Evidence', 'score': 0.9842155575752258}\n",
      "The current Horsetail Fall phenomenon, traditionally viewed from points east of El Capitan, is expected to last at least for a few more days, according to Mr. Gauthier, when the sun still sets at the golden angle. {'label': 'Evidence', 'score': 0.6870169639587402}\n"
     ]
    },
    {
     "name": "stderr",
     "output_type": "stream",
     "text": [
      "Using custom data configuration default-e1b2a9f5882f2331\n"
     ]
    },
    {
     "name": "stdout",
     "output_type": "stream",
     "text": [
      "Downloading and preparing dataset text/default to C:\\Users\\Prannaya\\.cache\\huggingface\\datasets\\text\\default-e1b2a9f5882f2331\\0.0.0\\08f6fb1dd2dab0a18ea441c359e1d63794ea8cb53e7863e6edf8fc5655e47ec4...\n"
     ]
    },
    {
     "data": {
      "application/vnd.jupyter.widget-view+json": {
       "model_id": "743eba76a81b403dbca00350b978eae9",
       "version_major": 2,
       "version_minor": 0
      },
      "text/plain": [
       "  0%|          | 0/1 [00:00<?, ?it/s]"
      ]
     },
     "metadata": {},
     "output_type": "display_data"
    },
    {
     "data": {
      "application/vnd.jupyter.widget-view+json": {
       "model_id": "4d2f732e57d3447982427be4d0191943",
       "version_major": 2,
       "version_minor": 0
      },
      "text/plain": [
       "  0%|          | 0/1 [00:00<?, ?it/s]"
      ]
     },
     "metadata": {},
     "output_type": "display_data"
    },
    {
     "name": "stdout",
     "output_type": "stream",
     "text": [
      "Dataset text downloaded and prepared to C:\\Users\\Prannaya\\.cache\\huggingface\\datasets\\text\\default-e1b2a9f5882f2331\\0.0.0\\08f6fb1dd2dab0a18ea441c359e1d63794ea8cb53e7863e6edf8fc5655e47ec4. Subsequent calls will reuse this data.\n"
     ]
    },
    {
     "data": {
      "application/vnd.jupyter.widget-view+json": {
       "model_id": "6ec21d879aa7468c9fe84a8d50c8c816",
       "version_major": 2,
       "version_minor": 0
      },
      "text/plain": [
       "  0%|          | 0/1 [00:00<?, ?it/s]"
      ]
     },
     "metadata": {},
     "output_type": "display_data"
    },
    {
     "data": {
      "application/vnd.jupyter.widget-view+json": {
       "model_id": "c165c1fbdcf14c7b9a205dac30c24ed1",
       "version_major": 2,
       "version_minor": 0
      },
      "text/plain": [
       "  0%|          | 0/1 [00:00<?, ?ba/s]"
      ]
     },
     "metadata": {},
     "output_type": "display_data"
    },
    {
     "data": {
      "application/vnd.jupyter.widget-view+json": {
       "model_id": "ef169a36037e4617b23abdc9cfafbd16",
       "version_major": 2,
       "version_minor": 0
      },
      "text/plain": [
       "  0%|          | 0/36 [00:00<?, ?it/s]"
      ]
     },
     "metadata": {},
     "output_type": "display_data"
    },
    {
     "name": "stdout",
     "output_type": "stream",
     "text": [
      "Moments after the Australian government announced that it would reopen the country’s borders to international travelers later this month, Emily Barrett locked in a fare for a flight to Sydney. The 32-year-old nanny from Palo Alto, Calif., spent three days researching and talking to Australian friends before she decided to book her trip to the island continent, which for two years had some of the world’s strictest border controls and longest lockdowns aimed at controlling the spread of the coronavirus. {'label': 'Evidence', 'score': 0.986412763595581}\n",
      "“They all said, ‘if we go back into a lockdown now, people will go into the streets,’” she said. Her two-week trip is scheduled to start a few days after the border opens on Feb. 21. {'label': 'Evidence', 'score': 0.8587943911552429}\n",
      "Potential travelers and tourism operators alike are cautiously optimistic about the reopening of “Fortress Australia,” but many wonder if the isolated nation’s ongoing Covid restrictions — such as vaccine and testing requirements, as well as mask mandates — will make the return of international travel more of a trickle than a splash. Australia’s reputation for rigidity and reclusiveness during the pandemic — at odds with the inviting, easygoing nature portrayed by the country’s tourism boards — may also be a hurdle to overcome. {'label': 'Evidence', 'score': 0.6218515038490295}\n",
      "“There is no doubt that a full recovery will take time, but we are confident that the demand for Australia is strong,” said Phillipa Harrison, the managing director of Tourism Australia, the country’s tourism board. {'label': 'Evidence', 'score': 0.6076861023902893}\n",
      "Tourism was one of the fastest growing sectors in Australia’s economy before the pandemic, contributing 45 billion Australian dollars in 2019, or $32 billion. {'label': 'Evidence', 'score': 0.4555005729198456}\n",
      "Australia is among the world’s most immunized countries for Covid-19, with 94 percent of people over 16 fully vaccinated. Through 2020 and 2021, the country pursued a tough “zero Covid” strategy that closed national and state borders; restricted Australians from returning home and even leaving; enforced monthslong lockdowns and required its few visitors to undergo expensive hotel quarantines. Surging cases of the Omicron variant of the coronavirus in January, which persist, but have since declined, tipped most of the country into a new ‘living with the virus’ phase. {'label': 'Evidence', 'score': 0.9726353287696838}\n",
      "“It’s about coming back so the virus is under our control, whereas we felt that the virus was controlling us,” said Catherine Bennett, an epidemiologist at Deakin University in Melbourne, adding that opening the borders represented a turning point. “This is saying: We’re ready for this.” {'label': 'Evidence', 'score': 0.9323100447654724}\n",
      "Australia’s grand reopening comes with a few ground rules. Travelers entering the country must be fully vaccinated to avoid a costly two-week hotel quarantine, and must test before arrival — somewhat common requirements for travel now. {'label': 'Evidence', 'score': 0.4620964527130127}\n",
      "But it will take a little more time for Australia’s welcome mat to roll out all the way. The entire state of Western Australia — a third of Australia’s vast land mass, but home to just 10 percent of the population — has essentially been closed to both international travelers and even vaccinated Australian citizens for most of the pandemic. It plans to reopen to vaccinated travelers on March 3, with testing rules on arrival. The state, which has reported about 2,900 total cases and 10 deaths since the pandemic began, is home to Perth — one of the world’s most remote major cities — more than 7,000 miles of coastline, the Kimberley region’s dramatic sandstone gorges and wine destinations like Margaret River. While the federal government can open the nation’s borders, the states can still set their own Covid restrictions, including entry rules.  {'label': 'Evidence', 'score': 0.6077098250389099}\n",
      "“We desperately want people to come back,” said Graeme Skeggs, a general manager at Adam’s Pinnacle Tours, one of Western Australia’s larger tour companies, which, until the pandemic, operated luxury tours of the state’s renowned coastlines and landscapes. Much of their business evaporated after Covid struck, and some smaller operators the company worked with have closed. “Two years is a lot longer than any of us thought,” Mr. Skeggs said. {'label': 'Evidence', 'score': 0.9701931476593018}\n",
      "While many operators who rely on foreign tourists are hopeful, it’s clear that there is no simple return to prepandemic times. {'label': 'Claim', 'score': 0.5239050984382629}\n",
      "China overtook New Zealand as Australia’s largest foreign tourist market for the first time in 2017, and 1.3 million visitors from mainland China spent more than $12 billion Australian dollars, or nearly $9 billion, in 2019, about 27 percent of the year’s international visitor spend. {'label': 'Evidence', 'score': 0.9769766926765442}\n",
      "With China still severely limiting outbound travel, that leaves a gaping hole in Australia’s tourism economy. {'label': 'Claim', 'score': 0.7452776432037354}\n",
      "Michelle Chen opened the Apollo Surfcoast Chinese Restaurant in 2012 along Victoria’s Great Ocean Road — one of the state’s major scenic attractions, about a 2.5-hour drive from Melbourne — to cater to the hundreds of Chinese day-trippers who would stream off buses each day on their way to view the Twelve Apostles, a limestone rock formation farther down the coast. {'label': 'Evidence', 'score': 0.9555762410163879}\n",
      "When Australia closed to Chinese travelers on Feb. 1, 2020, she lost “nearly a hundred percent” of her business. In another stroke of misfortune, the restaurant burned down in April of last year. She reopened in December a few doors down. But Ms. Chen is not expecting her core customers to return for a long time. {'label': 'Evidence', 'score': 0.991100013256073}\n",
      "She’s even revamped her menu, which used to feature dishes like Sichuan chile chicken that appealed to mainland Chinese visitors. Now the menu is “80 percent Australian-Chinese,” Ms. Chen said, with milder offerings like Mongolian beef. “I find I can’t sell the Chinese-Chinese dishes.” {'label': 'Evidence', 'score': 0.9790634512901306}\n",
      "Another thing desperately she’s looking forward to with the return of international travel: more workers. “Everywhere is shortage of labor,” she said. {'label': 'Claim', 'score': 0.8509906530380249}\n",
      "In January, the Australian Open — one of the country’s biggest sporting events, which draws hundreds of millions of viewers annually — became a media circus when Novak Djokovic, the world’s number one men’s tennis player, who is not vaccinated, was detained and finally deported from Melbourne because of his risk for “civil unrest.” The drama, which stretched on for 10 days, triggered protests in Australia from groups who believed the battle was the latest example of Covid-related mandates trampling public freedoms. {'label': 'Evidence', 'score': 0.9750771522521973}\n",
      "“Strong borders are fundamental to the Australian way of life,” the country’s prime minister, Scott Morrison, said after the decision to cancel the tennis star’s visa. {'label': 'Claim', 'score': 0.43259188532829285}\n",
      "Australia’s fixation with border security is highly contentious within the country, particularly its harsh treatment of asylum seekers, but ultimately plays well with voters. But how would Mr. Djokovic’s unceremonious booting fit into Australia’s new “come on in” narrative? {'label': 'Evidence', 'score': 0.31351813673973083}\n",
      "“From our view, it really highlights the strength of Australia’s border policies,” said Chris Allison, Tourism Australia’s acting manager of the Americas. While Mr. Djokovic’s treatment was divisive, he said, it showed that “Australia has zero tolerance in terms of requiring vaccinations to come into the country,” and affirms the message of “how we’re trying to reopen our borders safely and protect the health of the nation.” {'label': 'Evidence', 'score': 0.7952109575271606}\n",
      "But time — and bookings — will tell if long-haul travelers are willing to bet on Australia’s reopening. {'label': 'Rebuttal', 'score': 0.8742719888687134}\n"
     ]
    },
    {
     "name": "stdout",
     "output_type": "stream",
     "text": [
      "Some prefer to wait and see. Australia was where “everyone wanted to go” before the pandemic, said Samantha Carranza, a manager at Sky Tours, a travel agency in downtown Los Angeles. But “there isn’t much demand right now,” she said, adding that Australia’s protectiveness has made her clients cautious to travel there. “No one’s sure if it’s really open or not. Will it close again, will they get stuck there?” {'label': 'Evidence', 'score': 0.9613306522369385}\n",
      "The data shows that interest in travel to Australia is already on the rise: Flight bookings were up 200 percent following the border-opening announcement compared to the week before, according to Forward Keys, a travel analytics company. {'label': 'Evidence', 'score': 0.6537935733795166}\n",
      "“While the immediate jump in bookings is encouraging, the overall booking volume compared to the equivalent week in 2019 is modest,” said Olivier Ponti, the firm’s vice president of insights. {'label': 'Evidence', 'score': 0.3916822671890259}\n",
      "“I imagine there will be more and more confidence over the course of the year,” said Christie Hudson, a senior public relations manager at Expedia, the major online travel agency. “People are really ready to start thinking about these bucket-list trips again. I think for a lot of Americans, Australia is a bucket-list-type trip.” {'label': 'Evidence', 'score': 0.9475237727165222}\n",
      "Cultural experiences led by Australia’s diverse Indigenous groups will be a focus of marketing to overseas travelers, according to Tourism Australia. But in the Northern Territory, the region with the highest proportion of Indigenous people, many remote communities are barred to outsiders until at least March 3 in an effort to protect the residents there from infection. {'label': 'Evidence', 'score': 0.9450604319572449}\n",
      "International visitors are key for the region’s Indigenous tourism sector: Before the pandemic, nearly 70 percent of overseas visitors to the Northern Territory engaged in Aboriginal tourism activities, compared to 16 percent of Australian tourists. {'label': 'Evidence', 'score': 0.7620152235031128}\n",
      "Victor Cooper, who owns and operates Ayal Aboriginal Tours in Kakadu National Park, said he used to welcome visitors from Europe and the United States to his “grandmother’s country,” where he taught them about bush tucker (native foods) and told traditional stories of the land. {'label': 'Evidence', 'score': 0.9056172966957092}\n",
      "“I had a really, really good thing in the overseas market, it took a long time to get that,” Mr. Cooper said. He has not had any overseas bookings since the reopening announcement, and worries things may be “complicated” for a while yet. “I don’t think I’m going to get the clients I used to have back in 2019.” {'label': 'Evidence', 'score': 0.6870766282081604}\n",
      "Other tourism operators are already seeing signs of recovery, which gives them hope for a better year ahead. {'label': 'Claim', 'score': 0.8180713057518005}\n",
      "“It’s good to see people again,” said Dave Gordon, an employee at Wake Up Bondi, a hostel on Sydney’s famous beach, of the limited number of travelers who have been filtering back in recent months. “It’s exciting.” {'label': 'Evidence', 'score': 0.7473686933517456}\n",
      "Since the news of the border reopening, booking numbers for later in the year have risen, he said. {'label': 'Claim', 'score': 0.7239107489585876}\n",
      "The first year of the pandemic was “quite a struggle,” he said. To survive, the hostel, which is on Bondi Beach’s main thoroughfare, slashed its rates and accepted longer-term lodgers, and even closed for a period. {'label': 'Evidence', 'score': 0.6611175537109375}\n",
      "But the border opening removes a major hurdle for him and other operators across the country, who want to convey a clear message for would-be tourists thinking of Australia: “Come!” he said. “This is the time to travel.” {'label': 'Rebuttal', 'score': 0.7568584680557251}\n",
      "Follow New York Times Travel on Instagram, Twitter and Facebook. And sign up for our weekly Travel Dispatch newsletter to receive expert tips on traveling smarter and inspiration for your next vacation. Dreaming up a future getaway or just armchair traveling? Check out our 52 Places for a Changed World for 2022. {'label': 'Evidence', 'score': 0.5061874389648438}\n"
     ]
    },
    {
     "name": "stderr",
     "output_type": "stream",
     "text": [
      "Using custom data configuration default-7117e82c71cf4e5e\n"
     ]
    },
    {
     "name": "stdout",
     "output_type": "stream",
     "text": [
      "Downloading and preparing dataset text/default to C:\\Users\\Prannaya\\.cache\\huggingface\\datasets\\text\\default-7117e82c71cf4e5e\\0.0.0\\08f6fb1dd2dab0a18ea441c359e1d63794ea8cb53e7863e6edf8fc5655e47ec4...\n"
     ]
    },
    {
     "data": {
      "application/vnd.jupyter.widget-view+json": {
       "model_id": "30208da468064e53bd4df124056806f2",
       "version_major": 2,
       "version_minor": 0
      },
      "text/plain": [
       "  0%|          | 0/1 [00:00<?, ?it/s]"
      ]
     },
     "metadata": {},
     "output_type": "display_data"
    },
    {
     "data": {
      "application/vnd.jupyter.widget-view+json": {
       "model_id": "a7c132d568ea450188465312a9aeac3e",
       "version_major": 2,
       "version_minor": 0
      },
      "text/plain": [
       "  0%|          | 0/1 [00:00<?, ?it/s]"
      ]
     },
     "metadata": {},
     "output_type": "display_data"
    },
    {
     "name": "stdout",
     "output_type": "stream",
     "text": [
      "Dataset text downloaded and prepared to C:\\Users\\Prannaya\\.cache\\huggingface\\datasets\\text\\default-7117e82c71cf4e5e\\0.0.0\\08f6fb1dd2dab0a18ea441c359e1d63794ea8cb53e7863e6edf8fc5655e47ec4. Subsequent calls will reuse this data.\n"
     ]
    },
    {
     "data": {
      "application/vnd.jupyter.widget-view+json": {
       "model_id": "dc30cd8da6d947999eaee09e953f4a42",
       "version_major": 2,
       "version_minor": 0
      },
      "text/plain": [
       "  0%|          | 0/1 [00:00<?, ?it/s]"
      ]
     },
     "metadata": {},
     "output_type": "display_data"
    },
    {
     "data": {
      "application/vnd.jupyter.widget-view+json": {
       "model_id": "fc420b4c691f4ae189c966c3ba28f179",
       "version_major": 2,
       "version_minor": 0
      },
      "text/plain": [
       "  0%|          | 0/1 [00:00<?, ?ba/s]"
      ]
     },
     "metadata": {},
     "output_type": "display_data"
    },
    {
     "data": {
      "application/vnd.jupyter.widget-view+json": {
       "model_id": "ad3610ef97004fe28052378258ed65bc",
       "version_major": 2,
       "version_minor": 0
      },
      "text/plain": [
       "  0%|          | 0/13 [00:00<?, ?it/s]"
      ]
     },
     "metadata": {},
     "output_type": "display_data"
    },
    {
     "name": "stdout",
     "output_type": "stream",
     "text": [
      "Planning around naps, shelling out for nannies or yelling into the void — parents working from home all have ways of coping with the daily mayhem. For these intimate portraits — of anxiety, frustration and also unbridled joy — we visited the New York homes of working parents and photographed them during real video meetings at their jobs, occasionally donning noise-canceling headphones to preserve their offices’ privacy. All photos capture the natural reactions of both parent and child over the course of the meetings. (No babies were made to cry.) {'label': 'Evidence', 'score': 0.9590184092521667}\n",
      "For Sheena Demby, remote work as a new parent felt utterly paralyzing at the start. “The first time I had Noah Olivia in a meeting, I didn’t know what to do,” says Demby, who works as a creative-operations program manager at Cash App. “Out of desperation, I tried so hard to keep her out of the camera and to keep her quiet so that I could still present myself as, like, competent and doing great work. But the reality was, I could not keep this little baby from crying. I could not keep her from interrupting meetings. As a first-time mom and Black woman in corporate America — where I already felt I had to show above-average results just to be visible — I really struggled.” Noah Olivia is now almost 2, and Demby has brought a bit more of her personal life into the Zoom window. She keeps a rolling cart of diapers, wipes and work materials by her side so she can work alongside her daughter in any room of their Harlem apartment. Remote work is now Demby’s long-term plan: “I have zero intentions of ever going back into an office,” she says.  {'label': 'Evidence', 'score': 0.9916614294052124}\n",
      "To keep their adventurous 16-month-old twin girls, Clara and Tessa, from getting into too much trouble during work calls, Eric Sadkin and his husband, Klaus Koenigshausen, have recently become master maze designers. The pair, who work in real estate and private investment, are in the process of moving to a new apartment, so they have a bunch of cardboard boxes lying around — which they pile onto the floors into child-stymieing labyrinths when they anticipate lengthy meetings. “You can’t just run after them, because you’re in the middle of a Zoom call, so everything has to be baby-proofed to the max,” Koenigshausen says. “They are old enough to climb over the sofa and get into all kinds of trouble. So every day our sofa is a land of cushions, and our living room turns into a kids’ playground.” As a result, their entire one-bedroom Manhattan apartment, Sadkin says, “just looks littered, like an Amazon warehouse, with boxes to stop the kids going into random places and keep them in their play area. But we have peace of mind — because they can’t move.” {'label': 'Evidence', 'score': 0.9924966096878052}\n",
      "Born near the start of the pandemic, 18-month-old Aslan is Kat Dinar’s third child — and he’s the one who compelled Dinar to switch from a pressurized front-office role to a calmer one in the back office of her finance company. Her new job, on a team that some refer to as the “mommy track,” affords her much more time at home with her husband and two older children in their Astoria, Queens, apartment. But still, Dinar wishes the choice hadn’t felt so necessary. “I’m a working mom,” Dinar says. “I’m not a stay-at-home mom — I never was, and I’ll never be. I need achievements at work, and I enjoy my kids; I love children. I don’t want to make these choices. I want to have it all.” Dinar yearns to see more support programs for working mothers and thinks terms like “work-life balance” oversimplify the realities of working parents. She adds that “women who have kids are indeed some of the best workers: You are the manager of your household. You delegate, give instructions, prioritize. You do everything. You are a manager and a leader and a woman.” {'label': 'Evidence', 'score': 0.9548475742340088}\n",
      "Jerome Nathaniel was “prepared for chaos” when he and his wife became pandemic parents. “I love my job,” Nathaniel, who works at the nonprofit City Harvest, says. “We fight hunger, and hunger doesn’t just end, so your day never ends. I was just always working — you justify not having a personal life.” Thankfully his son, Mack, currently 3 months old, is “abnormally relaxed and cool and chill,” Nathaniel says. When it’s Nathaniel’s turn to care for him, Mack spends the bulk of his time napping in his father’s cradled arms while he takes video calls for grad school and work. Mack doesn’t care for screens — “and hopefully he never will, because we’re going to be a no-TV household,” says his father — but even with a relatively easygoing baby, Nathaniel has found himself having to reconfigure his attitude toward work. “If I work past 5 p.m. now, I know that’s not fair to my wife and my son and my family,” Nathaniel says. “If I were [working] in person, I couldn’t teach my kid how to smile on my lunch break.” {'label': 'Evidence', 'score': 0.9804297685623169}\n",
      "Rachel Shapiro’s workday is a coil of meeting after meeting. As the senior vice president of marketing strategy at Complex, a digital entertainment company, she regularly shepherds calls across multiple departments — often over the sounds of her 2-year-old daughter, Waverly, or 6-month-old son, Sasha, throwing a spirited tantrum or having a meltdown under her desk. “I don’t know motherhood without the pandemic, and I haven’t quite known a meeting that hasn’t been infringed upon by one of my two children,” says Shapiro, who has become a pro at the text-chat function on Zoom and has also led many a work discussion — with the camera off — while breastfeeding, quelling cries or grappling with “back-to-back blowout diapers.” A saving grace for Shapiro has been her colleagues’ enthusiasm for Sasha or Waverly’s cameos in their meetings — and their patience for when things go awry. Once, “I was trying to lead a meeting on my AirPods while changing two diapers, literally covered in shit, and just thinking, Well, the show must go on!” she says, and sighs. {'label': 'Evidence', 'score': 0.9152277708053589}\n",
      "Even though Anna Li Sian’s daughter, Inez, is no longer a newborn with round-the-clock demands, things have felt harder than ever recently. “There’s sort of a triple isolation that’s happened with the pandemic: We’re socially distancing, and it’s cold, and we’re new parents in New York who have to be especially cautious with this unvaccinated person in our care,” says Sian, who works in podcast marketing and takes Zoom calls all day long from the Cobble Hill apartment she shares with her husband, Robby Abaya, a software engineer also working from home. The couple say that they could not have continued in their full-time jobs without child-care help — they employ a nanny, and luckily Anna’s mother is able to come over “in a pinch” — but that they’re still exhausted by the matrix of choices they have to contend with, outside work. Inez just turned 1; the pair would love to expose her to wider social circles but have deliberated for weeks about whether the thrill of an in-person birthday party outweighs the chance of a Covid scare. “We are always recalibrating our risk tolerance,” Abaya says. {'label': 'Evidence', 'score': 0.9740274548530579}\n",
      "Each morning, Oliver Abel wakes up and strategizes his day around the natural rhythms of his 1-year-old son, Oliver (or Ollie). Abel, a private wealth adviser who works mostly from his home in Bronxville, N.Y., prefers to shuffle his most important meetings around his son’s nap times. But even though he and his wife, who also works from home, map out their joint calendars meticulously in the mornings, the pair have learned to keep a number of go-to distractions on hand for when they are drawn into last-minute meetings. “It’s whatever I can do to keep him entertained while I have the meeting going on,” Abel — who, while working from home, has been able to witness major moments in Ollie’s life, like his first laugh and first attempts at crawling — says. And his son is pretty curious, it turns out. “Chewing on a calculator. Playing with my phone. Ripping up paper! He loves things that are new — so if you show him one of these items, he usually gets pretty distracted for 10 minutes or so.” Three shiny objects per 30-minute meeting usually do the trick. {'label': 'Evidence', 'score': 0.49842774868011475}\n"
     ]
    },
    {
     "name": "stdout",
     "output_type": "stream",
     "text": [
      "Irene Kelly has a nanny who comes during work hours to help out with her 9-month-old son, Henry, in her Forest Hills, Queens, apartment. But that doesn’t necessarily reduce any of her emotional load. “There’s never a break, even if the nanny’s here, because I hear him crying literally a room away,” Kelly, who works as an account executive at an insurance company, says. “And if I come downstairs to have a meal or a call, he sees me, and it’s like, ‘I only want my mom!’ There’s just so much pressure to make the right decisions.” While Kelly works from a makeshift setup at her dining-room table, her husband is currently working full time in a physical office. “Being home 24 hours with a baby is a blessing. But I get jealous of my husband sometimes because he has, to me, the freedom to compartmentalize,” Kelly says. “He has co-workers he can see regularly in a way that feels normal, and I’m behind a screen all day with this baby attached to me, who wants just as much attention as my job does. And each day, I’m not able to fully give myself 100 percent to either role.” {'label': 'Evidence', 'score': 0.9898151159286499}\n",
      "Rachel Lee has two sons in different developmental stages — 8-month-old Nathan and 5-year-old Logan — so working at home means designing distractions for various skill levels, grappling with disparate sleep schedules and trying to find quiet while tending to her boisterous family. Lee, an in-house lawyer for a financial technology and data company, says that while the prolonged work-from-home period has allowed her to catch many precious milestones with Nathan that she wasn’t able to with Logan, it has also mired her in productivity guilt: “I don’t know if other moms feel this, but I think there’s an internal pressure that, being physically at home, I should be cooking dinners for my family and ordering out less, or getting more stuff done around the house,” she says. Lee quit her previous job in the pandemic and found a new company with more flexibility; now she and her husband are also thinking of swapping their Upper West Side apartment for a home closer to family members they’ve sorely missed over the last few years. {'label': 'Evidence', 'score': 0.9851627945899963}\n",
      "Daniela Ocana, a founder and the program director of a preschool in Maspeth, Queens, has found herself obsessing over how to keep her 8-month-old daughter, Riley, safe amid a pandemic. “You don’t want to keep your child in a bubble,” Ocana says. “But it is scary to go out there.” Ocana oversees Covid-19 safeguards at the preschool where she works — and thus, must also reassure scores of other anxious parents — so safety is always at the forefront of her mind. In times of immense stress, though, Riley’s presence helps ground her: “There’s been so many times I’ve stopped in the room and been, like, ‘You’re learning, I’m learning, we’ll get through this,’” Ocana says. “She has taught me that although motherhood is hard and working is hard, it’s possible to have patience and love. There’s times I finish video calls, like, sweating, but then I look at her, and she’s smiling or she’s just close to me, and it makes me realize that’s why I continue to do it.” {'label': 'Evidence', 'score': 0.9234099984169006}\n",
      "Like many parents, David O’Brien, a lawyer and father to 5-month-old August, would prefer to be either working from an office or parenting from home — not both at once. “I think extending government-paid parental leave would be helpful for jobs that require focusing, or even just using both hands!” O’Brien says. Often, when August is on his father’s lap during a meeting, “I have to type notes contemporaneously, and I don’t want his head to get too close to the edge of the table, so I can only use one hand. Or there’s drool everywhere.” Intense multitasking was not the only change brought on by pandemic parenthood: When he and his wife, Alexandra, first had August, O’Brien was working in his dream job as a public defender, but the difficulty of raising a baby in a small Harlem apartment nudged him to look for other jobs in the field that could offer as much fulfillment but with higher pay. “I’m making decisions a little less for ideological reasons,” O’Brien says. “But I don’t know if that’s pandemic-related — it might just be being a parent.” {'label': 'Evidence', 'score': 0.9899875521659851}\n",
      "Two years ago, Alison Taffel Rabinowitz was teaching at universities around New York City. But after a “really, really tough pregnancy” and the birth of her daughter, Evelyn Rose, Taffel Rabinowitz was forced to step away. She decided to start her own business and now runs private career coaching for women out of her Lower East Side apartment, with Evelyn Rose, now 6 months old, at her side. Some of her clients are working mothers seeking counsel about how to re-enter the work force. Her best advice to them? Emphasize the tremendous wins that have come out of motherhood rather than trying to gloss over the time away from work. “I’m proud that I figured this out and can still do what I love, while being able to focus with a baby, in some kind of weird way,” says Taffel Rabinowitz, who was able to breastfeed her daughter on camera while helping her clients negotiate for pay raises and new jobs. But Rabinowitz adds: “I could never write a résumé for being a mom. It’s a job that keeps getting more bullet points underneath that never end.” {'label': 'Evidence', 'score': 0.9588306546211243}\n"
     ]
    },
    {
     "name": "stderr",
     "output_type": "stream",
     "text": [
      "Using custom data configuration default-cf0a2fefc44ccb80\n"
     ]
    },
    {
     "name": "stdout",
     "output_type": "stream",
     "text": [
      "Downloading and preparing dataset text/default to C:\\Users\\Prannaya\\.cache\\huggingface\\datasets\\text\\default-cf0a2fefc44ccb80\\0.0.0\\08f6fb1dd2dab0a18ea441c359e1d63794ea8cb53e7863e6edf8fc5655e47ec4...\n"
     ]
    },
    {
     "data": {
      "application/vnd.jupyter.widget-view+json": {
       "model_id": "8b6231dfc32c441b828207d95a3b221b",
       "version_major": 2,
       "version_minor": 0
      },
      "text/plain": [
       "  0%|          | 0/1 [00:00<?, ?it/s]"
      ]
     },
     "metadata": {},
     "output_type": "display_data"
    },
    {
     "data": {
      "application/vnd.jupyter.widget-view+json": {
       "model_id": "c4d1c6abaf584b2db30d7ed39bdf2baf",
       "version_major": 2,
       "version_minor": 0
      },
      "text/plain": [
       "  0%|          | 0/1 [00:00<?, ?it/s]"
      ]
     },
     "metadata": {},
     "output_type": "display_data"
    },
    {
     "name": "stdout",
     "output_type": "stream",
     "text": [
      "Dataset text downloaded and prepared to C:\\Users\\Prannaya\\.cache\\huggingface\\datasets\\text\\default-cf0a2fefc44ccb80\\0.0.0\\08f6fb1dd2dab0a18ea441c359e1d63794ea8cb53e7863e6edf8fc5655e47ec4. Subsequent calls will reuse this data.\n"
     ]
    },
    {
     "data": {
      "application/vnd.jupyter.widget-view+json": {
       "model_id": "0fabb01822a74491b8f33dfd6c34977c",
       "version_major": 2,
       "version_minor": 0
      },
      "text/plain": [
       "  0%|          | 0/1 [00:00<?, ?it/s]"
      ]
     },
     "metadata": {},
     "output_type": "display_data"
    },
    {
     "data": {
      "application/vnd.jupyter.widget-view+json": {
       "model_id": "ba95a9d8a5f54abe912668aaf237d090",
       "version_major": 2,
       "version_minor": 0
      },
      "text/plain": [
       "  0%|          | 0/1 [00:00<?, ?ba/s]"
      ]
     },
     "metadata": {},
     "output_type": "display_data"
    },
    {
     "data": {
      "application/vnd.jupyter.widget-view+json": {
       "model_id": "5c115a7c086540c69a9d7eb8664c0d78",
       "version_major": 2,
       "version_minor": 0
      },
      "text/plain": [
       "  0%|          | 0/22 [00:00<?, ?it/s]"
      ]
     },
     "metadata": {},
     "output_type": "display_data"
    },
    {
     "name": "stdout",
     "output_type": "stream",
     "text": [
      "BOSTON — Ime Udoka has been emphasizing ball movement since the day the Celtics hired him as their coach. At his introductory news conference last June, Udoka apologized to Brad Stevens, his predecessor and the team’s newly appointed president of basketball operations, as a way of softening the blow before he pointed out that the Celtics had ranked near the bottom of the league in assists last season. {'label': 'Evidence', 'score': 0.8588799834251404}\n",
      "“We want to have more team basketball,” Udoka said at the time. {'label': 'Claim', 'score': 0.5371425747871399}\n",
      "It was not instant fix for Udoka, whose team hobbled into the middle of January with a losing record. The ball was not moving. A bit of frustration was evident. But even during their struggles, Udoka sensed that his players were receptive to coaching, he said. So he reinforced his pass-first concepts in film sessions and by citing statistics that showed the offense was more potent when the ball zipped around the court. {'label': 'Evidence', 'score': 0.9714533090591431}\n",
      "“It took some time,” Udoka said on Wednesday, “but I think they’re embracing being playmakers and helping everyone else score, and I think it’s pleasing to me and noticeable when we play that way.” {'label': 'Evidence', 'score': 0.4054408669471741}\n",
      "Entering the N.B.A.’s All-Star break, the Celtics have resurfaced as one of the better teams in the league after winning 11 of their last 13 games, a run of solid play that has vaulted them up the standings, quieted a few of their critics and shown that Udoka’s sharing-is-caring formula can work in their favor. {'label': 'Evidence', 'score': 0.4479587972164154}\n",
      "“The turnovers are down and the assists are up because we’re getting rid of the ball,” Udoka said. {'label': 'Evidence', 'score': 0.5505338311195374}\n",
      "He made that observation a couple of hours before the Celtics (34-26) had their nine-game winning streak snapped on Wednesday night by the Detroit Pistons, one of the worst teams in the league. It was the second game of a back-to-back for the Celtics, who had routed the Philadelphia 76ers on Tuesday and were without two injured starters, Marcus Smart and Rob Williams. {'label': 'Evidence', 'score': 0.9902586936950684}\n",
      "Still, the loss was a reminder that good habits need to be nurtured, and one the Celtics can stew over before they resume their season against the Nets next Thursday. {'label': 'Rebuttal', 'score': 0.5668461918830872}\n",
      "“There’s got to be an edge to us coming back,” the veteran forward Al Horford said, adding: “This is when the fun starts.” {'label': 'Evidence', 'score': 0.489627867937088}\n",
      "It always takes time for new coaches to incorporate their systems, no matter how talented their personnel. Dwane Casey, the coach of the Pistons, knows the feeling. Before Wednesday’s game, he recalled landing his first head coaching job in the N.B.A., with the Minnesota Timberwolves in 2005. Kevin Garnett, a colorful figure and a future Hall of Famer, made a habit of interrupting Casey whenever he tried to show the team a new play. {'label': 'Evidence', 'score': 0.9749068021774292}\n",
      "“It’s not easy,” Casey said. “You want to go in there with all these grand ideas, but you learn pretty quick that you’ve got to be flexible, that you’ve got to learn the players and they’ve got to get a feel for you.” {'label': 'Evidence', 'score': 0.5412859916687012}\n",
      "Udoka had to be just as patient in Boston, where the Celtics’ season was less than two weeks old when a loss to the Chicago Bulls dropped their record to 2-5. Afterward, Smart, the team’s starting point guard, used his platform at a postgame news conference to criticize Jayson Tatum and Jaylen Brown, the team’s top two players, for essentially hogging the ball. {'label': 'Evidence', 'score': 0.9754215478897095}\n",
      "The Celtics spent subsequent weeks wrestling with mediocrity — two wins here, three losses there — without much continuity. And they found themselves absorbing more barbs after a loss to the 76ers on Jan. 14. Joel Embiid, the 76ers’ All-Star center, stated the obvious: The Celtics were a one-on-one team. Embiid went so far as to compare them unfavorably to the Charlotte Hornets, whom the 76ers had played two days earlier. {'label': 'Evidence', 'score': 0.9839408993721008}\n",
      "“Charlotte, they move the ball extremely well and they have shooters all over the place,” Embiid told reporters. “Obviously, Boston is more of an iso-heavy team, so it becomes easier to load up and try to stop them.” {'label': 'Evidence', 'score': 0.9201381802558899}\n",
      "Perhaps it was a message that the Celtics needed to hear. Tatum, 23, and Brown, 25, are terrific players, each capable of torching a conga line of defenders by himself. And there are certainly times when they should take advantage of their matchups. But Udoka wants all of his players to avoid “playing in a crowd,” he said, and to exercise more discretion. Above all, he seeks balance: fast breaks, pick-and-rolls, ball reversals. {'label': 'Evidence', 'score': 0.9563264846801758}\n",
      "“We have a multidimensional team that can score in a lot of different ways,” he said. {'label': 'Claim', 'score': 0.6224746108055115}\n",
      "Sure enough, the Celtics were rolling by the time they paid another visit to Philadelphia on Tuesday. Udoka delivered some pregame motivation by showing his players that old quote from Embiid — the one about them being “easier” to defend than the Hornets had been. “It stood out to me when he said it,” Udoka said. {'label': 'Evidence', 'score': 0.8321462869644165}\n",
      "The Celtics won by 48 points. Doc Rivers, the coach of the 76ers, spent the game looking as though he were in line at the Department of Motor Vehicles. {'label': 'Evidence', 'score': 0.8697196841239929}\n",
      "“You can literally see the improvement of the ball movement,” he said. “The old Boston is more isos. This Boston is driving and playing with each other, and that’s what makes them so much tougher.” {'label': 'Evidence', 'score': 0.6558160185813904}\n",
      "The Celtics, who are also among the league leaders in defensive rating, made some savvy moves ahead of last week’s trade deadline by acquiring Derrick White, a versatile guard, and Daniel Theis, a defense-minded center. {'label': 'Evidence', 'score': 0.6316162347793579}\n",
      "As for the All-Star break, Udoka said he would spend time with his family. But he also plans to dive into film by revisiting the hard times. {'label': 'Evidence', 'score': 0.7433135509490967}\n",
      "“Really take a look at the struggles we had early,” he said, “and how we’ve turned the corner.” {'label': 'Claim', 'score': 0.44172030687332153}\n"
     ]
    },
    {
     "name": "stderr",
     "output_type": "stream",
     "text": [
      "Using custom data configuration default-3b9a4ce8bc518d71\n"
     ]
    },
    {
     "name": "stdout",
     "output_type": "stream",
     "text": [
      "Downloading and preparing dataset text/default to C:\\Users\\Prannaya\\.cache\\huggingface\\datasets\\text\\default-3b9a4ce8bc518d71\\0.0.0\\08f6fb1dd2dab0a18ea441c359e1d63794ea8cb53e7863e6edf8fc5655e47ec4...\n"
     ]
    },
    {
     "data": {
      "application/vnd.jupyter.widget-view+json": {
       "model_id": "4c44b8397c86465f9c73bb2bf6a6b1f7",
       "version_major": 2,
       "version_minor": 0
      },
      "text/plain": [
       "  0%|          | 0/1 [00:00<?, ?it/s]"
      ]
     },
     "metadata": {},
     "output_type": "display_data"
    },
    {
     "data": {
      "application/vnd.jupyter.widget-view+json": {
       "model_id": "1005c06a4c4649a3b516abdb255eeffd",
       "version_major": 2,
       "version_minor": 0
      },
      "text/plain": [
       "  0%|          | 0/1 [00:00<?, ?it/s]"
      ]
     },
     "metadata": {},
     "output_type": "display_data"
    },
    {
     "name": "stdout",
     "output_type": "stream",
     "text": [
      "Dataset text downloaded and prepared to C:\\Users\\Prannaya\\.cache\\huggingface\\datasets\\text\\default-3b9a4ce8bc518d71\\0.0.0\\08f6fb1dd2dab0a18ea441c359e1d63794ea8cb53e7863e6edf8fc5655e47ec4. Subsequent calls will reuse this data.\n"
     ]
    },
    {
     "data": {
      "application/vnd.jupyter.widget-view+json": {
       "model_id": "98047ac6d9134e0b80bbc675e29eaf22",
       "version_major": 2,
       "version_minor": 0
      },
      "text/plain": [
       "  0%|          | 0/1 [00:00<?, ?it/s]"
      ]
     },
     "metadata": {},
     "output_type": "display_data"
    },
    {
     "data": {
      "application/vnd.jupyter.widget-view+json": {
       "model_id": "573882c2c22a4ee99339ff8f289905ab",
       "version_major": 2,
       "version_minor": 0
      },
      "text/plain": [
       "  0%|          | 0/1 [00:00<?, ?ba/s]"
      ]
     },
     "metadata": {},
     "output_type": "display_data"
    },
    {
     "data": {
      "application/vnd.jupyter.widget-view+json": {
       "model_id": "7ec6382194e04d358adc16394151bf2b",
       "version_major": 2,
       "version_minor": 0
      },
      "text/plain": [
       "  0%|          | 0/32 [00:00<?, ?it/s]"
      ]
     },
     "metadata": {},
     "output_type": "display_data"
    },
    {
     "name": "stdout",
     "output_type": "stream",
     "text": [
      "It seems like a story too good to be true, and for some in the art world, it is. Last weekend, 25 Jean-Michel Basquiat paintings were publicly unveiled at the Orlando Museum of Art before several thousand V.I.P.s. All of the paintings were said by the museum to have been created in late 1982 while Basquiat, 22, was living and working out of a studio space beneath Larry Gagosian’s home in Venice, Calif., preparing fresh canvases for a show at the art dealer’s Los Angeles gallery. {'label': 'Evidence', 'score': 0.8085633516311646}\n",
      "According to the Orlando museum director and chief executive, Aaron De Groft, the vibrant artworks — layers of mixed media painted and drawn onto slabs of scavenged cardboard ranging in size from a 10-inch square featuring one of the artist’s iconic crowns to a nearly five-foot-high disembodied head — were sold by Basquiat directly to the television screenwriter Thad Mumford. The price? A quick $5,000 in cash — about $14,000 today — paid without Gagosian’s knowledge. {'label': 'Evidence', 'score': 0.9920861124992371}\n",
      "The 25 artworks then disappeared for three decades, the museum said, only resurfacing in 2012 after Mumford failed to pay the bill on his Los Angeles storage unit, and its contents — the Basquiats tucked in amid baseball memorabilia and TV industry ephemera — were auctioned off. William Force, a treasure hunting “picker,” and Lee Mangin, his financial backer, who both scour small auctions for mislabeled items, saw photos of the colorful cardboards and eventually snagged the lot — for about $15,000. {'label': 'Evidence', 'score': 0.9885013103485107}\n",
      "Mangin provided receipts of the purchase and recounted the thrill of the hunt: “It’s sort of a deep hook that goes inside of you,” he said, likening it to being an art world Indiana Jones digging for lost artifacts. It certainly sounds like a tale straight out of Hollywood, or perhaps a script by the Emmy Award-winning Mumford. Indeed, Gagosian, in a response to this reporter about the 1982 creation of these Basquiats, said he “finds the scenario of the story highly unlikely.” Gagosian’s concerns were echoed by several curators known to write widely on Basquiat’s work, who have greeted the Orlando museum’s show with a stony public silence. {'label': 'Evidence', 'score': 0.9808524250984192}\n",
      "De Groft, the OMA director, bristled at such skepticism. “My reputation is at stake as well,” he said in an interview. “And I’ve absolutely no doubt these are Basquiats.” Beyond his own trained eye — he has a Ph.D. in art history from Florida State University — he cited a battery of reports commissioned by the artworks’ current owners. {'label': 'Evidence', 'score': 0.6429955959320068}\n",
      "These include a 2017 forensic investigation by the handwriting expert James Blanco which identified the signatures that appear on many of the paintings as being Basquiat’s; a 2017 analysis by the University of Maryland associate professor of art Jordana Moore Saggese, author of “Reading Basquiat: Exploring Ambivalence in American Art,” in which she too attributed the paintings to Basquiat; and signed 2018-19 statements from the late curator Diego Cortez, an early supporter of the artist and founding member of his estate’s now-dissolved authentication committee, which declared each of the paintings to be genuine Basquiats. In light of the imprimatur Cortez’s name carries with historians, his certifications were accompanied by photographs showing the curator mid-signature. {'label': 'Evidence', 'score': 0.9904450178146362}\n",
      "But the foremost proof in De Groft’s mind was a short poem by Mumford in 1982 commemorating the artworks’ creation and the meeting that the owners say occurred between Basquiat, then an artist on the rise, and Mumford, then one of the few Black screenwriters working within network TV and riding high as a producer and writer for the top-rated “M*A*S*H.” {'label': 'Rebuttal', 'score': 0.7729873657226562}\n",
      "Lines from the poem seem to refer both to Mumford’s ’70s work voicing a “Dr. Thad” for “Sesame Street,” his upcoming script for the “M*A*S*H” series finale, the “25 paintings bringing riches,” and the two men’s shared spirit as “no longer outsiders, Industry insiders golden crowns receiving … We film, we write, we film, we paint.” {'label': 'Evidence', 'score': 0.9301179051399231}\n",
      "It is said to have been written and typed up by Mumford, then initialed in oilstick by Basquiat (and confirmed as genuine by Blanco). The poem was not in Mumford’s storage locker contents, according to Mangin, but was handed to him by Mumford in 2012. After buying the paintings, Mangin said he and Force tracked down the screenwriter, who told them over lunch how he had bought the Basquiats in 1982 as an investment on the recommendation of a friend. {'label': 'Evidence', 'score': 0.9887924790382385}\n",
      "“The poem is almost like a receipt, it refers to the works, it refers to the inscriptions in the works, it refers to the time,” De Groft said. “I’ve absolutely no doubt.” {'label': 'Evidence', 'score': 0.6812228560447693}\n",
      "Before his death in 1988 from a drug overdose, Basquiat is believed to have made approximately 2,100 artworks, from small drawings to a paint-adorned refrigerator door, according to the Brooklyn Museum. Could these slices of cardboard have been among them? While it’s certainly difficult to imagine Gagosian, living just one floor above Basquiat and keeping close tabs on his studio progress, or Basquiat’s gallery-employed studio assistant and de facto chauffeur, John Seed, not noticing the creation and sale of 25 detailed paintings on canvas, those painted on cardboard are more easily concealable. {'label': 'Evidence', 'score': 0.9634360671043396}\n",
      "Seed has written about driving Basquiat to an appointment with a doctor whose medical bill was paid with drawings. And as noted by Phoebe Hoban in her 1998 biography “Basquiat,” “Anybody with the right attitude and the right amount of money could purchase something from the painter, who was constantly in need of cash to support his various habits.” {'label': 'Evidence', 'score': 0.9457454681396484}\n",
      "Gagosian himself conceded to Hoban that his own accounting methods with Basquiat were hardly traditional: “It was the way he chose to be paid, in cash, or in barter, or with clothes, or like he’d say ‘Well, buy my girlfriend a trip to Paris.’” {'label': 'Evidence', 'score': 0.4087965786457062}\n",
      "More than just professional reputations now rest on the question of these paintings’ true background. The value of Basquiat’s work has soared: In 2017 one of his paintings sold for $110.5 million at Sotheby’s — the current auction high for an American artwork. If the 25 Mumford-purchased paintings are authenticated as actual Basquiats, Putnam Fine Art and Antique Appraisals puts their total worth at close to $100 million. {'label': 'Evidence', 'score': 0.9846246242523193}\n",
      "An official verdict on this whodunit by the Basquiat estate is now impossible — it closed its authentication committee in 2012 in the aftermath of a lawsuit over Basquiat artworks initially deemed fake. (Amid similar time-consuming and expensive litigation, the Andy Warhol estate closed its own authentication committee that same year.) Yet without such a stamp of estate approval, or an established provenance, major auction houses and heavyweight art dealers are reluctant to handle such works. Despite several years of being quietly shopped around the secondary art market, these Basquiats have to date found no takers, according to the owners. The Orlando museum showing could help dispel that market wariness, lending them a new air of institutional legitimacy. {'label': 'Evidence', 'score': 0.92879718542099}\n",
      "Sotheby’s declined to comment on the authenticity of these paintings. Several art world professionals were similarly gun-shy, citing the experience of the estate’s authentication committee and their fear that publicly weighing in could embroil them in a lawsuit with the paintings’ current owners. One dealer who personally worked with Basquiat and saw photographs of the paintings in the Orlando museum said, “the way Basquiat places elements in the composition has an interior logic which is missing in these images.” {'label': 'Evidence', 'score': 0.9353076815605164}\n",
      "In addition to Force and Mangin, partial ownership of the artworks now lies with one of Los Angeles’s most prominent trial lawyers, Pierce O’Donnell, famed for successful litigation against a veritable who’s who of the city’s glitterati, from the actor Brad Pitt (on behalf of his ex-wife Angelina Jolie) to the former Los Angeles Clippers owner Donald Sterling. {'label': 'Evidence', 'score': 0.7562865018844604}\n"
     ]
    },
    {
     "name": "stdout",
     "output_type": "stream",
     "text": [
      "O’Donnell told The New York Times that he purchased an interest in six of the 25 paintings after Force, who had read about his authentication efforts on behalf of a disputed Jackson Pollock painting, approached him for help with the Basquiats. It was news coverage of this same Pollock legal standoff that also led the OMA’s De Groft to contact O’Donnell and then offer to exhibit the Basquiats. If Force and Mangin are seeking a payday, and De Groft hopes for a blockbuster exhibition, O’Donnell seems driven by the courtroom-like drama of it all. {'label': 'Evidence', 'score': 0.991001546382904}\n",
      "“I treated these paintings as a client,” the lawyer explained. “I believe I could win this case nine and a half out of ten times with a jury. I’m not bragging. I’m just saying the evidence is compelling.” He cited the various reports done on the paintings, and, like De Groft, the Mumford-penned and Basquiat-signed poem that definitively sealed his case. “That poem is so revealing, and Basquiat’s initials are on it,” he continued. “It’s autobiographical and you can’t make up this stuff, you just can’t.” {'label': 'Evidence', 'score': 0.8953295946121216}\n",
      "Except that sometimes you can. As early as 1994, seemingly beautifully executed Basquiats later deemed to be well-made fakes — accompanied by bogus letters of provenance — were in circulation. And just this past July the F.B.I. arrested a man in New York City it said was trying to sell artworks he falsely claimed were collaborations between Basquiat and Keith Haring, also complete with forged letters of provenance. {'label': 'Evidence', 'score': 0.5308730602264404}\n",
      "O’Donnell had no patience for such comparisons. “You would have to have a big old conspiracy that would rival the Jan. 6 insurrection for these things not to be authentic,” he scoffed, adding that it just didn’t make sense. “A forger who wanted to make big hay over Basquiat would paint one extraordinary Basquiat, or maybe two or three, all large on canvas. He wouldn’t just go out and get cardboard from a supermarket or liquor store and create 25 paintings.”  {'label': 'Evidence', 'score': 0.9552592039108276}\n",
      "What of Mumford’s family, who only learned of the museum’s exhibition of “The Thaddeus Mumford Jr. Venice Collection” from this reporter? “It’s all very strange,” said Jeffrey Mumford, Thad’s younger brother, a Guggenheim fellowship-winning classical composer and music professor at Lorain County Community College, near Cleveland. Not only did Thad never once mention to him buying the Basquiats, “he was someone who didn’t really go to art galleries very often, was often intimidated by the idea of going to them because he felt he had to have a degree in art in order to appreciate the work.” {'label': 'Evidence', 'score': 0.9704243540763855}\n",
      "Moreover, if Thad had ever wanted to discuss a promising new artist, he could have spoken with Jeffrey’s wife, Donna Coleman, an accomplished painter who had lived in New York City at the same time Basquiat was first making a name for himself. Coleman, in an interview, recalled walking in downtown Manhattan in 1978 “when I would see his SAMO graffiti on the wall fresh from the day before.” {'label': 'Evidence', 'score': 0.9624121785163879}\n",
      "Coleman, who helped settle Thad’s estate upon his death in 2018, said it seemed believable to her that he had simply stopped making payments on his storage unit “because he didn’t care about these works, or he didn’t recognize their worth, or maybe he was tipped off that they were not real.” The last years leading up to his death “were very, very fraught,” she said. His career in television had essentially dried up, he was severely depressed and in poor health, and “he was just letting go of a lot of things.” But if by 2012 he no longer cared about the paintings, then why did he hold onto a poem about that same artist for all those years? “It does seem odd, doesn’t it?” Coleman mused. {'label': 'Evidence', 'score': 0.9755913019180298}\n",
      "One clue to the paintings’ authenticity may lie with the cardboard on which Basquiat would have applied his layers of paint, crayon, and oilstick. Mangin said he consulted several paper experts to confirm its age, but was told that the composition of cardboard from the 1980s was impossible to differentiate from that of recent years. “Nobody had an answer,” Mangin explained. “Cardboard is cardboard.” {'label': 'Evidence', 'score': 0.9848771095275879}\n",
      "Yet flip over one of the works and you’ll find that it was painted on the back of a shipping box with a clearly visible company imprint: “Align top of FedEx Shipping Label here.” According to Lindon Leader, an independent brand expert consulted by The Times, who was shown a photo of the cardboard, the typeface in the imprint was not used by Federal Express before 1994. He should know: that was the year he personally redesigned the company’s logo and its typefaces while working as senior design director at the Landor Associates advertising firm. {'label': 'Evidence', 'score': 0.8812283873558044}\n",
      "“It appears to be set in the Univers 67 Bold Condensed,” Leader said of the label’s distinctive purplish font. In 1982, “They were not using Univers at that time.” {'label': 'Evidence', 'score': 0.7877269983291626}\n",
      "So the piece of cardboard could not have been produced until 12 years after Basquiat supposedly painted on it and six years after the artist’s death. {'label': 'Evidence', 'score': 0.6858112812042236}\n",
      "According to a person close to the Orlando museum, who asked to remain anonymous because they were not authorized to reveal internal discussions, its curatorial staff expressed their concern to De Groft that the FedEx text did not seem to be from 1982. “This show raised red flags for them,” the person said, but the director brushed off their concerns. {'label': 'Evidence', 'score': 0.9774357676506042}\n",
      "Asked about his staff’s reaction this week, De Groft insisted, “The cardboard is legit.” He added, “I believe deeply these are authentic Basquiats. I can’t answer the question on FedEx, there’s an anomaly there.” But he said the evidence provided by the artworks’ owners — from the Basquiat-signed poem to the Cortez report — was credible. {'label': 'Evidence', 'score': 0.6551034450531006}\n",
      "Yet as O’Donnell, the lawyer, has himself argued in a catalog essay for Orlando’s Basquiat exhibition, one small discovery can undermine a seemingly rock solid claim: “Over my four decades in the trenches, cases have been won or lost based on a single piece of evidence.” The key to winning, he concludes, is “finding a ‘smoking gun’ document buried in millions of pages of records. If this sounds like Perry Mason, it is.” {'label': 'Evidence', 'score': 0.3941316306591034}\n",
      "Asked this week if the FedEx-imprinted cardboard was that veritable “smoking gun,” O’Donnell remained unshaken. “If there’s a question about one painting, it doesn’t cast doubt on all the other ones.” He called the typography question “a subject of expert debate”— one he almost seemed to relish and was confident he would win. “If I presented all this evidence to a jury— including this thing about FedEx — I have no doubt how it would come out.” {'label': 'Evidence', 'score': 0.9469013810157776}\n"
     ]
    },
    {
     "name": "stderr",
     "output_type": "stream",
     "text": [
      "Using custom data configuration default-24ff3082295f57a9\n"
     ]
    },
    {
     "name": "stdout",
     "output_type": "stream",
     "text": [
      "Downloading and preparing dataset text/default to C:\\Users\\Prannaya\\.cache\\huggingface\\datasets\\text\\default-24ff3082295f57a9\\0.0.0\\08f6fb1dd2dab0a18ea441c359e1d63794ea8cb53e7863e6edf8fc5655e47ec4...\n"
     ]
    },
    {
     "data": {
      "application/vnd.jupyter.widget-view+json": {
       "model_id": "2182029e71ef45ceb4b30c8b6a2bcfed",
       "version_major": 2,
       "version_minor": 0
      },
      "text/plain": [
       "  0%|          | 0/1 [00:00<?, ?it/s]"
      ]
     },
     "metadata": {},
     "output_type": "display_data"
    },
    {
     "data": {
      "application/vnd.jupyter.widget-view+json": {
       "model_id": "d35d693ed011459aab72bb34dfaf0677",
       "version_major": 2,
       "version_minor": 0
      },
      "text/plain": [
       "  0%|          | 0/1 [00:00<?, ?it/s]"
      ]
     },
     "metadata": {},
     "output_type": "display_data"
    },
    {
     "name": "stdout",
     "output_type": "stream",
     "text": [
      "Dataset text downloaded and prepared to C:\\Users\\Prannaya\\.cache\\huggingface\\datasets\\text\\default-24ff3082295f57a9\\0.0.0\\08f6fb1dd2dab0a18ea441c359e1d63794ea8cb53e7863e6edf8fc5655e47ec4. Subsequent calls will reuse this data.\n"
     ]
    },
    {
     "data": {
      "application/vnd.jupyter.widget-view+json": {
       "model_id": "6e74308ba9b245218c52cc050d475e8b",
       "version_major": 2,
       "version_minor": 0
      },
      "text/plain": [
       "  0%|          | 0/1 [00:00<?, ?it/s]"
      ]
     },
     "metadata": {},
     "output_type": "display_data"
    },
    {
     "data": {
      "application/vnd.jupyter.widget-view+json": {
       "model_id": "2fffca99e4714f2ca222d4094420a8d9",
       "version_major": 2,
       "version_minor": 0
      },
      "text/plain": [
       "  0%|          | 0/1 [00:00<?, ?ba/s]"
      ]
     },
     "metadata": {},
     "output_type": "display_data"
    },
    {
     "data": {
      "application/vnd.jupyter.widget-view+json": {
       "model_id": "03be4bc67b2e4cc5afd80731ba52212f",
       "version_major": 2,
       "version_minor": 0
      },
      "text/plain": [
       "  0%|          | 0/15 [00:00<?, ?it/s]"
      ]
     },
     "metadata": {},
     "output_type": "display_data"
    },
    {
     "name": "stdout",
     "output_type": "stream",
     "text": [
      "BERLIN — What is your strategy during a nasal-swab antigen test? Personally, I look up and to the right as the technician inserts the little wand, either affecting an air of nonchalance or pretending I’ve been struck by a highly original thought. I know others make idle chitchat, and at least one fellow critic has taken to staring deeply into the tester’s eyes. It’s a pandemic: You get your kicks where you can. {'label': 'Evidence', 'score': 0.8664446473121643}\n",
      "At the Berlin International Film Festival — which announced its prizewinners on Wednesday but is continuing public screenings through Feb. 20 — attending members of the press have had ample opportunity to hone their swab technique. Mandatory tests every 24 hours — even for the boosted — were part of a package of restrictions that the organizers of the festival, which is known as the Berlinale, agreed to so it could take place as a physical event. {'label': 'Evidence', 'score': 0.966467559337616}\n",
      "There were complaints. But every time someone whinged about the new ticket booking system or became exasperated by the Escher-inspired exit routes, which always seemed to involve multiple uphill flights of stairs, I found myself thinking: “Deal with it.” Or sometimes, less charitably: “Suck it up.” {'label': 'Evidence', 'score': 0.34204232692718506}\n",
      "The category error from complainants is to compare this reduced-attendance edition with Before Times Berlinales. The real comparison is with last year’s online version, which debuted a stronger selection of films but didn’t feel like a festival at all. Consider that lonely experience as the alternative and the staircases, seating hassles and swabbing become a small price to pay. {'label': 'Evidence', 'score': 0.7890348434448242}\n",
      "And however deep your tester probes, it could hardly be as invasive as the public colonoscopy undergone in Peter Strickland’s willfully outré “Flux Gourmet,” one of the event’s buzzy early titles. Surely the most single-minded evocation of the discomfort of suppressing flatulence ever to get a major festival berth, Strickland’s film was only rivaled by François Ozon’s festival opener “Peter von Kant” for fun, gaudy aesthetics adorning an oddly disposable story. Ozon’s film quite amusingly pulls off its trick of overlaying details from Rainer Werner Fassbinder’s biography onto a gender-flipped reworking of Fassbinder’s 1972 classic “The Bitter Tears of Petra von Kant,” without ever actually justifying why. {'label': 'Evidence', 'score': 0.7913358807563782}\n",
      "The single-location “Peter von Kant” is one of several Berlinale films that bears the hallmarks of shooting under pandemic conditions. “Fire,” which brought Claire Denis (incredibly) her first best director award at a major film festival, is another. Here, Juliette Binoche plays a woman torn between two lovers (or between “Both Sides of the Blade,” as the film’s more evocative international title puts it). If it falls short of Denis’s highest watermarks, it is at least notable for how it acknowledges the pandemic without making it the subject of the film. {'label': 'Evidence', 'score': 0.9784438610076904}\n",
      "Quentin Dupieux’s highly enjoyable “Incredible But True” takes an oblique approach, not referencing coronavirus restrictions directly but creating unmissable parallels in what is essentially a time-travel movie. Witty and unassumingly profound, it’s a marked contrast to Bertrand Bonello’s chaotically indulgent “Coma,” which involves lockdown navel-gazing of a borderline incomprehensible nature. It received a wildly divided reception, represented by the guy beside me leaving in a huff partway in and the guy in front of me leaping to his feet shouting “Bravo!” at the end. {'label': 'Evidence', 'score': 0.821042001247406}\n",
      "Two lower-key Asian titles also unfold in coronavirus times, without being overwhelmed by pandemic paranoia. Hong Sangsoo’s “The Novelist’s Film” is another deceptively breezy slice of life from the Korean director, which brought him — a perennial prize taker at the Berlinale — the runner-up Grand Prix award. The notion that this makes the festival’s jury president, M. Night Shyamalan, a de facto member of “the Hong Hive” is remarkable for anyone acquainted with their respective oeuvres — the kind of thought it’s useful to have strike you when you’re having your nose swabbed and want to look loftily away. {'label': 'Evidence', 'score': 0.9901236891746521}\n",
      "The accurately named Japanese gem “Small, Slow But Steady” also featured masks, though here we notice the difficulties they present for lip readers. The beautifully absorbing story of a deaf female boxer whose beloved gym is facing closure, ​​Sho Miyake’s affecting drama is miniature in every way except emotional impact. Its bittersweet main idea, about a treasured place facing its imminent end, is writ in larger, bolder, colors in Carla Simón’s “Alcarràs,” which won the Golden Bear, the festival’s top award. {'label': 'Evidence', 'score': 0.9510142803192139}\n",
      "“Alcarràs” follows the windy, sun-blasted fortunes of the Solé family, from the Catalonia region of Spain, during the family peach orchard’s last harvest before demolition. It’s a lovely, chattering, life-filled title featuring irresistible performances from its nonprofessional, all-ages ensemble cast. Its triumph here makes it the third consecutive time, after Cannes and Venice, that a major European festival’s highest honor has gone to a woman for her second film. {'label': 'Evidence', 'score': 0.7182796597480774}\n",
      "But for all its sunshine and sad, brave wisdom, “Alcarràs” was, for me, outmatched by a much wintrier competition title. Ulrich Seidl’s “Rimini” is an uncompromising, coldly provocative drama that gathered no prizes, which is a shame. But that its star, Michael Thomas, playing a washed-up club singer in an off-season Italian beach town, was not specifically recognized is more or less a crime. My other competition favorite, Natalia López Gallardo’s formally striking debut feature “Robe of Gems,” did pick up the Jury Prize. But otherwise, as has been the case since the Encounters sidebar was inaugurated in 2020, a lot of the more interesting titles ended up there rather than in the main competition. {'label': 'Evidence', 'score': 0.5673873424530029}\n",
      "In particular, Jöns Jönsson’s “Axiom” is a clever examination of the psychology of a compulsive liar. And best of all — in this section, this festival and, for me, this year so far — there’s Cyril Schäublin’s utterly singular “Unrest,” a movie that is defiantly uncategorizable, unless you have a category earmarked “playful, otherworldly tales of watchmaking and anarchism in 1870s Switzerland.” {'label': 'Evidence', 'score': 0.7486115097999573}\n",
      "“Unrest” was the most transporting movie I saw in Berlin, at least until I physically transported myself to the city’s planetarium to watch Liz Rosenfeld’s experimental “White Sands Crystal Foxes.” The film itself is a rather exasperatingly overwritten art piece, but the experience was little short of transcendent. Lying under a domed 360-degree projection, suspended amid cascading imagery, I felt pleasantly disembodied. Later, it occurred to me how odd it was to yearn for a return to the real world, just to better escape it again. {'label': 'Evidence', 'score': 0.9676122665405273}\n",
      "To that end — escapism — the most all-cylinders-firing section of this year’s Berlinale was undoubtedly the terrific retrospective, called “No Angels” and comprising 27 Golden Age Hollywood comedies, each starring Mae West, Rosalind Russell or Carole Lombard. The actresses’ big hits, like “My Little Chickadee,” “His Girl Friday” and “My Man Godfrey” were there, but this blast of a selection also unearthed less well-known but no less delightful titles. “Four’s a Crowd,” starring Russell alongside Errol Flynn and Olivia de Havilland is one, as is “Lady By Choice,” in which Lombard plays a showgirl-come-good who “adopts” a fake mother as a publicity stunt. Retreating into a screwball-comedy world might just be the best way to massage away the annoyances of the real one. {'label': 'Evidence', 'score': 0.6910614371299744}\n",
      "Then again, as the days zipped by and the staircases seemed to just get longer, it became clear that the irritations of real life are an integral part of what we missed so sorely during last year’s remote edition. At one public screening, a couple started arguing loudly with an usher when she told them they must leave an empty seat between them. I was annoyed by them. And then I remembered to be delighted that I could be annoyed by other physical humans being physically annoying in a physical place. “Suck it up,” I wanted to tell them. But also, “I love you.” {'label': 'Evidence', 'score': 0.9440996050834656}\n"
     ]
    },
    {
     "name": "stderr",
     "output_type": "stream",
     "text": [
      "Using custom data configuration default-4d9df6efc89dca36\n"
     ]
    },
    {
     "name": "stdout",
     "output_type": "stream",
     "text": [
      "Downloading and preparing dataset text/default to C:\\Users\\Prannaya\\.cache\\huggingface\\datasets\\text\\default-4d9df6efc89dca36\\0.0.0\\08f6fb1dd2dab0a18ea441c359e1d63794ea8cb53e7863e6edf8fc5655e47ec4...\n"
     ]
    },
    {
     "data": {
      "application/vnd.jupyter.widget-view+json": {
       "model_id": "7b0a89db00524ba8b096131d997b64df",
       "version_major": 2,
       "version_minor": 0
      },
      "text/plain": [
       "  0%|          | 0/1 [00:00<?, ?it/s]"
      ]
     },
     "metadata": {},
     "output_type": "display_data"
    },
    {
     "data": {
      "application/vnd.jupyter.widget-view+json": {
       "model_id": "a55579ccf75b4b85a2c3aaefaa67e4d8",
       "version_major": 2,
       "version_minor": 0
      },
      "text/plain": [
       "  0%|          | 0/1 [00:00<?, ?it/s]"
      ]
     },
     "metadata": {},
     "output_type": "display_data"
    },
    {
     "name": "stdout",
     "output_type": "stream",
     "text": [
      "Dataset text downloaded and prepared to C:\\Users\\Prannaya\\.cache\\huggingface\\datasets\\text\\default-4d9df6efc89dca36\\0.0.0\\08f6fb1dd2dab0a18ea441c359e1d63794ea8cb53e7863e6edf8fc5655e47ec4. Subsequent calls will reuse this data.\n"
     ]
    },
    {
     "data": {
      "application/vnd.jupyter.widget-view+json": {
       "model_id": "bc120c0f99fe4704a7912533b2b74ff8",
       "version_major": 2,
       "version_minor": 0
      },
      "text/plain": [
       "  0%|          | 0/1 [00:00<?, ?it/s]"
      ]
     },
     "metadata": {},
     "output_type": "display_data"
    },
    {
     "data": {
      "application/vnd.jupyter.widget-view+json": {
       "model_id": "2b629321aa4948d0887528ee87e65789",
       "version_major": 2,
       "version_minor": 0
      },
      "text/plain": [
       "  0%|          | 0/1 [00:00<?, ?ba/s]"
      ]
     },
     "metadata": {},
     "output_type": "display_data"
    },
    {
     "data": {
      "application/vnd.jupyter.widget-view+json": {
       "model_id": "4b4b9ef70f7f4f569bcf8a00d526128c",
       "version_major": 2,
       "version_minor": 0
      },
      "text/plain": [
       "  0%|          | 0/16 [00:00<?, ?it/s]"
      ]
     },
     "metadata": {},
     "output_type": "display_data"
    },
    {
     "name": "stdout",
     "output_type": "stream",
     "text": [
      "Thirteen months into the Biden administration, Democrats face a troubling paradox. By many measures the economy has done very well, hugely outperforming expectations for growth and job creation. A record number of Americans say that it’s a good time to find a quality job. But inflation has spiked, consumer sentiment has plunged, and polls show that economic perceptions are currently a big liability for their party. {'label': 'Lead', 'score': 0.4596618413925171}\n",
      "How should President Biden talk about this situation? Obviously he needs to acknowledge the inflation problem. But there’s a debate among pundits, and presumably within the party’s inner circles, about how much he should tout his achievements. Some commentators seem to believe that emphasizing the good news would be a mistake, that his best move would be to demonstrate that he’s in touch by acknowledging that things have gone wrong — that he should, in effect, ratify negative narratives about the economy. {'label': 'Lead', 'score': 0.714992880821228}\n",
      "Well, I remember the 1970s, and if you ask me, pundits calling on Biden to show “humility” seem to be suggesting that he should give a version of Jimmy Carter’s infamous “malaise” speech. {'label': 'Position', 'score': 0.3952346742153168}\n",
      "Furthermore, if Biden emphasizes the positive he will have reality on his side. I’ve been arguing for a while that the economy is doing much better than either consumer surveys or polling suggest. And two important new studies reinforce that case. {'label': 'Evidence', 'score': 0.5493227243423462}\n",
      "The first study, by researchers at the Federal Reserve Bank of Dallas, involves real wages — wages corrected for inflation. I’ve seen many articles simply asserting as fact that wages haven’t kept up with inflation. But is that true? {'label': 'Evidence', 'score': 0.6619830131530762}\n",
      "You might think this is a simple question to answer — just compare average wages with the level of prices. But the pandemic has messed up such comparisons by skewing the composition of the work force. In 2020 average wages went up a lot, not because individual workers were getting big raises, but because the millions of Americans laid off were disproportionately in low-paid occupations like restaurant work. Those same occupations have led the recovery in employment over the past year, so that true wage growth has been higher than the average might suggest. {'label': 'Evidence', 'score': 0.9231558442115784}\n",
      "The Dallas Fed study, which attempted to correct for these effects, found that real wages actually rose in 2021, although they slipped slightly in the second half of the year. {'label': 'Evidence', 'score': 0.3590662479400635}\n",
      "I’m not saying that workers are doing great — they aren’t. Nor should we take this study as the final word; maybe real wages are actually down a bit rather than up a bit. But these estimates are inconsistent with claims that workers have suffered large declines in their purchasing power. {'label': 'Evidence', 'score': 0.5050498247146606}\n",
      "And in terms of the politics, it seems worth noting a historical comparison: Real wages for blue-collar workers declined fairly consistently over the course of Ronald Reagan’s presidency, despite the 1985-86 plunge in world oil prices. Yet Republicans won not one but two landslide presidential election victories in the 1980s largely on the strength of perceived economic success. {'label': 'Evidence', 'score': 0.9401841759681702}\n",
      "Still, people dislike inflation even when their incomes are keeping up, perhaps because inflation creates a sense that things are out of control. This helps explain the decline in consumer sentiment over the past year, although both The Times’s Nate Cohn and I have found that the decline in confidence is bigger than you would have expected even given inflation aversion. {'label': 'Counterclaim', 'score': 0.4064345061779022}\n",
      "But there’s more. Researchers at the Federal Reserve Bank of New York point out that their bank’s survey of consumers, like other surveys, says that Americans expect high inflation this year but don’t expect it to persist. Furthermore, longer-term expectations of inflation have become less responsive to current price increases than they were in the past — which is the opposite of what you’d expect to see if people really perceived an economy spinning out of control. {'label': 'Rebuttal', 'score': 0.864601194858551}\n",
      "So Americans aren’t suffering big declines in real wages, and they see inflation as temporary, not a runaway phenomenon. Why, then, hasn’t the good economic news on other fronts made them more upbeat? {'label': 'Evidence', 'score': 0.779957115650177}\n",
      "Maybe because, for whatever reason, they haven’t heard that good news. {'label': 'Claim', 'score': 0.7946493625640869}\n",
      "There are many indicators of a large divergence between what people say about their own situation — which they rate as pretty good, financially and otherwise — and what they say about what’s happening to the nation as a whole. That is, they imagine that others are doing badly even though they themselves are doing OK. {'label': 'Evidence', 'score': 0.7784790992736816}\n",
      "Some of this represents immovable partisanship — nothing will convince Republicans that things aren’t terrible. But as Greg Sargent of The Washington Post points out, recent polling finds that when voters are presented with information about the good news on jobs, growth and unemployment, their assessment of the economy — and of Democrats — improves substantially. {'label': 'Rebuttal', 'score': 0.4267902374267578}\n",
      "So Biden should indeed talk about his successes. He shouldn’t ignore the negatives — although denial of awkward reality has historically worked well for Republicans. But he should tout the good things that have happened on his watch. After all, if he won’t, who will? A good economy won’t sell itself. {'label': 'Concluding Statement', 'score': 0.9393945336341858}\n"
     ]
    },
    {
     "name": "stderr",
     "output_type": "stream",
     "text": [
      "Using custom data configuration default-b82e802c7777237b\n"
     ]
    },
    {
     "name": "stdout",
     "output_type": "stream",
     "text": [
      "Downloading and preparing dataset text/default to C:\\Users\\Prannaya\\.cache\\huggingface\\datasets\\text\\default-b82e802c7777237b\\0.0.0\\08f6fb1dd2dab0a18ea441c359e1d63794ea8cb53e7863e6edf8fc5655e47ec4...\n"
     ]
    },
    {
     "data": {
      "application/vnd.jupyter.widget-view+json": {
       "model_id": "8052b6c2cf8442e2a87ec32c7a8a4434",
       "version_major": 2,
       "version_minor": 0
      },
      "text/plain": [
       "  0%|          | 0/1 [00:00<?, ?it/s]"
      ]
     },
     "metadata": {},
     "output_type": "display_data"
    },
    {
     "data": {
      "application/vnd.jupyter.widget-view+json": {
       "model_id": "e5b82d7387fa4e98a471dd5c37e58f55",
       "version_major": 2,
       "version_minor": 0
      },
      "text/plain": [
       "  0%|          | 0/1 [00:00<?, ?it/s]"
      ]
     },
     "metadata": {},
     "output_type": "display_data"
    },
    {
     "name": "stdout",
     "output_type": "stream",
     "text": [
      "Dataset text downloaded and prepared to C:\\Users\\Prannaya\\.cache\\huggingface\\datasets\\text\\default-b82e802c7777237b\\0.0.0\\08f6fb1dd2dab0a18ea441c359e1d63794ea8cb53e7863e6edf8fc5655e47ec4. Subsequent calls will reuse this data.\n"
     ]
    },
    {
     "data": {
      "application/vnd.jupyter.widget-view+json": {
       "model_id": "e5a3e96eb7c341ea9203412f93ffffe7",
       "version_major": 2,
       "version_minor": 0
      },
      "text/plain": [
       "  0%|          | 0/1 [00:00<?, ?it/s]"
      ]
     },
     "metadata": {},
     "output_type": "display_data"
    },
    {
     "data": {
      "application/vnd.jupyter.widget-view+json": {
       "model_id": "f683394e108a42898ed93a3030329dc0",
       "version_major": 2,
       "version_minor": 0
      },
      "text/plain": [
       "  0%|          | 0/1 [00:00<?, ?ba/s]"
      ]
     },
     "metadata": {},
     "output_type": "display_data"
    },
    {
     "data": {
      "application/vnd.jupyter.widget-view+json": {
       "model_id": "8ebb91c5f9ac4651927a90ea9be19cbc",
       "version_major": 2,
       "version_minor": 0
      },
      "text/plain": [
       "  0%|          | 0/13 [00:00<?, ?it/s]"
      ]
     },
     "metadata": {},
     "output_type": "display_data"
    },
    {
     "name": "stdout",
     "output_type": "stream",
     "text": [
      "WASHINGTON — The Biden administration said on Thursday it would propose a regulation that some say would make it harder for future administrations to restore the Trump-era “public charge” policy that allowed officials to deny permanent residency to immigrants who received or were most likely to need public benefits. {'label': 'Evidence', 'score': 0.6895141005516052}\n",
      "Immigration advocates, who have been critical of the progress President Biden has made over the past year in reversing his predecessor’s immigration policies, welcomed the announcement. Even though former President Donald J. Trump’s rule was halted last year, immigrants hoping for green cards have continued to be wary of doing anything that they feared could jeopardize their chances of getting them, including going to the hospital or getting a Covid-19 vaccine. {'label': 'Evidence', 'score': 0.8453570604324341}\n",
      "Lingering fears about the Trump rule have made it “much more difficult to address the harms of the pandemic” for immigrants lacking permanent legal status, said Tanya Broder, a lawyer with the National Immigration Law Center. The Trump administration’s rule went into effect in February 2020, just weeks before the reach of the coronavirus in the United States became clear. {'label': 'Evidence', 'score': 0.9473098516464233}\n",
      "While the Trump policy has not been in effect for nearly a year, the Biden administration’s new rule would be more resilient to potential legal challenges and harder to reverse by a new administration than the one it issued last March, policy experts said. {'label': 'Claim', 'score': 0.31188517808914185}\n",
      "In U.S. immigration law, the idea of public charges has historically applied to those deemed likely to primarily depend on the federal government for survival, such as through public cash assistance or institutionalized long-term care. Mr. Trump’s rule expanded the definition, changing what had been common practice for 20 years, and was seen by many as a way to keep out poor immigrants. {'label': 'Evidence', 'score': 0.9422754645347595}\n",
      "The Trump administration, however, expanded the list of benefits that could make a new immigrant ineligible for permanent residency, adding Medicaid, food stamps and subsidized housing, for example. Researchers have said the policy prompted many families to drop off the benefit rolls, even if they had children who were U.S. citizens and could use such programs with no effect on their immigration applications. {'label': 'Evidence', 'score': 0.43186041712760925}\n",
      "In November 2020, a federal district court ordered the Trump administration to stop enforcing the policy. {'label': 'Claim', 'score': 0.5253772139549255}\n",
      "Last March, the definition reverted back to what it had been before; the new proposal would continue to use the old language. {'label': 'Claim', 'score': 0.7569808959960938}\n",
      "“The 2019 public charge rule was not consistent with our nation’s values,” Alejandro N. Mayorkas, the homeland security secretary, said in a statement on Thursday. “Under this proposed rule, we will return to the historical understanding of the term ‘public charge’ and individuals will not be penalized for choosing to access the health benefits and other supplemental government services available to them.” {'label': 'Evidence', 'score': 0.8330368995666504}\n",
      " The new proposed regulation, which will be open to public comments for 60 days once it is published in the Federal Register, is “more legally defensible,” because it is going through the government’s rule-making process, said Julia Gelatt, a senior policy analyst at the nonpartisan Migration Policy Institute. It also adds specificity to some of the terms and clauses in an initial 1999 guidance, so less will be left to interpretation, she said. {'label': 'Evidence', 'score': 0.7760686874389648}\n",
      "The Trump rule spurred so much fear in immigrant communities that some people who were not subject to the public charge regulation started to avoid public benefits all together. {'label': 'Claim', 'score': 0.5808954834938049}\n",
      "Advocates said they hoped the new proposed rule would make immigrants more comfortable applying for public benefits for which they are eligible, which can vary by state. {'label': 'Counterclaim', 'score': 0.8699418306350708}\n",
      "“The forthcoming public charge rule is particularly significant given the enduring chilling effect we have seen among immigrant communities fearful of accessing benefits to which they are entitled,” said Krish O’Mara Vignarajah, the chief executive of Lutheran Immigration and Refugee Service. “Equally important is the outreach the administration will extend to educate impacted communities.” {'label': 'Evidence', 'score': 0.8895456194877625}\n"
     ]
    },
    {
     "name": "stderr",
     "output_type": "stream",
     "text": [
      "Using custom data configuration default-353690eac02a55e7\n"
     ]
    },
    {
     "name": "stdout",
     "output_type": "stream",
     "text": [
      "Downloading and preparing dataset text/default to C:\\Users\\Prannaya\\.cache\\huggingface\\datasets\\text\\default-353690eac02a55e7\\0.0.0\\08f6fb1dd2dab0a18ea441c359e1d63794ea8cb53e7863e6edf8fc5655e47ec4...\n"
     ]
    },
    {
     "data": {
      "application/vnd.jupyter.widget-view+json": {
       "model_id": "3e8b6e2140c14ffea9082df59d2d9ab8",
       "version_major": 2,
       "version_minor": 0
      },
      "text/plain": [
       "  0%|          | 0/1 [00:00<?, ?it/s]"
      ]
     },
     "metadata": {},
     "output_type": "display_data"
    },
    {
     "data": {
      "application/vnd.jupyter.widget-view+json": {
       "model_id": "b31e71b6e2b0454dbee0987ba67a0fb5",
       "version_major": 2,
       "version_minor": 0
      },
      "text/plain": [
       "  0%|          | 0/1 [00:00<?, ?it/s]"
      ]
     },
     "metadata": {},
     "output_type": "display_data"
    },
    {
     "name": "stdout",
     "output_type": "stream",
     "text": [
      "Dataset text downloaded and prepared to C:\\Users\\Prannaya\\.cache\\huggingface\\datasets\\text\\default-353690eac02a55e7\\0.0.0\\08f6fb1dd2dab0a18ea441c359e1d63794ea8cb53e7863e6edf8fc5655e47ec4. Subsequent calls will reuse this data.\n"
     ]
    },
    {
     "data": {
      "application/vnd.jupyter.widget-view+json": {
       "model_id": "9795445013064f9c98048d2675e77d07",
       "version_major": 2,
       "version_minor": 0
      },
      "text/plain": [
       "  0%|          | 0/1 [00:00<?, ?it/s]"
      ]
     },
     "metadata": {},
     "output_type": "display_data"
    },
    {
     "data": {
      "application/vnd.jupyter.widget-view+json": {
       "model_id": "da600f84cd1349baab1f0973fded9e96",
       "version_major": 2,
       "version_minor": 0
      },
      "text/plain": [
       "  0%|          | 0/1 [00:00<?, ?ba/s]"
      ]
     },
     "metadata": {},
     "output_type": "display_data"
    },
    {
     "data": {
      "application/vnd.jupyter.widget-view+json": {
       "model_id": "3163a4743d7d424ba3edf7329b7221bc",
       "version_major": 2,
       "version_minor": 0
      },
      "text/plain": [
       "  0%|          | 0/37 [00:00<?, ?it/s]"
      ]
     },
     "metadata": {},
     "output_type": "display_data"
    },
    {
     "name": "stdout",
     "output_type": "stream",
     "text": [
      "WASHINGTON — President Biden said on Friday that the United States has intelligence showing that President Vladimir V. Putin of Russia has made a final decision to reject diplomatic overtures and invade Ukraine, in what Mr. Biden said would be a “catastrophic and needless war of choice” in Eastern Europe. {'label': 'Evidence', 'score': 0.9345855116844177}\n",
      "Speaking from the Roosevelt Room in the White House, Mr. Biden said “we have reason to believe the Russian forces are planning to and intend to attack Ukraine in the coming week, in the coming days,” adding that “we believe that they will target Ukraine’s capital, Kyiv, a city of 2.8 million innocent people.” {'label': 'Evidence', 'score': 0.9140444993972778}\n",
      "Asked whether he thinks that Mr. Putin is still wavering about whether to invade, Mr. Biden said, “I’m convinced he’s made the decision.” Later, he added that his impression of Mr. Putin’s intentions is based on “a significant intelligence capability.” {'label': 'Evidence', 'score': 0.5453293323516846}\n",
      "Still, Mr. Biden implored Russia to “choose diplomacy.” {'label': 'Counterclaim', 'score': 0.49406594038009644}\n",
      "“It is not too late to de-escalate and return to the negotiating table,” Mr. Biden said, referring to planned talks between Secretary of State Antony J. Blinken and Russia’s foreign minister on Thursday. “If Russia takes military action before that date, it will be clear that they have slammed the door shut on diplomacy.” {'label': 'Evidence', 'score': 0.952233076095581}\n",
      "In the hours before Mr. Biden’s late afternoon remarks, Russia-backed separatists in eastern Ukraine called for mass evacuations in two contested regions of the country, claiming, with little evidence, that Ukraine’s military was about to launch a large-scale attack there, an assertion that appeared intended to provoke Russian military intervention. {'label': 'Evidence', 'score': 0.9204191565513611}\n",
      "The ominous messaging of the rebels in the regions of Donetsk and Luhansk was loudly echoed by Moscow, raising fears that Russia was setting the stage for an imminent invasion that could ignite the biggest conflict in Europe in decades. {'label': 'Evidence', 'score': 0.9366150498390198}\n",
      "The call by the Russian-backed separatists for evacuations came as they blamed Ukraine for an array of provocations, including shelling along the front lines between Ukraine and the separatist forces, and an explosion involving an empty car that pro-Moscow news outlets said belonged to the head of the region’s security services. {'label': 'Evidence', 'score': 0.9762158393859863}\n",
      "Mr. Biden, who had just concluded a video call with a dozen Western leaders, rejected the claims as lies intended by Mr. Putin to inflame the situation on the ground and provide a pretext for war — something the United States and other European leaders had been warning about for weeks. {'label': 'Rebuttal', 'score': 0.4709145426750183}\n",
      "He cited the bombing of a Ukrainian kindergarten as a Russia-backed provocation. And he pointed to Russian separatist accusations that Ukraine was planning to launch a major offensive attack as evidence of Russian efforts to justify military action with misinformation. {'label': 'Evidence', 'score': 0.9334365129470825}\n",
      "“There is simply no evidence to these assertions, and it defies basic logic to believe the Ukrainians would choose this moment, with well over 150,000 troops arrayed on its borders, to escalate a yearlong conflict,” Mr. Biden said. {'label': 'Rebuttal', 'score': 0.5346190929412842}\n",
      "The president’s comments are the clearest indications of just how close the world may be to the largest conflict in Europe since World War II. He took the highly unusual course of specifically predicting the time frame and parameters of the invasion, despite the risks that he could be proved wrong. {'label': 'Evidence', 'score': 0.5028170943260193}\n",
      "“We’re calling out Russia’s plans loudly and repeatedly,” Mr. Biden said. “Not because we want a conflict but because we’re doing everything in our power to remove any reason that Russia may give to justify invading Ukraine and prevent them from moving.” {'label': 'Evidence', 'score': 0.7983446717262268}\n",
      "The president did not say how the administration knew about Mr. Putin’s decision, but two U.S. officials said the president’s assessment was based in part on new intelligence showing that nearly half of the 150,000 Russian forces have moved out of staging and into combat formation and could launch a full-scale invasion within days. {'label': 'Evidence', 'score': 0.9125564098358154}\n",
      "The force includes 120 to 125 battalion tactical groups, up from the mid-80s earlier in the month. And some of the forces are Russian reservists who would make up an occupation force after an invasion, the officials said. The officials asked for anonymity to discuss government assessments. {'label': 'Evidence', 'score': 0.9841826558113098}\n",
      "Mr. Biden vowed that the United States and its allies were united behind imposing severe economic sanctions if Russia’s forces cross Ukraine’s borders. He said he also held a call with Democratic and Republican lawmakers who expressed united support for the administration during a visit to Munich for a security conference. {'label': 'Evidence', 'score': 0.9746407270431519}\n",
      "In Ukraine, the head of the country’s Ministry of Defense said the claim of an imminent attack by its military was categorically false and intended to inflame tensions. But the ministry issued a stark warning to residents of the contested regions “not to leave their homes and not to use public transport.” It cited “information that Russian special services have mined a number of social infrastructure facilities in Donetsk,” with the aim of “destabilizing the situation” there. {'label': 'Evidence', 'score': 0.972236692905426}\n",
      "The warning reflected how Russia appeared to be pulling out all the stops to pressure the Ukrainians short of sending its troops across the border. {'label': 'Evidence', 'score': 0.6515329480171204}\n",
      "The fears of brewing conflict were reinforced as U.S. officials said that as many as 190,000 troops and aligned militias were arrayed in and near Ukraine, a number that includes the separatists. The assessment was delivered in a statement by the U.S. mission to the Organization for Security and Cooperation in Europe, which called it “the most significant military mobilization in Europe since the Second World War.” {'label': 'Evidence', 'score': 0.974891722202301}\n",
      "Consistent with Russia’s contradictory messaging throughout the crisis, however, Mr. Putin said on Friday that he was prepared for further diplomacy. The announcement of the meeting between Mr. Blinken and the Russian foreign minister, Sergey V. Lavrov, calmed jittery markets and suggested that there was still hope for the crisis to be resolved without war. {'label': 'Rebuttal', 'score': 0.5126962661743164}\n",
      "But Mr. Putin emphasized that Russia would continue to insist on far-reaching demands for “security guarantees” in Eastern Europe that the West has rejected — such as a halt to the eastward expansion of NATO and the pullback of the alliance’s forces from the region. {'label': 'Rebuttal', 'score': 0.7653526663780212}\n",
      "“We are ready to go on the negotiating track under the condition that all questions will be considered together, without being separated from Russia’s main proposals,” Mr. Putin said in a news conference alongside his close ally President Aleksandr G. Lukashenko of Belarus, who was visiting Moscow. {'label': 'Evidence', 'score': 0.8588112592697144}\n",
      "Friday’s drumbeat of alarms from the separatists about Ukrainian provocations aligned with how Western officials have been warning that a “false flag” incident could be used to start a military conflict. {'label': 'Evidence', 'score': 0.74831223487854}\n",
      "In calling for people in the contested areas to evacuate to Russia, Denis Pushilin, the pro-Moscow leader of the Donetsk People’s Republic, offered a stark version of what might be coming in citing supposed provocations by Ukraine. {'label': 'Evidence', 'score': 0.7311024069786072}\n",
      "“Very soon, President of Ukraine Volodymyr Zelensky will order the military to go on an offensive, to implement a plan to invade the territory of Donetsk and Luhansk people’s republics,” he said in a video posted online, offering no evidence. {'label': 'Evidence', 'score': 0.7590333223342896}\n",
      "Kyiv firmly denied Moscow’s accusations. And in his remarks Friday, Mr. Biden said there was “no evidence” behind them. {'label': 'Evidence', 'score': 0.3347277045249939}\n",
      "Although Moscow insists that it has no plans for an invasion, it has vowed to mount “a tough response” if the United States and its NATO partners do not roll back their presence in Eastern Europe. {'label': 'Claim', 'score': 0.4541341960430145}\n",
      "In a demonstration of strength, Russia plans major drills this weekend that will include the launch of ballistic and cruise missiles, the country’s Defense Ministry said, according to the Interfax news agency. {'label': 'Evidence', 'score': 0.8572456240653992}\n"
     ]
    },
    {
     "name": "stdout",
     "output_type": "stream",
     "text": [
      "Russia’s drills will test its strategic nuclear forces, which include the land-based launchers, bombers and warships used to deliver nuclear weapons. They will involve the Black Sea Fleet, which has been engaged in large-scale exercises in the region bordering Ukraine. Mr. Putin will preside over them from a “situation center,” the Kremlin said. {'label': 'Evidence', 'score': 0.9916961789131165}\n",
      "The Defense Ministry said the drills had been planned in advance, and Dmitri S. Peskov, Mr. Putin’s spokesman, denied that they were intended to raise tensions with the West. But they will come at a critical juncture in the standoff over Ukraine. {'label': 'Evidence', 'score': 0.9371641874313354}\n",
      "Near the front in Ukraine, it was possible to hear the blasts from munitions fired by the Ukrainian military and incoming fire from the pro-Russian separatists. {'label': 'Evidence', 'score': 0.7469472885131836}\n",
      "A total of 12 houses were damaged by shelling Friday morning, said a local branch of the United Nations High Commissioner for Refugees. {'label': 'Evidence', 'score': 0.6155592203140259}\n",
      "In remarks before Ukraine’s parliament, the country’s defense minister, Oleksiy Reznikov, urged Ukrainians living in the separatist-held territory not to believe Russian propaganda that the Ukrainian government was going to attack them. {'label': 'Evidence', 'score': 0.7253041863441467}\n",
      "“Don’t be afraid,” he said. “Ukraine is not your enemy.” {'label': 'Evidence', 'score': 0.39312347769737244}\n",
      "An estimated 3.5 million people live in the two breakaway regions, and self-declared republics, and since the war started there, Russia has handed out citizenship to more than 700,000 people living in the Donbas region. In his messaging on Ukraine, Mr. Putin has warned of the plight of ethnic Russians in the country, saying that events in eastern Ukraine “resemble genocide.” {'label': 'Evidence', 'score': 0.9799791574478149}\n",
      "Highlighting the growing risk of military conflict, Britain announced Friday night that it was following the United States’ lead in evacuating its embassy from Kyiv to the western city of Lviv. {'label': 'Evidence', 'score': 0.6165778636932373}\n",
      "With fears running high that Russian troops in Belarus could invade Ukraine from the northern border with Belarus, only 140 miles from the capital, the Ukrainian authorities ordered the site of the Chernobyl nuclear disaster closed to tourists. {'label': 'Evidence', 'score': 0.9490373730659485}\n"
     ]
    },
    {
     "name": "stderr",
     "output_type": "stream",
     "text": [
      "Using custom data configuration default-0b9301a59ee07381\n"
     ]
    },
    {
     "name": "stdout",
     "output_type": "stream",
     "text": [
      "Downloading and preparing dataset text/default to C:\\Users\\Prannaya\\.cache\\huggingface\\datasets\\text\\default-0b9301a59ee07381\\0.0.0\\08f6fb1dd2dab0a18ea441c359e1d63794ea8cb53e7863e6edf8fc5655e47ec4...\n"
     ]
    },
    {
     "data": {
      "application/vnd.jupyter.widget-view+json": {
       "model_id": "80b9e5a113824a59820858e289613e53",
       "version_major": 2,
       "version_minor": 0
      },
      "text/plain": [
       "  0%|          | 0/1 [00:00<?, ?it/s]"
      ]
     },
     "metadata": {},
     "output_type": "display_data"
    },
    {
     "data": {
      "application/vnd.jupyter.widget-view+json": {
       "model_id": "48e881d69b31410999d01c3a3ebe4f95",
       "version_major": 2,
       "version_minor": 0
      },
      "text/plain": [
       "  0%|          | 0/1 [00:00<?, ?it/s]"
      ]
     },
     "metadata": {},
     "output_type": "display_data"
    },
    {
     "name": "stdout",
     "output_type": "stream",
     "text": [
      "Dataset text downloaded and prepared to C:\\Users\\Prannaya\\.cache\\huggingface\\datasets\\text\\default-0b9301a59ee07381\\0.0.0\\08f6fb1dd2dab0a18ea441c359e1d63794ea8cb53e7863e6edf8fc5655e47ec4. Subsequent calls will reuse this data.\n"
     ]
    },
    {
     "data": {
      "application/vnd.jupyter.widget-view+json": {
       "model_id": "91e6fe68566a49a291201d877fbfe0c9",
       "version_major": 2,
       "version_minor": 0
      },
      "text/plain": [
       "  0%|          | 0/1 [00:00<?, ?it/s]"
      ]
     },
     "metadata": {},
     "output_type": "display_data"
    },
    {
     "data": {
      "application/vnd.jupyter.widget-view+json": {
       "model_id": "bb7c8cef243f44fc9d7aecaaf0a8521b",
       "version_major": 2,
       "version_minor": 0
      },
      "text/plain": [
       "  0%|          | 0/1 [00:00<?, ?ba/s]"
      ]
     },
     "metadata": {},
     "output_type": "display_data"
    },
    {
     "data": {
      "application/vnd.jupyter.widget-view+json": {
       "model_id": "b39cd6f249694714bb6c72123c63218e",
       "version_major": 2,
       "version_minor": 0
      },
      "text/plain": [
       "  0%|          | 0/16 [00:00<?, ?it/s]"
      ]
     },
     "metadata": {},
     "output_type": "display_data"
    },
    {
     "name": "stdout",
     "output_type": "stream",
     "text": [
      "The stock market has lately soured on the technology industry. Stock prices of many of the largest companies are down this year, some slightly — shares of Apple and Google have fallen more than 6 percent — and some stupendously: Facebook's parent company, Meta, and Netflix have lost about a third of their value since the New Year. Because surging tech stocks drove a big part of the stock market’s rise in 2021, their decline has contributed much to the market’s fall. The S & P 500 is down by about 7 percent in 2022. {'label': 'Evidence', 'score': 0.9808128476142883}\n",
      "It’s obvious why investors are spooked. Omicron, inflation, likely interest rate hikes, a possible war in Europe, Canadians acting very un-Canadianly — unpredictable forces have taken hold of the global economy, so it’s not unreasonable to expect trouble ahead for some of the largest companies in the world. {'label': 'Evidence', 'score': 0.7393566966056824}\n",
      "But in the last few weeks, as corporations announced their financial performance for the final months of 2021, I’ve found it hard to focus on what might now go wrong for the tech industry. {'label': 'Rebuttal', 'score': 0.8736463189125061}\n",
      "Amazon, Apple, Google and Microsoft — the four American companies now worth more than a trillion dollars each (actually, Microsoft is above $2 trillion, and Apple nearly $3 trillion) — reported enviable growth in 2021. Even Facebook’s disappointing earnings were relative: The company’s profits grew by 35 percent in 2021, down from nearly 60 percent growth in 2020. {'label': 'Evidence', 'score': 0.9886559247970581}\n",
      "So the much bigger story is that after all that has gone right during the pandemic for the largest companies in tech, they now seem poised to expand their reach and influence over the rest of the economy, rather than relinquish it. {'label': 'Claim', 'score': 0.48126986622810364}\n",
      "Perhaps it’s not very surprising that the largest tech companies did really well during a pandemic that had a lot of us spending lots more time with technology. Yet the scale of their growth is staggering. {'label': 'Counterclaim', 'score': 0.5867016315460205}\n",
      "As Chaim Gartenberg of The Verge pointed out, Apple’s revenue grew by more than $90 billion in 2021, about a third more than its revenue in 2020 — and this despite a global shortage of computer chips. Amazon’s sales in 2021 were 67 percent larger than in 2019, the year before the pandemic; Google’s 2021 revenue was nearly 60 percent greater than in 2019. {'label': 'Evidence', 'score': 0.9854377508163452}\n",
      "I’ve worn down my thesaurus looking for superlatives to underline how gobsmacking these numbers are. These were already among the largest corporations ever to have existed; in 2018, Apple became the first American company to reach a trillion-dollar market valuation. Companies of that size are just not supposed to grow as quickly as they have. For years, pundits have been predicting that tech giants would eventually run up against the so-called “law of large numbers.” Yet Big Tech keeps breaking the law. {'label': 'Evidence', 'score': 0.9757441282272339}\n",
      "What’s driving tech giants’ stupefying growth? It’s not just that the pandemic drove a lot more usage of tech. A bigger deal, I think, is that the pandemic illustrated how much room there still is in our lives for adding even more tech — for our screens to become the primary portal through which a handful of companies capture a slice of everything we do. {'label': 'Evidence', 'score': 0.728618860244751}\n",
      "Consider, for instance, Apple’s “services” business — a division that includes, among other things, its App Store, Apple Pay, iCloud and its music and TV subscription plans. Traditionally Apple has made a huge amount of money from selling hardware. But iPhone sales have gone up and down over the past half decade, which makes sense; eventually everyone who wants an iPhone will have an iPhone, and with each new iPhone only slightly better than the last, people will have fewer reasons to upgrade. Indeed, iPhone sales in Apple’s holiday quarter in 2021 grew by 9 percent over 2020 — solid, but nothing like the growth Apple once saw with the iPhone. {'label': 'Evidence', 'score': 0.9953019618988037}\n",
      "And so Apple has increasingly turned to subscriptions and other online services for growth — essentially a way to grow not just by selling more iPhones, but by getting more money from each iPhone user. The plan is working spectacularly well. Apple reported that during 2020 its App Store billing and sales revenue grew by 24 percent over the previous year. Luca Maestri, Apple’s finance chief, told investors last month that the company now has 785 million paying subscribers to its various offerings — a number that grew by 165 million in the past year. For some perspective: Netflix has about 222 million subscribers in total. {'label': 'Evidence', 'score': 0.9929786324501038}\n",
      "You see a similar trend across the industry — Big Tech’s not just getting more customers for its traditional businesses, but is expanding its ancillary businesses in ways that seem impossible. Amazon, for example, is not just an indomitable retailer and the largest cloud services provider (its Amazon Web Services cloud business now has a $71 billion annual revenue run rate). The company also disclosed that its advertising business generated $31 billion in revenue in 2021, while Microsoft said its ad revenue exceeded $10 billion. Remember that ads are, in the scheme of things, a small part of the business for both companies — Amazon’s $31 billion ad business is not even 10 percent of its annual revenue. And yet it dwarfs companies whose entire business is mainly ads — Snap, for example, which had $4 billion in revenue in 2021, or Pinterest, which sold less than $2.6 billion in ads. {'label': 'Evidence', 'score': 0.9918153882026672}\n",
      "Dan Ives and John Katsingris, analysts at the investment firm Wedbush Securities, wrote in a recent report that what we are seeing now is only the beginning of a long-term explosion in tech earnings. They estimated that companies would spend a trillion dollars on cloud services over the coming years, meaning that there is a lot more room for tech companies to keep growing and growing and growing. Apple’s services business alone could be worth $1.5 trillion, Ives has estimated. He and other pundits have called the coming investment boom in tech the “Fourth Industrial Revolution.” {'label': 'Evidence', 'score': 0.9866411089897156}\n",
      "That sounds grandiose. And yet it’s hard to see what stands in Big Tech’s way. Lawmakers and regulators have expressed alarm over tech behemoths’ market power, but with the midterm election looming and Republicans and Democrats still at odds over what exactly to do to curb tech giants’ power, the window for new antimonopoly policy might be shrinking. {'label': 'Evidence', 'score': 0.48505234718322754}\n",
      "I wonder if a few years from now we’ll say that when it came to anticipating the future for Big Tech, we weren’t thinking big enough. {'label': 'Claim', 'score': 0.508987545967102}\n",
      "Farhad wants to chat with readers on the phone. If you’re interested in talking to a New York Times columnist about anything that’s on your mind, please fill out this form. Farhad will select a few readers to call. {'label': 'Evidence', 'score': 0.609149694442749}\n"
     ]
    },
    {
     "name": "stderr",
     "output_type": "stream",
     "text": [
      "Using custom data configuration default-60eefd32def3e286\n"
     ]
    },
    {
     "name": "stdout",
     "output_type": "stream",
     "text": [
      "Downloading and preparing dataset text/default to C:\\Users\\Prannaya\\.cache\\huggingface\\datasets\\text\\default-60eefd32def3e286\\0.0.0\\08f6fb1dd2dab0a18ea441c359e1d63794ea8cb53e7863e6edf8fc5655e47ec4...\n"
     ]
    },
    {
     "data": {
      "application/vnd.jupyter.widget-view+json": {
       "model_id": "45aa460030474d5c8b3076a440735f24",
       "version_major": 2,
       "version_minor": 0
      },
      "text/plain": [
       "  0%|          | 0/1 [00:00<?, ?it/s]"
      ]
     },
     "metadata": {},
     "output_type": "display_data"
    },
    {
     "data": {
      "application/vnd.jupyter.widget-view+json": {
       "model_id": "3508d7c06c8a44638ae14e95d8fcdb1d",
       "version_major": 2,
       "version_minor": 0
      },
      "text/plain": [
       "  0%|          | 0/1 [00:00<?, ?it/s]"
      ]
     },
     "metadata": {},
     "output_type": "display_data"
    },
    {
     "name": "stdout",
     "output_type": "stream",
     "text": [
      "Dataset text downloaded and prepared to C:\\Users\\Prannaya\\.cache\\huggingface\\datasets\\text\\default-60eefd32def3e286\\0.0.0\\08f6fb1dd2dab0a18ea441c359e1d63794ea8cb53e7863e6edf8fc5655e47ec4. Subsequent calls will reuse this data.\n"
     ]
    },
    {
     "data": {
      "application/vnd.jupyter.widget-view+json": {
       "model_id": "033c5c54f96d47599be861018f1f46a7",
       "version_major": 2,
       "version_minor": 0
      },
      "text/plain": [
       "  0%|          | 0/1 [00:00<?, ?it/s]"
      ]
     },
     "metadata": {},
     "output_type": "display_data"
    },
    {
     "data": {
      "application/vnd.jupyter.widget-view+json": {
       "model_id": "d5cfe0916ec549b48426f8d0e63439ad",
       "version_major": 2,
       "version_minor": 0
      },
      "text/plain": [
       "  0%|          | 0/1 [00:00<?, ?ba/s]"
      ]
     },
     "metadata": {},
     "output_type": "display_data"
    },
    {
     "data": {
      "application/vnd.jupyter.widget-view+json": {
       "model_id": "571320cc28114ab88dc724940ed90701",
       "version_major": 2,
       "version_minor": 0
      },
      "text/plain": [
       "  0%|          | 0/27 [00:00<?, ?it/s]"
      ]
     },
     "metadata": {},
     "output_type": "display_data"
    },
    {
     "name": "stdout",
     "output_type": "stream",
     "text": [
      "MUNICH — President Biden and his top aides acknowledge they are risking American credibility as they constantly renew the alarm that Russia is only “several days” away from triggering an unprovoked land war in Europe that could kill tens of thousands of Ukrainians in its opening hours, and plunge the world back into something resembling the Cold War. {'label': 'Evidence', 'score': 0.8839187622070312}\n",
      "But Mr. Biden’s aides say they are willing to take that risk. {'label': 'Rebuttal', 'score': 0.6927977800369263}\n",
      "They would rather be accused of hyperbole and fearmongering than be proven right, they say, if that’s what it takes to deter Russian President Vladimir V. Putin from pursuing an invasion that they worry will not stop at Ukraine’s borders. {'label': 'Evidence', 'score': 0.7610129117965698}\n",
      "“If Russia doesn’t invade Ukraine, then we will be relieved that Russia changed course and proved our predictions wrong,’’ Secretary of State Antony J. Blinken said at the United Nations Security Council on Thursday morning, in a speech that Mr. Biden had asked him to give only hours before. “That would be a far better outcome than the course we are currently on. And we will gladly accept any criticism that anyone directs at us.’’ {'label': 'Evidence', 'score': 0.9620378017425537}\n",
      "“I am here today not to start a war, but to prevent one,’’ he declared, an oblique reference to Colin L. Powell’s famous but false case, also made to the United Nations, about why the United States and its allies had to disarm Saddam Hussein. {'label': 'Evidence', 'score': 0.28171584010124207}\n",
      "Mr. Biden and Mr. Blinken make no secret of their suspicion that their increasingly desperate-sounding, last-ditch efforts to deter calamity will likely fail. Their pessimism was reinforced Thursday by a series of escalations. Russian-backed forces in the Donbas region appeared responsible for shelling a school, and later claimed they had come under fire from Ukrainian forces, exactly the kind of incident Mr. Blinken warned might be used as a pretext to justify an invasion. {'label': 'Evidence', 'score': 0.9658548831939697}\n",
      "Mr. Biden will hold a phone call Friday afternoon with trans-Atlantic leaders about Russia’s buildup of military troops on the border of Ukraine and continued efforts to pursue deterrence and diplomacy. {'label': 'Evidence', 'score': 0.8760912418365479}\n",
      "Russia acknowledged on Thursday having expelled the No. 2 diplomat in the American embassy in Moscow, and sent Washington a contradictory-sounding note in which it mocked the claims that it was planning to invade. It said no such action was being planned, and then warned that it would use “measures of a “military-technical character” if the West did not meet its security demands with “legally binding guarantees.” (It is not entirely clear what “military-technical” means to Mr. Putin, but officials in Washington speculate it could encompass everything from cyberweapons to relocating nuclear weapons closer to Western Europe or the United States.) {'label': 'Evidence', 'score': 0.9883736371994019}\n",
      "While Mr. Biden insisted that “every indication we have is they’re prepared to go into Ukraine,’’ a growing number of diplomats and leaders pouring into Munich for an annual security conference said they thought the best they could hope for was no invasion — but a long siege of Ukraine. Under that scenario, Mr. Putin might do everything short of sending his troops over the border — cyberattacks, assassinations, coup plots, cutting off trade — in hopes of toppling the government without triggering sanctions. {'label': 'Evidence', 'score': 0.8660091757774353}\n",
      "“My sense is that he will avoid an overt cross of the border with Russian troops and will aim for options short of that,’’ Douglas Lute, a former deputy national security adviser and former U.S. ambassador to NATO, said Thursday. {'label': 'Evidence', 'score': 0.6604226231575012}\n",
      "“He enjoys this position,’’ Mr. Lute said. “Everyone’s paying attention to him, like they haven’t in years. And he feels in control.” {'label': 'Evidence', 'score': 0.6660482287406921}\n",
      "That is all taking place on the surface. Behind the scenes, Mr. Biden’s aides are searching Mr. Putin’s comments for evidence that he is sensing that he may have overplayed his hand — that his massing of troops has managed to unify the normally fractious 30 nations that make up the North Atlantic Treaty Organization.  {'label': 'Evidence', 'score': 0.7287991046905518}\n",
      "Mr. Putin has reinvigorated an alliance that spent years confused about its purpose once it lost the adversary it was formed to contain, the Soviet Union. Now, containment is back. And European allies have largely, if reluctantly, lined up behind a sanctions plan that would cut off technology to Russian industry and separate its top banks from the world financial markets. {'label': 'Evidence', 'score': 0.8632696866989136}\n",
      "While the Russian leader has worked hard to insulate his economy from the shock of sanctions — the government has a large war chest and little debt — Mr. Putin may well be looking for fissures to exploit without risking his economy. {'label': 'Evidence', 'score': 0.4873921573162079}\n",
      "Mr. Biden continued on Thursday to take advantage of the fact that this is the first major geopolitical crisis to play out in a world of open-source intelligence — making it easier to call out Russian deceptions. {'label': 'Evidence', 'score': 0.42531120777130127}\n",
      "Americans do not need the spy-plane photographs that John F. Kennedy showed them in 1962, when he exposed the Soviet missile buildup in Cuba as a way to force Russia’s leader, Nikita S. Khrushchev, into a secret deal. {'label': 'Evidence', 'score': 0.5987462997436523}\n",
      "In this case, some of the best evidence is in the unclassified world. On television, news websites and Twitter, satellite photographs from private firms like Maxar help settle the debate about whether Mr. Putin is really sending some forces into retreat or whether, as the Americans claim, he is adding to the more than 150,000 troops that Mr. Biden said were massing on the border, along with tanks and a fearsome array of missiles. {'label': 'Evidence', 'score': 0.7585816383361816}\n",
      "So there is no real debate about what is happening on Ukraine’s borders. The firepower is there to see, and that is part of Mr. Putin’s coercion strategy. The only remaining mystery is what Mr. Putin plans to do with them. At first, U.S. officials thought he planned to use them to intimidate Ukraine’s government, force it to abandon its ambitions to join NATO at some undetermined time in the future, and stop its drift toward the West. {'label': 'Concluding Statement', 'score': 0.6522883176803589}\n",
      "Then, after Mr. Putin issued a proposed “treaty’’ in December, it seemed he had a bigger plan: to evict the United States and NATO forces from former Soviet bloc nations that have joined NATO, and roll back the world order created after the Soviet collapse 31 years ago. Two weeks ago, the American assessment changed again: Mr. Putin, intelligence and military officials said, was aiming at Kyiv, the capital of Ukraine, after concluding that cyberattacks and subversion alone were unlikely to displace the government. Only a full-scale invasion would do that. {'label': 'Evidence', 'score': 0.979961633682251}\n",
      "So the Biden administration is trying to test Mr. Putin’s bottom line. If the issue can be resolved by negotiating a new arms control pact that addresses Mr. Putin’s concerns about two antimissile emplacements in Poland and Romania, or rules around military exercises held by Russia and NATO, then there is room for deal making, the two men have said. And they have said there is room to renegotiate the Minsk agreement, a set of commitments made by Ukraine and Russia after the annexation of Crimea. Those have been selectively ignored, on both sides. {'label': 'Evidence', 'score': 0.7896090745925903}\n",
      "But it seems unlikely to longtime American officials and many of the European diplomats filtering into Munich that Mr. Putin has gone to all this expense and all this effort, and put his legacy on the line, just to paint inside the lines of the existing order. He wants to upturn it. {'label': 'Rebuttal', 'score': 0.8935739994049072}\n"
     ]
    },
    {
     "name": "stdout",
     "output_type": "stream",
     "text": [
      "Since Mr. Putin came to power 20 years ago, “Russia has been challenging that system,’’ Angela Stent, a Brookings Institution scholar and the former national intelligence officer for Russia and Eurasia, wrote recently in Foreign Affairs. “The current crisis is ultimately about Russia redrawing the post-Cold War map and seeking to reassert its influence over half of Europe, based on the claim that it is guaranteeing its own security.” {'label': 'Evidence', 'score': 0.6440642476081848}\n",
      "That does not mean there is no way out. {'label': 'Rebuttal', 'score': 0.7872887253761292}\n",
      "In the Cuban missile crisis, the closest the world came to nuclear annihilation during the Cold War, Mr. Khrushchev ultimately took his missiles home, in return for a secret promise — which Mr. Kennedy delivered on months later — to take American Jupiter missiles out of Turkey, where their nuclear warheads were in easy range of the Soviet Union. {'label': 'Evidence', 'score': 0.9632332921028137}\n",
      "It is a historical example that has lingered in the background of Situation Room debates about how to negotiate with Mr. Putin, according to two participants, who described the debates on the condition of anonymity. When Mr. Blinken offered in his speech on Thursday to meet his Russian counterpart in Europe next week, and ultimately to put together “a summit of key leaders, in the context of de-escalation, to reach understandings on our mutual security concerns,’’ it was part of the search for a modern-day analogue. {'label': 'Evidence', 'score': 0.9891172051429749}\n",
      "Mr. Biden is no stranger to such trade-offs. He is perhaps the last politician still serving in Washington who played a key role in the debates over how to resolve disputes over long-forgotten arms control treaties with the Soviets, called SALT I and SALT II. He has already noted, at a news conference in January, that Ukraine won’t be accepted into NATO for a long while, a signal to Moscow that there was room to deal. {'label': 'Evidence', 'score': 0.9642860889434814}\n",
      "And there may be. But by next week, one senior administration official said late Thursday, it may be too late. {'label': 'Evidence', 'score': 0.4205857813358307}\n"
     ]
    },
    {
     "name": "stderr",
     "output_type": "stream",
     "text": [
      "Using custom data configuration default-b53897dfecc23831\n"
     ]
    },
    {
     "name": "stdout",
     "output_type": "stream",
     "text": [
      "Downloading and preparing dataset text/default to C:\\Users\\Prannaya\\.cache\\huggingface\\datasets\\text\\default-b53897dfecc23831\\0.0.0\\08f6fb1dd2dab0a18ea441c359e1d63794ea8cb53e7863e6edf8fc5655e47ec4...\n"
     ]
    },
    {
     "data": {
      "application/vnd.jupyter.widget-view+json": {
       "model_id": "e0154f4fe9f8446e9ad6ea443896924f",
       "version_major": 2,
       "version_minor": 0
      },
      "text/plain": [
       "  0%|          | 0/1 [00:00<?, ?it/s]"
      ]
     },
     "metadata": {},
     "output_type": "display_data"
    },
    {
     "data": {
      "application/vnd.jupyter.widget-view+json": {
       "model_id": "3201035e44f24bbc86b10501a309349f",
       "version_major": 2,
       "version_minor": 0
      },
      "text/plain": [
       "  0%|          | 0/1 [00:00<?, ?it/s]"
      ]
     },
     "metadata": {},
     "output_type": "display_data"
    },
    {
     "name": "stdout",
     "output_type": "stream",
     "text": [
      "Dataset text downloaded and prepared to C:\\Users\\Prannaya\\.cache\\huggingface\\datasets\\text\\default-b53897dfecc23831\\0.0.0\\08f6fb1dd2dab0a18ea441c359e1d63794ea8cb53e7863e6edf8fc5655e47ec4. Subsequent calls will reuse this data.\n"
     ]
    },
    {
     "data": {
      "application/vnd.jupyter.widget-view+json": {
       "model_id": "4aaa390a7cc34236bb5ec1543d15c305",
       "version_major": 2,
       "version_minor": 0
      },
      "text/plain": [
       "  0%|          | 0/1 [00:00<?, ?it/s]"
      ]
     },
     "metadata": {},
     "output_type": "display_data"
    },
    {
     "data": {
      "application/vnd.jupyter.widget-view+json": {
       "model_id": "304cf9805a744b21b38bb788e717ff0a",
       "version_major": 2,
       "version_minor": 0
      },
      "text/plain": [
       "  0%|          | 0/1 [00:00<?, ?ba/s]"
      ]
     },
     "metadata": {},
     "output_type": "display_data"
    },
    {
     "data": {
      "application/vnd.jupyter.widget-view+json": {
       "model_id": "c547a315902f400baf41b135dc2d4bde",
       "version_major": 2,
       "version_minor": 0
      },
      "text/plain": [
       "  0%|          | 0/5 [00:00<?, ?it/s]"
      ]
     },
     "metadata": {},
     "output_type": "display_data"
    },
    {
     "name": "stdout",
     "output_type": "stream",
     "text": [
      "As Omicron wanes in the United States, hopes are reviving for a brighter year in travel. But the new variant has also substantially altered the landscape.  {'label': 'Claim', 'score': 0.32275715470314026}\n",
      "Our reporters explored some of the biggest travel trends to expect this year. Cities are back. Edu-vacations are a thing. And sexual wellness travel is on the rise.  {'label': 'Evidence', 'score': 0.7460879683494568}\n",
      "Experts say that travelers are ready to “go big” in 2022 with bucket-list trips to far-flung destinations, after nearly two years of stagnation.  {'label': 'Counterclaim', 'score': 0.6380918025970459}\n",
      "We want to hear from you: What’s in store for you and travel this year? Will you be going all out, or laying low? {'label': 'Lead', 'score': 0.8277378082275391}\n",
      "You can let us know by filling out this form below. We may include your response in an upcoming Travel Dispatch newsletter. {'label': 'Evidence', 'score': 0.6823993921279907}\n"
     ]
    },
    {
     "name": "stderr",
     "output_type": "stream",
     "text": [
      "Using custom data configuration default-f75ca7c46ae59c9d\n"
     ]
    },
    {
     "name": "stdout",
     "output_type": "stream",
     "text": [
      "Downloading and preparing dataset text/default to C:\\Users\\Prannaya\\.cache\\huggingface\\datasets\\text\\default-f75ca7c46ae59c9d\\0.0.0\\08f6fb1dd2dab0a18ea441c359e1d63794ea8cb53e7863e6edf8fc5655e47ec4...\n"
     ]
    },
    {
     "data": {
      "application/vnd.jupyter.widget-view+json": {
       "model_id": "32acfd4007284fdca977ec509df2d610",
       "version_major": 2,
       "version_minor": 0
      },
      "text/plain": [
       "  0%|          | 0/1 [00:00<?, ?it/s]"
      ]
     },
     "metadata": {},
     "output_type": "display_data"
    },
    {
     "data": {
      "application/vnd.jupyter.widget-view+json": {
       "model_id": "290816417ca349628041d18b7a2b7096",
       "version_major": 2,
       "version_minor": 0
      },
      "text/plain": [
       "  0%|          | 0/1 [00:00<?, ?it/s]"
      ]
     },
     "metadata": {},
     "output_type": "display_data"
    },
    {
     "name": "stdout",
     "output_type": "stream",
     "text": [
      "Dataset text downloaded and prepared to C:\\Users\\Prannaya\\.cache\\huggingface\\datasets\\text\\default-f75ca7c46ae59c9d\\0.0.0\\08f6fb1dd2dab0a18ea441c359e1d63794ea8cb53e7863e6edf8fc5655e47ec4. Subsequent calls will reuse this data.\n"
     ]
    },
    {
     "data": {
      "application/vnd.jupyter.widget-view+json": {
       "model_id": "ad94749e4be2496892788f61470d0d3b",
       "version_major": 2,
       "version_minor": 0
      },
      "text/plain": [
       "  0%|          | 0/1 [00:00<?, ?it/s]"
      ]
     },
     "metadata": {},
     "output_type": "display_data"
    },
    {
     "data": {
      "application/vnd.jupyter.widget-view+json": {
       "model_id": "e464df7e77ca4275aa83f512ebaf97e4",
       "version_major": 2,
       "version_minor": 0
      },
      "text/plain": [
       "  0%|          | 0/1 [00:00<?, ?ba/s]"
      ]
     },
     "metadata": {},
     "output_type": "display_data"
    },
    {
     "data": {
      "application/vnd.jupyter.widget-view+json": {
       "model_id": "469fed0256524dc29dc567d783efa79e",
       "version_major": 2,
       "version_minor": 0
      },
      "text/plain": [
       "  0%|          | 0/21 [00:00<?, ?it/s]"
      ]
     },
     "metadata": {},
     "output_type": "display_data"
    },
    {
     "name": "stdout",
     "output_type": "stream",
     "text": [
      "Dr. Jessi Gold, a psychiatrist at Washington University in St. Louis, knows she’s edging toward burnout when she wakes up, feels instantly angry at her email inbox and doesn’t want to get out of bed. It’s perhaps not surprising that a mental health professional who is trying to stem the rising tide of burnout could burn out sometimes, too. After all, the phenomenon has practically become ubiquitous in our culture. {'label': 'Evidence', 'score': 0.882779061794281}\n",
      "In a 2021 survey of 1,500 U.S. workers, more than half said they were feeling burned out as a result of their job demands, and a whopping 4.3 million Americans quit their jobs in December in what has come to be known as the “great resignation.” When people think of burnout, mental and emotional symptoms such as feelings of helplessness and cynicism often come to mind. But burnout can lead to physical symptoms as well, and experts say it can be wise to look out for the signs and take steps when you notice them. {'label': 'Evidence', 'score': 0.9631801843643188}\n",
      "Burnout, as it is defined, is not a medical condition — it’s “a manifestation of chronic unmitigated stress,” explained Dr. Lotte Dyrbye, a physician scientist who studies burnout at the Mayo Clinic. The World Health Organization describes burnout as a workplace phenomenon characterized by feelings of exhaustion, cynicism and reduced efficacy. {'label': 'Evidence', 'score': 0.9526765942573547}\n",
      "“You start not functioning as well, you’re missing deadlines, you’re frustrated, you’re maybe irritable with your colleagues,” said Jeanette M. Bennett, a researcher who studies the effects of stress on health at the University of North Carolina, Charlotte. {'label': 'Evidence', 'score': 0.7583631873130798}\n",
      "But stress can have wear and tear effects on the body, especially when it doesn’t ease up after a while — so it makes sense that it can incite physical symptoms, too, Dr. Bennett said. When people are under stress, their bodies undergo changes that include making higher than normal levels of stress hormones such as cortisol, adrenaline, epinephrine and norepinephrine. These changes are helpful in the short term — they give us the energy to power through difficult situations — but over time, they start harming the body. {'label': 'Rebuttal', 'score': 0.5756803750991821}\n",
      "Our bodies were “not designed for the kinds of stressors that we face today,” said Christina Maslach, a social psychologist at the University of California, Berkeley, who has spent her career studying burnout. {'label': 'Claim', 'score': 0.4667016863822937}\n",
      "Here’s how to recognize burnout in your body and what to do about it. {'label': 'Claim', 'score': 0.8529661893844604}\n",
      "One common burnout symptom is insomnia, Dr. Dyrbye said. When researchers in Italy surveyed frontline health care workers with burnout during the first peak of the pandemic, they found that 55 percent reported having difficulty falling asleep, while nearly 40 percent had nightmares. {'label': 'Evidence', 'score': 0.8623833656311035}\n",
      "Research suggests that chronic stress interferes with the complicated neurological and hormonal system that regulates sleep. It’s a vicious cycle, because not sleeping throws this system even more out of whack. If you’ve noticed you’re unable to sleep at night, that could be a sign that you’re experiencing burnout, Dr. Dyrbye said — and your sleeplessness could exacerbate the problem. {'label': 'Evidence', 'score': 0.980728805065155}\n",
      "Physical exhaustion is another common sign. Dr. Gold said that one of her key symptoms of burnout was fatigue. “I realized I was sleeping every day after work — and I was like, ‘What is wrong with me?’ but it was actually burnout,” she said. {'label': 'Evidence', 'score': 0.9171519875526428}\n",
      "Changes in eating habits — either eating more or less than usual — can also be a sign of burnout: In the study of Italian health care workers, 56 percent reported changes in food habits. People might eat less because they’re too busy or distracted, or they might find themselves craving “those comfort foods that we all like to go to when we need something to make us feel better,” Dr. Bennett said. Research suggests, too, that stress hormones can affect appetite, making people feel less hungry than usual when they’re under a lot of stress, and more hungry than usual when that stress alleviates. {'label': 'Evidence', 'score': 0.9897149205207825}\n",
      "Headaches and stomachaches can also be incited by burnout, Dr. Gold said. One study of people in Sweden suffering from exhaustion disorder — a medical condition similar to burnout — found that 67 percent reported experiencing nausea, gas or indigestion, and that 65 percent had headaches. It’s also important to note that burnout can develop alongside depression or anxiety, both of which can cause physical symptoms. Depression can cause muscle aches, stomachaches, sleep issues and appetite changes. Anxiety is linked to headaches, nausea and shortness of breath. {'label': 'Evidence', 'score': 0.9937521815299988}\n",
      "If you’re experiencing physical symptoms that could be indicative of burnout, consider seeing your primary care doctor or a mental health professional to determine whether they are driven by stress or rooted in other physical conditions, Dr. Dyrbye said. Don’t just ignore the symptoms and assume they don’t matter. {'label': 'Evidence', 'score': 0.8881696462631226}\n",
      "“It’s really easy to blow off your own symptoms, especially in our culture, where we’re taught to work hard,” Dr. Gold said. {'label': 'Claim', 'score': 0.4524225890636444}\n",
      "If it is burnout, then the best solution is to address the root of the problem. Burnout is typically recognized when it is job-driven, but chronic stress can have a variety of causes — financial problems, relationship woes, and caregiving burdens, among other things. Think about “the pebbles in your shoe all the time that you have to deal with,” Dr. Maslach said, and brainstorm ways to remove some of them, at least some of the time. Perhaps you can ask your partner to help more with your toddler’s bedtime routine, or get take-out when you’re especially busy so you don’t have to plan dinner, too. {'label': 'Evidence', 'score': 0.8684491515159607}\n",
      "Despite popular culture coverage of the issue, burnout can’t be “fixed” with better self care, Dr. Maslach said — in fact, this implication only worsens the problem, because it lays the blame and responsibility on those with burnout and implies that they should do more to feel better, which is not the case, she said. However, some lifestyle choices can make burnout less likely. Social support, for instance, can help, Dr. Gold said. This could include talking to a therapist or meeting with friends (even if over Zoom). It may also help to take advantage of mental health or exercise benefits offered by your employer. Sleeping more can help too — so if you’re suffering from insomnia, talk to a doctor about possible treatments, Dr. Bennett suggested. {'label': 'Evidence', 'score': 0.9417110681533813}\n",
      "When burnout stems from job-related woes, it may help to request better working conditions. Dr. Maslach suggested brainstorming with co-workers and presenting your employer with ideas that would help — like providing quiet areas for breaks and personal phone calls, creating “no meeting” days so that employees can have more time to focus, or ensuring that there’s always coffee in the break room. Even small changes like these can make a dent in the risk for burnout if they fix a problem people face at work every day. “It’s the chronic job stressors that drive people really nuts after a while — they don’t have the right equipment, they don’t have the things they need, they don’t have enough people to do the work,” Dr. Maslach said. {'label': 'Evidence', 'score': 0.974457859992981}\n",
      "Taking time off work could also help, but it’s likely only a temporary Band-Aid, Dr. Gold said. She compares it to using a bucket to empty water out of a sinking ship. “It’s still sinking, right? You have to do more than just occasionally take the water out,” she said. Still, it is important to take time off regularly, Dr. Dyrbye said. {'label': 'Evidence', 'score': 0.9643130898475647}\n"
     ]
    },
    {
     "name": "stdout",
     "output_type": "stream",
     "text": [
      "Ultimately, you want to ensure you have some freedom and autonomy in your job, Dr. Gold said. “Anything you can do to regain an element of control can be really helpful,” she said. That could mean doing your least favorite work activity right before your break, so you have something to look forward to during the task and time to recover from it afterward. Or it could be trading a dreaded task with a co-worker and, in return, picking up their most hated task, which might not be so difficult for you. {'label': 'Concluding Statement', 'score': 0.9446531534194946}\n",
      "Finally, while you may not want to add more to your plate, try to make a bit of time each day for something you love, Dr. Dyrbye said. Her work has found that surgeons who make time for hobbies and recreation — even just 15 to 20 minutes a day — are less likely to experience burnout than surgeons who don’t. {'label': 'Evidence', 'score': 0.7567983269691467}\n",
      "“You have to have something outside of work that helps you de-stress, that helps you focus and helps you relax,” she said. {'label': 'Evidence', 'score': 0.45927542448043823}\n"
     ]
    },
    {
     "name": "stderr",
     "output_type": "stream",
     "text": [
      "Using custom data configuration default-2723789a9039caf1\n"
     ]
    },
    {
     "name": "stdout",
     "output_type": "stream",
     "text": [
      "Downloading and preparing dataset text/default to C:\\Users\\Prannaya\\.cache\\huggingface\\datasets\\text\\default-2723789a9039caf1\\0.0.0\\08f6fb1dd2dab0a18ea441c359e1d63794ea8cb53e7863e6edf8fc5655e47ec4...\n"
     ]
    },
    {
     "data": {
      "application/vnd.jupyter.widget-view+json": {
       "model_id": "2c2306f50d9144a4ab53c9e4fd537641",
       "version_major": 2,
       "version_minor": 0
      },
      "text/plain": [
       "  0%|          | 0/1 [00:00<?, ?it/s]"
      ]
     },
     "metadata": {},
     "output_type": "display_data"
    },
    {
     "data": {
      "application/vnd.jupyter.widget-view+json": {
       "model_id": "2a9d2564c3f24dab99ab048d16ae8882",
       "version_major": 2,
       "version_minor": 0
      },
      "text/plain": [
       "  0%|          | 0/1 [00:00<?, ?it/s]"
      ]
     },
     "metadata": {},
     "output_type": "display_data"
    },
    {
     "name": "stdout",
     "output_type": "stream",
     "text": [
      "Dataset text downloaded and prepared to C:\\Users\\Prannaya\\.cache\\huggingface\\datasets\\text\\default-2723789a9039caf1\\0.0.0\\08f6fb1dd2dab0a18ea441c359e1d63794ea8cb53e7863e6edf8fc5655e47ec4. Subsequent calls will reuse this data.\n"
     ]
    },
    {
     "data": {
      "application/vnd.jupyter.widget-view+json": {
       "model_id": "af64e850422f40458f83d8921714c55a",
       "version_major": 2,
       "version_minor": 0
      },
      "text/plain": [
       "  0%|          | 0/1 [00:00<?, ?it/s]"
      ]
     },
     "metadata": {},
     "output_type": "display_data"
    },
    {
     "data": {
      "application/vnd.jupyter.widget-view+json": {
       "model_id": "8114ca340f494b4cb6ff87a1372ed552",
       "version_major": 2,
       "version_minor": 0
      },
      "text/plain": [
       "  0%|          | 0/1 [00:00<?, ?ba/s]"
      ]
     },
     "metadata": {},
     "output_type": "display_data"
    },
    {
     "data": {
      "application/vnd.jupyter.widget-view+json": {
       "model_id": "814b9dc102984c21b346fe8d42483207",
       "version_major": 2,
       "version_minor": 0
      },
      "text/plain": [
       "  0%|          | 0/18 [00:00<?, ?it/s]"
      ]
     },
     "metadata": {},
     "output_type": "display_data"
    },
    {
     "name": "stdout",
     "output_type": "stream",
     "text": [
      "The head of the California State University system, the largest four-year higher education system in the country, announced on Thursday that he was resigning, effective immediately. The chancellor, Joseph I. Castro, 55, did not give a specific reason for the decision, which came amid allegations that he had mishandled sexual harassment complaints against an administrator while he was the president of Fresno State University. {'label': 'Lead', 'score': 0.7538387179374695}\n",
      "“I have been honored to serve the California State University for more than eight years, including as its eighth chancellor, and the decision to resign is the most difficult of my professional life,” Dr. Castro said in a statement. {'label': 'Evidence', 'score': 0.4901183545589447}\n",
      "“While I disagree with many aspects of recent media reports and the ensuing commentary, it has become clear to me that resigning at this time is necessary so that the C.S.U. can maintain its focus squarely on its educational mission and the impactful work yet to be done,” he added. {'label': 'Concluding Statement', 'score': 0.36347442865371704}\n",
      "Dr. Castro appeared to be referring to a USA Today investigation published on Feb. 3 that said he had repeatedly declined to discipline Frank R. Lamas, a former vice president for student affairs at Fresno State, despite complaints against him over six years involving sexual harassment, bullying and retaliation. {'label': 'Evidence', 'score': 0.898711085319519}\n",
      "USA Today reported that Dr. Castro knew of at least seven complaints, but that he nonetheless gave Dr. Lamas raises and positive performance evaluations and endorsed him for a lifetime achievement award. The report said Dr. Lamas reached a $260,000 settlement with the university that prohibited him from ever working in the C.S.U. system. {'label': 'Evidence', 'score': 0.9239442348480225}\n",
      "On Feb. 3, C.S.U. released a statement quoting Dr. Castro as saying that he took the allegations seriously and apologized “to anyone in the Fresno State community who was impacted by Dr. Lamas’s behavior.” {'label': 'Evidence', 'score': 0.8598538637161255}\n",
      "“Within four days of having a complaint that could be formally investigated, Dr. Lamas was removed from campus and never returned,” he said. He added in that statement that “we faced a series of administrative hurdles in making a change until we had a formal complaint that could be investigated.” {'label': 'Evidence', 'score': 0.8745049238204956}\n",
      "The university said in an email on Friday that Dr. Castro would not be speaking to the media. {'label': 'Claim', 'score': 0.4867500066757202}\n",
      "On Friday, Dr. Lamas said in an emailed statement that there had been “anonymous” and “malicious and untrue allegations” against him after he started working at Fresno State in 2014, and that he left the university in 2019, agreeing to mediation. {'label': 'Evidence', 'score': 0.8488894701004028}\n",
      "“I continue to maintain my innocence,” he said. {'label': 'Claim', 'score': 0.4215790629386902}\n",
      "The California State University board of trustees said on Thursday that it first learned in early February of the concerns about Dr. Castro’s response to allegations involving Dr. Lamas. The board “immediately began reviewing the matter,” and four days after the USA Today report, it announced that it would hold a closed session on Feb. 17. {'label': 'Evidence', 'score': 0.9487724900245667}\n",
      "That day, Dr. Castro announced that he would resign. {'label': 'Claim', 'score': 0.5437723994255066}\n",
      "Dr. Castro was appointed the chancellor in September 2020 after serving as the president of the system’s Fresno campus since 2013. He was the first California native and the first Mexican American to be appointed to oversee the university. {'label': 'Evidence', 'score': 0.5978450179100037}\n",
      "He told The New York Times in an interview after his appointment that he thought C.S.U. was “the most important institution in the United States because of the students that we serve,” who are “from all different backgrounds.” {'label': 'Claim', 'score': 0.3852183222770691}\n",
      "Education advocates and other leaders had said his perspective would reflect those of the students, of whom 43 percent identified as Hispanic or Latinx. {'label': 'Claim', 'score': 0.42908015847206116}\n",
      "In his resignation statement, Dr. Castro said: “As I know from my own lived experience, our state’s and nation’s diverse and talented young people — especially low-income and first-generation students — deserve access to the transformative power of higher education that so often can seem like an elusive dream.” {'label': 'Concluding Statement', 'score': 0.32463568449020386}\n",
      "The board said that it was developing a plan to replace Dr. Castro, but that the executive vice chancellor, Steve Relyea, would serve until an interim chancellor could be named for the system, which encompasses 23 campuses, 477,000 students, and 56,000 faculty and staff members. {'label': 'Evidence', 'score': 0.7482070326805115}\n",
      "It said the trustees intended to pursue steps for a systemwide Title IX assessment, which prohibits sex discrimination in education programs that receive government funding. {'label': 'Claim', 'score': 0.5170799493789673}\n"
     ]
    },
    {
     "name": "stderr",
     "output_type": "stream",
     "text": [
      "Using custom data configuration default-bba98ec5dbc62aab\n"
     ]
    },
    {
     "name": "stdout",
     "output_type": "stream",
     "text": [
      "Downloading and preparing dataset text/default to C:\\Users\\Prannaya\\.cache\\huggingface\\datasets\\text\\default-bba98ec5dbc62aab\\0.0.0\\08f6fb1dd2dab0a18ea441c359e1d63794ea8cb53e7863e6edf8fc5655e47ec4...\n"
     ]
    },
    {
     "data": {
      "application/vnd.jupyter.widget-view+json": {
       "model_id": "baf56807f60d42f1b38c5d77cf3e7cdf",
       "version_major": 2,
       "version_minor": 0
      },
      "text/plain": [
       "  0%|          | 0/1 [00:00<?, ?it/s]"
      ]
     },
     "metadata": {},
     "output_type": "display_data"
    },
    {
     "data": {
      "application/vnd.jupyter.widget-view+json": {
       "model_id": "4dff4c43e32c41df997bc1d29a451fdf",
       "version_major": 2,
       "version_minor": 0
      },
      "text/plain": [
       "  0%|          | 0/1 [00:00<?, ?it/s]"
      ]
     },
     "metadata": {},
     "output_type": "display_data"
    },
    {
     "name": "stdout",
     "output_type": "stream",
     "text": [
      "Dataset text downloaded and prepared to C:\\Users\\Prannaya\\.cache\\huggingface\\datasets\\text\\default-bba98ec5dbc62aab\\0.0.0\\08f6fb1dd2dab0a18ea441c359e1d63794ea8cb53e7863e6edf8fc5655e47ec4. Subsequent calls will reuse this data.\n"
     ]
    },
    {
     "data": {
      "application/vnd.jupyter.widget-view+json": {
       "model_id": "5b6490c9651e4bbab3463e6ce83ad31f",
       "version_major": 2,
       "version_minor": 0
      },
      "text/plain": [
       "  0%|          | 0/1 [00:00<?, ?it/s]"
      ]
     },
     "metadata": {},
     "output_type": "display_data"
    },
    {
     "data": {
      "application/vnd.jupyter.widget-view+json": {
       "model_id": "aae0e24b47bf4f9da2b50aa54884d2ba",
       "version_major": 2,
       "version_minor": 0
      },
      "text/plain": [
       "  0%|          | 0/1 [00:00<?, ?ba/s]"
      ]
     },
     "metadata": {},
     "output_type": "display_data"
    },
    {
     "data": {
      "application/vnd.jupyter.widget-view+json": {
       "model_id": "9f0904ff5924491ba2262366c691d9fd",
       "version_major": 2,
       "version_minor": 0
      },
      "text/plain": [
       "  0%|          | 0/97 [00:00<?, ?it/s]"
      ]
     },
     "metadata": {},
     "output_type": "display_data"
    },
    {
     "name": "stdout",
     "output_type": "stream",
     "text": [
      "A swell of police officers and heavy tow trucks closed in on the encampment of truckers on Friday after three weeks of demonstrations had roiled the capital and other parts of the country. {'label': 'Evidence', 'score': 0.8576035499572754}\n",
      "Twenty-two days after a trucker convoy rumbled into Canada’s capital to protest pandemic restrictions, hundreds of police officers in downtown Ottawa moved in to arrest protesters Friday, hoping to end weeks of gridlock that have roiled the city, infuriated local residents and shaken the country. {'label': 'Evidence', 'score': 0.9588915705680847}\n",
      "After a night of unusually heavy snowfall, rows of police officers in fluorescent jackets edged steadily toward protesters on Parliament Hill, backed by at least two armored vehicles and tactical officers armed with rifles and wearing helmets. {'label': 'Evidence', 'score': 0.9253764748573303}\n",
      "By late afternoon, protesters were clashing with police officers in front of Canada’s Senate building. The Ottawa police said that some demonstrators had assaulted officers and had tried to remove their weapons. The police deployed crowd-dispersal spray against demonstrators, and officers on horseback were forcing the crowd back, leading to a rush of people trying to flee in a flood of panic. {'label': 'Evidence', 'score': 0.9634272456169128}\n",
      "Images on Canadian television showed police officers dragging one recalcitrant protester on the snowy ground near a truck draped with a Canadian flag. {'label': 'Evidence', 'score': 0.8339104652404785}\n",
      "At 4:45 p.m., after several hours of making arrests, the police cleared hundreds of protesters from a major intersection outside the Canadian Senate, where a truck blockade has been disrupting daily life. {'label': 'Evidence', 'score': 0.7626508474349976}\n",
      "Earlier, B.J. Dichter, a spokesman for the truckers’ convoy, wrote on Twitter that it was time for protesters to leave, saying that the police had smashed the windows of one driver’s truck. {'label': 'Evidence', 'score': 0.7780007719993591}\n",
      "Several heavy tow trucks whose license plates had been removed and whose company names were covered with Ottawa police stickers were towing protesters’ trucks away. The police said 21 vehicles had been towed. {'label': 'Evidence', 'score': 0.9753761887550354}\n",
      "The Ottawa Police Service said that as of Friday evening, more than 100 people had been arrested on various charges, including “mischief,” a serious offense under Canada’s criminal law, which can carry a prison term of up to 10 years. {'label': 'Evidence', 'score': 0.842698872089386}\n",
      "Among those arrested on Thursday night was Tamara Lich, a leading activist, fund-raiser and singer who in the past has advocated the secession of Canada’s western provinces. She has become one of the main voices of the protest movement. {'label': 'Evidence', 'score': 0.9249745607376099}\n",
      "The police mobilization comes after mounting criticism that law enforcement personnel have moved too slowly to end the protests, permitting protesters to taunt local residents for wearing masks, honk their horns in quiet residential neighborhoods and undermine local businesses. {'label': 'Evidence', 'score': 0.8746832609176636}\n",
      "Law enforcement officers have created a perimeter with about 100 checkpoints in Ottawa’s downtown core to keep anyone but residents from entering.  {'label': 'Evidence', 'score': 0.4895101487636566}\n",
      "There was a sense of anticipation across the trucker encampment as reports trickled in from their organizers via a text message chain that police cruisers had been seen massing outside the demonstration area. {'label': 'Evidence', 'score': 0.7807483077049255}\n",
      "“They’re coming in,” said one man wearing a Canadian flag as a cape. “They’re going to corral us.” {'label': 'Evidence', 'score': 0.692491352558136}\n",
      "While it was proceeding cautiously, the police operation appeared to be the culmination of a tenacious protest that has reverberated around the world and has been a seminal moment in the history of Canadian civil disobedience and law enforcement. Prime Minister Justin Trudeau took the rare step this week of declaring a national public order emergency — the first such declaration in half a century — to end the protests. {'label': 'Evidence', 'score': 0.8303332924842834}\n",
      "The logjam in the nation’s capital, the weekslong blockade of an Ontario bridge that is vital to automakers’ supply chains and the news media’s projection of all that onto the global stage have given the protests an outsize megaphone and impact. {'label': 'Evidence', 'score': 0.7918951511383057}\n",
      "As the police move to clamp down on the protests, the so-called “Freedom Convoy” is likely to live on long after the last trucks depart — if only as a vivid template for how civil disobedience can be effective, in particular in a liberal democracy where the threshold for intervention by law enforcement personnel to stop demonstrations can be high. {'label': 'Evidence', 'score': 0.8848325610160828}\n",
      "Much like Occupy Wall Street in 2011, the Canada convoys show that what seem like fringe political movements can gather force at a time of anxiety — and when the world’s cameras are pointed at them. Back then, the driving force was anger over endemic social inequality. These days it is a lethal global pandemic. {'label': 'Evidence', 'score': 0.9830157160758972}\n",
      "In addition to Ms. Lich, Chris Barber, another main organizer, was also arrested on Thursday.  {'label': 'Claim', 'score': 0.7083037495613098}\n",
      "Ms. Lich, of Medicine Hat, Alberta, has emerged as the public face and the most visible leader of the trucker convoy. She is a former fitness instructor who has worked in the energy sector and has sung and played guitar in a band called Blind Monday.  {'label': 'Evidence', 'score': 0.862297773361206}\n",
      "The protests began weeks ago with a loosely organized group of truckers who objected to a requirement that they be vaccinated if they cross the U.S.-Canada border. They expanded into a broader movement opposed to an array of pandemic measures and to Mr. Trudeau generally. {'label': 'Evidence', 'score': 0.8099165558815002}\n",
      "The image of Canadian police moving in and arresting protesters on Friday in the nation’s capital, backed by tactical officers wielding rifles, is a seminal moment in the history of Canadian law enforcement and civil disobedience. {'label': 'Evidence', 'score': 0.564674973487854}\n",
      "It is happening just days after Prime Minister Justin Trudeau took the rare step of declaring a national public order emergency, the first time the Canadian government has taken such action in half a century. {'label': 'Evidence', 'score': 0.44287335872650146}\n",
      "Many of the powers enabled by Mr. Trudeau’s move on Monday had already been given to the police and authorities under a state of emergency enforced earlier by the province of Ontario. But the federal declaration extended them nationwide, and also enabled banks to freeze accounts of protesters and organizers — a step the government says is now underway. {'label': 'Evidence', 'score': 0.945977509021759}\n",
      "The declaration also gave the government the power to restrict mobility, allowing Ottawa’s police to effectively seal off the city’s downtown core to residents and people who work in the area. {'label': 'Claim', 'score': 0.752102792263031}\n",
      "Under the act, police services across the country have the power to seize trucks and other vehicles used in the protests. Demonstrations that “go beyond lawful protest” can be banned, the prime minister said this week. But Mr. Trudeau and members of his cabinet offered repeated assurance that the act would not be used to suspend “fundamental rights.” {'label': 'Evidence', 'score': 0.9865425825119019}\n",
      "Mr. Trudeau’s extraordinary response brought back memories of October 1970 and a tumultuous period known as the October Crisis, when Prime Minister Pierre Elliott Trudeau — Justin Trudeau’s father — quashed a wave of terrorism by a violent Quebec separatist group by invoking the War Measures Act, and then sending in troops to Montreal. It was the only time in Canadian history that the war act was applied in peacetime. {'label': 'Evidence', 'score': 0.9320892095565796}\n",
      "The Emergencies Act was introduced in July 1988 to replace the war act. Mr. Trudeau has said that he would not use his authority under the declaration to deploy the military against the protesters. {'label': 'Evidence', 'score': 0.8029153347015381}\n",
      "As pop music played from a truck parked in front of the Canada’s Senate building, police officers surrounded the small offshoot encampment on both sides. At one point, “Let’s Get it On” by Marvin Gaye echoed through the streets. {'label': 'Evidence', 'score': 0.6409274935722351}\n"
     ]
    },
    {
     "name": "stdout",
     "output_type": "stream",
     "text": [
      "In olive green riot gear, the police cleared a line through the trucks, having already removed demonstrators from a number of the vehicles. On the other side of the knot of trucks, roughly 40 police officers in red-knit caps began to march down Rideau Street, in Ottawa’s city center, joining others on another side and filling out their ranks with more officers as trucks revved their engines. {'label': 'Evidence', 'score': 0.990708589553833}\n",
      "In front of Parliament, many members of the main protest group dashed over to watch the slow-moving advance of police officers toward an intersection blocked by other demonstrators and trucks to the east. Protesters swiftly retreated as officers, half a block away, stepped forward. {'label': 'Evidence', 'score': 0.8793973922729492}\n",
      "“They’re coming in,” said one man wearing a Canadian flag as a cape. “They’re going to corral us.” {'label': 'Evidence', 'score': 0.692491352558136}\n",
      "The truckers who remained, many of whom have been holding out for weeks, began to grow weary on Friday as the police closed in on them. {'label': 'Claim', 'score': 0.48697414994239807}\n",
      "Mike Marsh, 48, doesn’t want to leave, but he knows what’s coming. “We can’t stop them,” he said, nodding toward the direction of the police formation heading toward the stronghold of protesters still camped out near Parliament. “All we can do is slow them down.” {'label': 'Evidence', 'score': 0.8925086259841919}\n",
      "Mr. Marsh hasn’t been a commercial truck driver since getting in an accident two years ago, he said. Now he’s looking for a truck to sleep in tonight to avoid areas now occupied by law enforcement. {'label': 'Evidence', 'score': 0.8558369278907776}\n",
      "Wearing an umbrella hat emblazoned with the Canadian flag, Mr. Marsh said he couldn’t see a future for himself if the truckers have to back down. {'label': 'Evidence', 'score': 0.5728399157524109}\n",
      "“If we lose this fight I’m driving straight to Florida,” he said, “because there is no home here for me any more.” {'label': 'Claim', 'score': 0.41229233145713806}\n",
      "For residents of Ottawa, the clampdown comes as a welcome reprieve after weeks of what many have called an inadequate response from law enforcement to the occupation. {'label': 'Claim', 'score': 0.7117354869842529}\n",
      "Kathryn Moore, who works in administration at the University of Ottawa, lives west of downtown, close enough that when the wind blew the right way, she could smell diesel fumes and hear horns blaring. {'label': 'Evidence', 'score': 0.6967591047286987}\n",
      "Since the protests began, Ms. Moore said she hasn’t felt comfortable going to her office. “I headed in a couple times and just turned around,” she said, adding, “I feel relief that this is finally happening.” {'label': 'Evidence', 'score': 0.8777123093605042}\n",
      "Children scampered gleefully outside in the cold on Thursday, playing street hockey among the growling trucks occupying Parliament Hill and jumping on bouncy castles inflated for their entertainment. {'label': 'Evidence', 'score': 0.6208080053329468}\n",
      "Some were the sons and daughters of the truckers who have been camped here for nearly three weeks. Others were brought by their parents in a show of support for the convoy. {'label': 'Evidence', 'score': 0.9573219418525696}\n",
      "On Wednesday, Ottawa police officers went truck to truck handing out a notice telling demonstrators they were breaking the law and faced arrest. It warned that anyone taking a minor to an unlawful protest could be fined up to 5,000 Canadian dollars “and/or potentially spend up to five years in prison.” {'label': 'Evidence', 'score': 0.9779585003852844}\n",
      "Outside Parliament with his son and two daughters on Thursday, wearing “Make America Great Again” baseball caps, Baret McAuley, a retired oil field company manager, said the notice did not change his plans to protest with his children, Emily, 17, and Ryan and Sarah, both 12. They had driven more than 1,700 miles from Moose Jaw, Saskatchewan, a 30-hour trip. {'label': 'Evidence', 'score': 0.9803502559661865}\n",
      "“I don’t believe that any person with a soul will take away my children,” said Mr. McAuley, 47. {'label': 'Claim', 'score': 0.37780630588531494}\n",
      "A woman, who requested anonymity because she feared the consequences of violating the police order, said she arrived at the protest that morning with her young child, only to learn en route about the possible risk. They stood waiting on the street for a ride back home, she said, unwilling to take any chances. {'label': 'Evidence', 'score': 0.9463001489639282}\n",
      "Irwin Elman, who formerly served as Ontario’s child and youth advocate, sharply criticized protesting parents who planned to remain there with children. “To stay there and not exercise a parent’s duty of care to their children, and put their own rights ahead of the rights of their children, it’s unforgivable and selfish,” he said. {'label': 'Evidence', 'score': 0.6770651340484619}\n",
      "Last week, police said children were present in about 25 percent of the heavy trucks at the protest. As the police appeared to be bracing on Thursday to remove the protesters, there were fewer minors among the trucks. {'label': 'Evidence', 'score': 0.9424446225166321}\n",
      "Interim Ottawa police chief Steve Bell said in a statement Wednesday that police will be working with the Children’s Aid Society and have “a plan” to keep young people safe in the event of their caregivers’ arrest. He did not elaborate. {'label': 'Evidence', 'score': 0.9469777345657349}\n",
      "In a statement, the Children’s Aid Society of Ottawa on Wednesday urged parents to make child care arrangements should they be arrested. If children and parents are separated due to law enforcement action, the organization said, it will “work to reunite families as soon as possible.” {'label': 'Evidence', 'score': 0.9224864840507507}\n",
      "Surrounded by five of his eight children, Daryl Sheppard, a teacher from North Bay, Ontario, 220 miles northwest of Ottawa, walked through the protest on Thursday holding an anti-vaccination sign. Mr. Sheppard, 41, said he and his children would remain in Ottawa, in defiance of the emergency orders. {'label': 'Evidence', 'score': 0.9718604683876038}\n",
      "“I’m not really concerned with laws that infringe on my rights as a citizen, my right to bear witness,” he said. {'label': 'Claim', 'score': 0.431428998708725}\n",
      "There are plenty of coronavirus deniers and conspiracy theorists among the trucks in downtown Ottawa, but Mike Johnson doesn’t count himself among them. {'label': 'Evidence', 'score': 0.4766385555267334}\n",
      "Mr. Johnson, 53, said Thursday he wasn’t even particularly concerned about government mandates or vaccine passports until his son urged him to drive to the nation’s capital to protest against them a few weeks ago. {'label': 'Evidence', 'score': 0.9518074989318848}\n",
      "But now his fire engine red truck, the only thing of significant value he owns, is parked right outside Canada’s Parliament — and Mr. Johnson says he’s prepared for the police to seize it and to forsake his livelihood to defend the cause. {'label': 'Rebuttal', 'score': 0.7634939551353455}\n",
      "“When we turned our headlights toward Ottawa, I don’t think any of us knew what we were driving into,” said Mr. Johnson, a trucker from Niagara, Ontario. “I didn’t realize how bad it was until I got here.” {'label': 'Evidence', 'score': 0.8393068909645081}\n",
      "Some among the protesters have links to far-right parties whose support is so low that they hold no seats in the federal Parliament. Mr. Johnson said that he supports one such party, the People’s Party of Canada, whose leader has railed against multiculturalism, immigration and climate change “hysteria.” {'label': 'Evidence', 'score': 0.8977844715118408}\n",
      "The logjam in the nation’s capital, the weekslong blockade of an Ontario bridge that is vital to automakers’ supply chains and the media projection of all that onto the global stage have given the protests an outsized megaphone and impact. {'label': 'Evidence', 'score': 0.776948869228363}\n",
      "As the police clamp down on the protests, the so-called “Freedom Convoy” will likely live on long after the last trucks depart — if only as a vivid template of how civil disobedience can be effective, in particular in a liberal democracy where the threshold for law enforcement intervening to stop demonstrations can be high. {'label': 'Evidence', 'score': 0.8288736343383789}\n",
      "Much like Occupy Wall Street in 2011, the Canada convoys show that what seem like fringe political movements can gather force at a time of anxiety — and when the world’s cameras are pointed at them. Back then, the driving force was anger over endemic social inequality. These days it is a lethal global pandemic. {'label': 'Evidence', 'score': 0.9830157160758972}\n"
     ]
    },
    {
     "name": "stdout",
     "output_type": "stream",
     "text": [
      "Mr. Johnson never got vaccinated and didn’t have to — hauling scrap metal around northern Ontario doesn’t require border crossing. He said he believes the coronavirus is real and when people have knocked on the door of his cab to talk about conspiracy theories he refuses to engage. {'label': 'Evidence', 'score': 0.9725605249404907}\n",
      "“That’s not why I’m here,” he said. “It’s a distraction.” {'label': 'Claim', 'score': 0.22395727038383484}\n",
      "During the occupation, his centrally located truck became a kind of command station for anyone who needed a break from the bitter cold or a place to charge a phone. The throngs of people who stopped by have moved Mr. Johnson with stories of losing their work because they don’t want to get vaccinated. {'label': 'Evidence', 'score': 0.9664930701255798}\n",
      "Mr. Johnson believes that even once the police arrive in force, the truckers will have made a lasting mark on the country by drawing attention to their demands. {'label': 'Claim', 'score': 0.5196710228919983}\n",
      "“This has already been a positive accomplishment,” he said, eyeing the police car parked on the lawn of the Parliament building. “Regardless of what happens.” {'label': 'Evidence', 'score': 0.413126677274704}\n",
      "Canada has employed strict restrictions in its efforts to fight the coronavirus pandemic. But unlike in the United States, such measures have received very little pushback or politicization. {'label': 'Evidence', 'score': 0.5626405477523804}\n",
      "However, a month ago, a law was passed requiring truckers who cross the border into the United States to be vaccinated, threatening the livelihoods of unvaccinated truckers. {'label': 'Rebuttal', 'score': 0.783822774887085}\n",
      "So a group of them, along with other organizations, assembled a convoy and drove across Canada toward the capital, Ottawa, in protest. {'label': 'Evidence', 'score': 0.8183137774467468}\n",
      "The demonstration, which many thought would last only a few days, has turned into a noisy, three-week occupation and has led Prime Minister Justin Trudeau to declare a state of national emergency. {'label': 'Evidence', 'score': 0.5729657411575317}\n",
      "“The Daily” explores how Canada got to this point, and what the protest is like on the ground. {'label': 'Claim', 'score': 0.6170654296875}\n",
      "She is a former fitness instructor who has sung and played guitar in a band called “Blind Monday” in Medicine Hat, Alberta. She was a senior member of a splinter party that advocated for Canada’s Western provinces to secede from the country. {'label': 'Evidence', 'score': 0.8784675002098083}\n",
      "And now Tamara Lich, 47, has emerged as the public face and the most visible leader of the trucker convoy against pandemic restrictions that has roiled the nation’s capital, shaken the country and prompted Prime Minister Justin Trudeau to take the drastic step of declaring a national public order emergency. {'label': 'Evidence', 'score': 0.9047033786773682}\n",
      "That visibility rose on Thursday night when Ms. Lich was arrested in Ottawa. She faced one charge for “counselling to commit the offence of mischief,” the Ottawa police said in a statement on Friday, and was due in court on Friday. {'label': 'Evidence', 'score': 0.969174325466156}\n",
      "Ms. Lich speaks publicly in measured tones, and has become adept at deploying social media — and her Twitter feed — to amplify the protesters’ grievances. {'label': 'Evidence', 'score': 0.4768873155117035}\n",
      "At a news conference in the Sheraton Ottawa Hotel on Monday, opened to media other than solely conservative-leaning news outlets for one of the first times, there was an air of gravitas in a room that echoed with the constant coughing of dozens of maskless supporters. {'label': 'Evidence', 'score': 0.7269258499145508}\n",
      "Wearing or not wearing a mask has become a potent political statement during the protests and some Ottawa residents have complained of being taunted by protesters. {'label': 'Evidence', 'score': 0.3839433193206787}\n",
      "“Some of you might oppose our grievances,” Ms. Lich said to the television cameras. Like other members of the movement, she does not wear a mask. “However, democratic society will always have non-trivial disagreements, and righteous dissidents,” she added. {'label': 'Evidence', 'score': 0.7235902547836304}\n",
      "What message discipline exists in the protest movement has come from Ms. Lich, said Jay Hill, the interim leader of the Maverick Party, a small right-of-center group based out of Calgary, Alberta, created to promote the separation of Canada’s three western Prairie Provinces from the rest of the country. Ms. Lich, who worked previously in the energy sector, has deep ties to the group. {'label': 'Evidence', 'score': 0.916060745716095}\n",
      "Even before the convoy assembled, its messaging was Ms. Lich’s preoccupation, according to Mr. Hill, who said she called him several times even before arriving in Ottawa to strategize. {'label': 'Evidence', 'score': 0.682661235332489}\n",
      "“We had a number of discussions about staying on message, about the need in this modern-day world of politics to have a very clearly defined message that is understandable and simple, a message that people can grasp hold of and run with,” he said. “Tamara clearly understands that.” {'label': 'Evidence', 'score': 0.5618240237236023}\n",
      "Ms. Lich played a leading role in organizing a GoFundMe campaign for the protests that raised $7.8 million before the crowdfunding site shut it down after receiving “police reports of violence and other unlawful activity,” GoFundMe said. {'label': 'Evidence', 'score': 0.9210736155509949}\n",
      "B.J. Dichter, an official spokesman for the convoy, said he joined the effort after Ms. Lich sought help managing the swell of donations flowing into a GoFundMe page. Mr. Dichter has a history of spouting anti-Islamist views and once said that “political Islam” is “rotting away at our society like syphilis.” He has rejected claims of racism. {'label': 'Evidence', 'score': 0.9867839813232422}\n",
      "Within the occupiers’ tightly managed ground operations, there are military hallmarks, outlined and executed by the several higher-ups who have backgrounds in the armed forces and law enforcement, according to leading members of the group. {'label': 'Claim', 'score': 0.5533501505851746}\n",
      "Their organization includes oversight of each occupied street by a so-called road captain, with sections divided and overseen by block captains who operate below them. {'label': 'Evidence', 'score': 0.6434155702590942}\n",
      "Before becoming a prominent face of the protests, Ms. Lich was a personal trainer in Medicine Hat, a town once dubbed “Hell’s Basement” by Rudyard Kipling for its location on top of a huge natural gas field. {'label': 'Evidence', 'score': 0.5827953815460205}\n",
      "Zach Smithson, an employee at Body Building Depot Fitness Emporium, where Ms. Lich used to work, said she has become the talk of the town. {'label': 'Evidence', 'score': 0.6846789121627808}\n",
      "“I think we are all very proud of her,” he said. {'label': 'Claim', 'score': 0.4039466381072998}\n",
      "Ms. Lich did not respond to a call and text message requesting an interview. {'label': 'Claim', 'score': 0.660437822341919}\n",
      "With police forces swelling in the area Friday morning, and tow trucks and other heavy equipment poised to move against them, the protesting truck drivers who have occupied downtown Ottawa for weeks were on alert on Friday for imminent police action. {'label': 'Evidence', 'score': 0.9232434034347534}\n",
      "Like truckers who had mounted blockades in other parts of Canada, they expressed defiance and the intent to hold firm against any effort to disperse them. But the defiance melted away at the other protest sites as law enforcement moved in, and the big question on Friday was whether the same would happen in Ottawa. {'label': 'Evidence', 'score': 0.9873840808868408}\n",
      "Around noon, a spokesman for the protesters, B.J. Dichter, tweeted that “It’s time to leave. @OttawaPolice please allow the remaining trucks to leave in #Peace.” {'label': 'Evidence', 'score': 0.6326234340667725}\n",
      "An hour later, it was unclear how quickly, or if at all, Mr. Dichter’s message would spread or how influential it would be.  {'label': 'Claim', 'score': 0.5945359468460083}\n",
      "Some protesters said they have been hearing from friends and family members, begging them to leave. Some of them have no way to leave. They are physically backed into one another, and some of them have let air out of their tires or bled their brake lines. {'label': 'Evidence', 'score': 0.9270268082618713}\n"
     ]
    },
    {
     "name": "stdout",
     "output_type": "stream",
     "text": [
      "On Thursday, Samantha Dougherty, 32, a protest supporter, patrolled the area around a truck facing Parliament. Inside the truck was her new friend, Lenny Frey, she said, who had been parked there for 20 days and had no intention of leaving. {'label': 'Evidence', 'score': 0.9321501851081848}\n",
      "“Nobody is allowed within 6 feet of this truck,” said Ms. Dougherty, a blow horn in one hand and a cigarette in the other. “This truck is not moving, over my dead body.”  {'label': 'Evidence', 'score': 0.8981414437294006}\n",
      "Any police response would be an overreaction, said another protester, Mark Fenson, 55, who said he was a drug and alcohol counselor from Petersburg, Ontario, and had spent the last 22 months attending anti-vaccine and anti-lockdown protests. Pointing toward the encampment on Thursday, which at times has included recreation activities for children, he said a clampdown would be “going a little far for a bunch of bouncy castles.” {'label': 'Evidence', 'score': 0.9866690635681152}\n",
      "Still, Mr. Fenson said he would allow himself to be arrested, although he felt Prime Minister Justin Trudeau and the police were unfairly targeting the protesters. He said he believed that the official forces were acting on behalf of global elites trying to enforce a new world order. “I’m not about to fight against them,” he said. “I’ll deal with them in court.” {'label': 'Evidence', 'score': 0.7934477925300598}\n"
     ]
    },
    {
     "name": "stderr",
     "output_type": "stream",
     "text": [
      "Using custom data configuration default-535e0fad92f48285\n"
     ]
    },
    {
     "name": "stdout",
     "output_type": "stream",
     "text": [
      "Downloading and preparing dataset text/default to C:\\Users\\Prannaya\\.cache\\huggingface\\datasets\\text\\default-535e0fad92f48285\\0.0.0\\08f6fb1dd2dab0a18ea441c359e1d63794ea8cb53e7863e6edf8fc5655e47ec4...\n"
     ]
    },
    {
     "data": {
      "application/vnd.jupyter.widget-view+json": {
       "model_id": "63e28b6d77fc4967ab93e419cc2ae1d3",
       "version_major": 2,
       "version_minor": 0
      },
      "text/plain": [
       "  0%|          | 0/1 [00:00<?, ?it/s]"
      ]
     },
     "metadata": {},
     "output_type": "display_data"
    },
    {
     "data": {
      "application/vnd.jupyter.widget-view+json": {
       "model_id": "8fd63818ce1248a393a99ffde8fbba4d",
       "version_major": 2,
       "version_minor": 0
      },
      "text/plain": [
       "  0%|          | 0/1 [00:00<?, ?it/s]"
      ]
     },
     "metadata": {},
     "output_type": "display_data"
    },
    {
     "name": "stdout",
     "output_type": "stream",
     "text": [
      "Dataset text downloaded and prepared to C:\\Users\\Prannaya\\.cache\\huggingface\\datasets\\text\\default-535e0fad92f48285\\0.0.0\\08f6fb1dd2dab0a18ea441c359e1d63794ea8cb53e7863e6edf8fc5655e47ec4. Subsequent calls will reuse this data.\n"
     ]
    },
    {
     "data": {
      "application/vnd.jupyter.widget-view+json": {
       "model_id": "d4cd2ea1449c40399359121f98d9d2aa",
       "version_major": 2,
       "version_minor": 0
      },
      "text/plain": [
       "  0%|          | 0/1 [00:00<?, ?it/s]"
      ]
     },
     "metadata": {},
     "output_type": "display_data"
    },
    {
     "data": {
      "application/vnd.jupyter.widget-view+json": {
       "model_id": "832281e85cc84cf192a0599b67f43424",
       "version_major": 2,
       "version_minor": 0
      },
      "text/plain": [
       "  0%|          | 0/1 [00:00<?, ?ba/s]"
      ]
     },
     "metadata": {},
     "output_type": "display_data"
    },
    {
     "data": {
      "application/vnd.jupyter.widget-view+json": {
       "model_id": "3d329f43ebbf48168c67743517b89e86",
       "version_major": 2,
       "version_minor": 0
      },
      "text/plain": [
       "  0%|          | 0/19 [00:00<?, ?it/s]"
      ]
     },
     "metadata": {},
     "output_type": "display_data"
    },
    {
     "name": "stdout",
     "output_type": "stream",
     "text": [
      "Creative jazz at its best is a music of discovery: improvisers caught up together in a moment that’s passing even as they conjure it, with the next already materializing between them. {'label': 'Claim', 'score': 0.656577467918396}\n",
      "The jazz business, meanwhile, is often about rediscovery, as newly issued recordings from canonized greats frequently outsell and out-stream the releases of contemporary musicians, even those certain to be canonized themselves someday. {'label': 'Claim', 'score': 0.48525550961494446}\n",
      "This Tuesday’s digital-only arrival of a mostly lost concert from the innovative pianist Cecil Taylor exemplifies both points. Recorded at the Town Hall in New York on Nov. 4, 1973, the music gushes as if it were an uncapped fireplug. Previously unreleased, the relentless 88-minute track “Autumn/Parade” catches the inexhaustible Cecil Taylor Unit in the grip of one revelation after another, playing free jazz, a style of improvisation, in the purest definition of free. {'label': 'Evidence', 'score': 0.9459518194198608}\n",
      "Unburdened by the boundaries of keys, structures, time signatures and the dictates of each piece’s composer, Taylor, Andrew Cyrille (percussion), Jimmy Lyons (alto saxophone), and Sirone (bass) formed an organic whole, making — discovering — one torrent of sound together. {'label': 'Evidence', 'score': 0.6001240015029907}\n",
      "“He never told me what to play,” Cyrille, now 82, said of Taylor last week. “He would say, ‘Play what you hear. Play what you want.’” {'label': 'Evidence', 'score': 0.7752671837806702}\n",
      "Or, as Cyrille put it at a 2020 Village Vanguard performance, such in-the-moment musical freedom is “playing life.” {'label': 'Evidence', 'score': 0.47358760237693787}\n",
      "Free jazz liberated rhythm sections from the traditional role of keeping time in favor of making sound, as Cyrille does throughout “Autumn/Parade.” Taylor, who died in 2018, famously hit his keys with a percussionist’s force, and for all the considerable harmonic excitement of his runs, what’s most immediately striking on the new release is the Unit’s restless, driving polyrhythms, pulsing clots of tones and beats. {'label': 'Evidence', 'score': 0.9775871634483337}\n",
      "“No other pianist I know plays with such physicality at the piano,” Kris Davis, a singular improvising pianist and composer in her own right, said in an interview. “Every idea, whether gestural, melodic or harmonic, is expressed through rhythm.” {'label': 'Evidence', 'score': 0.8772239089012146}\n",
      "Davis noted that Taylor’s technique of composing fragments of notes in “cells” that he then would “develop, expand and turn upside down” at times appealed more to classical musicians than to jazz musicians, though today his influence is heard widely among improvising pianists. (She cited an expansive list, among them Marilyn Crispell, Jason Moran, Craig Taborn, Myra Melford, Alexander Hawkins, Angelica Sanchez and Vijay Iyer.) {'label': 'Evidence', 'score': 0.9826357364654541}\n",
      "But on the nightclub scene of the ’60s and ’70s, genius didn’t always mean drink sales, and being in the vanguard of a new approach meant it could be a challenge finding suitable collaborators. Oblivion, the label putting out this release, has called it “The Return Concert” because in ’73, Taylor, then 44, had been mostly absent from recording and being in the New York scene for five years as he pioneered another aspect of avant-garde jazz life: turning to academia. (He taught at Antioch College and the University of Wisconsin, not without controversy.) {'label': 'Evidence', 'score': 0.5724446177482605}\n",
      "The taping of the Town Hall concert was another feat of improvisation. Taylor had recorded significant LPs (“Conquistador!,” “Unit Structures”) for Blue Note in the late 1960s, but, at this point, was independent. Planning a release for Taylor’s nascent Unit Core label, his sort-of manager, David Laura, turned to an unlikely source: a Columbia student, Fred Seibert, who had recorded concerts for the university radio station and released several blues LPs on the independent Oblivion label with cohorts from a Long Island record store. {'label': 'Evidence', 'score': 0.9874780178070068}\n",
      "With borrowed equipment and much youthful confidence, Seibert took the gig — and faced a torrent of music. “I felt like I was under Niagara Falls with every sound coming at me from 360 degrees and fighting for space in my head,” said Seibert, who would go on to engineer and produce records for Muse Records before leaving the music industry at the dawn of the 1980s for Hollywood, where he became a storied producer of animated television. (Series launched under his aegis include “Dexter’s Laboratory,” “Powerpuff Girls” and “Adventure Time.”) {'label': 'Evidence', 'score': 0.9813597202301025}\n",
      "For Taylor, “free” also meant freedom from the restraints of the commercial music industry. Releasing the first set would have demanded making a double LP and fading down the music at the end of each side, which Seibert considered contrary to its spirit. A shorter second set proved a better fit: Split between a 16-minute solo Taylor piece and a side-length band workout, the encore performance had a limited 1974 release as “Spring of Two Blue J’s.” One of the 2,000 copies made it to the critic Gary Giddins at The Village Voice; he called it “probably my favorite album made in the last year.” {'label': 'Evidence', 'score': 0.9850165843963623}\n",
      "The other 88 minutes of music remained on Seibert’s tapes, though he always hoped to put them out in the world. Now, taking advantage of digital music’s lack of physical limitations, he’s unleashing “The Complete, Legendary, Live Return Concert” on the newly reconstituted Oblivion Records. Seibert’s conviction not to fade or shorten the first set, “April/Parade,” and his disinterest in taking on the hassle of traditional distribution has led him to rule out the deluxe CD or vinyl package that such rediscoveries typically enjoy. {'label': 'Evidence', 'score': 0.9521183371543884}\n",
      "Critics and fans often view jazz history as a succession of giants making artistic breakthroughs, as the music itself changes in their wake. That accounts for some of the trepidation and revulsion that, decades ago, some critics expressed toward free jazz in general and Taylor in particular — was this the direction it all would go? It perhaps also explains the tendency of some of Taylor’s champions to emphasize what was new in his music (especially techniques inspired by classical composition) to the detriment of its roots in Black American jazz. {'label': 'Evidence', 'score': 0.5080990195274353}\n",
      "“He didn’t just come out of the blue and say, ‘I’m Cecil Taylor. I’m doing what I do, and it’s always been this,’” Cyrille said. “He learned from a lot of other people. He played with Johnny Hodges and Hot Lips Page. He observed Thelonious Monk. Now, the concepts were different, but all of those musicians before him played who they were, too — they played their freedom.” {'label': 'Evidence', 'score': 0.9336212873458862}\n",
      "Almost 50 years after that Town Hall concert, Cyrille is still doing the same. At Dizzy’s Club on Feb. 5, his longstanding group Trio 3 — with the bassist Reggie Workman and the alto saxophonist Oliver Lake — played its last-ever concerts, with guest appearances from Iyer and the altoist Bruce Williams. Cyrille, though, will continue playing live and recording, and he has performances scheduled at the Big Ears Festival in Knoxville, Tenn., in March. {'label': 'Evidence', 'score': 0.9683184027671814}\n",
      "Cyrille calls playing “therapeutic” and refers to the music he has made with Taylor and so many others throughout a 60-plus year career as “democratic.” Whether in the ’70s with Taylor or with his own groups today, “It’s about self expression,” he said, “and the spiritual signature of the players.” {'label': 'Evidence', 'score': 0.7505831122398376}\n",
      "He recalled the Taylor of the Town Hall era, hearing the other players’ discoveries, which then fed his own. “Whatever the rest of us played, he used it,” he said. “He absorbed music. And in his playing, you hear how he would deal with it as it entered his body, and how he felt about what was being offered to him. It all came out through the piano.” {'label': 'Evidence', 'score': 0.9742513298988342}\n"
     ]
    },
    {
     "name": "stderr",
     "output_type": "stream",
     "text": [
      "Using custom data configuration default-bc532f727f0cf47a\n"
     ]
    },
    {
     "name": "stdout",
     "output_type": "stream",
     "text": [
      "Downloading and preparing dataset text/default to C:\\Users\\Prannaya\\.cache\\huggingface\\datasets\\text\\default-bc532f727f0cf47a\\0.0.0\\08f6fb1dd2dab0a18ea441c359e1d63794ea8cb53e7863e6edf8fc5655e47ec4...\n"
     ]
    },
    {
     "data": {
      "application/vnd.jupyter.widget-view+json": {
       "model_id": "c459fde7e1b3485fb5ca8a356f0efc07",
       "version_major": 2,
       "version_minor": 0
      },
      "text/plain": [
       "  0%|          | 0/1 [00:00<?, ?it/s]"
      ]
     },
     "metadata": {},
     "output_type": "display_data"
    },
    {
     "data": {
      "application/vnd.jupyter.widget-view+json": {
       "model_id": "f887757c0fe64dcf8693c269c61dbe7d",
       "version_major": 2,
       "version_minor": 0
      },
      "text/plain": [
       "  0%|          | 0/1 [00:00<?, ?it/s]"
      ]
     },
     "metadata": {},
     "output_type": "display_data"
    },
    {
     "name": "stdout",
     "output_type": "stream",
     "text": [
      "Dataset text downloaded and prepared to C:\\Users\\Prannaya\\.cache\\huggingface\\datasets\\text\\default-bc532f727f0cf47a\\0.0.0\\08f6fb1dd2dab0a18ea441c359e1d63794ea8cb53e7863e6edf8fc5655e47ec4. Subsequent calls will reuse this data.\n"
     ]
    },
    {
     "data": {
      "application/vnd.jupyter.widget-view+json": {
       "model_id": "e55ad687f4ea4643b819cafbbeee10ef",
       "version_major": 2,
       "version_minor": 0
      },
      "text/plain": [
       "  0%|          | 0/1 [00:00<?, ?it/s]"
      ]
     },
     "metadata": {},
     "output_type": "display_data"
    },
    {
     "data": {
      "application/vnd.jupyter.widget-view+json": {
       "model_id": "848a7dc1d565474aa898a1f40e85b2b3",
       "version_major": 2,
       "version_minor": 0
      },
      "text/plain": [
       "  0%|          | 0/1 [00:00<?, ?ba/s]"
      ]
     },
     "metadata": {},
     "output_type": "display_data"
    },
    {
     "data": {
      "application/vnd.jupyter.widget-view+json": {
       "model_id": "1b23672ffb6144adb8a933aac408e608",
       "version_major": 2,
       "version_minor": 0
      },
      "text/plain": [
       "  0%|          | 0/22 [00:00<?, ?it/s]"
      ]
     },
     "metadata": {},
     "output_type": "display_data"
    },
    {
     "name": "stdout",
     "output_type": "stream",
     "text": [
      "Last summer the vast majority of American families with children saw money appear in their bank accounts without doing anything at all. Thanks to legislation passed by Democrats earlier in the year, an expanded Child Tax Credit automatically sent out $300 each month through the rest of the year for every child under 6 and $250 for older ones to people who regularly file taxes. It showcased what government can do when it works at its most efficient: seamlessly deliver meaningful benefits without requiring people to take much, or really any, action. {'label': 'Evidence', 'score': 0.9909952282905579}\n",
      "But for the roughly 2.3 million children whose families hadn’t recently filed income taxes, the Child Tax Credit showcased all the worst instincts of governmental bureaucracy. The I.R.S. needed to know how many children they had, how much they earned and where they lived in order to send these families their money. Other government agencies probably had at least some of that data. But at first the I.R.S. wanted to make this group of people file tax returns instead of hunting down the information itself. It was eventually swayed to track it down, and yet when it started a portal for anyone it didn’t find, the form didn’t work on a cellphone, was available only in English, required an email address and came with densely written instructions. {'label': 'Evidence', 'score': 0.656493604183197}\n",
      "The expanded Child Tax Credit payments substantially reduced hardship, lowering the monthly child poverty rate by 30 percent, which meant 3.7 million fewer children lived in poverty in December — one of the most significant reductions in child poverty in generations — after which the payments stopped, thanks to congressional inaction. But it had been projected to cut child poverty in half. To achieve that goal, it would have had to successfully reach all the parents who were owed a payment. {'label': 'Evidence', 'score': 0.9898062348365784}\n",
      "The excitement around policymaking is almost always in the moments after ink dries on a bill creating something new. But if a benefit fails to reach the people it’s designed for, it may as well not exist at all. Making government benefits more accessible and efficient doesn’t usually get the spotlight. But it’s often the difference between a family getting what it needs to survive and falling into hardship and destitution. It’s the glue of our democracy. {'label': 'Evidence', 'score': 0.7937799692153931}\n",
      "President Biden appears to have taken note of this. Late last year, he issued an executive order meant to improve the “customer experience and service delivery” of the entire federal government. He put forward some ideas, including moving Social Security benefit claims and passport renewals online, reducing paperwork for student loan forgiveness and certifying low-income people for all the assistance they qualify for at once, rather than making them seek out benefits program by program. More important, he shifted the focus of government toward whether or not the customers — that’s us — are having a good experience getting what we deserve. {'label': 'Evidence', 'score': 0.8960623741149902}\n",
      "It’s a direction all lawmakers, from the federal level down to counties and cities, should follow. {'label': 'Claim', 'score': 0.5733123421669006}\n",
      "One of the biggest barriers to government benefits is all of the red tape to untangle, particularly for programs that serve low-income people. They were the ones wrangling with the I.R.S.’s nonfiler portal while others got their payments automatically. Benefits delivered through the tax code, which flow so easily that many people don’t think of them as government benefits at all, mostly help the already well-off. Programs for the poor, on the other hand, tend to be bloated with barriers like income tests, work requirements and in-person interviews. It’s not just about applying once, either; many require people to continually recertify, going through the process over and over again. {'label': 'Evidence', 'score': 0.9672551155090332}\n",
      "The hassle doesn’t just cost time and effort. It comes with a psychological cost. “You get mad at the D.M.V. because it takes hours to do something that should only take minutes,” Pamela Herd, a sociologist at Georgetown, said. “These kind of stresses can be really large when you’re talking about people who are on a knife’s edge in terms of their ability to pay their rent or feed their children.” {'label': 'Evidence', 'score': 0.9654051661491394}\n",
      "The barriers are terrible because they separate people from the help they desperately need and are technically owed. But the trouble runs deeper. “If you have negative interactions with the government, you’re going to think negatively about the government and the government’s capacity to actually meet broader social needs,” Dr. Herd said. {'label': 'Evidence', 'score': 0.9196158647537231}\n",
      "Why would Americans believe politicians who say they’ll create new ways to help them if past promises ended in frustration and empty hands? That distrust, in turn, weakens our democracy, the notion that we elect people to lead us who will listen to us and improve our lives. {'label': 'Evidence', 'score': 0.6077486276626587}\n",
      "“Every interaction that a person has with their government, whether that’s a traffic stop or going to the D.M.V. or getting access to SNAP — that’s where democracy is happening,” Elizabeth Linos, a behavioral economist at the University of California, Berkeley, told me. “If we get all of those small interactions right, then we have created a society where the government is responsive to its citizens, and citizens trust that it will deliver when it says it’ll deliver.” {'label': 'Evidence', 'score': 0.9419551491737366}\n",
      "Mr. Biden’s executive order notes that it is about both getting people what they need and proving that “democracy still works.” And yet it’s clear his administration has only partly learned its own lessons. Just look at its two approaches to free at-home Covid tests. All Americans can go to a Postal Service website, enter their addresses, and sign up in minutes to receive four free tests per household. {'label': 'Evidence', 'score': 0.5946587324142456}\n",
      "But when a household runs out of its four free tests, its members have to wrangle with the other option the administration has set up. Insurers have been ordered to cover eight tests per month free. That of course leaves out the 27.4 million people without insurance. Even if you have it, if you don’t buy the tests at your insurer’s preferred pharmacy you have to pay up front, hold on to your receipt and maybe even the test box, and submit a claim for reimbursement, then fight to get it processed. {'label': 'Evidence', 'score': 0.5539654493331909}\n",
      "There are trade-offs, given which goals are prioritized. Is it most important to reduce the use of government resources? Is it most important to keep the supposedly undeserving from sneaking in? Or is the goal to ensure that as many people who are eligible get the benefits they deserve as soon as possible? {'label': 'Evidence', 'score': 0.4893888235092163}\n",
      "It used to be that experts believed those who needed help the most would work the hardest to get it, overcoming any barriers thrown in their way. But that isn’t true. Work requirements, for example, have mostly kept people off welfare and further impoverished them, and when briefly instituted in Arkansas’s Medicaid program, a work requirement kicked people off — many of whom actually qualified — without increasing how many worked. {'label': 'Evidence', 'score': 0.7948508858680725}\n",
      "“The pandemic gave us an opportunity to rethink whether or not all of those hurdles were necessary,” Dr. Linos said. More people were made eligible for unemployment insurance. Stimulus checks were sent to most Americans with no strings attached. Rental assistance rules were loosened to get the money flowing faster. {'label': 'Evidence', 'score': 0.9728728532791138}\n",
      "The organization Code for America has long been focused on how to make it easier for people to get the benefits they’re eligible for. So when Democrats expanded Child Tax Credit payments, it built a simple site for nonfilers to claim them. The site sought only information the I.R.S. wasn’t able to get itself, like bank account details, and didn’t require people to track down a bunch of documents. The questions were simplified. It was available in Spanish as well as English. Families were able to fill out the form in 10 to 15 minutes, and virtually all of them didn’t need help. More than 115,000 households used the website to claim $438 million in less than three months, about a quarter of whom had never filed taxes before. {'label': 'Evidence', 'score': 0.9906141757965088}\n",
      "Ultimately, the smartest thing isn’t to create better portals for each and every benefit. “How do we get them to do one-stop shopping?” asked Nina Olson, the executive director of the Center for Taxpayer Rights. Instead of the government offering a navigator for Affordable Care Act coverage and a case worker to get housing assistance and I.R.S. outreach workers for Child Tax Credit payments, there could be a single place to sign up for everything at once. {'label': 'Concluding Statement', 'score': 0.8861539363861084}\n"
     ]
    },
    {
     "name": "stdout",
     "output_type": "stream",
     "text": [
      "That’s just what Code for America helped set up in Minnesota. It worked with the state to create a new, simplified website where residents can apply for nine programs at once — including food stamps, child care subsidies and housing assistance — that has reduced the time involved from over an hour to less than 12 minutes. It works on a mobile phone, is available in Spanish, makes uploading documents easier, and doesn’t require a log-in. The questions it asks are in clear language and redundant ones are eliminated. Ninety-four percent of people using the new site say they had a positive experience. The organization plans to work with a number of other states to do something similar in the next few years. {'label': 'Evidence', 'score': 0.9362697601318359}\n",
      "The simpler the requirements of a program — making it universal so that people don’t have to verify their incomes over and over, say — the fewer hurdles people will have to clear. When programs must include eligibility requirements, more of the burden of deciphering whether each person meets them should be placed on the government instead of the individual. Social Security, for example, tracks our incomes, so that when it comes time to claim benefits, we’re not submitting pay stubs from a lifetime of work. {'label': 'Evidence', 'score': 0.9804020524024963}\n",
      "Something as small as requiring a log-in for a government website creates a barrier for people without computers who can’t remember and juggle a bunch of passwords. “Any kind of barriers are amplified when people are stressed,” Eric Giannella, the organization’s data science director, noted. Instead, Code for America uses smart links that allow people to authenticate themselves without a log-in. {'label': 'Evidence', 'score': 0.9799228310585022}\n",
      "But Code for America “does want to put itself out of business,” Mr. Giannella said. The point is not to do it for government, but to push government to do things better. “Sometimes,” Tracey Patterson, the vice president of Code for America, told me, “the idea that everything needs to change in order for it to be better is the easiest way for nothing to get done.” {'label': 'Rebuttal', 'score': 0.49183401465415955}\n"
     ]
    },
    {
     "name": "stderr",
     "output_type": "stream",
     "text": [
      "Using custom data configuration default-120287c9e82da1ef\n"
     ]
    },
    {
     "name": "stdout",
     "output_type": "stream",
     "text": [
      "Downloading and preparing dataset text/default to C:\\Users\\Prannaya\\.cache\\huggingface\\datasets\\text\\default-120287c9e82da1ef\\0.0.0\\08f6fb1dd2dab0a18ea441c359e1d63794ea8cb53e7863e6edf8fc5655e47ec4...\n"
     ]
    },
    {
     "data": {
      "application/vnd.jupyter.widget-view+json": {
       "model_id": "39bea36006194896922f349d3c765bac",
       "version_major": 2,
       "version_minor": 0
      },
      "text/plain": [
       "  0%|          | 0/1 [00:00<?, ?it/s]"
      ]
     },
     "metadata": {},
     "output_type": "display_data"
    },
    {
     "data": {
      "application/vnd.jupyter.widget-view+json": {
       "model_id": "b94197b8213245e8be5160dfece560e7",
       "version_major": 2,
       "version_minor": 0
      },
      "text/plain": [
       "  0%|          | 0/1 [00:00<?, ?it/s]"
      ]
     },
     "metadata": {},
     "output_type": "display_data"
    },
    {
     "name": "stdout",
     "output_type": "stream",
     "text": [
      "Dataset text downloaded and prepared to C:\\Users\\Prannaya\\.cache\\huggingface\\datasets\\text\\default-120287c9e82da1ef\\0.0.0\\08f6fb1dd2dab0a18ea441c359e1d63794ea8cb53e7863e6edf8fc5655e47ec4. Subsequent calls will reuse this data.\n"
     ]
    },
    {
     "data": {
      "application/vnd.jupyter.widget-view+json": {
       "model_id": "0267ea39fef04cf990d2dbe10c30cdf9",
       "version_major": 2,
       "version_minor": 0
      },
      "text/plain": [
       "  0%|          | 0/1 [00:00<?, ?it/s]"
      ]
     },
     "metadata": {},
     "output_type": "display_data"
    },
    {
     "data": {
      "application/vnd.jupyter.widget-view+json": {
       "model_id": "b369f98749ee4897a1179d65ba93fa21",
       "version_major": 2,
       "version_minor": 0
      },
      "text/plain": [
       "  0%|          | 0/1 [00:00<?, ?ba/s]"
      ]
     },
     "metadata": {},
     "output_type": "display_data"
    },
    {
     "data": {
      "application/vnd.jupyter.widget-view+json": {
       "model_id": "1180cd7e2f424e8bb66e2b6f71cf504e",
       "version_major": 2,
       "version_minor": 0
      },
      "text/plain": [
       "  0%|          | 0/32 [00:00<?, ?it/s]"
      ]
     },
     "metadata": {},
     "output_type": "display_data"
    },
    {
     "name": "stdout",
     "output_type": "stream",
     "text": [
      "China has done everything in its power to keep the virus outside its borders and protect its people — almost. {'label': 'Claim', 'score': 0.7139524817466736}\n",
      "It has kept cases and deaths remarkably low through a “zero-Covid” strategy that has involved tracking and tracing every case, closed its borders and locked down cities of millions of people. It fostered domestic vaccines that allowed the country to carry out a massive inoculation effort. {'label': 'Evidence', 'score': 0.8464835286140442}\n",
      "But two years into the pandemic, China’s 1.4 billion people still don’t have access to one of the most effective coronavirus vaccines the world has to offer. Those vaccines use the breakthrough mRNA technology that was developed and approved in the West, and they have been embraced by dozens of countries. {'label': 'Rebuttal', 'score': 0.8316982984542847}\n",
      "The effectiveness of Chinese vaccines has been in doubt — partly because they use a century-old method for inoculation. Last spring, the country said it would approve BioNTech, the German mRNA shot made in partnership with Pfizer. Months later, China said that it was also close to producing its own mRNA vaccine. Neither are available today. {'label': 'Evidence', 'score': 0.9143273830413818}\n",
      "China’s lack of an mRNA shot — and its delay in approving a viable foreign option — has poked holes in Beijing’s victorious pandemic narrative and prompted experts to question whether the country’s go-it-alone approach is less triumphant than officials would have the world believe. {'label': 'Evidence', 'score': 0.652309775352478}\n",
      "Under Xi Jinping, China’s top leader, the country has turned more inward, promoting self-reliance and championing development in areas like semiconductors and other technology. The delay in recognizing a foreign mRNA vaccine now appears to be a part of that deeply political exercise. {'label': 'Evidence', 'score': 0.6661863923072815}\n",
      "China is so committed to competing with the United States and the West on science and technology that some in the scientific community say it is hard to imagine that the state hasn’t pulled out all the stops to develop a homegrown mRNA vaccine. That China has fallen behind on that front, and failed to approve a readily available foreign option, has left many experts baffled. {'label': 'Evidence', 'score': 0.8118964433670044}\n",
      "“We don’t know how decisions are made nowadays in China, but a better vaccine would definitely help in maintaining a zero-Covid policy,” said Jin Dongyan, a virologist at the University of Hong Kong who has urged his peers in mainland China to approve the BioNTech vaccine. {'label': 'Evidence', 'score': 0.7770165801048279}\n",
      "“They are presenting to the world that they are doing well in vaccine development,” he said of officials in Beijing. “And it would be embarrassing for them to show the opposite to the Chinese people.” {'label': 'Evidence', 'score': 0.9272608160972595}\n",
      "China says its virus policies, which include strict lockdowns, have prevented millions of people from getting sick. But as a consequence, scientists say, the population has not built up enough natural immunity to help fight severe infection, making reliable vaccines even more crucial. And there is slowly mounting pressure on the country to pursue a new approach. {'label': 'Evidence', 'score': 0.9594160318374634}\n",
      "In recent months, officials have begun openly discussing the need to introduce better vaccine technology. “We should learn about the good things in other countries, such as mRNA vaccines,” Zhong Nanshan, China’s top respiratory scientist, said at a conference in December. “They have spent years on the research and managed to develop mRNA vaccines in just a few months.” {'label': 'Lead', 'score': 0.5890862941741943}\n",
      "China last week approved for emergency use a Covid-19 pill made by Pfizer called Paxlovid, a move that some experts said could help change Beijing’s pandemic strategy. {'label': 'Evidence', 'score': 0.5031062960624695}\n",
      "It wasn’t that long ago that China appeared ready to introduce an mRNA vaccine for Covid-19. Shanghai Fosun Pharmaceutical, BioNTech’s Chinese partner, told investors last year that regulators would approve its mRNA vaccine for use in China by July 2021. The company, which had conducted clinical trials in late 2020, said that it could make as many as a billion doses a year. {'label': 'Evidence', 'score': 0.9894142150878906}\n",
      "That optimism has since faded. Chinese authorities now say they are still reviewing documents in order to “make a final decision on the approval of our vaccine,” a spokeswoman for BioNTech said. {'label': 'Evidence', 'score': 0.45259425044059753}\n",
      "Fosun did not respond to a request for comment. {'label': 'Claim', 'score': 0.7243305444717407}\n",
      "The approval process for Sinopharm and Sinovac — which manufacture the vaccines that are available in China — looked much different. Chinese regulators changed the rules to allow both Chinese drugmakers to submit their trial data behind schedule. Sinopharm’s vaccine was approved a week after the company filed its application, in December 2020. {'label': 'Evidence', 'score': 0.97652268409729}\n",
      "Vaccines from Sinovac and Sinopharm help prevent hospitalization and death, but their ability to reduce transmission with variants such as Omicron is still in question. Sinovac has shown to be only 51 percent effective against preventing symptomatic disease, according to scientists in Brazil. The World Health Organization said Sinopharm has an efficacy of 78 percent. {'label': 'Evidence', 'score': 0.9585349559783936}\n",
      "Though the W.H.O. has signed off on both Chinese vaccines for emergency use, most Western governments favor mRNA technology. {'label': 'Claim', 'score': 0.4497533440589905}\n",
      "As approval for BioNTech languished, China said that it was close to producing a homegrown mRNA shot called ARCoVax. Two private drugmakers and China’s Academy of Military Medical Sciences said they were preparing to make 200 million doses by October, a Communist Party newspaper reported in September. {'label': 'Evidence', 'score': 0.9872965812683105}\n",
      "Had that happened, it would have been a remarkable achievement for China. {'label': 'Claim', 'score': 0.7092635631561279}\n",
      "Unlike traditional vaccines that use an inactivated virus to trigger a response by the immune system, mRNA vaccines use a genetic molecule that assists cells to make proteins that can set off an immune response in the body. This response creates antibodies that are then used to fight the virus. {'label': 'Evidence', 'score': 0.9028412699699402}\n",
      "The first mRNA vaccines for the coronavirus were based on research conducted over decades by scientists in different parts of the world. It took the Western pharmaceutical companies Pfizer, BioNTech and Moderna just over a year to take those advances and apply them to a new kind of vaccine able to prevent serious illness and death from Covid-19. {'label': 'Evidence', 'score': 0.9377731680870056}\n",
      "The final version of the mRNA vaccines produced by Pfizer and Moderna came together with the help of a multibillion dollar program under the Trump administration called Operation Warp Speed. The Food and Drug Administration determined in 2020 that the BioNTech vaccine has an efficacy rate of 95 percent. {'label': 'Evidence', 'score': 0.9433559775352478}\n",
      "“This is not trivial technology,” said John P. Moore, a virologist at Weill Cornell Medicine. “So trying to reverse engineer it from scratch is one of those things where you ask, ‘What could possibly go wrong?’” {'label': 'Evidence', 'score': 0.5514190196990967}\n",
      "If China is pursing a program similar to Operation Warp Speed, it has not said anything about it publicly. One of the private companies helping to develop ARCoVax is Suzhou Abogen, a start-up founded in 2019 by a scientist who used to work at Moderna. Before the pandemic, Abogen was developing mRNA drugs for cancer, one of China’s biggest epidemics. {'label': 'Evidence', 'score': 0.9877480268478394}\n",
      "The other drugmaker, Walvax, is a publicly listed pharmaceutical group. The two companies’ partnership with the Chinese Academy of Military Medical Sciences suggests strong government backing, though Beijing has not mentioned an official collaboration. {'label': 'Evidence', 'score': 0.8902856707572937}\n",
      "Last year, the United States added the Chinese Academy of Military Medical Sciences to an entity list, a federal trade restriction list, accusing it of using biotechnology to support activities like “brain control weaponry.” The designation would make it difficult to export any final vaccine product it develops. {'label': 'Evidence', 'score': 0.8679938912391663}\n",
      "Researchers recently published the details of an initial trial of the ARCoVax vaccine involving 120 volunteers. They found it to be safe, and said it produced a moderate level of antibodies but caused more side effects, like fever, than the BioNTech shot. {'label': 'Evidence', 'score': 0.8565350770950317}\n"
     ]
    },
    {
     "name": "stdout",
     "output_type": "stream",
     "text": [
      "Abogen and Walvax did not respond to requests for comment. A senior executive at Walvax told Reuters last month that it had recruited 28,000 people for a large, Phase 3 clinical trial. ARCoVax is also being tested as a booster. {'label': 'Evidence', 'score': 0.9396300911903381}\n",
      "One recent study showed that two doses of Sinovac boosted with an mRNA shot offered strong antibody protection against both the Delta and Omicron variants. But it is still unclear when the ARCoVax vaccine will be available in China. {'label': 'Evidence', 'score': 0.85788893699646}\n",
      "And as the weeks go by, approval for BioNTech seems to grow more elusive. {'label': 'Claim', 'score': 0.9286382794380188}\n",
      "“It’s very difficult to predict actually when we will get approval,” said Sean Marett, chief business and commercial officer of BioNTech, speaking at a health care conference last month. “But China remains for us an extremely important market,” he added. “We’re very, very committed to it.” {'label': 'Evidence', 'score': 0.8878307938575745}\n"
     ]
    },
    {
     "name": "stderr",
     "output_type": "stream",
     "text": [
      "Using custom data configuration default-66607b3ae023340d\n"
     ]
    },
    {
     "name": "stdout",
     "output_type": "stream",
     "text": [
      "Downloading and preparing dataset text/default to C:\\Users\\Prannaya\\.cache\\huggingface\\datasets\\text\\default-66607b3ae023340d\\0.0.0\\08f6fb1dd2dab0a18ea441c359e1d63794ea8cb53e7863e6edf8fc5655e47ec4...\n"
     ]
    },
    {
     "data": {
      "application/vnd.jupyter.widget-view+json": {
       "model_id": "4a16e6b69ec948188a8f358f9a988780",
       "version_major": 2,
       "version_minor": 0
      },
      "text/plain": [
       "  0%|          | 0/1 [00:00<?, ?it/s]"
      ]
     },
     "metadata": {},
     "output_type": "display_data"
    },
    {
     "data": {
      "application/vnd.jupyter.widget-view+json": {
       "model_id": "c765e07c61a34934b7636a9976dbd96c",
       "version_major": 2,
       "version_minor": 0
      },
      "text/plain": [
       "  0%|          | 0/1 [00:00<?, ?it/s]"
      ]
     },
     "metadata": {},
     "output_type": "display_data"
    },
    {
     "name": "stdout",
     "output_type": "stream",
     "text": [
      "Dataset text downloaded and prepared to C:\\Users\\Prannaya\\.cache\\huggingface\\datasets\\text\\default-66607b3ae023340d\\0.0.0\\08f6fb1dd2dab0a18ea441c359e1d63794ea8cb53e7863e6edf8fc5655e47ec4. Subsequent calls will reuse this data.\n"
     ]
    },
    {
     "data": {
      "application/vnd.jupyter.widget-view+json": {
       "model_id": "2bc6d1e8c3844dab89a4bf71cbe37f40",
       "version_major": 2,
       "version_minor": 0
      },
      "text/plain": [
       "  0%|          | 0/1 [00:00<?, ?it/s]"
      ]
     },
     "metadata": {},
     "output_type": "display_data"
    },
    {
     "data": {
      "application/vnd.jupyter.widget-view+json": {
       "model_id": "9b93a0bd62d84bc688d06de20caccfb6",
       "version_major": 2,
       "version_minor": 0
      },
      "text/plain": [
       "  0%|          | 0/1 [00:00<?, ?ba/s]"
      ]
     },
     "metadata": {},
     "output_type": "display_data"
    },
    {
     "data": {
      "application/vnd.jupyter.widget-view+json": {
       "model_id": "70db69fe6be84bd0bc51a7f3042cc75d",
       "version_major": 2,
       "version_minor": 0
      },
      "text/plain": [
       "  0%|          | 0/35 [00:00<?, ?it/s]"
      ]
     },
     "metadata": {},
     "output_type": "display_data"
    },
    {
     "name": "stdout",
     "output_type": "stream",
     "text": [
      "This article is published with ProPublica, the nonprofit investigative newsroom. {'label': 'Claim', 'score': 0.5295079350471497}\n",
      "BEIJING — Inside the Potemkin village of China’s propaganda, the Winter Olympics have unfolded as an unalloyed success, a celebration of sports and political harmony that has obscured — critics say whitewashed — the country’s flaws and rights abuses. {'label': 'Evidence', 'score': 0.3075408637523651}\n",
      "At Beijing 2022, the hills are snowy, not brown as usual this time of year. A Uyghur skier is the symbol of national unity, the tennis player Peng Shuai just a curious spectator. Athletes and foreign journalists praise the polite volunteers and marvel at the high-speed trains and the robots that boil dumplings and mix drinks. {'label': 'Evidence', 'score': 0.9870136380195618}\n",
      "While China’s control of what its domestic viewers and readers consume is well established, the country has spread its own version of the Games beyond its borders, with an arsenal of digital tools that are giving China’s narrative arguably greater reach and more subtlety than ever before. {'label': 'Claim', 'score': 0.4311811625957489}\n",
      "With bots, fake accounts, genuine influencers and other tools, China has been able to selectively edit how the events have appeared, even outside the country, promoting everything that bolsters the official, feel-good story about the Winter Olympics and trying to smother whatever doesn’t. {'label': 'Evidence', 'score': 0.5027697086334229}\n",
      "“For the Chinese Communist Party, the Winter Olympics are inseparable from the broader political goal of building up the country’s national image,” said David Bandurski, director of the China Media Project, a monitoring organization. Referring to the country’s leader, he added: “This is what Xi Jinping has called ‘telling China’s story well.’” {'label': 'Evidence', 'score': 0.9349364638328552}\n",
      "On Twitter, which is banned in China, Chinese state media outlets and journalists, as well as diplomats, have tried to buff the image of the Games, raving about venues and cooing over the Olympic mascot. {'label': 'Evidence', 'score': 0.9194518327713013}\n",
      "China has also sought to influence online discussions in more concealed ways. The New York Times and ProPublica identified a network of more than 3,000 inauthentic-looking Twitter accounts that appeared to be coordinating to promote the Olympics by sharing state media posts with identical comments, for instance. Such accounts tended to be recently created with very few followers, tweeted mostly reposts and nothing of their own, and appeared to operate solely to amplify official Chinese voices. {'label': 'Evidence', 'score': 0.9879647493362427}\n",
      "Some of their efforts have centered on an account called Spicy Panda, which has been posting cartoons and videos to push back against calls for a boycott of the Olympics. In one cartoon, Spicy Panda accused the United States of wielding “its deceiving propaganda weapon to stain the Olympics.” {'label': 'Evidence', 'score': 0.9696970582008362}\n",
      "The tweet was reposted 281 times, all by the fake-looking accounts, but received little other engagement, a strong indication that the network was mobilized to promote the message. Aside from the bursts of promotion, Spicy Panda’s posts about the Olympics received almost no attention. {'label': 'Evidence', 'score': 0.972170889377594}\n",
      "An analysis of Spicy Panda’s supporters turned up 861 accounts — 90 percent of which were created after Dec. 1. The accounts’ first wave of coordinated posts pushed Beijing’s stance that Hong Kong’s legislative council elections were legitimate, though critics have called the vote a sham. Then the accounts turned their attention to the Olympics. (By Thursday, all but one of the accounts had been suspended, shortly after The Times and ProPublica asked Twitter about them.) {'label': 'Evidence', 'score': 0.9908182621002197}\n",
      "Spicy Panda appears to have a connection with iChongqing, a state media-linked multimedia platform based in Chongqing, a city in central China. The accounts that shared Spicy Panda’s posts often did the same with tweets by iChongqing’s account. IChongqing did not immediately respond to a request for comment. {'label': 'Evidence', 'score': 0.9836800694465637}\n",
      "Other botlike accounts promoted hashtags that seemed aimed at drowning out criticism of China, a hallmark of previous campaigns. {'label': 'Claim', 'score': 0.4656507968902588}\n",
      "They promoted content under hashtags like #Beijing2022 and #TogetherForASharedFuture, this year’s official Olympic motto. Some accounts repeatedly posted tweets with identical wording, such as: “China’s hosting of the #Beijing2022 as scheduled has boosted the world’s confidence in defeating the pandemic.” {'label': 'Evidence', 'score': 0.9915159940719604}\n",
      "Twitter said in an emailed statement that it had suspended hundreds of the accounts identified by The Times and ProPublica for violations of its platform manipulation and spam policies. It said it was continuing to investigate the accounts’ links to state-backed information operations. {'label': 'Evidence', 'score': 0.9731966853141785}\n",
      "Even the Games’ official mascot, Bing Dwen Dwen, a cuddly panda in a suit of ice, has been the subject of an organized campaign on Twitter, according to Albert Zhang, a researcher at the Australian Strategic Policy Institute’s International Cyber Policy Center. {'label': 'Evidence', 'score': 0.8945740461349487}\n",
      "Thousands of new or previously inactive accounts have helped the mascot go viral, he said — which China’s state media presented as evidence of the mascot’s popularity and, by extension, that of the Games. {'label': 'Evidence', 'score': 0.5619786977767944}\n",
      "“If you want to push out a lot of content on something like the Beijing Olympics, this is an easy way to do it,” Mr. Zhang said. He added that the campaign now underway was like others sponsored by the Chinese state to push Beijing’s narrative on topics such as Covid-19 and the crackdown on Uyghur Muslims in Xinjiang. {'label': 'Evidence', 'score': 0.9237394332885742}\n",
      "The information space inside China is not unlike the elaborate measures that have created the “closed loop” that keeps athletes, journalists and other participants strictly segregated from the general public. {'label': 'Claim', 'score': 0.6750468015670776}\n",
      "Inside the “closed loop” of official propaganda, the state carefully curates almost anything ordinary Chinese people see or read. The effect has been an Olympics free of scandal or criticism or bad news. {'label': 'Evidence', 'score': 0.5691590309143066}\n",
      "When the United States men’s hockey team played an overmatched Chinese team, the game was not shown on the main state television sports channel, CCTV 5, and the 8-0 defeat was mentioned only glancingly in news reports. A state media slide show devoted to the men’s figure skating competition conspicuously omitted the gold medalist, Nathan Chen of the United States. {'label': 'Evidence', 'score': 0.9884259700775146}\n",
      "In Chinese footage of the Games, the mountains where many competitions are being held have been deftly framed to exclude the dry, brown slopes in the background, until Day 8 when a snowstorm covered them in a frosting of white. {'label': 'Evidence', 'score': 0.905663251876831}\n",
      "One of the biggest political stories of these Games has also unfolded outside China’s internet firewall: the appearance of Peng Shuai, the professional tennis player and three-time Olympian who created a furor when she accused a senior Communist Party leader of sexually assaulting her. {'label': 'Evidence', 'score': 0.8676552176475525}\n",
      "The president of the International Olympic Committee, Thomas Bach, met her for dinner, as he promised he would when the global outcry over her fate threatened to overshadow the Games. Ms. Peng has appeared at curling and figure skating, among other events. None of that was shown inside China, where all references to her accusations have been erased, including later statements attributed to her, saying she had been misunderstood. {'label': 'Evidence', 'score': 0.9247949719429016}\n",
      "“It’s absolutely critical to understand that this is not just another narrative,” Mr. Bandurski of the China Media Project said of the Olympics. “It’s a narrative that implies widespread censorship and the manipulation of public opinion, which is actually policy.” {'label': 'Evidence', 'score': 0.5739744305610657}\n",
      "Jack Stubbs, vice president of intelligence at Graphika, a social media monitoring company, said his firm had observed another Chinese propaganda network using foreign social media platforms. {'label': 'Evidence', 'score': 0.6897915005683899}\n"
     ]
    },
    {
     "name": "stdout",
     "output_type": "stream",
     "text": [
      "The network has spread videos emphasizing the Olympics as environmentally friendly and crooning about strengthening Chinese-Russian ties, punctuated by President Vladimir V. Putin’s attendance at the opening ceremony. {'label': 'Evidence', 'score': 0.7060900330543518}\n",
      "China has defended its use of Twitter and Facebook, platforms that it bans at home. A foreign ministry spokeswoman, Hua Chunying, said last year that such sites were an “extra channel” to combat negative portrayals in the West. {'label': 'Evidence', 'score': 0.9439497590065002}\n",
      "One American company, Vippi Media, based in New Jersey, signed a $300,000 contract with the consulate general of China in New York to help promote the Games, according to the company’s filing with the Justice Department under the Foreign Agents Registration Act. {'label': 'Evidence', 'score': 0.874495804309845}\n",
      "Under the contract, first reported by the research group Open Secrets, the company has been promoting the Games by recruiting “social media stars” to post on Instagram, YouTube and TikTok, the company’s founder, Vipinder Jaswal, said in a telephone interview. {'label': 'Evidence', 'score': 0.703767716884613}\n",
      "“They were very clear and I was very clear that it’s about the Olympics and the Olympics only, nothing to do with politics,” he said. {'label': 'Evidence', 'score': 0.2995181977748871}\n",
      "Once the Games began, the drama of the sports themselves dominated attention. Protests over China’s human rights record have not materialized, as some activists hoped. On the contrary, many athletes have heaped praise.  {'label': 'Evidence', 'score': 0.8231651782989502}\n",
      "“When you really meet the people here and talk to them,” Jenise Spiteri, the American snowboarder competing for Malta, said in a state media interview, “everyone has a very good heart.” {'label': 'Evidence', 'score': 0.7772222757339478}\n",
      "Spicy Panda tweeted a state media report about another American competitor, the freestyle skier Aaron Blunck. In remarks posted by the official China Daily newspaper, Mr. Blunck praised China’s Covid protocols. {'label': 'Evidence', 'score': 0.9805193543434143}\n",
      "“#AaronBlunck revealed the real China that is totally different from what some American media have said!” Spicy Panda’s post read. {'label': 'Evidence', 'score': 0.6716699004173279}\n"
     ]
    },
    {
     "name": "stderr",
     "output_type": "stream",
     "text": [
      "Using custom data configuration default-51dcca0881649558\n"
     ]
    },
    {
     "name": "stdout",
     "output_type": "stream",
     "text": [
      "Downloading and preparing dataset text/default to C:\\Users\\Prannaya\\.cache\\huggingface\\datasets\\text\\default-51dcca0881649558\\0.0.0\\08f6fb1dd2dab0a18ea441c359e1d63794ea8cb53e7863e6edf8fc5655e47ec4...\n"
     ]
    },
    {
     "data": {
      "application/vnd.jupyter.widget-view+json": {
       "model_id": "f74365bc3c29456bbc7020e1e21cd126",
       "version_major": 2,
       "version_minor": 0
      },
      "text/plain": [
       "  0%|          | 0/1 [00:00<?, ?it/s]"
      ]
     },
     "metadata": {},
     "output_type": "display_data"
    },
    {
     "data": {
      "application/vnd.jupyter.widget-view+json": {
       "model_id": "48469620657e4c41998294c5d84dde88",
       "version_major": 2,
       "version_minor": 0
      },
      "text/plain": [
       "  0%|          | 0/1 [00:00<?, ?it/s]"
      ]
     },
     "metadata": {},
     "output_type": "display_data"
    },
    {
     "ename": "UnicodeDecodeError",
     "evalue": "'utf-8' codec can't decode byte 0x92 in position 96: invalid start byte",
     "output_type": "error",
     "traceback": [
      "\u001b[1;31m---------------------------------------------------------------------------\u001b[0m",
      "\u001b[1;31mUnicodeDecodeError\u001b[0m                        Traceback (most recent call last)",
      "Input \u001b[1;32mIn [35]\u001b[0m, in \u001b[0;36m<module>\u001b[1;34m\u001b[0m\n\u001b[0;32m      1\u001b[0m dfs \u001b[38;5;241m=\u001b[39m []\n\u001b[0;32m      2\u001b[0m \u001b[38;5;28;01mfor\u001b[39;00m filename \u001b[38;5;129;01min\u001b[39;00m glob(\u001b[38;5;124m\"\u001b[39m\u001b[38;5;124mdatagen/nytimes/*.txt\u001b[39m\u001b[38;5;124m\"\u001b[39m):\n\u001b[1;32m----> 3\u001b[0m     articles_dataset \u001b[38;5;241m=\u001b[39m \u001b[43mload_dataset\u001b[49m\u001b[43m(\u001b[49m\u001b[38;5;124;43m\"\u001b[39;49m\u001b[38;5;124;43mtext\u001b[39;49m\u001b[38;5;124;43m\"\u001b[39;49m\u001b[43m,\u001b[49m\u001b[43m \u001b[49m\u001b[43mdata_files\u001b[49m\u001b[38;5;241;43m=\u001b[39;49m\u001b[43m{\u001b[49m\u001b[38;5;124;43m\"\u001b[39;49m\u001b[38;5;124;43mvalid\u001b[39;49m\u001b[38;5;124;43m\"\u001b[39;49m\u001b[43m:\u001b[49m\u001b[43m[\u001b[49m\u001b[43mfilename\u001b[49m\u001b[43m]\u001b[49m\u001b[43m}\u001b[49m\u001b[43m)\u001b[49m[\u001b[38;5;124m'\u001b[39m\u001b[38;5;124mvalid\u001b[39m\u001b[38;5;124m'\u001b[39m]\u001b[38;5;241m.\u001b[39mfilter(\u001b[38;5;28;01mlambda\u001b[39;00m example: example[\u001b[38;5;124m'\u001b[39m\u001b[38;5;124mtext\u001b[39m\u001b[38;5;124m'\u001b[39m])\n\u001b[0;32m      4\u001b[0m     lst \u001b[38;5;241m=\u001b[39m []\n\u001b[0;32m      5\u001b[0m     \u001b[38;5;28;01mfor\u001b[39;00m i, out \u001b[38;5;129;01min\u001b[39;00m \u001b[38;5;28menumerate\u001b[39m(tqdm(pipe(KeyDataset(articles_dataset, \u001b[38;5;124m\"\u001b[39m\u001b[38;5;124mtext\u001b[39m\u001b[38;5;124m\"\u001b[39m)))):\n",
      "File \u001b[1;32m~\\.conda\\envs\\analytics\\lib\\site-packages\\datasets\\load.py:1702\u001b[0m, in \u001b[0;36mload_dataset\u001b[1;34m(path, name, data_dir, data_files, split, cache_dir, features, download_config, download_mode, ignore_verifications, keep_in_memory, save_infos, revision, use_auth_token, task, streaming, script_version, **config_kwargs)\u001b[0m\n\u001b[0;32m   1699\u001b[0m try_from_hf_gcs \u001b[38;5;241m=\u001b[39m path \u001b[38;5;129;01mnot\u001b[39;00m \u001b[38;5;129;01min\u001b[39;00m _PACKAGED_DATASETS_MODULES\n\u001b[0;32m   1701\u001b[0m \u001b[38;5;66;03m# Download and prepare data\u001b[39;00m\n\u001b[1;32m-> 1702\u001b[0m \u001b[43mbuilder_instance\u001b[49m\u001b[38;5;241;43m.\u001b[39;49m\u001b[43mdownload_and_prepare\u001b[49m\u001b[43m(\u001b[49m\n\u001b[0;32m   1703\u001b[0m \u001b[43m    \u001b[49m\u001b[43mdownload_config\u001b[49m\u001b[38;5;241;43m=\u001b[39;49m\u001b[43mdownload_config\u001b[49m\u001b[43m,\u001b[49m\n\u001b[0;32m   1704\u001b[0m \u001b[43m    \u001b[49m\u001b[43mdownload_mode\u001b[49m\u001b[38;5;241;43m=\u001b[39;49m\u001b[43mdownload_mode\u001b[49m\u001b[43m,\u001b[49m\n\u001b[0;32m   1705\u001b[0m \u001b[43m    \u001b[49m\u001b[43mignore_verifications\u001b[49m\u001b[38;5;241;43m=\u001b[39;49m\u001b[43mignore_verifications\u001b[49m\u001b[43m,\u001b[49m\n\u001b[0;32m   1706\u001b[0m \u001b[43m    \u001b[49m\u001b[43mtry_from_hf_gcs\u001b[49m\u001b[38;5;241;43m=\u001b[39;49m\u001b[43mtry_from_hf_gcs\u001b[49m\u001b[43m,\u001b[49m\n\u001b[0;32m   1707\u001b[0m \u001b[43m    \u001b[49m\u001b[43muse_auth_token\u001b[49m\u001b[38;5;241;43m=\u001b[39;49m\u001b[43muse_auth_token\u001b[49m\u001b[43m,\u001b[49m\n\u001b[0;32m   1708\u001b[0m \u001b[43m\u001b[49m\u001b[43m)\u001b[49m\n\u001b[0;32m   1710\u001b[0m \u001b[38;5;66;03m# Build dataset for splits\u001b[39;00m\n\u001b[0;32m   1711\u001b[0m keep_in_memory \u001b[38;5;241m=\u001b[39m (\n\u001b[0;32m   1712\u001b[0m     keep_in_memory \u001b[38;5;28;01mif\u001b[39;00m keep_in_memory \u001b[38;5;129;01mis\u001b[39;00m \u001b[38;5;129;01mnot\u001b[39;00m \u001b[38;5;28;01mNone\u001b[39;00m \u001b[38;5;28;01melse\u001b[39;00m is_small_dataset(builder_instance\u001b[38;5;241m.\u001b[39minfo\u001b[38;5;241m.\u001b[39mdataset_size)\n\u001b[0;32m   1713\u001b[0m )\n",
      "File \u001b[1;32m~\\.conda\\envs\\analytics\\lib\\site-packages\\datasets\\builder.py:594\u001b[0m, in \u001b[0;36mDatasetBuilder.download_and_prepare\u001b[1;34m(self, download_config, download_mode, ignore_verifications, try_from_hf_gcs, dl_manager, base_path, use_auth_token, **download_and_prepare_kwargs)\u001b[0m\n\u001b[0;32m    592\u001b[0m         logger\u001b[38;5;241m.\u001b[39mwarning(\u001b[38;5;124m\"\u001b[39m\u001b[38;5;124mHF google storage unreachable. Downloading and preparing it from source\u001b[39m\u001b[38;5;124m\"\u001b[39m)\n\u001b[0;32m    593\u001b[0m \u001b[38;5;28;01mif\u001b[39;00m \u001b[38;5;129;01mnot\u001b[39;00m downloaded_from_gcs:\n\u001b[1;32m--> 594\u001b[0m     \u001b[38;5;28mself\u001b[39m\u001b[38;5;241m.\u001b[39m_download_and_prepare(\n\u001b[0;32m    595\u001b[0m         dl_manager\u001b[38;5;241m=\u001b[39mdl_manager, verify_infos\u001b[38;5;241m=\u001b[39mverify_infos, \u001b[38;5;241m*\u001b[39m\u001b[38;5;241m*\u001b[39mdownload_and_prepare_kwargs\n\u001b[0;32m    596\u001b[0m     )\n\u001b[0;32m    597\u001b[0m \u001b[38;5;66;03m# Sync info\u001b[39;00m\n\u001b[0;32m    598\u001b[0m \u001b[38;5;28mself\u001b[39m\u001b[38;5;241m.\u001b[39minfo\u001b[38;5;241m.\u001b[39mdataset_size \u001b[38;5;241m=\u001b[39m \u001b[38;5;28msum\u001b[39m(split\u001b[38;5;241m.\u001b[39mnum_bytes \u001b[38;5;28;01mfor\u001b[39;00m split \u001b[38;5;129;01min\u001b[39;00m \u001b[38;5;28mself\u001b[39m\u001b[38;5;241m.\u001b[39minfo\u001b[38;5;241m.\u001b[39msplits\u001b[38;5;241m.\u001b[39mvalues())\n",
      "File \u001b[1;32m~\\.conda\\envs\\analytics\\lib\\site-packages\\datasets\\builder.py:683\u001b[0m, in \u001b[0;36mDatasetBuilder._download_and_prepare\u001b[1;34m(self, dl_manager, verify_infos, **prepare_split_kwargs)\u001b[0m\n\u001b[0;32m    679\u001b[0m split_dict\u001b[38;5;241m.\u001b[39madd(split_generator\u001b[38;5;241m.\u001b[39msplit_info)\n\u001b[0;32m    681\u001b[0m \u001b[38;5;28;01mtry\u001b[39;00m:\n\u001b[0;32m    682\u001b[0m     \u001b[38;5;66;03m# Prepare split will record examples associated to the split\u001b[39;00m\n\u001b[1;32m--> 683\u001b[0m     \u001b[38;5;28mself\u001b[39m\u001b[38;5;241m.\u001b[39m_prepare_split(split_generator, \u001b[38;5;241m*\u001b[39m\u001b[38;5;241m*\u001b[39mprepare_split_kwargs)\n\u001b[0;32m    684\u001b[0m \u001b[38;5;28;01mexcept\u001b[39;00m \u001b[38;5;167;01mOSError\u001b[39;00m \u001b[38;5;28;01mas\u001b[39;00m e:\n\u001b[0;32m    685\u001b[0m     \u001b[38;5;28;01mraise\u001b[39;00m \u001b[38;5;167;01mOSError\u001b[39;00m(\n\u001b[0;32m    686\u001b[0m         \u001b[38;5;124m\"\u001b[39m\u001b[38;5;124mCannot find data file. \u001b[39m\u001b[38;5;124m\"\u001b[39m\n\u001b[0;32m    687\u001b[0m         \u001b[38;5;241m+\u001b[39m (\u001b[38;5;28mself\u001b[39m\u001b[38;5;241m.\u001b[39mmanual_download_instructions \u001b[38;5;129;01mor\u001b[39;00m \u001b[38;5;124m\"\u001b[39m\u001b[38;5;124m\"\u001b[39m)\n\u001b[0;32m    688\u001b[0m         \u001b[38;5;241m+\u001b[39m \u001b[38;5;124m\"\u001b[39m\u001b[38;5;130;01m\\n\u001b[39;00m\u001b[38;5;124mOriginal error:\u001b[39m\u001b[38;5;130;01m\\n\u001b[39;00m\u001b[38;5;124m\"\u001b[39m\n\u001b[0;32m    689\u001b[0m         \u001b[38;5;241m+\u001b[39m \u001b[38;5;28mstr\u001b[39m(e)\n\u001b[0;32m    690\u001b[0m     ) \u001b[38;5;28;01mfrom\u001b[39;00m \u001b[38;5;28mNone\u001b[39m\n",
      "File \u001b[1;32m~\\.conda\\envs\\analytics\\lib\\site-packages\\datasets\\builder.py:1133\u001b[0m, in \u001b[0;36mArrowBasedBuilder._prepare_split\u001b[1;34m(self, split_generator)\u001b[0m\n\u001b[0;32m   1131\u001b[0m generator \u001b[38;5;241m=\u001b[39m \u001b[38;5;28mself\u001b[39m\u001b[38;5;241m.\u001b[39m_generate_tables(\u001b[38;5;241m*\u001b[39m\u001b[38;5;241m*\u001b[39msplit_generator\u001b[38;5;241m.\u001b[39mgen_kwargs)\n\u001b[0;32m   1132\u001b[0m \u001b[38;5;28;01mwith\u001b[39;00m ArrowWriter(features\u001b[38;5;241m=\u001b[39m\u001b[38;5;28mself\u001b[39m\u001b[38;5;241m.\u001b[39minfo\u001b[38;5;241m.\u001b[39mfeatures, path\u001b[38;5;241m=\u001b[39mfpath) \u001b[38;5;28;01mas\u001b[39;00m writer:\n\u001b[1;32m-> 1133\u001b[0m     \u001b[38;5;28;01mfor\u001b[39;00m key, table \u001b[38;5;129;01min\u001b[39;00m utils\u001b[38;5;241m.\u001b[39mtqdm(\n\u001b[0;32m   1134\u001b[0m         generator, unit\u001b[38;5;241m=\u001b[39m\u001b[38;5;124m\"\u001b[39m\u001b[38;5;124m tables\u001b[39m\u001b[38;5;124m\"\u001b[39m, leave\u001b[38;5;241m=\u001b[39m\u001b[38;5;28;01mFalse\u001b[39;00m, disable\u001b[38;5;241m=\u001b[39m\u001b[38;5;28;01mTrue\u001b[39;00m  \u001b[38;5;66;03m# bool(logging.get_verbosity() == logging.NOTSET)\u001b[39;00m\n\u001b[0;32m   1135\u001b[0m     ):\n\u001b[0;32m   1136\u001b[0m         writer\u001b[38;5;241m.\u001b[39mwrite_table(table)\n\u001b[0;32m   1137\u001b[0m     num_examples, num_bytes \u001b[38;5;241m=\u001b[39m writer\u001b[38;5;241m.\u001b[39mfinalize()\n",
      "File \u001b[1;32m~\\.conda\\envs\\analytics\\lib\\site-packages\\tqdm\\notebook.py:257\u001b[0m, in \u001b[0;36mtqdm_notebook.__iter__\u001b[1;34m(self)\u001b[0m\n\u001b[0;32m    255\u001b[0m \u001b[38;5;28;01mdef\u001b[39;00m \u001b[38;5;21m__iter__\u001b[39m(\u001b[38;5;28mself\u001b[39m):\n\u001b[0;32m    256\u001b[0m     \u001b[38;5;28;01mtry\u001b[39;00m:\n\u001b[1;32m--> 257\u001b[0m         \u001b[38;5;28;01mfor\u001b[39;00m obj \u001b[38;5;129;01min\u001b[39;00m \u001b[38;5;28msuper\u001b[39m(tqdm_notebook, \u001b[38;5;28mself\u001b[39m)\u001b[38;5;241m.\u001b[39m\u001b[38;5;21m__iter__\u001b[39m():\n\u001b[0;32m    258\u001b[0m             \u001b[38;5;66;03m# return super(tqdm...) will not catch exception\u001b[39;00m\n\u001b[0;32m    259\u001b[0m             \u001b[38;5;28;01myield\u001b[39;00m obj\n\u001b[0;32m    260\u001b[0m     \u001b[38;5;66;03m# NB: except ... [ as ...] breaks IPython async KeyboardInterrupt\u001b[39;00m\n",
      "File \u001b[1;32m~\\.conda\\envs\\analytics\\lib\\site-packages\\tqdm\\std.py:1168\u001b[0m, in \u001b[0;36mtqdm.__iter__\u001b[1;34m(self)\u001b[0m\n\u001b[0;32m   1165\u001b[0m \u001b[38;5;66;03m# If the bar is disabled, then just walk the iterable\u001b[39;00m\n\u001b[0;32m   1166\u001b[0m \u001b[38;5;66;03m# (note: keep this check outside the loop for performance)\u001b[39;00m\n\u001b[0;32m   1167\u001b[0m \u001b[38;5;28;01mif\u001b[39;00m \u001b[38;5;28mself\u001b[39m\u001b[38;5;241m.\u001b[39mdisable:\n\u001b[1;32m-> 1168\u001b[0m     \u001b[38;5;28;01mfor\u001b[39;00m obj \u001b[38;5;129;01min\u001b[39;00m iterable:\n\u001b[0;32m   1169\u001b[0m         \u001b[38;5;28;01myield\u001b[39;00m obj\n\u001b[0;32m   1170\u001b[0m     \u001b[38;5;28;01mreturn\u001b[39;00m\n",
      "File \u001b[1;32m~\\.conda\\envs\\analytics\\lib\\site-packages\\datasets\\packaged_modules\\text\\text.py:60\u001b[0m, in \u001b[0;36mText._generate_tables\u001b[1;34m(self, files)\u001b[0m\n\u001b[0;32m     58\u001b[0m batch_idx \u001b[38;5;241m=\u001b[39m \u001b[38;5;241m0\u001b[39m\n\u001b[0;32m     59\u001b[0m \u001b[38;5;28;01mwhile\u001b[39;00m \u001b[38;5;28;01mTrue\u001b[39;00m:\n\u001b[1;32m---> 60\u001b[0m     batch \u001b[38;5;241m=\u001b[39m \u001b[43mf\u001b[49m\u001b[38;5;241;43m.\u001b[39;49m\u001b[43mread\u001b[49m\u001b[43m(\u001b[49m\u001b[38;5;28;43mself\u001b[39;49m\u001b[38;5;241;43m.\u001b[39;49m\u001b[43mconfig\u001b[49m\u001b[38;5;241;43m.\u001b[39;49m\u001b[43mchunksize\u001b[49m\u001b[43m)\u001b[49m\n\u001b[0;32m     61\u001b[0m     \u001b[38;5;28;01mif\u001b[39;00m \u001b[38;5;129;01mnot\u001b[39;00m batch:\n\u001b[0;32m     62\u001b[0m         \u001b[38;5;28;01mbreak\u001b[39;00m\n",
      "File \u001b[1;32m~\\.conda\\envs\\analytics\\lib\\codecs.py:322\u001b[0m, in \u001b[0;36mBufferedIncrementalDecoder.decode\u001b[1;34m(self, input, final)\u001b[0m\n\u001b[0;32m    319\u001b[0m \u001b[38;5;28;01mdef\u001b[39;00m \u001b[38;5;21mdecode\u001b[39m(\u001b[38;5;28mself\u001b[39m, \u001b[38;5;28minput\u001b[39m, final\u001b[38;5;241m=\u001b[39m\u001b[38;5;28;01mFalse\u001b[39;00m):\n\u001b[0;32m    320\u001b[0m     \u001b[38;5;66;03m# decode input (taking the buffer into account)\u001b[39;00m\n\u001b[0;32m    321\u001b[0m     data \u001b[38;5;241m=\u001b[39m \u001b[38;5;28mself\u001b[39m\u001b[38;5;241m.\u001b[39mbuffer \u001b[38;5;241m+\u001b[39m \u001b[38;5;28minput\u001b[39m\n\u001b[1;32m--> 322\u001b[0m     (result, consumed) \u001b[38;5;241m=\u001b[39m \u001b[38;5;28;43mself\u001b[39;49m\u001b[38;5;241;43m.\u001b[39;49m\u001b[43m_buffer_decode\u001b[49m\u001b[43m(\u001b[49m\u001b[43mdata\u001b[49m\u001b[43m,\u001b[49m\u001b[43m \u001b[49m\u001b[38;5;28;43mself\u001b[39;49m\u001b[38;5;241;43m.\u001b[39;49m\u001b[43merrors\u001b[49m\u001b[43m,\u001b[49m\u001b[43m \u001b[49m\u001b[43mfinal\u001b[49m\u001b[43m)\u001b[49m\n\u001b[0;32m    323\u001b[0m     \u001b[38;5;66;03m# keep undecoded input until the next call\u001b[39;00m\n\u001b[0;32m    324\u001b[0m     \u001b[38;5;28mself\u001b[39m\u001b[38;5;241m.\u001b[39mbuffer \u001b[38;5;241m=\u001b[39m data[consumed:]\n",
      "\u001b[1;31mUnicodeDecodeError\u001b[0m: 'utf-8' codec can't decode byte 0x92 in position 96: invalid start byte"
     ]
    }
   ],
   "source": [
    "dfs = []\n",
    "for filename in glob(\"datagen/nytimes/*.txt\"):\n",
    "    articles_dataset = load_dataset(\"text\", data_files={\"valid\":[filename]})['valid'].filter(lambda example: example['text'])\n",
    "    lst = []\n",
    "    for i, out in enumerate(tqdm(pipe(KeyDataset(articles_dataset, \"text\")))):\n",
    "        print(articles_dataset[i]['text'], out)\n",
    "        lst.append((articles_dataset[i]['text'], out))\n",
    "    \n",
    "    dfs.append(pd.DataFrame([{\"text\":i, **j} for i, j in lst]))"
   ]
  },
  {
   "cell_type": "code",
   "execution_count": 36,
   "id": "80782617",
   "metadata": {
    "ExecuteTime": {
     "end_time": "2022-02-19T22:06:11.994335Z",
     "start_time": "2022-02-19T22:06:11.951338Z"
    },
    "scrolled": false
   },
   "outputs": [
    {
     "data": {
      "text/html": [
       "<h2>Legend</h2><br><font style=\"background-color: #ACDDDE;\">Lead</font><br><font style=\"background-color: #CAF1DE;\">Position</font><br><font style=\"background-color: #E1F8DC;\">Evidence</font><br><font style=\"background-color: #FEF8DD;\">Claim</font><br><font style=\"background-color: #FFE7C7;\">Concluding Statement</font><br><font style=\"background-color: #F7D8BA;\">Counterclaim</font><br><font style=\"background-color: #D6CDEA;\">Rebuttal</font><br><br/><br/><br/><h2>Text</h2><br><font style=\"background-color: #E1F8DC;\">In 2019 a wave of anti-abortion laws swept this country — a common enough event in the United States, where hundreds of such laws have passed during the last decade. But these grabbed the public’s attention in a way many others hadn’t. Georgia banned abortion after about six weeks of pregnancy, or about two weeks after a missed menstrual period. Ohio, Mississippi, Louisiana and Kentucky did the same, while Missouri banned the procedure at eight weeks. Alabama went the furthest, banning virtually all abortions in the state. </font><font style=\"background-color: #E1F8DC;\">Though most of these laws were quickly blocked by the courts — they were obviously unconstitutional under Roe v. Wade — the backlash to their passing was intense, especially in Georgia, a major hub of film and television production. Boycotts were threatened. Netflix and Disney spoke out. The actress Alyssa Milano even tried to get a “Lysistrata”-style sex strike off the ground. </font><font style=\"background-color: #E1F8DC;\">Three years later, American reproductive rights are on an even bleaker trajectory. A Supreme Court decision that’s expected to come down this summer is likely to strike down Roe v. Wade, either in deed or in word, making it possible for states with anti-abortion leadership to ban the procedure altogether. </font><font style=\"background-color: #E1F8DC;\">It might seem curious, then, that legislators in some conservative-leaning states are spending these months before the likely downfall of Roe working to pass less extreme abortion measures than they did in 2019. Now seems like the time for anti-abortion legislators to go for broke. The fact that some of them are pursuing a different strategy offers clues about what a post-Roe America could look like, and how that landscape could be more complex — and less predetermined — than some Americans had assumed. </font><font style=\"background-color: #E1F8DC;\">One of this year’s unmistakable trends in anti-abortion legislation is the 15-week ban. Legislators in Arizona, Florida and West Virginia are now considering bills — which, as the name suggests, would ban abortion after 15 weeks of pregnancy, in violation of Roe. At first blush, it might seem these states are simply copying the Mississippi law that the Supreme Court seems likely to uphold this summer, in Dobbs v. Jackson Women’s Health Organization. But why would they hold back now, rather than try to get more draconian legislation through their legislatures? Florida even considered a six-week ban in recent months but did not end up acting on it. What is going on? </font><font style=\"background-color: #E1F8DC;\">The answer is that 15-week bans are a way for Republicans to test public reaction in states that are still somewhat politically contested. Arizona has two Democratic senators and went for Joe Biden in 2020. Elections in Florida have been decided by a handful of votes. Their Republican governors might worry that if they go too far, they might trigger a backlash that could threaten their hold on power. Among the political realities at play: Some battleground states have constitutions that have been interpreted to protect abortion, while in others a majority of people likely oppose criminalizing the procedure. </font><font style=\"background-color: #E1F8DC;\">Fifteen-week bans are a trial balloon to see what voters will tolerate — and they may end up being a step toward more bans on abortion from the moment of fertilization. You can bet these lawmakers will be watching the public reaction to the Dobbs decision this summer. If the reaction is relatively muted — as it has been, in much of the country, to Texas’s six-week abortion ban, which has now been in effect for nearly six months — they likely will keep pushing more sweeping laws, until, perhaps, they reach an absolute ban. Conversely, if enough people revolt at the destruction of abortion rights, lawmakers in states like Florida may not feel as comfortable pushing further. </font><font style=\"background-color: #E1F8DC;\">This raises the possibility that, at least for a time after Roe is decimated, there could be not two Americas when it comes to abortion, but three: one in which almost any abortion is a crime, one in which abortion is broadly available and one in which abortion is heavily restricted but not altogether unavailable. </font><font style=\"background-color: #E1F8DC;\">At some point that third America, if it comes to be, also will be threatened. Because after Roe is gone, leaders in the national anti-abortion movement will push for abortion to be banned from the moment of fertilization. The movement’s ultimate goal has always been the legal recognition of fetal personhood, which would functionally ban abortion across the nation. That would never be possible through the democratic process, but the anti-abortion movement is now betting that it might be through the Supreme Court, with its new conservative supermajority. For decades, anti-abortion leaders have downplayed the fetal personhood goal because doing so made it easier to win public support for their cause, help Republicans get elected and reassure Supreme Court justices anxious about public backlash. But with the makeup of this court — which will not shift once President Biden replaces the retiring Justice Stephen Breyer — they could well get their wish. </font><font style=\"background-color: #FEF8DD;\">In the meantime, the anti-abortion movement will want to score as many wins as possible in red and purple states, hoping that 15-week bans will eventually lead to outlawing virtually all abortions. </font><font style=\"background-color: #E1F8DC;\">The recent rash of anti-abortion laws reflects the uncertainty of America’s future. The writing may be on the wall for Roe v. Wade, but when it comes to what happens next, the public might still have a say. </font><br/><br/><hr><br/><h2>Text</h2><br><font style=\"background-color: #E1F8DC;\">When Chris Lawson began dating Alexandra Salamis, the woman who would eventually become his partner, he was “Mr. Super Attentive Dude,” he said, the type of guy who enjoyed buying cards and flowers for no reason other than to show how much he loved her. </font><font style=\"background-color: #D6CDEA;\">But after they moved in together in 2015, things changed. </font><font style=\"background-color: #E1F8DC;\">He became more distracted and forgetful. Whether it was chores, planning social events or anything deadline-driven — like renewing a driver’s license — Ms. Salamis, 60, had to continually prod Mr. Lawson to get things done. Invariably, she just ended up doing them herself. </font><font style=\"background-color: #FEF8DD;\">“I was responsible for nothing,” Mr. Lawson, 55, admitted. </font><font style=\"background-color: #E1F8DC;\">Ms. Salamis, who is not one to mince words, described that period of their relationship as “like living with a child,” later adding, “I hated him, frankly.” </font><font style=\"background-color: #D6CDEA;\">But when she brought up her frustrations, Mr. Lawson would become defensive. And as she continued to nag, she started to feel more like a parent than a partner, something they both resented. </font><font style=\"background-color: #E1F8DC;\">Then in 2019, at a friend’s suggestion, the pair read an article about how attention deficit hyperactivity disorder, or A.D.H.D., can affect romantic relationships. </font><font style=\"background-color: #E1F8DC;\">“We both kind of looked at each other and our jaws dropped,” Ms. Salamis said. </font><font style=\"background-color: #E1F8DC;\">The couple, who live in Ottawa, had discovered something millions of others have realized, often after years of conflict: One of them — in this case, Mr. Lawson — most likely had A.D.H.D., a neurodevelopmental disorder often characterized by inattention, disorganization, hyperactivity and impulsivity. </font><font style=\"background-color: #E1F8DC;\">When one or both members of a couple have A.D.H.D., the relationship typically has unique challenges, which are usually exacerbated when the disorder goes undiagnosed, experts say. Studies suggest that people with A.D.H.D. have higher levels of interpersonal problems than their peers do, and marriages that include adults with A.D.H.D. are more likely to be unsatisfying. </font><font style=\"background-color: #E1F8DC;\">Forums like the one found on the popular website A.D.H.D. and Marriage are often filled with stories of frazzled, emotionally spent spouses stuck in unhealthy, yearslong patterns. But if a couple makes a strong effort to learn more about the disorder, manage its symptoms and find more effective ways to communicate, they can revitalize their relationship. </font><font style=\"background-color: #E1F8DC;\">People with A.D.H.D. may lack self-awareness, which can make it difficult to recognize how they are coming across to other people or how their behavior contributes to the problems they’re experiencing in their relationships, according to Russell A. Barkley, a psychologist and the author of “Taking Charge of Adult A.D.H.D.” </font><font style=\"background-color: #E1F8DC;\">Those who struggle with impulsivity might take unnecessary risks, or they might opt for immediate rewards, such as the pleasure of playing a video game, instead of focusing on mundane tasks that need to get done. People with A.D.H.D. are also often forgetful about what they’re supposed to be doing and tend to have big, emotional reactions that are stronger than what a situation might warrant — which can lead to explosive conflict. </font><font style=\"background-color: #D6CDEA;\">Contrary to the assumption that people with A.D.H.D. are always unfocused, many can focus intently on the things that interest them. But if they are especially attentive to a loved one during a relationship’s honeymoon phase and that intense interest eventually fades, a pattern can emerge where the non-A.D.H.D. partner feels unloved. </font><font style=\"background-color: #E1F8DC;\">“If your partner is chronically distracted, that means they are also distracted from you,” said Melissa Orlov, a marriage consultant who leads seminars for couples who are struggling with relationship difficulties, in part because of A.D.H.D. “That becomes very confusing and then it angers the partner because they feel like they’re not really being paid attention to. You’re like, ‘What, don’t you love me anymore? This isn’t the way it used to be.’” </font><font style=\"background-color: #FEF8DD;\">While this can be incredibly frustrating to the partner who does not have A.D.H.D., understanding these symptoms is a step toward embracing feelings of compassion and empathy over continual resentment. </font><font style=\"background-color: #E1F8DC;\">“Our loved ones with A.D.H.D. cannot help behaving the way they do,” Dr. Barkley said. It is a biological disorder, he added, “not a lifestyle choice. It is not simply something they could change in their mind over time if they wanted to.” </font><font style=\"background-color: #E1F8DC;\">Dr. Alicia Hart, 34, a primary care doctor, met her husband when she was 18. They both said “I love you” within three days and “were in a committed serious relationship from then on,” she said. “People thought we were nuts. I mean, we met at a frat party.” </font><font style=\"background-color: #FEF8DD;\">The couple, who live in Portland, Ore., with their three kids, both have A.D.H.D. </font><font style=\"background-color: #E1F8DC;\">Most of their conflict has revolved around scheduling mishaps, “threatening to record conversations to prove that they happened or me starting another overambitious project without thinking it through or thinking of the impact on him,” Dr. Hart said in an email. “I also hate being late and have developed one million strategies to avoid this, where he has literally no concept of time and cannot be on time to save his life.” </font><font style=\"background-color: #E1F8DC;\">By playing to their individual strengths, they’re able to keep the household running. He pays the bills and manages all the finances. She keeps track of the daily routine, setting alarms on their smart speaker to help him remember things like lunchtime. They use a shared online calendar and a wall calendar, too. </font><font style=\"background-color: #E1F8DC;\">Robyn Aaron, a 36-year-old mother of two who was diagnosed with A.D.H.D. last year, said she and her husband now have a weekly meeting to stay organized, but they try to make it as fun as possible. </font><font style=\"background-color: #E1F8DC;\">“We treat it like a date night — pour a glass of wine, maybe even light a candle,” said Ms. Aaron, who lives in Lisbon, Iowa. “He gives the check-in on finances; I give the skinny on the calendar.” </font><font style=\"background-color: #FEF8DD;\">They also discuss their ongoing do-it-yourself projects, upcoming trips and any needs or wants. </font><font style=\"background-color: #E1F8DC;\">“It’s become even more important to us since the pandemic began to connect in this way, and it’s super helpful for my coping strategies with A.D.H.D., too,” she added. </font><font style=\"background-color: #E1F8DC;\">In the book “A.D.H.D. After Dark: Better Sex Life, Better Relationship,” Ari Tuckman, the author, psychologist and sex therapist, surveyed more than 3,000 adults in couples where one partner had A.D.H.D. He found that the people who felt that their partners put in the most effort at either managing their own A.D.H.D. or supporting a partner with A.D.H.D. had almost twice as much sex as those who said their partners put in the least effort. </font><font style=\"background-color: #E1F8DC;\">For some partners with A.D.H.D., it can be hard to accept the need for change and can also be difficult to be optimistic that new strategies will make a difference, especially if medications or past strategies haven’t worked. </font><font style=\"background-color: #D6CDEA;\">But it’s worth continuing to educate yourself about the different options available to people with A.D.H.D., or perhaps even seeking out a different clinician from the one you’ve been seeing, he added. </font><font style=\"background-color: #FEF8DD;\">Dr. Tuckman also advised both partners to choose their battles. </font><font style=\"background-color: #E1F8DC;\">“A.D.H.D. doesn’t invent new problems, it just exacerbates the universal ones,” he said. “It’s the stuff that every other couple argues about, just more often.” </font><font style=\"background-color: #E1F8DC;\">It is within your right to insist that your partner get the kids to school on time, for example, and ideally you will find a way to make that happen. But, Dr. Tuckman cautioned, “you only get a small number of deal breakers.” </font><font style=\"background-color: #FEF8DD;\">Experts agree that medication alone is not the best way to manage A.D.H.D., but it can complement other strategies like cognitive behavioral therapy, coaching, mindfulness and exercise. </font><font style=\"background-color: #E1F8DC;\">It wasn’t until he had been married for 16 years that Taylor Weeks, 36, finally realized that A.D.H.D. had been at the root of so much of the discord between him and his wife. </font><font style=\"background-color: #FEF8DD;\">As far back as he can remember, he struggled with time blindness and forgetfulness, continually dropping the ball and then chastising himself for it. </font><font style=\"background-color: #E1F8DC;\">“It has always been kind of a huge stressor for my wife,” said Mr. Weeks, who lives in Rio Rancho, N.M. “She’s constantly been frustrated with me.” </font><font style=\"background-color: #E1F8DC;\">He is now seeing a psychologist, taking medication for the A.D.H.D. symptoms and practicing mindfulness to help ease his anxiety. </font><font style=\"background-color: #FEF8DD;\">He still struggles with forgetfulness, but his mind feels more clear. </font><font style=\"background-color: #E1F8DC;\">“Before, I felt like I always had a bunch of thoughts going through my mind all the time,” he said. “But when it came down to try to articulate what I’m thinking, it was really difficult for me to get that out of my head and get my point across.” </font><font style=\"background-color: #E1F8DC;\">His wife is noticing, he added, and told him he’s easier to communicate with and seems more engaged with their four children. </font><font style=\"background-color: #FEF8DD;\">Mr. Lawson’s relationship also improved after he was eventually diagnosed with A.D.H.D. and prescribed a medication that improved his memory and ability to focus. </font><font style=\"background-color: #E1F8DC;\">“It’s literally like a blanket has been removed from my head,” he said. </font><font style=\"background-color: #FEF8DD;\">Just as important, they also attended couples therapy and learned how to better relate to each other and develop strategies to get things done at home. </font><font style=\"background-color: #E1F8DC;\">Ms. Salamis, for her part, worked to break old patterns of behavior where she would continually check up on her partner or try to manage every aspect of their household. There was no need to do so anymore, because he was actually doing the things that needed to get done. </font><font style=\"background-color: #E1F8DC;\">It has been a long road to get to this point, Mr. Lawson continued, but now, he said, “I can be the guy she fell in love with.” </font><br/><br/><hr><br/><h2>Text</h2><br><font style=\"background-color: #E1F8DC;\">KABUL, Afghanistan — A young boy died on Friday after being trapped in a well for several days in southern Afghanistan, Taliban officials said, heralding a tragic end to a round-the-clock rescue effort led by officials at the highest levels of the country’s new government. </font><font style=\"background-color: #E1F8DC;\">The boy, Haidar Jan, who was thought to be 5, fell into a roughly 85-foot-deep well on Tuesday in a village near Qalat, the capital of Zabul Province. By Thursday, rescuers had sent cameras and ropes down the barely foot-wide borehole to no avail, in a scene reminiscent of an effort in Morocco this month. </font><font style=\"background-color: #E1F8DC;\">Around the time they discovered that Haidar was not moving, officials said, they began digging into the earth around the scene. </font><font style=\"background-color: #E1F8DC;\">“Zabul officials, in coordination with Kabul officials and the Zabul municipality, worked for about 70 hours and used various tools and equipment to rescue the child,” said Sharafat Wyar, the head of Zabul’s information and culture department. “When the child was rescued from the well, he was alive for a short time, but after awhile, he died.” </font><font style=\"background-color: #E1F8DC;\">Anas Haqqani, the brother of Sirajuddin Haqqani, the Taliban’s acting interior minister, helped lead the rescue effort, which involved the police, public works and the Taliban’s fledgling air force. The acting defense minister, Muhammad Yaqoub, was also present to assist with commanding the operation. </font><font style=\"background-color: #E1F8DC;\">Haidar’s death comes only weeks after the efforts to rescue a 5-year-old boy in Morocco, Rayan Oram, captivated people around the globe after he plunged into a well in his own small village. </font><font style=\"background-color: #E1F8DC;\">The operation in Morocco to save Rayan, who also died, was accompanied by days of vigils and internet livestreams that followed the rescue effort with thousands of viewers. </font><font style=\"background-color: #E1F8DC;\">Wells are commonplace in Afghanistan, with more than 70 percent of the country’s 38 million people living in rural areas. As one of the worst droughts in decades drags on into another year, Afghan farmers are digging their wells increasingly deeper to reach a quickly diminishing water table. The well into which Haidar fell on Tuesday was completely dry, Mr. Wyar said. </font><font style=\"background-color: #E1F8DC;\">Eventually, excavators dug a trench into the side of the well to retrieve the boy after initial attempts to pull him out failed. Videos taken from the scene during the rescuers’ early attempts showed a claustrophobic chamber already clogged with debris and ropes. </font><font style=\"background-color: #E1F8DC;\">In Afghanistan, Haidar’s plight garnered far less attention than young Rayan’s, though the Taliban seized on the opportunity to publicize their ability to marshal an effective emergency response. </font><font style=\"background-color: #E1F8DC;\">The rescue of a helpless young boy also provided an opportunity to present a nuanced and attentive side of the Taliban leadership, which is regularly subject to international admonition for its hard-line religious stance and fought a violent insurgency for decades before taking power last year. </font><font style=\"background-color: #E1F8DC;\">“It is with regret that Haidar Jan left us forever,” Anas Haqqani said on Twitter shortly after the boy was removed from the well. The Taliban quickly circulated photographs purportedly showing Mr. Haqqani and Mr. Yaqoub, the oldest son of the Taliban’s leader, Mullah Omar, speaking with Haidar’s father. </font><font style=\"background-color: #E1F8DC;\">The public relations blitz followed weeks of headlines and international outcry accusing the Taliban of abducting several female activists who had protested after women’s rights were rolled back under the banner of strict Islamic law. The Taliban denied abducting the women even though they were eventually released. </font><br/><br/><hr><br/><h2>Text</h2><br><font style=\"background-color: #FEF8DD;\">On Aug. 10, 2021, days before the collapse of Afghanistan’s government, Fawad Khan Safi arrived in the United States to begin his new life. </font><font style=\"background-color: #E1F8DC;\">Mr. Safi, who previously worked as a contractor for the United States Agency for International Development in Afghanistan, had waited an agonizing 12 months to receive his Special Immigrant Visa, or S.I.V., and make it to Texas. His ordeal lasted several months longer than the maximum nine-month visa processing period mandated by law — and yet, Mr. Safi is one of the lucky ones. </font><font style=\"background-color: #E1F8DC;\">Around 60,000 Afghans who have worked with American forces and applied for visas remain in Afghanistan — many probably starving and on the run from the Taliban. Few, if any visas have ever been approved within that nine-month timeline. The system is clearly broken. </font><font style=\"background-color: #FFE7C7;\">Despite the disturbing images of last summer’s evacuation, the obstacles facing S.I.V. applicants have continued to persist. To remedy this, Congress should overhaul the current S.I.V. process and pass an improved, permanent immigration program that swiftly and efficiently resettles those who apply for it. </font><font style=\"background-color: #E1F8DC;\">If the S.I.V. process isn’t fixed, U.S. enemies like the Taliban will continue to persecute those who put their lives at risk to protect American troops. In the long run, partners around the world whom the United States often relies on will most likely rethink the value of a close relationship with the American government if they see that they can’t depend on its support. </font><font style=\"background-color: #E1F8DC;\">Congress enacted the first S.I.V. program — for which both Iraqi and Afghan interpreters were eligible — in 2006, several years after both conflicts began. From inception, the program was unable to process applications in a timely manner, resulting in a backlog that was never resolved. As their applications languished, interpreters working for the U.S. government were targeted for retribution. After the United States withdrew most of its troops from Iraq in 2011, Iraqi interpreters faced brutal consequences, in large part because of severe delays in the processing of S.I.V. applications. </font><font style=\"background-color: #FEF8DD;\">Without immediate changes to the S.I.V. program, a similar fate awaits our Afghan allies. </font><font style=\"background-color: #E1F8DC;\">Currently, Afghans may apply for S.I.V.s via two tracks: A permanent program for interpreters who worked directly with the U.S. military, limited to only 50 people annually, and a much larger but temporary program for others working for or on behalf of the U.S. government. Each program has different application requirements, deadlines and visa quotas. </font><font style=\"background-color: #E1F8DC;\">Unfortunately, Congress’s well-intentioned attempts to improve the S.I.V. programs have only increased their complexity, while insufficiently addressing their greatest weaknesses. Sporadic, temporary extensions have made it difficult for the executive branch to properly budget, staff and provide resources for the programs over time. For example, the State Department Office of the Inspector General found that from 2016 to 2020, the programs’ staffing numbers remained constant as a backlog grew and as Congress approved 15,500 additional visas. </font><font style=\"background-color: #E1F8DC;\">Moreover, the responsibilities of the Departments of State, Homeland Security, and Defense in the immigration process are poorly delineated. Basic background and security checks span multiple agencies, and the coordination between these agencies has been inadequate. </font><font style=\"background-color: #D6CDEA;\">But immediate steps can be taken to rectify the programs. First, Ambassador Elizabeth Jones — the current coordinator for Afghan relocation efforts at the State Department — needs more authority to speed up the bureaucratic machinery. The White House should designate her as presidential coordinator with the authority to direct and oversee the workings of other agency personnel. </font><font style=\"background-color: #E1F8DC;\">The Biden administration has increased resources and decreased the processing time for the S.I.V. program in the last few months, but those moves fall far short of the major legislative overhaul the Afghan and Iraqi S.I.V. programs need. Congress should consolidate the multiple tracks of the S.I.V. programs into a permanent, unified framework that simplifies processing and eligibility rules. This program should allow for a more holistic security vetting process that considers context while screening effectively. </font><font style=\"background-color: #E1F8DC;\">Currently, neither S.I.V. track allows applicants’ former U.S. supervisors to offer helpful context when red flags come up during initial background checks. Hypothetically, consider the case of an interpreter who, at the behest of his U.S. military supervisors, contacted insurgent sympathizers to collect information or obtain cooperation during the height of the conflict. Under the existing system, such applicants are typically disapproved as security risks without being provided sufficient recourse to appeal. </font><font style=\"background-color: #E1F8DC;\">By limiting S.I.V. eligibility to Iraqis and Afghans, the U.S. government also ignores a slew of other allies who have risked their lives on behalf of American troops and missions. Syrian and Yemeni interpreters, for example, accompanied U.S. forces in battle against ISIS and Al Qaeda. They have no chance at resettlement in the United States through an S.I.V. program. </font><font style=\"background-color: #E1F8DC;\">Expanding a permanent S.I.V. program to apply to other conflict zones would also prevent the need to create new legislation for those countries. In the past, some country-specific programs have fallen through the legislative cracks altogether. Most recently, Congress failed to enact a Syrian S.I.V. program despite more than one attempt to introduce such a bill. Our allies deserve better, especially in light of looming future crises such as the current standoff between Russia and Ukraine. </font><font style=\"background-color: #E1F8DC;\">In Texas, Mr. Safi now works at a resettlement agency, paying his fortune forward by helping other new arrivals find work and a sense of community in their new country. Tragically, though, most refugees who have applied to the S.I.V. programs will not make it to the United States. Thousands are still waiting — terrified of Taliban retribution, hiding in basements. </font><font style=\"background-color: #FEF8DD;\">It’s time to bring them to America. </font><br/><br/><hr><br/><h2>Text</h2><br><font style=\"background-color: #E1F8DC;\">BRUNSWICK, Ga. — Defense lawyers in the hate crimes trial of the three white men convicted of murdering Ahmaud Arbery rested their case on Friday after calling just a single witness. </font><font style=\"background-color: #E1F8DC;\">None of the defendants — Travis McMichael, his father, Gregory McMichael, and their neighbor William Bryan — took the stand in their own defense. </font><font style=\"background-color: #E1F8DC;\">The men were convicted in state court last year of chasing Mr. Arbery through their South Georgia neighborhood and murdering him. All three were sentenced to life in prison. In the federal trial, they stand accused of pursuing and killing Mr. Arbery specifically because he was Black. </font><font style=\"background-color: #E1F8DC;\">On Friday, only the lawyer for Gregory McMichael presented evidence to the jury, in an attempt to buttress the defense’s central argument that the men chased Mr. Arbery because they suspected him of committing burglaries in the area, not because of his race. </font><font style=\"background-color: #E1F8DC;\">The single defense witness, a woman who lived in the Satilla Shores neighborhood where the defendants lived and where Mr. Arbery died, testified that on one occasion in 2019 she saw a white man who appeared suspicious under a bridge near the entrance to the neighborhood. A.J. Balbo, Mr. McMichael’s lawyer, played a recording of a call Mr. McMichael made to authorities that summer after he, too, saw a white man under the bridge whom he thought was suspicious and perhaps responsible for burglaries. The defendants have argued in both trials that they were on alert because of a rash of break-ins. </font><font style=\"background-color: #FEF8DD;\">An advocate for Mr. Arbery’s family expressed skepticism about that line of argument. </font><font style=\"background-color: #E1F8DC;\">“The defense tried to use this witness to show that their clients aren’t racist, that they called the police on a white man and were concerned about crime, but just because you called the police on a white person doesn’t mean you’re not racist,” said Lynn Whitfield, a senior attorney with the Transformative Justice Coalition who has been sitting with Mr. Arbery’s family during the court proceedings. “They didn’t chase the white man through the neighborhood with guns and kill him.” </font><font style=\"background-color: #E1F8DC;\">The jury is tasked with determining whether the men deprived Mr. Arbery of his right to use a public street because he was Black, not whether they committed murder. The men are also charged with attempted kidnapping, and the McMichaels are charged with one count each of using a weapon during a violent crime. If convicted, they face up to life in prison. Guilty verdicts would have practical ramifications if the men’s state convictions were overturned on appeal. </font><font style=\"background-color: #E1F8DC;\">The defense witness on Friday came after prosecutors called 20 witnesses and introduced dozens of pieces of evidence over three and a half days, including text, WhatsApp and Facebook messages and comments containing racist language that the men posted and sent to others. </font><font style=\"background-color: #FEF8DD;\">Among the prosecution’s witnesses was Kristie Ronquille, who testified on Friday morning. </font><font style=\"background-color: #E1F8DC;\">Ms. Ronquille said that in 2011, when she was in the Coast Guard in Pascagoula, Miss., Travis McMichael, then her supervisor, made disparaging comments about Black people after learning that she had previously dated a Black man. Crying on the stand, Ms. Ronquille said Mr. McMichael called her an “N-word lover” on more than one occasion after that. </font><font style=\"background-color: #E1F8DC;\">Asked by Travis McMichael’s lawyer, Amy Lee Copeland, why she had not reported him, Ms. Ronquille said that she was new to the Coast Guard. </font><font style=\"background-color: #E1F8DC;\">“This is my supervisor — it’d be like telling on your boss,” she said. “Who do you tell on your boss to?” </font><font style=\"background-color: #E1F8DC;\">On Friday, the prosecution also called Kim Ballesteros, a neighbor of the McMichaels, who said she remembered standing at the end of a driveway, telling Gregory McMichael that she had a new rental property. Mr. McMichael told her about his own tenant, a Black woman who had rented a home from him. He said he had cut off the woman’s air-conditioning in the summer to goad her into paying her rent. </font><font style=\"background-color: #E1F8DC;\">“You should have seen how fast her big fat Black ass came with the rent check,” Ms. Ballesteros recalled Mr. McMichael saying. Ms. Ballesteros said Mr. McMichael called the woman a “walrus” because she was “big and Black.” </font><font style=\"background-color: #ACDDDE;\">“I was surprised,” Ms. Ballesteros said. “It was racist and uncomfortable, and I was frankly disappointed.” </font><font style=\"background-color: #E1F8DC;\">Mr. Balbo, Gregory McMichael’s lawyer, noted that Ms. Ballesteros continued to speak with Mr. McMichael after the incident and that his client rented to African Americans. </font><font style=\"background-color: #E1F8DC;\">Another witness, Carole Sears, said she recalled hearing Gregory McMichael “rant” about Black people after finding out that Julian Bond, the civil rights leader, had died. At the time, Mr. McMichael was an investigator for the local district attorney’s office and she was riding in his car because of her involvement in a legal matter in Brunswick, Ga. Ms. Sears was upset about Mr. Bond’s death, while Mr. McMichael was pleased, she said. “I wish that guy had been in the ground years ago,” Ms. Sears recalled Mr. McMichael saying. “All those Blacks are nothing but trouble and I wish they’d all die.” </font><font style=\"background-color: #FEF8DD;\">Ms. Sears said she did not speak for the remainder of the ride because she was afraid. </font><font style=\"background-color: #FEF8DD;\">In their opening statements this week, defense lawyers criticized the racist language their clients used, but they also insisted that use of such language is not evidence that the men killed Mr. Arbery because he was Black. </font><font style=\"background-color: #E1F8DC;\">The men chased Mr. Arbery “not because he was a Black man, but because he was the man,” Mr. Balbo said in his opening statements. </font><font style=\"background-color: #FEF8DD;\">The jury will hear closing arguments from the government and the defendants on Monday. </font><br/><br/><hr><br/><h2>Text</h2><br><font style=\"background-color: #E1F8DC;\">This spring, Philips Pham was among the more than 12,000 people in 148 countries who took an online class called Code in Place. Run by Stanford University, the course taught the fundamentals of computer programming. </font><font style=\"background-color: #E1F8DC;\">Four weeks in, Mr. Pham, a 23-year-old student living at the southern tip of Sweden, typed his way through the first test, trying to write a program that could draw waves of tiny blue diamonds across a black-and-white grid. Several days later, he received a detailed critique of his code. </font><font style=\"background-color: #E1F8DC;\">It applauded his work, but also pinpointed an error. “Seems like you have a small mistake,” the critique noted. “Perhaps you are running into the wall after drawing the third wave.” </font><font style=\"background-color: #FEF8DD;\">The feedback was just what Mr. Pham needed. And it came from a machine. </font><font style=\"background-color: #E1F8DC;\">During this online class, a new kind of artificial intelligence offered feedback to Mr. Pham and thousands of other students who took the same test. Built by a team of Stanford researchers, this automated system points to a new future for online education, which can so easily reach thousands of people but does not always provide the guidance that many students need and crave. </font><font style=\"background-color: #E1F8DC;\">“We’ve deployed this in the real world, and it works better than we expected,” said Chelsea Finn, a Stanford professor and A.I. researcher who helped build the new system. </font><font style=\"background-color: #FEF8DD;\">Dr. Finn and her team designed this system solely for Stanford’s programming class. But they used techniques that could automate student feedback in other situations, including for classes beyond programming. </font><font style=\"background-color: #E1F8DC;\">Oren Etzioni, chief executive of the Allen Institute for Artificial Intelligence and a former professor of computer science at the University of Washington, cautioned that these techniques are a very long way from duplicating human instructors. Feedback and advice from professors, teaching assistants and tutors is always preferable to an automated critique. </font><font style=\"background-color: #F7D8BA;\">Still, Dr. Etzioni called the Stanford project a “step in an important direction,” with automated feedback better than none at all. </font><font style=\"background-color: #E1F8DC;\">The online course taken by Mr. Pham and thousands of others this spring is based on a class that Stanford has offered for more than a decade. Each semester, the university gives students a midterm test filled with programming exercises, and it keeps a digital record of the results, including the reams of code written by students as well as pointed critiques of each program from university instructors. </font><font style=\"background-color: #FEF8DD;\">This decade of data is what drove the university’s new experiment in artificial intelligence. </font><font style=\"background-color: #E1F8DC;\">Dr. Finn and her team built a neural network, a mathematical system that can learn skills from vast amounts of data. By pinpointing patterns in thousands of cat photos, a neural network can learn to identify a cat. By analyzing hundreds of old phone calls, it can learn to recognize spoken words. Or, by examining the way teaching assistants evaluate coding tests, it can learn to evaluate these tests on its own. </font><font style=\"background-color: #E1F8DC;\">The Stanford system spent hours analyzing examples from old midterms, learning from a decade of possibilities. Then it was ready to learn more. When given just a handful of extra examples from the new exam offered this spring, it could quickly grasp the task at hand. </font><font style=\"background-color: #E1F8DC;\">“It sees many kinds of problems,” said Mike Wu, another researcher who worked on the project. “Then it can adapt to problems it has never seen before.” </font><font style=\"background-color: #E1F8DC;\">This spring, the system provided 16,000 pieces of feedback, and students agreed with the feedback 97.9 percent of the time, according to a study by the Stanford researchers. By comparison, students agreed with the feedback from human instructors 96.7 percent of the time. </font><font style=\"background-color: #E1F8DC;\">Mr. Pham, an engineering student at Lund University in Sweden, was surprised the technology worked so well. Although the automated tool was unable to evaluate one of his programs (presumably because he had written a snippet of code unlike anything the A.I. had ever seen), it both identified specific bugs in his code, including what is known in computer programming and mathematics as a fence post error, and suggested ways of fixing them. “It is seldom you receive such well thought out feedback,” Mr. Pham said. </font><font style=\"background-color: #FEF8DD;\">The technology was effective because its role was so sharply defined. In taking the test, Mr. Pham wrote code with very specific aims, and there were only so many ways that he and other students could go wrong. </font><font style=\"background-color: #D6CDEA;\">But given the right data, neural networks can learn a range of tasks. This is the same fundamental technology that identifies faces in the photos you post to Facebook, recognizes the commands you bark into your iPhone and translates from one language to another on services like Skype and Google Translate. For the Stanford team and other researchers, the hope is that these techniques can automate education in many other ways. </font><font style=\"background-color: #E1F8DC;\">Researchers have been building automated teaching tools since the 1970s, including robo-tutors and computerized essay graders. But progress has been slow. Building a system that can simply and clearly guide students often requires years of work, with designers struggling to define each tiny piece of behavior. </font><font style=\"background-color: #E1F8DC;\">Using the methods that drove the Stanford project, researchers can significantly accelerate this work. “There is real power in data,” said Peter Foltz, a professor at the University of Colorado who has spent decades developing systems that can automatically grade prose essays. “As machines get more examples, they can generalize.” </font><font style=\"background-color: #D6CDEA;\">Prose may seem very different from computer code. But in this case, it is not. In recent years, researchers have built technology that can analyze natural language in much the same way the Stanford system analyzes computer code. </font><font style=\"background-color: #D6CDEA;\">Although the Stanford system provides sharp feedback, it is useless if students have any questions about where they went wrong. But for Chris Piech, the Stanford professor who helped oversee the class, replacing instructors is not the goal. </font><font style=\"background-color: #FFE7C7;\">The new automated system is a way of reaching more students than instructors could otherwise reach on their own. And if it can clearly pinpoint problems in student code, showing the specific coding mistakes they are making and how frequently they are making them, it could help instructors better understand which students need help and how to help them. As Dr. Piech put it: “The future is symbiotic — teachers and A.I. working together.” </font><br/><br/><hr><br/><h2>Text</h2><br><font style=\"background-color: #E1F8DC;\">The early 1990s were in many ways the most terrible of those first years of the AIDS epidemic in America. Research on the disease was in high gear, but drug after drug failed to stop H.I.V. Funerals for friends and family in their 20s, 30s, 40s and 50s continued unabated, and many of us at risk for getting sick had given up hope of a normal life. My friends and I, most of us just a few years out of college, lived in the moment because we weren’t sure of how much time we had left. </font><font style=\"background-color: #E1F8DC;\">My cousin Carl died from AIDS-related lymphoma in July 1995. That was also the year I found out that I, too, was H.I.V. positive. I wondered if Carl’s fate might be my own soon enough. </font><font style=\"background-color: #D6CDEA;\">But then we got lucky. In 1996 a new generation of treatments called protease inhibitors emerged that were able to control H.I.V. Doctors talked about the Lazarus effect: watching their patients go from near death to health. I enrolled in a clinical trial and started taking the drugs that year. I am alive because of them. </font><font style=\"background-color: #E1F8DC;\">In 1996 the writer Andrew Sullivan came to a meeting of an AIDS activist group I co-founded a few years earlier to push AIDS drug development and research forward. It was just after the data on these protease inhibitors had been unveiled at a major scientific conference. We were known as a crew of hard-core skeptics of claims by drug companies and scientists, but the data clearly showed these drugs were revolutionary. They would change the trajectory of the epidemic for many people, including me. Mr. Sullivan went on to write a piece for The New York Times Magazine titled “When Plagues End,” which was published in November of that year and rightly noted that AIDS was no longer a death sentence for all infected by the virus but a chronic manageable illness. </font><font style=\"background-color: #E1F8DC;\">Of course, as Mr. Sullivan recognized, the AIDS pandemic didn’t fully end. In a way it did end for many white middle-class gay men like us; we had access to these drugs and to good medical care overall and could start to think about getting back to normal. But AIDS still lingered and flourished in America in places that were easy for people like us to ignore. </font><font style=\"background-color: #E1F8DC;\">The virus took root in the African American and Latino communities, particularly among young gay men. It moved from New York City and San Francisco to the South and into rural areas, tracing the geography of health disparities in this country. H.I.V. also continued to ravage Africa, and the pills I was taking wouldn’t be available widely there for several years, until activists shamed the world into taking notice. Rather than acknowledge that high drug prices were keeping the pills out of the hands of others, one U.S. official said that Africans couldn’t tell time and thus the AIDS drugs would do no good there. </font><font style=\"background-color: #E1F8DC;\">Nearly three decades later, we’re in the midst of a different pandemic. And we’ve gotten lucky again: We have vaccines for Covid-19, and they are also revolutionary. The pandemic has changed. </font><font style=\"background-color: #E1F8DC;\">And once more, the desire to get back to normal and to declare the end of another pandemic, at least for some of us, is palpable after more than two years of death, suffering and hardship. Governors’ recent lifting of mask mandates reflects that. There’s a demobilization that many suggest is contingent on what might happen with new variants but could easily become permanent. Much, if not most, of the country has moved on or wants to move on from Covid-19. </font><font style=\"background-color: #E1F8DC;\">It’s also clear that SARS-CoV-2 will be with us for the foreseeable future and that it, too, will follow the fault lines of social and economic inequality in America. It will persist in countries — likely many in Africa — where people have insufficient access to coronavirus vaccines. Some will blame low vaccination rates on the hesitancy of those nations’ residents rather than drug companies withholding their vaccine technology to allow for global scale-up. </font><font style=\"background-color: #FFE7C7;\">There has to be a better way out of the rubble of the past two years. What would it mean to move into a future in which a common fate mattered as much as our own? It would mean no one was disposable. </font><font style=\"background-color: #E1F8DC;\">The lesson of the AIDS pandemic is that it’s easy to leave people behind, even if it is at the cost of our collective peril. Coronavirus variants can develop in people with weakened immune systems who struggle to clear infections on their own, like those with untreated H.I.V. Think of the home we’ve then made for viruses like SARS-CoV-2 by impeding access to vaccines and by allowing millions to go without AIDS treatment even now. Variants can emerge because of our desire to put it all behind us. No one is truly safe until we all are. Yet might we act to save millions of people not just in the interest of self-preservation but also simply because it’s the right thing to do? That would be a signal that this pandemic has changed us. For good. </font><br/><br/><hr><br/><h2>Text</h2><br><font style=\"background-color: #E1F8DC;\">On a Saturday in March 2020, as Covid-19 was invading the United States, Gov. Andrew M. Cuomo went on CNN for a live interview. Among other topics, he was asked about a possible government-enforced quarantine of New York that had been floated by President Donald J. Trump. </font><font style=\"background-color: #FEF8DD;\">It was a newsworthy topic, but its path onto viewers’ screens would turn out to be controversial — and highly consequential for the future of one of the world’s most powerful news networks. </font><font style=\"background-color: #E1F8DC;\">Before the interview, Governor Cuomo had told a senior CNN executive, Allison Gollust, about subjects that he’d like to be asked about on air, according to several people familiar with the matter. Ms. Gollust, CNN’s longtime chief of communications and marketing and a former top aide of the governor, passed along the topics to CNN producers and then reported back to the governor. </font><font style=\"background-color: #FEF8DD;\">“Done,” she wrote. </font><font style=\"background-color: #E1F8DC;\">On Tuesday, Ms. Gollust was forced to resign from CNN after an internal investigation found a trove of written communications between her and Governor Cuomo, including messages about the March 2020 appearance, the people said. Jeff Zucker, who at the time was CNN’s president, was aware of many of the communications between Ms. Gollust and the governor, the people said. </font><font style=\"background-color: #FEF8DD;\">The episode is the latest example of how closely entwined CNN’s leadership was with one of the country’s most prominent Democratic politicians. </font><font style=\"background-color: #E1F8DC;\">Producers and bookers for television news shows routinely talk with guests before their scheduled appearances and discuss questions and topics that are likely to come up on air. It is unusual, though, for a senior executive to be involved in that pre-interview process — especially when that executive previously worked for the person who’s being interviewed. </font><font style=\"background-color: #E1F8DC;\">Risa Heller, a spokeswoman for Ms. Gollust, said the communications with the governor were appropriate. Ms. Gollust “in no way suggested that inclusion of these topics was a condition of the interview, nor did she suggest the interview should be limited to these subjects,” Ms. Heller said. </font><font style=\"background-color: #E1F8DC;\">She added: “WarnerMedia relying on this everyday practice as justification for dismissing Allison demonstrates how ignorant they are of journalistic practices, and further proves that her dismissal is nothing more than retaliation.” </font><font style=\"background-color: #E1F8DC;\">CNN, whose slogan is “the most trusted name in news,” is facing mounting questions about how its senior executives and its top-rated anchor — Chris Cuomo, the governor’s younger brother — steered coverage of Governor Cuomo, who resigned last summer. </font><font style=\"background-color: #E1F8DC;\">In a memo to employees this week, Jason Kilar, the chief executive of WarnerMedia, which is CNN’s parent company, wrote that Ms. Gollust was resigning after the internal investigation found unspecified “violations of company policies, including CNN’s news standards and practices,” by her, Mr. Zucker and Chris Cuomo. </font><font style=\"background-color: #E1F8DC;\">Her resignation was the latest blow to CNN, which was already reeling in the wake of Mr. Zucker’s abrupt ouster two weeks earlier. Mr. Zucker said he was leaving because he had failed to disclose a romantic relationship with Ms. Gollust. </font><font style=\"background-color: #FEF8DD;\">The internal review, conducted by the law firm of Cravath Swaine & Moore, began last fall with an examination of allegations of workplace misconduct against Chris Cuomo.  </font><font style=\"background-color: #E1F8DC;\">Mr. Zucker fired Mr. Cuomo in December, days after the network received a letter claiming that Mr. Cuomo had years earlier sexually assaulted a woman and that he later offered to air a flattering CNN segment about her employer. The woman perceived that as an effort to buy her silence. Mr. Cuomo has denied the allegations. </font><font style=\"background-color: #FEF8DD;\">Mr. Cuomo also came under fire for having closely advised his brother on how to fend off a sexual misconduct scandal that ultimately forced the governor to resign. </font><font style=\"background-color: #FEF8DD;\">After Mr. Cuomo’s departure from CNN, the Cravath review took on a life of its own, and it quickly upended the news network. </font><font style=\"background-color: #E1F8DC;\">Investigators learned that Mr. Zucker and Ms. Gollust, who had worked closely together on and off for more than two decades, were having a romantic affair that had not been disclosed to human resources or other executives at WarnerMedia. </font><font style=\"background-color: #E1F8DC;\">The Cravath investigators also uncovered extensive written communications between Governor Cuomo and Ms. Gollust, who had briefly worked for the governor in late 2012 and early 2013, the people said. </font><font style=\"background-color: #FEF8DD;\">It wasn’t clear what all of those communications were about. </font><font style=\"background-color: #D6CDEA;\">But investigators found messages during the pandemic in which Governor Cuomo informed Ms. Gollust about three specific subjects that he wanted to be covered during a March 28, 2020, appearance at CNN, the people said. </font><font style=\"background-color: #E1F8DC;\">They said those topics included his recent phone conversation with Mr. Trump and the effect of New York’s being placed under lockdown. </font><font style=\"background-color: #E1F8DC;\">Ms. Gollust then sent messages to CNN staff requesting that the governor be asked about those subjects. </font><font style=\"background-color: #E1F8DC;\">The Cravath lawyers reviewed broadcast transcripts that showed that the anchor asked about the subjects that Ms. Gollust had put forward, the people said. </font><font style=\"background-color: #E1F8DC;\">Ms. Heller, the spokeswoman for Ms. Gollust, said that Ms. Gollust “acted as the principal booker for Governor Cuomo during the early days of the pandemic” and that her role was “well known by the entire network.” </font><font style=\"background-color: #FEF8DD;\">It was unclear whether Mr. Zucker knew that Ms. Gollust passed on Governor Cuomo’s request about interview topics. </font><font style=\"background-color: #E1F8DC;\">A spokesman for WarnerMedia referred The New York Times to the memo that the company sent to employees on Tuesday night. </font><font style=\"background-color: #FEF8DD;\">The back-to-back exits of Mr. Zucker and Ms. Gollust have raised questions about the future direction of CNN. </font><font style=\"background-color: #FEF8DD;\">WarnerMedia, which is owned by AT&T, is set to be spun off and merged with Discovery Inc. in the coming months. </font><font style=\"background-color: #E1F8DC;\">WarnerMedia has tried to keep a lid on the internal drama, initially remaining tight-lipped about the circumstances of Mr. Zucker’s departure and then issuing a short, vaguely worded memo on Tuesday night about Ms. Gollust’s departure and unspecified journalistic lapses. </font><font style=\"background-color: #E1F8DC;\">Even in conversations with CNN staff, executives and newsroom leaders have been mostly mum, to the mounting frustration of the network’s journalists and other employees. </font><font style=\"background-color: #E1F8DC;\">In a pair of Zoom meetings on Wednesday with CNN employees, Michael Bass and Ken Jautz, who stepped in as two of the network’s interim leaders after Mr. Zucker’s departure, said Ms. Gollust had committed serious violations of the network’s journalistic standards, four people who attended the virtual meetings said. </font><font style=\"background-color: #E1F8DC;\">WarnerMedia’s top communications official, Christy Haubegger, also said in a staff meeting that Ms. Gollust’s transgressions had “to do with the Cuomos,” three people said. </font><font style=\"background-color: #FEF8DD;\">When employees pressed for more details, Ms. Haubegger said she was barred from saying more. </font><font style=\"background-color: #FEF8DD;\">“Actions were taken to defend the institution and the brand,” she said on the call. </font><font style=\"background-color: #E1F8DC;\">Ms. Haubegger urged CNN’s public relations team to try to focus public attention on the network’s journalism, including its foreign correspondents in Ukraine covering that country’s brewing conflict with Russia. </font><font style=\"background-color: #E1F8DC;\">The internal investigation’s findings are especially notable because CNN journalists have repeatedly attacked Fox News personalities like Sean Hannity for having an overly close relationship with Republican leaders, in particular Mr. Trump. </font><font style=\"background-color: #FEF8DD;\">Mr. Trump, in turn, repeatedly accused CNN of being a mouthpiece for Democrats. </font><br/><br/><hr><br/><h2>Text</h2><br><font style=\"background-color: #E1F8DC;\">On a Monday morning in February, Harry Hill, 27, showed up at the American Girl Cafe wearing a vintage Christian Dior sweater and carrying a Coach tote that held two of his beloved dolls. He was joined by Serena Kerrigan, 27, who brought her dolls in a pink mesh Victoria’s Secret bag. </font><font style=\"background-color: #E1F8DC;\">Mr. Hill, an influencer, is well documented as a fan: He has posed at a 7-Eleven dressed identically to one of his dolls on Instagram. He dressed as the Samantha doll for Halloween and created a series of memes made with American Girl dolls. </font><font style=\"background-color: #E1F8DC;\">Ms. Kerrigan, also an influencer, was dressed by her stylist in “head-to-toe Zara” — a Kelly green skirt suit with feather cuffs. “I am the green M&M,” she said of her outfit. Like the previous iteration of the green M&M character, Ms. Kerrigan’s personal brand can be ribald. </font><font style=\"background-color: #E1F8DC;\">The last time she and Mr. Hill came to American Girl Place, she made a TikTok video in which she got her Samantha doll checked for S.T.I.s at the store’s doll hospital. </font><font style=\"background-color: #FEF8DD;\">The two were far from the first adults to show up — with dolls — to hang out there. </font><font style=\"background-color: #E1F8DC;\">“Come with me to get absolutely obliterated at the American Girl Doll Cafe,” begins a TikTok video titled “American Girls grow into American Women,” uploaded by the comedian Sally Darr Griffin. </font><font style=\"background-color: #E1F8DC;\">In the video, Ms. Griffin, 25, shouts out the labels she’s wearing — “Dress is Hill House, sunglasses are Coach” — then takes the first sip of what will be four mimosas, supplemented with a tiny nip of vodka that she smuggled into the American Girl Cafe at the Grove shopping mall in Los Angeles. </font><font style=\"background-color: #E1F8DC;\">Ms. Griffin was joined by four other women in their 20s, each accompanied by a doll seated in a chair attached to the table. </font><font style=\"background-color: #E1F8DC;\">“I was not obliterated,” Ms. Griffin clarified in a Zoom interview. “It’s just better to say that for the clicks.” </font><font style=\"background-color: #E1F8DC;\">The clicks came. Ms. Griffin’s video amassed more than 600,000 views on TikTok, and a micro-trend of grown folks dining and drinking with dolls was born. </font><font style=\"background-color: #E1F8DC;\">It’s not a wholly novel concept for adults to return to kid-centric locations for a dose of nostalgia and irony. Goths descended on Disneyland for an annual trip called “Bats Day in the Fun Park” for decades. Liana Aghajanian, a journalist in Detroit, wrote that she celebrated her birthdays at Chuck E. Cheese locations even in adulthood as a homage to happy childhood memories as a first-generation American. </font><font style=\"background-color: #E1F8DC;\">Of the dozen American Girl Place locations, five feature full-service restaurants that serve items like cinnamon buns, macaroni and cheese, and smoothies, along with an extensive dessert menu. The original Chicago location, which opened in 1998, secured a full liquor license so it could host galas and benefits. New York is the only other location that serves liquor, but beer and wine are served at all of the cafes. </font><font style=\"background-color: #E1F8DC;\">A representative for the company said that it doesn’t condone its dolls engaging in age-inappropriate behavior such as drinking alcohol, but the company welcomes American Girl fans of all ages. </font><font style=\"background-color: #E1F8DC;\">Jamie Cygielman, the president of American Girl, wrote in a statement, “We know our devoted fans never forget the beloved American Girl characters and stories they grew up with, and we’re thrilled to have them reconnect and reminisce with us as adults.” </font><font style=\"background-color: #E1F8DC;\">The New York cafe, where Ms. Kerrigan and Mr. Hill recorded their social media content, features cutesy touches like tiny bows tied to each cloth napkin. The banquettes are berry colored, and the photo-ready walls feature bright patterns set against crisp whites. </font><font style=\"background-color: #E1F8DC;\">Even the cafe’s soundtrack, which mixes 1980s pop staples with campy original songs written about the American Girl characters, seems tuned to the whims of Gen Zers and millennials looking for immersive settings for their social media feeds. </font><font style=\"background-color: #E1F8DC;\">American Girl Place retail stores in the United States sell a wide variety of toys and accessories centered on upscale dolls, whose prices start at around $100. Each doll has a back story that locates her in a specific era of American history. </font><font style=\"background-color: #E1F8DC;\">The first dolls, released in 1986, were Molly, a bookish girl from the 1940s; Kirsten, a pioneer from Sweden; and Samantha, an orphan adopted into a posh New York family during the Edwardian era. Each doll stars in historical novellas, which are sold separately. </font><font style=\"background-color: #E1F8DC;\">Some American Girl fans identify with one doll’s personality, referring to themselves as “an Addy” or “a Felicity.” </font><font style=\"background-color: #E1F8DC;\">When a staff member overheard me bemoaning the fact that Molly never gets her due among American Girl fans, she brought me a Molly doll and clipped her chair to the rim of my table. </font><font style=\"background-color: #E1F8DC;\">Since 1986, many more characters have been added to the American Girl roster, expanding the eras and ethnicities represented by the dolls. American Girl also sells custom dolls, and introduced Logan, its first American Boy, in 2017. </font><font style=\"background-color: #E1F8DC;\">For some adults, the American Girl Place retail locations loomed large in their childhood psyches. Ms. Kerrigan, who appeared in a New York Daily News story about American Girl Place’s opening, has been a fan of the brand since she was 4. </font><font style=\"background-color: #E1F8DC;\">“It’s literally my dream come true,” Ms. Kerrigan said, of returning to the store as an adult. </font><font style=\"background-color: #E1F8DC;\">Her dining companion was similarly effusive. “It’s Disneyland for literary girls and gays,” said Mr. Hill in a Zoom interview. </font><font style=\"background-color: #E1F8DC;\">The company has taken notice of Mr. Hill’s enthusiasm. At an event for the luggage company Stoney Clover Lane in October, Ms. Cygielman recognized Mr. Hill and introduced herself. The company also hosted him as its guest at the Manhattan cafe a few weeks ago. </font><font style=\"background-color: #E1F8DC;\">On this occasion, the two influencers posed for selfies, recorded content and mugged for their phones as servers brought several courses that included cinnamon buns, crudités, buttered noodles and chicken fingers. </font><font style=\"background-color: #E1F8DC;\">The vast cafe was mostly empty apart from five other parties, each made up of children and their chaperones. Mr. Hill and Ms. Kerrigan took their seats, got their dolls situated and toasted rose martinis served in glasses rimmed with pink sugar. </font><font style=\"background-color: #E1F8DC;\">For some, 11:30 is early for a drink, but Mr. Hill had already spent the morning mixing water with cranberry juice to simulate cocktails for a sponsored Instagram post. This time the vodka was real. </font><font style=\"background-color: #E1F8DC;\">Dessert was particularly well suited for Instagram, with a rainbow layer cake modeled from an American Girl toy set, a cup of chocolate mousse meant to look like a potted daisy, and heart-shaped sugar cookies with an accompanying D.I.Y. frosting kit, all served by a remarkably attentive and gracious staff. </font><font style=\"background-color: #E1F8DC;\">The store comped their meal, as they sometimes do for influencers, but Ms. Kerrigan insisted on running her credit card so she could tip their server. As she and Mr. Hill began to pack up their dolls, a party of six adults and no children was seated nearby. </font><font style=\"background-color: #E1F8DC;\">They were visiting from Austin, Texas, to celebrate Timothy Flitton’s 33rd birthday. They were inspired to have their birthday party at the American Girl Cafe after seeing Ms. Griffin’s TikTok video. Like Ms. Griffin, they ordered mimosas. </font><font style=\"background-color: #E1F8DC;\">“We’re living our millennial fantasy,” said Mx. Flitton, who sported aquamarine hair and a rainbow sweater. Kaylan Howard, a friend, agreed. </font><font style=\"background-color: #E1F8DC;\">“They were too expensive when I was a child,” Ms. Howard, 32, said of the dolls. “And now we can afford it, should we want it.” She didn’t want it, but said she appreciated the gratis loaners they were each given for the meal. </font><font style=\"background-color: #ACDDDE;\">A server emerged from the kitchen carrying a birthday cake shaped like a giant petit four. Mx. Flitton and the rest of the party erupted in applause. </font><font style=\"background-color: #E1F8DC;\">The cheers died down as the waiter walked past the table. The cake was for someone seated behind them who was celebrating her ninth birthday. </font><br/><br/><hr><br/><h2>Text</h2><br><font style=\"background-color: #E1F8DC;\">LONDON — In a royal family where scandal seems to rotate among its members with nearly metronomic regularity, one might have predicted that Tuesday’s news that Prince Andrew had settled a sexual abuse lawsuit against him would soon be followed by a fresh, troubling disclosure about another royal. </font><font style=\"background-color: #E1F8DC;\">Sure enough, not 24 hours later, London’s Metropolitan Police announced an investigation into allegations that a charity led by Prince Charles offered to help with a knighthood and British citizenship for a wealthy Saudi in return for a donation. A spokesman for Charles insisted that he had no knowledge of any deal. </font><font style=\"background-color: #E1F8DC;\">For Queen Elizabeth II, it was a fraught start to a year that is supposed to celebrate her seven decades on the throne. And yet for all the questions surrounding the Prince’s Foundation — which have already led to the resignation of its chief executive — the downfall of Prince Andrew is likely to leave a more lasting stain on the House of Windsor. </font><font style=\"background-color: #E1F8DC;\">While Andrew, the queen’s second son, did not admit guilt in the settlement, he was forced to commend Virginia Giuffre, who accused him of raping her when she was a teenager, for her bravery in coming forward. He also agreed to pay her a sum that London newspapers reported to be more than $13 million. </font><font style=\"background-color: #E1F8DC;\">“We are in new waters,” said Ed Owens, a historian who has written about the relationship between the media and the monarchy. “This kind of case has never been brought against a member of the royal family. That’s why we’re witnessing the family having so much trouble moving on from this.” </font><font style=\"background-color: #E1F8DC;\">The prospect of days of unsavory testimony from Ms. Giuffre about her experiences with Andrew was evidently so sobering that it persuaded the prince and the royal family to put an end to the case, at very high cost in money and reputation, even after Andrew, 61, had vowed he would fight to clear his name. </font><font style=\"background-color: #FFE7C7;\">For all the differences, the troubles of Andrew and Charles both raise murky questions about money and how it moves in the opaque world of royalty. Who will pay Andrew’s settlement remains a mystery: analysts who track the family’s wealth say it is unlikely that he could pay it without help from the queen or others. </font><font style=\"background-color: #E1F8DC;\">In the case of Charles, the question is whether his onetime closest adviser, Michael Fawcett, offered a Saudi billionaire, Mahfouz bin Mahfouz, help with his application for British citizenship, as well as a knighthood, while he was also soliciting him for a donation of 10 million pounds ($13.5 million). Mr. Mahfouz has denied any wrongdoing. </font><font style=\"background-color: #E1F8DC;\">“It’s bringing to light the secrecy and silence that exists over the royal finances,” Mr. Owens said. “The fact that there is this lack of transparency is going to become increasingly difficult in this social media-driven world. People are more sensitive to the obfuscation.” </font><font style=\"background-color: #E1F8DC;\">The Sunday Times and the Mail on Sunday reported the allegations about a “cash-for-honors” deal at the Prince’s Foundation last year, the charity commissioned an independent investigation, and Mr. Fawcett resigned as its chief executive.  </font><font style=\"background-color: #E1F8DC;\">The police said on Wednesday that they had enough evidence to open a formal investigation of whether the foundation violated a 1925 law that prohibits the sale of peerages or other royal honors. It is using the same unit that is investigating whether social gatherings at Downing Street violated coronavirus lockdown restrictions. </font><font style=\"background-color: #E1F8DC;\">If Scotland Yard uncovers evidence that Charles knew about a potential quid-pro-quo, royal experts said, that would pose a grave risk to the 73-year-old heir to the throne. Even without the involvement of Charles, it could cast a harsh spotlight on the aggressive methods of the prince’s lieutenants. </font><font style=\"background-color: #E1F8DC;\">For the 95-year-old queen, the threat to Charles is, in some ways, an even bigger headache than Andrew’s disgrace. With her own recent health problems and her Platinum Jubilee celebrations looming, she has been moving to put the family’s affairs in order. She declared recently, for example, that when Charles ascends to the throne, his wife, Camilla, should be known as queen. </font><font style=\"background-color: #D6CDEA;\">But this week has served as a reminder of her fragility. On Wednesday, when two visitors to Windsor Castle asked her how she was, the queen, smiling and clutching a walking stick, gestured to her legs, and said, “Well, as you see, I can’t move.” </font><font style=\"background-color: #ACDDDE;\">“The clock is ticking,” said Peter Hunt, a former royal correspondent for the BBC. “They’re desperately trying to clear the path for Charles. Now, on that path is suddenly strewn Michael Fawcett.” </font><font style=\"background-color: #E1F8DC;\">Cash-for-honors scandals are a familiar, if unseemly, fixture in British politics. Both the Conservative and Labour parties have been ensnared in them. The allegations against Andrew, by contrast, are of a wholly different nature — amplified by the #MeToo movement and darkened by the prince’s association with the financier and convicted sex offender, Jeffrey Epstein. </font><font style=\"background-color: #E1F8DC;\">Having failed to persuade a judge to dismiss the case, Andrew faced the prospect of being interviewed under oath by Ms. Giuffre’s lawyers. In her suit, she claimed that the prince had abused her, including subjecting her to “involuntary sexual intercourse,” at Mr. Epstein’s houses in New York and in the Caribbean. </font><font style=\"background-color: #E1F8DC;\">“The imperative for Andrew was to settle before the deposition was taken in late March,” said Daniel Taylor, a lawyer in London who has represented clients in privacy cases against the tabloids for phone hacking. </font><font style=\"background-color: #E1F8DC;\">The fact that Andrew settled the case seems to have added to the sense of public scorn, even though out-of-court settlements are as common in Britain as they are in the United States. The headlines in London’s tabloids summed up the prevailing disgust. </font><font style=\"background-color: #E1F8DC;\">“His Final Disgrace,” thundered the Sun. “Andrew cuts sex case deal … But there’s no way back,” said the Daily Express. “Royal wrong’un pays out to sex victim he’s never met. As you do,” said the Daily Star, referring to Andrew’s assertion, in a misbegotten 2019 interview with the BBC, that he had “no recollection” of ever meeting Ms. Giuffre. </font><font style=\"background-color: #E1F8DC;\">The Star ran the headline over a now-familiar photo taken in a London townhouse, which appeared to show Andrew with his arm around the girl’s bare waist, as Mr. Epstein’s former girlfriend, Ghislaine Maxwell, smiled in the background. </font><font style=\"background-color: #E1F8DC;\">Buckingham Palace has banished Andrew to internal exile, stripping him of his honorary military titles and his official duties, and warned there would be no rehabilitation. But it left unclear whether the queen, who earns more than $30 million a year from vast private real estate holdings, would help pay the settlement. </font><font style=\"background-color: #E1F8DC;\">“The short answer is, he doesn’t have enough,” said David McClure, the author of “Royal Legacy,” a book on the monarchy’s finances. “The queen does have enough. And paying 10 million pounds is a relatively small amount compared to the reputational damage that could be done to the family with a court case.” </font><br/><br/><hr><br/><h2>Text</h2><br><font style=\"background-color: #ACDDDE;\">This article is part of the On Tech newsletter. Here is a collection of past columns. </font><font style=\"background-color: #FEF8DD;\">If the tech predictions pan out, we’ll soon be wearing computers on our faces and plugging into immersive realms of virtual people and places, perhaps blended with the real world around us. </font><font style=\"background-color: #CAF1DE;\">(I don’t want to use the buzzword “metaverse” here, because ugh. This term from science fiction has been applied to anything and everything that we should just call the internet. But that’s partly what I’m talking about.) </font><font style=\"background-color: #E1F8DC;\">I am both apprehensive and excited about the potential next generation of technologies that may further blur the lines between computers and us, and between online and real life. I can get into the idea of glasses that let me scroll restaurant menu items and feel as if the sizzling burger is in front of me, or into headgear that lets me exercise next to a virtual lake in Patagonia. </font><font style=\"background-color: #FFE7C7;\">No one can predict how long it might take this imagined future of the internet to come true and go mainstream, if it ever does. But if computers on our faces and more lifelike digital realities are coming for us, let’s start thinking through the implications now. </font><font style=\"background-color: #FFE7C7;\">I don’t have a fleshed out good humans’ guidebook for the metaverse. (Ugh, that word again.) But I know that instead of letting Mark Zuckerberg or the Apple chief executive Tim Cook decide on the etiquette, ethics, norms, rewards and risks of our potential brave new world of technology, we need to do it. </font><font style=\"background-color: #E1F8DC;\">How we use technology shouldn’t be left to the companies that dream up electronics and software. It should be up to us, individually and collectively. That can happen by deliberate thought and careful design, or by the lack of it. </font><font style=\"background-color: #FEF8DD;\">I’m writing this now because Apple reportedly plans to introduce its first computers for the face in the next year or so.  </font><font style=\"background-color: #E1F8DC;\">Apple appears to imagine that its face computers — similar to Microsoft’s HoloLens, Snap’s experimental Spectacles or the failed Google Glass — will blend virtual images with the world around us, sometimes called “augmented reality.” Imagine watching a fix-it video of a car engine while a guide overlays diagrams on the fan belt that you’re trying to repair.  </font><font style=\"background-color: #ACDDDE;\">Apple has a reputation for making up-and-coming technology go mass market. We’ll see, but it’s clear that there will be a lot of activity and attention on face computers and immersive technologies in all forms. (Counterpoint: Some tech experts have predicted the rise of face computers for most of the past decade.) </font><font style=\"background-color: #FEF8DD;\">What I want all of us to do — whether we don’t get the fuss over virtual reality or love it — is to begin deliberating over where we want to focus the promise of this technology and limit the risks. </font><font style=\"background-color: #FEF8DD;\">I’m mindful of what has gone wrong when we allowed technology to wash over us and tried to figure out the details later. </font><font style=\"background-color: #E1F8DC;\">Partly through an unwillingness or inability to imagine what could go wrong with technology, we have websites and apps that track us everywhere we go, and that sell the information to the highest bidders. We have carmakers that sometimes protect us with clever tech that helps offset human frailties, and other times seem to exacerbate them. We have the best aspects of human interactions online, and the worst. </font><font style=\"background-color: #FEF8DD;\">We should think about this stuff now, before we might all be wearing supercomputers on our faces.  </font><font style=\"background-color: #ACDDDE;\">What do we want from this technology? Can we imagine schools, offices or comedy clubs in virtual reality? What do we want from the next generation of immersive internet for our kids? Do we want to drive while our headgear flings tweets into our fields of vision? Do we even want to erase the gap between digital life and real life? </font><font style=\"background-color: #E1F8DC;\">It might be misguided to establish norms and laws around technologies that might take many years to become big. But tech companies and technologists aren’t waiting. They’re molding their imagined future of the internet now. If we don’t engage, that puts the companies in the driver’s seat. And we’ve seen the downside of that.  </font><font style=\"background-color: #E1F8DC;\">With the holiday season upon us, we want to hear from our readers about the new ways that you’re using technology (apps, social media, websites, gadgets or more) to help you plan your travel, parties, shopping or family time. Tell us about an app or site you use during the holidays and what makes it helpful, or the tech you stopped using and why. We may publish a selection of the responses in an upcoming newsletter. Email ontech@nytimes.com. </font><font style=\"background-color: #E1F8DC;\">Tracking the Chinese propaganda and censorship machine: After the Chinese tennis star Peng Shuai accused a former high-ranking government official of sexual assault, she vanished from public life. My colleagues and ProPublica analyzed how Chinese state media, amplified by a network of fake social media accounts, circulated messages that Shuai was safe and free.  </font><font style=\"background-color: #E1F8DC;\">Reading this will make you hungry: One man has made it his mission to have Mexico City’s street food vendors listed in Google Maps, Rest of World reported. </font><font style=\"background-color: #E1F8DC;\">A gazillion speedy delivery apps. With similar fonts: A brand expert writes for Bloomberg Opinion about the similar italics, avocado photos and “bed-headed, bucket-hatted ‘cheat day’ mood of indulgence” used by start-ups like Gopuff, Getir, Fridge No More and Jokr that deliver convenience and grocery items in 15 minutes or less. (A subscription may be required.) </font><font style=\"background-color: #E1F8DC;\">“Behold the fearsome Tyrannosaurus rex — all swaddled in a cozy Christmas sweater.” </font><font style=\"background-color: #E1F8DC;\">We want to hear from you. Tell us what you think of this newsletter and what else you’d like us to explore. You can reach us at ontech@nytimes.com. </font><font style=\"background-color: #FFE7C7;\">If you don’t already get this newsletter in your inbox, please sign up here. You can also read past On Tech columns. </font><br/><br/><hr><br/><h2>Text</h2><br><font style=\"background-color: #E1F8DC;\">For a few weeks in February if the conditions are just right, for about 10 minutes around sunset, one waterfall in Yosemite National Park looks more like its opposite — a firefall. </font><font style=\"background-color: #FEF8DD;\">Visitors who flocked to the California park last week, many with cameras in tow, have not been disappointed by the glowing transformation of Horsetail Fall, which flows from El Capitan. </font><font style=\"background-color: #E1F8DC;\">“In the over 20 years I have been photographing the firefall and leading workshops there in Yosemite, I have never seen a more spectacular one,” said Michael Mariant, a photographer from Morro Bay, Calif., who leads teaching trips to Yosemite. </font><font style=\"background-color: #E1F8DC;\">The phenomenon occurs if there has been enough snow and rain in the Sierra Mountains to fuel the waterfall, if the skies are clear and if the setting sun strikes the water at an angle that creates the illusion of lava. </font><font style=\"background-color: #E1F8DC;\">Mike Gauthier, the park’s chief of staff, said that he was not sure if it was definitely the best firefall ever. But it certainly trumps the firefall the last few years, when drought turned Horsetail Fall mostly dry. </font><font style=\"background-color: #FEF8DD;\">This cascade of glowing water is a natural alternative to another, discontinued Yosemite firefall tradition. </font><font style=\"background-color: #E1F8DC;\">In the 1870s, the owners of a hotel in the park started dumping embers from a cooling fire off a cliff. From Curry Village, a camping and lodging area below, this happened to look like a flowing fire, and spectators would gather to marvel at the sight. Mr. Gauthier said that it ended in 1968 because of changes in the way officials thought about national parks — as sites for enjoying the natural world, not places for artificial spectacle. </font><font style=\"background-color: #E1F8DC;\">The current Horsetail Fall phenomenon, traditionally viewed from points east of El Capitan, is expected to last at least for a few more days, according to Mr. Gauthier, when the sun still sets at the golden angle. </font><br/><br/><hr><br/><h2>Text</h2><br><font style=\"background-color: #E1F8DC;\">Moments after the Australian government announced that it would reopen the country’s borders to international travelers later this month, Emily Barrett locked in a fare for a flight to Sydney. The 32-year-old nanny from Palo Alto, Calif., spent three days researching and talking to Australian friends before she decided to book her trip to the island continent, which for two years had some of the world’s strictest border controls and longest lockdowns aimed at controlling the spread of the coronavirus. </font><font style=\"background-color: #E1F8DC;\">“They all said, ‘if we go back into a lockdown now, people will go into the streets,’” she said. Her two-week trip is scheduled to start a few days after the border opens on Feb. 21. </font><font style=\"background-color: #E1F8DC;\">Potential travelers and tourism operators alike are cautiously optimistic about the reopening of “Fortress Australia,” but many wonder if the isolated nation’s ongoing Covid restrictions — such as vaccine and testing requirements, as well as mask mandates — will make the return of international travel more of a trickle than a splash. Australia’s reputation for rigidity and reclusiveness during the pandemic — at odds with the inviting, easygoing nature portrayed by the country’s tourism boards — may also be a hurdle to overcome. </font><font style=\"background-color: #E1F8DC;\">“There is no doubt that a full recovery will take time, but we are confident that the demand for Australia is strong,” said Phillipa Harrison, the managing director of Tourism Australia, the country’s tourism board. </font><font style=\"background-color: #E1F8DC;\">Tourism was one of the fastest growing sectors in Australia’s economy before the pandemic, contributing 45 billion Australian dollars in 2019, or $32 billion. </font><font style=\"background-color: #E1F8DC;\">Australia is among the world’s most immunized countries for Covid-19, with 94 percent of people over 16 fully vaccinated. Through 2020 and 2021, the country pursued a tough “zero Covid” strategy that closed national and state borders; restricted Australians from returning home and even leaving; enforced monthslong lockdowns and required its few visitors to undergo expensive hotel quarantines. Surging cases of the Omicron variant of the coronavirus in January, which persist, but have since declined, tipped most of the country into a new ‘living with the virus’ phase. </font><font style=\"background-color: #E1F8DC;\">“It’s about coming back so the virus is under our control, whereas we felt that the virus was controlling us,” said Catherine Bennett, an epidemiologist at Deakin University in Melbourne, adding that opening the borders represented a turning point. “This is saying: We’re ready for this.” </font><font style=\"background-color: #E1F8DC;\">Australia’s grand reopening comes with a few ground rules. Travelers entering the country must be fully vaccinated to avoid a costly two-week hotel quarantine, and must test before arrival — somewhat common requirements for travel now. </font><font style=\"background-color: #E1F8DC;\">But it will take a little more time for Australia’s welcome mat to roll out all the way. The entire state of Western Australia — a third of Australia’s vast land mass, but home to just 10 percent of the population — has essentially been closed to both international travelers and even vaccinated Australian citizens for most of the pandemic. It plans to reopen to vaccinated travelers on March 3, with testing rules on arrival. The state, which has reported about 2,900 total cases and 10 deaths since the pandemic began, is home to Perth — one of the world’s most remote major cities — more than 7,000 miles of coastline, the Kimberley region’s dramatic sandstone gorges and wine destinations like Margaret River. While the federal government can open the nation’s borders, the states can still set their own Covid restrictions, including entry rules.  </font><font style=\"background-color: #E1F8DC;\">“We desperately want people to come back,” said Graeme Skeggs, a general manager at Adam’s Pinnacle Tours, one of Western Australia’s larger tour companies, which, until the pandemic, operated luxury tours of the state’s renowned coastlines and landscapes. Much of their business evaporated after Covid struck, and some smaller operators the company worked with have closed. “Two years is a lot longer than any of us thought,” Mr. Skeggs said. </font><font style=\"background-color: #FEF8DD;\">While many operators who rely on foreign tourists are hopeful, it’s clear that there is no simple return to prepandemic times. </font><font style=\"background-color: #E1F8DC;\">China overtook New Zealand as Australia’s largest foreign tourist market for the first time in 2017, and 1.3 million visitors from mainland China spent more than $12 billion Australian dollars, or nearly $9 billion, in 2019, about 27 percent of the year’s international visitor spend. </font><font style=\"background-color: #FEF8DD;\">With China still severely limiting outbound travel, that leaves a gaping hole in Australia’s tourism economy. </font><font style=\"background-color: #E1F8DC;\">Michelle Chen opened the Apollo Surfcoast Chinese Restaurant in 2012 along Victoria’s Great Ocean Road — one of the state’s major scenic attractions, about a 2.5-hour drive from Melbourne — to cater to the hundreds of Chinese day-trippers who would stream off buses each day on their way to view the Twelve Apostles, a limestone rock formation farther down the coast. </font><font style=\"background-color: #E1F8DC;\">When Australia closed to Chinese travelers on Feb. 1, 2020, she lost “nearly a hundred percent” of her business. In another stroke of misfortune, the restaurant burned down in April of last year. She reopened in December a few doors down. But Ms. Chen is not expecting her core customers to return for a long time. </font><font style=\"background-color: #E1F8DC;\">She’s even revamped her menu, which used to feature dishes like Sichuan chile chicken that appealed to mainland Chinese visitors. Now the menu is “80 percent Australian-Chinese,” Ms. Chen said, with milder offerings like Mongolian beef. “I find I can’t sell the Chinese-Chinese dishes.” </font><font style=\"background-color: #FEF8DD;\">Another thing desperately she’s looking forward to with the return of international travel: more workers. “Everywhere is shortage of labor,” she said. </font><font style=\"background-color: #E1F8DC;\">In January, the Australian Open — one of the country’s biggest sporting events, which draws hundreds of millions of viewers annually — became a media circus when Novak Djokovic, the world’s number one men’s tennis player, who is not vaccinated, was detained and finally deported from Melbourne because of his risk for “civil unrest.” The drama, which stretched on for 10 days, triggered protests in Australia from groups who believed the battle was the latest example of Covid-related mandates trampling public freedoms. </font><font style=\"background-color: #FEF8DD;\">“Strong borders are fundamental to the Australian way of life,” the country’s prime minister, Scott Morrison, said after the decision to cancel the tennis star’s visa. </font><font style=\"background-color: #E1F8DC;\">Australia’s fixation with border security is highly contentious within the country, particularly its harsh treatment of asylum seekers, but ultimately plays well with voters. But how would Mr. Djokovic’s unceremonious booting fit into Australia’s new “come on in” narrative? </font><font style=\"background-color: #E1F8DC;\">“From our view, it really highlights the strength of Australia’s border policies,” said Chris Allison, Tourism Australia’s acting manager of the Americas. While Mr. Djokovic’s treatment was divisive, he said, it showed that “Australia has zero tolerance in terms of requiring vaccinations to come into the country,” and affirms the message of “how we’re trying to reopen our borders safely and protect the health of the nation.” </font><font style=\"background-color: #D6CDEA;\">But time — and bookings — will tell if long-haul travelers are willing to bet on Australia’s reopening. </font><font style=\"background-color: #E1F8DC;\">Some prefer to wait and see. Australia was where “everyone wanted to go” before the pandemic, said Samantha Carranza, a manager at Sky Tours, a travel agency in downtown Los Angeles. But “there isn’t much demand right now,” she said, adding that Australia’s protectiveness has made her clients cautious to travel there. “No one’s sure if it’s really open or not. Will it close again, will they get stuck there?” </font><font style=\"background-color: #E1F8DC;\">The data shows that interest in travel to Australia is already on the rise: Flight bookings were up 200 percent following the border-opening announcement compared to the week before, according to Forward Keys, a travel analytics company. </font><font style=\"background-color: #E1F8DC;\">“While the immediate jump in bookings is encouraging, the overall booking volume compared to the equivalent week in 2019 is modest,” said Olivier Ponti, the firm’s vice president of insights. </font><font style=\"background-color: #E1F8DC;\">“I imagine there will be more and more confidence over the course of the year,” said Christie Hudson, a senior public relations manager at Expedia, the major online travel agency. “People are really ready to start thinking about these bucket-list trips again. I think for a lot of Americans, Australia is a bucket-list-type trip.” </font><font style=\"background-color: #E1F8DC;\">Cultural experiences led by Australia’s diverse Indigenous groups will be a focus of marketing to overseas travelers, according to Tourism Australia. But in the Northern Territory, the region with the highest proportion of Indigenous people, many remote communities are barred to outsiders until at least March 3 in an effort to protect the residents there from infection. </font><font style=\"background-color: #E1F8DC;\">International visitors are key for the region’s Indigenous tourism sector: Before the pandemic, nearly 70 percent of overseas visitors to the Northern Territory engaged in Aboriginal tourism activities, compared to 16 percent of Australian tourists. </font><font style=\"background-color: #E1F8DC;\">Victor Cooper, who owns and operates Ayal Aboriginal Tours in Kakadu National Park, said he used to welcome visitors from Europe and the United States to his “grandmother’s country,” where he taught them about bush tucker (native foods) and told traditional stories of the land. </font><font style=\"background-color: #E1F8DC;\">“I had a really, really good thing in the overseas market, it took a long time to get that,” Mr. Cooper said. He has not had any overseas bookings since the reopening announcement, and worries things may be “complicated” for a while yet. “I don’t think I’m going to get the clients I used to have back in 2019.” </font><font style=\"background-color: #FEF8DD;\">Other tourism operators are already seeing signs of recovery, which gives them hope for a better year ahead. </font><font style=\"background-color: #E1F8DC;\">“It’s good to see people again,” said Dave Gordon, an employee at Wake Up Bondi, a hostel on Sydney’s famous beach, of the limited number of travelers who have been filtering back in recent months. “It’s exciting.” </font><font style=\"background-color: #FEF8DD;\">Since the news of the border reopening, booking numbers for later in the year have risen, he said. </font><font style=\"background-color: #E1F8DC;\">The first year of the pandemic was “quite a struggle,” he said. To survive, the hostel, which is on Bondi Beach’s main thoroughfare, slashed its rates and accepted longer-term lodgers, and even closed for a period. </font><font style=\"background-color: #D6CDEA;\">But the border opening removes a major hurdle for him and other operators across the country, who want to convey a clear message for would-be tourists thinking of Australia: “Come!” he said. “This is the time to travel.” </font><font style=\"background-color: #E1F8DC;\">Follow New York Times Travel on Instagram, Twitter and Facebook. And sign up for our weekly Travel Dispatch newsletter to receive expert tips on traveling smarter and inspiration for your next vacation. Dreaming up a future getaway or just armchair traveling? Check out our 52 Places for a Changed World for 2022. </font><br/><br/><hr><br/><h2>Text</h2><br><font style=\"background-color: #E1F8DC;\">Planning around naps, shelling out for nannies or yelling into the void — parents working from home all have ways of coping with the daily mayhem. For these intimate portraits — of anxiety, frustration and also unbridled joy — we visited the New York homes of working parents and photographed them during real video meetings at their jobs, occasionally donning noise-canceling headphones to preserve their offices’ privacy. All photos capture the natural reactions of both parent and child over the course of the meetings. (No babies were made to cry.) </font><font style=\"background-color: #E1F8DC;\">For Sheena Demby, remote work as a new parent felt utterly paralyzing at the start. “The first time I had Noah Olivia in a meeting, I didn’t know what to do,” says Demby, who works as a creative-operations program manager at Cash App. “Out of desperation, I tried so hard to keep her out of the camera and to keep her quiet so that I could still present myself as, like, competent and doing great work. But the reality was, I could not keep this little baby from crying. I could not keep her from interrupting meetings. As a first-time mom and Black woman in corporate America — where I already felt I had to show above-average results just to be visible — I really struggled.” Noah Olivia is now almost 2, and Demby has brought a bit more of her personal life into the Zoom window. She keeps a rolling cart of diapers, wipes and work materials by her side so she can work alongside her daughter in any room of their Harlem apartment. Remote work is now Demby’s long-term plan: “I have zero intentions of ever going back into an office,” she says.  </font><font style=\"background-color: #E1F8DC;\">To keep their adventurous 16-month-old twin girls, Clara and Tessa, from getting into too much trouble during work calls, Eric Sadkin and his husband, Klaus Koenigshausen, have recently become master maze designers. The pair, who work in real estate and private investment, are in the process of moving to a new apartment, so they have a bunch of cardboard boxes lying around — which they pile onto the floors into child-stymieing labyrinths when they anticipate lengthy meetings. “You can’t just run after them, because you’re in the middle of a Zoom call, so everything has to be baby-proofed to the max,” Koenigshausen says. “They are old enough to climb over the sofa and get into all kinds of trouble. So every day our sofa is a land of cushions, and our living room turns into a kids’ playground.” As a result, their entire one-bedroom Manhattan apartment, Sadkin says, “just looks littered, like an Amazon warehouse, with boxes to stop the kids going into random places and keep them in their play area. But we have peace of mind — because they can’t move.” </font><font style=\"background-color: #E1F8DC;\">Born near the start of the pandemic, 18-month-old Aslan is Kat Dinar’s third child — and he’s the one who compelled Dinar to switch from a pressurized front-office role to a calmer one in the back office of her finance company. Her new job, on a team that some refer to as the “mommy track,” affords her much more time at home with her husband and two older children in their Astoria, Queens, apartment. But still, Dinar wishes the choice hadn’t felt so necessary. “I’m a working mom,” Dinar says. “I’m not a stay-at-home mom — I never was, and I’ll never be. I need achievements at work, and I enjoy my kids; I love children. I don’t want to make these choices. I want to have it all.” Dinar yearns to see more support programs for working mothers and thinks terms like “work-life balance” oversimplify the realities of working parents. She adds that “women who have kids are indeed some of the best workers: You are the manager of your household. You delegate, give instructions, prioritize. You do everything. You are a manager and a leader and a woman.” </font><font style=\"background-color: #E1F8DC;\">Jerome Nathaniel was “prepared for chaos” when he and his wife became pandemic parents. “I love my job,” Nathaniel, who works at the nonprofit City Harvest, says. “We fight hunger, and hunger doesn’t just end, so your day never ends. I was just always working — you justify not having a personal life.” Thankfully his son, Mack, currently 3 months old, is “abnormally relaxed and cool and chill,” Nathaniel says. When it’s Nathaniel’s turn to care for him, Mack spends the bulk of his time napping in his father’s cradled arms while he takes video calls for grad school and work. Mack doesn’t care for screens — “and hopefully he never will, because we’re going to be a no-TV household,” says his father — but even with a relatively easygoing baby, Nathaniel has found himself having to reconfigure his attitude toward work. “If I work past 5 p.m. now, I know that’s not fair to my wife and my son and my family,” Nathaniel says. “If I were [working] in person, I couldn’t teach my kid how to smile on my lunch break.” </font><font style=\"background-color: #E1F8DC;\">Rachel Shapiro’s workday is a coil of meeting after meeting. As the senior vice president of marketing strategy at Complex, a digital entertainment company, she regularly shepherds calls across multiple departments — often over the sounds of her 2-year-old daughter, Waverly, or 6-month-old son, Sasha, throwing a spirited tantrum or having a meltdown under her desk. “I don’t know motherhood without the pandemic, and I haven’t quite known a meeting that hasn’t been infringed upon by one of my two children,” says Shapiro, who has become a pro at the text-chat function on Zoom and has also led many a work discussion — with the camera off — while breastfeeding, quelling cries or grappling with “back-to-back blowout diapers.” A saving grace for Shapiro has been her colleagues’ enthusiasm for Sasha or Waverly’s cameos in their meetings — and their patience for when things go awry. Once, “I was trying to lead a meeting on my AirPods while changing two diapers, literally covered in shit, and just thinking, Well, the show must go on!” she says, and sighs. </font><font style=\"background-color: #E1F8DC;\">Even though Anna Li Sian’s daughter, Inez, is no longer a newborn with round-the-clock demands, things have felt harder than ever recently. “There’s sort of a triple isolation that’s happened with the pandemic: We’re socially distancing, and it’s cold, and we’re new parents in New York who have to be especially cautious with this unvaccinated person in our care,” says Sian, who works in podcast marketing and takes Zoom calls all day long from the Cobble Hill apartment she shares with her husband, Robby Abaya, a software engineer also working from home. The couple say that they could not have continued in their full-time jobs without child-care help — they employ a nanny, and luckily Anna’s mother is able to come over “in a pinch” — but that they’re still exhausted by the matrix of choices they have to contend with, outside work. Inez just turned 1; the pair would love to expose her to wider social circles but have deliberated for weeks about whether the thrill of an in-person birthday party outweighs the chance of a Covid scare. “We are always recalibrating our risk tolerance,” Abaya says. </font><font style=\"background-color: #E1F8DC;\">Each morning, Oliver Abel wakes up and strategizes his day around the natural rhythms of his 1-year-old son, Oliver (or Ollie). Abel, a private wealth adviser who works mostly from his home in Bronxville, N.Y., prefers to shuffle his most important meetings around his son’s nap times. But even though he and his wife, who also works from home, map out their joint calendars meticulously in the mornings, the pair have learned to keep a number of go-to distractions on hand for when they are drawn into last-minute meetings. “It’s whatever I can do to keep him entertained while I have the meeting going on,” Abel — who, while working from home, has been able to witness major moments in Ollie’s life, like his first laugh and first attempts at crawling — says. And his son is pretty curious, it turns out. “Chewing on a calculator. Playing with my phone. Ripping up paper! He loves things that are new — so if you show him one of these items, he usually gets pretty distracted for 10 minutes or so.” Three shiny objects per 30-minute meeting usually do the trick. </font><font style=\"background-color: #E1F8DC;\">Irene Kelly has a nanny who comes during work hours to help out with her 9-month-old son, Henry, in her Forest Hills, Queens, apartment. But that doesn’t necessarily reduce any of her emotional load. “There’s never a break, even if the nanny’s here, because I hear him crying literally a room away,” Kelly, who works as an account executive at an insurance company, says. “And if I come downstairs to have a meal or a call, he sees me, and it’s like, ‘I only want my mom!’ There’s just so much pressure to make the right decisions.” While Kelly works from a makeshift setup at her dining-room table, her husband is currently working full time in a physical office. “Being home 24 hours with a baby is a blessing. But I get jealous of my husband sometimes because he has, to me, the freedom to compartmentalize,” Kelly says. “He has co-workers he can see regularly in a way that feels normal, and I’m behind a screen all day with this baby attached to me, who wants just as much attention as my job does. And each day, I’m not able to fully give myself 100 percent to either role.” </font><font style=\"background-color: #E1F8DC;\">Rachel Lee has two sons in different developmental stages — 8-month-old Nathan and 5-year-old Logan — so working at home means designing distractions for various skill levels, grappling with disparate sleep schedules and trying to find quiet while tending to her boisterous family. Lee, an in-house lawyer for a financial technology and data company, says that while the prolonged work-from-home period has allowed her to catch many precious milestones with Nathan that she wasn’t able to with Logan, it has also mired her in productivity guilt: “I don’t know if other moms feel this, but I think there’s an internal pressure that, being physically at home, I should be cooking dinners for my family and ordering out less, or getting more stuff done around the house,” she says. Lee quit her previous job in the pandemic and found a new company with more flexibility; now she and her husband are also thinking of swapping their Upper West Side apartment for a home closer to family members they’ve sorely missed over the last few years. </font><font style=\"background-color: #E1F8DC;\">Daniela Ocana, a founder and the program director of a preschool in Maspeth, Queens, has found herself obsessing over how to keep her 8-month-old daughter, Riley, safe amid a pandemic. “You don’t want to keep your child in a bubble,” Ocana says. “But it is scary to go out there.” Ocana oversees Covid-19 safeguards at the preschool where she works — and thus, must also reassure scores of other anxious parents — so safety is always at the forefront of her mind. In times of immense stress, though, Riley’s presence helps ground her: “There’s been so many times I’ve stopped in the room and been, like, ‘You’re learning, I’m learning, we’ll get through this,’” Ocana says. “She has taught me that although motherhood is hard and working is hard, it’s possible to have patience and love. There’s times I finish video calls, like, sweating, but then I look at her, and she’s smiling or she’s just close to me, and it makes me realize that’s why I continue to do it.” </font><font style=\"background-color: #E1F8DC;\">Like many parents, David O’Brien, a lawyer and father to 5-month-old August, would prefer to be either working from an office or parenting from home — not both at once. “I think extending government-paid parental leave would be helpful for jobs that require focusing, or even just using both hands!” O’Brien says. Often, when August is on his father’s lap during a meeting, “I have to type notes contemporaneously, and I don’t want his head to get too close to the edge of the table, so I can only use one hand. Or there’s drool everywhere.” Intense multitasking was not the only change brought on by pandemic parenthood: When he and his wife, Alexandra, first had August, O’Brien was working in his dream job as a public defender, but the difficulty of raising a baby in a small Harlem apartment nudged him to look for other jobs in the field that could offer as much fulfillment but with higher pay. “I’m making decisions a little less for ideological reasons,” O’Brien says. “But I don’t know if that’s pandemic-related — it might just be being a parent.” </font><font style=\"background-color: #E1F8DC;\">Two years ago, Alison Taffel Rabinowitz was teaching at universities around New York City. But after a “really, really tough pregnancy” and the birth of her daughter, Evelyn Rose, Taffel Rabinowitz was forced to step away. She decided to start her own business and now runs private career coaching for women out of her Lower East Side apartment, with Evelyn Rose, now 6 months old, at her side. Some of her clients are working mothers seeking counsel about how to re-enter the work force. Her best advice to them? Emphasize the tremendous wins that have come out of motherhood rather than trying to gloss over the time away from work. “I’m proud that I figured this out and can still do what I love, while being able to focus with a baby, in some kind of weird way,” says Taffel Rabinowitz, who was able to breastfeed her daughter on camera while helping her clients negotiate for pay raises and new jobs. But Rabinowitz adds: “I could never write a résumé for being a mom. It’s a job that keeps getting more bullet points underneath that never end.” </font><br/><br/><hr><br/><h2>Text</h2><br><font style=\"background-color: #E1F8DC;\">BOSTON — Ime Udoka has been emphasizing ball movement since the day the Celtics hired him as their coach. At his introductory news conference last June, Udoka apologized to Brad Stevens, his predecessor and the team’s newly appointed president of basketball operations, as a way of softening the blow before he pointed out that the Celtics had ranked near the bottom of the league in assists last season. </font><font style=\"background-color: #FEF8DD;\">“We want to have more team basketball,” Udoka said at the time. </font><font style=\"background-color: #E1F8DC;\">It was not instant fix for Udoka, whose team hobbled into the middle of January with a losing record. The ball was not moving. A bit of frustration was evident. But even during their struggles, Udoka sensed that his players were receptive to coaching, he said. So he reinforced his pass-first concepts in film sessions and by citing statistics that showed the offense was more potent when the ball zipped around the court. </font><font style=\"background-color: #E1F8DC;\">“It took some time,” Udoka said on Wednesday, “but I think they’re embracing being playmakers and helping everyone else score, and I think it’s pleasing to me and noticeable when we play that way.” </font><font style=\"background-color: #E1F8DC;\">Entering the N.B.A.’s All-Star break, the Celtics have resurfaced as one of the better teams in the league after winning 11 of their last 13 games, a run of solid play that has vaulted them up the standings, quieted a few of their critics and shown that Udoka’s sharing-is-caring formula can work in their favor. </font><font style=\"background-color: #E1F8DC;\">“The turnovers are down and the assists are up because we’re getting rid of the ball,” Udoka said. </font><font style=\"background-color: #E1F8DC;\">He made that observation a couple of hours before the Celtics (34-26) had their nine-game winning streak snapped on Wednesday night by the Detroit Pistons, one of the worst teams in the league. It was the second game of a back-to-back for the Celtics, who had routed the Philadelphia 76ers on Tuesday and were without two injured starters, Marcus Smart and Rob Williams. </font><font style=\"background-color: #D6CDEA;\">Still, the loss was a reminder that good habits need to be nurtured, and one the Celtics can stew over before they resume their season against the Nets next Thursday. </font><font style=\"background-color: #E1F8DC;\">“There’s got to be an edge to us coming back,” the veteran forward Al Horford said, adding: “This is when the fun starts.” </font><font style=\"background-color: #E1F8DC;\">It always takes time for new coaches to incorporate their systems, no matter how talented their personnel. Dwane Casey, the coach of the Pistons, knows the feeling. Before Wednesday’s game, he recalled landing his first head coaching job in the N.B.A., with the Minnesota Timberwolves in 2005. Kevin Garnett, a colorful figure and a future Hall of Famer, made a habit of interrupting Casey whenever he tried to show the team a new play. </font><font style=\"background-color: #E1F8DC;\">“It’s not easy,” Casey said. “You want to go in there with all these grand ideas, but you learn pretty quick that you’ve got to be flexible, that you’ve got to learn the players and they’ve got to get a feel for you.” </font><font style=\"background-color: #E1F8DC;\">Udoka had to be just as patient in Boston, where the Celtics’ season was less than two weeks old when a loss to the Chicago Bulls dropped their record to 2-5. Afterward, Smart, the team’s starting point guard, used his platform at a postgame news conference to criticize Jayson Tatum and Jaylen Brown, the team’s top two players, for essentially hogging the ball. </font><font style=\"background-color: #E1F8DC;\">The Celtics spent subsequent weeks wrestling with mediocrity — two wins here, three losses there — without much continuity. And they found themselves absorbing more barbs after a loss to the 76ers on Jan. 14. Joel Embiid, the 76ers’ All-Star center, stated the obvious: The Celtics were a one-on-one team. Embiid went so far as to compare them unfavorably to the Charlotte Hornets, whom the 76ers had played two days earlier. </font><font style=\"background-color: #E1F8DC;\">“Charlotte, they move the ball extremely well and they have shooters all over the place,” Embiid told reporters. “Obviously, Boston is more of an iso-heavy team, so it becomes easier to load up and try to stop them.” </font><font style=\"background-color: #E1F8DC;\">Perhaps it was a message that the Celtics needed to hear. Tatum, 23, and Brown, 25, are terrific players, each capable of torching a conga line of defenders by himself. And there are certainly times when they should take advantage of their matchups. But Udoka wants all of his players to avoid “playing in a crowd,” he said, and to exercise more discretion. Above all, he seeks balance: fast breaks, pick-and-rolls, ball reversals. </font><font style=\"background-color: #FEF8DD;\">“We have a multidimensional team that can score in a lot of different ways,” he said. </font><font style=\"background-color: #E1F8DC;\">Sure enough, the Celtics were rolling by the time they paid another visit to Philadelphia on Tuesday. Udoka delivered some pregame motivation by showing his players that old quote from Embiid — the one about them being “easier” to defend than the Hornets had been. “It stood out to me when he said it,” Udoka said. </font><font style=\"background-color: #E1F8DC;\">The Celtics won by 48 points. Doc Rivers, the coach of the 76ers, spent the game looking as though he were in line at the Department of Motor Vehicles. </font><font style=\"background-color: #E1F8DC;\">“You can literally see the improvement of the ball movement,” he said. “The old Boston is more isos. This Boston is driving and playing with each other, and that’s what makes them so much tougher.” </font><font style=\"background-color: #E1F8DC;\">The Celtics, who are also among the league leaders in defensive rating, made some savvy moves ahead of last week’s trade deadline by acquiring Derrick White, a versatile guard, and Daniel Theis, a defense-minded center. </font><font style=\"background-color: #E1F8DC;\">As for the All-Star break, Udoka said he would spend time with his family. But he also plans to dive into film by revisiting the hard times. </font><font style=\"background-color: #FEF8DD;\">“Really take a look at the struggles we had early,” he said, “and how we’ve turned the corner.” </font><br/><br/><hr><br/><h2>Text</h2><br><font style=\"background-color: #E1F8DC;\">It seems like a story too good to be true, and for some in the art world, it is. Last weekend, 25 Jean-Michel Basquiat paintings were publicly unveiled at the Orlando Museum of Art before several thousand V.I.P.s. All of the paintings were said by the museum to have been created in late 1982 while Basquiat, 22, was living and working out of a studio space beneath Larry Gagosian’s home in Venice, Calif., preparing fresh canvases for a show at the art dealer’s Los Angeles gallery. </font><font style=\"background-color: #E1F8DC;\">According to the Orlando museum director and chief executive, Aaron De Groft, the vibrant artworks — layers of mixed media painted and drawn onto slabs of scavenged cardboard ranging in size from a 10-inch square featuring one of the artist’s iconic crowns to a nearly five-foot-high disembodied head — were sold by Basquiat directly to the television screenwriter Thad Mumford. The price? A quick $5,000 in cash — about $14,000 today — paid without Gagosian’s knowledge. </font><font style=\"background-color: #E1F8DC;\">The 25 artworks then disappeared for three decades, the museum said, only resurfacing in 2012 after Mumford failed to pay the bill on his Los Angeles storage unit, and its contents — the Basquiats tucked in amid baseball memorabilia and TV industry ephemera — were auctioned off. William Force, a treasure hunting “picker,” and Lee Mangin, his financial backer, who both scour small auctions for mislabeled items, saw photos of the colorful cardboards and eventually snagged the lot — for about $15,000. </font><font style=\"background-color: #E1F8DC;\">Mangin provided receipts of the purchase and recounted the thrill of the hunt: “It’s sort of a deep hook that goes inside of you,” he said, likening it to being an art world Indiana Jones digging for lost artifacts. It certainly sounds like a tale straight out of Hollywood, or perhaps a script by the Emmy Award-winning Mumford. Indeed, Gagosian, in a response to this reporter about the 1982 creation of these Basquiats, said he “finds the scenario of the story highly unlikely.” Gagosian’s concerns were echoed by several curators known to write widely on Basquiat’s work, who have greeted the Orlando museum’s show with a stony public silence. </font><font style=\"background-color: #E1F8DC;\">De Groft, the OMA director, bristled at such skepticism. “My reputation is at stake as well,” he said in an interview. “And I’ve absolutely no doubt these are Basquiats.” Beyond his own trained eye — he has a Ph.D. in art history from Florida State University — he cited a battery of reports commissioned by the artworks’ current owners. </font><font style=\"background-color: #E1F8DC;\">These include a 2017 forensic investigation by the handwriting expert James Blanco which identified the signatures that appear on many of the paintings as being Basquiat’s; a 2017 analysis by the University of Maryland associate professor of art Jordana Moore Saggese, author of “Reading Basquiat: Exploring Ambivalence in American Art,” in which she too attributed the paintings to Basquiat; and signed 2018-19 statements from the late curator Diego Cortez, an early supporter of the artist and founding member of his estate’s now-dissolved authentication committee, which declared each of the paintings to be genuine Basquiats. In light of the imprimatur Cortez’s name carries with historians, his certifications were accompanied by photographs showing the curator mid-signature. </font><font style=\"background-color: #D6CDEA;\">But the foremost proof in De Groft’s mind was a short poem by Mumford in 1982 commemorating the artworks’ creation and the meeting that the owners say occurred between Basquiat, then an artist on the rise, and Mumford, then one of the few Black screenwriters working within network TV and riding high as a producer and writer for the top-rated “M*A*S*H.” </font><font style=\"background-color: #E1F8DC;\">Lines from the poem seem to refer both to Mumford’s ’70s work voicing a “Dr. Thad” for “Sesame Street,” his upcoming script for the “M*A*S*H” series finale, the “25 paintings bringing riches,” and the two men’s shared spirit as “no longer outsiders, Industry insiders golden crowns receiving … We film, we write, we film, we paint.” </font><font style=\"background-color: #E1F8DC;\">It is said to have been written and typed up by Mumford, then initialed in oilstick by Basquiat (and confirmed as genuine by Blanco). The poem was not in Mumford’s storage locker contents, according to Mangin, but was handed to him by Mumford in 2012. After buying the paintings, Mangin said he and Force tracked down the screenwriter, who told them over lunch how he had bought the Basquiats in 1982 as an investment on the recommendation of a friend. </font><font style=\"background-color: #E1F8DC;\">“The poem is almost like a receipt, it refers to the works, it refers to the inscriptions in the works, it refers to the time,” De Groft said. “I’ve absolutely no doubt.” </font><font style=\"background-color: #E1F8DC;\">Before his death in 1988 from a drug overdose, Basquiat is believed to have made approximately 2,100 artworks, from small drawings to a paint-adorned refrigerator door, according to the Brooklyn Museum. Could these slices of cardboard have been among them? While it’s certainly difficult to imagine Gagosian, living just one floor above Basquiat and keeping close tabs on his studio progress, or Basquiat’s gallery-employed studio assistant and de facto chauffeur, John Seed, not noticing the creation and sale of 25 detailed paintings on canvas, those painted on cardboard are more easily concealable. </font><font style=\"background-color: #E1F8DC;\">Seed has written about driving Basquiat to an appointment with a doctor whose medical bill was paid with drawings. And as noted by Phoebe Hoban in her 1998 biography “Basquiat,” “Anybody with the right attitude and the right amount of money could purchase something from the painter, who was constantly in need of cash to support his various habits.” </font><font style=\"background-color: #E1F8DC;\">Gagosian himself conceded to Hoban that his own accounting methods with Basquiat were hardly traditional: “It was the way he chose to be paid, in cash, or in barter, or with clothes, or like he’d say ‘Well, buy my girlfriend a trip to Paris.’” </font><font style=\"background-color: #E1F8DC;\">More than just professional reputations now rest on the question of these paintings’ true background. The value of Basquiat’s work has soared: In 2017 one of his paintings sold for $110.5 million at Sotheby’s — the current auction high for an American artwork. If the 25 Mumford-purchased paintings are authenticated as actual Basquiats, Putnam Fine Art and Antique Appraisals puts their total worth at close to $100 million. </font><font style=\"background-color: #E1F8DC;\">An official verdict on this whodunit by the Basquiat estate is now impossible — it closed its authentication committee in 2012 in the aftermath of a lawsuit over Basquiat artworks initially deemed fake. (Amid similar time-consuming and expensive litigation, the Andy Warhol estate closed its own authentication committee that same year.) Yet without such a stamp of estate approval, or an established provenance, major auction houses and heavyweight art dealers are reluctant to handle such works. Despite several years of being quietly shopped around the secondary art market, these Basquiats have to date found no takers, according to the owners. The Orlando museum showing could help dispel that market wariness, lending them a new air of institutional legitimacy. </font><font style=\"background-color: #E1F8DC;\">Sotheby’s declined to comment on the authenticity of these paintings. Several art world professionals were similarly gun-shy, citing the experience of the estate’s authentication committee and their fear that publicly weighing in could embroil them in a lawsuit with the paintings’ current owners. One dealer who personally worked with Basquiat and saw photographs of the paintings in the Orlando museum said, “the way Basquiat places elements in the composition has an interior logic which is missing in these images.” </font><font style=\"background-color: #E1F8DC;\">In addition to Force and Mangin, partial ownership of the artworks now lies with one of Los Angeles’s most prominent trial lawyers, Pierce O’Donnell, famed for successful litigation against a veritable who’s who of the city’s glitterati, from the actor Brad Pitt (on behalf of his ex-wife Angelina Jolie) to the former Los Angeles Clippers owner Donald Sterling. </font><font style=\"background-color: #E1F8DC;\">O’Donnell told The New York Times that he purchased an interest in six of the 25 paintings after Force, who had read about his authentication efforts on behalf of a disputed Jackson Pollock painting, approached him for help with the Basquiats. It was news coverage of this same Pollock legal standoff that also led the OMA’s De Groft to contact O’Donnell and then offer to exhibit the Basquiats. If Force and Mangin are seeking a payday, and De Groft hopes for a blockbuster exhibition, O’Donnell seems driven by the courtroom-like drama of it all. </font><font style=\"background-color: #E1F8DC;\">“I treated these paintings as a client,” the lawyer explained. “I believe I could win this case nine and a half out of ten times with a jury. I’m not bragging. I’m just saying the evidence is compelling.” He cited the various reports done on the paintings, and, like De Groft, the Mumford-penned and Basquiat-signed poem that definitively sealed his case. “That poem is so revealing, and Basquiat’s initials are on it,” he continued. “It’s autobiographical and you can’t make up this stuff, you just can’t.” </font><font style=\"background-color: #E1F8DC;\">Except that sometimes you can. As early as 1994, seemingly beautifully executed Basquiats later deemed to be well-made fakes — accompanied by bogus letters of provenance — were in circulation. And just this past July the F.B.I. arrested a man in New York City it said was trying to sell artworks he falsely claimed were collaborations between Basquiat and Keith Haring, also complete with forged letters of provenance. </font><font style=\"background-color: #E1F8DC;\">O’Donnell had no patience for such comparisons. “You would have to have a big old conspiracy that would rival the Jan. 6 insurrection for these things not to be authentic,” he scoffed, adding that it just didn’t make sense. “A forger who wanted to make big hay over Basquiat would paint one extraordinary Basquiat, or maybe two or three, all large on canvas. He wouldn’t just go out and get cardboard from a supermarket or liquor store and create 25 paintings.”  </font><font style=\"background-color: #E1F8DC;\">What of Mumford’s family, who only learned of the museum’s exhibition of “The Thaddeus Mumford Jr. Venice Collection” from this reporter? “It’s all very strange,” said Jeffrey Mumford, Thad’s younger brother, a Guggenheim fellowship-winning classical composer and music professor at Lorain County Community College, near Cleveland. Not only did Thad never once mention to him buying the Basquiats, “he was someone who didn’t really go to art galleries very often, was often intimidated by the idea of going to them because he felt he had to have a degree in art in order to appreciate the work.” </font><font style=\"background-color: #E1F8DC;\">Moreover, if Thad had ever wanted to discuss a promising new artist, he could have spoken with Jeffrey’s wife, Donna Coleman, an accomplished painter who had lived in New York City at the same time Basquiat was first making a name for himself. Coleman, in an interview, recalled walking in downtown Manhattan in 1978 “when I would see his SAMO graffiti on the wall fresh from the day before.” </font><font style=\"background-color: #E1F8DC;\">Coleman, who helped settle Thad’s estate upon his death in 2018, said it seemed believable to her that he had simply stopped making payments on his storage unit “because he didn’t care about these works, or he didn’t recognize their worth, or maybe he was tipped off that they were not real.” The last years leading up to his death “were very, very fraught,” she said. His career in television had essentially dried up, he was severely depressed and in poor health, and “he was just letting go of a lot of things.” But if by 2012 he no longer cared about the paintings, then why did he hold onto a poem about that same artist for all those years? “It does seem odd, doesn’t it?” Coleman mused. </font><font style=\"background-color: #E1F8DC;\">One clue to the paintings’ authenticity may lie with the cardboard on which Basquiat would have applied his layers of paint, crayon, and oilstick. Mangin said he consulted several paper experts to confirm its age, but was told that the composition of cardboard from the 1980s was impossible to differentiate from that of recent years. “Nobody had an answer,” Mangin explained. “Cardboard is cardboard.” </font><font style=\"background-color: #E1F8DC;\">Yet flip over one of the works and you’ll find that it was painted on the back of a shipping box with a clearly visible company imprint: “Align top of FedEx Shipping Label here.” According to Lindon Leader, an independent brand expert consulted by The Times, who was shown a photo of the cardboard, the typeface in the imprint was not used by Federal Express before 1994. He should know: that was the year he personally redesigned the company’s logo and its typefaces while working as senior design director at the Landor Associates advertising firm. </font><font style=\"background-color: #E1F8DC;\">“It appears to be set in the Univers 67 Bold Condensed,” Leader said of the label’s distinctive purplish font. In 1982, “They were not using Univers at that time.” </font><font style=\"background-color: #E1F8DC;\">So the piece of cardboard could not have been produced until 12 years after Basquiat supposedly painted on it and six years after the artist’s death. </font><font style=\"background-color: #E1F8DC;\">According to a person close to the Orlando museum, who asked to remain anonymous because they were not authorized to reveal internal discussions, its curatorial staff expressed their concern to De Groft that the FedEx text did not seem to be from 1982. “This show raised red flags for them,” the person said, but the director brushed off their concerns. </font><font style=\"background-color: #E1F8DC;\">Asked about his staff’s reaction this week, De Groft insisted, “The cardboard is legit.” He added, “I believe deeply these are authentic Basquiats. I can’t answer the question on FedEx, there’s an anomaly there.” But he said the evidence provided by the artworks’ owners — from the Basquiat-signed poem to the Cortez report — was credible. </font><font style=\"background-color: #E1F8DC;\">Yet as O’Donnell, the lawyer, has himself argued in a catalog essay for Orlando’s Basquiat exhibition, one small discovery can undermine a seemingly rock solid claim: “Over my four decades in the trenches, cases have been won or lost based on a single piece of evidence.” The key to winning, he concludes, is “finding a ‘smoking gun’ document buried in millions of pages of records. If this sounds like Perry Mason, it is.” </font><font style=\"background-color: #E1F8DC;\">Asked this week if the FedEx-imprinted cardboard was that veritable “smoking gun,” O’Donnell remained unshaken. “If there’s a question about one painting, it doesn’t cast doubt on all the other ones.” He called the typography question “a subject of expert debate”— one he almost seemed to relish and was confident he would win. “If I presented all this evidence to a jury— including this thing about FedEx — I have no doubt how it would come out.” </font><br/><br/><hr><br/><h2>Text</h2><br><font style=\"background-color: #E1F8DC;\">BERLIN — What is your strategy during a nasal-swab antigen test? Personally, I look up and to the right as the technician inserts the little wand, either affecting an air of nonchalance or pretending I’ve been struck by a highly original thought. I know others make idle chitchat, and at least one fellow critic has taken to staring deeply into the tester’s eyes. It’s a pandemic: You get your kicks where you can. </font><font style=\"background-color: #E1F8DC;\">At the Berlin International Film Festival — which announced its prizewinners on Wednesday but is continuing public screenings through Feb. 20 — attending members of the press have had ample opportunity to hone their swab technique. Mandatory tests every 24 hours — even for the boosted — were part of a package of restrictions that the organizers of the festival, which is known as the Berlinale, agreed to so it could take place as a physical event. </font><font style=\"background-color: #E1F8DC;\">There were complaints. But every time someone whinged about the new ticket booking system or became exasperated by the Escher-inspired exit routes, which always seemed to involve multiple uphill flights of stairs, I found myself thinking: “Deal with it.” Or sometimes, less charitably: “Suck it up.” </font><font style=\"background-color: #E1F8DC;\">The category error from complainants is to compare this reduced-attendance edition with Before Times Berlinales. The real comparison is with last year’s online version, which debuted a stronger selection of films but didn’t feel like a festival at all. Consider that lonely experience as the alternative and the staircases, seating hassles and swabbing become a small price to pay. </font><font style=\"background-color: #E1F8DC;\">And however deep your tester probes, it could hardly be as invasive as the public colonoscopy undergone in Peter Strickland’s willfully outré “Flux Gourmet,” one of the event’s buzzy early titles. Surely the most single-minded evocation of the discomfort of suppressing flatulence ever to get a major festival berth, Strickland’s film was only rivaled by François Ozon’s festival opener “Peter von Kant” for fun, gaudy aesthetics adorning an oddly disposable story. Ozon’s film quite amusingly pulls off its trick of overlaying details from Rainer Werner Fassbinder’s biography onto a gender-flipped reworking of Fassbinder’s 1972 classic “The Bitter Tears of Petra von Kant,” without ever actually justifying why. </font><font style=\"background-color: #E1F8DC;\">The single-location “Peter von Kant” is one of several Berlinale films that bears the hallmarks of shooting under pandemic conditions. “Fire,” which brought Claire Denis (incredibly) her first best director award at a major film festival, is another. Here, Juliette Binoche plays a woman torn between two lovers (or between “Both Sides of the Blade,” as the film’s more evocative international title puts it). If it falls short of Denis’s highest watermarks, it is at least notable for how it acknowledges the pandemic without making it the subject of the film. </font><font style=\"background-color: #E1F8DC;\">Quentin Dupieux’s highly enjoyable “Incredible But True” takes an oblique approach, not referencing coronavirus restrictions directly but creating unmissable parallels in what is essentially a time-travel movie. Witty and unassumingly profound, it’s a marked contrast to Bertrand Bonello’s chaotically indulgent “Coma,” which involves lockdown navel-gazing of a borderline incomprehensible nature. It received a wildly divided reception, represented by the guy beside me leaving in a huff partway in and the guy in front of me leaping to his feet shouting “Bravo!” at the end. </font><font style=\"background-color: #E1F8DC;\">Two lower-key Asian titles also unfold in coronavirus times, without being overwhelmed by pandemic paranoia. Hong Sangsoo’s “The Novelist’s Film” is another deceptively breezy slice of life from the Korean director, which brought him — a perennial prize taker at the Berlinale — the runner-up Grand Prix award. The notion that this makes the festival’s jury president, M. Night Shyamalan, a de facto member of “the Hong Hive” is remarkable for anyone acquainted with their respective oeuvres — the kind of thought it’s useful to have strike you when you’re having your nose swabbed and want to look loftily away. </font><font style=\"background-color: #E1F8DC;\">The accurately named Japanese gem “Small, Slow But Steady” also featured masks, though here we notice the difficulties they present for lip readers. The beautifully absorbing story of a deaf female boxer whose beloved gym is facing closure, ​​Sho Miyake’s affecting drama is miniature in every way except emotional impact. Its bittersweet main idea, about a treasured place facing its imminent end, is writ in larger, bolder, colors in Carla Simón’s “Alcarràs,” which won the Golden Bear, the festival’s top award. </font><font style=\"background-color: #E1F8DC;\">“Alcarràs” follows the windy, sun-blasted fortunes of the Solé family, from the Catalonia region of Spain, during the family peach orchard’s last harvest before demolition. It’s a lovely, chattering, life-filled title featuring irresistible performances from its nonprofessional, all-ages ensemble cast. Its triumph here makes it the third consecutive time, after Cannes and Venice, that a major European festival’s highest honor has gone to a woman for her second film. </font><font style=\"background-color: #E1F8DC;\">But for all its sunshine and sad, brave wisdom, “Alcarràs” was, for me, outmatched by a much wintrier competition title. Ulrich Seidl’s “Rimini” is an uncompromising, coldly provocative drama that gathered no prizes, which is a shame. But that its star, Michael Thomas, playing a washed-up club singer in an off-season Italian beach town, was not specifically recognized is more or less a crime. My other competition favorite, Natalia López Gallardo’s formally striking debut feature “Robe of Gems,” did pick up the Jury Prize. But otherwise, as has been the case since the Encounters sidebar was inaugurated in 2020, a lot of the more interesting titles ended up there rather than in the main competition. </font><font style=\"background-color: #E1F8DC;\">In particular, Jöns Jönsson’s “Axiom” is a clever examination of the psychology of a compulsive liar. And best of all — in this section, this festival and, for me, this year so far — there’s Cyril Schäublin’s utterly singular “Unrest,” a movie that is defiantly uncategorizable, unless you have a category earmarked “playful, otherworldly tales of watchmaking and anarchism in 1870s Switzerland.” </font><font style=\"background-color: #E1F8DC;\">“Unrest” was the most transporting movie I saw in Berlin, at least until I physically transported myself to the city’s planetarium to watch Liz Rosenfeld’s experimental “White Sands Crystal Foxes.” The film itself is a rather exasperatingly overwritten art piece, but the experience was little short of transcendent. Lying under a domed 360-degree projection, suspended amid cascading imagery, I felt pleasantly disembodied. Later, it occurred to me how odd it was to yearn for a return to the real world, just to better escape it again. </font><font style=\"background-color: #E1F8DC;\">To that end — escapism — the most all-cylinders-firing section of this year’s Berlinale was undoubtedly the terrific retrospective, called “No Angels” and comprising 27 Golden Age Hollywood comedies, each starring Mae West, Rosalind Russell or Carole Lombard. The actresses’ big hits, like “My Little Chickadee,” “His Girl Friday” and “My Man Godfrey” were there, but this blast of a selection also unearthed less well-known but no less delightful titles. “Four’s a Crowd,” starring Russell alongside Errol Flynn and Olivia de Havilland is one, as is “Lady By Choice,” in which Lombard plays a showgirl-come-good who “adopts” a fake mother as a publicity stunt. Retreating into a screwball-comedy world might just be the best way to massage away the annoyances of the real one. </font><font style=\"background-color: #E1F8DC;\">Then again, as the days zipped by and the staircases seemed to just get longer, it became clear that the irritations of real life are an integral part of what we missed so sorely during last year’s remote edition. At one public screening, a couple started arguing loudly with an usher when she told them they must leave an empty seat between them. I was annoyed by them. And then I remembered to be delighted that I could be annoyed by other physical humans being physically annoying in a physical place. “Suck it up,” I wanted to tell them. But also, “I love you.” </font><br/><br/><hr><br/><h2>Text</h2><br><font style=\"background-color: #ACDDDE;\">Thirteen months into the Biden administration, Democrats face a troubling paradox. By many measures the economy has done very well, hugely outperforming expectations for growth and job creation. A record number of Americans say that it’s a good time to find a quality job. But inflation has spiked, consumer sentiment has plunged, and polls show that economic perceptions are currently a big liability for their party. </font><font style=\"background-color: #ACDDDE;\">How should President Biden talk about this situation? Obviously he needs to acknowledge the inflation problem. But there’s a debate among pundits, and presumably within the party’s inner circles, about how much he should tout his achievements. Some commentators seem to believe that emphasizing the good news would be a mistake, that his best move would be to demonstrate that he’s in touch by acknowledging that things have gone wrong — that he should, in effect, ratify negative narratives about the economy. </font><font style=\"background-color: #CAF1DE;\">Well, I remember the 1970s, and if you ask me, pundits calling on Biden to show “humility” seem to be suggesting that he should give a version of Jimmy Carter’s infamous “malaise” speech. </font><font style=\"background-color: #E1F8DC;\">Furthermore, if Biden emphasizes the positive he will have reality on his side. I’ve been arguing for a while that the economy is doing much better than either consumer surveys or polling suggest. And two important new studies reinforce that case. </font><font style=\"background-color: #E1F8DC;\">The first study, by researchers at the Federal Reserve Bank of Dallas, involves real wages — wages corrected for inflation. I’ve seen many articles simply asserting as fact that wages haven’t kept up with inflation. But is that true? </font><font style=\"background-color: #E1F8DC;\">You might think this is a simple question to answer — just compare average wages with the level of prices. But the pandemic has messed up such comparisons by skewing the composition of the work force. In 2020 average wages went up a lot, not because individual workers were getting big raises, but because the millions of Americans laid off were disproportionately in low-paid occupations like restaurant work. Those same occupations have led the recovery in employment over the past year, so that true wage growth has been higher than the average might suggest. </font><font style=\"background-color: #E1F8DC;\">The Dallas Fed study, which attempted to correct for these effects, found that real wages actually rose in 2021, although they slipped slightly in the second half of the year. </font><font style=\"background-color: #E1F8DC;\">I’m not saying that workers are doing great — they aren’t. Nor should we take this study as the final word; maybe real wages are actually down a bit rather than up a bit. But these estimates are inconsistent with claims that workers have suffered large declines in their purchasing power. </font><font style=\"background-color: #E1F8DC;\">And in terms of the politics, it seems worth noting a historical comparison: Real wages for blue-collar workers declined fairly consistently over the course of Ronald Reagan’s presidency, despite the 1985-86 plunge in world oil prices. Yet Republicans won not one but two landslide presidential election victories in the 1980s largely on the strength of perceived economic success. </font><font style=\"background-color: #F7D8BA;\">Still, people dislike inflation even when their incomes are keeping up, perhaps because inflation creates a sense that things are out of control. This helps explain the decline in consumer sentiment over the past year, although both The Times’s Nate Cohn and I have found that the decline in confidence is bigger than you would have expected even given inflation aversion. </font><font style=\"background-color: #D6CDEA;\">But there’s more. Researchers at the Federal Reserve Bank of New York point out that their bank’s survey of consumers, like other surveys, says that Americans expect high inflation this year but don’t expect it to persist. Furthermore, longer-term expectations of inflation have become less responsive to current price increases than they were in the past — which is the opposite of what you’d expect to see if people really perceived an economy spinning out of control. </font><font style=\"background-color: #E1F8DC;\">So Americans aren’t suffering big declines in real wages, and they see inflation as temporary, not a runaway phenomenon. Why, then, hasn’t the good economic news on other fronts made them more upbeat? </font><font style=\"background-color: #FEF8DD;\">Maybe because, for whatever reason, they haven’t heard that good news. </font><font style=\"background-color: #E1F8DC;\">There are many indicators of a large divergence between what people say about their own situation — which they rate as pretty good, financially and otherwise — and what they say about what’s happening to the nation as a whole. That is, they imagine that others are doing badly even though they themselves are doing OK. </font><font style=\"background-color: #D6CDEA;\">Some of this represents immovable partisanship — nothing will convince Republicans that things aren’t terrible. But as Greg Sargent of The Washington Post points out, recent polling finds that when voters are presented with information about the good news on jobs, growth and unemployment, their assessment of the economy — and of Democrats — improves substantially. </font><font style=\"background-color: #FFE7C7;\">So Biden should indeed talk about his successes. He shouldn’t ignore the negatives — although denial of awkward reality has historically worked well for Republicans. But he should tout the good things that have happened on his watch. After all, if he won’t, who will? A good economy won’t sell itself. </font><br/><br/><hr><br/><h2>Text</h2><br><font style=\"background-color: #E1F8DC;\">WASHINGTON — The Biden administration said on Thursday it would propose a regulation that some say would make it harder for future administrations to restore the Trump-era “public charge” policy that allowed officials to deny permanent residency to immigrants who received or were most likely to need public benefits. </font><font style=\"background-color: #E1F8DC;\">Immigration advocates, who have been critical of the progress President Biden has made over the past year in reversing his predecessor’s immigration policies, welcomed the announcement. Even though former President Donald J. Trump’s rule was halted last year, immigrants hoping for green cards have continued to be wary of doing anything that they feared could jeopardize their chances of getting them, including going to the hospital or getting a Covid-19 vaccine. </font><font style=\"background-color: #E1F8DC;\">Lingering fears about the Trump rule have made it “much more difficult to address the harms of the pandemic” for immigrants lacking permanent legal status, said Tanya Broder, a lawyer with the National Immigration Law Center. The Trump administration’s rule went into effect in February 2020, just weeks before the reach of the coronavirus in the United States became clear. </font><font style=\"background-color: #FEF8DD;\">While the Trump policy has not been in effect for nearly a year, the Biden administration’s new rule would be more resilient to potential legal challenges and harder to reverse by a new administration than the one it issued last March, policy experts said. </font><font style=\"background-color: #E1F8DC;\">In U.S. immigration law, the idea of public charges has historically applied to those deemed likely to primarily depend on the federal government for survival, such as through public cash assistance or institutionalized long-term care. Mr. Trump’s rule expanded the definition, changing what had been common practice for 20 years, and was seen by many as a way to keep out poor immigrants. </font><font style=\"background-color: #E1F8DC;\">The Trump administration, however, expanded the list of benefits that could make a new immigrant ineligible for permanent residency, adding Medicaid, food stamps and subsidized housing, for example. Researchers have said the policy prompted many families to drop off the benefit rolls, even if they had children who were U.S. citizens and could use such programs with no effect on their immigration applications. </font><font style=\"background-color: #FEF8DD;\">In November 2020, a federal district court ordered the Trump administration to stop enforcing the policy. </font><font style=\"background-color: #FEF8DD;\">Last March, the definition reverted back to what it had been before; the new proposal would continue to use the old language. </font><font style=\"background-color: #E1F8DC;\">“The 2019 public charge rule was not consistent with our nation’s values,” Alejandro N. Mayorkas, the homeland security secretary, said in a statement on Thursday. “Under this proposed rule, we will return to the historical understanding of the term ‘public charge’ and individuals will not be penalized for choosing to access the health benefits and other supplemental government services available to them.” </font><font style=\"background-color: #E1F8DC;\"> The new proposed regulation, which will be open to public comments for 60 days once it is published in the Federal Register, is “more legally defensible,” because it is going through the government’s rule-making process, said Julia Gelatt, a senior policy analyst at the nonpartisan Migration Policy Institute. It also adds specificity to some of the terms and clauses in an initial 1999 guidance, so less will be left to interpretation, she said. </font><font style=\"background-color: #FEF8DD;\">The Trump rule spurred so much fear in immigrant communities that some people who were not subject to the public charge regulation started to avoid public benefits all together. </font><font style=\"background-color: #F7D8BA;\">Advocates said they hoped the new proposed rule would make immigrants more comfortable applying for public benefits for which they are eligible, which can vary by state. </font><font style=\"background-color: #E1F8DC;\">“The forthcoming public charge rule is particularly significant given the enduring chilling effect we have seen among immigrant communities fearful of accessing benefits to which they are entitled,” said Krish O’Mara Vignarajah, the chief executive of Lutheran Immigration and Refugee Service. “Equally important is the outreach the administration will extend to educate impacted communities.” </font><br/><br/><hr><br/><h2>Text</h2><br><font style=\"background-color: #E1F8DC;\">WASHINGTON — President Biden said on Friday that the United States has intelligence showing that President Vladimir V. Putin of Russia has made a final decision to reject diplomatic overtures and invade Ukraine, in what Mr. Biden said would be a “catastrophic and needless war of choice” in Eastern Europe. </font><font style=\"background-color: #E1F8DC;\">Speaking from the Roosevelt Room in the White House, Mr. Biden said “we have reason to believe the Russian forces are planning to and intend to attack Ukraine in the coming week, in the coming days,” adding that “we believe that they will target Ukraine’s capital, Kyiv, a city of 2.8 million innocent people.” </font><font style=\"background-color: #E1F8DC;\">Asked whether he thinks that Mr. Putin is still wavering about whether to invade, Mr. Biden said, “I’m convinced he’s made the decision.” Later, he added that his impression of Mr. Putin’s intentions is based on “a significant intelligence capability.” </font><font style=\"background-color: #F7D8BA;\">Still, Mr. Biden implored Russia to “choose diplomacy.” </font><font style=\"background-color: #E1F8DC;\">“It is not too late to de-escalate and return to the negotiating table,” Mr. Biden said, referring to planned talks between Secretary of State Antony J. Blinken and Russia’s foreign minister on Thursday. “If Russia takes military action before that date, it will be clear that they have slammed the door shut on diplomacy.” </font><font style=\"background-color: #E1F8DC;\">In the hours before Mr. Biden’s late afternoon remarks, Russia-backed separatists in eastern Ukraine called for mass evacuations in two contested regions of the country, claiming, with little evidence, that Ukraine’s military was about to launch a large-scale attack there, an assertion that appeared intended to provoke Russian military intervention. </font><font style=\"background-color: #E1F8DC;\">The ominous messaging of the rebels in the regions of Donetsk and Luhansk was loudly echoed by Moscow, raising fears that Russia was setting the stage for an imminent invasion that could ignite the biggest conflict in Europe in decades. </font><font style=\"background-color: #E1F8DC;\">The call by the Russian-backed separatists for evacuations came as they blamed Ukraine for an array of provocations, including shelling along the front lines between Ukraine and the separatist forces, and an explosion involving an empty car that pro-Moscow news outlets said belonged to the head of the region’s security services. </font><font style=\"background-color: #D6CDEA;\">Mr. Biden, who had just concluded a video call with a dozen Western leaders, rejected the claims as lies intended by Mr. Putin to inflame the situation on the ground and provide a pretext for war — something the United States and other European leaders had been warning about for weeks. </font><font style=\"background-color: #E1F8DC;\">He cited the bombing of a Ukrainian kindergarten as a Russia-backed provocation. And he pointed to Russian separatist accusations that Ukraine was planning to launch a major offensive attack as evidence of Russian efforts to justify military action with misinformation. </font><font style=\"background-color: #D6CDEA;\">“There is simply no evidence to these assertions, and it defies basic logic to believe the Ukrainians would choose this moment, with well over 150,000 troops arrayed on its borders, to escalate a yearlong conflict,” Mr. Biden said. </font><font style=\"background-color: #E1F8DC;\">The president’s comments are the clearest indications of just how close the world may be to the largest conflict in Europe since World War II. He took the highly unusual course of specifically predicting the time frame and parameters of the invasion, despite the risks that he could be proved wrong. </font><font style=\"background-color: #E1F8DC;\">“We’re calling out Russia’s plans loudly and repeatedly,” Mr. Biden said. “Not because we want a conflict but because we’re doing everything in our power to remove any reason that Russia may give to justify invading Ukraine and prevent them from moving.” </font><font style=\"background-color: #E1F8DC;\">The president did not say how the administration knew about Mr. Putin’s decision, but two U.S. officials said the president’s assessment was based in part on new intelligence showing that nearly half of the 150,000 Russian forces have moved out of staging and into combat formation and could launch a full-scale invasion within days. </font><font style=\"background-color: #E1F8DC;\">The force includes 120 to 125 battalion tactical groups, up from the mid-80s earlier in the month. And some of the forces are Russian reservists who would make up an occupation force after an invasion, the officials said. The officials asked for anonymity to discuss government assessments. </font><font style=\"background-color: #E1F8DC;\">Mr. Biden vowed that the United States and its allies were united behind imposing severe economic sanctions if Russia’s forces cross Ukraine’s borders. He said he also held a call with Democratic and Republican lawmakers who expressed united support for the administration during a visit to Munich for a security conference. </font><font style=\"background-color: #E1F8DC;\">In Ukraine, the head of the country’s Ministry of Defense said the claim of an imminent attack by its military was categorically false and intended to inflame tensions. But the ministry issued a stark warning to residents of the contested regions “not to leave their homes and not to use public transport.” It cited “information that Russian special services have mined a number of social infrastructure facilities in Donetsk,” with the aim of “destabilizing the situation” there. </font><font style=\"background-color: #E1F8DC;\">The warning reflected how Russia appeared to be pulling out all the stops to pressure the Ukrainians short of sending its troops across the border. </font><font style=\"background-color: #E1F8DC;\">The fears of brewing conflict were reinforced as U.S. officials said that as many as 190,000 troops and aligned militias were arrayed in and near Ukraine, a number that includes the separatists. The assessment was delivered in a statement by the U.S. mission to the Organization for Security and Cooperation in Europe, which called it “the most significant military mobilization in Europe since the Second World War.” </font><font style=\"background-color: #D6CDEA;\">Consistent with Russia’s contradictory messaging throughout the crisis, however, Mr. Putin said on Friday that he was prepared for further diplomacy. The announcement of the meeting between Mr. Blinken and the Russian foreign minister, Sergey V. Lavrov, calmed jittery markets and suggested that there was still hope for the crisis to be resolved without war. </font><font style=\"background-color: #D6CDEA;\">But Mr. Putin emphasized that Russia would continue to insist on far-reaching demands for “security guarantees” in Eastern Europe that the West has rejected — such as a halt to the eastward expansion of NATO and the pullback of the alliance’s forces from the region. </font><font style=\"background-color: #E1F8DC;\">“We are ready to go on the negotiating track under the condition that all questions will be considered together, without being separated from Russia’s main proposals,” Mr. Putin said in a news conference alongside his close ally President Aleksandr G. Lukashenko of Belarus, who was visiting Moscow. </font><font style=\"background-color: #E1F8DC;\">Friday’s drumbeat of alarms from the separatists about Ukrainian provocations aligned with how Western officials have been warning that a “false flag” incident could be used to start a military conflict. </font><font style=\"background-color: #E1F8DC;\">In calling for people in the contested areas to evacuate to Russia, Denis Pushilin, the pro-Moscow leader of the Donetsk People’s Republic, offered a stark version of what might be coming in citing supposed provocations by Ukraine. </font><font style=\"background-color: #E1F8DC;\">“Very soon, President of Ukraine Volodymyr Zelensky will order the military to go on an offensive, to implement a plan to invade the territory of Donetsk and Luhansk people’s republics,” he said in a video posted online, offering no evidence. </font><font style=\"background-color: #E1F8DC;\">Kyiv firmly denied Moscow’s accusations. And in his remarks Friday, Mr. Biden said there was “no evidence” behind them. </font><font style=\"background-color: #FEF8DD;\">Although Moscow insists that it has no plans for an invasion, it has vowed to mount “a tough response” if the United States and its NATO partners do not roll back their presence in Eastern Europe. </font><font style=\"background-color: #E1F8DC;\">In a demonstration of strength, Russia plans major drills this weekend that will include the launch of ballistic and cruise missiles, the country’s Defense Ministry said, according to the Interfax news agency. </font><font style=\"background-color: #E1F8DC;\">Russia’s drills will test its strategic nuclear forces, which include the land-based launchers, bombers and warships used to deliver nuclear weapons. They will involve the Black Sea Fleet, which has been engaged in large-scale exercises in the region bordering Ukraine. Mr. Putin will preside over them from a “situation center,” the Kremlin said. </font><font style=\"background-color: #E1F8DC;\">The Defense Ministry said the drills had been planned in advance, and Dmitri S. Peskov, Mr. Putin’s spokesman, denied that they were intended to raise tensions with the West. But they will come at a critical juncture in the standoff over Ukraine. </font><font style=\"background-color: #E1F8DC;\">Near the front in Ukraine, it was possible to hear the blasts from munitions fired by the Ukrainian military and incoming fire from the pro-Russian separatists. </font><font style=\"background-color: #E1F8DC;\">A total of 12 houses were damaged by shelling Friday morning, said a local branch of the United Nations High Commissioner for Refugees. </font><font style=\"background-color: #E1F8DC;\">In remarks before Ukraine’s parliament, the country’s defense minister, Oleksiy Reznikov, urged Ukrainians living in the separatist-held territory not to believe Russian propaganda that the Ukrainian government was going to attack them. </font><font style=\"background-color: #E1F8DC;\">“Don’t be afraid,” he said. “Ukraine is not your enemy.” </font><font style=\"background-color: #E1F8DC;\">An estimated 3.5 million people live in the two breakaway regions, and self-declared republics, and since the war started there, Russia has handed out citizenship to more than 700,000 people living in the Donbas region. In his messaging on Ukraine, Mr. Putin has warned of the plight of ethnic Russians in the country, saying that events in eastern Ukraine “resemble genocide.” </font><font style=\"background-color: #E1F8DC;\">Highlighting the growing risk of military conflict, Britain announced Friday night that it was following the United States’ lead in evacuating its embassy from Kyiv to the western city of Lviv. </font><font style=\"background-color: #E1F8DC;\">With fears running high that Russian troops in Belarus could invade Ukraine from the northern border with Belarus, only 140 miles from the capital, the Ukrainian authorities ordered the site of the Chernobyl nuclear disaster closed to tourists. </font><br/><br/><hr><br/><h2>Text</h2><br><font style=\"background-color: #E1F8DC;\">The stock market has lately soured on the technology industry. Stock prices of many of the largest companies are down this year, some slightly — shares of Apple and Google have fallen more than 6 percent — and some stupendously: Facebook's parent company, Meta, and Netflix have lost about a third of their value since the New Year. Because surging tech stocks drove a big part of the stock market’s rise in 2021, their decline has contributed much to the market’s fall. The S & P 500 is down by about 7 percent in 2022. </font><font style=\"background-color: #E1F8DC;\">It’s obvious why investors are spooked. Omicron, inflation, likely interest rate hikes, a possible war in Europe, Canadians acting very un-Canadianly — unpredictable forces have taken hold of the global economy, so it’s not unreasonable to expect trouble ahead for some of the largest companies in the world. </font><font style=\"background-color: #D6CDEA;\">But in the last few weeks, as corporations announced their financial performance for the final months of 2021, I’ve found it hard to focus on what might now go wrong for the tech industry. </font><font style=\"background-color: #E1F8DC;\">Amazon, Apple, Google and Microsoft — the four American companies now worth more than a trillion dollars each (actually, Microsoft is above $2 trillion, and Apple nearly $3 trillion) — reported enviable growth in 2021. Even Facebook’s disappointing earnings were relative: The company’s profits grew by 35 percent in 2021, down from nearly 60 percent growth in 2020. </font><font style=\"background-color: #FEF8DD;\">So the much bigger story is that after all that has gone right during the pandemic for the largest companies in tech, they now seem poised to expand their reach and influence over the rest of the economy, rather than relinquish it. </font><font style=\"background-color: #F7D8BA;\">Perhaps it’s not very surprising that the largest tech companies did really well during a pandemic that had a lot of us spending lots more time with technology. Yet the scale of their growth is staggering. </font><font style=\"background-color: #E1F8DC;\">As Chaim Gartenberg of The Verge pointed out, Apple’s revenue grew by more than $90 billion in 2021, about a third more than its revenue in 2020 — and this despite a global shortage of computer chips. Amazon’s sales in 2021 were 67 percent larger than in 2019, the year before the pandemic; Google’s 2021 revenue was nearly 60 percent greater than in 2019. </font><font style=\"background-color: #E1F8DC;\">I’ve worn down my thesaurus looking for superlatives to underline how gobsmacking these numbers are. These were already among the largest corporations ever to have existed; in 2018, Apple became the first American company to reach a trillion-dollar market valuation. Companies of that size are just not supposed to grow as quickly as they have. For years, pundits have been predicting that tech giants would eventually run up against the so-called “law of large numbers.” Yet Big Tech keeps breaking the law. </font><font style=\"background-color: #E1F8DC;\">What’s driving tech giants’ stupefying growth? It’s not just that the pandemic drove a lot more usage of tech. A bigger deal, I think, is that the pandemic illustrated how much room there still is in our lives for adding even more tech — for our screens to become the primary portal through which a handful of companies capture a slice of everything we do. </font><font style=\"background-color: #E1F8DC;\">Consider, for instance, Apple’s “services” business — a division that includes, among other things, its App Store, Apple Pay, iCloud and its music and TV subscription plans. Traditionally Apple has made a huge amount of money from selling hardware. But iPhone sales have gone up and down over the past half decade, which makes sense; eventually everyone who wants an iPhone will have an iPhone, and with each new iPhone only slightly better than the last, people will have fewer reasons to upgrade. Indeed, iPhone sales in Apple’s holiday quarter in 2021 grew by 9 percent over 2020 — solid, but nothing like the growth Apple once saw with the iPhone. </font><font style=\"background-color: #E1F8DC;\">And so Apple has increasingly turned to subscriptions and other online services for growth — essentially a way to grow not just by selling more iPhones, but by getting more money from each iPhone user. The plan is working spectacularly well. Apple reported that during 2020 its App Store billing and sales revenue grew by 24 percent over the previous year. Luca Maestri, Apple’s finance chief, told investors last month that the company now has 785 million paying subscribers to its various offerings — a number that grew by 165 million in the past year. For some perspective: Netflix has about 222 million subscribers in total. </font><font style=\"background-color: #E1F8DC;\">You see a similar trend across the industry — Big Tech’s not just getting more customers for its traditional businesses, but is expanding its ancillary businesses in ways that seem impossible. Amazon, for example, is not just an indomitable retailer and the largest cloud services provider (its Amazon Web Services cloud business now has a $71 billion annual revenue run rate). The company also disclosed that its advertising business generated $31 billion in revenue in 2021, while Microsoft said its ad revenue exceeded $10 billion. Remember that ads are, in the scheme of things, a small part of the business for both companies — Amazon’s $31 billion ad business is not even 10 percent of its annual revenue. And yet it dwarfs companies whose entire business is mainly ads — Snap, for example, which had $4 billion in revenue in 2021, or Pinterest, which sold less than $2.6 billion in ads. </font><font style=\"background-color: #E1F8DC;\">Dan Ives and John Katsingris, analysts at the investment firm Wedbush Securities, wrote in a recent report that what we are seeing now is only the beginning of a long-term explosion in tech earnings. They estimated that companies would spend a trillion dollars on cloud services over the coming years, meaning that there is a lot more room for tech companies to keep growing and growing and growing. Apple’s services business alone could be worth $1.5 trillion, Ives has estimated. He and other pundits have called the coming investment boom in tech the “Fourth Industrial Revolution.” </font><font style=\"background-color: #E1F8DC;\">That sounds grandiose. And yet it’s hard to see what stands in Big Tech’s way. Lawmakers and regulators have expressed alarm over tech behemoths’ market power, but with the midterm election looming and Republicans and Democrats still at odds over what exactly to do to curb tech giants’ power, the window for new antimonopoly policy might be shrinking. </font><font style=\"background-color: #FEF8DD;\">I wonder if a few years from now we’ll say that when it came to anticipating the future for Big Tech, we weren’t thinking big enough. </font><font style=\"background-color: #E1F8DC;\">Farhad wants to chat with readers on the phone. If you’re interested in talking to a New York Times columnist about anything that’s on your mind, please fill out this form. Farhad will select a few readers to call. </font><br/><br/><hr><br/><h2>Text</h2><br><font style=\"background-color: #E1F8DC;\">MUNICH — President Biden and his top aides acknowledge they are risking American credibility as they constantly renew the alarm that Russia is only “several days” away from triggering an unprovoked land war in Europe that could kill tens of thousands of Ukrainians in its opening hours, and plunge the world back into something resembling the Cold War. </font><font style=\"background-color: #D6CDEA;\">But Mr. Biden’s aides say they are willing to take that risk. </font><font style=\"background-color: #E1F8DC;\">They would rather be accused of hyperbole and fearmongering than be proven right, they say, if that’s what it takes to deter Russian President Vladimir V. Putin from pursuing an invasion that they worry will not stop at Ukraine’s borders. </font><font style=\"background-color: #E1F8DC;\">“If Russia doesn’t invade Ukraine, then we will be relieved that Russia changed course and proved our predictions wrong,’’ Secretary of State Antony J. Blinken said at the United Nations Security Council on Thursday morning, in a speech that Mr. Biden had asked him to give only hours before. “That would be a far better outcome than the course we are currently on. And we will gladly accept any criticism that anyone directs at us.’’ </font><font style=\"background-color: #E1F8DC;\">“I am here today not to start a war, but to prevent one,’’ he declared, an oblique reference to Colin L. Powell’s famous but false case, also made to the United Nations, about why the United States and its allies had to disarm Saddam Hussein. </font><font style=\"background-color: #E1F8DC;\">Mr. Biden and Mr. Blinken make no secret of their suspicion that their increasingly desperate-sounding, last-ditch efforts to deter calamity will likely fail. Their pessimism was reinforced Thursday by a series of escalations. Russian-backed forces in the Donbas region appeared responsible for shelling a school, and later claimed they had come under fire from Ukrainian forces, exactly the kind of incident Mr. Blinken warned might be used as a pretext to justify an invasion. </font><font style=\"background-color: #E1F8DC;\">Mr. Biden will hold a phone call Friday afternoon with trans-Atlantic leaders about Russia’s buildup of military troops on the border of Ukraine and continued efforts to pursue deterrence and diplomacy. </font><font style=\"background-color: #E1F8DC;\">Russia acknowledged on Thursday having expelled the No. 2 diplomat in the American embassy in Moscow, and sent Washington a contradictory-sounding note in which it mocked the claims that it was planning to invade. It said no such action was being planned, and then warned that it would use “measures of a “military-technical character” if the West did not meet its security demands with “legally binding guarantees.” (It is not entirely clear what “military-technical” means to Mr. Putin, but officials in Washington speculate it could encompass everything from cyberweapons to relocating nuclear weapons closer to Western Europe or the United States.) </font><font style=\"background-color: #E1F8DC;\">While Mr. Biden insisted that “every indication we have is they’re prepared to go into Ukraine,’’ a growing number of diplomats and leaders pouring into Munich for an annual security conference said they thought the best they could hope for was no invasion — but a long siege of Ukraine. Under that scenario, Mr. Putin might do everything short of sending his troops over the border — cyberattacks, assassinations, coup plots, cutting off trade — in hopes of toppling the government without triggering sanctions. </font><font style=\"background-color: #E1F8DC;\">“My sense is that he will avoid an overt cross of the border with Russian troops and will aim for options short of that,’’ Douglas Lute, a former deputy national security adviser and former U.S. ambassador to NATO, said Thursday. </font><font style=\"background-color: #E1F8DC;\">“He enjoys this position,’’ Mr. Lute said. “Everyone’s paying attention to him, like they haven’t in years. And he feels in control.” </font><font style=\"background-color: #E1F8DC;\">That is all taking place on the surface. Behind the scenes, Mr. Biden’s aides are searching Mr. Putin’s comments for evidence that he is sensing that he may have overplayed his hand — that his massing of troops has managed to unify the normally fractious 30 nations that make up the North Atlantic Treaty Organization.  </font><font style=\"background-color: #E1F8DC;\">Mr. Putin has reinvigorated an alliance that spent years confused about its purpose once it lost the adversary it was formed to contain, the Soviet Union. Now, containment is back. And European allies have largely, if reluctantly, lined up behind a sanctions plan that would cut off technology to Russian industry and separate its top banks from the world financial markets. </font><font style=\"background-color: #E1F8DC;\">While the Russian leader has worked hard to insulate his economy from the shock of sanctions — the government has a large war chest and little debt — Mr. Putin may well be looking for fissures to exploit without risking his economy. </font><font style=\"background-color: #E1F8DC;\">Mr. Biden continued on Thursday to take advantage of the fact that this is the first major geopolitical crisis to play out in a world of open-source intelligence — making it easier to call out Russian deceptions. </font><font style=\"background-color: #E1F8DC;\">Americans do not need the spy-plane photographs that John F. Kennedy showed them in 1962, when he exposed the Soviet missile buildup in Cuba as a way to force Russia’s leader, Nikita S. Khrushchev, into a secret deal. </font><font style=\"background-color: #E1F8DC;\">In this case, some of the best evidence is in the unclassified world. On television, news websites and Twitter, satellite photographs from private firms like Maxar help settle the debate about whether Mr. Putin is really sending some forces into retreat or whether, as the Americans claim, he is adding to the more than 150,000 troops that Mr. Biden said were massing on the border, along with tanks and a fearsome array of missiles. </font><font style=\"background-color: #FFE7C7;\">So there is no real debate about what is happening on Ukraine’s borders. The firepower is there to see, and that is part of Mr. Putin’s coercion strategy. The only remaining mystery is what Mr. Putin plans to do with them. At first, U.S. officials thought he planned to use them to intimidate Ukraine’s government, force it to abandon its ambitions to join NATO at some undetermined time in the future, and stop its drift toward the West. </font><font style=\"background-color: #E1F8DC;\">Then, after Mr. Putin issued a proposed “treaty’’ in December, it seemed he had a bigger plan: to evict the United States and NATO forces from former Soviet bloc nations that have joined NATO, and roll back the world order created after the Soviet collapse 31 years ago. Two weeks ago, the American assessment changed again: Mr. Putin, intelligence and military officials said, was aiming at Kyiv, the capital of Ukraine, after concluding that cyberattacks and subversion alone were unlikely to displace the government. Only a full-scale invasion would do that. </font><font style=\"background-color: #E1F8DC;\">So the Biden administration is trying to test Mr. Putin’s bottom line. If the issue can be resolved by negotiating a new arms control pact that addresses Mr. Putin’s concerns about two antimissile emplacements in Poland and Romania, or rules around military exercises held by Russia and NATO, then there is room for deal making, the two men have said. And they have said there is room to renegotiate the Minsk agreement, a set of commitments made by Ukraine and Russia after the annexation of Crimea. Those have been selectively ignored, on both sides. </font><font style=\"background-color: #D6CDEA;\">But it seems unlikely to longtime American officials and many of the European diplomats filtering into Munich that Mr. Putin has gone to all this expense and all this effort, and put his legacy on the line, just to paint inside the lines of the existing order. He wants to upturn it. </font><font style=\"background-color: #E1F8DC;\">Since Mr. Putin came to power 20 years ago, “Russia has been challenging that system,’’ Angela Stent, a Brookings Institution scholar and the former national intelligence officer for Russia and Eurasia, wrote recently in Foreign Affairs. “The current crisis is ultimately about Russia redrawing the post-Cold War map and seeking to reassert its influence over half of Europe, based on the claim that it is guaranteeing its own security.” </font><font style=\"background-color: #D6CDEA;\">That does not mean there is no way out. </font><font style=\"background-color: #E1F8DC;\">In the Cuban missile crisis, the closest the world came to nuclear annihilation during the Cold War, Mr. Khrushchev ultimately took his missiles home, in return for a secret promise — which Mr. Kennedy delivered on months later — to take American Jupiter missiles out of Turkey, where their nuclear warheads were in easy range of the Soviet Union. </font><font style=\"background-color: #E1F8DC;\">It is a historical example that has lingered in the background of Situation Room debates about how to negotiate with Mr. Putin, according to two participants, who described the debates on the condition of anonymity. When Mr. Blinken offered in his speech on Thursday to meet his Russian counterpart in Europe next week, and ultimately to put together “a summit of key leaders, in the context of de-escalation, to reach understandings on our mutual security concerns,’’ it was part of the search for a modern-day analogue. </font><font style=\"background-color: #E1F8DC;\">Mr. Biden is no stranger to such trade-offs. He is perhaps the last politician still serving in Washington who played a key role in the debates over how to resolve disputes over long-forgotten arms control treaties with the Soviets, called SALT I and SALT II. He has already noted, at a news conference in January, that Ukraine won’t be accepted into NATO for a long while, a signal to Moscow that there was room to deal. </font><font style=\"background-color: #E1F8DC;\">And there may be. But by next week, one senior administration official said late Thursday, it may be too late. </font><br/><br/><hr><br/><h2>Text</h2><br><font style=\"background-color: #FEF8DD;\">As Omicron wanes in the United States, hopes are reviving for a brighter year in travel. But the new variant has also substantially altered the landscape.  </font><font style=\"background-color: #E1F8DC;\">Our reporters explored some of the biggest travel trends to expect this year. Cities are back. Edu-vacations are a thing. And sexual wellness travel is on the rise.  </font><font style=\"background-color: #F7D8BA;\">Experts say that travelers are ready to “go big” in 2022 with bucket-list trips to far-flung destinations, after nearly two years of stagnation.  </font><font style=\"background-color: #ACDDDE;\">We want to hear from you: What’s in store for you and travel this year? Will you be going all out, or laying low? </font><font style=\"background-color: #E1F8DC;\">You can let us know by filling out this form below. We may include your response in an upcoming Travel Dispatch newsletter. </font><br/><br/><hr><br/><h2>Text</h2><br><font style=\"background-color: #E1F8DC;\">Dr. Jessi Gold, a psychiatrist at Washington University in St. Louis, knows she’s edging toward burnout when she wakes up, feels instantly angry at her email inbox and doesn’t want to get out of bed. It’s perhaps not surprising that a mental health professional who is trying to stem the rising tide of burnout could burn out sometimes, too. After all, the phenomenon has practically become ubiquitous in our culture. </font><font style=\"background-color: #E1F8DC;\">In a 2021 survey of 1,500 U.S. workers, more than half said they were feeling burned out as a result of their job demands, and a whopping 4.3 million Americans quit their jobs in December in what has come to be known as the “great resignation.” When people think of burnout, mental and emotional symptoms such as feelings of helplessness and cynicism often come to mind. But burnout can lead to physical symptoms as well, and experts say it can be wise to look out for the signs and take steps when you notice them. </font><font style=\"background-color: #E1F8DC;\">Burnout, as it is defined, is not a medical condition — it’s “a manifestation of chronic unmitigated stress,” explained Dr. Lotte Dyrbye, a physician scientist who studies burnout at the Mayo Clinic. The World Health Organization describes burnout as a workplace phenomenon characterized by feelings of exhaustion, cynicism and reduced efficacy. </font><font style=\"background-color: #E1F8DC;\">“You start not functioning as well, you’re missing deadlines, you’re frustrated, you’re maybe irritable with your colleagues,” said Jeanette M. Bennett, a researcher who studies the effects of stress on health at the University of North Carolina, Charlotte. </font><font style=\"background-color: #D6CDEA;\">But stress can have wear and tear effects on the body, especially when it doesn’t ease up after a while — so it makes sense that it can incite physical symptoms, too, Dr. Bennett said. When people are under stress, their bodies undergo changes that include making higher than normal levels of stress hormones such as cortisol, adrenaline, epinephrine and norepinephrine. These changes are helpful in the short term — they give us the energy to power through difficult situations — but over time, they start harming the body. </font><font style=\"background-color: #FEF8DD;\">Our bodies were “not designed for the kinds of stressors that we face today,” said Christina Maslach, a social psychologist at the University of California, Berkeley, who has spent her career studying burnout. </font><font style=\"background-color: #FEF8DD;\">Here’s how to recognize burnout in your body and what to do about it. </font><font style=\"background-color: #E1F8DC;\">One common burnout symptom is insomnia, Dr. Dyrbye said. When researchers in Italy surveyed frontline health care workers with burnout during the first peak of the pandemic, they found that 55 percent reported having difficulty falling asleep, while nearly 40 percent had nightmares. </font><font style=\"background-color: #E1F8DC;\">Research suggests that chronic stress interferes with the complicated neurological and hormonal system that regulates sleep. It’s a vicious cycle, because not sleeping throws this system even more out of whack. If you’ve noticed you’re unable to sleep at night, that could be a sign that you’re experiencing burnout, Dr. Dyrbye said — and your sleeplessness could exacerbate the problem. </font><font style=\"background-color: #E1F8DC;\">Physical exhaustion is another common sign. Dr. Gold said that one of her key symptoms of burnout was fatigue. “I realized I was sleeping every day after work — and I was like, ‘What is wrong with me?’ but it was actually burnout,” she said. </font><font style=\"background-color: #E1F8DC;\">Changes in eating habits — either eating more or less than usual — can also be a sign of burnout: In the study of Italian health care workers, 56 percent reported changes in food habits. People might eat less because they’re too busy or distracted, or they might find themselves craving “those comfort foods that we all like to go to when we need something to make us feel better,” Dr. Bennett said. Research suggests, too, that stress hormones can affect appetite, making people feel less hungry than usual when they’re under a lot of stress, and more hungry than usual when that stress alleviates. </font><font style=\"background-color: #E1F8DC;\">Headaches and stomachaches can also be incited by burnout, Dr. Gold said. One study of people in Sweden suffering from exhaustion disorder — a medical condition similar to burnout — found that 67 percent reported experiencing nausea, gas or indigestion, and that 65 percent had headaches. It’s also important to note that burnout can develop alongside depression or anxiety, both of which can cause physical symptoms. Depression can cause muscle aches, stomachaches, sleep issues and appetite changes. Anxiety is linked to headaches, nausea and shortness of breath. </font><font style=\"background-color: #E1F8DC;\">If you’re experiencing physical symptoms that could be indicative of burnout, consider seeing your primary care doctor or a mental health professional to determine whether they are driven by stress or rooted in other physical conditions, Dr. Dyrbye said. Don’t just ignore the symptoms and assume they don’t matter. </font><font style=\"background-color: #FEF8DD;\">“It’s really easy to blow off your own symptoms, especially in our culture, where we’re taught to work hard,” Dr. Gold said. </font><font style=\"background-color: #E1F8DC;\">If it is burnout, then the best solution is to address the root of the problem. Burnout is typically recognized when it is job-driven, but chronic stress can have a variety of causes — financial problems, relationship woes, and caregiving burdens, among other things. Think about “the pebbles in your shoe all the time that you have to deal with,” Dr. Maslach said, and brainstorm ways to remove some of them, at least some of the time. Perhaps you can ask your partner to help more with your toddler’s bedtime routine, or get take-out when you’re especially busy so you don’t have to plan dinner, too. </font><font style=\"background-color: #E1F8DC;\">Despite popular culture coverage of the issue, burnout can’t be “fixed” with better self care, Dr. Maslach said — in fact, this implication only worsens the problem, because it lays the blame and responsibility on those with burnout and implies that they should do more to feel better, which is not the case, she said. However, some lifestyle choices can make burnout less likely. Social support, for instance, can help, Dr. Gold said. This could include talking to a therapist or meeting with friends (even if over Zoom). It may also help to take advantage of mental health or exercise benefits offered by your employer. Sleeping more can help too — so if you’re suffering from insomnia, talk to a doctor about possible treatments, Dr. Bennett suggested. </font><font style=\"background-color: #E1F8DC;\">When burnout stems from job-related woes, it may help to request better working conditions. Dr. Maslach suggested brainstorming with co-workers and presenting your employer with ideas that would help — like providing quiet areas for breaks and personal phone calls, creating “no meeting” days so that employees can have more time to focus, or ensuring that there’s always coffee in the break room. Even small changes like these can make a dent in the risk for burnout if they fix a problem people face at work every day. “It’s the chronic job stressors that drive people really nuts after a while — they don’t have the right equipment, they don’t have the things they need, they don’t have enough people to do the work,” Dr. Maslach said. </font><font style=\"background-color: #E1F8DC;\">Taking time off work could also help, but it’s likely only a temporary Band-Aid, Dr. Gold said. She compares it to using a bucket to empty water out of a sinking ship. “It’s still sinking, right? You have to do more than just occasionally take the water out,” she said. Still, it is important to take time off regularly, Dr. Dyrbye said. </font><font style=\"background-color: #FFE7C7;\">Ultimately, you want to ensure you have some freedom and autonomy in your job, Dr. Gold said. “Anything you can do to regain an element of control can be really helpful,” she said. That could mean doing your least favorite work activity right before your break, so you have something to look forward to during the task and time to recover from it afterward. Or it could be trading a dreaded task with a co-worker and, in return, picking up their most hated task, which might not be so difficult for you. </font><font style=\"background-color: #E1F8DC;\">Finally, while you may not want to add more to your plate, try to make a bit of time each day for something you love, Dr. Dyrbye said. Her work has found that surgeons who make time for hobbies and recreation — even just 15 to 20 minutes a day — are less likely to experience burnout than surgeons who don’t. </font><font style=\"background-color: #E1F8DC;\">“You have to have something outside of work that helps you de-stress, that helps you focus and helps you relax,” she said. </font><br/><br/><hr><br/><h2>Text</h2><br><font style=\"background-color: #ACDDDE;\">The head of the California State University system, the largest four-year higher education system in the country, announced on Thursday that he was resigning, effective immediately. The chancellor, Joseph I. Castro, 55, did not give a specific reason for the decision, which came amid allegations that he had mishandled sexual harassment complaints against an administrator while he was the president of Fresno State University. </font><font style=\"background-color: #E1F8DC;\">“I have been honored to serve the California State University for more than eight years, including as its eighth chancellor, and the decision to resign is the most difficult of my professional life,” Dr. Castro said in a statement. </font><font style=\"background-color: #FFE7C7;\">“While I disagree with many aspects of recent media reports and the ensuing commentary, it has become clear to me that resigning at this time is necessary so that the C.S.U. can maintain its focus squarely on its educational mission and the impactful work yet to be done,” he added. </font><font style=\"background-color: #E1F8DC;\">Dr. Castro appeared to be referring to a USA Today investigation published on Feb. 3 that said he had repeatedly declined to discipline Frank R. Lamas, a former vice president for student affairs at Fresno State, despite complaints against him over six years involving sexual harassment, bullying and retaliation. </font><font style=\"background-color: #E1F8DC;\">USA Today reported that Dr. Castro knew of at least seven complaints, but that he nonetheless gave Dr. Lamas raises and positive performance evaluations and endorsed him for a lifetime achievement award. The report said Dr. Lamas reached a $260,000 settlement with the university that prohibited him from ever working in the C.S.U. system. </font><font style=\"background-color: #E1F8DC;\">On Feb. 3, C.S.U. released a statement quoting Dr. Castro as saying that he took the allegations seriously and apologized “to anyone in the Fresno State community who was impacted by Dr. Lamas’s behavior.” </font><font style=\"background-color: #E1F8DC;\">“Within four days of having a complaint that could be formally investigated, Dr. Lamas was removed from campus and never returned,” he said. He added in that statement that “we faced a series of administrative hurdles in making a change until we had a formal complaint that could be investigated.” </font><font style=\"background-color: #FEF8DD;\">The university said in an email on Friday that Dr. Castro would not be speaking to the media. </font><font style=\"background-color: #E1F8DC;\">On Friday, Dr. Lamas said in an emailed statement that there had been “anonymous” and “malicious and untrue allegations” against him after he started working at Fresno State in 2014, and that he left the university in 2019, agreeing to mediation. </font><font style=\"background-color: #FEF8DD;\">“I continue to maintain my innocence,” he said. </font><font style=\"background-color: #E1F8DC;\">The California State University board of trustees said on Thursday that it first learned in early February of the concerns about Dr. Castro’s response to allegations involving Dr. Lamas. The board “immediately began reviewing the matter,” and four days after the USA Today report, it announced that it would hold a closed session on Feb. 17. </font><font style=\"background-color: #FEF8DD;\">That day, Dr. Castro announced that he would resign. </font><font style=\"background-color: #E1F8DC;\">Dr. Castro was appointed the chancellor in September 2020 after serving as the president of the system’s Fresno campus since 2013. He was the first California native and the first Mexican American to be appointed to oversee the university. </font><font style=\"background-color: #FEF8DD;\">He told The New York Times in an interview after his appointment that he thought C.S.U. was “the most important institution in the United States because of the students that we serve,” who are “from all different backgrounds.” </font><font style=\"background-color: #FEF8DD;\">Education advocates and other leaders had said his perspective would reflect those of the students, of whom 43 percent identified as Hispanic or Latinx. </font><font style=\"background-color: #FFE7C7;\">In his resignation statement, Dr. Castro said: “As I know from my own lived experience, our state’s and nation’s diverse and talented young people — especially low-income and first-generation students — deserve access to the transformative power of higher education that so often can seem like an elusive dream.” </font><font style=\"background-color: #E1F8DC;\">The board said that it was developing a plan to replace Dr. Castro, but that the executive vice chancellor, Steve Relyea, would serve until an interim chancellor could be named for the system, which encompasses 23 campuses, 477,000 students, and 56,000 faculty and staff members. </font><font style=\"background-color: #FEF8DD;\">It said the trustees intended to pursue steps for a systemwide Title IX assessment, which prohibits sex discrimination in education programs that receive government funding. </font><br/><br/><hr><br/><h2>Text</h2><br><font style=\"background-color: #E1F8DC;\">A swell of police officers and heavy tow trucks closed in on the encampment of truckers on Friday after three weeks of demonstrations had roiled the capital and other parts of the country. </font><font style=\"background-color: #E1F8DC;\">Twenty-two days after a trucker convoy rumbled into Canada’s capital to protest pandemic restrictions, hundreds of police officers in downtown Ottawa moved in to arrest protesters Friday, hoping to end weeks of gridlock that have roiled the city, infuriated local residents and shaken the country. </font><font style=\"background-color: #E1F8DC;\">After a night of unusually heavy snowfall, rows of police officers in fluorescent jackets edged steadily toward protesters on Parliament Hill, backed by at least two armored vehicles and tactical officers armed with rifles and wearing helmets. </font><font style=\"background-color: #E1F8DC;\">By late afternoon, protesters were clashing with police officers in front of Canada’s Senate building. The Ottawa police said that some demonstrators had assaulted officers and had tried to remove their weapons. The police deployed crowd-dispersal spray against demonstrators, and officers on horseback were forcing the crowd back, leading to a rush of people trying to flee in a flood of panic. </font><font style=\"background-color: #E1F8DC;\">Images on Canadian television showed police officers dragging one recalcitrant protester on the snowy ground near a truck draped with a Canadian flag. </font><font style=\"background-color: #E1F8DC;\">At 4:45 p.m., after several hours of making arrests, the police cleared hundreds of protesters from a major intersection outside the Canadian Senate, where a truck blockade has been disrupting daily life. </font><font style=\"background-color: #E1F8DC;\">Earlier, B.J. Dichter, a spokesman for the truckers’ convoy, wrote on Twitter that it was time for protesters to leave, saying that the police had smashed the windows of one driver’s truck. </font><font style=\"background-color: #E1F8DC;\">Several heavy tow trucks whose license plates had been removed and whose company names were covered with Ottawa police stickers were towing protesters’ trucks away. The police said 21 vehicles had been towed. </font><font style=\"background-color: #E1F8DC;\">The Ottawa Police Service said that as of Friday evening, more than 100 people had been arrested on various charges, including “mischief,” a serious offense under Canada’s criminal law, which can carry a prison term of up to 10 years. </font><font style=\"background-color: #E1F8DC;\">Among those arrested on Thursday night was Tamara Lich, a leading activist, fund-raiser and singer who in the past has advocated the secession of Canada’s western provinces. She has become one of the main voices of the protest movement. </font><font style=\"background-color: #E1F8DC;\">The police mobilization comes after mounting criticism that law enforcement personnel have moved too slowly to end the protests, permitting protesters to taunt local residents for wearing masks, honk their horns in quiet residential neighborhoods and undermine local businesses. </font><font style=\"background-color: #E1F8DC;\">Law enforcement officers have created a perimeter with about 100 checkpoints in Ottawa’s downtown core to keep anyone but residents from entering.  </font><font style=\"background-color: #E1F8DC;\">There was a sense of anticipation across the trucker encampment as reports trickled in from their organizers via a text message chain that police cruisers had been seen massing outside the demonstration area. </font><font style=\"background-color: #E1F8DC;\">“They’re coming in,” said one man wearing a Canadian flag as a cape. “They’re going to corral us.” </font><font style=\"background-color: #E1F8DC;\">While it was proceeding cautiously, the police operation appeared to be the culmination of a tenacious protest that has reverberated around the world and has been a seminal moment in the history of Canadian civil disobedience and law enforcement. Prime Minister Justin Trudeau took the rare step this week of declaring a national public order emergency — the first such declaration in half a century — to end the protests. </font><font style=\"background-color: #E1F8DC;\">The logjam in the nation’s capital, the weekslong blockade of an Ontario bridge that is vital to automakers’ supply chains and the news media’s projection of all that onto the global stage have given the protests an outsize megaphone and impact. </font><font style=\"background-color: #E1F8DC;\">As the police move to clamp down on the protests, the so-called “Freedom Convoy” is likely to live on long after the last trucks depart — if only as a vivid template for how civil disobedience can be effective, in particular in a liberal democracy where the threshold for intervention by law enforcement personnel to stop demonstrations can be high. </font><font style=\"background-color: #E1F8DC;\">Much like Occupy Wall Street in 2011, the Canada convoys show that what seem like fringe political movements can gather force at a time of anxiety — and when the world’s cameras are pointed at them. Back then, the driving force was anger over endemic social inequality. These days it is a lethal global pandemic. </font><font style=\"background-color: #FEF8DD;\">In addition to Ms. Lich, Chris Barber, another main organizer, was also arrested on Thursday.  </font><font style=\"background-color: #E1F8DC;\">Ms. Lich, of Medicine Hat, Alberta, has emerged as the public face and the most visible leader of the trucker convoy. She is a former fitness instructor who has worked in the energy sector and has sung and played guitar in a band called Blind Monday.  </font><font style=\"background-color: #E1F8DC;\">The protests began weeks ago with a loosely organized group of truckers who objected to a requirement that they be vaccinated if they cross the U.S.-Canada border. They expanded into a broader movement opposed to an array of pandemic measures and to Mr. Trudeau generally. </font><font style=\"background-color: #E1F8DC;\">The image of Canadian police moving in and arresting protesters on Friday in the nation’s capital, backed by tactical officers wielding rifles, is a seminal moment in the history of Canadian law enforcement and civil disobedience. </font><font style=\"background-color: #E1F8DC;\">It is happening just days after Prime Minister Justin Trudeau took the rare step of declaring a national public order emergency, the first time the Canadian government has taken such action in half a century. </font><font style=\"background-color: #E1F8DC;\">Many of the powers enabled by Mr. Trudeau’s move on Monday had already been given to the police and authorities under a state of emergency enforced earlier by the province of Ontario. But the federal declaration extended them nationwide, and also enabled banks to freeze accounts of protesters and organizers — a step the government says is now underway. </font><font style=\"background-color: #FEF8DD;\">The declaration also gave the government the power to restrict mobility, allowing Ottawa’s police to effectively seal off the city’s downtown core to residents and people who work in the area. </font><font style=\"background-color: #E1F8DC;\">Under the act, police services across the country have the power to seize trucks and other vehicles used in the protests. Demonstrations that “go beyond lawful protest” can be banned, the prime minister said this week. But Mr. Trudeau and members of his cabinet offered repeated assurance that the act would not be used to suspend “fundamental rights.” </font><font style=\"background-color: #E1F8DC;\">Mr. Trudeau’s extraordinary response brought back memories of October 1970 and a tumultuous period known as the October Crisis, when Prime Minister Pierre Elliott Trudeau — Justin Trudeau’s father — quashed a wave of terrorism by a violent Quebec separatist group by invoking the War Measures Act, and then sending in troops to Montreal. It was the only time in Canadian history that the war act was applied in peacetime. </font><font style=\"background-color: #E1F8DC;\">The Emergencies Act was introduced in July 1988 to replace the war act. Mr. Trudeau has said that he would not use his authority under the declaration to deploy the military against the protesters. </font><font style=\"background-color: #E1F8DC;\">As pop music played from a truck parked in front of the Canada’s Senate building, police officers surrounded the small offshoot encampment on both sides. At one point, “Let’s Get it On” by Marvin Gaye echoed through the streets. </font><font style=\"background-color: #E1F8DC;\">In olive green riot gear, the police cleared a line through the trucks, having already removed demonstrators from a number of the vehicles. On the other side of the knot of trucks, roughly 40 police officers in red-knit caps began to march down Rideau Street, in Ottawa’s city center, joining others on another side and filling out their ranks with more officers as trucks revved their engines. </font><font style=\"background-color: #E1F8DC;\">In front of Parliament, many members of the main protest group dashed over to watch the slow-moving advance of police officers toward an intersection blocked by other demonstrators and trucks to the east. Protesters swiftly retreated as officers, half a block away, stepped forward. </font><font style=\"background-color: #E1F8DC;\">“They’re coming in,” said one man wearing a Canadian flag as a cape. “They’re going to corral us.” </font><font style=\"background-color: #FEF8DD;\">The truckers who remained, many of whom have been holding out for weeks, began to grow weary on Friday as the police closed in on them. </font><font style=\"background-color: #E1F8DC;\">Mike Marsh, 48, doesn’t want to leave, but he knows what’s coming. “We can’t stop them,” he said, nodding toward the direction of the police formation heading toward the stronghold of protesters still camped out near Parliament. “All we can do is slow them down.” </font><font style=\"background-color: #E1F8DC;\">Mr. Marsh hasn’t been a commercial truck driver since getting in an accident two years ago, he said. Now he’s looking for a truck to sleep in tonight to avoid areas now occupied by law enforcement. </font><font style=\"background-color: #E1F8DC;\">Wearing an umbrella hat emblazoned with the Canadian flag, Mr. Marsh said he couldn’t see a future for himself if the truckers have to back down. </font><font style=\"background-color: #FEF8DD;\">“If we lose this fight I’m driving straight to Florida,” he said, “because there is no home here for me any more.” </font><font style=\"background-color: #FEF8DD;\">For residents of Ottawa, the clampdown comes as a welcome reprieve after weeks of what many have called an inadequate response from law enforcement to the occupation. </font><font style=\"background-color: #E1F8DC;\">Kathryn Moore, who works in administration at the University of Ottawa, lives west of downtown, close enough that when the wind blew the right way, she could smell diesel fumes and hear horns blaring. </font><font style=\"background-color: #E1F8DC;\">Since the protests began, Ms. Moore said she hasn’t felt comfortable going to her office. “I headed in a couple times and just turned around,” she said, adding, “I feel relief that this is finally happening.” </font><font style=\"background-color: #E1F8DC;\">Children scampered gleefully outside in the cold on Thursday, playing street hockey among the growling trucks occupying Parliament Hill and jumping on bouncy castles inflated for their entertainment. </font><font style=\"background-color: #E1F8DC;\">Some were the sons and daughters of the truckers who have been camped here for nearly three weeks. Others were brought by their parents in a show of support for the convoy. </font><font style=\"background-color: #E1F8DC;\">On Wednesday, Ottawa police officers went truck to truck handing out a notice telling demonstrators they were breaking the law and faced arrest. It warned that anyone taking a minor to an unlawful protest could be fined up to 5,000 Canadian dollars “and/or potentially spend up to five years in prison.” </font><font style=\"background-color: #E1F8DC;\">Outside Parliament with his son and two daughters on Thursday, wearing “Make America Great Again” baseball caps, Baret McAuley, a retired oil field company manager, said the notice did not change his plans to protest with his children, Emily, 17, and Ryan and Sarah, both 12. They had driven more than 1,700 miles from Moose Jaw, Saskatchewan, a 30-hour trip. </font><font style=\"background-color: #FEF8DD;\">“I don’t believe that any person with a soul will take away my children,” said Mr. McAuley, 47. </font><font style=\"background-color: #E1F8DC;\">A woman, who requested anonymity because she feared the consequences of violating the police order, said she arrived at the protest that morning with her young child, only to learn en route about the possible risk. They stood waiting on the street for a ride back home, she said, unwilling to take any chances. </font><font style=\"background-color: #E1F8DC;\">Irwin Elman, who formerly served as Ontario’s child and youth advocate, sharply criticized protesting parents who planned to remain there with children. “To stay there and not exercise a parent’s duty of care to their children, and put their own rights ahead of the rights of their children, it’s unforgivable and selfish,” he said. </font><font style=\"background-color: #E1F8DC;\">Last week, police said children were present in about 25 percent of the heavy trucks at the protest. As the police appeared to be bracing on Thursday to remove the protesters, there were fewer minors among the trucks. </font><font style=\"background-color: #E1F8DC;\">Interim Ottawa police chief Steve Bell said in a statement Wednesday that police will be working with the Children’s Aid Society and have “a plan” to keep young people safe in the event of their caregivers’ arrest. He did not elaborate. </font><font style=\"background-color: #E1F8DC;\">In a statement, the Children’s Aid Society of Ottawa on Wednesday urged parents to make child care arrangements should they be arrested. If children and parents are separated due to law enforcement action, the organization said, it will “work to reunite families as soon as possible.” </font><font style=\"background-color: #E1F8DC;\">Surrounded by five of his eight children, Daryl Sheppard, a teacher from North Bay, Ontario, 220 miles northwest of Ottawa, walked through the protest on Thursday holding an anti-vaccination sign. Mr. Sheppard, 41, said he and his children would remain in Ottawa, in defiance of the emergency orders. </font><font style=\"background-color: #FEF8DD;\">“I’m not really concerned with laws that infringe on my rights as a citizen, my right to bear witness,” he said. </font><font style=\"background-color: #E1F8DC;\">There are plenty of coronavirus deniers and conspiracy theorists among the trucks in downtown Ottawa, but Mike Johnson doesn’t count himself among them. </font><font style=\"background-color: #E1F8DC;\">Mr. Johnson, 53, said Thursday he wasn’t even particularly concerned about government mandates or vaccine passports until his son urged him to drive to the nation’s capital to protest against them a few weeks ago. </font><font style=\"background-color: #D6CDEA;\">But now his fire engine red truck, the only thing of significant value he owns, is parked right outside Canada’s Parliament — and Mr. Johnson says he’s prepared for the police to seize it and to forsake his livelihood to defend the cause. </font><font style=\"background-color: #E1F8DC;\">“When we turned our headlights toward Ottawa, I don’t think any of us knew what we were driving into,” said Mr. Johnson, a trucker from Niagara, Ontario. “I didn’t realize how bad it was until I got here.” </font><font style=\"background-color: #E1F8DC;\">Some among the protesters have links to far-right parties whose support is so low that they hold no seats in the federal Parliament. Mr. Johnson said that he supports one such party, the People’s Party of Canada, whose leader has railed against multiculturalism, immigration and climate change “hysteria.” </font><font style=\"background-color: #E1F8DC;\">The logjam in the nation’s capital, the weekslong blockade of an Ontario bridge that is vital to automakers’ supply chains and the media projection of all that onto the global stage have given the protests an outsized megaphone and impact. </font><font style=\"background-color: #E1F8DC;\">As the police clamp down on the protests, the so-called “Freedom Convoy” will likely live on long after the last trucks depart — if only as a vivid template of how civil disobedience can be effective, in particular in a liberal democracy where the threshold for law enforcement intervening to stop demonstrations can be high. </font><font style=\"background-color: #E1F8DC;\">Much like Occupy Wall Street in 2011, the Canada convoys show that what seem like fringe political movements can gather force at a time of anxiety — and when the world’s cameras are pointed at them. Back then, the driving force was anger over endemic social inequality. These days it is a lethal global pandemic. </font><font style=\"background-color: #E1F8DC;\">Mr. Johnson never got vaccinated and didn’t have to — hauling scrap metal around northern Ontario doesn’t require border crossing. He said he believes the coronavirus is real and when people have knocked on the door of his cab to talk about conspiracy theories he refuses to engage. </font><font style=\"background-color: #FEF8DD;\">“That’s not why I’m here,” he said. “It’s a distraction.” </font><font style=\"background-color: #E1F8DC;\">During the occupation, his centrally located truck became a kind of command station for anyone who needed a break from the bitter cold or a place to charge a phone. The throngs of people who stopped by have moved Mr. Johnson with stories of losing their work because they don’t want to get vaccinated. </font><font style=\"background-color: #FEF8DD;\">Mr. Johnson believes that even once the police arrive in force, the truckers will have made a lasting mark on the country by drawing attention to their demands. </font><font style=\"background-color: #E1F8DC;\">“This has already been a positive accomplishment,” he said, eyeing the police car parked on the lawn of the Parliament building. “Regardless of what happens.” </font><font style=\"background-color: #E1F8DC;\">Canada has employed strict restrictions in its efforts to fight the coronavirus pandemic. But unlike in the United States, such measures have received very little pushback or politicization. </font><font style=\"background-color: #D6CDEA;\">However, a month ago, a law was passed requiring truckers who cross the border into the United States to be vaccinated, threatening the livelihoods of unvaccinated truckers. </font><font style=\"background-color: #E1F8DC;\">So a group of them, along with other organizations, assembled a convoy and drove across Canada toward the capital, Ottawa, in protest. </font><font style=\"background-color: #E1F8DC;\">The demonstration, which many thought would last only a few days, has turned into a noisy, three-week occupation and has led Prime Minister Justin Trudeau to declare a state of national emergency. </font><font style=\"background-color: #FEF8DD;\">“The Daily” explores how Canada got to this point, and what the protest is like on the ground. </font><font style=\"background-color: #E1F8DC;\">She is a former fitness instructor who has sung and played guitar in a band called “Blind Monday” in Medicine Hat, Alberta. She was a senior member of a splinter party that advocated for Canada’s Western provinces to secede from the country. </font><font style=\"background-color: #E1F8DC;\">And now Tamara Lich, 47, has emerged as the public face and the most visible leader of the trucker convoy against pandemic restrictions that has roiled the nation’s capital, shaken the country and prompted Prime Minister Justin Trudeau to take the drastic step of declaring a national public order emergency. </font><font style=\"background-color: #E1F8DC;\">That visibility rose on Thursday night when Ms. Lich was arrested in Ottawa. She faced one charge for “counselling to commit the offence of mischief,” the Ottawa police said in a statement on Friday, and was due in court on Friday. </font><font style=\"background-color: #E1F8DC;\">Ms. Lich speaks publicly in measured tones, and has become adept at deploying social media — and her Twitter feed — to amplify the protesters’ grievances. </font><font style=\"background-color: #E1F8DC;\">At a news conference in the Sheraton Ottawa Hotel on Monday, opened to media other than solely conservative-leaning news outlets for one of the first times, there was an air of gravitas in a room that echoed with the constant coughing of dozens of maskless supporters. </font><font style=\"background-color: #E1F8DC;\">Wearing or not wearing a mask has become a potent political statement during the protests and some Ottawa residents have complained of being taunted by protesters. </font><font style=\"background-color: #E1F8DC;\">“Some of you might oppose our grievances,” Ms. Lich said to the television cameras. Like other members of the movement, she does not wear a mask. “However, democratic society will always have non-trivial disagreements, and righteous dissidents,” she added. </font><font style=\"background-color: #E1F8DC;\">What message discipline exists in the protest movement has come from Ms. Lich, said Jay Hill, the interim leader of the Maverick Party, a small right-of-center group based out of Calgary, Alberta, created to promote the separation of Canada’s three western Prairie Provinces from the rest of the country. Ms. Lich, who worked previously in the energy sector, has deep ties to the group. </font><font style=\"background-color: #E1F8DC;\">Even before the convoy assembled, its messaging was Ms. Lich’s preoccupation, according to Mr. Hill, who said she called him several times even before arriving in Ottawa to strategize. </font><font style=\"background-color: #E1F8DC;\">“We had a number of discussions about staying on message, about the need in this modern-day world of politics to have a very clearly defined message that is understandable and simple, a message that people can grasp hold of and run with,” he said. “Tamara clearly understands that.” </font><font style=\"background-color: #E1F8DC;\">Ms. Lich played a leading role in organizing a GoFundMe campaign for the protests that raised $7.8 million before the crowdfunding site shut it down after receiving “police reports of violence and other unlawful activity,” GoFundMe said. </font><font style=\"background-color: #E1F8DC;\">B.J. Dichter, an official spokesman for the convoy, said he joined the effort after Ms. Lich sought help managing the swell of donations flowing into a GoFundMe page. Mr. Dichter has a history of spouting anti-Islamist views and once said that “political Islam” is “rotting away at our society like syphilis.” He has rejected claims of racism. </font><font style=\"background-color: #FEF8DD;\">Within the occupiers’ tightly managed ground operations, there are military hallmarks, outlined and executed by the several higher-ups who have backgrounds in the armed forces and law enforcement, according to leading members of the group. </font><font style=\"background-color: #E1F8DC;\">Their organization includes oversight of each occupied street by a so-called road captain, with sections divided and overseen by block captains who operate below them. </font><font style=\"background-color: #E1F8DC;\">Before becoming a prominent face of the protests, Ms. Lich was a personal trainer in Medicine Hat, a town once dubbed “Hell’s Basement” by Rudyard Kipling for its location on top of a huge natural gas field. </font><font style=\"background-color: #E1F8DC;\">Zach Smithson, an employee at Body Building Depot Fitness Emporium, where Ms. Lich used to work, said she has become the talk of the town. </font><font style=\"background-color: #FEF8DD;\">“I think we are all very proud of her,” he said. </font><font style=\"background-color: #FEF8DD;\">Ms. Lich did not respond to a call and text message requesting an interview. </font><font style=\"background-color: #E1F8DC;\">With police forces swelling in the area Friday morning, and tow trucks and other heavy equipment poised to move against them, the protesting truck drivers who have occupied downtown Ottawa for weeks were on alert on Friday for imminent police action. </font><font style=\"background-color: #E1F8DC;\">Like truckers who had mounted blockades in other parts of Canada, they expressed defiance and the intent to hold firm against any effort to disperse them. But the defiance melted away at the other protest sites as law enforcement moved in, and the big question on Friday was whether the same would happen in Ottawa. </font><font style=\"background-color: #E1F8DC;\">Around noon, a spokesman for the protesters, B.J. Dichter, tweeted that “It’s time to leave. @OttawaPolice please allow the remaining trucks to leave in #Peace.” </font><font style=\"background-color: #FEF8DD;\">An hour later, it was unclear how quickly, or if at all, Mr. Dichter’s message would spread or how influential it would be.  </font><font style=\"background-color: #E1F8DC;\">Some protesters said they have been hearing from friends and family members, begging them to leave. Some of them have no way to leave. They are physically backed into one another, and some of them have let air out of their tires or bled their brake lines. </font><font style=\"background-color: #E1F8DC;\">On Thursday, Samantha Dougherty, 32, a protest supporter, patrolled the area around a truck facing Parliament. Inside the truck was her new friend, Lenny Frey, she said, who had been parked there for 20 days and had no intention of leaving. </font><font style=\"background-color: #E1F8DC;\">“Nobody is allowed within 6 feet of this truck,” said Ms. Dougherty, a blow horn in one hand and a cigarette in the other. “This truck is not moving, over my dead body.”  </font><font style=\"background-color: #E1F8DC;\">Any police response would be an overreaction, said another protester, Mark Fenson, 55, who said he was a drug and alcohol counselor from Petersburg, Ontario, and had spent the last 22 months attending anti-vaccine and anti-lockdown protests. Pointing toward the encampment on Thursday, which at times has included recreation activities for children, he said a clampdown would be “going a little far for a bunch of bouncy castles.” </font><font style=\"background-color: #E1F8DC;\">Still, Mr. Fenson said he would allow himself to be arrested, although he felt Prime Minister Justin Trudeau and the police were unfairly targeting the protesters. He said he believed that the official forces were acting on behalf of global elites trying to enforce a new world order. “I’m not about to fight against them,” he said. “I’ll deal with them in court.” </font><br/><br/><hr><br/><h2>Text</h2><br><font style=\"background-color: #FEF8DD;\">Creative jazz at its best is a music of discovery: improvisers caught up together in a moment that’s passing even as they conjure it, with the next already materializing between them. </font><font style=\"background-color: #FEF8DD;\">The jazz business, meanwhile, is often about rediscovery, as newly issued recordings from canonized greats frequently outsell and out-stream the releases of contemporary musicians, even those certain to be canonized themselves someday. </font><font style=\"background-color: #E1F8DC;\">This Tuesday’s digital-only arrival of a mostly lost concert from the innovative pianist Cecil Taylor exemplifies both points. Recorded at the Town Hall in New York on Nov. 4, 1973, the music gushes as if it were an uncapped fireplug. Previously unreleased, the relentless 88-minute track “Autumn/Parade” catches the inexhaustible Cecil Taylor Unit in the grip of one revelation after another, playing free jazz, a style of improvisation, in the purest definition of free. </font><font style=\"background-color: #E1F8DC;\">Unburdened by the boundaries of keys, structures, time signatures and the dictates of each piece’s composer, Taylor, Andrew Cyrille (percussion), Jimmy Lyons (alto saxophone), and Sirone (bass) formed an organic whole, making — discovering — one torrent of sound together. </font><font style=\"background-color: #E1F8DC;\">“He never told me what to play,” Cyrille, now 82, said of Taylor last week. “He would say, ‘Play what you hear. Play what you want.’” </font><font style=\"background-color: #E1F8DC;\">Or, as Cyrille put it at a 2020 Village Vanguard performance, such in-the-moment musical freedom is “playing life.” </font><font style=\"background-color: #E1F8DC;\">Free jazz liberated rhythm sections from the traditional role of keeping time in favor of making sound, as Cyrille does throughout “Autumn/Parade.” Taylor, who died in 2018, famously hit his keys with a percussionist’s force, and for all the considerable harmonic excitement of his runs, what’s most immediately striking on the new release is the Unit’s restless, driving polyrhythms, pulsing clots of tones and beats. </font><font style=\"background-color: #E1F8DC;\">“No other pianist I know plays with such physicality at the piano,” Kris Davis, a singular improvising pianist and composer in her own right, said in an interview. “Every idea, whether gestural, melodic or harmonic, is expressed through rhythm.” </font><font style=\"background-color: #E1F8DC;\">Davis noted that Taylor’s technique of composing fragments of notes in “cells” that he then would “develop, expand and turn upside down” at times appealed more to classical musicians than to jazz musicians, though today his influence is heard widely among improvising pianists. (She cited an expansive list, among them Marilyn Crispell, Jason Moran, Craig Taborn, Myra Melford, Alexander Hawkins, Angelica Sanchez and Vijay Iyer.) </font><font style=\"background-color: #E1F8DC;\">But on the nightclub scene of the ’60s and ’70s, genius didn’t always mean drink sales, and being in the vanguard of a new approach meant it could be a challenge finding suitable collaborators. Oblivion, the label putting out this release, has called it “The Return Concert” because in ’73, Taylor, then 44, had been mostly absent from recording and being in the New York scene for five years as he pioneered another aspect of avant-garde jazz life: turning to academia. (He taught at Antioch College and the University of Wisconsin, not without controversy.) </font><font style=\"background-color: #E1F8DC;\">The taping of the Town Hall concert was another feat of improvisation. Taylor had recorded significant LPs (“Conquistador!,” “Unit Structures”) for Blue Note in the late 1960s, but, at this point, was independent. Planning a release for Taylor’s nascent Unit Core label, his sort-of manager, David Laura, turned to an unlikely source: a Columbia student, Fred Seibert, who had recorded concerts for the university radio station and released several blues LPs on the independent Oblivion label with cohorts from a Long Island record store. </font><font style=\"background-color: #E1F8DC;\">With borrowed equipment and much youthful confidence, Seibert took the gig — and faced a torrent of music. “I felt like I was under Niagara Falls with every sound coming at me from 360 degrees and fighting for space in my head,” said Seibert, who would go on to engineer and produce records for Muse Records before leaving the music industry at the dawn of the 1980s for Hollywood, where he became a storied producer of animated television. (Series launched under his aegis include “Dexter’s Laboratory,” “Powerpuff Girls” and “Adventure Time.”) </font><font style=\"background-color: #E1F8DC;\">For Taylor, “free” also meant freedom from the restraints of the commercial music industry. Releasing the first set would have demanded making a double LP and fading down the music at the end of each side, which Seibert considered contrary to its spirit. A shorter second set proved a better fit: Split between a 16-minute solo Taylor piece and a side-length band workout, the encore performance had a limited 1974 release as “Spring of Two Blue J’s.” One of the 2,000 copies made it to the critic Gary Giddins at The Village Voice; he called it “probably my favorite album made in the last year.” </font><font style=\"background-color: #E1F8DC;\">The other 88 minutes of music remained on Seibert’s tapes, though he always hoped to put them out in the world. Now, taking advantage of digital music’s lack of physical limitations, he’s unleashing “The Complete, Legendary, Live Return Concert” on the newly reconstituted Oblivion Records. Seibert’s conviction not to fade or shorten the first set, “April/Parade,” and his disinterest in taking on the hassle of traditional distribution has led him to rule out the deluxe CD or vinyl package that such rediscoveries typically enjoy. </font><font style=\"background-color: #E1F8DC;\">Critics and fans often view jazz history as a succession of giants making artistic breakthroughs, as the music itself changes in their wake. That accounts for some of the trepidation and revulsion that, decades ago, some critics expressed toward free jazz in general and Taylor in particular — was this the direction it all would go? It perhaps also explains the tendency of some of Taylor’s champions to emphasize what was new in his music (especially techniques inspired by classical composition) to the detriment of its roots in Black American jazz. </font><font style=\"background-color: #E1F8DC;\">“He didn’t just come out of the blue and say, ‘I’m Cecil Taylor. I’m doing what I do, and it’s always been this,’” Cyrille said. “He learned from a lot of other people. He played with Johnny Hodges and Hot Lips Page. He observed Thelonious Monk. Now, the concepts were different, but all of those musicians before him played who they were, too — they played their freedom.” </font><font style=\"background-color: #E1F8DC;\">Almost 50 years after that Town Hall concert, Cyrille is still doing the same. At Dizzy’s Club on Feb. 5, his longstanding group Trio 3 — with the bassist Reggie Workman and the alto saxophonist Oliver Lake — played its last-ever concerts, with guest appearances from Iyer and the altoist Bruce Williams. Cyrille, though, will continue playing live and recording, and he has performances scheduled at the Big Ears Festival in Knoxville, Tenn., in March. </font><font style=\"background-color: #E1F8DC;\">Cyrille calls playing “therapeutic” and refers to the music he has made with Taylor and so many others throughout a 60-plus year career as “democratic.” Whether in the ’70s with Taylor or with his own groups today, “It’s about self expression,” he said, “and the spiritual signature of the players.” </font><font style=\"background-color: #E1F8DC;\">He recalled the Taylor of the Town Hall era, hearing the other players’ discoveries, which then fed his own. “Whatever the rest of us played, he used it,” he said. “He absorbed music. And in his playing, you hear how he would deal with it as it entered his body, and how he felt about what was being offered to him. It all came out through the piano.” </font><br/><br/><hr><br/><h2>Text</h2><br><font style=\"background-color: #E1F8DC;\">Last summer the vast majority of American families with children saw money appear in their bank accounts without doing anything at all. Thanks to legislation passed by Democrats earlier in the year, an expanded Child Tax Credit automatically sent out $300 each month through the rest of the year for every child under 6 and $250 for older ones to people who regularly file taxes. It showcased what government can do when it works at its most efficient: seamlessly deliver meaningful benefits without requiring people to take much, or really any, action. </font><font style=\"background-color: #E1F8DC;\">But for the roughly 2.3 million children whose families hadn’t recently filed income taxes, the Child Tax Credit showcased all the worst instincts of governmental bureaucracy. The I.R.S. needed to know how many children they had, how much they earned and where they lived in order to send these families their money. Other government agencies probably had at least some of that data. But at first the I.R.S. wanted to make this group of people file tax returns instead of hunting down the information itself. It was eventually swayed to track it down, and yet when it started a portal for anyone it didn’t find, the form didn’t work on a cellphone, was available only in English, required an email address and came with densely written instructions. </font><font style=\"background-color: #E1F8DC;\">The expanded Child Tax Credit payments substantially reduced hardship, lowering the monthly child poverty rate by 30 percent, which meant 3.7 million fewer children lived in poverty in December — one of the most significant reductions in child poverty in generations — after which the payments stopped, thanks to congressional inaction. But it had been projected to cut child poverty in half. To achieve that goal, it would have had to successfully reach all the parents who were owed a payment. </font><font style=\"background-color: #E1F8DC;\">The excitement around policymaking is almost always in the moments after ink dries on a bill creating something new. But if a benefit fails to reach the people it’s designed for, it may as well not exist at all. Making government benefits more accessible and efficient doesn’t usually get the spotlight. But it’s often the difference between a family getting what it needs to survive and falling into hardship and destitution. It’s the glue of our democracy. </font><font style=\"background-color: #E1F8DC;\">President Biden appears to have taken note of this. Late last year, he issued an executive order meant to improve the “customer experience and service delivery” of the entire federal government. He put forward some ideas, including moving Social Security benefit claims and passport renewals online, reducing paperwork for student loan forgiveness and certifying low-income people for all the assistance they qualify for at once, rather than making them seek out benefits program by program. More important, he shifted the focus of government toward whether or not the customers — that’s us — are having a good experience getting what we deserve. </font><font style=\"background-color: #FEF8DD;\">It’s a direction all lawmakers, from the federal level down to counties and cities, should follow. </font><font style=\"background-color: #E1F8DC;\">One of the biggest barriers to government benefits is all of the red tape to untangle, particularly for programs that serve low-income people. They were the ones wrangling with the I.R.S.’s nonfiler portal while others got their payments automatically. Benefits delivered through the tax code, which flow so easily that many people don’t think of them as government benefits at all, mostly help the already well-off. Programs for the poor, on the other hand, tend to be bloated with barriers like income tests, work requirements and in-person interviews. It’s not just about applying once, either; many require people to continually recertify, going through the process over and over again. </font><font style=\"background-color: #E1F8DC;\">The hassle doesn’t just cost time and effort. It comes with a psychological cost. “You get mad at the D.M.V. because it takes hours to do something that should only take minutes,” Pamela Herd, a sociologist at Georgetown, said. “These kind of stresses can be really large when you’re talking about people who are on a knife’s edge in terms of their ability to pay their rent or feed their children.” </font><font style=\"background-color: #E1F8DC;\">The barriers are terrible because they separate people from the help they desperately need and are technically owed. But the trouble runs deeper. “If you have negative interactions with the government, you’re going to think negatively about the government and the government’s capacity to actually meet broader social needs,” Dr. Herd said. </font><font style=\"background-color: #E1F8DC;\">Why would Americans believe politicians who say they’ll create new ways to help them if past promises ended in frustration and empty hands? That distrust, in turn, weakens our democracy, the notion that we elect people to lead us who will listen to us and improve our lives. </font><font style=\"background-color: #E1F8DC;\">“Every interaction that a person has with their government, whether that’s a traffic stop or going to the D.M.V. or getting access to SNAP — that’s where democracy is happening,” Elizabeth Linos, a behavioral economist at the University of California, Berkeley, told me. “If we get all of those small interactions right, then we have created a society where the government is responsive to its citizens, and citizens trust that it will deliver when it says it’ll deliver.” </font><font style=\"background-color: #E1F8DC;\">Mr. Biden’s executive order notes that it is about both getting people what they need and proving that “democracy still works.” And yet it’s clear his administration has only partly learned its own lessons. Just look at its two approaches to free at-home Covid tests. All Americans can go to a Postal Service website, enter their addresses, and sign up in minutes to receive four free tests per household. </font><font style=\"background-color: #E1F8DC;\">But when a household runs out of its four free tests, its members have to wrangle with the other option the administration has set up. Insurers have been ordered to cover eight tests per month free. That of course leaves out the 27.4 million people without insurance. Even if you have it, if you don’t buy the tests at your insurer’s preferred pharmacy you have to pay up front, hold on to your receipt and maybe even the test box, and submit a claim for reimbursement, then fight to get it processed. </font><font style=\"background-color: #E1F8DC;\">There are trade-offs, given which goals are prioritized. Is it most important to reduce the use of government resources? Is it most important to keep the supposedly undeserving from sneaking in? Or is the goal to ensure that as many people who are eligible get the benefits they deserve as soon as possible? </font><font style=\"background-color: #E1F8DC;\">It used to be that experts believed those who needed help the most would work the hardest to get it, overcoming any barriers thrown in their way. But that isn’t true. Work requirements, for example, have mostly kept people off welfare and further impoverished them, and when briefly instituted in Arkansas’s Medicaid program, a work requirement kicked people off — many of whom actually qualified — without increasing how many worked. </font><font style=\"background-color: #E1F8DC;\">“The pandemic gave us an opportunity to rethink whether or not all of those hurdles were necessary,” Dr. Linos said. More people were made eligible for unemployment insurance. Stimulus checks were sent to most Americans with no strings attached. Rental assistance rules were loosened to get the money flowing faster. </font><font style=\"background-color: #E1F8DC;\">The organization Code for America has long been focused on how to make it easier for people to get the benefits they’re eligible for. So when Democrats expanded Child Tax Credit payments, it built a simple site for nonfilers to claim them. The site sought only information the I.R.S. wasn’t able to get itself, like bank account details, and didn’t require people to track down a bunch of documents. The questions were simplified. It was available in Spanish as well as English. Families were able to fill out the form in 10 to 15 minutes, and virtually all of them didn’t need help. More than 115,000 households used the website to claim $438 million in less than three months, about a quarter of whom had never filed taxes before. </font><font style=\"background-color: #FFE7C7;\">Ultimately, the smartest thing isn’t to create better portals for each and every benefit. “How do we get them to do one-stop shopping?” asked Nina Olson, the executive director of the Center for Taxpayer Rights. Instead of the government offering a navigator for Affordable Care Act coverage and a case worker to get housing assistance and I.R.S. outreach workers for Child Tax Credit payments, there could be a single place to sign up for everything at once. </font><font style=\"background-color: #E1F8DC;\">That’s just what Code for America helped set up in Minnesota. It worked with the state to create a new, simplified website where residents can apply for nine programs at once — including food stamps, child care subsidies and housing assistance — that has reduced the time involved from over an hour to less than 12 minutes. It works on a mobile phone, is available in Spanish, makes uploading documents easier, and doesn’t require a log-in. The questions it asks are in clear language and redundant ones are eliminated. Ninety-four percent of people using the new site say they had a positive experience. The organization plans to work with a number of other states to do something similar in the next few years. </font><font style=\"background-color: #E1F8DC;\">The simpler the requirements of a program — making it universal so that people don’t have to verify their incomes over and over, say — the fewer hurdles people will have to clear. When programs must include eligibility requirements, more of the burden of deciphering whether each person meets them should be placed on the government instead of the individual. Social Security, for example, tracks our incomes, so that when it comes time to claim benefits, we’re not submitting pay stubs from a lifetime of work. </font><font style=\"background-color: #E1F8DC;\">Something as small as requiring a log-in for a government website creates a barrier for people without computers who can’t remember and juggle a bunch of passwords. “Any kind of barriers are amplified when people are stressed,” Eric Giannella, the organization’s data science director, noted. Instead, Code for America uses smart links that allow people to authenticate themselves without a log-in. </font><font style=\"background-color: #D6CDEA;\">But Code for America “does want to put itself out of business,” Mr. Giannella said. The point is not to do it for government, but to push government to do things better. “Sometimes,” Tracey Patterson, the vice president of Code for America, told me, “the idea that everything needs to change in order for it to be better is the easiest way for nothing to get done.” </font><br/><br/><hr><br/><h2>Text</h2><br><font style=\"background-color: #FEF8DD;\">China has done everything in its power to keep the virus outside its borders and protect its people — almost. </font><font style=\"background-color: #E1F8DC;\">It has kept cases and deaths remarkably low through a “zero-Covid” strategy that has involved tracking and tracing every case, closed its borders and locked down cities of millions of people. It fostered domestic vaccines that allowed the country to carry out a massive inoculation effort. </font><font style=\"background-color: #D6CDEA;\">But two years into the pandemic, China’s 1.4 billion people still don’t have access to one of the most effective coronavirus vaccines the world has to offer. Those vaccines use the breakthrough mRNA technology that was developed and approved in the West, and they have been embraced by dozens of countries. </font><font style=\"background-color: #E1F8DC;\">The effectiveness of Chinese vaccines has been in doubt — partly because they use a century-old method for inoculation. Last spring, the country said it would approve BioNTech, the German mRNA shot made in partnership with Pfizer. Months later, China said that it was also close to producing its own mRNA vaccine. Neither are available today. </font><font style=\"background-color: #E1F8DC;\">China’s lack of an mRNA shot — and its delay in approving a viable foreign option — has poked holes in Beijing’s victorious pandemic narrative and prompted experts to question whether the country’s go-it-alone approach is less triumphant than officials would have the world believe. </font><font style=\"background-color: #E1F8DC;\">Under Xi Jinping, China’s top leader, the country has turned more inward, promoting self-reliance and championing development in areas like semiconductors and other technology. The delay in recognizing a foreign mRNA vaccine now appears to be a part of that deeply political exercise. </font><font style=\"background-color: #E1F8DC;\">China is so committed to competing with the United States and the West on science and technology that some in the scientific community say it is hard to imagine that the state hasn’t pulled out all the stops to develop a homegrown mRNA vaccine. That China has fallen behind on that front, and failed to approve a readily available foreign option, has left many experts baffled. </font><font style=\"background-color: #E1F8DC;\">“We don’t know how decisions are made nowadays in China, but a better vaccine would definitely help in maintaining a zero-Covid policy,” said Jin Dongyan, a virologist at the University of Hong Kong who has urged his peers in mainland China to approve the BioNTech vaccine. </font><font style=\"background-color: #E1F8DC;\">“They are presenting to the world that they are doing well in vaccine development,” he said of officials in Beijing. “And it would be embarrassing for them to show the opposite to the Chinese people.” </font><font style=\"background-color: #E1F8DC;\">China says its virus policies, which include strict lockdowns, have prevented millions of people from getting sick. But as a consequence, scientists say, the population has not built up enough natural immunity to help fight severe infection, making reliable vaccines even more crucial. And there is slowly mounting pressure on the country to pursue a new approach. </font><font style=\"background-color: #ACDDDE;\">In recent months, officials have begun openly discussing the need to introduce better vaccine technology. “We should learn about the good things in other countries, such as mRNA vaccines,” Zhong Nanshan, China’s top respiratory scientist, said at a conference in December. “They have spent years on the research and managed to develop mRNA vaccines in just a few months.” </font><font style=\"background-color: #E1F8DC;\">China last week approved for emergency use a Covid-19 pill made by Pfizer called Paxlovid, a move that some experts said could help change Beijing’s pandemic strategy. </font><font style=\"background-color: #E1F8DC;\">It wasn’t that long ago that China appeared ready to introduce an mRNA vaccine for Covid-19. Shanghai Fosun Pharmaceutical, BioNTech’s Chinese partner, told investors last year that regulators would approve its mRNA vaccine for use in China by July 2021. The company, which had conducted clinical trials in late 2020, said that it could make as many as a billion doses a year. </font><font style=\"background-color: #E1F8DC;\">That optimism has since faded. Chinese authorities now say they are still reviewing documents in order to “make a final decision on the approval of our vaccine,” a spokeswoman for BioNTech said. </font><font style=\"background-color: #FEF8DD;\">Fosun did not respond to a request for comment. </font><font style=\"background-color: #E1F8DC;\">The approval process for Sinopharm and Sinovac — which manufacture the vaccines that are available in China — looked much different. Chinese regulators changed the rules to allow both Chinese drugmakers to submit their trial data behind schedule. Sinopharm’s vaccine was approved a week after the company filed its application, in December 2020. </font><font style=\"background-color: #E1F8DC;\">Vaccines from Sinovac and Sinopharm help prevent hospitalization and death, but their ability to reduce transmission with variants such as Omicron is still in question. Sinovac has shown to be only 51 percent effective against preventing symptomatic disease, according to scientists in Brazil. The World Health Organization said Sinopharm has an efficacy of 78 percent. </font><font style=\"background-color: #FEF8DD;\">Though the W.H.O. has signed off on both Chinese vaccines for emergency use, most Western governments favor mRNA technology. </font><font style=\"background-color: #E1F8DC;\">As approval for BioNTech languished, China said that it was close to producing a homegrown mRNA shot called ARCoVax. Two private drugmakers and China’s Academy of Military Medical Sciences said they were preparing to make 200 million doses by October, a Communist Party newspaper reported in September. </font><font style=\"background-color: #FEF8DD;\">Had that happened, it would have been a remarkable achievement for China. </font><font style=\"background-color: #E1F8DC;\">Unlike traditional vaccines that use an inactivated virus to trigger a response by the immune system, mRNA vaccines use a genetic molecule that assists cells to make proteins that can set off an immune response in the body. This response creates antibodies that are then used to fight the virus. </font><font style=\"background-color: #E1F8DC;\">The first mRNA vaccines for the coronavirus were based on research conducted over decades by scientists in different parts of the world. It took the Western pharmaceutical companies Pfizer, BioNTech and Moderna just over a year to take those advances and apply them to a new kind of vaccine able to prevent serious illness and death from Covid-19. </font><font style=\"background-color: #E1F8DC;\">The final version of the mRNA vaccines produced by Pfizer and Moderna came together with the help of a multibillion dollar program under the Trump administration called Operation Warp Speed. The Food and Drug Administration determined in 2020 that the BioNTech vaccine has an efficacy rate of 95 percent. </font><font style=\"background-color: #E1F8DC;\">“This is not trivial technology,” said John P. Moore, a virologist at Weill Cornell Medicine. “So trying to reverse engineer it from scratch is one of those things where you ask, ‘What could possibly go wrong?’” </font><font style=\"background-color: #E1F8DC;\">If China is pursing a program similar to Operation Warp Speed, it has not said anything about it publicly. One of the private companies helping to develop ARCoVax is Suzhou Abogen, a start-up founded in 2019 by a scientist who used to work at Moderna. Before the pandemic, Abogen was developing mRNA drugs for cancer, one of China’s biggest epidemics. </font><font style=\"background-color: #E1F8DC;\">The other drugmaker, Walvax, is a publicly listed pharmaceutical group. The two companies’ partnership with the Chinese Academy of Military Medical Sciences suggests strong government backing, though Beijing has not mentioned an official collaboration. </font><font style=\"background-color: #E1F8DC;\">Last year, the United States added the Chinese Academy of Military Medical Sciences to an entity list, a federal trade restriction list, accusing it of using biotechnology to support activities like “brain control weaponry.” The designation would make it difficult to export any final vaccine product it develops. </font><font style=\"background-color: #E1F8DC;\">Researchers recently published the details of an initial trial of the ARCoVax vaccine involving 120 volunteers. They found it to be safe, and said it produced a moderate level of antibodies but caused more side effects, like fever, than the BioNTech shot. </font><font style=\"background-color: #E1F8DC;\">Abogen and Walvax did not respond to requests for comment. A senior executive at Walvax told Reuters last month that it had recruited 28,000 people for a large, Phase 3 clinical trial. ARCoVax is also being tested as a booster. </font><font style=\"background-color: #E1F8DC;\">One recent study showed that two doses of Sinovac boosted with an mRNA shot offered strong antibody protection against both the Delta and Omicron variants. But it is still unclear when the ARCoVax vaccine will be available in China. </font><font style=\"background-color: #FEF8DD;\">And as the weeks go by, approval for BioNTech seems to grow more elusive. </font><font style=\"background-color: #E1F8DC;\">“It’s very difficult to predict actually when we will get approval,” said Sean Marett, chief business and commercial officer of BioNTech, speaking at a health care conference last month. “But China remains for us an extremely important market,” he added. “We’re very, very committed to it.” </font><br/><br/><hr><br/><h2>Text</h2><br><font style=\"background-color: #FEF8DD;\">This article is published with ProPublica, the nonprofit investigative newsroom. </font><font style=\"background-color: #E1F8DC;\">BEIJING — Inside the Potemkin village of China’s propaganda, the Winter Olympics have unfolded as an unalloyed success, a celebration of sports and political harmony that has obscured — critics say whitewashed — the country’s flaws and rights abuses. </font><font style=\"background-color: #E1F8DC;\">At Beijing 2022, the hills are snowy, not brown as usual this time of year. A Uyghur skier is the symbol of national unity, the tennis player Peng Shuai just a curious spectator. Athletes and foreign journalists praise the polite volunteers and marvel at the high-speed trains and the robots that boil dumplings and mix drinks. </font><font style=\"background-color: #FEF8DD;\">While China’s control of what its domestic viewers and readers consume is well established, the country has spread its own version of the Games beyond its borders, with an arsenal of digital tools that are giving China’s narrative arguably greater reach and more subtlety than ever before. </font><font style=\"background-color: #E1F8DC;\">With bots, fake accounts, genuine influencers and other tools, China has been able to selectively edit how the events have appeared, even outside the country, promoting everything that bolsters the official, feel-good story about the Winter Olympics and trying to smother whatever doesn’t. </font><font style=\"background-color: #E1F8DC;\">“For the Chinese Communist Party, the Winter Olympics are inseparable from the broader political goal of building up the country’s national image,” said David Bandurski, director of the China Media Project, a monitoring organization. Referring to the country’s leader, he added: “This is what Xi Jinping has called ‘telling China’s story well.’” </font><font style=\"background-color: #E1F8DC;\">On Twitter, which is banned in China, Chinese state media outlets and journalists, as well as diplomats, have tried to buff the image of the Games, raving about venues and cooing over the Olympic mascot. </font><font style=\"background-color: #E1F8DC;\">China has also sought to influence online discussions in more concealed ways. The New York Times and ProPublica identified a network of more than 3,000 inauthentic-looking Twitter accounts that appeared to be coordinating to promote the Olympics by sharing state media posts with identical comments, for instance. Such accounts tended to be recently created with very few followers, tweeted mostly reposts and nothing of their own, and appeared to operate solely to amplify official Chinese voices. </font><font style=\"background-color: #E1F8DC;\">Some of their efforts have centered on an account called Spicy Panda, which has been posting cartoons and videos to push back against calls for a boycott of the Olympics. In one cartoon, Spicy Panda accused the United States of wielding “its deceiving propaganda weapon to stain the Olympics.” </font><font style=\"background-color: #E1F8DC;\">The tweet was reposted 281 times, all by the fake-looking accounts, but received little other engagement, a strong indication that the network was mobilized to promote the message. Aside from the bursts of promotion, Spicy Panda’s posts about the Olympics received almost no attention. </font><font style=\"background-color: #E1F8DC;\">An analysis of Spicy Panda’s supporters turned up 861 accounts — 90 percent of which were created after Dec. 1. The accounts’ first wave of coordinated posts pushed Beijing’s stance that Hong Kong’s legislative council elections were legitimate, though critics have called the vote a sham. Then the accounts turned their attention to the Olympics. (By Thursday, all but one of the accounts had been suspended, shortly after The Times and ProPublica asked Twitter about them.) </font><font style=\"background-color: #E1F8DC;\">Spicy Panda appears to have a connection with iChongqing, a state media-linked multimedia platform based in Chongqing, a city in central China. The accounts that shared Spicy Panda’s posts often did the same with tweets by iChongqing’s account. IChongqing did not immediately respond to a request for comment. </font><font style=\"background-color: #FEF8DD;\">Other botlike accounts promoted hashtags that seemed aimed at drowning out criticism of China, a hallmark of previous campaigns. </font><font style=\"background-color: #E1F8DC;\">They promoted content under hashtags like #Beijing2022 and #TogetherForASharedFuture, this year’s official Olympic motto. Some accounts repeatedly posted tweets with identical wording, such as: “China’s hosting of the #Beijing2022 as scheduled has boosted the world’s confidence in defeating the pandemic.” </font><font style=\"background-color: #E1F8DC;\">Twitter said in an emailed statement that it had suspended hundreds of the accounts identified by The Times and ProPublica for violations of its platform manipulation and spam policies. It said it was continuing to investigate the accounts’ links to state-backed information operations. </font><font style=\"background-color: #E1F8DC;\">Even the Games’ official mascot, Bing Dwen Dwen, a cuddly panda in a suit of ice, has been the subject of an organized campaign on Twitter, according to Albert Zhang, a researcher at the Australian Strategic Policy Institute’s International Cyber Policy Center. </font><font style=\"background-color: #E1F8DC;\">Thousands of new or previously inactive accounts have helped the mascot go viral, he said — which China’s state media presented as evidence of the mascot’s popularity and, by extension, that of the Games. </font><font style=\"background-color: #E1F8DC;\">“If you want to push out a lot of content on something like the Beijing Olympics, this is an easy way to do it,” Mr. Zhang said. He added that the campaign now underway was like others sponsored by the Chinese state to push Beijing’s narrative on topics such as Covid-19 and the crackdown on Uyghur Muslims in Xinjiang. </font><font style=\"background-color: #FEF8DD;\">The information space inside China is not unlike the elaborate measures that have created the “closed loop” that keeps athletes, journalists and other participants strictly segregated from the general public. </font><font style=\"background-color: #E1F8DC;\">Inside the “closed loop” of official propaganda, the state carefully curates almost anything ordinary Chinese people see or read. The effect has been an Olympics free of scandal or criticism or bad news. </font><font style=\"background-color: #E1F8DC;\">When the United States men’s hockey team played an overmatched Chinese team, the game was not shown on the main state television sports channel, CCTV 5, and the 8-0 defeat was mentioned only glancingly in news reports. A state media slide show devoted to the men’s figure skating competition conspicuously omitted the gold medalist, Nathan Chen of the United States. </font><font style=\"background-color: #E1F8DC;\">In Chinese footage of the Games, the mountains where many competitions are being held have been deftly framed to exclude the dry, brown slopes in the background, until Day 8 when a snowstorm covered them in a frosting of white. </font><font style=\"background-color: #E1F8DC;\">One of the biggest political stories of these Games has also unfolded outside China’s internet firewall: the appearance of Peng Shuai, the professional tennis player and three-time Olympian who created a furor when she accused a senior Communist Party leader of sexually assaulting her. </font><font style=\"background-color: #E1F8DC;\">The president of the International Olympic Committee, Thomas Bach, met her for dinner, as he promised he would when the global outcry over her fate threatened to overshadow the Games. Ms. Peng has appeared at curling and figure skating, among other events. None of that was shown inside China, where all references to her accusations have been erased, including later statements attributed to her, saying she had been misunderstood. </font><font style=\"background-color: #E1F8DC;\">“It’s absolutely critical to understand that this is not just another narrative,” Mr. Bandurski of the China Media Project said of the Olympics. “It’s a narrative that implies widespread censorship and the manipulation of public opinion, which is actually policy.” </font><font style=\"background-color: #E1F8DC;\">Jack Stubbs, vice president of intelligence at Graphika, a social media monitoring company, said his firm had observed another Chinese propaganda network using foreign social media platforms. </font><font style=\"background-color: #E1F8DC;\">The network has spread videos emphasizing the Olympics as environmentally friendly and crooning about strengthening Chinese-Russian ties, punctuated by President Vladimir V. Putin’s attendance at the opening ceremony. </font><font style=\"background-color: #E1F8DC;\">China has defended its use of Twitter and Facebook, platforms that it bans at home. A foreign ministry spokeswoman, Hua Chunying, said last year that such sites were an “extra channel” to combat negative portrayals in the West. </font><font style=\"background-color: #E1F8DC;\">One American company, Vippi Media, based in New Jersey, signed a $300,000 contract with the consulate general of China in New York to help promote the Games, according to the company’s filing with the Justice Department under the Foreign Agents Registration Act. </font><font style=\"background-color: #E1F8DC;\">Under the contract, first reported by the research group Open Secrets, the company has been promoting the Games by recruiting “social media stars” to post on Instagram, YouTube and TikTok, the company’s founder, Vipinder Jaswal, said in a telephone interview. </font><font style=\"background-color: #E1F8DC;\">“They were very clear and I was very clear that it’s about the Olympics and the Olympics only, nothing to do with politics,” he said. </font><font style=\"background-color: #E1F8DC;\">Once the Games began, the drama of the sports themselves dominated attention. Protests over China’s human rights record have not materialized, as some activists hoped. On the contrary, many athletes have heaped praise.  </font><font style=\"background-color: #E1F8DC;\">“When you really meet the people here and talk to them,” Jenise Spiteri, the American snowboarder competing for Malta, said in a state media interview, “everyone has a very good heart.” </font><font style=\"background-color: #E1F8DC;\">Spicy Panda tweeted a state media report about another American competitor, the freestyle skier Aaron Blunck. In remarks posted by the official China Daily newspaper, Mr. Blunck praised China’s Covid protocols. </font><font style=\"background-color: #E1F8DC;\">“#AaronBlunck revealed the real China that is totally different from what some American media have said!” Spicy Panda’s post read. </font><br/><br/><hr><br/>"
      ],
      "text/plain": [
       "<IPython.core.display.HTML object>"
      ]
     },
     "execution_count": 36,
     "metadata": {},
     "output_type": "execute_result"
    }
   ],
   "source": [
    "labels = ['Lead', 'Position', 'Evidence', 'Claim', 'Concluding Statement', 'Counterclaim', 'Rebuttal']\n",
    "colors = [\"#ACDDDE\", \"#CAF1DE\", \"#E1F8DC\", \"#FEF8DD\", \"#FFE7C7\", \"#F7D8BA\", \"#D6CDEA\"]\n",
    "\n",
    "\n",
    "s = \"<h2>Legend</h2><br>\"\n",
    "for label, color in zip(labels, colors):\n",
    "    s += \"<font style=\\\"background-color: %s;\\\">%s</font><br>\" % (color, label)\n",
    "s += \"<br/><br/><br/>\"\n",
    "\n",
    "for df in dfs:\n",
    "    s += \"<h2>Text</h2><br>\"\n",
    "\n",
    "    for txt,lbl in zip(df.text.tolist(),df.label.tolist()):\n",
    "\n",
    "        s += \"<font style=\\\"background-color: %s;\\\">%s </font>\" % (colors[labels.index(lbl)], txt)\n",
    "    s += \"<br/><br/><hr><br/>\"\n",
    "\n",
    "HTML(s)"
   ]
  },
  {
   "cell_type": "code",
   "execution_count": null,
   "id": "da094120",
   "metadata": {},
   "outputs": [],
   "source": []
  }
 ],
 "metadata": {
  "kernelspec": {
   "display_name": "Python 3 (ipykernel)",
   "language": "python",
   "name": "python3"
  },
  "language_info": {
   "codemirror_mode": {
    "name": "ipython",
    "version": 3
   },
   "file_extension": ".py",
   "mimetype": "text/x-python",
   "name": "python",
   "nbconvert_exporter": "python",
   "pygments_lexer": "ipython3",
   "version": "3.9.7"
  },
  "toc": {
   "base_numbering": 1,
   "nav_menu": {},
   "number_sections": true,
   "sideBar": true,
   "skip_h1_title": false,
   "title_cell": "Table of Contents",
   "title_sidebar": "Contents",
   "toc_cell": false,
   "toc_position": {},
   "toc_section_display": true,
   "toc_window_display": false
  },
  "varInspector": {
   "cols": {
    "lenName": 16,
    "lenType": 16,
    "lenVar": 40
   },
   "kernels_config": {
    "python": {
     "delete_cmd_postfix": "",
     "delete_cmd_prefix": "del ",
     "library": "var_list.py",
     "varRefreshCmd": "print(var_dic_list())"
    },
    "r": {
     "delete_cmd_postfix": ") ",
     "delete_cmd_prefix": "rm(",
     "library": "var_list.r",
     "varRefreshCmd": "cat(var_dic_list()) "
    }
   },
   "types_to_exclude": [
    "module",
    "function",
    "builtin_function_or_method",
    "instance",
    "_Feature"
   ],
   "window_display": false
  }
 },
 "nbformat": 4,
 "nbformat_minor": 5
}
